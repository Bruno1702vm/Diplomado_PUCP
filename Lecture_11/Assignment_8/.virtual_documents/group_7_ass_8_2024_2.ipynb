








pwd





!pip install rasterio
!pip install geopandas matplotlib shapely rasterio numpy pandas sklearn-xarray -q
!pip install ipywidgets
!pip install jupyterlab
!jupyter labextension install @jupyterlab/git
!pip install rasterstats
!pip install geopandas matplotlib shapely rasterio numpy pandas sklearn-xarray -q
!pip install git+https://github.com/jgrss/geowombat  -q


!pip install git+https://github.com/jgrss/geowombat  -q


import geopandas as gpd
import rasterio
from rasterio.merge import merge
from rasterio.plot import show
from shapely.geometry import mapping
import rasterio
from pathlib import Path
import matplotlib.pyplot as plt
import matplotlib.patheffects as pe
import os
from rasterio.mask import mask
from rasterstats import zonal_stats
import pandas as pd
import geowombat as gw





# Shapefile
departamentos_path = r'../../_data/INEI_LIMITE_DEPARTAMENTAL'
gdf_departamentos = gpd.read_file(departamentos_path)
print(gdf_departamentos.head())


from google.colab import drive
drive.mount('/content/drive')


# from collab
raster = ["drive/content/diplomado/assignment_10/tif_files/GHS_BUILT_C_MSZ_E2018_GLOBE_R2023A_54009_10_V1_0_R10_C11.tif",
          "drive/content/diplomado/assignment_10/tif_files/GHS_BUILT_C_MSZ_E2018_GLOBE_R2023A_54009_10_V1_0_R10_C12.tif",
          "drive/content/diplomado/assignment_10/tif_files/GHS_BUILT_C_MSZ_E2018_GLOBE_R2023A_54009_10_V1_0_R11_C11.tif",
          "drive/content/diplomado/assignment_10/tif_files/GHS_BUILT_C_MSZ_E2018_GLOBE_R2023A_54009_10_V1_0_R11_C12.tif",
          "drive/content/diplomado/assignment_10/tif_files/GHS_BUILT_C_MSZ_E2018_GLOBE_R2023A_54009_10_V1_0_R12_C11.tif",
          "drive/content/diplomado/assignment_10/tif_files/GHS_BUILT_C_MSZ_E2018_GLOBE_R2023A_54009_10_V1_0_R12_C12.tif"
         ]
statistics = []


for raster_path in raster:
    # zonal_stats
    stats = zonal_stats(gdf_departamentos, raster_path, stats="count sum", categorical=True, all_touched=True)
    # df
    stats_df = pd.DataFrame(stats)
    # concat 
    df = pd.concat([gdf_departmentos.reset_index(drop=True), stats_df], axis=1)
    statistics.append(df)


# concat all dfs
end_df = pd.concat(statistics, ignore_index=True)
print(end_df.head())
# NaN to 0
end_df.fillna(0, inplace=True)
