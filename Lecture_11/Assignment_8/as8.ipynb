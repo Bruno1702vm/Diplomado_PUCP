{
 "cells": [
  {
   "cell_type": "code",
   "execution_count": 3,
   "id": "355cfb8d",
   "metadata": {},
   "outputs": [
    {
     "name": "stdout",
     "output_type": "stream",
     "text": [
      "Requirement already satisfied: rasterio in c:\\users\\karla\\anaconda3\\envs\\geopandas_env\\lib\\site-packages (1.3.11)\n",
      "Requirement already satisfied: geopandas in c:\\users\\karla\\anaconda3\\envs\\geopandas_env\\lib\\site-packages (1.0.1)\n",
      "Requirement already satisfied: folium in c:\\users\\karla\\anaconda3\\envs\\geopandas_env\\lib\\site-packages (0.17.0)\n",
      "Collecting mapclassify\n",
      "  Downloading mapclassify-2.8.0-py3-none-any.whl.metadata (2.8 kB)\n",
      "Requirement already satisfied: affine in c:\\users\\karla\\anaconda3\\envs\\geopandas_env\\lib\\site-packages (from rasterio) (2.4.0)\n",
      "Requirement already satisfied: attrs in c:\\users\\karla\\anaconda3\\envs\\geopandas_env\\lib\\site-packages (from rasterio) (23.1.0)\n",
      "Requirement already satisfied: certifi in c:\\users\\karla\\anaconda3\\envs\\geopandas_env\\lib\\site-packages (from rasterio) (2024.7.4)\n",
      "Requirement already satisfied: click>=4.0 in c:\\users\\karla\\anaconda3\\envs\\geopandas_env\\lib\\site-packages (from rasterio) (8.1.7)\n",
      "Requirement already satisfied: cligj>=0.5 in c:\\users\\karla\\anaconda3\\envs\\geopandas_env\\lib\\site-packages (from rasterio) (0.7.2)\n",
      "Requirement already satisfied: numpy in c:\\users\\karla\\anaconda3\\envs\\geopandas_env\\lib\\site-packages (from rasterio) (2.0.2)\n",
      "Requirement already satisfied: snuggs>=1.4.1 in c:\\users\\karla\\anaconda3\\envs\\geopandas_env\\lib\\site-packages (from rasterio) (1.4.7)\n",
      "Requirement already satisfied: click-plugins in c:\\users\\karla\\anaconda3\\envs\\geopandas_env\\lib\\site-packages (from rasterio) (1.1.1)\n",
      "Requirement already satisfied: setuptools in c:\\users\\karla\\anaconda3\\envs\\geopandas_env\\lib\\site-packages (from rasterio) (72.1.0)\n",
      "Requirement already satisfied: importlib-metadata in c:\\users\\karla\\anaconda3\\envs\\geopandas_env\\lib\\site-packages (from rasterio) (7.0.1)\n",
      "Requirement already satisfied: pyogrio>=0.7.2 in c:\\users\\karla\\anaconda3\\envs\\geopandas_env\\lib\\site-packages (from geopandas) (0.9.0)\n",
      "Requirement already satisfied: packaging in c:\\users\\karla\\anaconda3\\envs\\geopandas_env\\lib\\site-packages (from geopandas) (24.1)\n",
      "Requirement already satisfied: pandas>=1.4.0 in c:\\users\\karla\\anaconda3\\envs\\geopandas_env\\lib\\site-packages (from geopandas) (2.2.2)\n",
      "Requirement already satisfied: pyproj>=3.3.0 in c:\\users\\karla\\anaconda3\\envs\\geopandas_env\\lib\\site-packages (from geopandas) (3.6.1)\n",
      "Requirement already satisfied: shapely>=2.0.0 in c:\\users\\karla\\anaconda3\\envs\\geopandas_env\\lib\\site-packages (from geopandas) (2.0.6)\n",
      "Requirement already satisfied: branca>=0.6.0 in c:\\users\\karla\\anaconda3\\envs\\geopandas_env\\lib\\site-packages (from folium) (0.7.2)\n",
      "Requirement already satisfied: jinja2>=2.9 in c:\\users\\karla\\anaconda3\\envs\\geopandas_env\\lib\\site-packages (from folium) (3.1.4)\n",
      "Requirement already satisfied: requests in c:\\users\\karla\\anaconda3\\envs\\geopandas_env\\lib\\site-packages (from folium) (2.32.3)\n",
      "Requirement already satisfied: xyzservices in c:\\users\\karla\\anaconda3\\envs\\geopandas_env\\lib\\site-packages (from folium) (2024.9.0)\n",
      "Collecting networkx>=2.7 (from mapclassify)\n",
      "  Downloading networkx-3.2.1-py3-none-any.whl.metadata (5.2 kB)\n",
      "Requirement already satisfied: scikit-learn>=1.0 in c:\\users\\karla\\anaconda3\\envs\\geopandas_env\\lib\\site-packages (from mapclassify) (1.5.2)\n",
      "Requirement already satisfied: scipy>=1.8 in c:\\users\\karla\\anaconda3\\envs\\geopandas_env\\lib\\site-packages (from mapclassify) (1.13.1)\n",
      "Requirement already satisfied: colorama in c:\\users\\karla\\anaconda3\\envs\\geopandas_env\\lib\\site-packages (from click>=4.0->rasterio) (0.4.6)\n",
      "Requirement already satisfied: MarkupSafe>=2.0 in c:\\users\\karla\\anaconda3\\envs\\geopandas_env\\lib\\site-packages (from jinja2>=2.9->folium) (2.1.3)\n",
      "Requirement already satisfied: python-dateutil>=2.8.2 in c:\\users\\karla\\anaconda3\\envs\\geopandas_env\\lib\\site-packages (from pandas>=1.4.0->geopandas) (2.9.0.post0)\n",
      "Requirement already satisfied: pytz>=2020.1 in c:\\users\\karla\\anaconda3\\envs\\geopandas_env\\lib\\site-packages (from pandas>=1.4.0->geopandas) (2024.1)\n",
      "Requirement already satisfied: tzdata>=2022.7 in c:\\users\\karla\\anaconda3\\envs\\geopandas_env\\lib\\site-packages (from pandas>=1.4.0->geopandas) (2024.1)\n",
      "Requirement already satisfied: joblib>=1.2.0 in c:\\users\\karla\\anaconda3\\envs\\geopandas_env\\lib\\site-packages (from scikit-learn>=1.0->mapclassify) (1.4.2)\n",
      "Requirement already satisfied: threadpoolctl>=3.1.0 in c:\\users\\karla\\anaconda3\\envs\\geopandas_env\\lib\\site-packages (from scikit-learn>=1.0->mapclassify) (3.5.0)\n",
      "Requirement already satisfied: pyparsing>=2.1.6 in c:\\users\\karla\\anaconda3\\envs\\geopandas_env\\lib\\site-packages (from snuggs>=1.4.1->rasterio) (3.1.4)\n",
      "Requirement already satisfied: zipp>=0.5 in c:\\users\\karla\\anaconda3\\envs\\geopandas_env\\lib\\site-packages (from importlib-metadata->rasterio) (3.17.0)\n",
      "Requirement already satisfied: charset-normalizer<4,>=2 in c:\\users\\karla\\anaconda3\\envs\\geopandas_env\\lib\\site-packages (from requests->folium) (3.3.2)\n",
      "Requirement already satisfied: idna<4,>=2.5 in c:\\users\\karla\\anaconda3\\envs\\geopandas_env\\lib\\site-packages (from requests->folium) (3.7)\n",
      "Requirement already satisfied: urllib3<3,>=1.21.1 in c:\\users\\karla\\anaconda3\\envs\\geopandas_env\\lib\\site-packages (from requests->folium) (2.2.2)\n",
      "Requirement already satisfied: six>=1.5 in c:\\users\\karla\\anaconda3\\envs\\geopandas_env\\lib\\site-packages (from python-dateutil>=2.8.2->pandas>=1.4.0->geopandas) (1.16.0)\n",
      "Downloading mapclassify-2.8.0-py3-none-any.whl (58 kB)\n",
      "Downloading networkx-3.2.1-py3-none-any.whl (1.6 MB)\n",
      "   ---------------------------------------- 0.0/1.6 MB ? eta -:--:--\n",
      "   ---------------------------------------- 1.6/1.6 MB 22.3 MB/s eta 0:00:00\n",
      "Installing collected packages: networkx, mapclassify\n",
      "Successfully installed mapclassify-2.8.0 networkx-3.2.1\n",
      "Note: you may need to restart the kernel to use updated packages.\n"
     ]
    }
   ],
   "source": [
    "pip install rasterio geopandas folium mapclassify"
   ]
  },
  {
   "cell_type": "code",
   "execution_count": 4,
   "id": "77435674",
   "metadata": {},
   "outputs": [
    {
     "ename": "ImportError",
     "evalue": "cannot import name 'natural_breaks' from 'mapclassify' (C:\\Users\\Karla\\anaconda3\\envs\\geopandas_env\\lib\\site-packages\\mapclassify\\__init__.py)",
     "output_type": "error",
     "traceback": [
      "\u001b[1;31m---------------------------------------------------------------------------\u001b[0m",
      "\u001b[1;31mImportError\u001b[0m                               Traceback (most recent call last)",
      "Cell \u001b[1;32mIn[4], line 8\u001b[0m\n\u001b[0;32m      6\u001b[0m \u001b[38;5;28;01mfrom\u001b[39;00m \u001b[38;5;21;01mshapely\u001b[39;00m\u001b[38;5;21;01m.\u001b[39;00m\u001b[38;5;21;01mgeometry\u001b[39;00m \u001b[38;5;28;01mimport\u001b[39;00m mapping\n\u001b[0;32m      7\u001b[0m \u001b[38;5;28;01mfrom\u001b[39;00m \u001b[38;5;21;01mrasterio\u001b[39;00m\u001b[38;5;21;01m.\u001b[39;00m\u001b[38;5;21;01mfeatures\u001b[39;00m \u001b[38;5;28;01mimport\u001b[39;00m geometry_mask\n\u001b[1;32m----> 8\u001b[0m \u001b[38;5;28;01mfrom\u001b[39;00m \u001b[38;5;21;01mmapclassify\u001b[39;00m \u001b[38;5;28;01mimport\u001b[39;00m natural_breaks\n",
      "\u001b[1;31mImportError\u001b[0m: cannot import name 'natural_breaks' from 'mapclassify' (C:\\Users\\Karla\\anaconda3\\envs\\geopandas_env\\lib\\site-packages\\mapclassify\\__init__.py)"
     ]
    }
   ],
   "source": [
    "import geopandas as gpd\n",
    "import rasterio\n",
    "import rasterio.mask\n",
    "import numpy as np\n",
    "import folium\n",
    "from shapely.geometry import mapping\n",
    "from rasterio.features import geometry_mask\n",
    "from mapclassify import natural_breaks"
   ]
  },
  {
   "cell_type": "code",
   "execution_count": null,
   "id": "e0b66432",
   "metadata": {},
   "outputs": [],
   "source": [
    "# Cargar los shapefiles de los departamentos de Perú\n",
    "base = open(r'../../_data/INEI_LIMITE_DEPARTAMENTAL', 'rb').read()\n",
    "gdf_departments = gpd.read_file(base)\n",
    "\n",
    "# Cargar el ráster (asegúrate de que el archivo esté descargado en tu computadora)\n",
    "raster_path = \"builtC.tif\"  # Si el archivo no está local, descárgalo desde el enlace proporcionado.\n",
    "with rasterio.open(raster_path) as src:\n",
    "    raster_data = src.read(1)\n",
    "    raster_transform = src.transform\n",
    "    raster_crs = src.crs"
   ]
  },
  {
   "cell_type": "code",
   "execution_count": null,
   "id": "a4678bed",
   "metadata": {},
   "outputs": [],
   "source": [
    "# Función para extraer porcentaje de área cubierta por cada polígono (departamento)\n",
    "def extract_area_coverage(shapefile, raster_data, raster_transform):\n",
    "    results = []\n",
    "    \n",
    "    for _, row in shapefile.iterrows():\n",
    "        # Extraer geometría del polígono\n",
    "        geometry = [mapping(row['geometry'])]\n",
    "        \n",
    "        # Máscara para extraer la parte del ráster que intersecta con el polígono\n",
    "        out_image, out_transform = rasterio.mask.mask(src, geometry, crop=True)\n",
    "        \n",
    "        # Calcular el porcentaje de área cubierta por la zona morfológica\n",
    "        total_pixels = np.count_nonzero(out_image)\n",
    "        covered_pixels = np.count_nonzero(out_image > 0)  # Suponiendo que los píxeles cubiertos tienen valor mayor que 0\n",
    "        \n",
    "        percentage_covered = (covered_pixels / total_pixels) * 100 if total_pixels > 0 else 0\n",
    "        results.append(percentage_covered)\n",
    "    \n",
    "    shapefile['area_coverage'] = results\n",
    "    return shapefile"
   ]
  },
  {
   "cell_type": "code",
   "execution_count": null,
   "id": "5a005be7",
   "metadata": {},
   "outputs": [],
   "source": [
    "# Extraer porcentaje de área cubierta por cada departamento\n",
    "gdf_departments_with_coverage = extract_area_coverage(gdf_departments, raster_data, raster_transform)\n",
    "\n",
    "# Crear un mapa de coropletas usando Folium\n",
    "def create_choropleth(gdf, variable, output_html):\n",
    "\n",
    "# Crear un mapa base\n",
    "m = folium.Map(location=[-9.19, -75.0152], zoom_start=5)\n",
    "    \n",
    "# Añadir el mapa de coropletas\n",
    "folium.Choropleth(\n",
    "        geo_data=gdf.__geo_interface__,\n",
    "        name=\"choropleth\",\n",
    "        data=gdf,\n",
    "        columns=[\"NOMBDEP\", variable],\n",
    "        key_on=\"feature.properties.NOMBDEP\",\n",
    "        fill_color=\"YlGnBu\",\n",
    "        fill_opacity=0.7,\n",
    "        line_opacity=0.2,\n",
    "        legend_name=f\"% Área Cubierta - {variable}\",\n",
    "    ).add_to(m)"
   ]
  },
  {
   "cell_type": "code",
   "execution_count": null,
   "id": "ee7a4de3",
   "metadata": {},
   "outputs": [],
   "source": [
    "# Añadir el control de capas\n",
    "folium.LayerControl().add_to(m)\n",
    "    \n",
    "# Guardar el mapa como archivo HTML\n",
    "m.save(output_html)\n",
    "\n",
    "# Crear el mapa para el porcentaje de área cubierta\n",
    "output_html = \"departamentos_area_coverage.html\"\n",
    "create_choropleth(gdf_departments_with_coverage, \"area_coverage\", output_html)\n",
    "\n",
    "print(f\"Mapa guardado en {output_html}\")"
   ]
  }
 ],
 "metadata": {
  "kernelspec": {
   "display_name": "Python 3 (ipykernel)",
   "language": "python",
   "name": "python3"
  },
  "language_info": {
   "codemirror_mode": {
    "name": "ipython",
    "version": 3
   },
   "file_extension": ".py",
   "mimetype": "text/x-python",
   "name": "python",
   "nbconvert_exporter": "python",
   "pygments_lexer": "ipython3",
   "version": "3.9.19"
  }
 },
 "nbformat": 4,
 "nbformat_minor": 5
}
