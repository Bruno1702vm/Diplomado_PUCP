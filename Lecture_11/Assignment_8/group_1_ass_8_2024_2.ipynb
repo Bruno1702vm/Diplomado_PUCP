{
 "cells": [
  {
   "cell_type": "markdown",
   "id": "123a867e-0956-47ac-a04f-26dace4215a2",
   "metadata": {},
   "source": [
    "# Assignment 8 - Group 1"
   ]
  },
  {
   "cell_type": "markdown",
   "id": "b244b624-0614-4a0b-9404-19a33e702f82",
   "metadata": {},
   "source": [
    "**Group members** :\n",
    "- Max Chipani\n",
    "- Jesus Gamboa\n",
    "- Karen Salazar\n",
    "- Paolo Gutierrez\n",
    "- Luis Camarena"
   ]
  },
  {
   "cell_type": "code",
   "execution_count": 5,
   "id": "9ec0397e-1399-4bad-9a17-ba5c474f5568",
   "metadata": {},
   "outputs": [
    {
     "name": "stdout",
     "output_type": "stream",
     "text": [
      "Requirement already satisfied: geopandas in c:\\users\\jesus\\appdata\\local\\anaconda3\\lib\\site-packages (1.0.1)\n",
      "Requirement already satisfied: rasterio in c:\\users\\jesus\\appdata\\local\\anaconda3\\lib\\site-packages (1.3.11)\n",
      "Requirement already satisfied: rasterstats in c:\\users\\jesus\\appdata\\local\\anaconda3\\lib\\site-packages (0.19.0)\n",
      "Requirement already satisfied: numpy>=1.22 in c:\\users\\jesus\\appdata\\local\\anaconda3\\lib\\site-packages (from geopandas) (1.26.4)\n",
      "Requirement already satisfied: pyogrio>=0.7.2 in c:\\users\\jesus\\appdata\\local\\anaconda3\\lib\\site-packages (from geopandas) (0.9.0)\n",
      "Requirement already satisfied: packaging in c:\\users\\jesus\\appdata\\local\\anaconda3\\lib\\site-packages (from geopandas) (23.2)\n",
      "Requirement already satisfied: pandas>=1.4.0 in c:\\users\\jesus\\appdata\\local\\anaconda3\\lib\\site-packages (from geopandas) (2.2.2)\n",
      "Requirement already satisfied: pyproj>=3.3.0 in c:\\users\\jesus\\appdata\\local\\anaconda3\\lib\\site-packages (from geopandas) (3.6.1)\n",
      "Requirement already satisfied: shapely>=2.0.0 in c:\\users\\jesus\\appdata\\local\\anaconda3\\lib\\site-packages (from geopandas) (2.0.6)\n",
      "Requirement already satisfied: affine in c:\\users\\jesus\\appdata\\local\\anaconda3\\lib\\site-packages (from rasterio) (2.4.0)\n",
      "Requirement already satisfied: attrs in c:\\users\\jesus\\appdata\\local\\anaconda3\\lib\\site-packages (from rasterio) (24.2.0)\n",
      "Requirement already satisfied: certifi in c:\\users\\jesus\\appdata\\local\\anaconda3\\lib\\site-packages (from rasterio) (2024.7.4)\n",
      "Requirement already satisfied: click>=4.0 in c:\\users\\jesus\\appdata\\local\\anaconda3\\lib\\site-packages (from rasterio) (8.1.7)\n",
      "Requirement already satisfied: cligj>=0.5 in c:\\users\\jesus\\appdata\\local\\anaconda3\\lib\\site-packages (from rasterio) (0.7.2)\n",
      "Requirement already satisfied: snuggs>=1.4.1 in c:\\users\\jesus\\appdata\\local\\anaconda3\\lib\\site-packages (from rasterio) (1.4.7)\n",
      "Requirement already satisfied: click-plugins in c:\\users\\jesus\\appdata\\local\\anaconda3\\lib\\site-packages (from rasterio) (1.1.1)\n",
      "Requirement already satisfied: setuptools in c:\\users\\jesus\\appdata\\local\\anaconda3\\lib\\site-packages (from rasterio) (69.5.1)\n",
      "Requirement already satisfied: fiona in c:\\users\\jesus\\appdata\\local\\anaconda3\\lib\\site-packages (from rasterstats) (1.10.0)\n",
      "Requirement already satisfied: simplejson in c:\\users\\jesus\\appdata\\local\\anaconda3\\lib\\site-packages (from rasterstats) (3.19.3)\n",
      "Requirement already satisfied: colorama in c:\\users\\jesus\\appdata\\local\\anaconda3\\lib\\site-packages (from click>=4.0->rasterio) (0.4.6)\n",
      "Requirement already satisfied: python-dateutil>=2.8.2 in c:\\users\\jesus\\appdata\\local\\anaconda3\\lib\\site-packages (from pandas>=1.4.0->geopandas) (2.9.0.post0)\n",
      "Requirement already satisfied: pytz>=2020.1 in c:\\users\\jesus\\appdata\\local\\anaconda3\\lib\\site-packages (from pandas>=1.4.0->geopandas) (2024.1)\n",
      "Requirement already satisfied: tzdata>=2022.7 in c:\\users\\jesus\\appdata\\local\\anaconda3\\lib\\site-packages (from pandas>=1.4.0->geopandas) (2023.3)\n",
      "Requirement already satisfied: pyparsing>=2.1.6 in c:\\users\\jesus\\appdata\\local\\anaconda3\\lib\\site-packages (from snuggs>=1.4.1->rasterio) (3.0.9)\n",
      "Requirement already satisfied: six>=1.5 in c:\\users\\jesus\\appdata\\local\\anaconda3\\lib\\site-packages (from python-dateutil>=2.8.2->pandas>=1.4.0->geopandas) (1.16.0)\n"
     ]
    }
   ],
   "source": [
    "#The following command installs the geopandas, rasterio and rasterstats libraries.\n",
    "!pip install geopandas rasterio rasterstats"
   ]
  },
  {
   "cell_type": "code",
   "execution_count": 6,
   "id": "754cee5d-8e70-48cf-977d-a30d518996ee",
   "metadata": {},
   "outputs": [],
   "source": [
    "# Import bookstores\n",
    "import geopandas as gpd #Import the GeoPandas library to work with geospatial data in vector format (points, lines, polygons).\n",
    "import pandas as pd # Import pandas for data manipulation in the form of tables (DataFrames).\n",
    "import numpy as np # Import NumPy for numerical operations and array handling.\n",
    "import matplotlib.pyplot as plt # Import Matplotlib to create graphs and visualizations.\n",
    "import rasterio # Import raster to work with raster data (georeferenced images).\n",
    "import pyproj # paraImport pyproj for geographic coordinate projection.\n",
    "import glob # Import glob find files that match a specific pattern on the file system.\n",
    "# Importa Folium para crear mapas interactivos basados en Leaflet.js.\n",
    "import folium as fm # Import Folium to create interactive maps based on Leaflet.js.\n",
    "from rasterstats import zonal_stats # Import the zonal_stats function from rasterstats to calculate zonal statistics between raster and vector data.\n",
    "from shapely.ops import transform # Import shapely's transform function to transform geometries, such as changing the coordinate system."
   ]
  },
  {
   "cell_type": "markdown",
   "id": "6f32180c-b109-4f0e-8437-9c82dcce5702",
   "metadata": {},
   "source": [
    "## Question 1"
   ]
  },
  {
   "cell_type": "markdown",
   "id": "7bf546fd-8b89-430d-a266-db9f8b8d834b",
   "metadata": {},
   "source": [
    "Get the 15 variables from this raster for all Peru departments polygons. This is the link where shapefiles are located. This is the link of the source raster. The values should be the percentage of district area cover by this specific Morphological Settlement Zone."
   ]
  },
  {
   "cell_type": "code",
   "execution_count": 11,
   "id": "2cbd444f-5e08-4097-b59d-edaac3ffc93f",
   "metadata": {
    "scrolled": true
   },
   "outputs": [
    {
     "data": {
      "text/html": [
       "<div>\n",
       "<style scoped>\n",
       "    .dataframe tbody tr th:only-of-type {\n",
       "        vertical-align: middle;\n",
       "    }\n",
       "\n",
       "    .dataframe tbody tr th {\n",
       "        vertical-align: top;\n",
       "    }\n",
       "\n",
       "    .dataframe thead th {\n",
       "        text-align: right;\n",
       "    }\n",
       "</style>\n",
       "<table border=\"1\" class=\"dataframe\">\n",
       "  <thead>\n",
       "    <tr style=\"text-align: right;\">\n",
       "      <th></th>\n",
       "      <th>CCDD</th>\n",
       "      <th>NOMBDEP</th>\n",
       "      <th>NOMBDIST</th>\n",
       "      <th>UBIGEO</th>\n",
       "      <th>geometry</th>\n",
       "    </tr>\n",
       "  </thead>\n",
       "  <tbody>\n",
       "    <tr>\n",
       "      <th>0</th>\n",
       "      <td>06</td>\n",
       "      <td>CAJAMARCA</td>\n",
       "      <td>GUZMANGO</td>\n",
       "      <td>060504</td>\n",
       "      <td>POLYGON ((-78.91578 -7.32085, -78.9137 -7.3223...</td>\n",
       "    </tr>\n",
       "    <tr>\n",
       "      <th>1</th>\n",
       "      <td>06</td>\n",
       "      <td>CAJAMARCA</td>\n",
       "      <td>EL PRADO</td>\n",
       "      <td>061105</td>\n",
       "      <td>POLYGON ((-79.01679 -6.96945, -79.01581 -6.969...</td>\n",
       "    </tr>\n",
       "    <tr>\n",
       "      <th>2</th>\n",
       "      <td>06</td>\n",
       "      <td>CAJAMARCA</td>\n",
       "      <td>NIEPOS</td>\n",
       "      <td>061109</td>\n",
       "      <td>POLYGON ((-79.21691 -6.85171, -79.21576 -6.851...</td>\n",
       "    </tr>\n",
       "    <tr>\n",
       "      <th>3</th>\n",
       "      <td>06</td>\n",
       "      <td>CAJAMARCA</td>\n",
       "      <td>SAN GREGORIO</td>\n",
       "      <td>061110</td>\n",
       "      <td>POLYGON ((-79.08233 -7.00544, -79.08041 -7.005...</td>\n",
       "    </tr>\n",
       "    <tr>\n",
       "      <th>4</th>\n",
       "      <td>06</td>\n",
       "      <td>CAJAMARCA</td>\n",
       "      <td>SAN LUIS</td>\n",
       "      <td>061203</td>\n",
       "      <td>POLYGON ((-78.87623 -7.09747, -78.87471 -7.098...</td>\n",
       "    </tr>\n",
       "    <tr>\n",
       "      <th>...</th>\n",
       "      <td>...</td>\n",
       "      <td>...</td>\n",
       "      <td>...</td>\n",
       "      <td>...</td>\n",
       "      <td>...</td>\n",
       "    </tr>\n",
       "    <tr>\n",
       "      <th>1869</th>\n",
       "      <td>04</td>\n",
       "      <td>AREQUIPA</td>\n",
       "      <td>CHACHAS</td>\n",
       "      <td>040404</td>\n",
       "      <td>POLYGON ((-71.95148 -14.83836, -71.95157 -14.8...</td>\n",
       "    </tr>\n",
       "    <tr>\n",
       "      <th>1870</th>\n",
       "      <td>04</td>\n",
       "      <td>AREQUIPA</td>\n",
       "      <td>CHILCAYMARCA</td>\n",
       "      <td>040405</td>\n",
       "      <td>POLYGON ((-72.3749 -15.2499, -72.37494 -15.250...</td>\n",
       "    </tr>\n",
       "    <tr>\n",
       "      <th>1871</th>\n",
       "      <td>04</td>\n",
       "      <td>AREQUIPA</td>\n",
       "      <td>CHOCO</td>\n",
       "      <td>040406</td>\n",
       "      <td>POLYGON ((-71.96976 -15.13597, -71.96952 -15.1...</td>\n",
       "    </tr>\n",
       "    <tr>\n",
       "      <th>1872</th>\n",
       "      <td>04</td>\n",
       "      <td>AREQUIPA</td>\n",
       "      <td>HUANCARQUI</td>\n",
       "      <td>040407</td>\n",
       "      <td>POLYGON ((-72.31258 -15.81426, -72.31211 -15.8...</td>\n",
       "    </tr>\n",
       "    <tr>\n",
       "      <th>1873</th>\n",
       "      <td>12</td>\n",
       "      <td>JUNIN</td>\n",
       "      <td>MAZAMARI</td>\n",
       "      <td>120604</td>\n",
       "      <td>POLYGON ((-73.98589 -11.93382, -73.98628 -11.9...</td>\n",
       "    </tr>\n",
       "  </tbody>\n",
       "</table>\n",
       "<p>1874 rows × 5 columns</p>\n",
       "</div>"
      ],
      "text/plain": [
       "     CCDD    NOMBDEP      NOMBDIST  UBIGEO  \\\n",
       "0      06  CAJAMARCA      GUZMANGO  060504   \n",
       "1      06  CAJAMARCA      EL PRADO  061105   \n",
       "2      06  CAJAMARCA        NIEPOS  061109   \n",
       "3      06  CAJAMARCA  SAN GREGORIO  061110   \n",
       "4      06  CAJAMARCA      SAN LUIS  061203   \n",
       "...   ...        ...           ...     ...   \n",
       "1869   04   AREQUIPA       CHACHAS  040404   \n",
       "1870   04   AREQUIPA  CHILCAYMARCA  040405   \n",
       "1871   04   AREQUIPA         CHOCO  040406   \n",
       "1872   04   AREQUIPA    HUANCARQUI  040407   \n",
       "1873   12      JUNIN      MAZAMARI  120604   \n",
       "\n",
       "                                               geometry  \n",
       "0     POLYGON ((-78.91578 -7.32085, -78.9137 -7.3223...  \n",
       "1     POLYGON ((-79.01679 -6.96945, -79.01581 -6.969...  \n",
       "2     POLYGON ((-79.21691 -6.85171, -79.21576 -6.851...  \n",
       "3     POLYGON ((-79.08233 -7.00544, -79.08041 -7.005...  \n",
       "4     POLYGON ((-78.87623 -7.09747, -78.87471 -7.098...  \n",
       "...                                                 ...  \n",
       "1869  POLYGON ((-71.95148 -14.83836, -71.95157 -14.8...  \n",
       "1870  POLYGON ((-72.3749 -15.2499, -72.37494 -15.250...  \n",
       "1871  POLYGON ((-71.96976 -15.13597, -71.96952 -15.1...  \n",
       "1872  POLYGON ((-72.31258 -15.81426, -72.31211 -15.8...  \n",
       "1873  POLYGON ((-73.98589 -11.93382, -73.98628 -11.9...  \n",
       "\n",
       "[1874 rows x 5 columns]"
      ]
     },
     "execution_count": 11,
     "metadata": {},
     "output_type": "execute_result"
    }
   ],
   "source": [
    "# Read shapefile containing district boundaries \n",
    "dist = gpd.read_file(\"../../_data/LIMITE_DISTRITAL_2020_INEI/INEI_LIMITE_DISTRITAL.shp\")\n",
    "\n",
    "# Select relevant columns\n",
    "dist = dist[['CCDD', 'NOMBDEP', 'NOMBDIST', 'UBIGEO', 'geometry']]\n",
    "\n",
    "# Display the resulting GeoDataFrame with the selected columns\n",
    "dist"
   ]
  },
  {
   "cell_type": "code",
   "execution_count": null,
   "id": "976a2886-2a16-4c83-be8b-80774081cb03",
   "metadata": {},
   "outputs": [],
   "source": [
    "# Set up a transformer to convert coordinates from WGS84 to Mollweide projection\n",
    "transformer = pyproj.Transformer.from_crs('epsg:4326', 'esri:54009', always_xy=True)\n",
    "\n",
    "# Define a function to apply the coordinate transformation to geometries\n",
    "def apply_transform(geom):\n",
    "    return transform(transformer.transform, geom)\n",
    "\n",
    "# Apply the transformation to the districts geometries\n",
    "dist['geometry'] = dist['geometry'].apply(apply_transform)"
   ]
  },
  {
   "cell_type": "code",
   "execution_count": null,
   "id": "8fe10a67-3e44-4460-8dc5-34632984e90a",
   "metadata": {},
   "outputs": [],
   "source": [
    "# Get a list of all .tif raster files in the current directory\n",
    "lista_rasters = glob.glob(\"*.tif\")\n",
    "lista_rasters"
   ]
  }
 ],
 "metadata": {
  "kernelspec": {
   "display_name": "Python 3 (ipykernel)",
   "language": "python",
   "name": "python3"
  },
  "language_info": {
   "codemirror_mode": {
    "name": "ipython",
    "version": 3
   },
   "file_extension": ".py",
   "mimetype": "text/x-python",
   "name": "python",
   "nbconvert_exporter": "python",
   "pygments_lexer": "ipython3",
   "version": "3.12.4"
  }
 },
 "nbformat": 4,
 "nbformat_minor": 5
}
