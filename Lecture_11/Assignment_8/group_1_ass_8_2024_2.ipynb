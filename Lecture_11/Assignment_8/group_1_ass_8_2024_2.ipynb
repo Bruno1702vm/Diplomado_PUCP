{
 "cells": [
  {
   "cell_type": "markdown",
   "id": "123a867e-0956-47ac-a04f-26dace4215a2",
   "metadata": {},
   "source": [
    "# Assignment 8 - Group 1"
   ]
  },
  {
   "cell_type": "markdown",
   "id": "b244b624-0614-4a0b-9404-19a33e702f82",
   "metadata": {},
   "source": [
    "**Group members** :\n",
    "- Max Chipani\n",
    "- Jesus Gamboa\n",
    "- Karen Salazar\n",
    "- Paolo Gutierrez\n",
    "- Luis Camarena"
   ]
  },
  {
   "cell_type": "code",
   "execution_count": 8,
   "id": "9ec0397e-1399-4bad-9a17-ba5c474f5568",
   "metadata": {},
   "outputs": [
    {
     "name": "stdout",
     "output_type": "stream",
     "text": [
      "Defaulting to user installation because normal site-packages is not writeable\n",
      "Requirement already satisfied: geopandas in c:\\users\\karen\\appdata\\roaming\\python\\python312\\site-packages (1.0.1)\n",
      "Requirement already satisfied: rasterio in c:\\users\\karen\\appdata\\roaming\\python\\python312\\site-packages (1.3.11)\n",
      "Requirement already satisfied: rasterstats in c:\\users\\karen\\appdata\\roaming\\python\\python312\\site-packages (0.19.0)\n",
      "Requirement already satisfied: numpy>=1.22 in c:\\programdata\\anaconda3\\lib\\site-packages (from geopandas) (1.26.4)\n",
      "Requirement already satisfied: pyogrio>=0.7.2 in c:\\users\\karen\\appdata\\roaming\\python\\python312\\site-packages (from geopandas) (0.9.0)\n",
      "Requirement already satisfied: packaging in c:\\programdata\\anaconda3\\lib\\site-packages (from geopandas) (23.2)\n",
      "Requirement already satisfied: pandas>=1.4.0 in c:\\programdata\\anaconda3\\lib\\site-packages (from geopandas) (2.2.2)\n",
      "Requirement already satisfied: pyproj>=3.3.0 in c:\\users\\karen\\appdata\\roaming\\python\\python312\\site-packages (from geopandas) (3.6.1)\n",
      "Requirement already satisfied: shapely>=2.0.0 in c:\\users\\karen\\appdata\\roaming\\python\\python312\\site-packages (from geopandas) (2.0.6)\n",
      "Requirement already satisfied: affine in c:\\users\\karen\\appdata\\roaming\\python\\python312\\site-packages (from rasterio) (2.4.0)\n",
      "Requirement already satisfied: attrs in c:\\programdata\\anaconda3\\lib\\site-packages (from rasterio) (23.1.0)\n",
      "Requirement already satisfied: certifi in c:\\programdata\\anaconda3\\lib\\site-packages (from rasterio) (2024.8.30)\n",
      "Requirement already satisfied: click>=4.0 in c:\\programdata\\anaconda3\\lib\\site-packages (from rasterio) (8.1.7)\n",
      "Requirement already satisfied: cligj>=0.5 in c:\\users\\karen\\appdata\\roaming\\python\\python312\\site-packages (from rasterio) (0.7.2)\n",
      "Requirement already satisfied: snuggs>=1.4.1 in c:\\users\\karen\\appdata\\roaming\\python\\python312\\site-packages (from rasterio) (1.4.7)\n",
      "Requirement already satisfied: click-plugins in c:\\users\\karen\\appdata\\roaming\\python\\python312\\site-packages (from rasterio) (1.1.1)\n",
      "Requirement already satisfied: setuptools in c:\\programdata\\anaconda3\\lib\\site-packages (from rasterio) (69.5.1)\n",
      "Requirement already satisfied: fiona in c:\\users\\karen\\appdata\\roaming\\python\\python312\\site-packages (from rasterstats) (1.10.0)\n",
      "Requirement already satisfied: simplejson in c:\\users\\karen\\appdata\\roaming\\python\\python312\\site-packages (from rasterstats) (3.19.3)\n",
      "Requirement already satisfied: colorama in c:\\programdata\\anaconda3\\lib\\site-packages (from click>=4.0->rasterio) (0.4.6)\n",
      "Requirement already satisfied: python-dateutil>=2.8.2 in c:\\programdata\\anaconda3\\lib\\site-packages (from pandas>=1.4.0->geopandas) (2.9.0.post0)\n",
      "Requirement already satisfied: pytz>=2020.1 in c:\\programdata\\anaconda3\\lib\\site-packages (from pandas>=1.4.0->geopandas) (2024.1)\n",
      "Requirement already satisfied: tzdata>=2022.7 in c:\\programdata\\anaconda3\\lib\\site-packages (from pandas>=1.4.0->geopandas) (2023.3)\n",
      "Requirement already satisfied: pyparsing>=2.1.6 in c:\\programdata\\anaconda3\\lib\\site-packages (from snuggs>=1.4.1->rasterio) (3.0.9)\n",
      "Requirement already satisfied: six>=1.5 in c:\\programdata\\anaconda3\\lib\\site-packages (from python-dateutil>=2.8.2->pandas>=1.4.0->geopandas) (1.16.0)\n"
     ]
    }
   ],
   "source": [
    "#The following command installs the geopandas, rasterio and rasterstats libraries.\n",
    "!pip install geopandas rasterio rasterstats"
   ]
  },
  {
   "cell_type": "code",
   "execution_count": 10,
   "id": "754cee5d-8e70-48cf-977d-a30d518996ee",
   "metadata": {},
   "outputs": [],
   "source": [
    "# Import bookstores\n",
    "import geopandas as gpd #Import the GeoPandas library to work with geospatial data in vector format (points, lines, polygons).\n",
    "import pandas as pd # Import pandas for data manipulation in the form of tables (DataFrames).\n",
    "import numpy as np # Import NumPy for numerical operations and array handling.\n",
    "import matplotlib.pyplot as plt # Import Matplotlib to create graphs and visualizations.\n",
    "import rasterio # Import raster to work with raster data (georeferenced images).\n",
    "import pyproj # paraImport pyproj for geographic coordinate projection.\n",
    "import glob # Import glob find files that match a specific pattern on the file system.\n",
    "# Importa Folium para crear mapas interactivos basados en Leaflet.js.\n",
    "import folium as fm # Import Folium to create interactive maps based on Leaflet.js.\n",
    "from rasterstats import zonal_stats # Import the zonal_stats function from rasterstats to calculate zonal statistics between raster and vector data.\n",
    "from shapely.ops import transform # Import shapely's transform function to transform geometries, such as changing the coordinate system."
   ]
  },
  {
   "cell_type": "markdown",
   "id": "6f32180c-b109-4f0e-8437-9c82dcce5702",
   "metadata": {},
   "source": [
    "## Question 1"
   ]
  },
  {
   "cell_type": "code",
   "execution_count": 13,
   "id": "2cbd444f-5e08-4097-b59d-edaac3ffc93f",
   "metadata": {},
   "outputs": [],
   "source": [
    "##completar"
   ]
  },
  {
   "cell_type": "code",
   "execution_count": null,
   "id": "976a2886-2a16-4c83-be8b-80774081cb03",
   "metadata": {},
   "outputs": [],
   "source": []
  }
 ],
 "metadata": {
  "kernelspec": {
   "display_name": "Python 3 (ipykernel)",
   "language": "python",
   "name": "python3"
  },
  "language_info": {
   "codemirror_mode": {
    "name": "ipython",
    "version": 3
   },
   "file_extension": ".py",
   "mimetype": "text/x-python",
   "name": "python",
   "nbconvert_exporter": "python",
   "pygments_lexer": "ipython3",
   "version": "3.12.4"
  }
 },
 "nbformat": 4,
 "nbformat_minor": 5
}
