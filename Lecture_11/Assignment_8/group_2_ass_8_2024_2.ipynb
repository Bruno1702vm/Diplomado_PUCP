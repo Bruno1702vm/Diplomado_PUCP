{
 "cells": [
  {
   "cell_type": "markdown",
   "metadata": {},
   "source": [
    "## Assignment 8"
   ]
  },
  {
   "cell_type": "markdown",
   "metadata": {},
   "source": [
    "| Member Name      | Part 1 - Install Libraries | Part 2 - Check Data | Part 3 - Create Map  |\n",
    "|------------------|----------------------------|---------------------|---------------------|\n",
    "| Luis Felipe Acosta         | Responsible                 |                     |                     |\n",
    "| Alejandro Ospina        |                            | Responsible          |                     |\n",
    "| Raúl Amao         |                            |                     | Responsible          |\n",
    "| Ruth Chávez         |                            |                     |  Responsible                   |\n",
    "| Manuel Soto         |                            |                     |   Responsible                  |"
   ]
  },
  {
   "cell_type": "markdown",
   "metadata": {},
   "source": [
    "### Part 1: Installing and Importing Necessary Libraries"
   ]
  },
  {
   "cell_type": "code",
   "execution_count": 1,
   "metadata": {},
   "outputs": [],
   "source": [
    "# Part 1: Installing and importing the necessary libraries\n",
    "#!pip install geopandas rasterio folium\n",
    "\n",
    "import geopandas as gpd\n",
    "import rasterio\n",
    "from rasterio.mask import mask\n",
    "import folium"
   ]
  },
  {
   "cell_type": "markdown",
   "metadata": {},
   "source": [
    "### Part 2: Checking the Data"
   ]
  },
  {
   "cell_type": "code",
   "execution_count": 2,
   "metadata": {},
   "outputs": [],
   "source": [
    "# Load the shapefile of Peru departments\n",
    "shapefile_path = '../../_data/LIMITE_DISTRITAL_2020_INEI/INEI_LIMITE_DISTRITAL.shp'\n",
    "peru_departments = gpd.read_file(shapefile_path)"
   ]
  },
  {
   "cell_type": "code",
   "execution_count": 3,
   "metadata": {},
   "outputs": [
    {
     "name": "stdout",
     "output_type": "stream",
     "text": [
      "Shapefile CRS: EPSG:4326\n",
      "Raster CRS: ESRI:54009\n",
      "Reprojected shapefile CRS: PROJCS[\"World_Mollweide\",GEOGCS[\"WGS 84\",DATUM[\"WGS_1984\",SPHEROID[\"WGS 84\",6378137,298.257223563,AUTHORITY[\"EPSG\",\"7030\"]],AUTHORITY[\"EPSG\",\"6326\"]],PRIMEM[\"Greenwich\",0],UNIT[\"Degree\",0.0174532925199433]],PROJECTION[\"Mollweide\"],PARAMETER[\"central_meridian\",0],PARAMETER[\"false_easting\",0],PARAMETER[\"false_northing\",0],UNIT[\"metre\",1,AUTHORITY[\"EPSG\",\"9001\"]],AXIS[\"Easting\",EAST],AXIS[\"Northing\",NORTH]]\n"
     ]
    }
   ],
   "source": [
    "# Load the raster file\n",
    "#raster_path = 'C:/Users/raul3/Downloads/TIF FILES/GHS_BUILT_C_MSZ_E2018_GLOBE_R2023A_54009_10_V1_0_R10_C11.tif'\n",
    "# Step 2: Check the CRS of the shapefile\n",
    "print(\"Shapefile CRS:\", peru_departments.crs)\n",
    "\n",
    "# Step 3: Open the raster and check its CRS\n",
    "raster_path = 'C:/Users/raul3/Downloads/TIF FILES/GHS_BUILT_C_MSZ_E2018_GLOBE_R2023A_54009_10_V1_0_R10_C11.tif'\n",
    "with rasterio.open(raster_path) as src:\n",
    "    print(\"Raster CRS:\", src.crs)\n",
    "\n",
    "# Step 4: If they differ, reproject the shapefile to the raster's CRS\n",
    "if peru_departments.crs != src.crs:\n",
    "    peru_departments = peru_departments.to_crs(src.crs)\n",
    "    print(\"Reprojected shapefile CRS:\", peru_departments.crs)"
   ]
  },
  {
   "cell_type": "code",
   "execution_count": 4,
   "metadata": {},
   "outputs": [
    {
     "name": "stdout",
     "output_type": "stream",
     "text": [
      "Shapefile bounds: [-8.13421654e+06 -2.25408918e+06 -6.72319482e+06 -4.77342975e+03]\n",
      "Raster bounds: BoundingBox(left=-8041000.0, bottom=-1000000.0, right=-7041000.0, top=0.0)\n"
     ]
    }
   ],
   "source": [
    "# Step 5: Print the bounds of the shapefile\n",
    "print(\"Shapefile bounds:\", peru_departments.total_bounds)\n",
    "\n",
    "# Step 6: Print the bounds of the raster\n",
    "with rasterio.open(raster_path) as src:\n",
    "    print(\"Raster bounds:\", src.bounds)"
   ]
  },
  {
   "cell_type": "code",
   "execution_count": 5,
   "metadata": {},
   "outputs": [],
   "source": [
    "from shapely.geometry import box\n",
    "\n",
    "# Create a bounding box from the raster's bounds\n",
    "with rasterio.open(raster_path) as src:\n",
    "    raster_bounds = src.bounds\n",
    "    raster_bbox = box(raster_bounds.left, raster_bounds.bottom, raster_bounds.right, raster_bounds.top)\n",
    "\n",
    "# Clip the shapefile to the raster bounds\n",
    "peru_departments_clipped = peru_departments.clip(raster_bbox)\n",
    "\n",
    "# Now proceed with extracting raster data using peru_departments_clipped"
   ]
  },
  {
   "cell_type": "code",
   "execution_count": 6,
   "metadata": {},
   "outputs": [
    {
     "name": "stdout",
     "output_type": "stream",
     "text": [
      "Index(['CCDD', 'NOMBDEP', 'CCPP', 'NOMBPROV', 'CCDI', 'NOMBDIST', 'CAPITAL',\n",
      "       'UBIGEO', 'IDPROV', 'CODIGO', 'CNT_CCPP', 'DESCRIPCIO', 'DESCARGAR',\n",
      "       'WHATSAPP', 'CONTACTO', 'geometry'],\n",
      "      dtype='object')\n"
     ]
    }
   ],
   "source": [
    "print(peru_departments.columns)"
   ]
  },
  {
   "cell_type": "code",
   "execution_count": 7,
   "metadata": {},
   "outputs": [
    {
     "name": "stdout",
     "output_type": "stream",
     "text": [
      "  CCDD    NOMBDEP CCPP    NOMBPROV CCDI      NOMBDIST          CAPITAL  \\\n",
      "0   06  CAJAMARCA   05   CONTUMAZA   04      GUZMANGO         GUZMANGO   \n",
      "1   06  CAJAMARCA   11  SAN MIGUEL   05      EL PRADO         EL PRADO   \n",
      "2   06  CAJAMARCA   11  SAN MIGUEL   09        NIEPOS           NIEPOS   \n",
      "3   06  CAJAMARCA   11  SAN MIGUEL   10  SAN GREGORIO     SAN GREGORIO   \n",
      "4   06  CAJAMARCA   12   SAN PABLO   03      SAN LUIS  SAN LUIS GRANDE   \n",
      "\n",
      "   UBIGEO IDPROV  CODIGO  CNT_CCPP    DESCRIPCIO           DESCARGAR  \\\n",
      "0  060504   0605  060504        50      GUZMANGO  www.geogpsperu.com   \n",
      "1  061105   0611  061105        15      EL PRADO  www.geogpsperu.com   \n",
      "2  061109   0611  061109        41        NIEPOS  www.geogpsperu.com   \n",
      "3  061110   0611  061110        48  SAN GREGORIO  www.geogpsperu.com   \n",
      "4  061203   0612  061203         9      SAN LUIS  www.geogpsperu.com   \n",
      "\n",
      "    WHATSAPP                  CONTACTO  \\\n",
      "0  931381206  juan.suyo@geogpsperu.com   \n",
      "1  931381206  juan.suyo@geogpsperu.com   \n",
      "2  931381206  juan.suyo@geogpsperu.com   \n",
      "3  931381206  juan.suyo@geogpsperu.com   \n",
      "4  931381206  juan.suyo@geogpsperu.com   \n",
      "\n",
      "                                            geometry  \n",
      "0  POLYGON ((-7869313.928 -904241.774, -7869091.5...  \n",
      "1  POLYGON ((-7883126.402 -860922.524, -7883026.2...  \n",
      "2  POLYGON ((-7904306.283 -846404.901, -7904191.3...  \n",
      "3  POLYGON ((-7889290.055 -865359.352, -7889093.6...  \n",
      "4  POLYGON ((-7867764.646 -876705.022, -7867607.1...  \n"
     ]
    }
   ],
   "source": [
    "print(peru_departments.head())"
   ]
  },
  {
   "cell_type": "code",
   "execution_count": 8,
   "metadata": {},
   "outputs": [
    {
     "name": "stdout",
     "output_type": "stream",
     "text": [
      "CCDD            object\n",
      "NOMBDEP         object\n",
      "CCPP            object\n",
      "NOMBPROV        object\n",
      "CCDI            object\n",
      "NOMBDIST        object\n",
      "CAPITAL         object\n",
      "UBIGEO          object\n",
      "IDPROV          object\n",
      "CODIGO          object\n",
      "CNT_CCPP         int64\n",
      "DESCRIPCIO      object\n",
      "DESCARGAR       object\n",
      "WHATSAPP        object\n",
      "CONTACTO        object\n",
      "geometry      geometry\n",
      "dtype: object\n"
     ]
    }
   ],
   "source": [
    "# Check the data types of all columns\n",
    "print(peru_departments.dtypes)"
   ]
  },
  {
   "cell_type": "markdown",
   "metadata": {},
   "source": [
    "### Part 3: Creating an Interactive Map with GeoJson Layer"
   ]
  },
  {
   "cell_type": "code",
   "execution_count": 9,
   "metadata": {},
   "outputs": [
    {
     "name": "stdout",
     "output_type": "stream",
     "text": [
      "Map with popups saved as: group_2_ass_8_2024_2.html\n"
     ]
    }
   ],
   "source": [
    "# Part 3: Creating an interactive map with department geometries and popups\n",
    "\n",
    "# Step 1: Initialize a Folium map centered on Peru\n",
    "peru_map = folium.Map(location=[-9.19, -75.0152], zoom_start=6)\n",
    "\n",
    "# Step 2: Add GeoJson layer with popups for 'CCDD', 'NOMBDEP', 'NOMBDIST', and 'UBIGEO'\n",
    "for _, row in peru_departments.iterrows():\n",
    "    # Create a popup with the relevant information\n",
    "    popup_text = (f\"CCDD: {row['CCDD']}<br>\"\n",
    "                  f\"NOMBDEP: {row['NOMBDEP']}<br>\"\n",
    "                  f\"NOMBDIST: {row['NOMBDIST']}<br>\"\n",
    "                  f\"UBIGEO: {row['UBIGEO']}\")\n",
    "\n",
    "    # Add the geometry and the popup to the map\n",
    "    folium.GeoJson(\n",
    "        row['geometry'],  # Use the geometry of the department\n",
    "        name=row['NOMBDEP'],  # Department name as the layer name\n",
    "        popup=folium.Popup(popup_text, max_width=300)  # Create a popup with the data\n",
    "    ).add_to(peru_map)\n",
    "\n",
    "# Step 3: Add LayerControl to toggle between layers\n",
    "folium.LayerControl().add_to(peru_map)\n",
    "\n",
    "# Step 4: Save the map as an HTML file\n",
    "output_path = 'group_2_ass_8_2024_2.html'\n",
    "peru_map.save(output_path)\n",
    "\n",
    "print(f'Map with popups saved as: {output_path}')\n"
   ]
  }
 ],
 "metadata": {
  "kernelspec": {
   "display_name": "base",
   "language": "python",
   "name": "python3"
  },
  "language_info": {
   "codemirror_mode": {
    "name": "ipython",
    "version": 3
   },
   "file_extension": ".py",
   "mimetype": "text/x-python",
   "name": "python",
   "nbconvert_exporter": "python",
   "pygments_lexer": "ipython3",
   "version": "3.12.4"
  }
 },
 "nbformat": 4,
 "nbformat_minor": 2
}
