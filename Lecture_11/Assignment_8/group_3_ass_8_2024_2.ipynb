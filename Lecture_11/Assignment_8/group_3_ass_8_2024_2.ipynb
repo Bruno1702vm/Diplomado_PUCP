{
 "cells": [
  {
   "cell_type": "markdown",
   "id": "eabf61f2-f824-441d-9d61-82877fa38586",
   "metadata": {},
   "source": [
    "# Asignmnet 8: Rasters\n",
    "\n",
    "1. Get the 15 variables from this raster for all Peru departments polygons. This is the link where shapefiles are located. This is the link of the source raster. The values should be the percentage of district area cover by this specific \n",
    "Morphological Settlement Zone.2. \r\n",
    "Then you are going to generate choropleth map using folium for these 15 variables3. .\r\n",
    "Save your html in the same folder of your JN. Name your HTML as your branch. This HTML should have all these layers. Please do not forget to use Layer Contr\n",
    "ol.\r\n",
    "Do not upload any other file. Be cautious of uploading files greater than 100MB."
   ]
  },
  {
   "cell_type": "markdown",
   "id": "2fcbd641-6611-4548-a523-4c02774f55d1",
   "metadata": {},
   "source": [
    "Group 3: Mauricio Flores Jiménez, , , , ,"
   ]
  },
  {
   "cell_type": "markdown",
   "id": "2c5d40aa-69fc-4fe0-83ed-ab0720c5c67a",
   "metadata": {},
   "source": [
    "#Importing the necessary libraries "
   ]
  },
  {
   "cell_type": "code",
   "execution_count": null,
   "id": "ad0c56e6-ed11-46e2-9cc8-6abe409e2add",
   "metadata": {},
   "outputs": [],
   "source": []
  },
  {
   "cell_type": "markdown",
   "id": "c76abcd7-0538-43d8-9182-8f091c2963f8",
   "metadata": {},
   "source": [
    "#Uploading the files"
   ]
  },
  {
   "cell_type": "code",
   "execution_count": null,
   "id": "6b1a43bf-4cf6-4e24-977f-eae95bc0dd70",
   "metadata": {},
   "outputs": [],
   "source": []
  },
  {
   "cell_type": "code",
   "execution_count": null,
   "id": "b800c2df-8276-4ad1-b5c7-00baae29d3e9",
   "metadata": {},
   "outputs": [],
   "source": []
  },
  {
   "cell_type": "code",
   "execution_count": null,
   "id": "e88d49bf-8a67-451b-a458-2a933045fbdf",
   "metadata": {},
   "outputs": [],
   "source": []
  },
  {
   "cell_type": "markdown",
   "id": "64a94069-ce31-473c-9ae2-5635fb769322",
   "metadata": {},
   "source": [
    "#1. Getting the 15 variables"
   ]
  },
  {
   "cell_type": "code",
   "execution_count": null,
   "id": "adc063e6-c281-41d4-aaff-3f3faebe9899",
   "metadata": {},
   "outputs": [],
   "source": []
  },
  {
   "cell_type": "code",
   "execution_count": null,
   "id": "bc90ddf0-00cf-4ebe-ad77-17142cdbb962",
   "metadata": {},
   "outputs": [],
   "source": []
  },
  {
   "cell_type": "markdown",
   "id": "26ed2526-4eef-4876-89af-013b2c64f61b",
   "metadata": {},
   "source": [
    "#2. Generating the maps"
   ]
  },
  {
   "cell_type": "code",
   "execution_count": null,
   "id": "c0b691e2-6340-476e-aae9-e80491aaa6aa",
   "metadata": {},
   "outputs": [],
   "source": []
  },
  {
   "cell_type": "code",
   "execution_count": null,
   "id": "683f104f-c6ff-4093-92e1-aa38aa071452",
   "metadata": {},
   "outputs": [],
   "source": []
  },
  {
   "cell_type": "code",
   "execution_count": null,
   "id": "22cb2bbe-c6f2-44e8-9b0e-38c0b3b96b86",
   "metadata": {},
   "outputs": [],
   "source": []
  },
  {
   "cell_type": "code",
   "execution_count": null,
   "id": "3f082eb8-d910-430f-9b6d-9aaf1081b292",
   "metadata": {},
   "outputs": [],
   "source": []
  }
 ],
 "metadata": {
  "kernelspec": {
   "display_name": "geo_env",
   "language": "python",
   "name": "geo_env"
  },
  "language_info": {
   "codemirror_mode": {
    "name": "ipython",
    "version": 3
   },
   "file_extension": ".py",
   "mimetype": "text/x-python",
   "name": "python",
   "nbconvert_exporter": "python",
   "pygments_lexer": "ipython3",
   "version": "3.9.19"
  }
 },
 "nbformat": 4,
 "nbformat_minor": 5
}
