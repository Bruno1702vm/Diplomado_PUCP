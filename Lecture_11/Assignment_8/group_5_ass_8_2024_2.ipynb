{
 "cells": [
  {
   "cell_type": "code",
   "execution_count": null,
   "id": "cce2157a",
   "metadata": {},
   "outputs": [],
   "source": [
    "#Assignment 8"
   ]
  },
  {
   "cell_type": "code",
   "execution_count": null,
   "id": "c3413ddb",
   "metadata": {},
   "outputs": [],
   "source": [
    "!pip install rasterstats"
   ]
  },
  {
   "cell_type": "code",
   "execution_count": null,
   "id": "7b1730b5",
   "metadata": {},
   "outputs": [],
   "source": [
    "import os\n",
    "import geopandas as gpd\n",
    "import rasterio\n",
    "from rasterstats import zonal_stats\n",
    "from shapely.ops import transform\n",
    "import matplotlib.pyplot as plt\n",
    "import pandas as pd\n",
    "import pyproj\n",
    "import numpy as np\n",
    "import json\n",
    "import folium as fm"
   ]
  },
  {
   "cell_type": "code",
   "execution_count": null,
   "id": "7aafa101",
   "metadata": {},
   "outputs": [],
   "source": [
    "# Load your shapefile\n",
    "shapefile_path = '../../_data/INEI_LIMITE_DEPARTAMENTAL/INEI_LIMITE_DEPARTAMENTAL.shp'\n",
    "gdf = gpd.read_file(shapefile_path)\n",
    "gdf = gdf.to_crs('esri:54009')"
   ]
  },
  {
   "cell_type": "code",
   "execution_count": null,
   "id": "070ad767",
   "metadata": {},
   "outputs": [],
   "source": [
    "### Obtener datos de los rasters"
   ]
  },
  {
   "cell_type": "code",
   "execution_count": null,
   "id": "2f09f1c7",
   "metadata": {},
   "outputs": [],
   "source": [
    "# # Loop\n",
    "\n",
    "# # Definir los archivos raster y los nombres de los DataFrames\n",
    "# rasters = {\n",
    "#         'df10_10':'../../_data/rasters_peru/R10_C10.tif',\n",
    "#         'df10_11':'../../_data/rasters_peru/R10_C11.tif',\n",
    "#         'df10_12':'../../_data/rasters_peru/R10_C12.tif',\n",
    "#         'df11_11':'../../_data/rasters_peru/R11_C11.tif',\n",
    "#         'df11_12':'../../_data/rasters_peru/R11_C12.tif',\n",
    "#         'df12_11':'../../_data/rasters_peru/R12_C11.tif',\n",
    "#         'df12_12':'../../_data/rasters_peru/R12_C12.tif'\n",
    "# }\n",
    "\n",
    "# # Diccionario para almacenar los DataFrames\n",
    "# statistics = {}\n",
    "\n",
    "# # Bucle para procesar cada archivo raster\n",
    "# for df_name, raster_path in rasters.items():\n",
    "#     # Calcular estadísticas zonales\n",
    "#     stats = zonal_stats(gdf, raster_path, stats=\"count\", categorical=True, all_touched=True)\n",
    "    \n",
    "#     # Crear un DataFrame para las estadísticas\n",
    "#     df_stats = pd.DataFrame(stats)\n",
    "\n",
    "#     # Cruce con shp\n",
    "#     df = pd.concat([gdf.reset_index(drop=True), df_stats], axis=1)\n",
    "    \n",
    "#     # Almacenar el DataFrame en el diccionario\n",
    "#     statistics[df_name] = df\n"
   ]
  },
  {
   "cell_type": "code",
   "execution_count": null,
   "id": "977ce1cc",
   "metadata": {},
   "outputs": [],
   "source": [
    "# dfs_list = list(statistics.values())\n",
    "\n",
    "# # Concatenar todos los DataFrames en uno solo\n",
    "# df_consolidado = pd.concat(dfs_list, ignore_index=True)\n",
    "\n",
    "# # print(df_consolidado)"
   ]
  },
  {
   "cell_type": "markdown",
   "id": "078245ea-aff7-4211-ad19-5336b55f0a7a",
   "metadata": {},
   "source": [
    "### Importar CSV (opcional al loop de los rasters)"
   ]
  },
  {
   "cell_type": "code",
   "execution_count": null,
   "id": "e7902a42-ee9e-4f4d-9675-c6432bae88ff",
   "metadata": {},
   "outputs": [],
   "source": [
    "# Lee el archivo CSV y carga los datos en un DataFrame\n",
    "df_consolidado = pd.read_csv('output_file.csv')\n",
    "\n",
    "# Muestra las primeras filas del DataFrame\n",
    "# print(df_consolidado)"
   ]
  },
  {
   "cell_type": "code",
   "execution_count": null,
   "id": "d4e08bb8-846c-4ebf-9718-2f700ff4ae31",
   "metadata": {},
   "outputs": [],
   "source": [
    "# Modificar la columna de CCDD\n",
    "\n",
    "def add_leading_zero(num):\n",
    "    num_str = str(num) \n",
    "    if len(num_str) == 1:\n",
    "        return num_str.zfill(2)  \n",
    "    return num_str\n",
    "\n",
    "# Aplicar la función a la columna\n",
    "df_consolidado['CCDD'] = df_consolidado['CCDD'].apply(add_leading_zero)\n"
   ]
  },
  {
   "cell_type": "markdown",
   "id": "d919838b-00dd-4d20-8456-3b02ac2d606d",
   "metadata": {},
   "source": [
    "### Agrupar para cada departamento"
   ]
  },
  {
   "cell_type": "code",
   "execution_count": null,
   "id": "806cd4e5-e92d-412f-936f-d614d9ead803",
   "metadata": {},
   "outputs": [],
   "source": [
    "df_f1 = df_consolidado.iloc[:, 14:31] ##seleccionar columnas para trabajar\n",
    "df_f2 = df_consolidado.iloc[:, [2]]\n",
    "\n",
    "df_filtered = pd.concat([df_f1, df_f2], axis=1) ##concatena las columnas filtradas\n",
    "df_filtered"
   ]
  },
  {
   "cell_type": "code",
   "execution_count": null,
   "id": "a6e22498-9f5e-4321-98c7-3ec2f97caa79",
   "metadata": {},
   "outputs": [],
   "source": [
    "df_dep = df_filtered.replace(np.nan, 0 ) \\ ##reemplaza NaN por cero\n",
    "    .groupby('CCDD').sum().reset_index()\n",
    "df_dep"
   ]
  },
  {
   "cell_type": "code",
   "execution_count": null,
   "id": "cdcbef49-8087-489b-894e-01e59e89159d",
   "metadata": {},
   "outputs": [],
   "source": [
    "dta_final_depa = gdf[['CCDD', 'NOMBDEP','geometry']] \\ ##combina df y gdf\n",
    "    .merge(df_dep, on = ['CCDD'], how = 'left') \\\n",
    "    .groupby(['CCDD', 'NOMBDEP','geometry']).sum().reset_index()"
   ]
  },
  {
   "cell_type": "code",
   "execution_count": null,
   "id": "5da7a37e-5be6-449c-b603-855970f9299e",
   "metadata": {},
   "outputs": [],
   "source": [
    "gdf_depa = gpd.GeoDataFrame(dta_final_depa, geometry='geometry')"
   ]
  },
  {
   "cell_type": "markdown",
   "id": "1d6fc774-b7f7-4177-9084-0d1dea65376a",
   "metadata": {},
   "source": [
    "Calcular el área y porcentaje para cada categoría"
   ]
  },
  {
   "cell_type": "code",
   "execution_count": null,
   "id": "ebb4d2b7-8466-490c-8d7b-68cb46139ba3",
   "metadata": {},
   "outputs": [],
   "source": [
    "# Definir la resolución del raster (en metros)\n",
    "spatial_resolution = 10  # metros\n",
    "pixel_area = spatial_resolution ** 2  # área de un píxel en m²\n",
    "\n",
    "# Lista de categorías MSZ específicas\n",
    "categories = ['1', '2', '3', '4', '5', '11', '12', '13', '14', '15', '21', '22', '23', '24', '25']\n",
    "\n",
    "# Calcular el área total de la geometría\n",
    "gdf_depa['geometry_area'] = gdf_depa['geometry'].area\n",
    "\n",
    "# Calcular el área cubierta y el porcentaje de área cubierta para cada categoría\n",
    "for category in categories:\n",
    "    \n",
    "    category_column = category\n",
    "    # Calcular el área cubierta por la categoría\n",
    "    gdf_depa[f'area_c{category}'] = gdf_depa[category_column] * pixel_area\n",
    "        \n",
    "    # Calcular el porcentaje de área cubierta por la categoría\n",
    "    gdf_depa[f'perc_c{category}'] = (gdf_depa[f'area_c{category}'] / gdf_depa['geometry_area']) * 100\n",
    "\n",
    "# Imprimir el DataFrame con los nuevos porcentajes de cobertura\n",
    "#print(gdf_depa[['geometry_area'] + [f'area_c{category}' for category in categories] + [f'perc_c{category}' for category in categories]])\n",
    "\n",
    "print(gdf_depa)"
   ]
  },
  {
   "cell_type": "code",
   "execution_count": null,
   "id": "fe161227-56b2-47fb-8948-db31db71eaca",
   "metadata": {},
   "outputs": [],
   "source": [
    "Mapas"
   ]
  }
 ],
 "metadata": {
  "kernelspec": {
   "display_name": "Python 3 (ipykernel)",
   "language": "python",
   "name": "python3"
  },
  "language_info": {
   "codemirror_mode": {
    "name": "ipython",
    "version": 3
   },
   "file_extension": ".py",
   "mimetype": "text/x-python",
   "name": "python",
   "nbconvert_exporter": "python",
   "pygments_lexer": "ipython3",
   "version": "3.9.19"
  }
 },
 "nbformat": 4,
 "nbformat_minor": 5
}
