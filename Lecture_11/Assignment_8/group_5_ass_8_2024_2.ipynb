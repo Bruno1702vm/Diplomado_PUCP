{
 "cells": [
  {
   "cell_type": "code",
   "execution_count": null,
   "id": "cce2157a",
   "metadata": {},
   "outputs": [],
   "source": [
    "#Assignment 8"
   ]
  },
  {
   "cell_type": "code",
   "execution_count": null,
   "id": "c3413ddb",
   "metadata": {},
   "outputs": [],
   "source": [
    "!pip install rasterstats"
   ]
  },
  {
   "cell_type": "code",
   "execution_count": null,
   "id": "7b1730b5",
   "metadata": {},
   "outputs": [],
   "source": [
    "import os\n",
    "import geopandas as gpd\n",
    "import rasterio\n",
    "from rasterstats import zonal_stats\n",
    "from shapely.ops import transform\n",
    "import matplotlib.pyplot as plt\n",
    "import pandas as pd\n",
    "import pyproj\n",
    "import numpy as np\n",
    "import json\n",
    "import folium as fm"
   ]
  },
  {
   "cell_type": "code",
   "execution_count": null,
   "id": "7aafa101",
   "metadata": {},
   "outputs": [],
   "source": [
    "# Load your shapefile\n",
    "shapefile_path = '../../_data/INEI_LIMITE_DEPARTAMENTAL/INEI_LIMITE_DEPARTAMENTAL.shp'\n",
    "gdf = gpd.read_file(shapefile_path)\n",
    "gdf = gdf.to_crs('esri:54009')"
   ]
  },
  {
   "cell_type": "code",
   "execution_count": null,
   "id": "070ad767",
   "metadata": {},
   "outputs": [],
   "source": [
    "### Obtener datos de los rasters"
   ]
  },
  {
   "cell_type": "code",
   "execution_count": null,
   "id": "2f09f1c7",
   "metadata": {},
   "outputs": [],
   "source": [
    "# # Loop\n",
    "\n",
    "# # Definir los archivos raster y los nombres de los DataFrames\n",
    "# rasters = {\n",
    "#         'df10_10':'../../_data/rasters_peru/R10_C10.tif',\n",
    "#         'df10_11':'../../_data/rasters_peru/R10_C11.tif',\n",
    "#         'df10_12':'../../_data/rasters_peru/R10_C12.tif',\n",
    "#         'df11_11':'../../_data/rasters_peru/R11_C11.tif',\n",
    "#         'df11_12':'../../_data/rasters_peru/R11_C12.tif',\n",
    "#         'df12_11':'../../_data/rasters_peru/R12_C11.tif',\n",
    "#         'df12_12':'../../_data/rasters_peru/R12_C12.tif'\n",
    "# }\n",
    "\n",
    "# # Diccionario para almacenar los DataFrames\n",
    "# statistics = {}\n",
    "\n",
    "# # Bucle para procesar cada archivo raster\n",
    "# for df_name, raster_path in rasters.items():\n",
    "#     # Calcular estadísticas zonales\n",
    "#     stats = zonal_stats(gdf, raster_path, stats=\"count\", categorical=True, all_touched=True)\n",
    "    \n",
    "#     # Crear un DataFrame para las estadísticas\n",
    "#     df_stats = pd.DataFrame(stats)\n",
    "\n",
    "#     # Cruce con shp\n",
    "#     df = pd.concat([gdf.reset_index(drop=True), df_stats], axis=1)\n",
    "    \n",
    "#     # Almacenar el DataFrame en el diccionario\n",
    "#     statistics[df_name] = df\n"
   ]
  },
  {
   "cell_type": "code",
   "execution_count": null,
   "id": "977ce1cc",
   "metadata": {},
   "outputs": [],
   "source": [
    "# dfs_list = list(statistics.values())\n",
    "\n",
    "# # Concatenar todos los DataFrames en uno solo\n",
    "# df_consolidado = pd.concat(dfs_list, ignore_index=True)\n",
    "\n",
    "# # print(df_consolidado)"
   ]
  },
  {
   "cell_type": "code",
   "execution_count": null,
   "id": "a0bf01dc",
   "metadata": {},
   "outputs": [],
   "source": [
    "### Importar CSV (opcional al loop de los rasters)"
   ]
  }
 ],
 "metadata": {
  "kernelspec": {
   "display_name": "Python 3 (ipykernel)",
   "language": "python",
   "name": "python3"
  },
  "language_info": {
   "codemirror_mode": {
    "name": "ipython",
    "version": 3
   },
   "file_extension": ".py",
   "mimetype": "text/x-python",
   "name": "python",
   "nbconvert_exporter": "python",
   "pygments_lexer": "ipython3",
   "version": "3.11.4"
  }
 },
 "nbformat": 4,
 "nbformat_minor": 5
}
