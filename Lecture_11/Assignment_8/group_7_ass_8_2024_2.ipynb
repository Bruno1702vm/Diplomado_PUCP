{
 "cells": [
  {
   "cell_type": "markdown",
   "id": "443e80e1-3d4e-4871-ba16-addeb5d61fa2",
   "metadata": {},
   "source": [
    "# Assignment 8 - [#1079](https://github.com/alexanderquispe/Diplomado_PUCP/issues/1079)\n",
    "**Deadline: September 14th - 23:59**\n",
    "\n",
    "Fernando Mendoza | Andrea Pezo | Michel Cotrina | Estefanny Gil | Armando Ore"
   ]
  },
  {
   "cell_type": "markdown",
   "id": "3860fb29-2b43-484d-ad28-3db95266c619",
   "metadata": {},
   "source": [
    "## Instructions"
   ]
  },
  {
   "cell_type": "markdown",
   "id": "8709d3bb-1beb-4417-9191-ed0c1a1da06d",
   "metadata": {},
   "source": [
    "1. Get the 15 variables from this raster for all Peru departments polygons. This is the [link](https://github.com/alexanderquispe/Diplomado_PUCP/tree/main/_data/INEI_LIMITE_DEPARTAMENTAL) where shapefiles are located. This is the [link](https://ghsl.jrc.ec.europa.eu/download.php?ds=builtC) of the source raster. The values should be the percentage of district area cover by this specific Morphological Settlement Zone.\n",
    "2. Then you are going to generate choropleth map using folium for these 15 variables.\n",
    "3. Save your html in the same folder of your JN. Name your HTML as your branch. This HTML should have all these layers. Please do not forget to use Layer Control.\n",
    "\n",
    "**Do not upload any other file. Be cautious of uploading files greater than 100MB.**"
   ]
  },
  {
   "cell_type": "code",
   "execution_count": 23,
   "id": "c6e42866-a55a-446d-929b-fb925895265d",
   "metadata": {},
   "outputs": [
    {
     "data": {
      "text/plain": [
       "'C:\\\\Users\\\\LENOVO\\\\Desktop\\\\Github\\\\Diplomado_PUCP\\\\Lecture_11\\\\Assignment_8'"
      ]
     },
     "execution_count": 23,
     "metadata": {},
     "output_type": "execute_result"
    }
   ],
   "source": [
    "pwd"
   ]
  },
  {
   "cell_type": "markdown",
   "id": "f0c0dc40-a18e-4fcf-9bc0-64455a270d1c",
   "metadata": {},
   "source": [
    "## Step 0: Library"
   ]
  },
  {
   "cell_type": "code",
   "execution_count": null,
   "id": "e26d0dfe-0d4f-490d-88a9-a9d15fa62298",
   "metadata": {},
   "outputs": [],
   "source": [
    "# !pip install rasterio numpy matplotlib\n",
    "# !pip install ipywidgets\n",
    "# !pip install rasterstats"
   ]
  },
  {
   "cell_type": "code",
   "execution_count": 1,
   "id": "ac00e686-6d4b-4708-a56b-3d38b44619bb",
   "metadata": {},
   "outputs": [],
   "source": [
    "import geopandas as gpd\n",
    "import rasterio\n",
    "from rasterio.merge import merge\n",
    "from rasterio.plot import show\n",
    "from shapely.geometry import mapping\n",
    "import rasterio\n",
    "from pathlib import Path\n",
    "import matplotlib.pyplot as plt\n",
    "import matplotlib.patheffects as pe\n",
    "import os \n",
    "from rasterio.mask import mask\n",
    "from rasterstats import zonal_stats\n",
    "import pandas as pd\n",
    "from shapely.ops import transform"
   ]
  },
  {
   "cell_type": "markdown",
   "id": "e33e91a1-6eff-48f6-8663-8860186edae2",
   "metadata": {},
   "source": [
    "## Step 1: "
   ]
  },
  {
   "cell_type": "code",
   "execution_count": 3,
   "id": "01a1602f-e2db-4bcc-9970-abe9b61be45f",
   "metadata": {},
   "outputs": [
    {
     "name": "stdout",
     "output_type": "stream",
     "text": [
      "   OBJECTID_1  OBJECTID CCDD   NOMBDEP      CAPITAL  Shape_STAr  Shape_STLe  \\\n",
      "0           1       1.0   01  AMAZONAS  CHACHAPOYAS    3.203006   12.912088   \n",
      "1           2       2.0   02    ANCASH       HUARAZ    2.954592   11.780424   \n",
      "2           3       3.0   03  APURIMAC      ABANCAY    1.765933    7.730154   \n",
      "3           4       4.0   04  AREQUIPA     AREQUIPA    5.330203   17.405040   \n",
      "4           5       5.0   05  AYACUCHO     AYACUCHO    3.643705   17.127166   \n",
      "\n",
      "   ORIG_FID  Shape_Leng  Shape_Area                    CORREO  \\\n",
      "0         0   12.912088    3.203006  juan.suyo@geogpsperu.com   \n",
      "1         1   11.780424    2.954592  juan.suyo@geogpsperu.com   \n",
      "2         2    7.730154    1.765933  juan.suyo@geogpsperu.com   \n",
      "3         3   17.405040    5.330203  juan.suyo@geogpsperu.com   \n",
      "4         4   17.127166    3.643705  juan.suyo@geogpsperu.com   \n",
      "\n",
      "             CONTACTO   WHATSAPP  \\\n",
      "0  www.geogpsperu.com  931381206   \n",
      "1  www.geogpsperu.com  931381206   \n",
      "2  www.geogpsperu.com  931381206   \n",
      "3  www.geogpsperu.com  931381206   \n",
      "4  www.geogpsperu.com  931381206   \n",
      "\n",
      "                                            geometry  \n",
      "0  POLYGON ((-77.81399 -2.99278, -77.81483 -2.995...  \n",
      "1  POLYGON ((-77.64697 -8.05086, -77.64689 -8.051...  \n",
      "2  POLYGON ((-73.74655 -13.17442, -73.7457 -13.17...  \n",
      "3  POLYGON ((-71.98109 -14.64062, -71.98093 -14.6...  \n",
      "4  POLYGON ((-74.34843 -12.17503, -74.35 -12.1758...  \n"
     ]
    }
   ],
   "source": [
    "# Load your shapefile\n",
    "shapefile_path = 'INEI_LIMITE_DEPARTAMENTAL.shp'\n",
    "gdf = gpd.read_file(shapefile_path)\n",
    "print(gdf.head())"
   ]
  },
  {
   "cell_type": "code",
   "execution_count": 27,
   "id": "ac84cb47-4e9a-49bf-b9e0-6cae9f7fc732",
   "metadata": {},
   "outputs": [],
   "source": [
    "# from colab\n",
    "\n",
    "raster = [\"GHS_BUILT_C_MSZ_E2018_GLOBE_R2023A_54009_10_V1_0_R10_C10.tif\",\n",
    "          \"GHS_BUILT_C_MSZ_E2018_GLOBE_R2023A_54009_10_V1_0_R10_C11.tif\",\n",
    "          \"GHS_BUILT_C_MSZ_E2018_GLOBE_R2023A_54009_10_V1_0_R10_C12.tif\",\n",
    "          \"GHS_BUILT_C_MSZ_E2018_GLOBE_R2023A_54009_10_V1_0_R11_C11.tif\",\n",
    "          \"GHS_BUILT_C_MSZ_E2018_GLOBE_R2023A_54009_10_V1_0_R11_C12.tif\",\n",
    "          \"GHS_BUILT_C_MSZ_E2018_GLOBE_R2023A_54009_10_V1_0_R12_C12.tif\",\n",
    "          \"GHS_BUILT_C_MSZ_E2018_GLOBE_R2023A_54009_10_V1_0_R9_C10.tif\",\n",
    "          \"GHS_BUILT_C_MSZ_E2018_GLOBE_R2023A_54009_10_V1_0_R9_C11.tif\",\n",
    "          \"GHS_BUILT_C_MSZ_E2018_GLOBE_R2023A_54009_10_V1_0_R9_C12.tif\"\n",
    "         ]\n",
    "statistics = []\n",
    "\n",
    "for raster_path in raster:\n",
    "    # zonal_stats\n",
    "    stats = zonal_stats(gdf, raster_path, stats=\"count sum\", categorical=True, all_touched=True)\n",
    "    # df\n",
    "    stats_df = pd.DataFrame(stats)\n",
    "    # concat \n",
    "    df = pd.concat([gdf.reset_index(drop=True), stats_df], axis=1)\n",
    "    statistics.append(df)"
   ]
  },
  {
   "cell_type": "code",
   "execution_count": null,
   "id": "f877b17f-51d5-40e2-8cd2-4a5da1907ed9",
   "metadata": {},
   "outputs": [],
   "source": [
    "# concat all dfs\n",
    "end_df = pd.concat(statistics, ignore_index=True)\n",
    "print(end_df.head())\n",
    "# NaN to 0\n",
    "end_df.fillna(0, inplace=True)"
   ]
  }
 ],
 "metadata": {
  "kernelspec": {
   "display_name": "Python 3 (ipykernel)",
   "language": "python",
   "name": "python3"
  },
  "language_info": {
   "codemirror_mode": {
    "name": "ipython",
    "version": 3
   },
   "file_extension": ".py",
   "mimetype": "text/x-python",
   "name": "python",
   "nbconvert_exporter": "python",
   "pygments_lexer": "ipython3",
   "version": "3.12.4"
  }
 },
 "nbformat": 4,
 "nbformat_minor": 5
}
