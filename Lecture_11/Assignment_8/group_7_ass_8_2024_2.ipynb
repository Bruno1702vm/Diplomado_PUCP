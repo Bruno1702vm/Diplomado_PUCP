{
 "cells": [
  {
   "cell_type": "markdown",
   "id": "443e80e1-3d4e-4871-ba16-addeb5d61fa2",
   "metadata": {},
   "source": [
    "# Assignment 8 - [#1079](https://github.com/alexanderquispe/Diplomado_PUCP/issues/1079)\n",
    "**Deadline: September 14th - 23:59**\n",
    "\n",
    "Fernando Mendoza | Andrea Pezo | Michel Cotrina | Estefanny Gil | Armando Ore"
   ]
  },
  {
   "cell_type": "markdown",
   "id": "3860fb29-2b43-484d-ad28-3db95266c619",
   "metadata": {},
   "source": [
    "## Instructions"
   ]
  },
  {
   "cell_type": "markdown",
   "id": "8709d3bb-1beb-4417-9191-ed0c1a1da06d",
   "metadata": {},
   "source": [
    "1. Get the 15 variables from this raster for all Peru departments polygons. This is the [link](https://github.com/alexanderquispe/Diplomado_PUCP/tree/main/_data/INEI_LIMITE_DEPARTAMENTAL) where shapefiles are located. This is the [link](https://ghsl.jrc.ec.europa.eu/download.php?ds=builtC) of the source raster. The values should be the percentage of district area cover by this specific Morphological Settlement Zone.\n",
    "2. Then you are going to generate choropleth map using folium for these 15 variables.\n",
    "3. Save your html in the same folder of your JN. Name your HTML as your branch. This HTML should have all these layers. Please do not forget to use Layer Control.\n",
    "\n",
    "**Do not upload any other file. Be cautious of uploading files greater than 100MB.**"
   ]
  },
  {
   "cell_type": "code",
   "execution_count": 23,
   "id": "c6e42866-a55a-446d-929b-fb925895265d",
   "metadata": {},
   "outputs": [
    {
     "data": {
      "text/plain": [
       "'C:\\\\Users\\\\LENOVO\\\\Desktop\\\\Github\\\\Diplomado_PUCP\\\\Lecture_11\\\\Assignment_8'"
      ]
     },
     "execution_count": 23,
     "metadata": {},
     "output_type": "execute_result"
    }
   ],
   "source": [
    "pwd"
   ]
  },
  {
   "cell_type": "markdown",
   "id": "f0c0dc40-a18e-4fcf-9bc0-64455a270d1c",
   "metadata": {},
   "source": [
    "## Step 0: Library"
   ]
  },
  {
   "cell_type": "code",
   "execution_count": null,
   "id": "e26d0dfe-0d4f-490d-88a9-a9d15fa62298",
   "metadata": {},
   "outputs": [],
   "source": [
    "!pip install rasterio numpy matplotlib\n",
    "!pip install ipywidgets\n",
    "!pip install rasterstats\n",
    "!pip install geowombat"
   ]
  },
  {
   "cell_type": "code",
   "execution_count": 4,
   "id": "ac00e686-6d4b-4708-a56b-3d38b44619bb",
   "metadata": {},
   "outputs": [],
   "source": [
    "import geopandas as gpd\n",
    "import rasterio\n",
    "from rasterio.merge import merge\n",
    "from rasterio.plot import show\n",
    "from shapely.geometry import mapping\n",
    "import rasterio\n",
    "from pathlib import Path\n",
    "import matplotlib.pyplot as plt\n",
    "import matplotlib.patheffects as pe\n",
    "import os\n",
    "from rasterio.mask import mask\n",
    "from rasterstats import zonal_stats\n",
    "import pandas as pd\n",
    "#import geowombat as gw in colab"
   ]
  },
  {
   "cell_type": "markdown",
   "id": "e33e91a1-6eff-48f6-8663-8860186edae2",
   "metadata": {},
   "source": [
    "## Step 1: "
   ]
  },
  {
   "cell_type": "code",
   "execution_count": null,
   "id": "01a1602f-e2db-4bcc-9970-abe9b61be45f",
   "metadata": {},
   "outputs": [],
   "source": [
    "# Shapefile\n",
    "departamentos_path = r'../../_data/INEI_LIMITE_DEPARTAMENTAL'\n",
    "gdf_departamentos = gpd.read_file(departamentos_path)\n",
    "print(gdf_departamentos.head())"
   ]
  },
  {
   "cell_type": "code",
   "execution_count": null,
   "id": "18b0fc1b-3d44-426b-843d-ecd7a5739970",
   "metadata": {},
   "outputs": [],
   "source": [
    "from google.colab import drive\n",
    "drive.mount('/content/drive')"
   ]
  },
  {
   "cell_type": "code",
   "execution_count": 27,
   "id": "ac84cb47-4e9a-49bf-b9e0-6cae9f7fc732",
   "metadata": {},
   "outputs": [],
   "source": [
    "# from collab\n",
    "raster = [\"drive/content/diplomado/assignment_10/tif_files/GHS_BUILT_C_MSZ_E2018_GLOBE_R2023A_54009_10_V1_0_R10_C11.tif\",\n",
    "          \"drive/content/diplomado/assignment_10/tif_files/GHS_BUILT_C_MSZ_E2018_GLOBE_R2023A_54009_10_V1_0_R10_C12.tif\",\n",
    "          \"drive/content/diplomado/assignment_10/tif_files/GHS_BUILT_C_MSZ_E2018_GLOBE_R2023A_54009_10_V1_0_R11_C11.tif\",\n",
    "          \"drive/content/diplomado/assignment_10/tif_files/GHS_BUILT_C_MSZ_E2018_GLOBE_R2023A_54009_10_V1_0_R11_C12.tif\",\n",
    "          \"drive/content/diplomado/assignment_10/tif_files/GHS_BUILT_C_MSZ_E2018_GLOBE_R2023A_54009_10_V1_0_R12_C11.tif\",\n",
    "          \"drive/content/diplomado/assignment_10/tif_files/GHS_BUILT_C_MSZ_E2018_GLOBE_R2023A_54009_10_V1_0_R12_C12.tif\"\n",
    "         ]\n",
    "statistics = []"
   ]
  },
  {
   "cell_type": "code",
   "execution_count": null,
   "id": "f877b17f-51d5-40e2-8cd2-4a5da1907ed9",
   "metadata": {},
   "outputs": [],
   "source": [
    "for raster_path in raster:\n",
    "    # zonal_stats\n",
    "    stats = zonal_stats(gdf_departamentos, raster_path, stats=\"count sum\", categorical=True, all_touched=True)\n",
    "    # df\n",
    "    stats_df = pd.DataFrame(stats)\n",
    "    # concat \n",
    "    df = pd.concat([gdf_departmentos.reset_index(drop=True), stats_df], axis=1)\n",
    "    statistics.append(df)"
   ]
  },
  {
   "cell_type": "code",
   "execution_count": null,
   "id": "7b6ba582-519d-4c3e-bc81-78b4ddb79410",
   "metadata": {},
   "outputs": [],
   "source": [
    "# concat all dfs\n",
    "end_df = pd.concat(statistics, ignore_index=True)\n",
    "print(end_df.head())\n",
    "# NaN to 0\n",
    "end_df.fillna(0, inplace=True)"
   ]
  }
 ],
 "metadata": {
  "kernelspec": {
   "display_name": "Python 3 (ipykernel)",
   "language": "python",
   "name": "python3"
  },
  "language_info": {
   "codemirror_mode": {
    "name": "ipython",
    "version": 3
   },
   "file_extension": ".py",
   "mimetype": "text/x-python",
   "name": "python",
   "nbconvert_exporter": "python",
   "pygments_lexer": "ipython3",
   "version": "3.12.4"
  }
 },
 "nbformat": 4,
 "nbformat_minor": 5
}
