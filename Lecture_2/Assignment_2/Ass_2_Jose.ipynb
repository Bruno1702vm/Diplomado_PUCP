{
 "cells": [
  {
   "cell_type": "markdown",
   "id": "4a98b6ad-e4a6-4e59-af18-56b2ab6f4a83",
   "metadata": {},
   "source": [
    "# Strings (1,2,3)"
   ]
  },
  {
   "cell_type": "markdown",
   "id": "9992adf9-c2f6-411b-9ea8-817dccf64ca2",
   "metadata": {},
   "source": [
    "1. Drop the duplicate blank spaces"
   ]
  },
  {
   "cell_type": "code",
   "execution_count": 17,
   "id": "526371c6-3437-424d-9ad6-c184650a6f1f",
   "metadata": {},
   "outputs": [],
   "source": [
    "str1 = 'I am                            too                                                        old'"
   ]
  },
  {
   "cell_type": "code",
   "execution_count": 21,
   "id": "e338e722-8821-4b37-90e1-318b4e3e884b",
   "metadata": {},
   "outputs": [
    {
     "name": "stdout",
     "output_type": "stream",
     "text": [
      "I am too old\n"
     ]
    }
   ],
   "source": [
    "str1 = 'I am                            too                                                        old'\n",
    "\n",
    "# With the split command, we delete all the blank spaces in the string\n",
    "\n",
    "drop_space = str1.split()\n",
    "\n",
    "# Then we use the command join with a space in order to only have one blank space between the words in the string. We show the results with the print command\n",
    "\n",
    "no_duplicates = ' '.join(drop_space)\n",
    "\n",
    "print(no_duplicates)"
   ]
  },
  {
   "cell_type": "markdown",
   "id": "408b6164-9c3d-4759-af12-28c9c3143ec0",
   "metadata": {},
   "source": [
    "2. Get the number of letters in the string"
   ]
  },
  {
   "cell_type": "code",
   "execution_count": 24,
   "id": "4d966a0e-dfc0-49ae-b653-be6418d5887b",
   "metadata": {},
   "outputs": [
    {
     "name": "stdout",
     "output_type": "stream",
     "text": [
      "9\n"
     ]
    }
   ],
   "source": [
    "str1 = 'I am                            too                                                        old'\n",
    "\n",
    "# We use a function to count only the letters. For that, we use the command isalpha\n",
    "\n",
    "count_letters = len([caracter for caracter in str1 if caracter.isalpha()])\n",
    "\n",
    "print(count_letters)"
   ]
  },
  {
   "cell_type": "markdown",
   "id": "eedf92f5-5b72-442e-a10f-7e9430a2874a",
   "metadata": {},
   "source": [
    "3. Get the numbers of blank spaces in the string"
   ]
  },
  {
   "cell_type": "code",
   "execution_count": 28,
   "id": "831d7abb-a8a3-49a0-b42f-64fb771d442a",
   "metadata": {},
   "outputs": [
    {
     "name": "stdout",
     "output_type": "stream",
     "text": [
      "85\n"
     ]
    }
   ],
   "source": [
    "str1 = 'I am                            too                                                        old'\n",
    "\n",
    "# We use a function to count only the blank spaces. For that, we specify to count only the blank spaces with the \" \"\n",
    "\n",
    "count_spaces = len([caracter for caracter in str1 if caracter== ' '])\n",
    "\n",
    "print(count_spaces)"
   ]
  },
  {
   "cell_type": "markdown",
   "id": "e65c10e3-0aab-4187-aec0-4ac16185131f",
   "metadata": {},
   "source": [
    "# Strings (4,5,6)"
   ]
  },
  {
   "cell_type": "markdown",
   "id": "986c4038-e6c3-4a09-b039-8209a808ce04",
   "metadata": {},
   "source": [
    "4. Get the position of @ in each string in the email list"
   ]
  },
  {
   "cell_type": "code",
   "execution_count": 24,
   "id": "d38dd7e4-f2af-4898-ade3-b7b54cd411de",
   "metadata": {},
   "outputs": [],
   "source": [
    "emails = [\"cscornejo@pucp.edu.pe\", \"orellana.cn@pucp.edu.pe\", \"karina.morales@pucp.edu.pe\", \"a20083223@pucp.pe\", \"abel.camacho@pucp.pe\", \"mtintaya@pucp.edu.pe\", \"joselin.chavez@pucp.edu.pe\", \"a20105737@pucp.pe\", \"jfgomezc@pucp.pe\", \"afrania.palomino@pucp.pe\", \"luzon.bianca@pucp.pe\", \"adrian.suanaz@pucp.pe\", \"soto.y@pucp.edu.pe\", \"a20132766@pucp.pe\", \"andre.lama@pucp.edu.pe\", \"gustavo.meza@pucp.edu.pe\", \"pmlozada@pucp.edu.pe\", \"m.zambranoj@pucp.edu.pe\", \"nicolas.jacobs@pucp.edu.pe\", \"gvidal@pucp.edu.pe\", \"jane.torres@pucp.edu.pe\", \"m.lopez@pucp.edu.pe\", \"alejandro.boyco@pucp.edu.pe\", \"a20167070@pucp.edu.pe\", \"riega.stephy@pucp.edu.pe\", \"vlevanot@pucp.edu.pe\", \"sesquives@pucp.edu.pe\", \"perez.juanc@pucp.edu.pe\", \"mariana.otero@pucp.edu.pe\", \"aclavo@pucp.edu.pe\", \"a20182474@pucp.edu.pe\", \"josue.caldas@pucp.edu.pe\", \"fabio.salas@pucp.edu.pe\", \"fernanda.pizarro@pucp.edu.pe\", \"aquillatupa@pucp.pe\"]"
   ]
  },
  {
   "cell_type": "code",
   "execution_count": 32,
   "id": "621433fa-4e41-4df0-bd50-cc3d242f005b",
   "metadata": {},
   "outputs": [
    {
     "name": "stdout",
     "output_type": "stream",
     "text": [
      "[9, 11, 14, 9, 12, 8, 14, 9, 8, 16, 12, 13, 6, 9, 10, 12, 8, 11, 14, 6, 11, 7, 15, 9, 12, 8, 9, 11, 13, 6, 9, 12, 11, 16, 11]\n"
     ]
    }
   ],
   "source": [
    "emails = [\"cscornejo@pucp.edu.pe\", \"orellana.cn@pucp.edu.pe\", \"karina.morales@pucp.edu.pe\", \"a20083223@pucp.pe\", \"abel.camacho@pucp.pe\", \"mtintaya@pucp.edu.pe\", \"joselin.chavez@pucp.edu.pe\", \"a20105737@pucp.pe\", \"jfgomezc@pucp.pe\", \"afrania.palomino@pucp.pe\", \"luzon.bianca@pucp.pe\", \"adrian.suanaz@pucp.pe\", \"soto.y@pucp.edu.pe\", \"a20132766@pucp.pe\", \"andre.lama@pucp.edu.pe\", \"gustavo.meza@pucp.edu.pe\", \"pmlozada@pucp.edu.pe\", \"m.zambranoj@pucp.edu.pe\", \"nicolas.jacobs@pucp.edu.pe\", \"gvidal@pucp.edu.pe\", \"jane.torres@pucp.edu.pe\", \"m.lopez@pucp.edu.pe\", \"alejandro.boyco@pucp.edu.pe\", \"a20167070@pucp.edu.pe\", \"riega.stephy@pucp.edu.pe\", \"vlevanot@pucp.edu.pe\", \"sesquives@pucp.edu.pe\", \"perez.juanc@pucp.edu.pe\", \"mariana.otero@pucp.edu.pe\", \"aclavo@pucp.edu.pe\", \"a20182474@pucp.edu.pe\", \"josue.caldas@pucp.edu.pe\", \"fabio.salas@pucp.edu.pe\", \"fernanda.pizarro@pucp.edu.pe\", \"aquillatupa@pucp.pe\"]\n",
    "\n",
    "# First we use the function find to find the position of @ in the list\n",
    "\n",
    "def position_at(email):\n",
    "    return email.find('@')\n",
    "\n",
    "# Then, we use the function map to apply the function to all the list of emails \n",
    "\n",
    "list_emails=list(map(position_at,emails))\n",
    "\n",
    "# Finally, we show the results \n",
    "\n",
    "print(list_emails)"
   ]
  },
  {
   "cell_type": "markdown",
   "id": "1420069b-d524-45e4-9417-7c65e6266a7d",
   "metadata": {},
   "source": [
    "5. Identifies if exists .edu. in each string in the email list. Get a list of booleans"
   ]
  },
  {
   "cell_type": "code",
   "execution_count": 3,
   "id": "45401b7e-d419-41af-bb7e-d6760b1eec5e",
   "metadata": {},
   "outputs": [
    {
     "name": "stdout",
     "output_type": "stream",
     "text": [
      "[True, True, True, False, False, True, True, False, False, False, False, False, True, False, True, True, True, True, True, True, True, True, True, True, True, True, True, True, True, True, True, True, True, True, False]\n"
     ]
    }
   ],
   "source": [
    "emails = [\"cscornejo@pucp.edu.pe\", \"orellana.cn@pucp.edu.pe\", \"karina.morales@pucp.edu.pe\", \"a20083223@pucp.pe\", \"abel.camacho@pucp.pe\", \"mtintaya@pucp.edu.pe\", \"joselin.chavez@pucp.edu.pe\", \"a20105737@pucp.pe\", \"jfgomezc@pucp.pe\", \"afrania.palomino@pucp.pe\", \"luzon.bianca@pucp.pe\", \"adrian.suanaz@pucp.pe\", \"soto.y@pucp.edu.pe\", \"a20132766@pucp.pe\", \"andre.lama@pucp.edu.pe\", \"gustavo.meza@pucp.edu.pe\", \"pmlozada@pucp.edu.pe\", \"m.zambranoj@pucp.edu.pe\", \"nicolas.jacobs@pucp.edu.pe\", \"gvidal@pucp.edu.pe\", \"jane.torres@pucp.edu.pe\", \"m.lopez@pucp.edu.pe\", \"alejandro.boyco@pucp.edu.pe\", \"a20167070@pucp.edu.pe\", \"riega.stephy@pucp.edu.pe\", \"vlevanot@pucp.edu.pe\", \"sesquives@pucp.edu.pe\", \"perez.juanc@pucp.edu.pe\", \"mariana.otero@pucp.edu.pe\", \"aclavo@pucp.edu.pe\", \"a20182474@pucp.edu.pe\", \"josue.caldas@pucp.edu.pe\", \"fabio.salas@pucp.edu.pe\", \"fernanda.pizarro@pucp.edu.pe\", \"aquillatupa@pucp.pe\"]\n",
    "\n",
    "# First, we define a function to find the mails that contain .edu. If the email does not contain .edu, we assign the value -1 (false). \n",
    "\n",
    "def position_edu(email):\n",
    "    return email.find('.edu.') !=-1\n",
    "\n",
    "# Then, we apply the function to all the list of emails and print the results. We obtain a list of booleans\n",
    "\n",
    "edu_mails=list(map(position_edu,emails))\n",
    "\n",
    "print(edu_mails)"
   ]
  },
  {
   "cell_type": "markdown",
   "id": "9ba6014f-fbd1-4ef5-8fbb-9500b164ed50",
   "metadata": {},
   "source": [
    "6. Get all the strings before the first dot in each string in the email list. Identify how many of them has @"
   ]
  },
  {
   "cell_type": "code",
   "execution_count": 12,
   "id": "04e39123-87d0-48c4-a58b-ee93db122bba",
   "metadata": {},
   "outputs": [
    {
     "name": "stdout",
     "output_type": "stream",
     "text": [
      "string before the first dot : ['cscornejo@pucp', 'orellana', 'karina', 'a20083223@pucp', 'abel', 'mtintaya@pucp', 'joselin', 'a20105737@pucp', 'jfgomezc@pucp', 'afrania', 'luzon', 'adrian', 'soto', 'a20132766@pucp', 'andre', 'gustavo', 'pmlozada@pucp', 'm', 'nicolas', 'gvidal@pucp', 'jane', 'm', 'alejandro', 'a20167070@pucp', 'riega', 'vlevanot@pucp', 'sesquives@pucp', 'perez', 'mariana', 'aclavo@pucp', 'a20182474@pucp', 'josue', 'fabio', 'fernanda', 'aquillatupa@pucp']\n",
      "string that contains @ : 14\n"
     ]
    }
   ],
   "source": [
    "emails = [\"cscornejo@pucp.edu.pe\", \"orellana.cn@pucp.edu.pe\", \"karina.morales@pucp.edu.pe\", \"a20083223@pucp.pe\", \"abel.camacho@pucp.pe\", \"mtintaya@pucp.edu.pe\", \"joselin.chavez@pucp.edu.pe\", \"a20105737@pucp.pe\", \"jfgomezc@pucp.pe\", \"afrania.palomino@pucp.pe\", \"luzon.bianca@pucp.pe\", \"adrian.suanaz@pucp.pe\", \"soto.y@pucp.edu.pe\", \"a20132766@pucp.pe\", \"andre.lama@pucp.edu.pe\", \"gustavo.meza@pucp.edu.pe\", \"pmlozada@pucp.edu.pe\", \"m.zambranoj@pucp.edu.pe\", \"nicolas.jacobs@pucp.edu.pe\", \"gvidal@pucp.edu.pe\", \"jane.torres@pucp.edu.pe\", \"m.lopez@pucp.edu.pe\", \"alejandro.boyco@pucp.edu.pe\", \"a20167070@pucp.edu.pe\", \"riega.stephy@pucp.edu.pe\", \"vlevanot@pucp.edu.pe\", \"sesquives@pucp.edu.pe\", \"perez.juanc@pucp.edu.pe\", \"mariana.otero@pucp.edu.pe\", \"aclavo@pucp.edu.pe\", \"a20182474@pucp.edu.pe\", \"josue.caldas@pucp.edu.pe\", \"fabio.salas@pucp.edu.pe\", \"fernanda.pizarro@pucp.edu.pe\", \"aquillatupa@pucp.pe\"]\n",
    "\n",
    "#First, we define the function that give all the string before the first dot. \n",
    "\n",
    "def at_dot(email):\n",
    "    dot=email.find('.')\n",
    "    if dot !=-1:\n",
    "       return email[:dot]\n",
    "    else:\n",
    "        return email\n",
    "\n",
    "#Then, we apply the function to all the email list\n",
    "all_dot = list(map(at_dot,emails))\n",
    "\n",
    "#Finally, we count the number of @ in the string before the first dot\n",
    "\n",
    "count=sum('@' in part for part in all_dot)\n",
    "\n",
    "print(\"string before the first dot :\",all_dot)\n",
    "print(\"string that contains @ :\",count)\n",
    "        "
   ]
  },
  {
   "cell_type": "code",
   "execution_count": null,
   "id": "865e341c-2547-4383-8cca-0bd2b04b6f2b",
   "metadata": {},
   "outputs": [],
   "source": []
  }
 ],
 "metadata": {
  "kernelspec": {
   "display_name": "Python 3 (ipykernel)",
   "language": "python",
   "name": "python3"
  },
  "language_info": {
   "codemirror_mode": {
    "name": "ipython",
    "version": 3
   },
   "file_extension": ".py",
   "mimetype": "text/x-python",
   "name": "python",
   "nbconvert_exporter": "python",
   "pygments_lexer": "ipython3",
   "version": "3.12.4"
  }
 },
 "nbformat": 4,
 "nbformat_minor": 5
}
