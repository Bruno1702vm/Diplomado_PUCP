{
 "cells": [
  {
   "cell_type": "markdown",
   "metadata": {},
   "source": [
    "# 1 Assignment\n",
    "\n",
    "It is totally prohibited to use any kind of loop. You can use stackoverflow. If you copy codes from previous answers, explain each step. No explanation is `0 points`."
   ]
  },
  {
   "cell_type": "markdown",
   "metadata": {},
   "source": [
    "## 1.1 Tuple\n",
    "\n",
    "\n",
    "\n",
    "1. Print the first item of the second item of `tuple1` object. **Hint: Use indexing**<br><br>\n",
    "2. Print the last item of the `tuple1` object.**Hint: Use indexing**<br><br>\n",
    "3. Change the value \"orange\" for \"pink grapefruit\". Comment the output. **Hint: Is it possible?** <br><br>\n",
    "4. Print the length of `tuple1`. **Hint: Length function**<br><br>\n",
    "5. Sum all the elements of tuple2 and describe your steps and explain each of them. **Hint: Use `map` function.**<br><br>\n",
    "6. Generate a new tuple object named as `tuple3` with the half values of `tuple2`. This tuple should be similar as `tuple2`, tuple of lists.  **Hint: Use `map` funciont.**<br><br>"
   ]
  },
  {
   "cell_type": "code",
   "execution_count": 4,
   "metadata": {},
   "outputs": [
    {
     "name": "stdout",
     "output_type": "stream",
     "text": [
      "10\n"
     ]
    }
   ],
   "source": [
    "tuple1 = (\"Orange\", [10, 20, 30], (5, 15, 25))\n",
    "tuple2 = ([7, 8], [9, 1], [10, 7])\n",
    "\n",
    "#1. Print the first item of the second item of tuple1 object: we access the second item first with \"1\" using indexing [] (starting on 0) and then access the first item of that object, referencing tuple1\n",
    "print(tuple1[1][0])"
   ]
  },
  {
   "cell_type": "code",
   "execution_count": 6,
   "metadata": {},
   "outputs": [
    {
     "name": "stdout",
     "output_type": "stream",
     "text": [
      "25\n"
     ]
    }
   ],
   "source": [
    "#2. Print the last item of the tuple1 object: we access the last item with \"-1\" using indexing [] and then access the last item of that object, referencing tuple1\n",
    "print(tuple1[-1][-1])"
   ]
  },
  {
   "cell_type": "code",
   "execution_count": 3,
   "metadata": {},
   "outputs": [
    {
     "ename": "TypeError",
     "evalue": "'tuple' object does not support item assignment",
     "output_type": "error",
     "traceback": [
      "\u001b[1;31m---------------------------------------------------------------------------\u001b[0m",
      "\u001b[1;31mTypeError\u001b[0m                                 Traceback (most recent call last)",
      "Cell \u001b[1;32mIn[3], line 3\u001b[0m\n\u001b[0;32m      1\u001b[0m \u001b[38;5;66;03m#A tuple is an ordered and unchangeable Python container. We cannot change, add or remove items after the tuple has been created\u001b[39;00m\n\u001b[1;32m----> 3\u001b[0m tuple1[\u001b[38;5;241m0\u001b[39m] \u001b[38;5;241m=\u001b[39m \u001b[38;5;124m\"\u001b[39m\u001b[38;5;124mPink grapefruit\u001b[39m\u001b[38;5;124m\"\u001b[39m\n",
      "\u001b[1;31mTypeError\u001b[0m: 'tuple' object does not support item assignment"
     ]
    }
   ],
   "source": [
    "#3. Change Orange to Pink grapefuit: A tuple is an ordered and unchangeable Python container. We cannot change, add or remove items after the tuple has been created\n",
    "\n",
    "tuple1[0] = \"Pink grapefruit\""
   ]
  },
  {
   "cell_type": "code",
   "execution_count": 8,
   "metadata": {},
   "outputs": [
    {
     "data": {
      "text/plain": [
       "3"
      ]
     },
     "execution_count": 8,
     "metadata": {},
     "output_type": "execute_result"
    }
   ],
   "source": [
    "#4. Print the lenght of tuple1\n",
    "\n",
    "len(tuple1)"
   ]
  },
  {
   "cell_type": "code",
   "execution_count": 12,
   "metadata": {},
   "outputs": [],
   "source": [
    "#5. Sum all the elements of tuple2 and describe your steps and explain each of them.\n",
    "sum1 = map(lambda x: sum(x), tuple2) #we use map, call for function lambda and add the sum calculator, reference tuple2"
   ]
  },
  {
   "cell_type": "code",
   "execution_count": 13,
   "metadata": {},
   "outputs": [
    {
     "name": "stdout",
     "output_type": "stream",
     "text": [
      "[15, 10, 17]\n"
     ]
    }
   ],
   "source": [
    "sum1 = list(sum1)  #we turn the tupple into a list \n",
    "print (sum1) #we print the new list"
   ]
  },
  {
   "cell_type": "code",
   "execution_count": 16,
   "metadata": {},
   "outputs": [
    {
     "name": "stdout",
     "output_type": "stream",
     "text": [
      "([7, 8], [9, 1], [10, 7])\n"
     ]
    }
   ],
   "source": [
    "#6. Generate a new tuple object named as tuple3 with the half values of tuple2. This tuple should be similar as tuple2, tuple of lists. Hint: Use map funciont.\n",
    "print(tuple2)"
   ]
  },
  {
   "cell_type": "code",
   "execution_count": 17,
   "metadata": {},
   "outputs": [],
   "source": [
    "#Use map with a lambda function to halve the values in each sublist/object, referencing the calculation of x / 2 and tuple2\n",
    "half = map(lambda sublist: list(map(lambda x: x / 2, sublist)), tuple2)"
   ]
  },
  {
   "cell_type": "code",
   "execution_count": 15,
   "metadata": {},
   "outputs": [
    {
     "name": "stdout",
     "output_type": "stream",
     "text": [
      "([3.5, 4.0], [4.5, 0.5], [5.0, 3.5])\n"
     ]
    }
   ],
   "source": [
    "tuple3 = tuple(half) #we turn the calculus into a tuple\n",
    "print (tuple3) #we print"
   ]
  },
  {
   "cell_type": "markdown",
   "metadata": {},
   "source": [
    "## 1.2 Lists\n",
    "1. Show the indices of the `np.nan` values  in the `f_list` list. We want to see this output: `The indices 0, 1, 4, 7 have np.nan values.` **Hint: Use print function and [f-strings](https://realpython.com/python-f-strings/) to insert the indices values.**<br><br>\n",
    "\n",
    "2. Replicate 4 times the values of the list `p2_list`. We expect an ouput like this: `[ 2 , 3, 4, 5, 2 , 3, 4, 5, 2 , 3, 4, 5, 2 , 3, 4, 5]`.  **Hint: Use multiplication function in `lists`and see the output.**<br><br>\n",
    "3. Print the length of `f_list`. **Hint: Length function**<br><br>\n",
    "4. Print `My teacher assistant is so boring.` using `text1` list. **Hint: Use the [`join` function](https://stackoverflow.com/questions/493819/why-is-it-string-joinlist-instead-of-list-joinstring)**<br><br>\n",
    "5. Print `My TA is so boring, but is very funny.` using `text1` list.**Hint: Use the `join` function, and `extend` method.**<br><br>\n",
    "6. Print <br>\n",
    "`The max value of values1 is 86 and is located in the 0 index. ` <br>\n",
    "`The min value of values1 is 0 and is located in the 7 index. ` <br> **Hint: Use the `f-string`, `min`, and `max` functions.**\n",
    "<br>\n",
    "7. Get two lists: `names` and `last_names` using `last_and_name` list. **Hint: Use `map` and `split`.**\n",
    "<br>\n",
    "8. Give only the last names of students who do not have email. Use the `emails` and `last_names` listt. **Hint: Use `map` and `split`.**\n",
    "<br>"
   ]
  },
  {
   "cell_type": "code",
   "execution_count": 4,
   "metadata": {},
   "outputs": [],
   "source": [
    "import numpy as np"
   ]
  },
  {
   "cell_type": "code",
   "execution_count": 5,
   "metadata": {},
   "outputs": [],
   "source": [
    "f_list = [np.nan , np.nan, \"Austria\", \"Germany\", np.nan, \"Pakistan\", \"np.nan\", np.nan ]"
   ]
  },
  {
   "cell_type": "code",
   "execution_count": 7,
   "metadata": {},
   "outputs": [
    {
     "name": "stdout",
     "output_type": "stream",
     "text": [
      "[0, 1, 4, 7]\n"
     ]
    }
   ],
   "source": [
    "#1. Show the indices of the np.nan values in the f_list list.\n",
    "nan_indices = list(filter(lambda i: f_list[i] is np.nan, range(len(f_list))))\n",
    "\n",
    "print(nan_indices)"
   ]
  },
  {
   "cell_type": "code",
   "execution_count": 20,
   "metadata": {},
   "outputs": [],
   "source": [
    "p2_list = [ 2 , 3, 4, 5 ]"
   ]
  },
  {
   "cell_type": "code",
   "execution_count": 26,
   "metadata": {},
   "outputs": [
    {
     "name": "stdout",
     "output_type": "stream",
     "text": [
      "[2, 3, 4, 5, 2, 3, 4, 5, 2, 3, 4, 5, 2, 3, 4, 5]\n"
     ]
    }
   ],
   "source": [
    "#2. Replicate 4 times the values of the list p2_list\n",
    "replicated = p2_list * 4  #we replicate using *\n",
    "\n",
    "print(replicated)"
   ]
  },
  {
   "cell_type": "code",
   "execution_count": 21,
   "metadata": {},
   "outputs": [
    {
     "data": {
      "text/plain": [
       "8"
      ]
     },
     "execution_count": 21,
     "metadata": {},
     "output_type": "execute_result"
    }
   ],
   "source": [
    "#3. Print lenght of f_list\n",
    "len(f_list)"
   ]
  },
  {
   "cell_type": "code",
   "execution_count": 22,
   "metadata": {},
   "outputs": [],
   "source": [
    "text1 = ['My', 'teacher', 'assistant', 'is', 'so', 'boring.']"
   ]
  },
  {
   "cell_type": "code",
   "execution_count": 25,
   "metadata": {},
   "outputs": [
    {
     "name": "stdout",
     "output_type": "stream",
     "text": [
      "My teacher assistant is so boring.\n"
     ]
    }
   ],
   "source": [
    "#4. Print My teacher assistant is so boring. using text1 list\n",
    "sentence = \" \".join(text1) #The join function is used with a space character \"\" to concatenate the elements of text1 into a single string.\n",
    "print(sentence)"
   ]
  },
  {
   "cell_type": "code",
   "execution_count": 27,
   "metadata": {},
   "outputs": [
    {
     "name": "stdout",
     "output_type": "stream",
     "text": [
      "My TA is so boring. but is very funny.\n"
     ]
    }
   ],
   "source": [
    "#5. Print My TA is so boring, but is very funny. using text1 list.\n",
    "text1[1:3] = ['TA']  # Replace 'teacher assistant' with 'TA'\n",
    "text1.extend(['but', 'is', 'very', 'funny.'])\n",
    "sentence2 = ' '.join(text1)\n",
    "print(sentence2)"
   ]
  },
  {
   "cell_type": "code",
   "execution_count": 28,
   "metadata": {},
   "outputs": [],
   "source": [
    "values1 = [ 86, 86, 85, 85, 85, 83, 23, 0, 84, 1 ] \n",
    "# find max and min values\n",
    "max = max(values1)\n",
    "min = min(values1)"
   ]
  },
  {
   "cell_type": "code",
   "execution_count": 29,
   "metadata": {},
   "outputs": [],
   "source": [
    "# Find the indices of the maximum and minimum values\n",
    "max_index = values1.index(max)\n",
    "min_index = values1.index(min)"
   ]
  },
  {
   "cell_type": "code",
   "execution_count": 30,
   "metadata": {},
   "outputs": [
    {
     "name": "stdout",
     "output_type": "stream",
     "text": [
      "The max value of values1 is 86 and is located in the 0 index.\n",
      "The min value of values1 is 0 and is located in the 7 index.\n"
     ]
    }
   ],
   "source": [
    "# Print the results using f-strings\n",
    "print(f\"The max value of values1 is {max} and is located in the {max_index} index.\")\n",
    "print(f\"The min value of values1 is {min} and is located in the {min_index} index.\")"
   ]
  },
  {
   "cell_type": "code",
   "execution_count": 8,
   "metadata": {},
   "outputs": [],
   "source": [
    "# These two lists a\n",
    "last_and_name = [ \"CORNEJO SANCHEZ, CHRISTIAN SANTOS\", \"ORELLANA QUISPE, CRISTIAN NASSER\", \"MORALES CHOQUEHUANCA, ANGELICA KARINA\", \"GUIMARAY RIBEYRO, JOSE ROBERTO\", \"CAMACHO GAVIDIA, ABEL FERNANDO\", \"TINTAYA ORIHUELA, MEIR ALVARO\", \"CHAVEZ MARTINEZ, JOSELIN ALEXANDRA\", \"FIGUEROA MURO, LEONEL ARTURO\", \"GOMEZ CRIBILLERO, JOSE FELIPE\", \"PALOMINO SEGUÍN, AFRANIA\", \"LUZON CUEVA, BIANCA MARIETTE\", \"SUAÑA ZEGARRA, ADRIAN ANDRE\", \"SOTO POMACHAGUA, DORKAS YOMIRA JHERMY\", \"FIORENTINO MARTINEZ, LADY ALY\", \"LAMA MAVILA, HECTOR ANDRE\", \"MEZA HINOJO, GUSTAVO\", \"LOZADA MURILLO, PERSEO MARCELO\", \"ZAMBRANO JIMENEZ, MIGUEL ALONZO\", \"JACOBS LUQUE, NICOLAS\", \"VIDAL VIDAL, ROCIO GABRIELA\", \"TORRES ANICAMA, JANE CAMILA\", \"LOPEZ ESTRADA, MARIA ELISA\", \"BOYCO ORAMS, ALEJANDRO\", \"DIAZ BERROSPI, KARLINE ROSMELI\", \"RIEGA ESCALANTE, STEPHY ROSARIO\", \"LEVANO TORRES, VALERIA CECILIA\", \"ESQUIVES BRAVO, SEBASTIAN RENATO\", \"PEREZ GONZALES, JUAN CARLOS\", \"OTERO MAGUIÑA, MARIANA\", \"CLAVO CAMPOS, ANDREA BRIZETH\", \"AGUILAR GARCIA, ERICK JOSUE\", \"CALDAS VELASQUEZ, JOSUE DANIEL\", \"SALAS NUÑEZ BORJA, FABIO MANUEL\", \"PIZARRO VILLANES, FERNANDA NICOLLE\", \"QUILLATUPA MORALES, ANGELA ADELINA\", \"HUANCAYA IDONE, CESAR DANTE\", \"CALVO PORTOCARRERO, GABRIELA ISABEL\", \"IBAÑEZ ABANTO, ANGEL MAURICIO\", \"MELÉNDEZ APONTE, JUAN DIEGO\", \"CRISTIAN SERRANO, ARONE\", \"HINOJOSA CAHUANA, PERCY ALBERTH\", \"ANGLAS GARCÍA, KEVIN ARTURO\", \"ALDAVE ACOSTA, CESAR ERNESTO\", \"NÚÑEZ HUAMÁN, CÉSAR AGUSTO\", \"OBREGON HUAMAN, DIANA EDITH\", \"SOTO PACHERRES, RODRIGO FRANCO\", \"INGARUCA RIVERA, GRETTEL ALEXANDRA\", \"ROJAS HUAMAN, ROSA ANGELA\", \"NEYRA SALAS, DANTE OMAR\", \"HUERTA ESPINOZA, YAJAIRA ALEXANDRA\", \"HUANCA MARTINEZ, JORGE ALBERTO\", \"FLORES CADILLO, ALEXIS\" ]\n",
    "emails = [\"cscornejo@pucp.edu.pe\", \"orellana.cn@pucp.edu.pe\", \"karina.morales@pucp.edu.pe\", \"a20083223@pucp.pe\", \"abel.camacho@pucp.pe\", \"mtintaya@pucp.edu.pe\", \"joselin.chavez@pucp.edu.pe\", \"a20105737@pucp.pe\", \"jfgomezc@pucp.pe\", \"afrania.palomino@pucp.pe\", \"luzon.bianca@pucp.pe\", \"adrian.suanaz@pucp.pe\", \"soto.y@pucp.edu.pe\", \"a20132766@pucp.pe\", \"andre.lama@pucp.edu.pe\", \"gustavo.meza@pucp.edu.pe\", \"pmlozada@pucp.edu.pe\", \"m.zambranoj@pucp.edu.pe\", \"nicolas.jacobs@pucp.edu.pe\", \"gvidal@pucp.edu.pe\", \"jane.torres@pucp.edu.pe\", \"m.lopez@pucp.edu.pe\", \"alejandro.boyco@pucp.edu.pe\", \"a20167070@pucp.edu.pe\", \"riega.stephy@pucp.edu.pe\", \"vlevanot@pucp.edu.pe\", \"sesquives@pucp.edu.pe\", \"perez.juanc@pucp.edu.pe\", \"mariana.otero@pucp.edu.pe\", \"aclavo@pucp.edu.pe\", \"a20182474@pucp.edu.pe\", \"josue.caldas@pucp.edu.pe\", \"fabio.salas@pucp.edu.pe\", \"fernanda.pizarro@pucp.edu.pe\", \"aquillatupa@pucp.pe\", \"\", \"\", \"\", \"\", \"\", \"f0873079@pucp.edu.pe\", \"\", \"\", \"\", \"\", \"\", \"\", \"\", \"\", \"\", \"\", \"flores.alexis@pucp.edu.pe\", ]"
   ]
  },
  {
   "cell_type": "code",
   "execution_count": 10,
   "metadata": {},
   "outputs": [
    {
     "name": "stdout",
     "output_type": "stream",
     "text": [
      "[['CORNEJO SANCHEZ', 'CHRISTIAN SANTOS'], ['ORELLANA QUISPE', 'CRISTIAN NASSER'], ['MORALES CHOQUEHUANCA', 'ANGELICA KARINA'], ['GUIMARAY RIBEYRO', 'JOSE ROBERTO'], ['CAMACHO GAVIDIA', 'ABEL FERNANDO'], ['TINTAYA ORIHUELA', 'MEIR ALVARO'], ['CHAVEZ MARTINEZ', 'JOSELIN ALEXANDRA'], ['FIGUEROA MURO', 'LEONEL ARTURO'], ['GOMEZ CRIBILLERO', 'JOSE FELIPE'], ['PALOMINO SEGUÍN', 'AFRANIA'], ['LUZON CUEVA', 'BIANCA MARIETTE'], ['SUAÑA ZEGARRA', 'ADRIAN ANDRE'], ['SOTO POMACHAGUA', 'DORKAS YOMIRA JHERMY'], ['FIORENTINO MARTINEZ', 'LADY ALY'], ['LAMA MAVILA', 'HECTOR ANDRE'], ['MEZA HINOJO', 'GUSTAVO'], ['LOZADA MURILLO', 'PERSEO MARCELO'], ['ZAMBRANO JIMENEZ', 'MIGUEL ALONZO'], ['JACOBS LUQUE', 'NICOLAS'], ['VIDAL VIDAL', 'ROCIO GABRIELA'], ['TORRES ANICAMA', 'JANE CAMILA'], ['LOPEZ ESTRADA', 'MARIA ELISA'], ['BOYCO ORAMS', 'ALEJANDRO'], ['DIAZ BERROSPI', 'KARLINE ROSMELI'], ['RIEGA ESCALANTE', 'STEPHY ROSARIO'], ['LEVANO TORRES', 'VALERIA CECILIA'], ['ESQUIVES BRAVO', 'SEBASTIAN RENATO'], ['PEREZ GONZALES', 'JUAN CARLOS'], ['OTERO MAGUIÑA', 'MARIANA'], ['CLAVO CAMPOS', 'ANDREA BRIZETH'], ['AGUILAR GARCIA', 'ERICK JOSUE'], ['CALDAS VELASQUEZ', 'JOSUE DANIEL'], ['SALAS NUÑEZ BORJA', 'FABIO MANUEL'], ['PIZARRO VILLANES', 'FERNANDA NICOLLE'], ['QUILLATUPA MORALES', 'ANGELA ADELINA'], ['HUANCAYA IDONE', 'CESAR DANTE'], ['CALVO PORTOCARRERO', 'GABRIELA ISABEL'], ['IBAÑEZ ABANTO', 'ANGEL MAURICIO'], ['MELÉNDEZ APONTE', 'JUAN DIEGO'], ['CRISTIAN SERRANO', 'ARONE'], ['HINOJOSA CAHUANA', 'PERCY ALBERTH'], ['ANGLAS GARCÍA', 'KEVIN ARTURO'], ['ALDAVE ACOSTA', 'CESAR ERNESTO'], ['NÚÑEZ HUAMÁN', 'CÉSAR AGUSTO'], ['OBREGON HUAMAN', 'DIANA EDITH'], ['SOTO PACHERRES', 'RODRIGO FRANCO'], ['INGARUCA RIVERA', 'GRETTEL ALEXANDRA'], ['ROJAS HUAMAN', 'ROSA ANGELA'], ['NEYRA SALAS', 'DANTE OMAR'], ['HUERTA ESPINOZA', 'YAJAIRA ALEXANDRA'], ['HUANCA MARTINEZ', 'JORGE ALBERTO'], ['FLORES CADILLO', 'ALEXIS']]\n"
     ]
    }
   ],
   "source": [
    "#7. Get two lists: names and last_names using last_and_name list. Hint: Use map and split.\n",
    "# Use map and split to separate the names and last names\n",
    "split_names = list(map(lambda x: x.split(\", \"), last_and_name))\n",
    "print(split_names)"
   ]
  },
  {
   "cell_type": "code",
   "execution_count": 35,
   "metadata": {},
   "outputs": [],
   "source": [
    "# Extract last names and names into separate lists\n",
    "last_names = [item[0] for item in split_names]\n",
    "names = [item[1] for item in split_names]"
   ]
  },
  {
   "cell_type": "code",
   "execution_count": 36,
   "metadata": {},
   "outputs": [],
   "source": [
    "#8. Give only the last names of students who do not have email. Use the emails and last_names list. Hint: Use map and split\n",
    "# Find the indices of empty strings in the emails list\n",
    "no_email_indices = [index for index, email in enumerate(emails) if email == \"\"]\n",
    "\n",
    "# Get the corresponding last names for those indices\n",
    "no_email_last_names = [last_names[index] for index in no_email_indices]"
   ]
  },
  {
   "cell_type": "markdown",
   "metadata": {},
   "source": [
    "## 1.3 Strings\n",
    "\n",
    "\n",
    "1. Drop the duplicated blank spaces in `str1`. Do not use the regular expresions. Do not use the code shown in class. Explain your steps.**Hint: Use `split` method and `join` function.**\n",
    "\n",
    "2. Get the number of letters in the string .**Hint: Use `len`function.**\n",
    "\n",
    "3. Get the number of blank spaces (all of them) in the string .**Hint: Use `len`function.**\n",
    "\n",
    "4. Get the position of `@` in each string in the emails list. **Hint: Use `map`function and `find` method.**\n",
    "\n",
    "5. Identifies if exists `.edu.`  in each string in the `emails` list. Get a list of Booleans. **Hint: Use `map`function and `find` method.**\n",
    "\n",
    "6. Get all the strings before the first dot `.`in each string in the `emails` list. Identifies how many of them has `@`. **Hint: Use `map`function and `find` method.**"
   ]
  },
  {
   "cell_type": "code",
   "execution_count": 37,
   "metadata": {},
   "outputs": [],
   "source": [
    "str1 = 'I am                            too                                                        old'"
   ]
  },
  {
   "cell_type": "code",
   "execution_count": 38,
   "metadata": {},
   "outputs": [
    {
     "name": "stdout",
     "output_type": "stream",
     "text": [
      "I am too old\n"
     ]
    }
   ],
   "source": [
    "#1. Drop the duplicated blank spaces in str1\n",
    "#Split the string into a list of words\n",
    "words = str1.split()\n",
    "\n",
    "# Join the words with a single space\n",
    "cleaned_str1 = ' '.join(words)\n",
    "\n",
    "print(cleaned_str1)"
   ]
  },
  {
   "cell_type": "code",
   "execution_count": 39,
   "metadata": {},
   "outputs": [
    {
     "data": {
      "text/plain": [
       "12"
      ]
     },
     "execution_count": 39,
     "metadata": {},
     "output_type": "execute_result"
    }
   ],
   "source": [
    "#2. Get the number of letters in the string\n",
    "len(cleaned_str1)"
   ]
  },
  {
   "cell_type": "code",
   "execution_count": 41,
   "metadata": {},
   "outputs": [
    {
     "name": "stdout",
     "output_type": "stream",
     "text": [
      "3\n"
     ]
    }
   ],
   "source": [
    "#3. Count the number of blank spaces in the cleaned string\n",
    "num_spaces = cleaned_str1.count(' ')\n",
    "print(num_spaces)"
   ]
  },
  {
   "cell_type": "code",
   "execution_count": 18,
   "metadata": {},
   "outputs": [],
   "source": [
    "emails = [\"cscornejo@pucp.edu.pe\", \"orellana.cn@pucp.edu.pe\", \"karina.morales@pucp.edu.pe\", \"a20083223@pucp.pe\", \"abel.camacho@pucp.pe\", \"mtintaya@pucp.edu.pe\", \"joselin.chavez@pucp.edu.pe\", \"a20105737@pucp.pe\", \"jfgomezc@pucp.pe\", \"afrania.palomino@pucp.pe\", \"luzon.bianca@pucp.pe\", \"adrian.suanaz@pucp.pe\", \"soto.y@pucp.edu.pe\", \"a20132766@pucp.pe\", \"andre.lama@pucp.edu.pe\", \"gustavo.meza@pucp.edu.pe\", \"pmlozada@pucp.edu.pe\", \"m.zambranoj@pucp.edu.pe\", \"nicolas.jacobs@pucp.edu.pe\", \"gvidal@pucp.edu.pe\", \"jane.torres@pucp.edu.pe\", \"m.lopez@pucp.edu.pe\", \"alejandro.boyco@pucp.edu.pe\", \"a20167070@pucp.edu.pe\", \"riega.stephy@pucp.edu.pe\", \"vlevanot@pucp.edu.pe\", \"sesquives@pucp.edu.pe\", \"perez.juanc@pucp.edu.pe\", \"mariana.otero@pucp.edu.pe\", \"aclavo@pucp.edu.pe\", \"a20182474@pucp.edu.pe\", \"josue.caldas@pucp.edu.pe\", \"fabio.salas@pucp.edu.pe\", \"fernanda.pizarro@pucp.edu.pe\", \"aquillatupa@pucp.pe\"]"
   ]
  },
  {
   "cell_type": "code",
   "execution_count": 42,
   "metadata": {},
   "outputs": [
    {
     "name": "stdout",
     "output_type": "stream",
     "text": [
      "[9, 11, 14, 9, 12, 8, 14, 9, 8, 16, 12, 13, 6, 9, 10, 12, 8, 11, 14, 6, 11, 7, 15, 9, 12, 8, 9, 11, 13, 6, 9, 12, 11, 16, 11, -1, -1, -1, -1, -1, 8, -1, -1, -1, -1, -1, -1, -1, -1, -1, -1, 13]\n"
     ]
    }
   ],
   "source": [
    "#4. Get the position of @ in each string in the emails list. Hint: Use mapfunction and find method.\n",
    "positions = list(map(lambda email: email.find('@'), emails))\n",
    "\n",
    "print(positions)"
   ]
  },
  {
   "cell_type": "markdown",
   "metadata": {},
   "source": [
    "## 1.4 Pandas"
   ]
  },
  {
   "cell_type": "markdown",
   "metadata": {},
   "source": [
    "1. Import this dataset new_up_data_sysdif_block_lvl_ver2.csv located in the `_data` folder.\n",
    "2. Import this dataset ESA_CLIMATE_CHANGE_tree_layers.csv located in the `_data` folder.\n",
    "3. Merge both datasets using the key variables `pc11_s_id`,\t`pc11_d_id,`\t`pc11_sd_id`, `year`. \n",
    "4. Generate a descriptive statistics for `per_TREES-BD`, `per_TREES-BE`, `per_TREES-ND`, `per_TREES-NE`.\n",
    "5. Sum these 4 columns and name the new column as `sum_tree` and get a histogram.\n",
    "6. Generate the histogram of these 4 columns `per_TREES-BD`, `per_TREES-BE`, `per_TREES-ND`, `per_TREES-NE` for the above and below median dataset filtered by the sum_tree variable.\n",
    "\n",
    "Do not forget to use relative paths."
   ]
  },
  {
   "cell_type": "code",
   "execution_count": 19,
   "metadata": {},
   "outputs": [],
   "source": [
    "import pandas as pd\n",
    "import numpy as np\n",
    "import matplotlib.pyplot as plt"
   ]
  },
  {
   "cell_type": "code",
   "execution_count": 10,
   "metadata": {},
   "outputs": [],
   "source": [
    "#1. y 2. import datasets\n",
    "data1 = pd.read_csv(r\"../../_data/new_up_data_sysdif_block_lvl_ver2.csv\")\n",
    "data2 = pd.read_csv(r\"../../_data/ESA_CLIMATE_CHANGE_tree_layers.csv\")"
   ]
  },
  {
   "cell_type": "code",
   "execution_count": 14,
   "metadata": {},
   "outputs": [
    {
     "name": "stdout",
     "output_type": "stream",
     "text": [
      "        pc11_s_id  pc11_d_id  pc11_sd_id  year  post_ror_data_entry_block_any  \\\n",
      "0               1          1           1  2000                              0   \n",
      "1               1          1           1  2001                              0   \n",
      "2               1          1           1  2002                              0   \n",
      "3               1          1           1  2003                              0   \n",
      "4               1          1           1  2004                              0   \n",
      "...           ...        ...         ...   ...                            ...   \n",
      "125260          9        202        1012  2016                              1   \n",
      "125261          9        202        1012  2017                              1   \n",
      "125262          9        202        1012  2018                              1   \n",
      "125263          9        202        1012  2019                              1   \n",
      "125264          9        202        1012  2020                              1   \n",
      "\n",
      "        post_ror_dist_softw_available_block_any  \\\n",
      "0                                             0   \n",
      "1                                             0   \n",
      "2                                             0   \n",
      "3                                             0   \n",
      "4                                             0   \n",
      "...                                         ...   \n",
      "125260                                        1   \n",
      "125261                                        1   \n",
      "125262                                        1   \n",
      "125263                                        1   \n",
      "125264                                        1   \n",
      "\n",
      "        post_ror_aadhaar_link_block_any  post_mutation_computerized_block_any  \\\n",
      "0                                     0                                     0   \n",
      "1                                     0                                     0   \n",
      "2                                     0                                     0   \n",
      "3                                     0                                     0   \n",
      "4                                     0                                     0   \n",
      "...                                 ...                                   ...   \n",
      "125260                                0                                     1   \n",
      "125261                                0                                     1   \n",
      "125262                                0                                     1   \n",
      "125263                                0                                     1   \n",
      "125264                                0                                     1   \n",
      "\n",
      "        post_digital_ror_issued_block_any  block_id  ...   frac_12  \\\n",
      "0                                       0         1  ...       NaN   \n",
      "1                                       0         1  ...  0.064216   \n",
      "2                                       0         1  ...  0.076860   \n",
      "3                                       0         1  ...  0.072095   \n",
      "4                                       0         1  ...  0.052910   \n",
      "...                                   ...       ...  ...       ...   \n",
      "125260                                  1      5965  ...  0.954903   \n",
      "125261                                  1      5965  ...  0.956646   \n",
      "125262                                  1      5965  ...  0.953928   \n",
      "125263                                  1      5965  ...  0.961914   \n",
      "125264                                  1      5965  ...  0.961640   \n",
      "\n",
      "        per_aggriculture  per_treecover per_greencover  per_built  sd_name_y  \\\n",
      "0                    NaN      31.286381      47.388935  21.324677    Kupwara   \n",
      "1               6.421551      33.507698      42.900303  23.592001    Kupwara   \n",
      "2               7.685976      28.036722      49.964584  21.998692    Kupwara   \n",
      "3               7.209489      32.680721      45.621540  21.697739    Kupwara   \n",
      "4               5.290961      31.404015      41.732754  26.863232    Kupwara   \n",
      "...                  ...            ...            ...        ...        ...   \n",
      "125260         95.490319       3.570984      54.682835  41.631336   Patiyali   \n",
      "125261         95.664638       6.060174      62.668755  31.177742   Patiyali   \n",
      "125262         95.392793       5.095272      53.366138  41.401382   Patiyali   \n",
      "125263         96.191359       4.311493      59.983742  35.600212   Patiyali   \n",
      "125264         96.163976       8.594394      54.553619  36.757240   Patiyali   \n",
      "\n",
      "        per_TREES-BD  per_TREES-BE  per_TREES-ND per_TREES-NE  \n",
      "0           1.964613      1.117632           0.0    29.015697  \n",
      "1           1.956872      1.117632           0.0    28.908140  \n",
      "2           1.969693      1.117632           0.0    28.930830  \n",
      "3           1.968723      1.117632           0.0    28.954021  \n",
      "4           1.972254      1.140225           0.0    29.136803  \n",
      "...              ...           ...           ...          ...  \n",
      "125260      0.015884      0.000000           0.0     0.000000  \n",
      "125261      0.015884      0.000000           0.0     0.000000  \n",
      "125262      0.015884      0.000000           0.0     0.000000  \n",
      "125263      0.015884      0.000000           0.0     0.000000  \n",
      "125264      0.015884      0.000000           0.0     0.000000  \n",
      "\n",
      "[125265 rows x 24 columns]\n"
     ]
    }
   ],
   "source": [
    "#3. Merge datasets using key variables\n",
    "merged_datas = pd.merge(data1, data2, on=['pc11_s_id','pc11_d_id','pc11_sd_id','year'],how='inner')\n",
    "print(merged_datas)"
   ]
  },
  {
   "cell_type": "code",
   "execution_count": 18,
   "metadata": {},
   "outputs": [
    {
     "name": "stdout",
     "output_type": "stream",
     "text": [
      "        per_TREES-BD   per_TREES-BE   per_TREES-ND   per_TREES-NE\n",
      "count  125265.000000  125265.000000  125265.000000  125265.000000\n",
      "mean        2.346108       4.268641       0.006143       1.974766\n",
      "std         5.021063      13.565375       0.148299       6.656288\n",
      "min         0.000000       0.000000       0.000000       0.000000\n",
      "25%         0.005265       0.000000       0.000000       0.000000\n",
      "50%         0.283303       0.000000       0.000000       0.000000\n",
      "75%         2.236597       0.065836       0.000000       0.037414\n",
      "max        48.696053      86.316345      10.135350      55.175827\n"
     ]
    }
   ],
   "source": [
    "#4. Generate a descriptive statistics for per_TREES-BD, per_TREES-BE, per_TREES-ND, per_TREES-NE\n",
    "statistics = merged_datas[['per_TREES-BD', 'per_TREES-BE', 'per_TREES-ND', 'per_TREES-NE']].describe()\n",
    "print(statistics)"
   ]
  },
  {
   "cell_type": "code",
   "execution_count": 21,
   "metadata": {},
   "outputs": [],
   "source": [
    "#5. Sum these 4 columns and name the new column as sum_tree and get a histogram.\n",
    "#create the new column with the sum\n",
    "merged_datas['sum_tree'] = merged_datas[['per_TREES-BD', 'per_TREES-BE', 'per_TREES-ND', 'per_TREES-NE']].sum(axis=1)"
   ]
  },
  {
   "cell_type": "code",
   "execution_count": 23,
   "metadata": {},
   "outputs": [
    {
     "data": {
      "text/plain": [
       "(array([99304.,  7332.,  4202.,  3181.,  2176.,  1876.,  2136.,  2236.,\n",
       "         1584.,  1238.]),\n",
       " array([ 0.        ,  8.91350441, 17.82700882, 26.74051323, 35.65401764,\n",
       "        44.56752205, 53.48102646, 62.39453087, 71.30803528, 80.22153969,\n",
       "        89.1350441 ]),\n",
       " <BarContainer object of 10 artists>)"
      ]
     },
     "execution_count": 23,
     "metadata": {},
     "output_type": "execute_result"
    },
    {
     "data": {
      "image/png": "[encoded data removed]",
      "text/plain": [
       "<Figure size 640x480 with 1 Axes>"
      ]
     },
     "metadata": {},
     "output_type": "display_data"
    }
   ],
   "source": [
    "#create histogram\n",
    "plt.hist(merged_datas['sum_tree'], bins=10, edgecolor='black')"
   ]
  },
  {
   "cell_type": "code",
   "execution_count": 24,
   "metadata": {},
   "outputs": [],
   "source": [
    "#6. Generate the histogram of these 4 columns per_TREES-BD, per_TREES-BE, per_TREES-ND, per_TREES-NE for the above and below median dataset filtered by the sum_tree variable.\n",
    "# Calculate the median of sum_tree\n",
    "median_sum_tree = merged_datas['sum_tree'].median()\n",
    "\n",
    "# Filter DataFrame according to median\n",
    "df_below_median = merged_datas[merged_datas['sum_tree'] < median_sum_tree]\n",
    "df_above_median = merged_datas[merged_datas['sum_tree'] >= median_sum_tree]"
   ]
  },
  {
   "cell_type": "code",
   "execution_count": 25,
   "metadata": {},
   "outputs": [
    {
     "data": {
      "text/plain": [
       "(array([1.07321e+05, 9.48000e+03, 3.92700e+03, 1.91300e+03, 1.03300e+03,\n",
       "        8.73000e+02, 3.16000e+02, 1.34000e+02, 2.04000e+02, 6.40000e+01]),\n",
       " array([ 0.        ,  4.86960526,  9.73921051, 14.60881577, 19.47842102,\n",
       "        24.34802628, 29.21763153, 34.08723679, 38.95684204, 43.8264473 ,\n",
       "        48.69605255]),\n",
       " <BarContainer object of 10 artists>)"
      ]
     },
     "execution_count": 25,
     "metadata": {},
     "output_type": "execute_result"
    },
    {
     "data": {
      "image/png": "[encoded data removed]",
      "text/plain": [
       "<Figure size 640x480 with 1 Axes>"
      ]
     },
     "metadata": {},
     "output_type": "display_data"
    }
   ],
   "source": [
    "#First plot\n",
    "plt.hist(merged_datas['per_TREES-BD'], bins=10, edgecolor='black')"
   ]
  },
  {
   "cell_type": "code",
   "execution_count": 26,
   "metadata": {},
   "outputs": [
    {
     "data": {
      "text/plain": [
       "(array([112453.,   2330.,   1906.,   1327.,   1400.,   1604.,   1982.,\n",
       "          1240.,    805.,    218.]),\n",
       " array([ 0.        ,  8.63163452, 17.26326904, 25.89490356, 34.52653809,\n",
       "        43.15817261, 51.78980713, 60.42144165, 69.05307617, 77.68471069,\n",
       "        86.31634521]),\n",
       " <BarContainer object of 10 artists>)"
      ]
     },
     "execution_count": 26,
     "metadata": {},
     "output_type": "execute_result"
    },
    {
     "data": {
      "image/png": "[encoded data removed]",
      "text/plain": [
       "<Figure size 640x480 with 1 Axes>"
      ]
     },
     "metadata": {},
     "output_type": "display_data"
    }
   ],
   "source": [
    "#Second plot\n",
    "plt.hist(merged_datas['per_TREES-BE'], bins=10, edgecolor='black')"
   ]
  },
  {
   "cell_type": "code",
   "execution_count": 27,
   "metadata": {},
   "outputs": [
    {
     "data": {
      "text/plain": [
       "(array([114015.,   3031.,   2082.,   1636.,   1885.,    971.,    679.,\n",
       "           604.,    196.,    166.]),\n",
       " array([ 0.        ,  5.5175827 , 11.03516541, 16.55274811, 22.07033081,\n",
       "        27.58791351, 33.10549622, 38.62307892, 44.14066162, 49.65824432,\n",
       "        55.17582703]),\n",
       " <BarContainer object of 10 artists>)"
      ]
     },
     "execution_count": 27,
     "metadata": {},
     "output_type": "execute_result"
    },
    {
     "data": {
      "image/png": "[encoded data removed]",
      "text/plain": [
       "<Figure size 640x480 with 1 Axes>"
      ]
     },
     "metadata": {},
     "output_type": "display_data"
    }
   ],
   "source": [
    "#Third plot\n",
    "plt.hist(merged_datas['per_TREES-NE'], bins=10, edgecolor='black')"
   ]
  },
  {
   "cell_type": "code",
   "execution_count": 28,
   "metadata": {},
   "outputs": [
    {
     "data": {
      "text/plain": [
       "(array([1.25097e+05, 1.05000e+02, 2.10000e+01, 2.10000e+01, 0.00000e+00,\n",
       "        0.00000e+00, 0.00000e+00, 0.00000e+00, 0.00000e+00, 2.10000e+01]),\n",
       " array([ 0.        ,  1.01353502,  2.02707005,  3.04060507,  4.05414009,\n",
       "         5.06767511,  6.08121014,  7.09474516,  8.10828018,  9.1218152 ,\n",
       "        10.13535023]),\n",
       " <BarContainer object of 10 artists>)"
      ]
     },
     "execution_count": 28,
     "metadata": {},
     "output_type": "execute_result"
    },
    {
     "data": {
      "image/png": "[encoded data removed]",
      "text/plain": [
       "<Figure size 640x480 with 1 Axes>"
      ]
     },
     "metadata": {},
     "output_type": "display_data"
    }
   ],
   "source": [
    "#Fourth plot\n",
    "plt.hist(merged_datas['per_TREES-ND'], bins=10, edgecolor='black')"
   ]
  },
  {
   "cell_type": "code",
   "execution_count": null,
   "metadata": {},
   "outputs": [],
   "source": []
  }
 ],
 "metadata": {
  "hide_input": false,
  "kernelspec": {
   "display_name": "Python 3 (ipykernel)",
   "language": "python",
   "name": "python3"
  },
  "language_info": {
   "codemirror_mode": {
    "name": "ipython",
    "version": 3
   },
   "file_extension": ".py",
   "mimetype": "text/x-python",
   "name": "python",
   "nbconvert_exporter": "python",
   "pygments_lexer": "ipython3",
   "version": "3.11.4"
  },
  "toc": {
   "base_numbering": 1,
   "nav_menu": {},
   "number_sections": true,
   "sideBar": true,
   "skip_h1_title": false,
   "title_cell": "Table of Contents",
   "title_sidebar": "Contents",
   "toc_cell": false,
   "toc_position": {},
   "toc_section_display": true,
   "toc_window_display": false
  }
 },
 "nbformat": 4,
 "nbformat_minor": 4
}
