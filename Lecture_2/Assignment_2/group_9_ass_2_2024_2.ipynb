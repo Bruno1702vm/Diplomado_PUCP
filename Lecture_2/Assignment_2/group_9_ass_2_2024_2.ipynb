{
 "cells": [
  {
   "cell_type": "markdown",
   "id": "dec3a622",
   "metadata": {},
   "source": [
    "# 1 Assignment"
   ]
  },
  {
   "cell_type": "markdown",
   "id": "a00fb793",
   "metadata": {},
   "source": [
    "## 1.1 Tuple"
   ]
  },
  {
   "cell_type": "code",
   "execution_count": 4,
   "id": "8fcb1846-497a-41be-b561-fe9097abafb5",
   "metadata": {},
   "outputs": [],
   "source": [
    "tuple1 = (\"Orange\", [10, 20, 30], (5, 15, 25))"
   ]
  },
  {
   "cell_type": "code",
   "execution_count": 5,
   "id": "530edf91-1648-49e3-8b3f-994721cc239a",
   "metadata": {},
   "outputs": [
    {
     "data": {
      "text/plain": [
       "('Orange', [10, 20, 30], (5, 15, 25))"
      ]
     },
     "execution_count": 5,
     "metadata": {},
     "output_type": "execute_result"
    }
   ],
   "source": [
    "tuple1"
   ]
  },
  {
   "cell_type": "code",
   "execution_count": 6,
   "id": "8c40d726-2d86-42bb-97da-2d464cdfcce3",
   "metadata": {},
   "outputs": [],
   "source": [
    "tuple2 = ([7, 8], [9, 1], [10, 7])"
   ]
  },
  {
   "cell_type": "code",
   "execution_count": 7,
   "id": "565cf0cc-4044-4e61-8d65-3fba29a346c7",
   "metadata": {},
   "outputs": [
    {
     "data": {
      "text/plain": [
       "([7, 8], [9, 1], [10, 7])"
      ]
     },
     "execution_count": 7,
     "metadata": {},
     "output_type": "execute_result"
    }
   ],
   "source": [
    "tuple2"
   ]
  },
  {
   "cell_type": "code",
   "execution_count": 13,
   "id": "e26716cc-be80-4039-8fc0-485c884b843f",
   "metadata": {},
   "outputs": [
    {
     "data": {
      "text/plain": [
       "[10, 20, 30]"
      ]
     },
     "execution_count": 13,
     "metadata": {},
     "output_type": "execute_result"
    }
   ],
   "source": [
    "# TUPLE 1 \n",
    "# EXERCISE 1\n",
    "tuple1[1] # Print second element JZC_part"
   ]
  },
  {
   "cell_type": "code",
   "execution_count": 10,
   "id": "062a8ee7-6dc9-46cd-97e7-8e762f097040",
   "metadata": {},
   "outputs": [
    {
     "data": {
      "text/plain": [
       "10"
      ]
     },
     "execution_count": 10,
     "metadata": {},
     "output_type": "execute_result"
    }
   ],
   "source": [
    "first_value = tuple1[1]\n",
    "first_value[0] # Print first element JZC_part"
   ]
  },
  {
   "cell_type": "code",
   "execution_count": 11,
   "id": "7c97e86c-7b61-4bef-89ae-04aa75f24042",
   "metadata": {},
   "outputs": [
    {
     "data": {
      "text/plain": [
       "0"
      ]
     },
     "execution_count": 11,
     "metadata": {},
     "output_type": "execute_result"
    }
   ],
   "source": [
    "tuple1[1].index(10) # Print position in the second position of tuple1 JZC_part"
   ]
  },
  {
   "cell_type": "code",
   "execution_count": 19,
   "id": "eb8a0444-3e4d-482e-a1eb-7b93e8075273",
   "metadata": {},
   "outputs": [
    {
     "data": {
      "text/plain": [
       "('Orange', [10, 20, 30], (5, 15, 25))"
      ]
     },
     "execution_count": 19,
     "metadata": {},
     "output_type": "execute_result"
    }
   ],
   "source": [
    "# EXERCISE 2\n",
    "tuple1"
   ]
  },
  {
   "cell_type": "code",
   "execution_count": 24,
   "id": "98005abd-1972-459f-b760-d4f63a3ac2f2",
   "metadata": {},
   "outputs": [
    {
     "data": {
      "text/plain": [
       "25"
      ]
     },
     "execution_count": 24,
     "metadata": {},
     "output_type": "execute_result"
    }
   ],
   "source": [
    "tuple1[2][2] # Print item of the last position JZC_part"
   ]
  },
  {
   "cell_type": "code",
   "execution_count": 22,
   "id": "e274b6f6-7523-40af-8293-4f32ec442af2",
   "metadata": {},
   "outputs": [
    {
     "data": {
      "text/plain": [
       "2"
      ]
     },
     "execution_count": 22,
     "metadata": {},
     "output_type": "execute_result"
    }
   ],
   "source": [
    "tuple1[2].index(25) # Print value of last position JZC_part"
   ]
  },
  {
   "cell_type": "code",
   "execution_count": 27,
   "id": "0cfaf520-822a-4e5c-ba54-98631f4a933d",
   "metadata": {},
   "outputs": [
    {
     "data": {
      "text/plain": [
       "'pink grapefruit'"
      ]
     },
     "execution_count": 27,
     "metadata": {},
     "output_type": "execute_result"
    }
   ],
   "source": [
    "# EXERCISE 3\n",
    "valor_1 = \"pink grapefruit\"\n",
    "valor_1"
   ]
  },
  {
   "cell_type": "code",
   "execution_count": 28,
   "id": "43dbb76a-47fa-4af6-bfba-8cfcc0d58a4f",
   "metadata": {},
   "outputs": [
    {
     "ename": "NameError",
     "evalue": "name 'tupla1' is not defined",
     "output_type": "error",
     "traceback": [
      "\u001b[1;31m---------------------------------------------------------------------------\u001b[0m",
      "\u001b[1;31mNameError\u001b[0m                                 Traceback (most recent call last)",
      "Cell \u001b[1;32mIn[28], line 1\u001b[0m\n\u001b[1;32m----> 1\u001b[0m tupla1[\u001b[38;5;241m0\u001b[39m] \u001b[38;5;241m=\u001b[39m valor_1\n",
      "\u001b[1;31mNameError\u001b[0m: name 'tupla1' is not defined"
     ]
    }
   ],
   "source": [
    "tupla1[0] = valor_1 # This is imposible, cannot modify the value"
   ]
  },
  {
   "cell_type": "code",
   "execution_count": 30,
   "id": "ffaef764-b97b-47ee-86cf-42aedf9dda2d",
   "metadata": {},
   "outputs": [
    {
     "name": "stdout",
     "output_type": "stream",
     "text": [
      "Tamaño :  3\n"
     ]
    }
   ],
   "source": [
    "# EXERCISE 4\n",
    "tuple1\n",
    "print (\"Tamaño : \", len(tuple1)) # This is value of the tuple1 / use funtion \"len\" JZC_part"
   ]
  },
  {
   "cell_type": "code",
   "execution_count": 36,
   "id": "45b6679a-f224-4173-aa3e-0d0f22a570ad",
   "metadata": {},
   "outputs": [
    {
     "data": {
      "text/plain": [
       "([7, 8], [9, 1], [10, 7])"
      ]
     },
     "execution_count": 36,
     "metadata": {},
     "output_type": "execute_result"
    }
   ],
   "source": [
    "# EXERCISE 5\n",
    "tuple2 # this tuple has three positions JZC_part"
   ]
  },
  {
   "cell_type": "code",
   "execution_count": 37,
   "id": "29051ae4-ddcf-42fc-be40-358d2ac32efc",
   "metadata": {},
   "outputs": [
    {
     "data": {
      "text/plain": [
       "15"
      ]
     },
     "execution_count": 37,
     "metadata": {},
     "output_type": "execute_result"
    }
   ],
   "source": [
    "sum(tuple2[0]) # function SUM, only sum elements in position 0 JZC_part"
   ]
  },
  {
   "cell_type": "code",
   "execution_count": 43,
   "id": "b5706383-9869-4b75-b11f-53db67455161",
   "metadata": {},
   "outputs": [
    {
     "data": {
      "text/plain": [
       "42"
      ]
     },
     "execution_count": 43,
     "metadata": {},
     "output_type": "execute_result"
    }
   ],
   "source": [
    "sum(map(sum, list(tuple2))) # Print value, Sum all items of each position JZC_part"
   ]
  },
  {
   "cell_type": "code",
   "execution_count": 19,
   "id": "84b9cfa2-10dd-4272-a98f-f831f23d0382",
   "metadata": {},
   "outputs": [
    {
     "data": {
      "text/plain": [
       "([7, 8], [9, 1], [10, 7])"
      ]
     },
     "execution_count": 19,
     "metadata": {},
     "output_type": "execute_result"
    }
   ],
   "source": [
    "# EXERCISE 6\n",
    "tuple2 = ([7, 8], [9, 1], [10, 7])\n",
    "tuple2"
   ]
  },
  {
   "cell_type": "code",
   "execution_count": 18,
   "id": "c234ea73-48a1-46d8-b3c0-7298e178e66e",
   "metadata": {},
   "outputs": [
    {
     "data": {
      "text/plain": [
       "[7, 8]"
      ]
     },
     "execution_count": 18,
     "metadata": {},
     "output_type": "execute_result"
    }
   ],
   "source": [
    "prim = tuple2[0]\n",
    "prim"
   ]
  },
  {
   "cell_type": "code",
   "execution_count": 31,
   "id": "2c2adf3f-1f25-4789-a2f5-faab761850c7",
   "metadata": {},
   "outputs": [
    {
     "name": "stdout",
     "output_type": "stream",
     "text": [
      "[3.5, 4.0]\n",
      "[4.5, 0.5]\n",
      "[5.0, 3.5]\n"
     ]
    }
   ],
   "source": [
    "prim = tuple2[0] #Print value to each new variable \"prim\" \"sec\" \"ter\" because we can't use a loop JZC_part\n",
    "sec = tuple2[1]\n",
    "ter = tuple2[2]\n",
    "num = 2\n",
    "prim = list(map(lambda x: x / num, prim)) # each value is divided\n",
    "sec = list(map(lambda x: x / num, sec)) # each value is divided\n",
    "ter = list(map(lambda x: x / num, ter)) # each value is divided\n",
    "print(prim)\n",
    "print(sec)\n",
    "print(ter)"
   ]
  },
  {
   "cell_type": "code",
   "execution_count": 39,
   "id": "c5d90384-d5c9-4e64-b148-f4cbdfa7b9e4",
   "metadata": {},
   "outputs": [],
   "source": [
    "tuple3 # Assign value at each position of tuple3 JZC_part\n",
    "tuple3[0]=prim\n",
    "tuple3[1]=sec\n",
    "tuple3[2]=ter\n",
    "tuple3[3]= 0 \n",
    "tuple3[4]= 0\n",
    "tuple3[5]= 0"
   ]
  },
  {
   "cell_type": "code",
   "execution_count": 40,
   "id": "1ac74d21-0c38-4325-ba42-75c78f876a78",
   "metadata": {},
   "outputs": [
    {
     "data": {
      "text/plain": [
       "[[3.5, 4.0], [4.5, 0.5], [5.0, 3.5], 0, 0, 0]"
      ]
     },
     "execution_count": 40,
     "metadata": {},
     "output_type": "execute_result"
    }
   ],
   "source": [
    "tuple3 # values at each position of tuple3 JZC_part"
   ]
  },
  {
   "cell_type": "markdown",
   "id": "225ec209",
   "metadata": {},
   "source": [
    "## 1.2 Lists"
   ]
  },
  {
   "cell_type": "code",
   "execution_count": null,
   "id": "b6a37d96-554f-4a22-8ce0-178619655c47",
   "metadata": {},
   "outputs": [],
   "source": []
  },
  {
   "cell_type": "code",
   "execution_count": null,
   "id": "00994579-267a-4866-935a-b784726f9d77",
   "metadata": {},
   "outputs": [],
   "source": []
  },
  {
   "cell_type": "code",
   "execution_count": null,
   "id": "64d64067-77ea-4a33-ac36-d3be25ccd959",
   "metadata": {},
   "outputs": [],
   "source": []
  },
  {
   "cell_type": "markdown",
   "id": "2dc632ec",
   "metadata": {},
   "source": [
    "## 1.3 Strings"
   ]
  },
  {
   "cell_type": "code",
   "execution_count": null,
   "id": "30772277-e7bf-4d6f-8848-eb90ec7eca8d",
   "metadata": {},
   "outputs": [],
   "source": []
  },
  {
   "cell_type": "code",
   "execution_count": null,
   "id": "eae36f1d-42f3-41ac-b2bb-53fb3607b0dc",
   "metadata": {},
   "outputs": [],
   "source": []
  },
  {
   "cell_type": "code",
   "execution_count": null,
   "id": "d120492f-5899-4f96-880b-0b35fc1f2183",
   "metadata": {},
   "outputs": [],
   "source": []
  },
  {
   "cell_type": "code",
   "execution_count": null,
   "id": "3d7074a4-6e85-4c7f-b158-9501a64c55a8",
   "metadata": {},
   "outputs": [],
   "source": []
  },
  {
   "cell_type": "markdown",
   "id": "b939543b",
   "metadata": {},
   "source": [
    "## 1.4 Pandas"
   ]
  },
  {
   "cell_type": "code",
   "execution_count": null,
   "id": "e09e05fd-764a-40a2-945a-5514e9cfcdea",
   "metadata": {},
   "outputs": [],
   "source": []
  },
  {
   "cell_type": "code",
   "execution_count": null,
   "id": "caede39d-5f29-4462-8957-3216ff4fe729",
   "metadata": {},
   "outputs": [],
   "source": []
  },
  {
   "cell_type": "code",
   "execution_count": null,
   "id": "4a7f55f9-afa5-482c-91ab-b278a9299db9",
   "metadata": {},
   "outputs": [],
   "source": []
  },
  {
   "cell_type": "code",
   "execution_count": null,
   "id": "d4c94f66-d09c-4214-b264-7aa45ff54a2a",
   "metadata": {},
   "outputs": [],
   "source": []
  },
  {
   "cell_type": "code",
   "execution_count": null,
   "id": "19019725-aa77-45e5-8d63-c5dadd90d5e6",
   "metadata": {},
   "outputs": [],
   "source": []
  },
  {
   "cell_type": "code",
   "execution_count": null,
   "id": "521502f0-7a4c-43f6-8770-a17e5b207492",
   "metadata": {},
   "outputs": [],
   "source": []
  },
  {
   "cell_type": "code",
   "execution_count": null,
   "id": "ddf26cbf-d63b-4627-afa9-44a5991ba00b",
   "metadata": {},
   "outputs": [],
   "source": []
  },
  {
   "cell_type": "code",
   "execution_count": null,
   "id": "9f61bf86-d667-495f-aab7-3b473de15834",
   "metadata": {},
   "outputs": [],
   "source": []
  },
  {
   "cell_type": "code",
   "execution_count": null,
   "id": "49928f09-d34d-43ea-9666-7ff8d4d42fe0",
   "metadata": {},
   "outputs": [],
   "source": []
  },
  {
   "cell_type": "code",
   "execution_count": null,
   "id": "995d8e6c-a908-40d9-8aa9-436fcb800e6c",
   "metadata": {},
   "outputs": [],
   "source": []
  },
  {
   "cell_type": "code",
   "execution_count": null,
   "id": "0cefa3f5-c581-4fc7-961f-6d42b5649885",
   "metadata": {},
   "outputs": [],
   "source": []
  },
  {
   "cell_type": "code",
   "execution_count": null,
   "id": "70ef0d12-67fd-442c-9476-06dc39f8e881",
   "metadata": {},
   "outputs": [],
   "source": []
  },
  {
   "cell_type": "code",
   "execution_count": null,
   "id": "c72ad87d-141e-49f8-995a-414fe141fd1a",
   "metadata": {},
   "outputs": [],
   "source": []
  }
 ],
 "metadata": {
  "kernelspec": {
   "display_name": "Python 3 (ipykernel)",
   "language": "python",
   "name": "python3"
  },
  "language_info": {
   "codemirror_mode": {
    "name": "ipython",
    "version": 3
   },
   "file_extension": ".py",
   "mimetype": "text/x-python",
   "name": "python",
   "nbconvert_exporter": "python",
   "pygments_lexer": "ipython3",
   "version": "3.12.4"
  }
 },
 "nbformat": 4,
 "nbformat_minor": 5
}
