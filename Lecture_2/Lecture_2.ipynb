{
 "cells": [
  {
   "cell_type": "markdown",
   "metadata": {},
   "source": [
    "# This is the second lecture\n",
    "## This is the second lecture\n",
    "#### This is the second lecture"
   ]
  },
  {
   "cell_type": "markdown",
   "metadata": {},
   "source": [
    "This is the second lecture!"
   ]
  },
  {
   "cell_type": "markdown",
   "metadata": {},
   "source": [
    "# Introduction to Python: Tuples, Lists, Dictionaries, Arrays"
   ]
  },
  {
   "cell_type": "markdown",
   "metadata": {},
   "source": [
    "## Variables\n",
    "Containers for store data values. This variable has a label or name. This variable is an object in memory."
   ]
  },
  {
   "cell_type": "markdown",
   "metadata": {
    "jp-MarkdownHeadingCollapsed": true
   },
   "source": [
    "### Python Types\n",
    "\n",
    "There are three key python types: int, float, string and boolean."
   ]
  },
  {
   "cell_type": "markdown",
   "metadata": {},
   "source": [
    "### integer"
   ]
  },
  {
   "cell_type": "code",
   "execution_count": 1,
   "metadata": {},
   "outputs": [],
   "source": [
    "a = 50 "
   ]
  },
  {
   "cell_type": "code",
   "execution_count": 2,
   "metadata": {},
   "outputs": [
    {
     "data": {
      "text/plain": [
       "50"
      ]
     },
     "execution_count": 2,
     "metadata": {},
     "output_type": "execute_result"
    }
   ],
   "source": [
    "a"
   ]
  },
  {
   "cell_type": "code",
   "execution_count": 3,
   "metadata": {},
   "outputs": [
    {
     "name": "stdout",
     "output_type": "stream",
     "text": [
      "50\n"
     ]
    }
   ],
   "source": [
    "print(a)"
   ]
  },
  {
   "cell_type": "code",
   "execution_count": 4,
   "metadata": {},
   "outputs": [
    {
     "data": {
      "text/plain": [
       "int"
      ]
     },
     "execution_count": 4,
     "metadata": {},
     "output_type": "execute_result"
    }
   ],
   "source": [
    "type(a)"
   ]
  },
  {
   "cell_type": "code",
   "execution_count": 5,
   "metadata": {},
   "outputs": [
    {
     "data": {
      "text/plain": [
       "int"
      ]
     },
     "execution_count": 5,
     "metadata": {},
     "output_type": "execute_result"
    }
   ],
   "source": [
    "b = 30\n",
    "type(b)"
   ]
  },
  {
   "cell_type": "markdown",
   "metadata": {},
   "source": [
    "### float"
   ]
  },
  {
   "cell_type": "code",
   "execution_count": 6,
   "metadata": {},
   "outputs": [
    {
     "data": {
      "text/plain": [
       "float"
      ]
     },
     "execution_count": 6,
     "metadata": {},
     "output_type": "execute_result"
    }
   ],
   "source": [
    "c = 30.3\n",
    "type(c)"
   ]
  },
  {
   "cell_type": "code",
   "execution_count": 7,
   "metadata": {},
   "outputs": [
    {
     "data": {
      "text/plain": [
       "float"
      ]
     },
     "execution_count": 7,
     "metadata": {},
     "output_type": "execute_result"
    }
   ],
   "source": [
    "c = 30.0 # float\n",
    "type(c)"
   ]
  },
  {
   "cell_type": "markdown",
   "metadata": {},
   "source": [
    "### string"
   ]
  },
  {
   "cell_type": "code",
   "execution_count": 8,
   "metadata": {},
   "outputs": [
    {
     "name": "stdout",
     "output_type": "stream",
     "text": [
      "30\n"
     ]
    },
    {
     "data": {
      "text/plain": [
       "str"
      ]
     },
     "execution_count": 8,
     "metadata": {},
     "output_type": "execute_result"
    }
   ],
   "source": [
    "d = \"30\"\n",
    "print(d)\n",
    "type(d)"
   ]
  },
  {
   "cell_type": "code",
   "execution_count": 9,
   "metadata": {},
   "outputs": [
    {
     "name": "stdout",
     "output_type": "stream",
     "text": [
      "Hello%15#$ \n",
      "\n"
     ]
    }
   ],
   "source": [
    "my_string = \"Hello%15#$\"\n",
    "print(my_string , \"\\n\")"
   ]
  },
  {
   "cell_type": "code",
   "execution_count": 10,
   "metadata": {},
   "outputs": [
    {
     "name": "stdout",
     "output_type": "stream",
     "text": [
      " \"\"Hello\"\" \n"
     ]
    }
   ],
   "source": [
    "# defining strings in Python\n",
    "# all of the following are equivalent\n",
    "# comillas simples afuera porque la información adentro tiene comillas dobles\n",
    "my_string = ' \"\"Hello\"\" '\n",
    "print(my_string)"
   ]
  },
  {
   "cell_type": "code",
   "execution_count": 11,
   "metadata": {},
   "outputs": [
    {
     "name": "stdout",
     "output_type": "stream",
     "text": [
      " Hello$%&15\n",
      "\n",
      " aca puede seguir el texto \n",
      "\n"
     ]
    }
   ],
   "source": [
    "# cuando hay muchos espacios en blanco, y son dos o más líneas, usar 3 comillas\n",
    "my_string = ''' Hello$%&15\n",
    "\\n aca puede seguir el texto'''\n",
    "print(my_string , \"\\n\")"
   ]
  },
  {
   "cell_type": "code",
   "execution_count": 12,
   "metadata": {},
   "outputs": [
    {
     "name": "stdout",
     "output_type": "stream",
     "text": [
      " Hello, welcome to \n",
      "                the world of Python \n"
     ]
    }
   ],
   "source": [
    "my_string = \"\"\" Hello, welcome to \n",
    "                the world of Python \"\"\"\n",
    "print(my_string)"
   ]
  },
  {
   "cell_type": "code",
   "execution_count": 13,
   "metadata": {},
   "outputs": [
    {
     "name": "stdout",
     "output_type": "stream",
     "text": [
      "  Hello, welcome to\n",
      "           the world of \"Python\" \n"
     ]
    }
   ],
   "source": [
    "# triple quotes string can extend multiple lines\n",
    "my_string = '''  Hello, welcome to\n",
    "           the world of \"Python\" '''\n",
    "print(my_string)"
   ]
  },
  {
   "cell_type": "code",
   "execution_count": 14,
   "metadata": {},
   "outputs": [
    {
     "data": {
      "text/plain": [
       "53"
      ]
     },
     "execution_count": 14,
     "metadata": {},
     "output_type": "execute_result"
    }
   ],
   "source": [
    "len(my_string)"
   ]
  },
  {
   "cell_type": "code",
   "execution_count": 15,
   "metadata": {},
   "outputs": [
    {
     "data": {
      "text/plain": [
       "'the name of the student is Raul'"
      ]
     },
     "execution_count": 15,
     "metadata": {},
     "output_type": "execute_result"
    }
   ],
   "source": [
    "\"the name of the student is Raul\""
   ]
  },
  {
   "cell_type": "code",
   "execution_count": 16,
   "metadata": {},
   "outputs": [
    {
     "name": "stdout",
     "output_type": "stream",
     "text": [
      "the name of the student is Raul\n"
     ]
    }
   ],
   "source": [
    "print(\"the name of the student is Raul\")"
   ]
  },
  {
   "cell_type": "code",
   "execution_count": 17,
   "metadata": {},
   "outputs": [
    {
     "name": "stdout",
     "output_type": "stream",
     "text": [
      "pregunta de heidi Introduction to Python Luciana pregunta\n"
     ]
    }
   ],
   "source": [
    "str = 'Introduction to Python'\n",
    "print( \"pregunta de heidi\" , str, \"Luciana pregunta\" )"
   ]
  },
  {
   "cell_type": "code",
   "execution_count": 18,
   "metadata": {},
   "outputs": [
    {
     "name": "stdout",
     "output_type": "stream",
     "text": [
      "The name of the course is python\n"
     ]
    }
   ],
   "source": [
    "str_1 = \"The name\"\n",
    "str_2 = \"of the course\"\n",
    "str_3 = \"is python\"\n",
    "print(str_1, str_2, str_3)"
   ]
  },
  {
   "cell_type": "code",
   "execution_count": 19,
   "metadata": {},
   "outputs": [
    {
     "name": "stdout",
     "output_type": "stream",
     "text": [
      "pregunta de heidiIntroduction to PythonLuciana pregunta\n"
     ]
    }
   ],
   "source": [
    "str = 'Introduction to Python'\n",
    "print( \"pregunta de heidi\" + str + \"Luciana pregunta\" )"
   ]
  },
  {
   "cell_type": "code",
   "execution_count": 20,
   "metadata": {},
   "outputs": [
    {
     "name": "stdout",
     "output_type": "stream",
     "text": [
      "pregunta de heidi Introduction to Python Luciana pregunta\n"
     ]
    }
   ],
   "source": [
    "print( \"pregunta de heidi\" + \" \" + str + \" \" + \"Luciana pregunta\" )"
   ]
  },
  {
   "cell_type": "code",
   "execution_count": 21,
   "metadata": {},
   "outputs": [
    {
     "data": {
      "text/plain": [
       "'The name of the course is python'"
      ]
     },
     "execution_count": 21,
     "metadata": {},
     "output_type": "execute_result"
    }
   ],
   "source": [
    "course_name = str_1 + \" \" + str_2 + \" \" + str_3\n",
    "course_name"
   ]
  },
  {
   "cell_type": "code",
   "execution_count": 22,
   "metadata": {},
   "outputs": [
    {
     "data": {
      "text/plain": [
       "'C:/Users/Alexander/Dropbox/Pakistan_ID_DIME/Data/Data_requests/data_1'"
      ]
     },
     "execution_count": 22,
     "metadata": {},
     "output_type": "execute_result"
    }
   ],
   "source": [
    "dir = \"C:/Users/Alexander/Dropbox/Pakistan_ID_DIME/Data/Data_requests/\"\n",
    "dir + \"data_1\""
   ]
  },
  {
   "cell_type": "code",
   "execution_count": 23,
   "metadata": {},
   "outputs": [
    {
     "data": {
      "text/plain": [
       "'C:/Users/Alexander/Dropbox/Pakistan_ID_DIME/Data/Data_requests/data_2'"
      ]
     },
     "execution_count": 23,
     "metadata": {},
     "output_type": "execute_result"
    }
   ],
   "source": [
    "dir + \"data_2\""
   ]
  },
  {
   "cell_type": "markdown",
   "metadata": {},
   "source": [
    "#### Indexing"
   ]
  },
  {
   "cell_type": "code",
   "execution_count": 24,
   "metadata": {},
   "outputs": [
    {
     "data": {
      "text/plain": [
       "'Introduction to Python'"
      ]
     },
     "execution_count": 24,
     "metadata": {},
     "output_type": "execute_result"
    }
   ],
   "source": [
    "str = \"Introduction to Python\"\n",
    "str"
   ]
  },
  {
   "cell_type": "code",
   "execution_count": 25,
   "metadata": {},
   "outputs": [
    {
     "data": {
      "text/plain": [
       "'I'"
      ]
     },
     "execution_count": 25,
     "metadata": {},
     "output_type": "execute_result"
    }
   ],
   "source": [
    "str[0]"
   ]
  },
  {
   "cell_type": "code",
   "execution_count": 26,
   "metadata": {},
   "outputs": [
    {
     "name": "stdout",
     "output_type": "stream",
     "text": [
      "str[0] =  I\n"
     ]
    }
   ],
   "source": [
    "#first character\n",
    "print('str[0] = ', str[0])"
   ]
  },
  {
   "cell_type": "code",
   "execution_count": 27,
   "metadata": {},
   "outputs": [
    {
     "data": {
      "text/plain": [
       "'o'"
      ]
     },
     "execution_count": 27,
     "metadata": {},
     "output_type": "execute_result"
    }
   ],
   "source": [
    "str[10]"
   ]
  },
  {
   "cell_type": "code",
   "execution_count": 28,
   "metadata": {},
   "outputs": [
    {
     "data": {
      "text/plain": [
       "'n'"
      ]
     },
     "execution_count": 28,
     "metadata": {},
     "output_type": "execute_result"
    }
   ],
   "source": [
    "str[-1] # último caracter"
   ]
  },
  {
   "cell_type": "code",
   "execution_count": 29,
   "metadata": {},
   "outputs": [
    {
     "data": {
      "text/plain": [
       "'P'"
      ]
     },
     "execution_count": 29,
     "metadata": {},
     "output_type": "execute_result"
    }
   ],
   "source": [
    "str[-6]"
   ]
  },
  {
   "cell_type": "code",
   "execution_count": 30,
   "metadata": {},
   "outputs": [
    {
     "name": "stdout",
     "output_type": "stream",
     "text": [
      "Int\n"
     ]
    }
   ],
   "source": [
    "#slicing 1st to 3rd character\n",
    "print(str[0:3])"
   ]
  },
  {
   "cell_type": "code",
   "execution_count": 31,
   "metadata": {},
   "outputs": [
    {
     "name": "stdout",
     "output_type": "stream",
     "text": [
      "ntro\n"
     ]
    }
   ],
   "source": [
    "#slicing 2nd to 5th character\n",
    "print(str[1:5])"
   ]
  },
  {
   "cell_type": "code",
   "execution_count": 32,
   "metadata": {},
   "outputs": [
    {
     "name": "stdout",
     "output_type": "stream",
     "text": [
      "duction to Pyth\n"
     ]
    }
   ],
   "source": [
    "#slicing 6th to 2nd last character\n",
    "print(str[5:-2]) # desde el sexto hasta antes de los dos últimos"
   ]
  },
  {
   "cell_type": "markdown",
   "metadata": {},
   "source": [
    "### [Bool](https://www.w3schools.com/python/python_booleans.asp)\n",
    "\n",
    "The Python Boolean type is one of Python’s built-in data types. It’s used to represent the truth value of an expression. For example, the expression 1 <= 2 is True, while the expression 0 == 1 is False. "
   ]
  },
  {
   "cell_type": "code",
   "execution_count": 33,
   "metadata": {},
   "outputs": [
    {
     "data": {
      "text/plain": [
       "True"
      ]
     },
     "execution_count": 33,
     "metadata": {},
     "output_type": "execute_result"
    }
   ],
   "source": [
    "10 > 5"
   ]
  },
  {
   "cell_type": "code",
   "execution_count": 34,
   "metadata": {},
   "outputs": [
    {
     "data": {
      "text/plain": [
       "True"
      ]
     },
     "execution_count": 34,
     "metadata": {},
     "output_type": "execute_result"
    }
   ],
   "source": [
    "response = 10 > 9\n",
    "response"
   ]
  },
  {
   "cell_type": "code",
   "execution_count": 35,
   "metadata": {},
   "outputs": [
    {
     "data": {
      "text/plain": [
       "bool"
      ]
     },
     "execution_count": 35,
     "metadata": {},
     "output_type": "execute_result"
    }
   ],
   "source": [
    "type(response)"
   ]
  },
  {
   "cell_type": "code",
   "execution_count": 36,
   "metadata": {},
   "outputs": [
    {
     "name": "stdout",
     "output_type": "stream",
     "text": [
      "False\n"
     ]
    }
   ],
   "source": [
    "print(10 == 9)"
   ]
  },
  {
   "cell_type": "code",
   "execution_count": 37,
   "metadata": {},
   "outputs": [
    {
     "name": "stdout",
     "output_type": "stream",
     "text": [
      "False\n"
     ]
    }
   ],
   "source": [
    "print(10 < 9)"
   ]
  },
  {
   "cell_type": "code",
   "execution_count": 38,
   "metadata": {},
   "outputs": [
    {
     "data": {
      "text/plain": [
       "True"
      ]
     },
     "execution_count": 38,
     "metadata": {},
     "output_type": "execute_result"
    }
   ],
   "source": [
    "True == 1"
   ]
  },
  {
   "cell_type": "code",
   "execution_count": 39,
   "metadata": {},
   "outputs": [
    {
     "data": {
      "text/plain": [
       "True"
      ]
     },
     "execution_count": 39,
     "metadata": {},
     "output_type": "execute_result"
    }
   ],
   "source": [
    "False == 0"
   ]
  },
  {
   "cell_type": "code",
   "execution_count": 40,
   "metadata": {},
   "outputs": [
    {
     "data": {
      "text/plain": [
       "False"
      ]
     },
     "execution_count": 40,
     "metadata": {},
     "output_type": "execute_result"
    }
   ],
   "source": [
    "False == 1"
   ]
  },
  {
   "cell_type": "code",
   "execution_count": 41,
   "metadata": {},
   "outputs": [
    {
     "data": {
      "text/plain": [
       "1.0"
      ]
     },
     "execution_count": 41,
     "metadata": {},
     "output_type": "execute_result"
    }
   ],
   "source": [
    "True + (False / True)"
   ]
  },
  {
   "cell_type": "markdown",
   "metadata": {},
   "source": [
    "## [Tuple](https://www.datacamp.com/community/tutorials/python-tuples-tutorial?utm_source=adwords_ppc&utm_medium=cpc&utm_campaignid=1455363063&utm_adgroupid=65083631748&utm_device=c&utm_keyword=&utm_matchtype=b&utm_network=g&utm_adpostion=&utm_creative=278443377092&utm_targetid=dsa-429603003980&utm_loc_interest_ms=&utm_loc_physical_ms=9060932&gclid=CjwKCAiAvriMBhAuEiwA8Cs5lSzvIp9Hmu0C0HearAmYt_xmqCwjL-nbi0j1e-WlDcBcm2owtmfvGBoCjhEQAvD_BwE)\n",
    "It is an ordered and unchangeable Python container. We cannot change, add or remove items after the tuple has been created. Tuple items are ordered, unchangeable, and allow duplicate values."
   ]
  },
  {
   "cell_type": "markdown",
   "metadata": {},
   "source": [
    "Las tuplas son muy importantes cuando se trabajan con funciones, ya que éstas retornan tuplas (no modificables)"
   ]
  },
  {
   "cell_type": "markdown",
   "metadata": {},
   "source": [
    "#### Example 1"
   ]
  },
  {
   "cell_type": "code",
   "execution_count": 42,
   "metadata": {},
   "outputs": [
    {
     "data": {
      "text/plain": [
       "(1, 3, 3, 5, 10, 'py', False)"
      ]
     },
     "execution_count": 42,
     "metadata": {},
     "output_type": "execute_result"
    }
   ],
   "source": [
    "tuple0 = (1, 3, 3, 5, 10, \"py\", False)\n",
    "tuple0"
   ]
  },
  {
   "cell_type": "code",
   "execution_count": 43,
   "metadata": {},
   "outputs": [
    {
     "data": {
      "text/plain": [
       "5"
      ]
     },
     "execution_count": 43,
     "metadata": {},
     "output_type": "execute_result"
    }
   ],
   "source": [
    "tuple0[3] # posición 4"
   ]
  },
  {
   "cell_type": "code",
   "execution_count": 44,
   "metadata": {},
   "outputs": [
    {
     "data": {
      "text/plain": [
       "False"
      ]
     },
     "execution_count": 44,
     "metadata": {},
     "output_type": "execute_result"
    }
   ],
   "source": [
    "tuple0[-1] # the last one"
   ]
  },
  {
   "cell_type": "code",
   "execution_count": 45,
   "metadata": {},
   "outputs": [
    {
     "ename": "TypeError",
     "evalue": "'tuple' object does not support item assignment",
     "output_type": "error",
     "traceback": [
      "\u001b[1;31m---------------------------------------------------------------------------\u001b[0m",
      "\u001b[1;31mTypeError\u001b[0m                                 Traceback (most recent call last)",
      "Cell \u001b[1;32mIn[45], line 1\u001b[0m\n\u001b[1;32m----> 1\u001b[0m tuple0[\u001b[38;5;241m0\u001b[39m] \u001b[38;5;241m=\u001b[39m \u001b[38;5;241m15\u001b[39m\n",
      "\u001b[1;31mTypeError\u001b[0m: 'tuple' object does not support item assignment"
     ]
    }
   ],
   "source": [
    "tuple0[0] = 15 # no se puede modificar el valor de una tupla"
   ]
  },
  {
   "cell_type": "markdown",
   "metadata": {},
   "source": [
    "| Method | Definition |\n",
    "|------ |---------- |\n",
    "| count() | Returns the number of times <br> a specified value occurs in a tuple |\n",
    "| index() |\tSearches the tuple for a specified value <br> and returns the position of where it was found |"
   ]
  },
  {
   "cell_type": "markdown",
   "metadata": {},
   "source": [
    "#### Example 2"
   ]
  },
  {
   "cell_type": "code",
   "execution_count": 46,
   "metadata": {},
   "outputs": [
    {
     "name": "stdout",
     "output_type": "stream",
     "text": [
      "(1, 3, 3, 5, 10, 5, 5, 5)\n"
     ]
    }
   ],
   "source": [
    "tuple1 = (1, 3, 3, 5, 10, 5, 5, 5)\n",
    "print(tuple1)"
   ]
  },
  {
   "cell_type": "code",
   "execution_count": 47,
   "metadata": {},
   "outputs": [
    {
     "data": {
      "text/plain": [
       "(1, 3, 3, 5, 10, 5, 5, 5)"
      ]
     },
     "execution_count": 47,
     "metadata": {},
     "output_type": "execute_result"
    }
   ],
   "source": [
    "tuple1"
   ]
  },
  {
   "cell_type": "code",
   "execution_count": 48,
   "metadata": {},
   "outputs": [
    {
     "name": "stdout",
     "output_type": "stream",
     "text": [
      "(1, 3, 3, 5, 10, 5, 5, 5)\n"
     ]
    },
    {
     "data": {
      "text/plain": [
       "4"
      ]
     },
     "execution_count": 48,
     "metadata": {},
     "output_type": "execute_result"
    }
   ],
   "source": [
    "# count\n",
    "print(tuple1)\n",
    "tuple1.count(5) # ¿Cuántas veces aparece el número 5?"
   ]
  },
  {
   "cell_type": "code",
   "execution_count": 49,
   "metadata": {},
   "outputs": [
    {
     "name": "stdout",
     "output_type": "stream",
     "text": [
      "(1, 3, 3, 5, 10, 5, 5, 5)\n"
     ]
    },
    {
     "data": {
      "text/plain": [
       "3"
      ]
     },
     "execution_count": 49,
     "metadata": {},
     "output_type": "execute_result"
    }
   ],
   "source": [
    "# index\n",
    "print(tuple1)\n",
    "tuple1.index(5) # ¿Cuál es el índice de la primera aparición de 5?"
   ]
  },
  {
   "cell_type": "code",
   "execution_count": 50,
   "metadata": {},
   "outputs": [
    {
     "data": {
      "text/plain": [
       "1"
      ]
     },
     "execution_count": 50,
     "metadata": {},
     "output_type": "execute_result"
    }
   ],
   "source": [
    "tuple1.index( 3 )"
   ]
  },
  {
   "cell_type": "markdown",
   "metadata": {},
   "source": [
    "| Function | Definition |\n",
    "| --- | --- |\n",
    "| type(tuple) | It returns the class type of an object. \t|\n",
    "| max(tuple) | It returns an item from the tuple with max value. \t|\n",
    "| min(tuple) | It returns an item from the tuple with min value. \t|\n",
    "| len(tuple) | It gives the total length of the tuple. \t|\n",
    "| tuple( list ) | Converts a list into a tuple. \t|"
   ]
  },
  {
   "cell_type": "code",
   "execution_count": 51,
   "metadata": {},
   "outputs": [
    {
     "name": "stdout",
     "output_type": "stream",
     "text": [
      "(1, 3, 3, 5, 10, 5, 5, 5)\n"
     ]
    },
    {
     "data": {
      "text/plain": [
       "tuple"
      ]
     },
     "execution_count": 51,
     "metadata": {},
     "output_type": "execute_result"
    }
   ],
   "source": [
    "print(tuple1)\n",
    "type(tuple1) # ¿Cuál es el tipo del objeto?"
   ]
  },
  {
   "cell_type": "code",
   "execution_count": 52,
   "metadata": {},
   "outputs": [
    {
     "name": "stdout",
     "output_type": "stream",
     "text": [
      "(1, 3, 3, 5, 10, 5, 5, 5)\n"
     ]
    },
    {
     "data": {
      "text/plain": [
       "10"
      ]
     },
     "execution_count": 52,
     "metadata": {},
     "output_type": "execute_result"
    }
   ],
   "source": [
    "print(tuple1)\n",
    "max(tuple1) # ¿Cuál es el valor máximo del objeto?"
   ]
  },
  {
   "cell_type": "code",
   "execution_count": 53,
   "metadata": {},
   "outputs": [
    {
     "name": "stdout",
     "output_type": "stream",
     "text": [
      "(1, 3, 3, 5, 10, 5, 5, 5)\n"
     ]
    },
    {
     "data": {
      "text/plain": [
       "1"
      ]
     },
     "execution_count": 53,
     "metadata": {},
     "output_type": "execute_result"
    }
   ],
   "source": [
    "print(tuple1)\n",
    "min(tuple1) # ¿Cuál es el valor mínimo del objeto?"
   ]
  },
  {
   "cell_type": "code",
   "execution_count": 54,
   "metadata": {},
   "outputs": [
    {
     "name": "stdout",
     "output_type": "stream",
     "text": [
      "(1, 3, 3, 5, 10, 5, 5, 5)\n"
     ]
    },
    {
     "data": {
      "text/plain": [
       "8"
      ]
     },
     "execution_count": 54,
     "metadata": {},
     "output_type": "execute_result"
    }
   ],
   "source": [
    "print(tuple1)\n",
    "len(tuple1) # ¿Cuántos elementos tiene el objeto (no la longitud)?"
   ]
  },
  {
   "cell_type": "markdown",
   "metadata": {},
   "source": [
    "#### Example 3"
   ]
  },
  {
   "cell_type": "code",
   "execution_count": 55,
   "metadata": {},
   "outputs": [],
   "source": [
    "tuple2 = ( 1, 3, 3, 5, 10, (5, 6, 7) )"
   ]
  },
  {
   "cell_type": "code",
   "execution_count": 56,
   "metadata": {},
   "outputs": [
    {
     "name": "stdout",
     "output_type": "stream",
     "text": [
      "(1, 3, 3, 5, 10, (5, 6, 7))\n"
     ]
    },
    {
     "data": {
      "text/plain": [
       "tuple"
      ]
     },
     "execution_count": 56,
     "metadata": {},
     "output_type": "execute_result"
    }
   ],
   "source": [
    "print(tuple2)\n",
    "type(tuple2)"
   ]
  },
  {
   "cell_type": "code",
   "execution_count": 57,
   "metadata": {},
   "outputs": [
    {
     "name": "stdout",
     "output_type": "stream",
     "text": [
      "(1, 3, 3, 5, 10, (5, 6, 7))\n"
     ]
    },
    {
     "ename": "TypeError",
     "evalue": "'>' not supported between instances of 'tuple' and 'int'",
     "output_type": "error",
     "traceback": [
      "\u001b[1;31m---------------------------------------------------------------------------\u001b[0m",
      "\u001b[1;31mTypeError\u001b[0m                                 Traceback (most recent call last)",
      "Cell \u001b[1;32mIn[57], line 2\u001b[0m\n\u001b[0;32m      1\u001b[0m \u001b[38;5;28mprint\u001b[39m(tuple2)\n\u001b[1;32m----> 2\u001b[0m \u001b[38;5;28mmax\u001b[39m(tuple2)\n",
      "\u001b[1;31mTypeError\u001b[0m: '>' not supported between instances of 'tuple' and 'int'"
     ]
    }
   ],
   "source": [
    "print(tuple2)\n",
    "max(tuple2)"
   ]
  },
  {
   "cell_type": "code",
   "execution_count": 58,
   "metadata": {},
   "outputs": [
    {
     "name": "stdout",
     "output_type": "stream",
     "text": [
      "(1, 3, 3, 5, 10, (5, 6, 7))\n"
     ]
    },
    {
     "ename": "TypeError",
     "evalue": "'<' not supported between instances of 'tuple' and 'int'",
     "output_type": "error",
     "traceback": [
      "\u001b[1;31m---------------------------------------------------------------------------\u001b[0m",
      "\u001b[1;31mTypeError\u001b[0m                                 Traceback (most recent call last)",
      "Cell \u001b[1;32mIn[58], line 2\u001b[0m\n\u001b[0;32m      1\u001b[0m \u001b[38;5;28mprint\u001b[39m(tuple2)\n\u001b[1;32m----> 2\u001b[0m \u001b[38;5;28mmin\u001b[39m(tuple2)\n",
      "\u001b[1;31mTypeError\u001b[0m: '<' not supported between instances of 'tuple' and 'int'"
     ]
    }
   ],
   "source": [
    "print(tuple2)\n",
    "min(tuple2)"
   ]
  },
  {
   "cell_type": "code",
   "execution_count": 59,
   "metadata": {},
   "outputs": [
    {
     "name": "stdout",
     "output_type": "stream",
     "text": [
      "(1, 3, 3, 5, 10, (5, 6, 7))\n"
     ]
    },
    {
     "data": {
      "text/plain": [
       "6"
      ]
     },
     "execution_count": 59,
     "metadata": {},
     "output_type": "execute_result"
    }
   ],
   "source": [
    "print(tuple2)\n",
    "len(tuple2)"
   ]
  },
  {
   "cell_type": "markdown",
   "metadata": {},
   "source": [
    "#### Example 4"
   ]
  },
  {
   "cell_type": "code",
   "execution_count": 60,
   "metadata": {},
   "outputs": [
    {
     "data": {
      "text/plain": [
       "('alex', 5, True)"
      ]
     },
     "execution_count": 60,
     "metadata": {},
     "output_type": "execute_result"
    }
   ],
   "source": [
    "tuple3 = (\"alex\", 5, True)\n",
    "tuple3"
   ]
  },
  {
   "cell_type": "code",
   "execution_count": 61,
   "metadata": {},
   "outputs": [
    {
     "data": {
      "text/plain": [
       "3"
      ]
     },
     "execution_count": 61,
     "metadata": {},
     "output_type": "execute_result"
    }
   ],
   "source": [
    "len(tuple3)"
   ]
  },
  {
   "cell_type": "code",
   "execution_count": 62,
   "metadata": {},
   "outputs": [
    {
     "data": {
      "text/plain": [
       "4"
      ]
     },
     "execution_count": 62,
     "metadata": {},
     "output_type": "execute_result"
    }
   ],
   "source": [
    "len(tuple3[0])"
   ]
  },
  {
   "cell_type": "markdown",
   "metadata": {},
   "source": [
    "## [Lists](https://www.freecodecamp.org/news/lists-in-python-comprehensive-guide/)\n",
    "It is an ordered and mutable Python container. Its itmes are orderd, changeable, and allow duplicate values and different type of objects. Finally, every item has index because lists have a defined order."
   ]
  },
  {
   "cell_type": "markdown",
   "metadata": {},
   "source": [
    "| Method | Definition |\n",
    "|--- |--- |\n",
    "| sort() \t| Sorts the list in ascending order. \t|\n",
    "| append() \t| Adds a single element to a list. <br> This element will be located at the end of the list. \t|\n",
    "| extend() \t| Adds multiple elements to a list. \t|\n",
    "| index() \t| Returns the first appearance of the specified value. \t|\n"
   ]
  },
  {
   "cell_type": "markdown",
   "metadata": {},
   "source": [
    "Estos métodos son propios de los objetos de tipo lista"
   ]
  },
  {
   "cell_type": "markdown",
   "metadata": {},
   "source": [
    "#### Example 1"
   ]
  },
  {
   "cell_type": "code",
   "execution_count": 63,
   "metadata": {},
   "outputs": [
    {
     "data": {
      "text/plain": [
       "[18, 1.36, 'alex', False]"
      ]
     },
     "execution_count": 63,
     "metadata": {},
     "output_type": "execute_result"
    }
   ],
   "source": [
    "# We use brackets to create a list\n",
    "a = [18, 1.36, \"alex\", False]\n",
    "a "
   ]
  },
  {
   "cell_type": "code",
   "execution_count": 64,
   "metadata": {},
   "outputs": [
    {
     "data": {
      "text/plain": [
       "18"
      ]
     },
     "execution_count": 64,
     "metadata": {},
     "output_type": "execute_result"
    }
   ],
   "source": [
    "a[0]"
   ]
  },
  {
   "cell_type": "code",
   "execution_count": 65,
   "metadata": {},
   "outputs": [
    {
     "data": {
      "text/plain": [
       "False"
      ]
     },
     "execution_count": 65,
     "metadata": {},
     "output_type": "execute_result"
    }
   ],
   "source": [
    "a[-1]"
   ]
  },
  {
   "cell_type": "code",
   "execution_count": 66,
   "metadata": {},
   "outputs": [
    {
     "data": {
      "text/plain": [
       "list"
      ]
     },
     "execution_count": 66,
     "metadata": {},
     "output_type": "execute_result"
    }
   ],
   "source": [
    "type(a)"
   ]
  },
  {
   "cell_type": "code",
   "execution_count": 67,
   "metadata": {},
   "outputs": [
    {
     "ename": "TypeError",
     "evalue": "'<' not supported between instances of 'str' and 'float'",
     "output_type": "error",
     "traceback": [
      "\u001b[1;31m---------------------------------------------------------------------------\u001b[0m",
      "\u001b[1;31mTypeError\u001b[0m                                 Traceback (most recent call last)",
      "Cell \u001b[1;32mIn[67], line 1\u001b[0m\n\u001b[1;32m----> 1\u001b[0m a\u001b[38;5;241m.\u001b[39msort()\n",
      "\u001b[1;31mTypeError\u001b[0m: '<' not supported between instances of 'str' and 'float'"
     ]
    }
   ],
   "source": [
    "a.sort() # no puede ordenar entre string y float"
   ]
  },
  {
   "cell_type": "markdown",
   "metadata": {},
   "source": [
    "#### Example 2: sort"
   ]
  },
  {
   "cell_type": "code",
   "execution_count": 68,
   "metadata": {},
   "outputs": [
    {
     "data": {
      "text/plain": [
       "[3, 13, 2, 56, 76, 16]"
      ]
     },
     "execution_count": 68,
     "metadata": {},
     "output_type": "execute_result"
    }
   ],
   "source": [
    "b = [ 3, 13, 2, 56, 76, 16]\n",
    "b"
   ]
  },
  {
   "cell_type": "markdown",
   "metadata": {},
   "source": [
    "Al aplicar sort, se ordena el objeto original. Si no se quiere perder el ordenamiento original, entonces crear una copia."
   ]
  },
  {
   "cell_type": "code",
   "execution_count": 69,
   "metadata": {},
   "outputs": [
    {
     "name": "stdout",
     "output_type": "stream",
     "text": [
      "[3, 13, 2, 56, 76, 16]\n",
      "[2, 3, 13, 16, 56, 76]\n"
     ]
    }
   ],
   "source": [
    "b_sort = b.copy()\n",
    "b_sort.sort()\n",
    "print(b)\n",
    "print(b_sort)"
   ]
  },
  {
   "cell_type": "markdown",
   "metadata": {},
   "source": [
    "#### Example 3: sort"
   ]
  },
  {
   "cell_type": "markdown",
   "metadata": {},
   "source": [
    "Si no se crea una copia y solo se trabaja con \"=\", también se ordena la lista original"
   ]
  },
  {
   "cell_type": "code",
   "execution_count": 70,
   "metadata": {},
   "outputs": [
    {
     "data": {
      "text/plain": [
       "[15, 20, 16, 5, 8]"
      ]
     },
     "execution_count": 70,
     "metadata": {},
     "output_type": "execute_result"
    }
   ],
   "source": [
    "grades = [15, 20, 16, 5, 8 ]\n",
    "grades"
   ]
  },
  {
   "cell_type": "code",
   "execution_count": 71,
   "metadata": {},
   "outputs": [
    {
     "name": "stdout",
     "output_type": "stream",
     "text": [
      "[5, 8, 15, 16, 20]\n",
      "[5, 8, 15, 16, 20]\n"
     ]
    }
   ],
   "source": [
    "grades_sort = grades\n",
    "grades_sort.sort()\n",
    "print(grades)\n",
    "print(grades_sort)"
   ]
  },
  {
   "cell_type": "markdown",
   "metadata": {},
   "source": [
    "#### Example 4: append"
   ]
  },
  {
   "cell_type": "code",
   "execution_count": 72,
   "metadata": {},
   "outputs": [
    {
     "name": "stdout",
     "output_type": "stream",
     "text": [
      "[3, 13, 2, 56, 76, 16]\n",
      "[3, 13, 2, 56, 76, 16, 87]\n"
     ]
    }
   ],
   "source": [
    "b = [ 3, 13, 2, 56, 76, 16]\n",
    "print(b)\n",
    "b.append(87) # agrega información a la lista\n",
    "print(b) # se actualiza la lista original"
   ]
  },
  {
   "cell_type": "markdown",
   "metadata": {},
   "source": [
    "#### Example 5: extend"
   ]
  },
  {
   "cell_type": "code",
   "execution_count": 73,
   "metadata": {},
   "outputs": [
    {
     "name": "stdout",
     "output_type": "stream",
     "text": [
      "[19, 25, 76]\n",
      "[3, 13, 2, 56, 76, 16, 87]\n",
      "[19, 25, 76, 3, 13, 2, 56, 76, 16, 87]\n"
     ]
    }
   ],
   "source": [
    "a = [ 19, 25, 76 ]\n",
    "print(a)\n",
    "print(b)\n",
    "a.extend(b) # la lista a se extenderá con los elementos de la lista b\n",
    "print(a)"
   ]
  },
  {
   "cell_type": "code",
   "execution_count": 74,
   "metadata": {},
   "outputs": [
    {
     "name": "stdout",
     "output_type": "stream",
     "text": [
      "[19, 25, 76, 3, 13, 2, 56, 76, 16, 87]\n",
      "(1, 3, 3, 5, 10, 'py', False)\n",
      "[19, 25, 76, 3, 13, 2, 56, 76, 16, 87, 1, 3, 3, 5, 10, 'py', False]\n"
     ]
    }
   ],
   "source": [
    "print(a)\n",
    "print(tuple0)\n",
    "a.extend(tuple0) # se puede extender incluso con elemento de una tupla\n",
    "print(a)"
   ]
  },
  {
   "cell_type": "code",
   "execution_count": 75,
   "metadata": {},
   "outputs": [
    {
     "name": "stdout",
     "output_type": "stream",
     "text": [
      "2\n"
     ]
    }
   ],
   "source": [
    "print(a.index(76))"
   ]
  },
  {
   "cell_type": "markdown",
   "metadata": {},
   "source": [
    "| Function \t| Definition \t|\n",
    "| --- | ---  |\n",
    "| type(list) \t| It returns the class type of an object. \t|\n",
    "| max(list) \t| It returns an item from the list with max value. \t|\n",
    "| min(list) \t| It returns an item from the list with min value. \t|\n",
    "| len(list) \t| It gives the total length of the list. \t|\n",
    "| list(seq) \t| Converts a tuple into a list. \t|"
   ]
  },
  {
   "cell_type": "markdown",
   "metadata": {},
   "source": [
    "#### Example 6: Functions"
   ]
  },
  {
   "cell_type": "code",
   "execution_count": 76,
   "metadata": {},
   "outputs": [
    {
     "data": {
      "text/plain": [
       "[3, 13, 2, 56, 76, 16, 87]"
      ]
     },
     "execution_count": 76,
     "metadata": {},
     "output_type": "execute_result"
    }
   ],
   "source": [
    "b"
   ]
  },
  {
   "cell_type": "code",
   "execution_count": 77,
   "metadata": {},
   "outputs": [
    {
     "name": "stdout",
     "output_type": "stream",
     "text": [
      "[3, 13, 2, 56, 76, 16, 87]\n"
     ]
    },
    {
     "data": {
      "text/plain": [
       "list"
      ]
     },
     "execution_count": 77,
     "metadata": {},
     "output_type": "execute_result"
    }
   ],
   "source": [
    "# type of object\n",
    "print( b )\n",
    "type( b )"
   ]
  },
  {
   "cell_type": "code",
   "execution_count": 78,
   "metadata": {},
   "outputs": [
    {
     "name": "stdout",
     "output_type": "stream",
     "text": [
      "[3, 13, 2, 56, 76, 16, 87]\n"
     ]
    },
    {
     "data": {
      "text/plain": [
       "87"
      ]
     },
     "execution_count": 78,
     "metadata": {},
     "output_type": "execute_result"
    }
   ],
   "source": [
    "# max\n",
    "print( b )\n",
    "max( b )"
   ]
  },
  {
   "cell_type": "code",
   "execution_count": 79,
   "metadata": {},
   "outputs": [
    {
     "name": "stdout",
     "output_type": "stream",
     "text": [
      "[3, 13, 2, 56, 76, 16, 87]\n"
     ]
    },
    {
     "data": {
      "text/plain": [
       "2"
      ]
     },
     "execution_count": 79,
     "metadata": {},
     "output_type": "execute_result"
    }
   ],
   "source": [
    "# min\n",
    "print( b )\n",
    "min( b )"
   ]
  },
  {
   "cell_type": "code",
   "execution_count": 80,
   "metadata": {},
   "outputs": [
    {
     "name": "stdout",
     "output_type": "stream",
     "text": [
      "[3, 13, 2, 56, 76, 16, 87]\n"
     ]
    },
    {
     "data": {
      "text/plain": [
       "7"
      ]
     },
     "execution_count": 80,
     "metadata": {},
     "output_type": "execute_result"
    }
   ],
   "source": [
    "# length of a list\n",
    "print( b )\n",
    "len( b )"
   ]
  },
  {
   "cell_type": "markdown",
   "metadata": {},
   "source": [
    "## [Dictionaries](https://realpython.com/python-dicts/)\n",
    "\n",
    "It is a ordered (Python >= 3.7) and mutable Python container. It does not allow duplicate key. They must be unique."
   ]
  },
  {
   "cell_type": "markdown",
   "metadata": {},
   "source": [
    "| Method \t| Definition \t|\n",
    "| --- | --- |\n",
    "|clear()|\tRemoves all the elements from the dictionary|\n",
    "|copy() |\tReturns a copy of the dictionary|\n",
    "|fromkeys() |\tReturns a dictionary with the specified keys and value|\n",
    "|get() |\tReturns the value of the specified key|\n",
    "|items() |\tReturns a list containing a tuple for each key value pair|\n",
    "|keys() | Returns a list containing the dictionary's keys|\n",
    "|pop() | Removes the element with the specified key|\n",
    "|popitem() | Removes the last inserted key-value pair|\n",
    "|setdefault() | Returns the value of the specified key. <br> If the key does not exist: insert the key, with the specified value|\n",
    "|update() |\tUpdates the dictionary with the specified key-value pairs |\n",
    "|values() | Returns a list of all the values in the dictionary|"
   ]
  },
  {
   "cell_type": "markdown",
   "metadata": {},
   "source": [
    "#### Example 1"
   ]
  },
  {
   "cell_type": "code",
   "execution_count": 81,
   "metadata": {},
   "outputs": [],
   "source": [
    "alexander = { 'lastname': \"Quispe,\", 'age': 28, 'birth_place': \"SJL\", 'male' : True}\n",
    "maria = { 'lastname': \"rojas\", 'age': 27, 'birth_place': \"SMP\", 'male' : False}\n",
    "# se puede crear con una o dos comillas, pero se suele usar una comilla para las keys"
   ]
  },
  {
   "cell_type": "code",
   "execution_count": 82,
   "metadata": {},
   "outputs": [
    {
     "data": {
      "text/plain": [
       "{'lastname': 'Quispe,', 'age': 28, 'birth_place': 'SJL', 'male': True}"
      ]
     },
     "execution_count": 82,
     "metadata": {},
     "output_type": "execute_result"
    }
   ],
   "source": [
    "alexander"
   ]
  },
  {
   "cell_type": "code",
   "execution_count": 83,
   "metadata": {},
   "outputs": [
    {
     "data": {
      "text/plain": [
       "dict_keys(['lastname', 'age', 'birth_place', 'male'])"
      ]
     },
     "execution_count": 83,
     "metadata": {},
     "output_type": "execute_result"
    }
   ],
   "source": [
    "alexander.keys()"
   ]
  },
  {
   "cell_type": "markdown",
   "metadata": {},
   "source": [
    "#### Example 2"
   ]
  },
  {
   "cell_type": "code",
   "execution_count": 84,
   "metadata": {},
   "outputs": [
    {
     "data": {
      "text/plain": [
       "{'lastname': ['Quispe', 'Rojas', 'Rodriguez'],\n",
       " 'ages': [28, 29, 30],\n",
       " 'birth_place': 'SJL',\n",
       " 'male': True}"
      ]
     },
     "execution_count": 84,
     "metadata": {},
     "output_type": "execute_result"
    }
   ],
   "source": [
    "last_name = [\"Quispe\", \"Rojas\", \"Rodriguez\"]\n",
    "ages = [28, 29, 30]\n",
    "dict_1 = {\"lastname\"    : last_name,\n",
    "          \"ages\"        : ages, \n",
    "          \"birth_place\" : \"SJL\", \n",
    "          'male'        : True}\n",
    "dict_1"
   ]
  },
  {
   "cell_type": "code",
   "execution_count": 85,
   "metadata": {},
   "outputs": [
    {
     "data": {
      "text/plain": [
       "dict_keys(['lastname', 'ages', 'birth_place', 'male'])"
      ]
     },
     "execution_count": 85,
     "metadata": {},
     "output_type": "execute_result"
    }
   ],
   "source": [
    "dict_1.keys()"
   ]
  },
  {
   "cell_type": "code",
   "execution_count": 86,
   "metadata": {},
   "outputs": [
    {
     "ename": "KeyError",
     "evalue": "0",
     "output_type": "error",
     "traceback": [
      "\u001b[1;31m---------------------------------------------------------------------------\u001b[0m",
      "\u001b[1;31mKeyError\u001b[0m                                  Traceback (most recent call last)",
      "Cell \u001b[1;32mIn[86], line 1\u001b[0m\n\u001b[1;32m----> 1\u001b[0m dict_1[\u001b[38;5;241m0\u001b[39m]\n",
      "\u001b[1;31mKeyError\u001b[0m: 0"
     ]
    }
   ],
   "source": [
    "dict_1[0] # la indexación es a través de los keys"
   ]
  },
  {
   "cell_type": "code",
   "execution_count": 87,
   "metadata": {},
   "outputs": [
    {
     "data": {
      "text/plain": [
       "['Quispe', 'Rojas', 'Rodriguez']"
      ]
     },
     "execution_count": 87,
     "metadata": {},
     "output_type": "execute_result"
    }
   ],
   "source": [
    "dict_1[\"lastname\"]"
   ]
  },
  {
   "cell_type": "code",
   "execution_count": 88,
   "metadata": {},
   "outputs": [
    {
     "data": {
      "text/plain": [
       "True"
      ]
     },
     "execution_count": 88,
     "metadata": {},
     "output_type": "execute_result"
    }
   ],
   "source": [
    "dict_1[\"male\"]"
   ]
  },
  {
   "cell_type": "code",
   "execution_count": 89,
   "metadata": {},
   "outputs": [
    {
     "data": {
      "text/plain": [
       "dict"
      ]
     },
     "execution_count": 89,
     "metadata": {},
     "output_type": "execute_result"
    }
   ],
   "source": [
    "type(dict_1)"
   ]
  },
  {
   "cell_type": "markdown",
   "metadata": {},
   "source": [
    "#### Example 3: clear"
   ]
  },
  {
   "cell_type": "code",
   "execution_count": 90,
   "metadata": {},
   "outputs": [],
   "source": [
    "# dictionary containing the population of the 5 largest german cities\n",
    "population = {'Berlin': 3748148, 'Hamburg': 1822445, 'Munich': 1471508, 'Cologne': 1085664, 'Frankfurt': 753056 }"
   ]
  },
  {
   "cell_type": "code",
   "execution_count": 91,
   "metadata": {},
   "outputs": [
    {
     "name": "stdout",
     "output_type": "stream",
     "text": [
      "{'Berlin': 3748148, 'Hamburg': 1822445, 'Munich': 1471508, 'Cologne': 1085664, 'Frankfurt': 753056}\n"
     ]
    },
    {
     "data": {
      "text/plain": [
       "dict"
      ]
     },
     "execution_count": 91,
     "metadata": {},
     "output_type": "execute_result"
    }
   ],
   "source": [
    "# clear\n",
    "print( population )\n",
    "type( population )"
   ]
  },
  {
   "cell_type": "code",
   "execution_count": 92,
   "metadata": {},
   "outputs": [
    {
     "name": "stdout",
     "output_type": "stream",
     "text": [
      "this is pre clear:  {'Berlin': 3748148, 'Hamburg': 1822445, 'Munich': 1471508, 'Cologne': 1085664, 'Frankfurt': 753056}\n",
      "this is after clear:  {}\n"
     ]
    }
   ],
   "source": [
    "print(\"this is pre clear: \", population)\n",
    "population.clear() # limpia la información contenida en el diccionario\n",
    "print(\"this is after clear: \", population)"
   ]
  },
  {
   "cell_type": "markdown",
   "metadata": {},
   "source": [
    "#### Example 4: copy"
   ]
  },
  {
   "cell_type": "code",
   "execution_count": 93,
   "metadata": {},
   "outputs": [
    {
     "name": "stdout",
     "output_type": "stream",
     "text": [
      "{'Berlin': 3748148, 'Hamburg': 1822445, 'Munich': 1471508, 'Cologne': 1085664, 'Frankfurt': 753056}\n",
      "{'Berlin': 3748148, 'Hamburg': 1822445, 'Munich': 1471508, 'Cologne': 1085664, 'Frankfurt': 753056}\n"
     ]
    }
   ],
   "source": [
    "population = {'Berlin': 3748148, 'Hamburg': 1822445, 'Munich': 1471508, 'Cologne': 1085664, 'Frankfurt': 753056 }\n",
    "pop_2 = population.copy() # pop2 es una copia independiente de population\n",
    "print(population)\n",
    "print(pop_2) "
   ]
  },
  {
   "cell_type": "code",
   "execution_count": 94,
   "metadata": {},
   "outputs": [
    {
     "name": "stdout",
     "output_type": "stream",
     "text": [
      "{}\n",
      "{'Berlin': 3748148, 'Hamburg': 1822445, 'Munich': 1471508, 'Cologne': 1085664, 'Frankfurt': 753056}\n"
     ]
    }
   ],
   "source": [
    "population.clear()\n",
    "print(population)\n",
    "print(pop_2)"
   ]
  },
  {
   "cell_type": "code",
   "execution_count": 95,
   "metadata": {},
   "outputs": [
    {
     "name": "stdout",
     "output_type": "stream",
     "text": [
      "{'Berlin': 3748148, 'Hamburg': 1822445, 'Munich': 1471508, 'Cologne': 1085664, 'Frankfurt': 753056}\n",
      "{'Berlin': 3748148, 'Hamburg': 1822445, 'Munich': 1471508, 'Cologne': 1085664, 'Frankfurt': 753056}\n"
     ]
    }
   ],
   "source": [
    "population = {'Berlin': 3748148, 'Hamburg': 1822445, 'Munich': 1471508, 'Cologne': 1085664, 'Frankfurt': 753056 }\n",
    "pop_3 = population # pop3 es una copia dependiente de population\n",
    "print(population)\n",
    "print(pop_3) "
   ]
  },
  {
   "cell_type": "code",
   "execution_count": 96,
   "metadata": {},
   "outputs": [
    {
     "name": "stdout",
     "output_type": "stream",
     "text": [
      "{}\n",
      "{}\n"
     ]
    }
   ],
   "source": [
    "population.clear()\n",
    "print(population)\n",
    "print(pop_3)"
   ]
  },
  {
   "cell_type": "markdown",
   "metadata": {},
   "source": [
    "#### Example 5"
   ]
  },
  {
   "cell_type": "code",
   "execution_count": 97,
   "metadata": {},
   "outputs": [
    {
     "data": {
      "text/plain": [
       "3748148"
      ]
     },
     "execution_count": 97,
     "metadata": {},
     "output_type": "execute_result"
    }
   ],
   "source": [
    "population = {'Berlin': 3748148, 'Hamburg': 1822445, 'Munich': 1471508, 'Cologne': 1085664, 'Frankfurt': 753056 }\n",
    "population[\"Berlin\"]"
   ]
  },
  {
   "cell_type": "code",
   "execution_count": 98,
   "metadata": {},
   "outputs": [
    {
     "data": {
      "text/plain": [
       "3748148"
      ]
     },
     "execution_count": 98,
     "metadata": {},
     "output_type": "execute_result"
    }
   ],
   "source": [
    "# Get information from key (equivalente a la línea anterior)\n",
    "population.get('Berlin')"
   ]
  },
  {
   "cell_type": "code",
   "execution_count": 99,
   "metadata": {},
   "outputs": [
    {
     "data": {
      "text/plain": [
       "dict_items([('Berlin', 3748148), ('Hamburg', 1822445), ('Munich', 1471508), ('Cologne', 1085664), ('Frankfurt', 753056)])"
      ]
     },
     "execution_count": 99,
     "metadata": {},
     "output_type": "execute_result"
    }
   ],
   "source": [
    "# Get information from key\n",
    "population.items() # devuelve tuplas en pares ordenados (como si fuera fila por fila)"
   ]
  },
  {
   "cell_type": "code",
   "execution_count": 100,
   "metadata": {},
   "outputs": [
    {
     "data": {
      "text/plain": [
       "753056"
      ]
     },
     "execution_count": 100,
     "metadata": {},
     "output_type": "execute_result"
    }
   ],
   "source": [
    "population.pop(\"Frankfurt\") # para remover un elemento (no se puede colocar dos keys en pop)"
   ]
  },
  {
   "cell_type": "code",
   "execution_count": 101,
   "metadata": {},
   "outputs": [
    {
     "data": {
      "text/plain": [
       "{'Berlin': 3748148, 'Hamburg': 1822445, 'Munich': 1471508, 'Cologne': 1085664}"
      ]
     },
     "execution_count": 101,
     "metadata": {},
     "output_type": "execute_result"
    }
   ],
   "source": [
    "population # ya no aparece Frankfurt"
   ]
  },
  {
   "cell_type": "markdown",
   "metadata": {},
   "source": [
    "#### Example 6"
   ]
  },
  {
   "cell_type": "code",
   "execution_count": 102,
   "metadata": {},
   "outputs": [
    {
     "data": {
      "text/plain": [
       "{'munich': 'Alianz Arena',\n",
       " 'dormundt': 'SIP',\n",
       " 'ulm': 'VFLULM',\n",
       " 'shalke': 'GAZPROM'}"
      ]
     },
     "execution_count": 102,
     "metadata": {},
     "output_type": "execute_result"
    }
   ],
   "source": [
    "stadiums = { \"munich\":\"Alianz Arena\", \"dormundt\": \"SIP\", \"ulm\": \"VFLULM\", \"shalke\": \"GAZPROM\"}\n",
    "stadiums"
   ]
  },
  {
   "cell_type": "code",
   "execution_count": 103,
   "metadata": {},
   "outputs": [
    {
     "data": {
      "text/plain": [
       "{'Berlin': 3748148,\n",
       " 'Hamburg': 1822445,\n",
       " 'Munich': 1471508,\n",
       " 'Cologne': 1085664,\n",
       " 'stadiums': {'munich': 'Alianz Arena',\n",
       "  'dormundt': 'SIP',\n",
       "  'ulm': 'VFLULM',\n",
       "  'shalke': 'GAZPROM'}}"
      ]
     },
     "execution_count": 103,
     "metadata": {},
     "output_type": "execute_result"
    }
   ],
   "source": [
    "population.update( {\"stadiums\": stadiums} )\n",
    "population"
   ]
  },
  {
   "cell_type": "code",
   "execution_count": 104,
   "metadata": {},
   "outputs": [
    {
     "name": "stdout",
     "output_type": "stream",
     "text": [
      "<class 'int'>\n",
      "<class 'dict'>\n"
     ]
    }
   ],
   "source": [
    "print(type(population[\"Berlin\"]))\n",
    "print(type(population[\"stadiums\"]))"
   ]
  },
  {
   "cell_type": "markdown",
   "metadata": {},
   "source": [
    "#### Example 7: popitem and update"
   ]
  },
  {
   "cell_type": "code",
   "execution_count": 105,
   "metadata": {},
   "outputs": [
    {
     "name": "stdout",
     "output_type": "stream",
     "text": [
      "{'Berlin': 3748148, 'Hamburg': 1822445, 'Munich': 1471508, 'Cologne': 1085664, 'stadiums': {'munich': 'Alianz Arena', 'dormundt': 'SIP', 'ulm': 'VFLULM', 'shalke': 'GAZPROM'}}\n",
      "{'Berlin': 3748148, 'Hamburg': 1822445, 'Munich': 1471508, 'Cologne': 1085664}\n"
     ]
    }
   ],
   "source": [
    "# Drop an item\n",
    "print(population)\n",
    "population.popitem( ) # Elimina el último par (clave, valor) del diccionario\n",
    "print(population)"
   ]
  },
  {
   "cell_type": "code",
   "execution_count": 106,
   "metadata": {},
   "outputs": [
    {
     "name": "stdout",
     "output_type": "stream",
     "text": [
      "{'Berlin': 3748148, 'Hamburg': 1822445, 'Munich': 1471508, 'Cologne': 1085664}\n"
     ]
    },
    {
     "data": {
      "text/plain": [
       "{'Berlin': 3748148,\n",
       " 'Hamburg': 1822445,\n",
       " 'Munich': 1471508,\n",
       " 'Cologne': 1085664,\n",
       " 'Bonn': 327258,\n",
       " 'Ulm': 100000}"
      ]
     },
     "execution_count": 106,
     "metadata": {},
     "output_type": "execute_result"
    }
   ],
   "source": [
    "# Add an item\n",
    "print(population)\n",
    "population.update( { \"Bonn\" :  327258 } )\n",
    "population.update( { \"Ulm\" : 100000  } )\n",
    "population"
   ]
  },
  {
   "cell_type": "code",
   "execution_count": 107,
   "metadata": {},
   "outputs": [
    {
     "name": "stdout",
     "output_type": "stream",
     "text": [
      "{'Berlin': 3748148, 'Hamburg': 1822445, 'Munich': 1471508, 'Cologne': 1085664, 'Bonn': 327258, 'Ulm': 100000}\n",
      "{'Berlin': 3748148, 'Hamburg': 1822445, 'Munich': {'population': 100, 'km2': 500, 'president': 'Anzony'}, 'Cologne': 1085664, 'Bonn': 327258, 'Ulm': 100000}\n"
     ]
    }
   ],
   "source": [
    "# Modify an item\n",
    "print( population )\n",
    "population.update( { \"Munich\" :  {\"population\":100 , \"km2\" : 500, \"president\" : \"Anzony\"} } )\n",
    "print( population )"
   ]
  },
  {
   "cell_type": "markdown",
   "metadata": {},
   "source": [
    "#### Example 8: values"
   ]
  },
  {
   "cell_type": "code",
   "execution_count": 108,
   "metadata": {},
   "outputs": [
    {
     "data": {
      "text/plain": [
       "dict_values([3748148, 1822445, {'population': 100, 'km2': 500, 'president': 'Anzony'}, 1085664, 327258, 100000])"
      ]
     },
     "execution_count": 108,
     "metadata": {},
     "output_type": "execute_result"
    }
   ],
   "source": [
    "# Get all values from all keys\n",
    "population.values()"
   ]
  },
  {
   "cell_type": "code",
   "execution_count": 109,
   "metadata": {},
   "outputs": [
    {
     "name": "stdout",
     "output_type": "stream",
     "text": [
      "{'Berlin': 3748148, 'Hamburg': 1822445, 'Munich': {'population': 100, 'km2': 500, 'president': 'Anzony'}, 'Cologne': 1085664, 'Bonn': 327258, 'Ulm': 100000}\n",
      "3748148\n",
      "500\n"
     ]
    }
   ],
   "source": [
    "print(population)\n",
    "print(population['Berlin'])\n",
    "print(population[\"Munich\"].get(\"km2\"))"
   ]
  },
  {
   "cell_type": "markdown",
   "metadata": {},
   "source": [
    "#### Example 9: From lists to dictionaries"
   ]
  },
  {
   "cell_type": "code",
   "execution_count": 110,
   "metadata": {},
   "outputs": [],
   "source": [
    "# keys\n",
    "cities = ['Fray Martin','Santa Rosa de Puquio','Cuchicorral','Santiago de Punchauca',\n",
    "          'La Cruz (11 Amigos)','Cerro Cañon','Cabaña Suche','San Lorenzo',\n",
    "          'Jose Carlos Mariategui','Pascal','La Esperanza','Fundo Pancha Paula','Olfa',\n",
    "          'Rio Seco','Paraiso','El Rosario','Cerro Puquio','La Campana','Las Animas',\n",
    "          'Vetancio','Roma Alta','San Jose','San Pedro de Carabayllo','Huacoy',\n",
    "          'Fundo Pampa Libre','Ex Fundo Santa Ines','Reposo','Carmelito','Santa Elena','Don Luis','Santa Ines Parcela','Asociacion Santa Ines','Roma Baja','Residencial Santa Lucia','San Francisco','Santa Margarita - Molinos','Sipan Peru','Fundo Cuadros','Bello Horizonte','El Hueco','Ex Fundo Mariategui','Naranjito','Vista Hermosa','El Sabroso de Jose Carlos Mariategui','Granja Carabayllo','Agropecuario Valle el Chillon','Camino Real','Copacabana','El Trebol','Tablada la Virgen','San Fernando de Carabayllo','San Fernando de Copacabana','La Manzana','Chacra Grande','Torres de Copacabana','San Pedro de Carabayllo','San Lorenzo','Chaclacayo','Chorrillos','Cieneguilla','Lindero','Pichicato','San Isidro','San Vicente','Piedra Liza','Santa Rosa de Chontay (Chontay)','La Libertad','El Agustino','Independencia','Jesus Maria','La Molina','La Victoria','Lince','Las Palmeras','Chosica','Lurin','Los Almacigos','Rinconada del Puruhuay','Fundo Santa Genoveva','Los Maderos','Casco Viejo','Vista Alegre','Buena Vista Alta','Lomas Pucara','Fundo la Querencia','Magdalena del Mar','Pueblo Libre','Miraflores','Pachacamac','Puente Manchay','Tambo Inga','Pampa Flores','Manchay Alto Lote B','Invasion Cementerio','Manchay Bajo','Santa Rosa de Mal Paso','Cardal','Jatosisa','Tomina','Pucusana','Honda','Quipa','Los Pelicanos','Playa Puerto Bello','Ñaves','Granja Santa Elena','Alvatroz II','Poseidon - Lobo Varado','Playa Minka Mar','Playa Acantilado','Puente Piedra','Punta Hermosa','Capilla Lucumo','Cucuya','Pampapacta','Avicola San Cirilo de Loma Negra - 03','Avicola San Cirilo de Loma Negra - 02','Avicola San Cirilo de Loma Negra - 01','Pampa Mamay','Cerro Botija','Agricultores y Ganaderos','Pampa Malanche Avicola Puma','Punta Negra','Chancheria','Rimac','San Bartolo','Plantel 41','Granja 4','Granja 5','Granja 07','Granja 44','Granja 47','Santa Maria I','Las Torres Santa Fe','San Francisco de Borja','San Isidro','San Juan de Lurigancho','Ciudad de Dios','San Luis','Barrio Obrero Industrial','San Miguel','Santa Anita - los Ficus','Santa Maria del Mar','Don Bruno','Santa Rosa','Santiago de Surco','Surquillo','Villa el Salvador','Villa Maria del Triunfo', 'Pueblo libre']\n",
    "# values\n",
    "postal_code = [15001,15003,15004,15006,15018,15019,15046,15072,15079,15081,15082,15083,15088,15123,15004,15011,15012,15019,15022,15023,15026,15476,15479,15483,15487,15491,15494,15498,15047,15049,15063,15082,15083,15121,15122,15313,15316,15318,15319,15320,15321,15324,15320,15320,15320,15320,15320,15320,15121,15320,15320,15121,15320,15320,15121,15121,15122,15122,15121,15121,15121,15320,15320,15320,15320,15320,15320,15121,15121,15121,15320,15121,15319,15121,15121,15121,15320,15320,15121,15121,15121,15121,15320,15320,15320,15122,15122,15122,15122,15122,15122,15122,15122,15121,15121,15122,15122,15121,15121,15122,15122,15121,15122,15122,15122,15472,15476,15054,15056,15057,15058,15063,15064,15066,15067,15593,15594,15593,15593,15593,15593,15593,15593,15593,15311,15312,15313,15314,15316,15324,15326,15327,15328,15332,15003,15004,15006,15007,15008,15009,15011,15018,15022,15311,15328,15331,15332,15333,15046, 15001]"
   ]
  },
  {
   "cell_type": "code",
   "execution_count": 111,
   "metadata": {},
   "outputs": [
    {
     "name": "stdout",
     "output_type": "stream",
     "text": [
      "<class 'list'>\n",
      "150\n"
     ]
    }
   ],
   "source": [
    "print(type(cities))\n",
    "print(len(cities))"
   ]
  },
  {
   "cell_type": "code",
   "execution_count": 112,
   "metadata": {},
   "outputs": [
    {
     "name": "stdout",
     "output_type": "stream",
     "text": [
      "<class 'list'>\n",
      "150\n"
     ]
    }
   ],
   "source": [
    "print(type(postal_code))\n",
    "print(len(postal_code))"
   ]
  },
  {
   "cell_type": "code",
   "execution_count": 113,
   "metadata": {},
   "outputs": [
    {
     "data": {
      "text/plain": [
       "[('Fray Martin', 15001),\n",
       " ('Santa Rosa de Puquio', 15003),\n",
       " ('Cuchicorral', 15004),\n",
       " ('Santiago de Punchauca', 15006),\n",
       " ('La Cruz (11 Amigos)', 15018),\n",
       " ('Cerro Cañon', 15019),\n",
       " ('Cabaña Suche', 15046),\n",
       " ('San Lorenzo', 15072),\n",
       " ('Jose Carlos Mariategui', 15079),\n",
       " ('Pascal', 15081),\n",
       " ('La Esperanza', 15082),\n",
       " ('Fundo Pancha Paula', 15083),\n",
       " ('Olfa', 15088),\n",
       " ('Rio Seco', 15123),\n",
       " ('Paraiso', 15004),\n",
       " ('El Rosario', 15011),\n",
       " ('Cerro Puquio', 15012),\n",
       " ('La Campana', 15019),\n",
       " ('Las Animas', 15022),\n",
       " ('Vetancio', 15023),\n",
       " ('Roma Alta', 15026),\n",
       " ('San Jose', 15476),\n",
       " ('San Pedro de Carabayllo', 15479),\n",
       " ('Huacoy', 15483),\n",
       " ('Fundo Pampa Libre', 15487),\n",
       " ('Ex Fundo Santa Ines', 15491),\n",
       " ('Reposo', 15494),\n",
       " ('Carmelito', 15498),\n",
       " ('Santa Elena', 15047),\n",
       " ('Don Luis', 15049),\n",
       " ('Santa Ines Parcela', 15063),\n",
       " ('Asociacion Santa Ines', 15082),\n",
       " ('Roma Baja', 15083),\n",
       " ('Residencial Santa Lucia', 15121),\n",
       " ('San Francisco', 15122),\n",
       " ('Santa Margarita - Molinos', 15313),\n",
       " ('Sipan Peru', 15316),\n",
       " ('Fundo Cuadros', 15318),\n",
       " ('Bello Horizonte', 15319),\n",
       " ('El Hueco', 15320),\n",
       " ('Ex Fundo Mariategui', 15321),\n",
       " ('Naranjito', 15324),\n",
       " ('Vista Hermosa', 15320),\n",
       " ('El Sabroso de Jose Carlos Mariategui', 15320),\n",
       " ('Granja Carabayllo', 15320),\n",
       " ('Agropecuario Valle el Chillon', 15320),\n",
       " ('Camino Real', 15320),\n",
       " ('Copacabana', 15320),\n",
       " ('El Trebol', 15121),\n",
       " ('Tablada la Virgen', 15320),\n",
       " ('San Fernando de Carabayllo', 15320),\n",
       " ('San Fernando de Copacabana', 15121),\n",
       " ('La Manzana', 15320),\n",
       " ('Chacra Grande', 15320),\n",
       " ('Torres de Copacabana', 15121),\n",
       " ('San Pedro de Carabayllo', 15121),\n",
       " ('San Lorenzo', 15122),\n",
       " ('Chaclacayo', 15122),\n",
       " ('Chorrillos', 15121),\n",
       " ('Cieneguilla', 15121),\n",
       " ('Lindero', 15121),\n",
       " ('Pichicato', 15320),\n",
       " ('San Isidro', 15320),\n",
       " ('San Vicente', 15320),\n",
       " ('Piedra Liza', 15320),\n",
       " ('Santa Rosa de Chontay (Chontay)', 15320),\n",
       " ('La Libertad', 15320),\n",
       " ('El Agustino', 15121),\n",
       " ('Independencia', 15121),\n",
       " ('Jesus Maria', 15121),\n",
       " ('La Molina', 15320),\n",
       " ('La Victoria', 15121),\n",
       " ('Lince', 15319),\n",
       " ('Las Palmeras', 15121),\n",
       " ('Chosica', 15121),\n",
       " ('Lurin', 15121),\n",
       " ('Los Almacigos', 15320),\n",
       " ('Rinconada del Puruhuay', 15320),\n",
       " ('Fundo Santa Genoveva', 15121),\n",
       " ('Los Maderos', 15121),\n",
       " ('Casco Viejo', 15121),\n",
       " ('Vista Alegre', 15121),\n",
       " ('Buena Vista Alta', 15320),\n",
       " ('Lomas Pucara', 15320),\n",
       " ('Fundo la Querencia', 15320),\n",
       " ('Magdalena del Mar', 15122),\n",
       " ('Pueblo Libre', 15122),\n",
       " ('Miraflores', 15122),\n",
       " ('Pachacamac', 15122),\n",
       " ('Puente Manchay', 15122),\n",
       " ('Tambo Inga', 15122),\n",
       " ('Pampa Flores', 15122),\n",
       " ('Manchay Alto Lote B', 15122),\n",
       " ('Invasion Cementerio', 15121),\n",
       " ('Manchay Bajo', 15121),\n",
       " ('Santa Rosa de Mal Paso', 15122),\n",
       " ('Cardal', 15122),\n",
       " ('Jatosisa', 15121),\n",
       " ('Tomina', 15121),\n",
       " ('Pucusana', 15122),\n",
       " ('Honda', 15122),\n",
       " ('Quipa', 15121),\n",
       " ('Los Pelicanos', 15122),\n",
       " ('Playa Puerto Bello', 15122),\n",
       " ('Ñaves', 15122),\n",
       " ('Granja Santa Elena', 15472),\n",
       " ('Alvatroz II', 15476),\n",
       " ('Poseidon - Lobo Varado', 15054),\n",
       " ('Playa Minka Mar', 15056),\n",
       " ('Playa Acantilado', 15057),\n",
       " ('Puente Piedra', 15058),\n",
       " ('Punta Hermosa', 15063),\n",
       " ('Capilla Lucumo', 15064),\n",
       " ('Cucuya', 15066),\n",
       " ('Pampapacta', 15067),\n",
       " ('Avicola San Cirilo de Loma Negra - 03', 15593),\n",
       " ('Avicola San Cirilo de Loma Negra - 02', 15594),\n",
       " ('Avicola San Cirilo de Loma Negra - 01', 15593),\n",
       " ('Pampa Mamay', 15593),\n",
       " ('Cerro Botija', 15593),\n",
       " ('Agricultores y Ganaderos', 15593),\n",
       " ('Pampa Malanche Avicola Puma', 15593),\n",
       " ('Punta Negra', 15593),\n",
       " ('Chancheria', 15593),\n",
       " ('Rimac', 15311),\n",
       " ('San Bartolo', 15312),\n",
       " ('Plantel 41', 15313),\n",
       " ('Granja 4', 15314),\n",
       " ('Granja 5', 15316),\n",
       " ('Granja 07', 15324),\n",
       " ('Granja 44', 15326),\n",
       " ('Granja 47', 15327),\n",
       " ('Santa Maria I', 15328),\n",
       " ('Las Torres Santa Fe', 15332),\n",
       " ('San Francisco de Borja', 15003),\n",
       " ('San Isidro', 15004),\n",
       " ('San Juan de Lurigancho', 15006),\n",
       " ('Ciudad de Dios', 15007),\n",
       " ('San Luis', 15008),\n",
       " ('Barrio Obrero Industrial', 15009),\n",
       " ('San Miguel', 15011),\n",
       " ('Santa Anita - los Ficus', 15018),\n",
       " ('Santa Maria del Mar', 15022),\n",
       " ('Don Bruno', 15311),\n",
       " ('Santa Rosa', 15328),\n",
       " ('Santiago de Surco', 15331),\n",
       " ('Surquillo', 15332),\n",
       " ('Villa el Salvador', 15333),\n",
       " ('Villa Maria del Triunfo', 15046),\n",
       " ('Pueblo libre', 15001)]"
      ]
     },
     "execution_count": 113,
     "metadata": {},
     "output_type": "execute_result"
    }
   ],
   "source": [
    "list_pc = list(zip(cities , postal_code))\n",
    "list_pc"
   ]
  },
  {
   "cell_type": "code",
   "execution_count": 114,
   "metadata": {},
   "outputs": [
    {
     "data": {
      "text/plain": [
       "{'Fray Martin': 15001,\n",
       " 'Santa Rosa de Puquio': 15003,\n",
       " 'Cuchicorral': 15004,\n",
       " 'Santiago de Punchauca': 15006,\n",
       " 'La Cruz (11 Amigos)': 15018,\n",
       " 'Cerro Cañon': 15019,\n",
       " 'Cabaña Suche': 15046,\n",
       " 'San Lorenzo': 15122,\n",
       " 'Jose Carlos Mariategui': 15079,\n",
       " 'Pascal': 15081,\n",
       " 'La Esperanza': 15082,\n",
       " 'Fundo Pancha Paula': 15083,\n",
       " 'Olfa': 15088,\n",
       " 'Rio Seco': 15123,\n",
       " 'Paraiso': 15004,\n",
       " 'El Rosario': 15011,\n",
       " 'Cerro Puquio': 15012,\n",
       " 'La Campana': 15019,\n",
       " 'Las Animas': 15022,\n",
       " 'Vetancio': 15023,\n",
       " 'Roma Alta': 15026,\n",
       " 'San Jose': 15476,\n",
       " 'San Pedro de Carabayllo': 15121,\n",
       " 'Huacoy': 15483,\n",
       " 'Fundo Pampa Libre': 15487,\n",
       " 'Ex Fundo Santa Ines': 15491,\n",
       " 'Reposo': 15494,\n",
       " 'Carmelito': 15498,\n",
       " 'Santa Elena': 15047,\n",
       " 'Don Luis': 15049,\n",
       " 'Santa Ines Parcela': 15063,\n",
       " 'Asociacion Santa Ines': 15082,\n",
       " 'Roma Baja': 15083,\n",
       " 'Residencial Santa Lucia': 15121,\n",
       " 'San Francisco': 15122,\n",
       " 'Santa Margarita - Molinos': 15313,\n",
       " 'Sipan Peru': 15316,\n",
       " 'Fundo Cuadros': 15318,\n",
       " 'Bello Horizonte': 15319,\n",
       " 'El Hueco': 15320,\n",
       " 'Ex Fundo Mariategui': 15321,\n",
       " 'Naranjito': 15324,\n",
       " 'Vista Hermosa': 15320,\n",
       " 'El Sabroso de Jose Carlos Mariategui': 15320,\n",
       " 'Granja Carabayllo': 15320,\n",
       " 'Agropecuario Valle el Chillon': 15320,\n",
       " 'Camino Real': 15320,\n",
       " 'Copacabana': 15320,\n",
       " 'El Trebol': 15121,\n",
       " 'Tablada la Virgen': 15320,\n",
       " 'San Fernando de Carabayllo': 15320,\n",
       " 'San Fernando de Copacabana': 15121,\n",
       " 'La Manzana': 15320,\n",
       " 'Chacra Grande': 15320,\n",
       " 'Torres de Copacabana': 15121,\n",
       " 'Chaclacayo': 15122,\n",
       " 'Chorrillos': 15121,\n",
       " 'Cieneguilla': 15121,\n",
       " 'Lindero': 15121,\n",
       " 'Pichicato': 15320,\n",
       " 'San Isidro': 15004,\n",
       " 'San Vicente': 15320,\n",
       " 'Piedra Liza': 15320,\n",
       " 'Santa Rosa de Chontay (Chontay)': 15320,\n",
       " 'La Libertad': 15320,\n",
       " 'El Agustino': 15121,\n",
       " 'Independencia': 15121,\n",
       " 'Jesus Maria': 15121,\n",
       " 'La Molina': 15320,\n",
       " 'La Victoria': 15121,\n",
       " 'Lince': 15319,\n",
       " 'Las Palmeras': 15121,\n",
       " 'Chosica': 15121,\n",
       " 'Lurin': 15121,\n",
       " 'Los Almacigos': 15320,\n",
       " 'Rinconada del Puruhuay': 15320,\n",
       " 'Fundo Santa Genoveva': 15121,\n",
       " 'Los Maderos': 15121,\n",
       " 'Casco Viejo': 15121,\n",
       " 'Vista Alegre': 15121,\n",
       " 'Buena Vista Alta': 15320,\n",
       " 'Lomas Pucara': 15320,\n",
       " 'Fundo la Querencia': 15320,\n",
       " 'Magdalena del Mar': 15122,\n",
       " 'Pueblo Libre': 15122,\n",
       " 'Miraflores': 15122,\n",
       " 'Pachacamac': 15122,\n",
       " 'Puente Manchay': 15122,\n",
       " 'Tambo Inga': 15122,\n",
       " 'Pampa Flores': 15122,\n",
       " 'Manchay Alto Lote B': 15122,\n",
       " 'Invasion Cementerio': 15121,\n",
       " 'Manchay Bajo': 15121,\n",
       " 'Santa Rosa de Mal Paso': 15122,\n",
       " 'Cardal': 15122,\n",
       " 'Jatosisa': 15121,\n",
       " 'Tomina': 15121,\n",
       " 'Pucusana': 15122,\n",
       " 'Honda': 15122,\n",
       " 'Quipa': 15121,\n",
       " 'Los Pelicanos': 15122,\n",
       " 'Playa Puerto Bello': 15122,\n",
       " 'Ñaves': 15122,\n",
       " 'Granja Santa Elena': 15472,\n",
       " 'Alvatroz II': 15476,\n",
       " 'Poseidon - Lobo Varado': 15054,\n",
       " 'Playa Minka Mar': 15056,\n",
       " 'Playa Acantilado': 15057,\n",
       " 'Puente Piedra': 15058,\n",
       " 'Punta Hermosa': 15063,\n",
       " 'Capilla Lucumo': 15064,\n",
       " 'Cucuya': 15066,\n",
       " 'Pampapacta': 15067,\n",
       " 'Avicola San Cirilo de Loma Negra - 03': 15593,\n",
       " 'Avicola San Cirilo de Loma Negra - 02': 15594,\n",
       " 'Avicola San Cirilo de Loma Negra - 01': 15593,\n",
       " 'Pampa Mamay': 15593,\n",
       " 'Cerro Botija': 15593,\n",
       " 'Agricultores y Ganaderos': 15593,\n",
       " 'Pampa Malanche Avicola Puma': 15593,\n",
       " 'Punta Negra': 15593,\n",
       " 'Chancheria': 15593,\n",
       " 'Rimac': 15311,\n",
       " 'San Bartolo': 15312,\n",
       " 'Plantel 41': 15313,\n",
       " 'Granja 4': 15314,\n",
       " 'Granja 5': 15316,\n",
       " 'Granja 07': 15324,\n",
       " 'Granja 44': 15326,\n",
       " 'Granja 47': 15327,\n",
       " 'Santa Maria I': 15328,\n",
       " 'Las Torres Santa Fe': 15332,\n",
       " 'San Francisco de Borja': 15003,\n",
       " 'San Juan de Lurigancho': 15006,\n",
       " 'Ciudad de Dios': 15007,\n",
       " 'San Luis': 15008,\n",
       " 'Barrio Obrero Industrial': 15009,\n",
       " 'San Miguel': 15011,\n",
       " 'Santa Anita - los Ficus': 15018,\n",
       " 'Santa Maria del Mar': 15022,\n",
       " 'Don Bruno': 15311,\n",
       " 'Santa Rosa': 15328,\n",
       " 'Santiago de Surco': 15331,\n",
       " 'Surquillo': 15332,\n",
       " 'Villa el Salvador': 15333,\n",
       " 'Villa Maria del Triunfo': 15046,\n",
       " 'Pueblo libre': 15001}"
      ]
     },
     "execution_count": 114,
     "metadata": {},
     "output_type": "execute_result"
    }
   ],
   "source": [
    "# zipeo: juntar información punto a punto\n",
    "dict_pc = dict(zip(cities , postal_code)) # Return a dictionarie \n",
    "dict_pc"
   ]
  },
  {
   "cell_type": "code",
   "execution_count": 115,
   "metadata": {},
   "outputs": [
    {
     "data": {
      "text/plain": [
       "15088"
      ]
     },
     "execution_count": 115,
     "metadata": {},
     "output_type": "execute_result"
    }
   ],
   "source": [
    "dict_pc['Olfa']"
   ]
  },
  {
   "cell_type": "code",
   "execution_count": 116,
   "metadata": {},
   "outputs": [
    {
     "data": {
      "text/plain": [
       "15099"
      ]
     },
     "execution_count": 116,
     "metadata": {},
     "output_type": "execute_result"
    }
   ],
   "source": [
    "dict_pc['Olfa'] = 15099 \n",
    "dict_pc['Olfa']"
   ]
  },
  {
   "cell_type": "markdown",
   "metadata": {},
   "source": [
    "### Excersises\n",
    "1. Write a Python script to check whether Lima is a key of dict_pc."
   ]
  },
  {
   "cell_type": "code",
   "execution_count": 117,
   "metadata": {},
   "outputs": [
    {
     "ename": "KeyError",
     "evalue": "'Lima'",
     "output_type": "error",
     "traceback": [
      "\u001b[1;31m---------------------------------------------------------------------------\u001b[0m",
      "\u001b[1;31mKeyError\u001b[0m                                  Traceback (most recent call last)",
      "Cell \u001b[1;32mIn[117], line 1\u001b[0m\n\u001b[1;32m----> 1\u001b[0m dict_pc[\u001b[38;5;124m'\u001b[39m\u001b[38;5;124mLima\u001b[39m\u001b[38;5;124m'\u001b[39m]\n",
      "\u001b[1;31mKeyError\u001b[0m: 'Lima'"
     ]
    }
   ],
   "source": [
    "dict_pc['Lima']"
   ]
  },
  {
   "cell_type": "code",
   "execution_count": 118,
   "metadata": {},
   "outputs": [
    {
     "name": "stdout",
     "output_type": "stream",
     "text": [
      "Lima no es una clave en dict_pc.\n"
     ]
    }
   ],
   "source": [
    "if \"Lima\" in dict_pc:\n",
    "    print(\"Lima es una clave en dict_pc.\")\n",
    "else:\n",
    "    print(\"Lima no es una clave en dict_pc.\")"
   ]
  },
  {
   "cell_type": "markdown",
   "metadata": {},
   "source": [
    "2. Write a Python script to join two Python dictionaries."
   ]
  },
  {
   "cell_type": "code",
   "execution_count": 119,
   "metadata": {},
   "outputs": [
    {
     "name": "stdout",
     "output_type": "stream",
     "text": [
      "{'a': 1, 'b': 2, 'c': 3, 'd': 4}\n"
     ]
    }
   ],
   "source": [
    "# Definimos dos diccionarios\n",
    "dict1 = {'a': 1, 'b': 2}\n",
    "dict2 = {'c': 3, 'd': 4}\n",
    "\n",
    "# Unimos los diccionarios usando el operador |\n",
    "combined_dict = dict1 | dict2\n",
    "\n",
    "# Mostramos el diccionario resultante\n",
    "print(combined_dict)  # Salida: {'a': 1, 'b': 2, 'c': 3, 'd': 4}"
   ]
  },
  {
   "cell_type": "code",
   "execution_count": 120,
   "metadata": {},
   "outputs": [
    {
     "name": "stdout",
     "output_type": "stream",
     "text": [
      "{'a': 1, 'b': 2, 'c': 3, 'd': 4}\n"
     ]
    }
   ],
   "source": [
    "# Definimos dos diccionarios\n",
    "dict1 = {'a': 1, 'b': 2}\n",
    "dict2 = {'c': 3, 'd': 4}\n",
    "\n",
    "# Creamos una copia de dict1 para no modificar el original \n",
    "combined_dict = dict1.copy()\n",
    "\n",
    "# Actualizamos la copia con los elementos de dict2 (debe hacerse por separado)\n",
    "combined_dict.update(dict2)\n",
    "\n",
    "# Mostramos el diccionario resultante\n",
    "print(combined_dict)  # Salida: {'a': 1, 'b': 2, 'c': 3, 'd': 4}"
   ]
  },
  {
   "cell_type": "markdown",
   "metadata": {},
   "source": [
    "3. Write a Python script to add a key to a dictionary."
   ]
  },
  {
   "cell_type": "code",
   "execution_count": 121,
   "metadata": {},
   "outputs": [
    {
     "name": "stdout",
     "output_type": "stream",
     "text": [
      "{'a': 1, 'b': 2, 'c': 3}\n"
     ]
    }
   ],
   "source": [
    "# Definimos el diccionario original\n",
    "dict_pc = {'a': 1, 'b': 2}\n",
    "\n",
    "# Añadimos una nueva clave y valor al diccionario\n",
    "dict_pc['c'] = 3\n",
    "\n",
    "# Mostramos el diccionario resultante\n",
    "print(dict_pc) "
   ]
  },
  {
   "cell_type": "markdown",
   "metadata": {},
   "source": [
    "## [Numpy](https://numpy.org/doc/stable/user/numpy-for-matlab-users.html)\n",
    "Numpy is the core library for scientific computing in Python. It provides a high-performance multidimensional array object, and tools for working with these arrays. If you are already familiar with MATLAB, you might find this tutorial useful to get started with Numpy."
   ]
  },
  {
   "cell_type": "markdown",
   "metadata": {},
   "source": [
    "### Arrays\n",
    "A numpy array is a grid of values, all of the same type, and is indexed by a tuple of nonnegative integers. The number of dimensions is the rank of the array; the shape of an array is a tuple of integers giving the size of the array along each dimension."
   ]
  },
  {
   "cell_type": "code",
   "execution_count": 122,
   "metadata": {},
   "outputs": [],
   "source": [
    "import numpy as np"
   ]
  },
  {
   "cell_type": "markdown",
   "metadata": {},
   "source": [
    "#### Exercise 1"
   ]
  },
  {
   "cell_type": "code",
   "execution_count": 123,
   "metadata": {},
   "outputs": [
    {
     "name": "stdout",
     "output_type": "stream",
     "text": [
      "[1 2 3 4 5]\n"
     ]
    }
   ],
   "source": [
    "# 1D array\n",
    "a = np.array( [1, 2, 3, 4, 5] ) # dentro de np.array es una lista\n",
    "print(a)"
   ]
  },
  {
   "cell_type": "code",
   "execution_count": 124,
   "metadata": {},
   "outputs": [
    {
     "name": "stdout",
     "output_type": "stream",
     "text": [
      "[[1 2 3]\n",
      " [4 5 6]]\n"
     ]
    }
   ],
   "source": [
    "# 2D array\n",
    "M = np.array( [ [1, 2, 3], [4, 5, 6] ] )\n",
    "print(M)"
   ]
  },
  {
   "cell_type": "code",
   "execution_count": 125,
   "metadata": {},
   "outputs": [
    {
     "data": {
      "text/plain": [
       "array([[1, 2, 3, 4],\n",
       "       [4, 5, 6, 7]])"
      ]
     },
     "execution_count": 125,
     "metadata": {},
     "output_type": "execute_result"
    }
   ],
   "source": [
    "X = np.array( [ [1, 2, 3, 4], [4, 5, 6, 7] ] )\n",
    "X"
   ]
  },
  {
   "cell_type": "code",
   "execution_count": 126,
   "metadata": {},
   "outputs": [
    {
     "data": {
      "text/plain": [
       "(2, 4)"
      ]
     },
     "execution_count": 126,
     "metadata": {},
     "output_type": "execute_result"
    }
   ],
   "source": [
    "X.shape"
   ]
  },
  {
   "cell_type": "code",
   "execution_count": 127,
   "metadata": {},
   "outputs": [
    {
     "data": {
      "text/plain": [
       "8"
      ]
     },
     "execution_count": 127,
     "metadata": {},
     "output_type": "execute_result"
    }
   ],
   "source": [
    "X.size"
   ]
  },
  {
   "cell_type": "markdown",
   "metadata": {},
   "source": [
    "|Function|\tDescription|\n",
    "| --- |--- |\n",
    "|np.array(a) |\tCreate -dimensional np array from sequence a|\n",
    "|np.linspace(a,b,N) |\tCreate 1D np array with N equally spaced values <br> from a to b (inclusively)|\n",
    "|np.arange(a,b,step) |\tCreate 1D np array with values from a to b (exclusively) <br> incremented by step|\n",
    "|np.zeros(N)\t| Create 1D np array of zeros of length |\n",
    "|np.zeros((n,m)) |\tCreate 2D np array of zeros with  rows and  columns|\n",
    "|np.ones(N) |\tCreate 1D np array of ones of length |\n",
    "|np.ones((n,m))|\tCreate 2D np array of ones with  rows and  columns|\n",
    "|np.eye(N)\t| Create 2D np array with  rows and  columns  <br> with ones on the diagonal  (ie. the identity matrix of size )|\n",
    "|np.concatenate( )|Join a sequence of arrays along an existing axis|\n",
    "|np.hstack( )|Stack arrays in sequence horizontally(column wise)|\n",
    "|np.vstack( )|Stack arrays in sequence vertically(row wise)|\n",
    "|np.column_stack( )|Stack 1-D arrays as columns into a 2-D array|\n",
    "|np.random.normal() | Draw random samples from a normal (Gaussian) distribution. |\n",
    "|np.linalg.inv() | Compute the (multiplicative) inverse of a matrix. |\n",
    "|np.dot() / @  | Matrix Multiplication. |"
   ]
  },
  {
   "cell_type": "markdown",
   "metadata": {},
   "source": [
    "#### Exercise 2: linspace"
   ]
  },
  {
   "cell_type": "code",
   "execution_count": 128,
   "metadata": {},
   "outputs": [
    {
     "name": "stdout",
     "output_type": "stream",
     "text": [
      "[0.  0.1 0.2 0.3 0.4 0.5 0.6 0.7 0.8 0.9 1. ]\n"
     ]
    }
   ],
   "source": [
    "# Create a 1D NumPy array with 11 equally spaced values from 0 to 1:\n",
    "x = np.linspace( 0, 1, 11 ) # 11 elementos o puntos entre 0 y 1 inclusive # se usa bastante para PLOTEOS\n",
    "print(x)"
   ]
  },
  {
   "cell_type": "markdown",
   "metadata": {},
   "source": [
    "#### Exercise 3: arange"
   ]
  },
  {
   "cell_type": "code",
   "execution_count": 129,
   "metadata": {},
   "outputs": [
    {
     "name": "stdout",
     "output_type": "stream",
     "text": [
      "[0.  0.1 0.2 0.3 0.4 0.5 0.6 0.7 0.8 0.9]\n"
     ]
    }
   ],
   "source": [
    "# Create a 1D NumPy array with values from 0 to 20 (exclusively) incremented by 5:\n",
    "y = np.arange( 0, 1, 0.1 ) # de 0 a 1 (sin incluirlo) de 0.1 en 0.1; para que termine en 1, el argumento debe ser 1.1 # sirve para LOOPS\n",
    "print(y)"
   ]
  },
  {
   "cell_type": "markdown",
   "metadata": {},
   "source": [
    "#### Exercise 4: zeros"
   ]
  },
  {
   "cell_type": "code",
   "execution_count": 130,
   "metadata": {},
   "outputs": [
    {
     "name": "stdout",
     "output_type": "stream",
     "text": [
      "[0. 0. 0. 0. 0.]\n"
     ]
    }
   ],
   "source": [
    "# Create a 1D NumPy array of zeros of length 5:\n",
    "z = np.zeros(5)\n",
    "print(z)"
   ]
  },
  {
   "cell_type": "code",
   "execution_count": 131,
   "metadata": {},
   "outputs": [
    {
     "name": "stdout",
     "output_type": "stream",
     "text": [
      "[[0. 0. 0. 0. 0. 0. 0. 0. 0. 0.]\n",
      " [0. 0. 0. 0. 0. 0. 0. 0. 0. 0.]\n",
      " [0. 0. 0. 0. 0. 0. 0. 0. 0. 0.]\n",
      " [0. 0. 0. 0. 0. 0. 0. 0. 0. 0.]\n",
      " [0. 0. 0. 0. 0. 0. 0. 0. 0. 0.]]\n"
     ]
    }
   ],
   "source": [
    "# Create a 2D NumPy array of zeros of shape ( 5, 10 ) :\n",
    "M = np.zeros( (5, 10) )\n",
    "print(M)"
   ]
  },
  {
   "cell_type": "markdown",
   "metadata": {},
   "source": [
    "#### Exercise 5: ones"
   ]
  },
  {
   "cell_type": "code",
   "execution_count": 132,
   "metadata": {},
   "outputs": [
    {
     "name": "stdout",
     "output_type": "stream",
     "text": [
      "[1. 1. 1. 1. 1. 1. 1.]\n"
     ]
    }
   ],
   "source": [
    "# Create a 1D NumPy array of ones of length 7:\n",
    "w = np.ones(7)\n",
    "print(w)"
   ]
  },
  {
   "cell_type": "code",
   "execution_count": 133,
   "metadata": {},
   "outputs": [
    {
     "name": "stdout",
     "output_type": "stream",
     "text": [
      "[[1. 1. 1. 1. 1.]\n",
      " [1. 1. 1. 1. 1.]\n",
      " [1. 1. 1. 1. 1.]\n",
      " [1. 1. 1. 1. 1.]\n",
      " [1. 1. 1. 1. 1.]]\n"
     ]
    }
   ],
   "source": [
    "# Create a 2D NumPy array of ones with 35ows and 25 columns:\n",
    "N = np.ones( (5, 5) )\n",
    "print(N)"
   ]
  },
  {
   "cell_type": "markdown",
   "metadata": {},
   "source": [
    "#### Exercise 6: eye"
   ]
  },
  {
   "cell_type": "code",
   "execution_count": 134,
   "metadata": {},
   "outputs": [
    {
     "data": {
      "text/plain": [
       "array([[1., 0., 0., 0., 0.],\n",
       "       [0., 1., 0., 0., 0.],\n",
       "       [0., 0., 1., 0., 0.],\n",
       "       [0., 0., 0., 1., 0.],\n",
       "       [0., 0., 0., 0., 1.]])"
      ]
     },
     "execution_count": 134,
     "metadata": {},
     "output_type": "execute_result"
    }
   ],
   "source": [
    "np.eye(5)"
   ]
  },
  {
   "cell_type": "code",
   "execution_count": 135,
   "metadata": {},
   "outputs": [
    {
     "name": "stdout",
     "output_type": "stream",
     "text": [
      "[[1. 0. 0. 0. 0. 0. 0. 0. 0. 0.]\n",
      " [0. 1. 0. 0. 0. 0. 0. 0. 0. 0.]\n",
      " [0. 0. 1. 0. 0. 0. 0. 0. 0. 0.]\n",
      " [0. 0. 0. 1. 0. 0. 0. 0. 0. 0.]\n",
      " [0. 0. 0. 0. 1. 0. 0. 0. 0. 0.]\n",
      " [0. 0. 0. 0. 0. 1. 0. 0. 0. 0.]\n",
      " [0. 0. 0. 0. 0. 0. 1. 0. 0. 0.]\n",
      " [0. 0. 0. 0. 0. 0. 0. 1. 0. 0.]\n",
      " [0. 0. 0. 0. 0. 0. 0. 0. 1. 0.]\n",
      " [0. 0. 0. 0. 0. 0. 0. 0. 0. 1.]]\n"
     ]
    }
   ],
   "source": [
    "# Create the identity matrix of size 10:\n",
    "I = np.eye(10)\n",
    "print(I)"
   ]
  },
  {
   "cell_type": "markdown",
   "metadata": {},
   "source": [
    "#### Exercise 7: concatenate, hstack y vstack\n",
    "Con matrices es mejor usar concatenate (o vstack o hstack) en vez de append"
   ]
  },
  {
   "cell_type": "code",
   "execution_count": 136,
   "metadata": {},
   "outputs": [
    {
     "name": "stdout",
     "output_type": "stream",
     "text": [
      "[[5 6]\n",
      " [7 8]]\n",
      "(2, 2)\n"
     ]
    }
   ],
   "source": [
    "# Concateante\n",
    "g = np.array([[5,6],[7,8]])\n",
    "print(g)\n",
    "print(g.shape)"
   ]
  },
  {
   "cell_type": "code",
   "execution_count": 137,
   "metadata": {},
   "outputs": [
    {
     "name": "stdout",
     "output_type": "stream",
     "text": [
      "[[1 2]]\n",
      "(1, 2)\n"
     ]
    }
   ],
   "source": [
    "h = np.array([[1,2]])\n",
    "print(h)\n",
    "print(h.shape)"
   ]
  },
  {
   "cell_type": "code",
   "execution_count": 138,
   "metadata": {},
   "outputs": [
    {
     "name": "stdout",
     "output_type": "stream",
     "text": [
      "[[1]\n",
      " [2]]\n"
     ]
    }
   ],
   "source": [
    "h_resh = h.reshape(2, 1)\n",
    "print(h_resh)"
   ]
  },
  {
   "cell_type": "code",
   "execution_count": 139,
   "metadata": {},
   "outputs": [
    {
     "data": {
      "text/plain": [
       "array([[5, 6, 1],\n",
       "       [7, 8, 2]])"
      ]
     },
     "execution_count": 139,
     "metadata": {},
     "output_type": "execute_result"
    }
   ],
   "source": [
    "g_h_0 = np.concatenate((g, h_resh), axis = 1) # axis = 0 (hacia abajo, filas); axis = 1 (hacia a la derecha, columnas)\n",
    "g_h_0"
   ]
  },
  {
   "cell_type": "code",
   "execution_count": 140,
   "metadata": {},
   "outputs": [
    {
     "data": {
      "text/plain": [
       "array([[5, 6, 1],\n",
       "       [7, 8, 2]])"
      ]
     },
     "execution_count": 140,
     "metadata": {},
     "output_type": "execute_result"
    }
   ],
   "source": [
    "g_h_1 = np.hstack((g,h_resh))\n",
    "g_h_1"
   ]
  },
  {
   "cell_type": "code",
   "execution_count": 141,
   "metadata": {},
   "outputs": [
    {
     "data": {
      "text/plain": [
       "array([[5, 6],\n",
       "       [7, 8],\n",
       "       [1, 2]])"
      ]
     },
     "execution_count": 141,
     "metadata": {},
     "output_type": "execute_result"
    }
   ],
   "source": [
    "g_h_2 = np.concatenate((g, h), axis = 0) # axis = 0 (hacia abajo, filas); axis = 1 (hacia a la derecha, columnas)\n",
    "g_h_2"
   ]
  },
  {
   "cell_type": "code",
   "execution_count": 142,
   "metadata": {},
   "outputs": [
    {
     "data": {
      "text/plain": [
       "array([[5, 6],\n",
       "       [7, 8],\n",
       "       [1, 2]])"
      ]
     },
     "execution_count": 142,
     "metadata": {},
     "output_type": "execute_result"
    }
   ],
   "source": [
    "g_h_3 = np.vstack((g,h))\n",
    "g_h_3"
   ]
  },
  {
   "cell_type": "code",
   "execution_count": 143,
   "metadata": {},
   "outputs": [],
   "source": [
    "# vstack \n",
    "x = np.array([1,1,1])\n",
    "y = np.array([2,2,2])\n",
    "z = np.array([3,3,3])"
   ]
  },
  {
   "cell_type": "code",
   "execution_count": 144,
   "metadata": {},
   "outputs": [
    {
     "name": "stdout",
     "output_type": "stream",
     "text": [
      "[[1 1 1]\n",
      " [2 2 2]\n",
      " [3 3 3]]\n"
     ]
    }
   ],
   "source": [
    "vstacked = np.vstack( (x, y, z) )\n",
    "print(vstacked)"
   ]
  },
  {
   "cell_type": "code",
   "execution_count": 145,
   "metadata": {},
   "outputs": [
    {
     "name": "stdout",
     "output_type": "stream",
     "text": [
      "[1 1 1 2 2 2 3 3 3]\n"
     ]
    }
   ],
   "source": [
    "# hstack \n",
    "hstacked = np.hstack((x,y,z))\n",
    "print(hstacked)"
   ]
  },
  {
   "cell_type": "markdown",
   "metadata": {},
   "source": [
    "### OLS with Numpy"
   ]
  },
  {
   "cell_type": "code",
   "execution_count": null,
   "metadata": {
    "scrolled": true
   },
   "outputs": [],
   "source": []
  },
  {
   "cell_type": "code",
   "execution_count": 146,
   "metadata": {},
   "outputs": [],
   "source": [
    "# X data generation\n",
    "n_data = 200\n",
    "x1 = np.linspace(200, 500, n_data)\n",
    "x0 = np.ones(n_data)"
   ]
  },
  {
   "cell_type": "code",
   "execution_count": 147,
   "metadata": {},
   "outputs": [
    {
     "data": {
      "text/plain": [
       "(200, 1)"
      ]
     },
     "execution_count": 147,
     "metadata": {},
     "output_type": "execute_result"
    }
   ],
   "source": [
    "x0.reshape(-1, 1).shape"
   ]
  },
  {
   "cell_type": "code",
   "execution_count": 148,
   "metadata": {},
   "outputs": [
    {
     "data": {
      "text/plain": [
       "(200, 1)"
      ]
     },
     "execution_count": 148,
     "metadata": {},
     "output_type": "execute_result"
    }
   ],
   "source": [
    "x1.reshape(-1, 1 ).shape"
   ]
  },
  {
   "cell_type": "code",
   "execution_count": 149,
   "metadata": {},
   "outputs": [
    {
     "data": {
      "text/plain": [
       "(200, 2)"
      ]
     },
     "execution_count": 149,
     "metadata": {},
     "output_type": "execute_result"
    }
   ],
   "source": [
    "X = np.hstack(( x0.reshape(-1, 1 ) , x1.reshape(-1, 1 ) ))\n",
    "X.shape"
   ]
  },
  {
   "cell_type": "code",
   "execution_count": 150,
   "metadata": {},
   "outputs": [
    {
     "data": {
      "text/plain": [
       "(2, 1)"
      ]
     },
     "execution_count": 150,
     "metadata": {},
     "output_type": "execute_result"
    }
   ],
   "source": [
    "# select parameters\n",
    "beta = np.array([5, -2]).reshape(-1, 1 )\n",
    "beta.shape"
   ]
  },
  {
   "cell_type": "code",
   "execution_count": 151,
   "metadata": {},
   "outputs": [
    {
     "data": {
      "text/plain": [
       "(200, 1)"
      ]
     },
     "execution_count": 151,
     "metadata": {},
     "output_type": "execute_result"
    }
   ],
   "source": [
    "# y ture\n",
    "y_true = X @ beta\n",
    "y_true.shape"
   ]
  },
  {
   "cell_type": "code",
   "execution_count": 152,
   "metadata": {},
   "outputs": [
    {
     "data": {
      "text/plain": [
       "array([[-395.        ],\n",
       "       [-398.01507538],\n",
       "       [-401.03015075],\n",
       "       [-404.04522613],\n",
       "       [-407.06030151],\n",
       "       [-410.07537688],\n",
       "       [-413.09045226],\n",
       "       [-416.10552764],\n",
       "       [-419.12060302],\n",
       "       [-422.13567839],\n",
       "       [-425.15075377],\n",
       "       [-428.16582915],\n",
       "       [-431.18090452],\n",
       "       [-434.1959799 ],\n",
       "       [-437.21105528],\n",
       "       [-440.22613065],\n",
       "       [-443.24120603],\n",
       "       [-446.25628141],\n",
       "       [-449.27135678],\n",
       "       [-452.28643216],\n",
       "       [-455.30150754],\n",
       "       [-458.31658291],\n",
       "       [-461.33165829],\n",
       "       [-464.34673367],\n",
       "       [-467.36180905],\n",
       "       [-470.37688442],\n",
       "       [-473.3919598 ],\n",
       "       [-476.40703518],\n",
       "       [-479.42211055],\n",
       "       [-482.43718593],\n",
       "       [-485.45226131],\n",
       "       [-488.46733668],\n",
       "       [-491.48241206],\n",
       "       [-494.49748744],\n",
       "       [-497.51256281],\n",
       "       [-500.52763819],\n",
       "       [-503.54271357],\n",
       "       [-506.55778894],\n",
       "       [-509.57286432],\n",
       "       [-512.5879397 ],\n",
       "       [-515.60301508],\n",
       "       [-518.61809045],\n",
       "       [-521.63316583],\n",
       "       [-524.64824121],\n",
       "       [-527.66331658],\n",
       "       [-530.67839196],\n",
       "       [-533.69346734],\n",
       "       [-536.70854271],\n",
       "       [-539.72361809],\n",
       "       [-542.73869347],\n",
       "       [-545.75376884],\n",
       "       [-548.76884422],\n",
       "       [-551.7839196 ],\n",
       "       [-554.79899497],\n",
       "       [-557.81407035],\n",
       "       [-560.82914573],\n",
       "       [-563.84422111],\n",
       "       [-566.85929648],\n",
       "       [-569.87437186],\n",
       "       [-572.88944724],\n",
       "       [-575.90452261],\n",
       "       [-578.91959799],\n",
       "       [-581.93467337],\n",
       "       [-584.94974874],\n",
       "       [-587.96482412],\n",
       "       [-590.9798995 ],\n",
       "       [-593.99497487],\n",
       "       [-597.01005025],\n",
       "       [-600.02512563],\n",
       "       [-603.04020101],\n",
       "       [-606.05527638],\n",
       "       [-609.07035176],\n",
       "       [-612.08542714],\n",
       "       [-615.10050251],\n",
       "       [-618.11557789],\n",
       "       [-621.13065327],\n",
       "       [-624.14572864],\n",
       "       [-627.16080402],\n",
       "       [-630.1758794 ],\n",
       "       [-633.19095477],\n",
       "       [-636.20603015],\n",
       "       [-639.22110553],\n",
       "       [-642.2361809 ],\n",
       "       [-645.25125628],\n",
       "       [-648.26633166],\n",
       "       [-651.28140704],\n",
       "       [-654.29648241],\n",
       "       [-657.31155779],\n",
       "       [-660.32663317],\n",
       "       [-663.34170854],\n",
       "       [-666.35678392],\n",
       "       [-669.3718593 ],\n",
       "       [-672.38693467],\n",
       "       [-675.40201005],\n",
       "       [-678.41708543],\n",
       "       [-681.4321608 ],\n",
       "       [-684.44723618],\n",
       "       [-687.46231156],\n",
       "       [-690.47738693],\n",
       "       [-693.49246231],\n",
       "       [-696.50753769],\n",
       "       [-699.52261307],\n",
       "       [-702.53768844],\n",
       "       [-705.55276382],\n",
       "       [-708.5678392 ],\n",
       "       [-711.58291457],\n",
       "       [-714.59798995],\n",
       "       [-717.61306533],\n",
       "       [-720.6281407 ],\n",
       "       [-723.64321608],\n",
       "       [-726.65829146],\n",
       "       [-729.67336683],\n",
       "       [-732.68844221],\n",
       "       [-735.70351759],\n",
       "       [-738.71859296],\n",
       "       [-741.73366834],\n",
       "       [-744.74874372],\n",
       "       [-747.7638191 ],\n",
       "       [-750.77889447],\n",
       "       [-753.79396985],\n",
       "       [-756.80904523],\n",
       "       [-759.8241206 ],\n",
       "       [-762.83919598],\n",
       "       [-765.85427136],\n",
       "       [-768.86934673],\n",
       "       [-771.88442211],\n",
       "       [-774.89949749],\n",
       "       [-777.91457286],\n",
       "       [-780.92964824],\n",
       "       [-783.94472362],\n",
       "       [-786.95979899],\n",
       "       [-789.97487437],\n",
       "       [-792.98994975],\n",
       "       [-796.00502513],\n",
       "       [-799.0201005 ],\n",
       "       [-802.03517588],\n",
       "       [-805.05025126],\n",
       "       [-808.06532663],\n",
       "       [-811.08040201],\n",
       "       [-814.09547739],\n",
       "       [-817.11055276],\n",
       "       [-820.12562814],\n",
       "       [-823.14070352],\n",
       "       [-826.15577889],\n",
       "       [-829.17085427],\n",
       "       [-832.18592965],\n",
       "       [-835.20100503],\n",
       "       [-838.2160804 ],\n",
       "       [-841.23115578],\n",
       "       [-844.24623116],\n",
       "       [-847.26130653],\n",
       "       [-850.27638191],\n",
       "       [-853.29145729],\n",
       "       [-856.30653266],\n",
       "       [-859.32160804],\n",
       "       [-862.33668342],\n",
       "       [-865.35175879],\n",
       "       [-868.36683417],\n",
       "       [-871.38190955],\n",
       "       [-874.39698492],\n",
       "       [-877.4120603 ],\n",
       "       [-880.42713568],\n",
       "       [-883.44221106],\n",
       "       [-886.45728643],\n",
       "       [-889.47236181],\n",
       "       [-892.48743719],\n",
       "       [-895.50251256],\n",
       "       [-898.51758794],\n",
       "       [-901.53266332],\n",
       "       [-904.54773869],\n",
       "       [-907.56281407],\n",
       "       [-910.57788945],\n",
       "       [-913.59296482],\n",
       "       [-916.6080402 ],\n",
       "       [-919.62311558],\n",
       "       [-922.63819095],\n",
       "       [-925.65326633],\n",
       "       [-928.66834171],\n",
       "       [-931.68341709],\n",
       "       [-934.69849246],\n",
       "       [-937.71356784],\n",
       "       [-940.72864322],\n",
       "       [-943.74371859],\n",
       "       [-946.75879397],\n",
       "       [-949.77386935],\n",
       "       [-952.78894472],\n",
       "       [-955.8040201 ],\n",
       "       [-958.81909548],\n",
       "       [-961.83417085],\n",
       "       [-964.84924623],\n",
       "       [-967.86432161],\n",
       "       [-970.87939698],\n",
       "       [-973.89447236],\n",
       "       [-976.90954774],\n",
       "       [-979.92462312],\n",
       "       [-982.93969849],\n",
       "       [-985.95477387],\n",
       "       [-988.96984925],\n",
       "       [-991.98492462],\n",
       "       [-995.        ]])"
      ]
     },
     "execution_count": 152,
     "metadata": {},
     "output_type": "execute_result"
    }
   ],
   "source": [
    "y_true"
   ]
  },
  {
   "cell_type": "code",
   "execution_count": 153,
   "metadata": {},
   "outputs": [
    {
     "data": {
      "text/plain": [
       "array([[ -405.09158204],\n",
       "       [ -399.89838812],\n",
       "       [ -395.40662199],\n",
       "       [ -379.49777144],\n",
       "       [ -433.42153421],\n",
       "       [ -367.14141675],\n",
       "       [ -440.40084145],\n",
       "       [ -430.35055456],\n",
       "       [ -425.74916891],\n",
       "       [ -425.3324555 ],\n",
       "       [ -411.67305566],\n",
       "       [ -437.00364701],\n",
       "       [ -430.48538475],\n",
       "       [ -417.29608238],\n",
       "       [ -441.60733478],\n",
       "       [ -441.03174835],\n",
       "       [ -450.47360371],\n",
       "       [ -428.34362925],\n",
       "       [ -429.27582696],\n",
       "       [ -460.8922185 ],\n",
       "       [ -457.50974494],\n",
       "       [ -466.85076608],\n",
       "       [ -432.67131488],\n",
       "       [ -484.43893733],\n",
       "       [ -447.86605402],\n",
       "       [ -492.10045446],\n",
       "       [ -481.45853098],\n",
       "       [ -457.02565537],\n",
       "       [ -481.98875848],\n",
       "       [ -494.68942855],\n",
       "       [ -462.89535704],\n",
       "       [ -454.34346452],\n",
       "       [ -495.29900222],\n",
       "       [ -498.29170378],\n",
       "       [ -499.29515394],\n",
       "       [ -508.27285933],\n",
       "       [ -501.83232303],\n",
       "       [ -510.94362332],\n",
       "       [ -469.74461884],\n",
       "       [ -519.56627683],\n",
       "       [ -527.1068583 ],\n",
       "       [ -509.95034073],\n",
       "       [ -496.39414984],\n",
       "       [ -545.86067627],\n",
       "       [ -544.31144051],\n",
       "       [ -500.4241876 ],\n",
       "       [ -550.39903668],\n",
       "       [ -549.16945382],\n",
       "       [ -546.671573  ],\n",
       "       [ -565.1269547 ],\n",
       "       [ -566.18911336],\n",
       "       [ -603.01653938],\n",
       "       [ -543.61194143],\n",
       "       [ -561.45654239],\n",
       "       [ -564.69089446],\n",
       "       [ -561.16021451],\n",
       "       [ -549.10341769],\n",
       "       [ -561.20423106],\n",
       "       [ -528.60879   ],\n",
       "       [ -580.60024976],\n",
       "       [ -617.63348761],\n",
       "       [ -584.15979929],\n",
       "       [ -612.07877978],\n",
       "       [ -573.0806183 ],\n",
       "       [ -604.61339185],\n",
       "       [ -578.02092014],\n",
       "       [ -600.2935451 ],\n",
       "       [ -592.05848206],\n",
       "       [ -587.97625745],\n",
       "       [ -587.80942203],\n",
       "       [ -596.25038904],\n",
       "       [ -606.90001449],\n",
       "       [ -600.3205926 ],\n",
       "       [ -607.15786455],\n",
       "       [ -593.69603944],\n",
       "       [ -642.34048462],\n",
       "       [ -634.96543016],\n",
       "       [ -617.05973188],\n",
       "       [ -633.147303  ],\n",
       "       [ -611.25562354],\n",
       "       [ -633.21649223],\n",
       "       [ -641.74248573],\n",
       "       [ -641.01729264],\n",
       "       [ -656.69486708],\n",
       "       [ -635.08840508],\n",
       "       [ -668.49184367],\n",
       "       [ -643.21720078],\n",
       "       [ -668.02502313],\n",
       "       [ -663.96633229],\n",
       "       [ -664.94402766],\n",
       "       [ -699.98720874],\n",
       "       [ -628.61932431],\n",
       "       [ -665.40869085],\n",
       "       [ -693.21004328],\n",
       "       [ -685.21774246],\n",
       "       [ -677.93587333],\n",
       "       [ -680.81444703],\n",
       "       [ -700.88857105],\n",
       "       [ -669.13390262],\n",
       "       [ -683.32243189],\n",
       "       [ -679.67060345],\n",
       "       [ -722.88995868],\n",
       "       [ -735.01397242],\n",
       "       [ -706.03233925],\n",
       "       [ -687.45458184],\n",
       "       [ -704.42235256],\n",
       "       [ -716.25465583],\n",
       "       [ -689.96690024],\n",
       "       [ -721.6887634 ],\n",
       "       [ -773.34647172],\n",
       "       [ -708.02653953],\n",
       "       [ -769.97502598],\n",
       "       [ -700.13618337],\n",
       "       [ -762.76404365],\n",
       "       [ -753.27770322],\n",
       "       [ -747.46351352],\n",
       "       [ -754.12364451],\n",
       "       [ -697.54946822],\n",
       "       [ -761.06782368],\n",
       "       [ -752.42820447],\n",
       "       [ -748.28894112],\n",
       "       [ -741.9425617 ],\n",
       "       [ -740.19909163],\n",
       "       [ -761.94556111],\n",
       "       [ -762.55455733],\n",
       "       [ -744.71468264],\n",
       "       [ -802.89229714],\n",
       "       [ -783.61463496],\n",
       "       [ -796.27504181],\n",
       "       [ -807.33694201],\n",
       "       [ -777.85135605],\n",
       "       [ -812.6013887 ],\n",
       "       [ -758.51564954],\n",
       "       [ -804.30678565],\n",
       "       [ -793.73916756],\n",
       "       [ -810.32598036],\n",
       "       [ -815.84615229],\n",
       "       [ -821.94759248],\n",
       "       [ -777.81424807],\n",
       "       [ -815.73291278],\n",
       "       [ -869.64067147],\n",
       "       [ -794.02686097],\n",
       "       [ -797.48612598],\n",
       "       [ -817.57360464],\n",
       "       [ -796.77028404],\n",
       "       [ -857.87014546],\n",
       "       [ -829.31650282],\n",
       "       [ -833.5498612 ],\n",
       "       [ -826.66610577],\n",
       "       [ -842.69615278],\n",
       "       [ -855.72166986],\n",
       "       [ -833.96978115],\n",
       "       [ -859.73512674],\n",
       "       [ -828.75823898],\n",
       "       [ -871.37490129],\n",
       "       [ -848.75597906],\n",
       "       [ -855.78572914],\n",
       "       [ -868.17209399],\n",
       "       [ -832.00771595],\n",
       "       [ -876.90539135],\n",
       "       [ -861.62701847],\n",
       "       [ -873.57833587],\n",
       "       [ -863.82533689],\n",
       "       [ -877.73159566],\n",
       "       [ -875.14278069],\n",
       "       [ -849.12222446],\n",
       "       [ -891.84422284],\n",
       "       [ -894.48608858],\n",
       "       [ -902.21829774],\n",
       "       [ -918.90746714],\n",
       "       [ -959.06321665],\n",
       "       [ -953.30637097],\n",
       "       [ -896.2595866 ],\n",
       "       [ -903.20798677],\n",
       "       [ -891.75858112],\n",
       "       [ -944.2636789 ],\n",
       "       [ -953.77699612],\n",
       "       [ -929.69465053],\n",
       "       [ -941.60499986],\n",
       "       [ -945.28848148],\n",
       "       [ -922.56579995],\n",
       "       [ -949.64227714],\n",
       "       [ -922.9056028 ],\n",
       "       [ -923.37497399],\n",
       "       [ -992.65203565],\n",
       "       [ -974.15367512],\n",
       "       [ -967.26549782],\n",
       "       [ -937.4934035 ],\n",
       "       [ -941.60237016],\n",
       "       [ -937.70261741],\n",
       "       [ -985.9669292 ],\n",
       "       [ -981.98699619],\n",
       "       [ -978.64320538],\n",
       "       [ -993.97303272],\n",
       "       [ -970.97052576],\n",
       "       [-1023.81243245],\n",
       "       [ -952.09352164],\n",
       "       [ -978.60506059],\n",
       "       [ -983.65822622],\n",
       "       [ -974.80926578]])"
      ]
     },
     "execution_count": 153,
     "metadata": {},
     "output_type": "execute_result"
    }
   ],
   "source": [
    "y_true + (np.random.normal(0, 1, n_data) * 20).reshape(-1, 1)"
   ]
  },
  {
   "cell_type": "code",
   "execution_count": 154,
   "metadata": {},
   "outputs": [
    {
     "name": "stdout",
     "output_type": "stream",
     "text": [
      "[[-366.56477022]\n",
      " [-419.47551895]\n",
      " [-392.32362642]\n",
      " [-375.95797682]]\n"
     ]
    }
   ],
   "source": [
    "#   add random normal noise\n",
    "sigma = 20\n",
    "y_actual = y_true + (np.random.normal(0, 1, n_data) * sigma).reshape(-1, 1)\n",
    "print(y_actual[0:4, :])"
   ]
  },
  {
   "cell_type": "markdown",
   "metadata": {},
   "source": [
    "The matrix equation for the estimated linear parameters is as below:\n",
    "$${\\hat {\\beta }}=(X^{T}X)^{-1}X^{T}y.$$"
   ]
  },
  {
   "cell_type": "code",
   "execution_count": 155,
   "metadata": {},
   "outputs": [],
   "source": [
    "# estimations\n",
    "beta_estimated = np.linalg.inv(X.T @ X) @ X.T @ y_actual"
   ]
  },
  {
   "cell_type": "code",
   "execution_count": 156,
   "metadata": {},
   "outputs": [
    {
     "name": "stderr",
     "output_type": "stream",
     "text": [
      "C:\\Users\\jesus\\AppData\\Local\\Temp\\ipykernel_12352\\3055057328.py:4: UserWarning: color is redundantly defined by the 'color' keyword argument and the fmt string \"g-\" (-> color='g'). The keyword argument will take precedence.\n",
      "  plt.plot(x1, y_true, 'g-', c = 'black')\n"
     ]
    },
    {
     "data": {
      "text/plain": [
       "[<matplotlib.lines.Line2D at 0x21a52af48f0>]"
      ]
     },
     "execution_count": 156,
     "metadata": {},
     "output_type": "execute_result"
    },
    {
     "data": {
      "image/png": "[encoded data removed]",
      "text/plain": [
       "<Figure size 640x480 with 1 Axes>"
      ]
     },
     "metadata": {},
     "output_type": "display_data"
    }
   ],
   "source": [
    "import matplotlib.pyplot as plt\n",
    "\n",
    "plt.plot(x1, y_actual, 'o')\n",
    "plt.plot(x1, y_true, 'g-', c = 'black')"
   ]
  },
  {
   "cell_type": "markdown",
   "metadata": {},
   "source": [
    "Calculate the sum of squared residual errors\n",
    "$$\n",
    "RSS=y^{T}y-y^{T}X(X^{T}X)^{{-1}}X^{T}y\n",
    "$$"
   ]
  },
  {
   "cell_type": "code",
   "execution_count": 157,
   "metadata": {},
   "outputs": [
    {
     "data": {
      "text/plain": [
       "array([[ -366.56477022],\n",
       "       [ -419.47551895],\n",
       "       [ -392.32362642],\n",
       "       [ -375.95797682],\n",
       "       [ -432.94453263],\n",
       "       [ -391.60039007],\n",
       "       [ -411.63621899],\n",
       "       [ -435.58360232],\n",
       "       [ -355.34587465],\n",
       "       [ -417.49631992],\n",
       "       [ -430.48720103],\n",
       "       [ -432.05134396],\n",
       "       [ -463.65439527],\n",
       "       [ -432.30383879],\n",
       "       [ -466.74985913],\n",
       "       [ -437.98196552],\n",
       "       [ -460.40976404],\n",
       "       [ -456.94022112],\n",
       "       [ -462.32956727],\n",
       "       [ -433.48951794],\n",
       "       [ -468.16237427],\n",
       "       [ -462.73010982],\n",
       "       [ -494.47267361],\n",
       "       [ -475.13776839],\n",
       "       [ -479.39217989],\n",
       "       [ -471.47984668],\n",
       "       [ -484.42764925],\n",
       "       [ -480.82498271],\n",
       "       [ -474.55329636],\n",
       "       [ -448.40217906],\n",
       "       [ -507.6236787 ],\n",
       "       [ -491.6522267 ],\n",
       "       [ -474.69970854],\n",
       "       [ -484.85308324],\n",
       "       [ -483.07216038],\n",
       "       [ -495.14658073],\n",
       "       [ -518.77180659],\n",
       "       [ -517.12173633],\n",
       "       [ -531.82486838],\n",
       "       [ -508.68140468],\n",
       "       [ -526.90217112],\n",
       "       [ -517.70310935],\n",
       "       [ -488.11356002],\n",
       "       [ -490.60834567],\n",
       "       [ -527.53512825],\n",
       "       [ -519.95777286],\n",
       "       [ -516.69685907],\n",
       "       [ -556.27460537],\n",
       "       [ -503.51902636],\n",
       "       [ -520.80104845],\n",
       "       [ -506.95319955],\n",
       "       [ -533.51488514],\n",
       "       [ -524.72119891],\n",
       "       [ -572.95483974],\n",
       "       [ -546.06845992],\n",
       "       [ -535.87377602],\n",
       "       [ -568.66724232],\n",
       "       [ -572.58743548],\n",
       "       [ -600.089482  ],\n",
       "       [ -538.96154488],\n",
       "       [ -578.66297118],\n",
       "       [ -574.68706537],\n",
       "       [ -591.78777908],\n",
       "       [ -575.96970989],\n",
       "       [ -593.88319312],\n",
       "       [ -560.43487518],\n",
       "       [ -608.23954682],\n",
       "       [ -590.83474416],\n",
       "       [ -566.6480912 ],\n",
       "       [ -644.26469575],\n",
       "       [ -628.45772285],\n",
       "       [ -561.03185938],\n",
       "       [ -626.85377962],\n",
       "       [ -634.63318717],\n",
       "       [ -588.53919253],\n",
       "       [ -636.08859282],\n",
       "       [ -603.18358663],\n",
       "       [ -603.05447588],\n",
       "       [ -627.70152599],\n",
       "       [ -610.99783317],\n",
       "       [ -607.21325988],\n",
       "       [ -606.05177488],\n",
       "       [ -659.08785695],\n",
       "       [ -662.57021813],\n",
       "       [ -670.9431094 ],\n",
       "       [ -652.11613037],\n",
       "       [ -650.60899297],\n",
       "       [ -663.21477453],\n",
       "       [ -656.13709724],\n",
       "       [ -664.3080955 ],\n",
       "       [ -638.2210128 ],\n",
       "       [ -669.62966136],\n",
       "       [ -673.43203683],\n",
       "       [ -683.66818435],\n",
       "       [ -679.08491116],\n",
       "       [ -674.58499636],\n",
       "       [ -670.6270783 ],\n",
       "       [ -725.54782   ],\n",
       "       [ -730.92857287],\n",
       "       [ -663.69108285],\n",
       "       [ -709.18228979],\n",
       "       [ -695.10673006],\n",
       "       [ -690.33315931],\n",
       "       [ -698.35923165],\n",
       "       [ -725.46865534],\n",
       "       [ -702.62460661],\n",
       "       [ -736.92440008],\n",
       "       [ -723.86416231],\n",
       "       [ -736.10802671],\n",
       "       [ -719.67513598],\n",
       "       [ -707.26418229],\n",
       "       [ -731.4747366 ],\n",
       "       [ -748.56678782],\n",
       "       [ -759.82211343],\n",
       "       [ -753.27055996],\n",
       "       [ -744.77725038],\n",
       "       [ -735.21001894],\n",
       "       [ -743.75312596],\n",
       "       [ -755.71399675],\n",
       "       [ -788.01242397],\n",
       "       [ -767.31400506],\n",
       "       [ -770.1998925 ],\n",
       "       [ -778.10900906],\n",
       "       [ -772.45467366],\n",
       "       [ -760.64446743],\n",
       "       [ -768.79802751],\n",
       "       [ -762.8561271 ],\n",
       "       [ -775.83884781],\n",
       "       [ -788.38250365],\n",
       "       [ -799.61035676],\n",
       "       [ -791.33650009],\n",
       "       [ -810.46355633],\n",
       "       [ -836.13508763],\n",
       "       [ -817.89612631],\n",
       "       [ -823.82370039],\n",
       "       [ -802.5696437 ],\n",
       "       [ -817.70838694],\n",
       "       [ -787.20548978],\n",
       "       [ -787.60856633],\n",
       "       [ -810.74224477],\n",
       "       [ -812.27732194],\n",
       "       [ -816.35117206],\n",
       "       [ -802.91901313],\n",
       "       [ -824.09149822],\n",
       "       [ -852.95801787],\n",
       "       [ -828.75870211],\n",
       "       [ -847.36588151],\n",
       "       [ -882.58588725],\n",
       "       [ -818.54156074],\n",
       "       [ -857.58810005],\n",
       "       [ -857.84455317],\n",
       "       [ -866.23121613],\n",
       "       [ -876.67787163],\n",
       "       [ -854.67416576],\n",
       "       [ -851.09823383],\n",
       "       [ -885.02444199],\n",
       "       [ -879.42635084],\n",
       "       [ -835.93871404],\n",
       "       [ -855.82653396],\n",
       "       [ -865.39381076],\n",
       "       [ -847.0667332 ],\n",
       "       [ -872.03744968],\n",
       "       [ -864.89203088],\n",
       "       [ -900.66736684],\n",
       "       [ -893.581596  ],\n",
       "       [ -896.61508853],\n",
       "       [ -872.97285638],\n",
       "       [ -895.20845384],\n",
       "       [ -925.79232136],\n",
       "       [ -905.9286143 ],\n",
       "       [ -898.60302883],\n",
       "       [ -930.8528498 ],\n",
       "       [ -927.41512044],\n",
       "       [ -925.44668481],\n",
       "       [ -902.79356877],\n",
       "       [ -905.12399978],\n",
       "       [ -919.55933444],\n",
       "       [ -879.94477543],\n",
       "       [ -944.68357709],\n",
       "       [ -918.80248356],\n",
       "       [ -931.03694564],\n",
       "       [ -968.81898201],\n",
       "       [ -958.65377844],\n",
       "       [ -976.05240417],\n",
       "       [ -956.52621053],\n",
       "       [ -950.14000736],\n",
       "       [ -947.72971226],\n",
       "       [ -969.51676548],\n",
       "       [ -949.47326729],\n",
       "       [ -936.97034836],\n",
       "       [ -948.03789738],\n",
       "       [ -980.11474405],\n",
       "       [ -983.85348105],\n",
       "       [ -929.2594746 ],\n",
       "       [ -971.48502883],\n",
       "       [ -981.87962678],\n",
       "       [ -962.4869413 ],\n",
       "       [-1022.83619312],\n",
       "       [-1018.682805  ],\n",
       "       [ -989.48603948]])"
      ]
     },
     "execution_count": 157,
     "metadata": {},
     "output_type": "execute_result"
    }
   ],
   "source": [
    "y_actual"
   ]
  },
  {
   "cell_type": "code",
   "execution_count": 158,
   "metadata": {},
   "outputs": [],
   "source": [
    "RSS = ( y_actual.T @ y_actual - y_actual.T @ X @ np.linalg.inv(X.T @ X) @ X.T @ y_actual )"
   ]
  },
  {
   "cell_type": "markdown",
   "metadata": {},
   "source": [
    "Calculated the Total Sum of Squares of the spread of the actual (noisy) values around their mean\n",
    "$$\n",
    "TSS=(y-{\\bar  y})^{T}(y-{\\bar  y})=y^{T}y-2y^{T}{\\bar  y}+{\\bar  y}^{T}{\\bar  y}\n",
    "$$"
   ]
  },
  {
   "cell_type": "code",
   "execution_count": 159,
   "metadata": {},
   "outputs": [
    {
     "data": {
      "text/plain": [
       "array([[6193177.60287347]])"
      ]
     },
     "execution_count": 159,
     "metadata": {},
     "output_type": "execute_result"
    }
   ],
   "source": [
    "y_mean = ( np.ones(n_data) * np.mean(y_actual) ).reshape( -1 , 1 )\n",
    "TSS = (y_actual - y_mean).T @ (y_actual - y_mean)\n",
    "TSS"
   ]
  },
  {
   "cell_type": "code",
   "execution_count": 160,
   "metadata": {},
   "outputs": [],
   "source": [
    "# get predictions\n",
    "y_pred = X @ beta_estimated"
   ]
  },
  {
   "cell_type": "markdown",
   "metadata": {},
   "source": [
    "Calculate the Sum of Squares of the spread of the predictions around their mean.\n",
    "$$\n",
    "ESS=({\\hat  y}-{\\bar  y})^{T}({\\hat  y}-{\\bar  y})={\\hat  y}^{T}{\\hat  y}-2{\\hat  y}^{T}{\\bar  y}+{\\bar  y}^{T}{\\bar  y}\n",
    "$$"
   ]
  },
  {
   "cell_type": "code",
   "execution_count": 161,
   "metadata": {},
   "outputs": [
    {
     "data": {
      "text/plain": [
       "array([[6116782.7897281]])"
      ]
     },
     "execution_count": 161,
     "metadata": {},
     "output_type": "execute_result"
    }
   ],
   "source": [
    "ESS = (y_pred - y_mean).T @ (y_pred - y_mean)\n",
    "\n",
    "ESS"
   ]
  },
  {
   "cell_type": "code",
   "execution_count": 162,
   "metadata": {},
   "outputs": [
    {
     "data": {
      "text/plain": [
       "(array([[6193177.60287347]]), array([[6193177.60287311]]))"
      ]
     },
     "execution_count": 162,
     "metadata": {},
     "output_type": "execute_result"
    }
   ],
   "source": [
    "TSS, ESS + RSS"
   ]
  },
  {
   "cell_type": "markdown",
   "metadata": {},
   "source": [
    "Get $R^2$\n",
    "$$\n",
    "1 - RSS / TSS\n",
    "$$"
   ]
  },
  {
   "cell_type": "code",
   "execution_count": 163,
   "metadata": {},
   "outputs": [
    {
     "data": {
      "text/plain": [
       "array([[0.98766468]])"
      ]
     },
     "execution_count": 163,
     "metadata": {},
     "output_type": "execute_result"
    }
   ],
   "source": [
    "1 - RSS / TSS"
   ]
  },
  {
   "cell_type": "markdown",
   "metadata": {},
   "source": [
    "###  Standard error of regression\n",
    "Calculate the standard error of the regression. We divide by `(n-2)`, because the Expectation of the sum of squares is `(n-2)*sigma^2`."
   ]
  },
  {
   "cell_type": "code",
   "execution_count": 164,
   "metadata": {},
   "outputs": [
    {
     "data": {
      "text/plain": [
       "array([[19.64261667]])"
      ]
     },
     "execution_count": 164,
     "metadata": {},
     "output_type": "execute_result"
    }
   ],
   "source": [
    "sr2 = ( (1 / (n_data - 2)) * (y_pred - y_actual).T  @ (y_pred - y_actual))\n",
    "sr = np.sqrt(sr2)\n",
    "sr"
   ]
  },
  {
   "cell_type": "markdown",
   "metadata": {},
   "source": [
    "### Get variance and covariance Matrix\n",
    "In order to get the standard errors for our linear parameters, we use the matrix formula below:\n",
    "$$\n",
    "Var(β^)=σ^2(X′X)^{-1}\n",
    "$$"
   ]
  },
  {
   "cell_type": "code",
   "execution_count": 165,
   "metadata": {},
   "outputs": [
    {
     "data": {
      "text/plain": [
       "array([[ 3.31252783e+01, -8.91317610e-02],\n",
       "       [-8.91317610e-02,  2.54662174e-04]])"
      ]
     },
     "execution_count": 165,
     "metadata": {},
     "output_type": "execute_result"
    }
   ],
   "source": [
    "var_beta = sr2 * np.linalg.inv(X.T @ X)\n",
    "var_beta"
   ]
  },
  {
   "cell_type": "code",
   "execution_count": 166,
   "metadata": {},
   "outputs": [
    {
     "name": "stdout",
     "output_type": "stream",
     "text": [
      "Std Error for b0 5.755456393126519, \n",
      "Std Error for b1 0.015958138182301587\n"
     ]
    }
   ],
   "source": [
    "print(\n",
    "    f'Std Error for b0 {np.sqrt(var_beta[0, 0])}, \\nStd Error for b1 {np.sqrt(var_beta[1, 1])}'\n",
    ")"
   ]
  }
 ],
 "metadata": {
  "hide_input": false,
  "kernelspec": {
   "display_name": "Python 3 (ipykernel)",
   "language": "python",
   "name": "python3"
  },
  "language_info": {
   "codemirror_mode": {
    "name": "ipython",
    "version": 3
   },
   "file_extension": ".py",
   "mimetype": "text/x-python",
   "name": "python",
   "nbconvert_exporter": "python",
   "pygments_lexer": "ipython3",
   "version": "3.12.4"
  },
  "vscode": {
   "interpreter": {
    "hash": "b247a10ecbbbecc6838db24cf0cac95fbd318f0e8104436862772c94dc5e78c9"
   }
  }
 },
 "nbformat": 4,
 "nbformat_minor": 4
}
