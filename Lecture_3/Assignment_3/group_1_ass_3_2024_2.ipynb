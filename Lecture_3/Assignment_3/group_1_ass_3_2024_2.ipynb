{
 "cells": [
  {
   "cell_type": "markdown",
   "metadata": {},
   "source": [
    "# 1 Assignment 3"
   ]
  },
  {
   "cell_type": "code",
   "execution_count": 1,
   "metadata": {},
   "outputs": [
    {
     "name": "stdout",
     "output_type": "stream",
     "text": [
      "Collecting pyreadstat\n",
      "  Obtaining dependency information for pyreadstat from https://files.pythonhosted.org/packages/b7/29/f640197254f8c48361f4e0c9759a3b27669f1b0a36e0c19c36a4acdfcb73/pyreadstat-1.2.7-cp311-cp311-macosx_11_0_arm64.whl.metadata\n",
      "  Downloading pyreadstat-1.2.7-cp311-cp311-macosx_11_0_arm64.whl.metadata (1.0 kB)\n",
      "Requirement already satisfied: pandas>=1.2.0 in /Users/str8d8/anaconda3/lib/python3.11/site-packages (from pyreadstat) (2.0.3)\n",
      "Requirement already satisfied: python-dateutil>=2.8.2 in /Users/str8d8/anaconda3/lib/python3.11/site-packages (from pandas>=1.2.0->pyreadstat) (2.8.2)\n",
      "Requirement already satisfied: pytz>=2020.1 in /Users/str8d8/anaconda3/lib/python3.11/site-packages (from pandas>=1.2.0->pyreadstat) (2023.3.post1)\n",
      "Requirement already satisfied: tzdata>=2022.1 in /Users/str8d8/anaconda3/lib/python3.11/site-packages (from pandas>=1.2.0->pyreadstat) (2023.3)\n",
      "Requirement already satisfied: numpy>=1.21.0 in /Users/str8d8/anaconda3/lib/python3.11/site-packages (from pandas>=1.2.0->pyreadstat) (1.24.3)\n",
      "Requirement already satisfied: six>=1.5 in /Users/str8d8/anaconda3/lib/python3.11/site-packages (from python-dateutil>=2.8.2->pandas>=1.2.0->pyreadstat) (1.16.0)\n",
      "Downloading pyreadstat-1.2.7-cp311-cp311-macosx_11_0_arm64.whl (544 kB)\n",
      "\u001b[2K   \u001b[90m━━━━━━━━━━━━━━━━━━━━━━━━━━━━━━━━━━━━━━━━\u001b[0m \u001b[32m544.4/544.4 kB\u001b[0m \u001b[31m7.4 MB/s\u001b[0m eta \u001b[36m0:00:00\u001b[0mta \u001b[36m0:00:01\u001b[0m\n",
      "\u001b[?25hInstalling collected packages: pyreadstat\n",
      "Successfully installed pyreadstat-1.2.7\n"
     ]
    }
   ],
   "source": [
    "!pip install pyreadstat"
   ]
  },
  {
   "cell_type": "code",
   "execution_count": 6,
   "metadata": {},
   "outputs": [],
   "source": [
    "import os\n",
    "import os\n",
    "import pickle\n",
    "import pandas as pd\n",
    "import numpy as np\n",
    "import urllib.request\n",
    "import pyreadstat"
   ]
  },
  {
   "cell_type": "markdown",
   "metadata": {},
   "source": [
    "1. Import the `REC0111.sav`, `RE223132.sav` and `RE516171.sav` files and their variables and values labels from this path `\"../../_data/endes/2019\"`. The name of imported files should be named as `rec_1`, `rec_2` and `rec_3` for files `REC0111.sav`, `RE223132.sav` and `RE516171.sav` respectively. The name of the variable and value labels should be `var_labels1` and `value_labels1` for `rec1`, `var_labels2` and `value_labels2` for `rec2`, and `var_labels3` and `value_labels3` for `rec3`. **Hint: See the section 3.3.4 of [the lecture 3](https://github.com/alexanderquispe/Diplomado_PUCP/blob/main/Lecture_3/Lecture_3.ipynb)**"
   ]
  },
  {
   "cell_type": "code",
   "execution_count": 30,
   "metadata": {},
   "outputs": [],
   "source": [
    "# Exercise 1\n",
    "\n",
    "## Define the file paths. \n",
    "file_path_1 = \"../../_data/endes/2019/REC0111.sav\"\n",
    "file_path_2 = \"../../_data/endes/2019/RE223132.sav\"\n",
    "file_path_3 = \"../../_data/endes/2019/RE516171.sav\"\n",
    "\n",
    "## Load the .sav files. Use pyreadstat.read_sav instead of pandas.read_spss as it allows to access the metadata; for instance, the variable and value labels.\n",
    "rec_1, meta1 = pyreadstat.read_sav(file_path_1)\n",
    "rec_2, meta2 = pyreadstat.read_sav(file_path_2)\n",
    "rec_3, meta3 = pyreadstat.read_sav(file_path_3)\n",
    "\n",
    "## Extract variable and value labels. \n",
    "var_labels1 = meta1.column_labels\n",
    "value_labels1 = meta1.variable_value_labels\n",
    "\n",
    "var_labels2 = meta2.column_labels\n",
    "value_labels2 = meta2.variable_value_labels\n",
    "\n",
    "var_labels3 = meta3.column_labels\n",
    "value_labels3 = meta3.variable_value_labels"
   ]
  },
  {
   "cell_type": "markdown",
   "metadata": {},
   "source": [
    "2. Select the following columns for each data set. Check if all the columns are in the dataset. Make a code that check the columns that are not included. Please, reporte them.\n",
    "\n",
    "|Data|Columns|\n",
    "|---|---|\n",
    "|rec1| CASEID, V000, V001, V002, V003, V004, V007, V008, V009, V010, V011, V012, V024, V102, V120, V121, V122, V123, V124, V125, V127, V133 |\n",
    "|rec2| CASEID, V201, V218, V301, V302, V323, V323A, V325A, V326, V327, V337, V359, V360, V361, V362, V363, V364, V367, V372, V372A, V375A, V376, V376A, V379, V380 |\n",
    "|rec3| CASEID, V501, V502, V503, V504, V505, V506, V507, V508, V509, V510, V511, V512, V513, V525, V613, V714, V715 |\n",
    "\n",
    "\n",
    "Additioanlly, you should update the variables and value labels objects. They must have information only for the selected columns. The new dataframes should be name as `rec1_1`, `rec2_1`, and `rec3_1`. The new varible labels objects should be named as `new_var_labels1`, `new_var_labels2`, and `new_var_labels3`. The new value labels objects should be named as `new_value_labels1`, `new_value_labels2`, and `new_value_labels3` **Hint: Use the `loc` and column names to filter, `for loop`,   and [this link](https://stackoverflow.com/questions/3420122/filter-dict-to-contain-only-certain-keys) to update the var and value dictionary.**"
   ]
  },
  {
   "cell_type": "code",
   "execution_count": 37,
   "metadata": {},
   "outputs": [
    {
     "name": "stdout",
     "output_type": "stream",
     "text": [
      "All columns are present in rec_1.\n",
      "All columns are present in rec_2.\n",
      "All columns are present in rec_3.\n"
     ]
    }
   ],
   "source": [
    "import pyreadstat\n",
    "\n",
    "# Define the file paths\n",
    "file_path_1 = \"../../_data/endes/2019/REC0111.sav\"\n",
    "file_path_2 = \"../../_data/endes/2019/RE223132.sav\"\n",
    "file_path_3 = \"../../_data/endes/2019/RE516171.sav\"\n",
    "\n",
    "# Load the .sav files along with their metadata\n",
    "rec_1, meta1 = pyreadstat.read_sav(file_path_1)\n",
    "rec_2, meta2 = pyreadstat.read_sav(file_path_2)\n",
    "rec_3, meta3 = pyreadstat.read_sav(file_path_3)\n",
    "\n",
    "# Define the columns to select for each dataset\n",
    "columns_1 = ['CASEID', 'V000', 'V001', 'V002', 'V003', 'V004', 'V007', 'V008', 'V009', \n",
    "             'V010', 'V011', 'V012', 'V024', 'V102', 'V120', 'V121', 'V122', 'V123', \n",
    "             'V124', 'V125', 'V127', 'V133']\n",
    "\n",
    "columns_2 = ['CASEID', 'V201', 'V218', 'V301', 'V302', 'V323', 'V323A', 'V325A', 'V326', \n",
    "             'V327', 'V337', 'V359', 'V360', 'V361', 'V362', 'V363', 'V364', 'V367', \n",
    "             'V372', 'V372A', 'V375A', 'V376', 'V376A', 'V379', 'V380']\n",
    "\n",
    "columns_3 = ['CASEID', 'V501', 'V502', 'V503', 'V504', 'V505', 'V506', 'V507', 'V508', \n",
    "             'V509', 'V510', 'V511', 'V512', 'V513', 'V525', 'V613', 'V714', 'V715']\n",
    "\n",
    "# Function to check and report missing columns, and filter the DataFrame using loc\n",
    "def check_and_filter_columns(dataset, metadata, column_list, dataset_name):\n",
    "    missing_columns = [col for col in column_list if col not in dataset.columns]\n",
    "    \n",
    "    if missing_columns:\n",
    "        print(f\"The following columns are missing from {dataset_name}: {missing_columns}\")\n",
    "    else:\n",
    "        print(f\"All columns are present in {dataset_name}.\")\n",
    "    \n",
    "    # Filter the DataFrame using .loc to include only the selected columns\n",
    "    selected_columns = [col for col in column_list if col in dataset.columns]\n",
    "    filtered_data = dataset.loc[:, selected_columns]\n",
    "\n",
    "    # Check if column_labels and variable_value_labels are dictionaries\n",
    "    if isinstance(metadata.column_labels, dict):\n",
    "        filtered_var_labels = {k: metadata.column_labels[k] for k in selected_columns}\n",
    "    else:\n",
    "        filtered_var_labels = {k: metadata.column_labels[metadata.column_names.index(k)] for k in selected_columns}\n",
    "\n",
    "    if isinstance(metadata.variable_value_labels, dict):\n",
    "        filtered_value_labels = {k: metadata.variable_value_labels[k] for k in selected_columns if k in metadata.variable_value_labels}\n",
    "    else:\n",
    "        filtered_value_labels = {k: metadata.variable_value_labels[metadata.column_names.index(k)] for k in selected_columns if k in metadata.variable_value_labels}\n",
    "    \n",
    "    return filtered_data, filtered_var_labels, filtered_value_labels\n",
    "\n",
    "# Apply the function to each dataset\n",
    "rec1_1, new_var_labels1, new_value_labels1 = check_and_filter_columns(rec_1, meta1, columns_1, 'rec_1')\n",
    "rec2_1, new_var_labels2, new_value_labels2 = check_and_filter_columns(rec_2, meta2, columns_2, 'rec_2')\n",
    "rec3_1, new_var_labels3, new_value_labels3 = check_and_filter_columns(rec_3, meta3, columns_3, 'rec_3')\n"
   ]
  },
  {
   "cell_type": "markdown",
   "metadata": {},
   "source": [
    "3. Generate a new column for `rec1_1` named as `year`. It should be equal to `2019`. Also, you must update this new variable for the `var_labels` dictionary. Generate a new key for `new_var_labels1` and the value for this key should be **\"Year of the survey\"** **Hint: Use `loc` and `update` method.**"
   ]
  },
  {
   "cell_type": "markdown",
   "metadata": {},
   "source": [
    "4. Merge `rec1_1`, `rec2_1`, and `rec3_1` using **CASEID**. Name this new object as `endes_2019`. **Hint: Use [this link](https://stackoverflow.com/questions/53645882/pandas-merging-101)**"
   ]
  },
  {
   "cell_type": "markdown",
   "metadata": {},
   "source": [
    "5. Unify all the `new_var_labels` in one object and `new_value_labels` in another one object. Name these two objects as `var_labels` and `value_labels`. Use them to generate new attributes for `endes_2019`. These attributes should be named as `var_labels` and `value_labels`. **Hint: Use `update` method.**"
   ]
  },
  {
   "cell_type": "markdown",
   "metadata": {},
   "source": [
    "6. Now, replicate your code of the prevoius sections but for years **2019, 2018, 2017, 2016, 2015**. Import the `REC0111.sav`, `RE223132.sav` and `RE516171.sav` files and their **variables and values labels** from this path `\"../../_data/endes/\"`. For this excersie you must use a for loop. This loop must iterate over **2019, 2018, 2017, 2016, 2015 folders** and import these files. All the files have the same name. You must store these files and their labels in a nested dictionary named as `all_data`. The keys of the dictionary should be named as `year_2019`, for example, and the keys of the nested dictionary should be `data`, `var_labels`, and `value_labels`. **Hint: Use [this link](https://notebooks.githubusercontent.com/view/ipynb?browser=chrome&color_mode=auto&commit=4d6de78e00e7001f16bf6473c2eb7ce24fb611cd&device=unknown_device&enc_url=68747470733a2f2f7261772e67697468756275736572636f6e74656e742e636f6d2f616c6578616e6465727175697370652f4469706c6f6d61646f5f505543502f346436646537386530306537303031663136626636343733633265623763653234666236313163642f4c6563747572655f342f4c6563747572655f342e6970796e62&logged_in=true&nwo=alexanderquispe%2FDiplomado_PUCP&path=Lecture_4%2FLecture_4.ipynb&platform=windows&repository_id=427747212&repository_type=Repository&version=95#4.2.)**"
   ]
  },
  {
   "cell_type": "markdown",
   "metadata": {},
   "source": [
    "7. Use `all_data` to append all the data sets. Store all data sets in a list using `for loop`. Then, use `pd.concat` to append all the data sets. Also, you must reset the index to have a good-looking data. This new object should be named as `endes_data_2015_2019`. **Hint: Use [this code](https://stackoverflow.com/questions/32444138/concatenate-a-list-of-pandas-dataframes-together)**"
   ]
  },
  {
   "cell_type": "markdown",
   "metadata": {},
   "source": [
    "8. Store all the `var_labels` and `value_labels` in a dictionary named as `all_var_labels` and `all_value_labels`. The first keys should be the year for both dictionaries.Then, use them to generate new attributes for `endes_data_2015_2019`. These attributes should be named as `var_labels` and `value_labels`.  **Hint: Use [this link](https://notebooks.githubusercontent.com/view/ipynb?browser=chrome&color_mode=auto&commit=4d6de78e00e7001f16bf6473c2eb7ce24fb611cd&device=unknown_device&enc_url=68747470733a2f2f7261772e67697468756275736572636f6e74656e742e636f6d2f616c6578616e6465727175697370652f4469706c6f6d61646f5f505543502f346436646537386530306537303031663136626636343733633265623763653234666236313163642f4c6563747572655f342f4c6563747572655f342e6970796e62&logged_in=true&nwo=alexanderquispe%2FDiplomado_PUCP&path=Lecture_4%2FLecture_4.ipynb&platform=windows&repository_id=427747212&repository_type=Repository&version=95#4.2.3.)**"
   ]
  },
  {
   "cell_type": "markdown",
   "metadata": {},
   "source": [
    "9. Use `endes_data_2015_2019` data to generate a new object named `mean_key_vars` to find the mean of **total children ever born (V201)**, **Ideal number of children (V613)**, **Husbands education-single yrs (V715)**, and **Age at first marriage (V511)** by year and department **(V024)**. Name these columns as **mean_total_children, mean_ideal_children, mean_hb_yr_educ and mean_first_marriage**, respectively. **Hint: Use groupby and [this link](https://stackoverflow.com/questions/40901770/is-there-a-simple-way-to-change-a-column-of-yes-no-to-1-0-in-a-pandas-dataframe).**"
   ]
  },
  {
   "cell_type": "markdown",
   "metadata": {},
   "source": [
    "10. Merge `mean_key_vars` with `endes_data_2015_2019`. Name this object `final_result`. **Hint: Use merge.**"
   ]
  }
 ],
 "metadata": {
  "hide_input": false,
  "kernelspec": {
   "display_name": "Python 3 (ipykernel)",
   "language": "python",
   "name": "python3"
  },
  "language_info": {
   "codemirror_mode": {
    "name": "ipython",
    "version": 3
   },
   "file_extension": ".py",
   "mimetype": "text/x-python",
   "name": "python",
   "nbconvert_exporter": "python",
   "pygments_lexer": "ipython3",
   "version": "3.11.5"
  }
 },
 "nbformat": 4,
 "nbformat_minor": 4
}
