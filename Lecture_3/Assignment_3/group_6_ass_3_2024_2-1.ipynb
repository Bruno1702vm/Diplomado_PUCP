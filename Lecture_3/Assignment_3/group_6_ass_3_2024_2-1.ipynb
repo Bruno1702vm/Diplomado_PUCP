{
 "cells": [
  {
   "cell_type": "markdown",
   "metadata": {},
   "source": [
    "# 1 Assignment 3"
   ]
  },
  {
   "cell_type": "code",
   "execution_count": 10,
   "metadata": {},
   "outputs": [
    {
     "name": "stdout",
     "output_type": "stream",
     "text": [
      "Collecting pyreadstat\n",
      "  Downloading pyreadstat-1.2.7-cp312-cp312-win_amd64.whl.metadata (1.1 kB)\n",
      "Requirement already satisfied: pandas>=1.2.0 in c:\\anaconda\\lib\\site-packages (from pyreadstat) (2.2.2)\n",
      "Requirement already satisfied: numpy>=1.26.0 in c:\\anaconda\\lib\\site-packages (from pandas>=1.2.0->pyreadstat) (1.26.4)\n",
      "Requirement already satisfied: python-dateutil>=2.8.2 in c:\\anaconda\\lib\\site-packages (from pandas>=1.2.0->pyreadstat) (2.9.0.post0)\n",
      "Requirement already satisfied: pytz>=2020.1 in c:\\anaconda\\lib\\site-packages (from pandas>=1.2.0->pyreadstat) (2024.1)\n",
      "Requirement already satisfied: tzdata>=2022.7 in c:\\anaconda\\lib\\site-packages (from pandas>=1.2.0->pyreadstat) (2023.3)\n",
      "Requirement already satisfied: six>=1.5 in c:\\anaconda\\lib\\site-packages (from python-dateutil>=2.8.2->pandas>=1.2.0->pyreadstat) (1.16.0)\n",
      "Downloading pyreadstat-1.2.7-cp312-cp312-win_amd64.whl (2.4 MB)\n",
      "   ---------------------------------------- 0.0/2.4 MB ? eta -:--:--\n",
      "   ---------------------------------------- 0.0/2.4 MB 640.0 kB/s eta 0:00:04\n",
      "   - -------------------------------------- 0.1/2.4 MB 975.2 kB/s eta 0:00:03\n",
      "   ------ --------------------------------- 0.4/2.4 MB 3.4 MB/s eta 0:00:01\n",
      "   ----------------------- ---------------- 1.4/2.4 MB 8.9 MB/s eta 0:00:01\n",
      "   ---------------------------------- ----- 2.1/2.4 MB 11.1 MB/s eta 0:00:01\n",
      "   ------------------------------------- -- 2.3/2.4 MB 9.0 MB/s eta 0:00:01\n",
      "   ---------------------------------------- 2.4/2.4 MB 9.0 MB/s eta 0:00:00\n",
      "Installing collected packages: pyreadstat\n",
      "Successfully installed pyreadstat-1.2.7\n"
     ]
    }
   ],
   "source": [
    "!pip install pyreadstat"
   ]
  },
  {
   "cell_type": "code",
   "execution_count": 11,
   "metadata": {},
   "outputs": [],
   "source": [
    "import os\n",
    "import os\n",
    "import pickle\n",
    "import pandas as pd\n",
    "import numpy as np\n",
    "import urllib.request\n",
    "import pyreadstat"
   ]
  },
  {
   "cell_type": "markdown",
   "metadata": {},
   "source": [
    "1. Import the `REC0111.sav`, `RE223132.sav` and `RE516171.sav` files and their variables and values labels from this path `\"../../_data/endes/2019\"`. The name of imported files should be named as `rec_1`, `rec_2` and `rec_3` for files `REC0111.sav`, `RE223132.sav` and `RE516171.sav` respectively. The name of the variable and value labels should be `var_labels1` and `value_labels1` for `rec1`, `var_labels2` and `value_labels2` for `rec2`, and `var_labels3` and `value_labels3` for `rec3`. **Hint: See the section 3.3.4 of [the lecture 3](https://github.com/alexanderquispe/Diplomado_PUCP/blob/main/Lecture_3/Lecture_3.ipynb)**"
   ]
  },
  {
   "cell_type": "code",
   "execution_count": 13,
   "metadata": {},
   "outputs": [],
   "source": [
    "df_1 = \"../../_data/endes/2019/REC0111.sav\"\n",
    "df_2 = \"../../_data/endes/2019/RE223132.sav\"\n",
    "df_3 = \"../../_data/endes/2019/RE516171.sav\""
   ]
  },
  {
   "cell_type": "code",
   "execution_count": 14,
   "metadata": {},
   "outputs": [
    {
     "ename": "PyreadstatError",
     "evalue": "File ../../_data/endes/2019/REC0111.sav does not exist!",
     "output_type": "error",
     "traceback": [
      "\u001b[1;31m---------------------------------------------------------------------------\u001b[0m",
      "\u001b[1;31mPyreadstatError\u001b[0m                           Traceback (most recent call last)",
      "Cell \u001b[1;32mIn[14], line 2\u001b[0m\n\u001b[0;32m      1\u001b[0m \u001b[38;5;66;03m# Importar los archivos y sus etiquetas\u001b[39;00m\n\u001b[1;32m----> 2\u001b[0m rec_1, metadata_1 \u001b[38;5;241m=\u001b[39m pyreadstat\u001b[38;5;241m.\u001b[39mread_sav(df_1)\n\u001b[0;32m      3\u001b[0m rec_2, metadata_2 \u001b[38;5;241m=\u001b[39m pyreadstat\u001b[38;5;241m.\u001b[39mread_sav(df_2)\n\u001b[0;32m      4\u001b[0m rec_3, metadata_3 \u001b[38;5;241m=\u001b[39m pyreadstat\u001b[38;5;241m.\u001b[39mread_sav(df_3)\n",
      "File \u001b[1;32mpyreadstat\\\\pyreadstat.pyx:389\u001b[0m, in \u001b[0;36mpyreadstat.pyreadstat.read_sav\u001b[1;34m()\u001b[0m\n",
      "File \u001b[1;32mpyreadstat\\\\_readstat_parser.pyx:1075\u001b[0m, in \u001b[0;36mpyreadstat._readstat_parser.run_conversion\u001b[1;34m()\u001b[0m\n",
      "\u001b[1;31mPyreadstatError\u001b[0m: File ../../_data/endes/2019/REC0111.sav does not exist!"
     ]
    }
   ],
   "source": [
    "# Importar los archivos y sus etiquetas\n",
    "rec_1, metadata_1 = pyreadstat.read_sav(df_1)\n",
    "rec_2, metadata_2 = pyreadstat.read_sav(df_2)\n",
    "rec_3, metadata_3 = pyreadstat.read_sav(df_3)"
   ]
  },
  {
   "cell_type": "code",
   "execution_count": null,
   "metadata": {},
   "outputs": [],
   "source": [
    "# Extraer etiquetas de variables y valores\n",
    "var_labels1 = metadata_1.column_labels\n",
    "value_labels1 = metadata_1.value_labels\n",
    "\n",
    "var_labels2 = metadata_2.column_labels\n",
    "value_labels2 = metadata_2.value_labels\n",
    "\n",
    "var_labels3 = metadata_3.column_labels\n",
    "value_labels3 = metadata_3.value_labels"
   ]
  },
  {
   "cell_type": "code",
   "execution_count": null,
   "metadata": {},
   "outputs": [],
   "source": [
    "# Verificar los resultados\n",
    "print(var_labels1)\n",
    "print(value_labels1)\n",
    "print(var_labels2)\n",
    "print(value_labels2)\n",
    "print(var_labels3)\n",
    "print(value_labels3)"
   ]
  },
  {
   "cell_type": "markdown",
   "metadata": {},
   "source": [
    "2. Select the following columns for each data set. Check if all the columns are in the dataset. Make a code that check the columns that are not included. Please, reporte them.\n",
    "\n",
    "|Data|Columns|\n",
    "|---|---|\n",
    "|rec1| CASEID, V000, V001, V002, V003, V004, V007, V008, V009, V010, V011, V012, V024, V102, V120, V121, V122, V123, V124, V125, V127, V133 |\n",
    "|rec2| CASEID, V201, V218, V301, V302, V323, V323A, V325A, V326, V327, V337, V359, V360, V361, V362, V363, V364, V367, V372, V372A, V375A, V376, V376A, V379, V380 |\n",
    "|rec3| CASEID, V501, V502, V503, V504, V505, V506, V507, V508, V509, V510, V511, V512, V513, V525, V613, V714, V715 |\n",
    "\n",
    "\n",
    "Additioanlly, you should update the variables and value labels objects. They must have information only for the selected columns. The new dataframes should be name as `rec1_1`, `rec2_1`, and `rec3_1`. The new varible labels objects should be named as `new_var_labels1`, `new_var_labels2`, and `new_var_labels3`. The new value labels objects should be named as `new_value_labels1`, `new_value_labels2`, and `new_value_labels3` **Hint: Use the `loc` and column names to filter, `for loop`,   and [this link](https://stackoverflow.com/questions/3420122/filter-dict-to-contain-only-certain-keys) to update the var and value dictionary.**"
   ]
  },
  {
   "cell_type": "code",
   "execution_count": null,
   "metadata": {},
   "outputs": [],
   "source": [
    "#Seleccionar columnas de interés\n",
    "crec_1 = [\"CASEID\", \"V000\", \"V001\", \"V002\", \"V003\", \"V004\", \"V007\", \"V008\", \"V009\", \"V010\", \"V011\", \"V012\", \"V024\", \"V102\", \"V120\", \"V121\", \"V122\", \"V123\", \"V124\", \"V125\", \"V127\", \"V133\"]\n",
    "crec_2 = [\"CASEID\", \"V201\", \"V218\", \"V301\", \"V302\", \"V323\", \"V323A\", \"V325A\", \"V326\", \"V327\", \"V337\", \"V359\", \"V360\", \"V361\", \"V362\", \"V363\", \"V364\", \"V367\" \"V372\", \"V372A\", \"V375A\", \"V376\", \"V376A\", \"V379\", \"V380\"]\n",
    "crec_3 = [\"CASEID\", \"V501\", \"V502\", \"V503\", \"V504\", \"V505\", \"V506\", \"V507\", \"V508\", \"V509\", \"V510\", \"V511\", \"V512\", \"V513\", \"V525\", \"V613\", \"V714\", \"V715\"]"
   ]
  },
  {
   "cell_type": "code",
   "execution_count": null,
   "metadata": {},
   "outputs": [],
   "source": [
    "#crear función para seleccionar y verificar columnas\n",
    "def check_and_select_columns(df, columns):\n",
    "    missing_columns = [col for col in columns if col not in df.columns]\n",
    "    selected_df = df.loc[:, [col for col in columns if col in df.columns]]\n",
    "    return selected_df, missing_columns"
   ]
  },
  {
   "cell_type": "code",
   "execution_count": null,
   "metadata": {},
   "outputs": [],
   "source": [
    "#verificación de la función\n",
    "\n",
    "rec1_1, missing_rec1 = check_and_select_columns(rec_1, crec_1)\n",
    "rec2_1, missing_rec2 = check_and_select_columns(rec_2, crec_2)\n",
    "rec3_1, missing_rec3 = check_and_select_columns(rec_3, crec_3)"
   ]
  },
  {
   "cell_type": "code",
   "execution_count": null,
   "metadata": {},
   "outputs": [],
   "source": [
    "#Columnas perdidas\n",
    "#1\n",
    "print(missing_rec1)\n",
    "#2\n",
    "print(missing_rec2)\n",
    "#3\n",
    "print(missing_rec3)"
   ]
  },
  {
   "cell_type": "markdown",
   "metadata": {},
   "source": [
    "Para rec_2, la columna 'V367V372' no pertenece a la lista."
   ]
  },
  {
   "cell_type": "code",
   "execution_count": null,
   "metadata": {},
   "outputs": [],
   "source": [
    "print(rec1_1)\n",
    "print(rec2_1)\n",
    "print(rec3_1)"
   ]
  },
  {
   "cell_type": "code",
   "execution_count": null,
   "metadata": {},
   "outputs": [],
   "source": [
    "# Diccionario con los DataFrames y sus etiquetas originales\n",
    "data_dict = {\n",
    "    \"rec_1\": rec1_1,\n",
    "    \"rec_2\": rec2_1,\n",
    "    \"rec_3\": rec3_1}\n",
    "\n",
    "metadata_dict = {\n",
    "    \"rec_1\": var_labels1,\n",
    "    \"rec_2\": var_labels2,\n",
    "    \"rec_3\": var_labels3}\n",
    "\n",
    "value_labels_dict = {\n",
    "    \"rec_1\": value_labels1,\n",
    "    \"rec_2\": value_labels2,\n",
    "    \"rec_3\": value_labels3}"
   ]
  },
  {
   "cell_type": "code",
   "execution_count": null,
   "metadata": {},
   "outputs": [],
   "source": [
    "# Diccionario de nombres de etiquetas actualizadas\n",
    "new_var_labels = {}\n",
    "new_value_labels = {}\n",
    "\n",
    "# Función para actualizar nombres de etiquetas\n",
    "def update_labels_for_datasets(metadata_dict, value_labels_dict):\n",
    "    new_var_labels = {}\n",
    "    new_value_labels = {}\n",
    "    \n",
    "    for i, key in enumerate(metadata_dict.keys(), start=1):\n",
    "        # Verifica si metadata_dict[key] es un diccionario\n",
    "        if isinstance(metadata_dict[key], dict):\n",
    "            new_var_labels[f\"new_var_labels{i}\"] = metadata_dict[key]\n",
    "        else:\n",
    "            # Si no es un diccionario, conviértelo en un diccionario\n",
    "            new_var_labels[f\"new_var_labels{i}\"] = {j: val for j, val in enumerate(metadata_dict[key])}\n",
    "        \n",
    "        # Verifica si value_labels_dict[key] es un diccionario\n",
    "        if isinstance(value_labels_dict[key], dict):\n",
    "            new_value_labels[f\"new_value_labels{i}\"] = value_labels_dict[key]\n",
    "        else:\n",
    "            # Si no es un diccionario, conviértelo en un diccionario\n",
    "            new_value_labels[f\"new_value_labels{i}\"] = {j: val for j, val in enumerate(value_labels_dict[key])}\n",
    "    \n",
    "    return new_var_labels, new_value_labels\n"
   ]
  },
  {
   "cell_type": "code",
   "execution_count": null,
   "metadata": {},
   "outputs": [],
   "source": [
    "# Llamar a la función para actualizar las etiquetas\n",
    "new_var_labels, new_value_labels = update_labels_for_datasets(metadata_dict, value_labels_dict)\n",
    "\n",
    "# Imprimir resultados para verificar\n",
    "print(\"New Variable Labels:\")\n",
    "for key, labels in new_var_labels.items():\n",
    "    print(f\"\\n{key}:\")\n",
    "    if isinstance(labels, dict):\n",
    "        for var, label in labels.items():\n",
    "            print(f\"  {var}: {label}\")\n",
    "    else:\n",
    "        for label in labels:\n",
    "            print(f\"  {label}\")\n",
    "\n",
    "print(\"\\nNew Value Labels:\")\n",
    "for key, labels in new_value_labels.items():\n",
    "    print(f\"\\n{key}:\")\n",
    "    if isinstance(labels, dict):\n",
    "        for var, label in labels.items():\n",
    "            print(f\"  {var}: {label}\")\n",
    "    else:\n",
    "        for label in labels:\n",
    "            print(f\"  {label}\")"
   ]
  },
  {
   "cell_type": "markdown",
   "metadata": {},
   "source": [
    "3. Generate a new column for `rec1_1` named as `year`. It should be equal to `2019`. Also, you must update this new variable for the `var_labels` dictionary. Generate a new key for `new_var_labels1` and the value for this key should be **\"Year of the survey\"** **Hint: Use `loc` and `update` method.**"
   ]
  },
  {
   "cell_type": "code",
   "execution_count": null,
   "metadata": {},
   "outputs": [],
   "source": [
    "# Generate the new column year_1, we are adding a new column called year_1 to the rec1 dataframe.\n",
    "# This column will have the value 2019 for all rows, indicating the year of the survey.\n",
    "rec_1['year_1'] = 2019\n",
    "\n",
    "# Update the variable labels dictionary. \n",
    "# This step is important for maintaining metadata about the dataset, which can be useful for future analysis and understanding the context of the data.\n",
    "new_var_labels1['year_1'] = \"Year of the survey\"\n"
   ]
  },
  {
   "cell_type": "code",
   "execution_count": 32,
   "metadata": {},
   "outputs": [
    {
     "ename": "NameError",
     "evalue": "name 'rec_1' is not defined",
     "output_type": "error",
     "traceback": [
      "\u001b[1;31m---------------------------------------------------------------------------\u001b[0m",
      "\u001b[1;31mNameError\u001b[0m                                 Traceback (most recent call last)",
      "Cell \u001b[1;32mIn[32], line 5\u001b[0m\n\u001b[0;32m      1\u001b[0m \u001b[38;5;66;03m# Merge the dataframes\u001b[39;00m\n\u001b[0;32m      2\u001b[0m \u001b[38;5;66;03m# We are combining the three dataframes rec1, rec2, and rec3 into a single dataframe called endes_2019.\u001b[39;00m\n\u001b[0;32m      3\u001b[0m \u001b[38;5;66;03m# The merging is done based on the common column CASEID, which uniquely identifies each case in the survey.\u001b[39;00m\n\u001b[1;32m----> 5\u001b[0m endes_2019 \u001b[38;5;241m=\u001b[39m rec_1\u001b[38;5;241m.\u001b[39mmerge(rec_2, on\u001b[38;5;241m=\u001b[39m\u001b[38;5;124m\"\u001b[39m\u001b[38;5;124mCASEID\u001b[39m\u001b[38;5;124m\"\u001b[39m, suffixes\u001b[38;5;241m=\u001b[39m(\u001b[38;5;124m'\u001b[39m\u001b[38;5;124m_1\u001b[39m\u001b[38;5;124m'\u001b[39m, \u001b[38;5;124m'\u001b[39m\u001b[38;5;124m_2\u001b[39m\u001b[38;5;124m'\u001b[39m))\n\u001b[0;32m      6\u001b[0m endes_2019 \u001b[38;5;241m=\u001b[39m endes_2019\u001b[38;5;241m.\u001b[39mmerge(rec_3, on\u001b[38;5;241m=\u001b[39m\u001b[38;5;124m\"\u001b[39m\u001b[38;5;124mCASEID\u001b[39m\u001b[38;5;124m\"\u001b[39m, suffixes\u001b[38;5;241m=\u001b[39m(\u001b[38;5;124m'\u001b[39m\u001b[38;5;124m'\u001b[39m, \u001b[38;5;124m'\u001b[39m\u001b[38;5;124m_3\u001b[39m\u001b[38;5;124m'\u001b[39m))\n\u001b[0;32m      8\u001b[0m \u001b[38;5;66;03m# The combined dataframe is going to be easier to perform analyses and draw insights.\u001b[39;00m\n\u001b[0;32m      9\u001b[0m \n\u001b[0;32m     10\u001b[0m \u001b[38;5;66;03m# Display the first records of the resulting dataframe\u001b[39;00m\n",
      "\u001b[1;31mNameError\u001b[0m: name 'rec_1' is not defined"
     ]
    }
   ],
   "source": [
    "# Merge the dataframes\n",
    "# We are combining the three dataframes rec1, rec2, and rec3 into a single dataframe called endes_2019.\n",
    "# The merging is done based on the common column CASEID, which uniquely identifies each case in the survey.\n",
    "\n",
    "endes_2019 = rec_1.merge(rec_2, on=\"CASEID\", suffixes=('_1', '_2'))\n",
    "endes_2019 = endes_2019.merge(rec_3, on=\"CASEID\", suffixes=('', '_3'))\n",
    "\n",
    "# The combined dataframe is going to be easier to perform analyses and draw insights.\n",
    "\n",
    "# Display the first records of the resulting dataframe\n",
    "print(endes_2019.head())\n"
   ]
  },
  {
   "cell_type": "markdown",
   "metadata": {},
   "source": [
    "4. Merge `rec1_1`, `rec2_1`, and `rec3_1` using **CASEID**. Name this new object as `endes_2019`. **Hint: Use [this link](https://stackoverflow.com/questions/53645882/pandas-merging-101)**"
   ]
  },
  {
   "cell_type": "markdown",
   "metadata": {},
   "source": [
    "5. Unify all the `new_var_labels` in one object and `new_value_labels` in another one object. Name these two objects as `var_labels` and `value_labels`. Use them to generate new attributes for `endes_2019`. These attributes should be named as `var_labels` and `value_labels`. **Hint: Use `update` method.**"
   ]
  },
  {
   "cell_type": "markdown",
   "metadata": {},
   "source": [
    "6. Now, replicate your code of the prevoius sections but for years **2019, 2018, 2017, 2016, 2015**. Import the `REC0111.sav`, `RE223132.sav` and `RE516171.sav` files and their **variables and values labels** from this path `\"../../_data/endes/\"`. For this excersie you must use a for loop. This loop must iterate over **2019, 2018, 2017, 2016, 2015 folders** and import these files. All the files have the same name. You must store these files and their labels in a nested dictionary named as `all_data`. The keys of the dictionary should be named as `year_2019`, for example, and the keys of the nested dictionary should be `data`, `var_labels`, and `value_labels`. **Hint: Use [this link](https://notebooks.githubusercontent.com/view/ipynb?browser=chrome&color_mode=auto&commit=4d6de78e00e7001f16bf6473c2eb7ce24fb611cd&device=unknown_device&enc_url=68747470733a2f2f7261772e67697468756275736572636f6e74656e742e636f6d2f616c6578616e6465727175697370652f4469706c6f6d61646f5f505543502f346436646537386530306537303031663136626636343733633265623763653234666236313163642f4c6563747572655f342f4c6563747572655f342e6970796e62&logged_in=true&nwo=alexanderquispe%2FDiplomado_PUCP&path=Lecture_4%2FLecture_4.ipynb&platform=windows&repository_id=427747212&repository_type=Repository&version=95#4.2.)**"
   ]
  },
  {
   "cell_type": "markdown",
   "metadata": {},
   "source": [
    "7. Use `all_data` to append all the data sets. Store all data sets in a list using `for loop`. Then, use `pd.concat` to append all the data sets. Also, you must reset the index to have a good-looking data. This new object should be named as `endes_data_2015_2019`. **Hint: Use [this code](https://stackoverflow.com/questions/32444138/concatenate-a-list-of-pandas-dataframes-together)**"
   ]
  },
  {
   "cell_type": "markdown",
   "metadata": {},
   "source": [
    "8. Store all the `var_labels` and `value_labels` in a dictionary named as `all_var_labels` and `all_value_labels`. The first keys should be the year for both dictionaries.Then, use them to generate new attributes for `endes_data_2015_2019`. These attributes should be named as `var_labels` and `value_labels`.  **Hint: Use [this link](https://notebooks.githubusercontent.com/view/ipynb?browser=chrome&color_mode=auto&commit=4d6de78e00e7001f16bf6473c2eb7ce24fb611cd&device=unknown_device&enc_url=68747470733a2f2f7261772e67697468756275736572636f6e74656e742e636f6d2f616c6578616e6465727175697370652f4469706c6f6d61646f5f505543502f346436646537386530306537303031663136626636343733633265623763653234666236313163642f4c6563747572655f342f4c6563747572655f342e6970796e62&logged_in=true&nwo=alexanderquispe%2FDiplomado_PUCP&path=Lecture_4%2FLecture_4.ipynb&platform=windows&repository_id=427747212&repository_type=Repository&version=95#4.2.3.)**"
   ]
  },
  {
   "cell_type": "markdown",
   "metadata": {},
   "source": [
    "9. Use `endes_data_2015_2019` data to generate a new object named `mean_key_vars` to find the mean of **total children ever born (V201)**, **Ideal number of children (V613)**, **Husbands education-single yrs (V715)**, and **Age at first marriage (V511)** by year and department **(V024)**. Name these columns as **mean_total_children, mean_ideal_children, mean_hb_yr_educ and mean_first_marriage**, respectively. **Hint: Use groupby and [this link](https://stackoverflow.com/questions/40901770/is-there-a-simple-way-to-change-a-column-of-yes-no-to-1-0-in-a-pandas-dataframe).**"
   ]
  },
  {
   "cell_type": "markdown",
   "metadata": {},
   "source": [
    "10. Merge `mean_key_vars` with `endes_data_2015_2019`. Name this object `final_result`. **Hint: Use merge.**"
   ]
  }
 ],
 "metadata": {
  "hide_input": false,
  "kernelspec": {
   "display_name": "Python 3 (ipykernel)",
   "language": "python",
   "name": "python3"
  },
  "language_info": {
   "codemirror_mode": {
    "name": "ipython",
    "version": 3
   },
   "file_extension": ".py",
   "mimetype": "text/x-python",
   "name": "python",
   "nbconvert_exporter": "python",
   "pygments_lexer": "ipython3",
   "version": "3.12.4"
  }
 },
 "nbformat": 4,
 "nbformat_minor": 4
}
