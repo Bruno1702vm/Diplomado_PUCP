{
 "cells": [
  {
   "cell_type": "markdown",
   "metadata": {},
   "source": [
    "# Assigment 4\n",
    "\n",
    "This assigment will be graded if everything works well. I will run the script as once and everything should be done without errors and mistakes. I should be able to run your scripts in my computer and get all the results. **USE RELATIVE PATHS**. An error or exception or anything that breaks the code will means NO GRADE (0). Additionally, you are not able to modify any file handly. It also means NO GRADE (0). Comment everything you think will help others read your script. We expect 0 errors using GitHub. Everything will be graded!\n",
    "\n",
    "**ASK EVERYTHING! WE ARE HERE TO HELP YOU!**"
   ]
  },
  {
   "cell_type": "markdown",
   "metadata": {},
   "source": [
    "In this path **..\\_data\\sbs\\B_RawData\\bancos** you will find scraped data from [this link](https://www.sbs.gob.pe/app/pp/EstadisticasSAEEPortal/Paginas/TIActivaTipoCreditoEmpresa.aspx?tip=B). We get all the information of the last available day of every each month.\n",
    "\n",
    "1. Generate a function called **import_data_sbs_banks** that take as arguments `start_month`, `start_year`, `end_month` and `end_year`. This function should be able to import the files in **..\\_data\\sbs\\B_RawData\\bancos** taking into consideration these arguments. Additionally, it should work if it is only given the first two arguments `(start_mont, start_year)`. For example, this script `import_data_sbs_banks(10, 2015)` should return only the data for October 2015. The function should `returns` a nested dictionary. The `main key` must be year and `second key` must be `month`. The values should be the dataframes. "
   ]
  },
  {
   "cell_type": "markdown",
   "metadata": {},
   "source": [
    "Example of Nested Dictionary\n",
    "\n",
    "Instead of `df_10_2015` it should have the information for October 2015."
   ]
  },
  {
   "cell_type": "code",
   "execution_count": 85,
   "metadata": {},
   "outputs": [],
   "source": [
    "import os\n",
    "import pandas as pd\n",
    "\n",
    "def import_data_sbs_banks(start_month, start_year, end_month=None, end_year=None):\n",
    "    # Define the path where the data is stored\n",
    "    base_path = \".._data/sbs/B_RawData/bancos\"\n",
    "    \n",
    "    # Normalize the start and end year and month\n",
    "    if end_month is None or end_year is None:\n",
    "        end_month = start_month\n",
    "        end_year = start_year\n",
    "    \n",
    "    # Create an empty dictionary to store the data\n",
    "    data = {}\n",
    "    \n",
    "    # Iterate through the years and months\n",
    "    for year in range(start_year, end_year + 1):\n",
    "        # Add year key to the dictionary\n",
    "        data[year] = {}\n",
    "        for month in range(1, 13):\n",
    "            if (year == start_year and month < start_month) or (year == end_year and month > end_month):\n",
    "                continue\n",
    "            \n",
    "            # Create the filename for the corresponding year and month\n",
    "            file_name = f\"{year}_{str(month).zfill(2)}.csv\"\n",
    "            file_path = os.path.join(base_path, file_name)\n",
    "            \n",
    "            # Check if the file exists\n",
    "            if os.path.isfile(file_path):\n",
    "                # Load the CSV into a DataFrame and store it in the dictionary\n",
    "                data[year][month] = pd.read_csv(file_path)\n",
    "    \n",
    "    return data"
   ]
  },
  {
   "cell_type": "code",
   "execution_count": 86,
   "metadata": {},
   "outputs": [],
   "source": [
    "nested_dict = { '2015' : { '10': 'df_10_2015', \n",
    "                       '09': 'df_09_2015'  }, \n",
    "              '2016' : { '10': 'df_10_2016', \n",
    "                       '09': 'df_09_2016'  }}"
   ]
  },
  {
   "cell_type": "markdown",
   "metadata": {},
   "source": [
    "2. Execute the following scripts:"
   ]
  },
  {
   "cell_type": "code",
   "execution_count": 87,
   "metadata": {},
   "outputs": [
    {
     "name": "stdout",
     "output_type": "stream",
     "text": [
      "{2015: {}}\n"
     ]
    }
   ],
   "source": [
    "result = import_data_sbs_banks(10, 2015)\n",
    "print(result)"
   ]
  },
  {
   "cell_type": "code",
   "execution_count": 88,
   "metadata": {},
   "outputs": [
    {
     "name": "stdout",
     "output_type": "stream",
     "text": [
      "{2014: {}, 2015: {}}\n"
     ]
    }
   ],
   "source": [
    "result2 = import_data_sbs_banks(10, 2014, 10, 2015 )\n",
    "print(result2)"
   ]
  }
 ],
 "metadata": {
  "hide_input": false,
  "kernelspec": {
   "display_name": "Python 3 (ipykernel)",
   "language": "python",
   "name": "python3"
  },
  "language_info": {
   "codemirror_mode": {
    "name": "ipython",
    "version": 3
   },
   "file_extension": ".py",
   "mimetype": "text/x-python",
   "name": "python",
   "nbconvert_exporter": "python",
   "pygments_lexer": "ipython3",
   "version": "3.11.4"
  },
  "toc": {
   "base_numbering": 1,
   "nav_menu": {},
   "number_sections": true,
   "sideBar": true,
   "skip_h1_title": false,
   "title_cell": "Table of Contents",
   "title_sidebar": "Contents",
   "toc_cell": false,
   "toc_position": {},
   "toc_section_display": true,
   "toc_window_display": false
  }
 },
 "nbformat": 4,
 "nbformat_minor": 4
}
