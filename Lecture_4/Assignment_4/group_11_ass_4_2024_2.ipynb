{
 "cells": [
  {
   "cell_type": "markdown",
   "metadata": {},
   "source": [
    "# Assigment 4\n",
    "\n",
    "This assigment will be graded if everything works well. I will run the script as once and everything should be done without errors and mistakes. I should be able to run your scripts in my computer and get all the results. **USE RELATIVE PATHS**. An error or exception or anything that breaks the code will means NO GRADE (0). Additionally, you are not able to modify any file handly. It also means NO GRADE (0). Comment everything you think will help others read your script. We expect 0 errors using GitHub. Everything will be graded!\n",
    "\n",
    "**ASK EVERYTHING! WE ARE HERE TO HELP YOU!**"
   ]
  },
  {
   "cell_type": "markdown",
   "metadata": {},
   "source": [
    "In this path **..\\_data\\sbs\\B_RawData\\bancos** you will find scraped data from [this link](https://www.sbs.gob.pe/app/pp/EstadisticasSAEEPortal/Paginas/TIActivaTipoCreditoEmpresa.aspx?tip=B). We get all the information of the last available day of every each month.\n",
    "\n",
    "1. Generate a function called **import_data_sbs_banks** that take as arguments `start_month`, `start_year`, `end_month` and `end_year`. This function should be able to import the files in **..\\_data\\sbs\\B_RawData\\bancos** taking into consideration these arguments. Additionally, it should work if it is only given the first two arguments `(start_mont, start_year)`. For example, this script `import_data_sbs_banks(10, 2015)` should return only the data for October 2015. The function should `returns` a nested dictionary. The `main key` must be year and `second key` must be `month`. The values should be the dataframes. "
   ]
  },
  {
   "cell_type": "code",
   "execution_count": 10,
   "metadata": {},
   "outputs": [],
   "source": [
    "import os\n",
    "import pandas as pd"
   ]
  },
  {
   "cell_type": "code",
   "execution_count": 29,
   "metadata": {},
   "outputs": [],
   "source": [
    "def import_data_sbs_banks(start_month: int, start_year: int, end_month=None, end_year=None):\n",
    "    # end_month = None and end_year = None are the default values\n",
    "    \n",
    "    # We check if start_month and start_year are integers; if not, we convert them\n",
    "    if not isinstance(start_month, int):\n",
    "        start_month = int(start_month)\n",
    "    if not isinstance(start_year, int):\n",
    "        start_year = int(start_year)\n",
    "    \n",
    "    # We check if end_month and end_year are provided and if they are integers; if not, we convert them\n",
    "    if end_month is not None and not isinstance(end_month, int):\n",
    "        end_month = int(end_month)\n",
    "    if end_year is not None and not isinstance(end_year, int):\n",
    "        end_year = int(end_year)\n",
    "        \n",
    "    # We define the base_line_path where the data files are located\n",
    "    base_line_path = '../../_data/sbs/B_RawData/bancos'\n",
    "    \n",
    "    # We normalize the arguments end_month and end_year if they are not provided\n",
    "    if end_month is None:\n",
    "        end_month = start_month\n",
    "    if end_year is None:\n",
    "        end_year = start_year\n",
    "\n",
    "    # We create a nested dictionary to store the dataframes\n",
    "    nested_dict = {}\n",
    "    \n",
    "    # We iterate over the specified years and months\n",
    "    for year in range(start_year, end_year + 1):\n",
    "        for month in range(1, 13):\n",
    "            # We skip months outside the specified range\n",
    "            if (year == start_year and month < start_month) or (year == end_year and month > end_month):\n",
    "                continue \n",
    "\n",
    "            # We look for files with the format 'table_clean_dd_m_yyyy.xlsx'\n",
    "            for day in range(31, 0, -1):  # We start from the last day of the month\n",
    "                file_name = f'table_clean_{day}_{month}_{year}.xlsx'\n",
    "                file_path = os.path.join(base_line_path, file_name)\n",
    "                \n",
    "                # We check if the file exists\n",
    "                if os.path.exists(file_path):\n",
    "                    # We read the file and store it in the nested dictionary\n",
    "                    df = pd.read_excel(file_path)\n",
    "                    if any(df.columns.str.contains(r\"COMERCIAL?\", regex=True)):  # If any column contains \"COMERCIAL\", we perform the following:\n",
    "                        df = pd.read_excel(file_path, skiprows=2)  # We skip the first two rows as they are not informative\n",
    "                    if 'Tasa Anual (%)' in df.columns:  # If the 'Tasa Anual (%)' column exists, we perform the following:\n",
    "                        df = df[~df['Tasa Anual (%)'].str.contains('Nota', na=False)]  # We remove the footnote\n",
    "                    month_str = str(month).zfill(2)  # We zero-pad the month string to ensure it has 2 digits\n",
    "                    year_str = str(year)\n",
    "                    if year_str not in nested_dict:\n",
    "                        nested_dict[year_str] = {}\n",
    "                    nested_dict[year_str][month_str] = df\n",
    "                    break  # We exit the loop once the file is found\n",
    "\n",
    "    return nested_dict"
   ]
  },
  {
   "cell_type": "code",
   "execution_count": null,
   "metadata": {},
   "outputs": [],
   "source": [
    "#avance"
   ]
  },
  {
   "cell_type": "code",
   "execution_count": null,
   "metadata": {},
   "outputs": [],
   "source": []
  },
  {
   "cell_type": "code",
   "execution_count": null,
   "metadata": {},
   "outputs": [],
   "source": []
  },
  {
   "cell_type": "code",
   "execution_count": null,
   "metadata": {},
   "outputs": [],
   "source": []
  },
  {
   "cell_type": "code",
   "execution_count": 35,
   "metadata": {},
   "outputs": [],
   "source": [
    "import os\n",
    "import pandas as pd\n",
    "\n",
    "def import_data_sbs_banks(start_month, start_year, end_month=None, end_year=None):\n",
    "    # Definir el path base\n",
    "    base_path = '../../_data/sbs/B_RawData/bancos'\n",
    "    \n",
    "    # Si no se especifica end_month y end_year, asumir que es el mismo que el start\n",
    "    if end_month is None or end_year is None:\n",
    "        end_month = start_month\n",
    "        end_year = start_year\n",
    "    \n",
    "    # Crear un diccionario para almacenar los DataFrames\n",
    "    data_dict = {}\n",
    "\n",
    "    # Iterar sobre el rango de años y meses\n",
    "    for year in range(start_year, end_year + 1):\n",
    "        # Definir el rango de meses a iterar\n",
    "        if year == start_year:\n",
    "            start_m = start_month\n",
    "        else:\n",
    "            start_m = 1\n",
    "        \n",
    "        if year == end_year:\n",
    "            end_m = end_month\n",
    "        else:\n",
    "            end_m = 12\n",
    "        \n",
    "        for month in range(start_m, end_m + 1):\n",
    "            # Formatear el mes y año\n",
    "            month_str = str(month).zfill(2)\n",
    "            year_str = str(year)\n",
    "            \n",
    "            # Construir el nombre del archivo esperado (ajusta según sea necesario)\n",
    "            file_name = f'{year_str}_{month_str}.csv'\n",
    "            file_path = os.path.join(base_path, file_name)\n",
    "            \n",
    "            # Verificar si el archivo existe\n",
    "            if os.path.exists(file_path):\n",
    "                # Leer el archivo CSV en un DataFrame\n",
    "                df = pd.read_csv(file_path)\n",
    "                \n",
    "                # Insertar el DataFrame en el diccionario anidado\n",
    "                if year not in data_dict:\n",
    "                    data_dict[year] = {}\n",
    "                data_dict[year][month] = df\n",
    "\n",
    "    return data_dict"
   ]
  },
  {
   "cell_type": "code",
   "execution_count": null,
   "metadata": {},
   "outputs": [],
   "source": []
  },
  {
   "cell_type": "code",
   "execution_count": 37,
   "metadata": {},
   "outputs": [
    {
     "ename": "TypeError",
     "evalue": "can only concatenate str (not \"int\") to str",
     "output_type": "error",
     "traceback": [
      "\u001b[1;31m---------------------------------------------------------------------------\u001b[0m",
      "\u001b[1;31mTypeError\u001b[0m                                 Traceback (most recent call last)",
      "\u001b[1;32m~\\AppData\\Local\\Temp\\ipykernel_324\\2058989074.py\u001b[0m in \u001b[0;36m<module>\u001b[1;34m\u001b[0m\n\u001b[0;32m      1\u001b[0m \u001b[1;31m# We call the function to import data for October 2015.\u001b[0m\u001b[1;33m\u001b[0m\u001b[1;33m\u001b[0m\u001b[0m\n\u001b[0;32m      2\u001b[0m \u001b[1;31m# This should return the data for October 2015 as a nested dictionary.\u001b[0m\u001b[1;33m\u001b[0m\u001b[1;33m\u001b[0m\u001b[0m\n\u001b[1;32m----> 3\u001b[1;33m \u001b[0mimport_data_sbs_banks\u001b[0m\u001b[1;33m(\u001b[0m\u001b[1;34m'02'\u001b[0m\u001b[1;33m,\u001b[0m \u001b[1;34m'2014'\u001b[0m\u001b[1;33m)\u001b[0m\u001b[1;33m\u001b[0m\u001b[1;33m\u001b[0m\u001b[0m\n\u001b[0m",
      "\u001b[1;32m~\\AppData\\Local\\Temp\\ipykernel_324\\1833872131.py\u001b[0m in \u001b[0;36mimport_data_sbs_banks\u001b[1;34m(start_month, start_year, end_month, end_year)\u001b[0m\n\u001b[0;32m     15\u001b[0m \u001b[1;33m\u001b[0m\u001b[0m\n\u001b[0;32m     16\u001b[0m     \u001b[1;31m# Iterar sobre el rango de años y meses\u001b[0m\u001b[1;33m\u001b[0m\u001b[1;33m\u001b[0m\u001b[0m\n\u001b[1;32m---> 17\u001b[1;33m     \u001b[1;32mfor\u001b[0m \u001b[0myear\u001b[0m \u001b[1;32min\u001b[0m \u001b[0mrange\u001b[0m\u001b[1;33m(\u001b[0m\u001b[0mstart_year\u001b[0m\u001b[1;33m,\u001b[0m \u001b[0mend_year\u001b[0m \u001b[1;33m+\u001b[0m \u001b[1;36m1\u001b[0m\u001b[1;33m)\u001b[0m\u001b[1;33m:\u001b[0m\u001b[1;33m\u001b[0m\u001b[1;33m\u001b[0m\u001b[0m\n\u001b[0m\u001b[0;32m     18\u001b[0m         \u001b[1;31m# Definir el rango de meses a iterar\u001b[0m\u001b[1;33m\u001b[0m\u001b[1;33m\u001b[0m\u001b[0m\n\u001b[0;32m     19\u001b[0m         \u001b[1;32mif\u001b[0m \u001b[0myear\u001b[0m \u001b[1;33m==\u001b[0m \u001b[0mstart_year\u001b[0m\u001b[1;33m:\u001b[0m\u001b[1;33m\u001b[0m\u001b[1;33m\u001b[0m\u001b[0m\n",
      "\u001b[1;31mTypeError\u001b[0m: can only concatenate str (not \"int\") to str"
     ]
    }
   ],
   "source": [
    "# We call the function to import data for October 2015.\n",
    "# This should return the data for October 2015 as a nested dictionary.\n",
    "import_data_sbs_banks('02', '2014')"
   ]
  },
  {
   "cell_type": "code",
   "execution_count": null,
   "metadata": {},
   "outputs": [],
   "source": [
    "# We call the function to import data from October 2014 to October 2015.\n",
    "# This should return the data for each month within the specified range as a nested dictionary.\n",
    "import_data_sbs_banks('10', '2014', '10', '2015')"
   ]
  },
  {
   "cell_type": "code",
   "execution_count": null,
   "metadata": {},
   "outputs": [],
   "source": []
  },
  {
   "cell_type": "code",
   "execution_count": null,
   "metadata": {},
   "outputs": [],
   "source": []
  },
  {
   "cell_type": "code",
   "execution_count": null,
   "metadata": {},
   "outputs": [],
   "source": []
  },
  {
   "cell_type": "code",
   "execution_count": null,
   "metadata": {},
   "outputs": [],
   "source": []
  },
  {
   "cell_type": "code",
   "execution_count": null,
   "metadata": {},
   "outputs": [],
   "source": []
  },
  {
   "cell_type": "code",
   "execution_count": null,
   "metadata": {},
   "outputs": [],
   "source": []
  },
  {
   "cell_type": "code",
   "execution_count": null,
   "metadata": {},
   "outputs": [],
   "source": []
  },
  {
   "cell_type": "code",
   "execution_count": null,
   "metadata": {},
   "outputs": [],
   "source": []
  },
  {
   "cell_type": "markdown",
   "metadata": {},
   "source": [
    "Example of Nested Dictionary\n",
    "\n",
    "Instead of `df_10_2015` it should have the information for October 2015."
   ]
  },
  {
   "cell_type": "code",
   "execution_count": 2,
   "metadata": {},
   "outputs": [],
   "source": [
    "nested_dict = { '2015' : { '10': 'df_10_2015', \n",
    "                       '09': 'df_09_2015'  }, \n",
    "              '2016' : { '10': 'df_10_2016', \n",
    "                       '09': 'df_09_2016'  }}"
   ]
  },
  {
   "cell_type": "markdown",
   "metadata": {},
   "source": [
    "2. Execute the following scripts:"
   ]
  },
  {
   "cell_type": "code",
   "execution_count": null,
   "metadata": {},
   "outputs": [],
   "source": [
    "import_data_sbs_banks('10', '2015')"
   ]
  },
  {
   "cell_type": "code",
   "execution_count": null,
   "metadata": {},
   "outputs": [],
   "source": [
    "import_data_sbs_banks('10', '2014', '10', '2015' )"
   ]
  }
 ],
 "metadata": {
  "hide_input": false,
  "kernelspec": {
   "display_name": "Python 3 (ipykernel)",
   "language": "python",
   "name": "python3"
  },
  "language_info": {
   "codemirror_mode": {
    "name": "ipython",
    "version": 3
   },
   "file_extension": ".py",
   "mimetype": "text/x-python",
   "name": "python",
   "nbconvert_exporter": "python",
   "pygments_lexer": "ipython3",
   "version": "3.9.13"
  },
  "toc": {
   "base_numbering": 1,
   "nav_menu": {},
   "number_sections": true,
   "sideBar": true,
   "skip_h1_title": false,
   "title_cell": "Table of Contents",
   "title_sidebar": "Contents",
   "toc_cell": false,
   "toc_position": {},
   "toc_section_display": true,
   "toc_window_display": false
  }
 },
 "nbformat": 4,
 "nbformat_minor": 4
}
