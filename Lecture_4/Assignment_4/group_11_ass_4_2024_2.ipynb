{
 "cells": [
  {
   "cell_type": "markdown",
   "metadata": {},
   "source": [
    "# Assigment 4\n",
    "\n",
    "This assigment will be graded if everything works well. I will run the script as once and everything should be done without errors and mistakes. I should be able to run your scripts in my computer and get all the results. **USE RELATIVE PATHS**. An error or exception or anything that breaks the code will means NO GRADE (0). Additionally, you are not able to modify any file handly. It also means NO GRADE (0). Comment everything you think will help others read your script. We expect 0 errors using GitHub. Everything will be graded!\n",
    "\n",
    "**ASK EVERYTHING! WE ARE HERE TO HELP YOU!**"
   ]
  },
  {
   "cell_type": "markdown",
   "metadata": {},
   "source": [
    "In this path **..\\_data\\sbs\\B_RawData\\bancos** you will find scraped data from [this link](https://www.sbs.gob.pe/app/pp/EstadisticasSAEEPortal/Paginas/TIActivaTipoCreditoEmpresa.aspx?tip=B). We get all the information of the last available day of every each month.\n",
    "\n",
    "1. Generate a function called **import_data_sbs_banks** that take as arguments `start_month`, `start_year`, `end_month` and `end_year`. This function should be able to import the files in **..\\_data\\sbs\\B_RawData\\bancos** taking into consideration these arguments. Additionally, it should work if it is only given the first two arguments `(start_mont, start_year)`. For example, this script `import_data_sbs_banks(10, 2015)` should return only the data for October 2015. The function should `returns` a nested dictionary. The `main key` must be year and `second key` must be `month`. The values should be the dataframes. "
   ]
  },
  {
   "cell_type": "markdown",
   "metadata": {},
   "source": [
    "Example of Nested Dictionary\n",
    "\n",
    "Instead of df_10_2015 it should have the information for October 2015."
   ]
  },
  {
   "cell_type": "markdown",
   "metadata": {},
   "source": [
    "nested_dict = { '2015' : { '10': 'df_10_2015', \n",
    "                       '09': 'df_09_2015'  }, \n",
    "              '2016' : { '10': 'df_10_2016', \n",
    "                       '09': 'df_09_2016'  }}"
   ]
  },
  {
   "cell_type": "code",
   "execution_count": 1,
   "metadata": {},
   "outputs": [],
   "source": [
    "import os\n",
    "import pandas as pd"
   ]
  },
  {
   "cell_type": "code",
   "execution_count": 23,
   "metadata": {},
   "outputs": [],
   "source": [
    "def import_data_sbs_banks(start_month: int, start_year: int, end_month=None, end_year=None):\n",
    "    # end_month = None and end_year = None are the default values\n",
    "\n",
    "    # First, we check if start_month and start_year, are indeed \"int\".\n",
    "    # If it is not the case, we convert start_month and start_year to \"integers\".\n",
    "    if not isinstance(start_month, int):\n",
    "        start_month = int(start_month)\n",
    "    if not isinstance(start_year, int):\n",
    "        start_year = int(start_year)\n",
    "    \n",
    "    # Afert, we execute the same procedure by checking if end_month and end_year are \"none\" or \"integers\". \n",
    "    #If it is not the case, we convert them to \"integers\".\n",
    "    if end_month is not None and not isinstance(end_month, int):\n",
    "        end_month = int(end_month)\n",
    "    if end_year is not None and not isinstance(end_year, int):\n",
    "        end_year = int(end_year)\n",
    "\n",
    "        \n",
    "    # We name the path of the given files as base_line_path\n",
    "    base_line_path = '../../_data/sbs/B_RawData/bancos'\n",
    "    \n",
    "    # As the function is established for a range numbers such (X =\"start_month\",Y = \"start_year\",Z = \"end_month\",Y = \"end_year\"),\n",
    "    #  we set a default start month and year values in cases we do not have the third and fourth arguments.\n",
    "    if end_month is None:\n",
    "        end_month = start_month\n",
    "    if end_year is None:\n",
    "        end_year = start_year\n",
    "\n",
    "    # We create a nested dictionary to save the new dataframes.\n",
    "    nested_dict = {}\n",
    "    \n",
    "    # We indicate that it should iterates over the specified years and months, decreasingly.\n",
    "    for year in range(start_year, end_year + 1):\n",
    "        for month in range(1, 13):\n",
    "            # We do not consider the months outside the given range\n",
    "            if (year == start_year and month < start_month) or (year == end_year and month > end_month):\n",
    "                continue \n",
    "\n",
    "            # We search the files with the structure 'table_clean_dd_m_yyyy.xlsx'\n",
    "            # Also, we create the route name \"file_path\" to match with \"file_name\".\n",
    "            for day in range(31, 0, -1):  # We start from the last day of the month\n",
    "                file_name = f'table_clean_{day}_{month}_{year}.xlsx'\n",
    "                file_path = os.path.join(base_line_path, file_name)\n",
    "                \n",
    "                # We check if the file exists\n",
    "                if os.path.exists(file_path):\n",
    "                    # We read the file and store it in the nested dictionary\n",
    "                    df = pd.read_excel(file_path)\n",
    "                    if any(df.columns.str.contains(r\"COMERCIAL?\", regex=True)):  # If any column contains \"COMERCIAL\", we perform the following:\n",
    "                        df = pd.read_excel(file_path, skiprows=2)  # We skip the first two rows as they are not informative\n",
    "                    if 'Tasa Anual (%)' in df.columns:  # If the 'Tasa Anual (%)' column exists, we perform the following:\n",
    "                        df = df[~df['Tasa Anual (%)'].str.contains('Nota', na=False)]  # We remove the footnote\n",
    "                    month_str = str(month).zfill(2)  # We zero-pad the month string to ensure it has 2 digits\n",
    "                    year_str = str(year)\n",
    "                    if year_str not in nested_dict:\n",
    "                        nested_dict[year_str] = {}\n",
    "                    nested_dict[year_str][month_str] = df\n",
    "                    break  # We exit the loop once the file is found\n",
    "\n",
    "    return nested_dict"
   ]
  },
  {
   "cell_type": "code",
   "execution_count": null,
   "metadata": {},
   "outputs": [],
   "source": [
    "#avance"
   ]
  },
  {
   "cell_type": "code",
   "execution_count": null,
   "metadata": {},
   "outputs": [],
   "source": [
    "#avance reynaldo"
   ]
  },
  {
   "cell_type": "code",
   "execution_count": 24,
   "metadata": {},
   "outputs": [
    {
     "name": "stdout",
     "output_type": "stream",
     "text": [
      "{'2016': {'08':                                        Tasa Anual (%) Continental Comercio  \\\n",
      "0                                        Corporativos        5.40        -   \n",
      "1                                          Descuentos        5.95        -   \n",
      "2                             Préstamos hasta 30 días        5.21        -   \n",
      "3                           Préstamos de 31 a 90 días        5.51        -   \n",
      "4                          Préstamos de 91 a 180 días        5.77        -   \n",
      "5                         Préstamos de 181 a 360 días        5.50        -   \n",
      "6                         Préstamos a más de 360 días        7.30        -   \n",
      "7                                    Grandes Empresas        7.06    10.48   \n",
      "8                                          Descuentos        9.48    12.78   \n",
      "9                             Préstamos hasta 30 días        5.48    12.00   \n",
      "10                          Préstamos de 31 a 90 días        7.21     7.95   \n",
      "11                         Préstamos de 91 a 180 días        6.81    10.00   \n",
      "12                        Préstamos de 181 a 360 días        7.93        -   \n",
      "13                        Préstamos a más de 360 días        7.85        -   \n",
      "14                                  Medianas Empresas       11.53    13.42   \n",
      "15                                         Descuentos       13.89    22.98   \n",
      "16                            Préstamos hasta 30 días       11.34    13.79   \n",
      "17                          Préstamos de 31 a 90 días       10.13    12.83   \n",
      "18                         Préstamos de 91 a 180 días       12.44    13.00   \n",
      "19                        Préstamos de 181 a 360 días       12.07        -   \n",
      "20                        Préstamos a más de 360 días        9.97        -   \n",
      "21                                  Pequeñas Empresas       17.55    15.00   \n",
      "22                                         Descuentos       19.25        -   \n",
      "23                            Préstamos hasta 30 días       19.67    15.00   \n",
      "24                          Préstamos de 31 a 90 días       18.30    15.00   \n",
      "25                         Préstamos de 91 a 180 días       18.29    15.00   \n",
      "26                        Préstamos de 181 a 360 días       19.60        -   \n",
      "27                        Préstamos a más de 360 días       14.20        -   \n",
      "28                                      Microempresas       28.28    14.00   \n",
      "29                                Tarjetas de Crédito       36.08     0.01   \n",
      "30                                         Descuentos       21.77        -   \n",
      "31                              Préstamos Revolventes       17.70        -   \n",
      "32               Préstamos a cuota fija hasta 30 días       28.20        -   \n",
      "33             Préstamos a cuota fija de 31 a 90 días       21.26        -   \n",
      "34            Préstamos a cuota fija de 91 a 180 días       18.54        -   \n",
      "35           Préstamos a cuota fija de 181 a 360 días       24.19    14.00   \n",
      "36           Préstamos a cuota fija a más de 360 días       11.77        -   \n",
      "37                                            Consumo       45.35    19.40   \n",
      "38                                Tarjetas de Crédito       59.52    25.31   \n",
      "39                              Préstamos Revolventes       18.25        -   \n",
      "40          Préstamos no Revolventes para automóviles       10.94        -   \n",
      "41  Préstamos no Revolventes para libre disponibil...       10.60    16.37   \n",
      "42  Préstamos no Revolventes para libre disponibil...       17.53    19.35   \n",
      "43                             Créditos pignoraticios           -    65.37   \n",
      "44                                       Hipotecarios        8.31     9.53   \n",
      "45               Préstamos hipotecarios para vivienda        8.31     9.53   \n",
      "\n",
      "   Crédito Financiero    BIF Scotiabank Citibank Interbank Mibanco    GNB  \\\n",
      "0     6.38       7.81   7.23       5.41     5.46      6.21       -      -   \n",
      "1     6.69          -   7.18       6.53        -      6.00       -      -   \n",
      "2     7.81       6.80      -       5.63     7.89      5.17       -      -   \n",
      "3     5.83       7.73   7.11       5.28     5.38      6.01       -      -   \n",
      "4     5.75       7.60   6.75       5.45     7.28      5.57       -      -   \n",
      "5     6.37       7.30   8.30          -        -      9.25       -      -   \n",
      "6     8.09       8.18      -          -        -      6.82       -      -   \n",
      "7     7.70       8.29   8.11       6.51     6.28      7.75       -  10.08   \n",
      "8     7.57       8.37   7.88       6.69        -      7.95       -  10.40   \n",
      "9     8.11       8.40   8.80       5.82     5.61      5.41       -   9.79   \n",
      "10    7.76       8.43   8.26       5.99     6.72      7.45       -  10.51   \n",
      "11    7.35       8.33   7.39       7.11     6.65      8.01       -  10.04   \n",
      "12    7.28       8.66   8.52       5.70        -      8.55       -      -   \n",
      "13    8.57       8.09   9.33       7.45        -      8.62       -   9.50   \n",
      "14   10.47      10.91   9.53       9.61     6.73     10.77   17.54  11.92   \n",
      "15    8.60      10.04   9.13       9.94        -      9.30       -  11.99   \n",
      "16    9.85      13.36   6.65      11.51     6.41     11.19       -  12.00   \n",
      "17   10.16      10.72   9.49      10.92     6.81     11.61       -  11.54   \n",
      "18    9.61      10.73  10.36       9.85        -     10.29   17.91  11.58   \n",
      "19   16.06      10.61  11.30      12.19     5.84     10.61   18.96  12.00   \n",
      "20   10.76      11.36  11.46       9.22     6.50     11.50   16.75  12.82   \n",
      "21   19.44      22.27  12.54      23.06        -     18.51   24.62  16.85   \n",
      "22    8.52      12.11  13.23      13.14        -      9.48       -      -   \n",
      "23    8.65     100.00      -      15.75        -     11.84   39.82      -   \n",
      "24   18.68      25.48  12.58      19.49        -     17.84   28.94  13.73   \n",
      "25   16.75      23.44  13.00      14.80        -     17.59   31.30  20.00   \n",
      "26   23.78      24.94  18.39      22.22        -     19.88   26.75  20.69   \n",
      "27   15.03      22.08  10.34      24.40        -     19.41   23.68  16.89   \n",
      "28   27.81      35.09  16.65      25.04        -     20.47   39.40  15.53   \n",
      "29   30.46      62.43      -      30.62        -         -       -      -   \n",
      "30    8.46          -  15.94      11.69        -      9.83       -      -   \n",
      "31       -          -  17.03          -        -     19.63       -      -   \n",
      "32       -          -      -      14.00        -         -   44.80      -   \n",
      "33   30.05      46.83      -      17.89        -     24.16   56.07      -   \n",
      "34   22.20      43.52      -      24.14        -     24.93   54.40  12.06   \n",
      "35   24.30      49.30      -      28.28        -     20.80   45.86      -   \n",
      "36   17.35      33.15      -      24.19        -     24.27   33.40  18.00   \n",
      "37   33.26      52.20  17.60      27.09        -     43.58   53.50  35.30   \n",
      "38   37.85      74.21  30.00      30.62        -     46.22       -  39.09   \n",
      "39       -          -      -          -        -     19.63       -      -   \n",
      "40   11.44          -  10.08      11.61        -     10.89       -  10.50   \n",
      "41   14.13      33.82  15.25          -        -     22.38   63.70      -   \n",
      "42   16.05      26.79  14.90      17.44        -     22.68   43.47  13.32   \n",
      "43       -          -      -          -        -         -       -      -   \n",
      "44    8.97       9.84   9.07       9.41        -      9.08   15.64   9.19   \n",
      "45    8.97       9.84   9.07       9.41        -      9.08   15.64   9.19   \n",
      "\n",
      "   Falabella Santander Ripley  Azteca    CAT ICBC  Promedio  \n",
      "0          -      8.33      -       -      -    -      6.13  \n",
      "1          -      8.49      -       -      -    -      7.06  \n",
      "2          -         -      -       -      -    -      6.03  \n",
      "3          -      7.23      -       -      -    -      5.74  \n",
      "4          -      8.60      -       -      -    -      5.75  \n",
      "5          -      6.83      -       -      -    -      7.22  \n",
      "6          -         -      -       -      -    -      7.69  \n",
      "7          -      8.06      -       -      -    -      7.35  \n",
      "8          -      8.55      -       -      -    -      8.15  \n",
      "9          -      7.57      -       -      -    -      6.54  \n",
      "10         -      8.62      -       -      -    -      7.29  \n",
      "11         -      7.66      -       -      -    -      7.20  \n",
      "12         -      8.32      -       -      -    -      7.70  \n",
      "13         -      9.00      -       -      -    -      8.26  \n",
      "14         -      7.96      -       -      -    -     10.51  \n",
      "15         -      8.93      -       -      -    -     10.29  \n",
      "16         -      6.50      -       -      -    -      9.79  \n",
      "17         -      6.50      -       -      -    -     10.06  \n",
      "18         -      6.99      -       -      -    -     10.57  \n",
      "19         -      7.17      -       -      -    -     13.33  \n",
      "20         -     11.35      -       -      -    -     10.05  \n",
      "21         -         -      -       -      -    -     21.71  \n",
      "22         -         -      -       -      -    -     12.42  \n",
      "23         -         -      -       -      -    -     10.39  \n",
      "24         -         -      -       -      -    -     18.96  \n",
      "25         -         -      -       -      -    -     19.45  \n",
      "26         -         -      -       -      -    -     24.34  \n",
      "27         -         -      -       -      -    -     21.60  \n",
      "28         -         -      -       -      -    -     36.64  \n",
      "29         -         -      -       -      -    -     31.05  \n",
      "30         -         -      -       -      -    -     11.89  \n",
      "31         -         -      -       -      -    -     19.51  \n",
      "32         -         -      -       -      -    -     37.76  \n",
      "33         -         -      -       -      -    -     42.26  \n",
      "34         -         -      -       -      -    -     52.04  \n",
      "35         -         -      -       -      -    -     44.16  \n",
      "36         -         -      -       -      -    -     32.23  \n",
      "37     58.21         -  59.50  136.48  86.86    -     44.24  \n",
      "38     58.46         -  67.15  149.36  86.86    -     49.50  \n",
      "39         -         -      -       -      -    -     18.39  \n",
      "40     10.60         -      -       -      -    -     11.14  \n",
      "41     33.14         -  45.01  148.35      -    -     58.02  \n",
      "42     18.17         -  29.35  127.60      -    -     21.98  \n",
      "43         -         -      -       -      -    -     65.37  \n",
      "44         -         -      -       -      -    -      8.94  \n",
      "45         -         -      -       -      -    -      8.94  }}\n"
     ]
    }
   ],
   "source": [
    "xyz = import_data_sbs_banks(8, 2016)\n",
    "print(xyz)"
   ]
  },
  {
   "cell_type": "code",
   "execution_count": null,
   "metadata": {},
   "outputs": [],
   "source": []
  },
  {
   "cell_type": "code",
   "execution_count": null,
   "metadata": {},
   "outputs": [],
   "source": []
  },
  {
   "cell_type": "code",
   "execution_count": 6,
   "metadata": {},
   "outputs": [],
   "source": [
    "import os\n",
    "import pandas as pd\n",
    "\n",
    "def import_data_sbs_banks(start_month, start_year, end_month=None, end_year=None):\n",
    "    # Definir el path base\n",
    "    base_path = '../../_data/sbs/B_RawData/bancos'\n",
    "    \n",
    "    # Si no se especifica end_month y end_year, asumir que es el mismo que el start\n",
    "    if end_month is None or end_year is None:\n",
    "        end_month = start_month\n",
    "        end_year = start_year\n",
    "    \n",
    "    # Crear un diccionario para almacenar los DataFrames\n",
    "    data_dict = {}\n",
    "\n",
    "    # Iterar sobre el rango de años y meses\n",
    "    for year in range(start_year, end_year + 1):\n",
    "        # Definir el rango de meses a iterar\n",
    "        if year == start_year:\n",
    "            start_m = start_month\n",
    "        else:\n",
    "            start_m = 1\n",
    "        \n",
    "        if year == end_year:\n",
    "            end_m = end_month\n",
    "        else:\n",
    "            end_m = 12\n",
    "        \n",
    "        for month in range(start_m, end_m + 1):\n",
    "            # Formatear el mes y año\n",
    "            month_str = str(month).zfill(2)\n",
    "            year_str = str(year)\n",
    "            \n",
    "            # Construir el nombre del archivo esperado (ajusta según sea necesario)\n",
    "            file_name = f'{year_str}_{month_str}.csv'\n",
    "            file_path = os.path.join(base_path, file_name)\n",
    "            \n",
    "            # Verificar si el archivo existe\n",
    "            if os.path.exists(file_path):\n",
    "                # Leer el archivo CSV en un DataFrame\n",
    "                df = pd.read_csv(file_path)\n",
    "                \n",
    "                # Insertar el DataFrame en el diccionario anidado\n",
    "                if year not in data_dict:\n",
    "                    data_dict[year] = {}\n",
    "                data_dict[year][month] = df\n",
    "\n",
    "    return data_dict"
   ]
  },
  {
   "cell_type": "code",
   "execution_count": 7,
   "metadata": {},
   "outputs": [
    {
     "name": "stdout",
     "output_type": "stream",
     "text": [
      "{}\n"
     ]
    }
   ],
   "source": [
    "xyz = import_data_sbs_banks(8, 2016)\n",
    "print(xyz)"
   ]
  },
  {
   "cell_type": "code",
   "execution_count": 37,
   "metadata": {},
   "outputs": [
    {
     "ename": "TypeError",
     "evalue": "can only concatenate str (not \"int\") to str",
     "output_type": "error",
     "traceback": [
      "\u001b[1;31m---------------------------------------------------------------------------\u001b[0m",
      "\u001b[1;31mTypeError\u001b[0m                                 Traceback (most recent call last)",
      "\u001b[1;32m~\\AppData\\Local\\Temp\\ipykernel_324\\2058989074.py\u001b[0m in \u001b[0;36m<module>\u001b[1;34m\u001b[0m\n\u001b[0;32m      1\u001b[0m \u001b[1;31m# We call the function to import data for October 2015.\u001b[0m\u001b[1;33m\u001b[0m\u001b[1;33m\u001b[0m\u001b[0m\n\u001b[0;32m      2\u001b[0m \u001b[1;31m# This should return the data for October 2015 as a nested dictionary.\u001b[0m\u001b[1;33m\u001b[0m\u001b[1;33m\u001b[0m\u001b[0m\n\u001b[1;32m----> 3\u001b[1;33m \u001b[0mimport_data_sbs_banks\u001b[0m\u001b[1;33m(\u001b[0m\u001b[1;34m'02'\u001b[0m\u001b[1;33m,\u001b[0m \u001b[1;34m'2014'\u001b[0m\u001b[1;33m)\u001b[0m\u001b[1;33m\u001b[0m\u001b[1;33m\u001b[0m\u001b[0m\n\u001b[0m",
      "\u001b[1;32m~\\AppData\\Local\\Temp\\ipykernel_324\\1833872131.py\u001b[0m in \u001b[0;36mimport_data_sbs_banks\u001b[1;34m(start_month, start_year, end_month, end_year)\u001b[0m\n\u001b[0;32m     15\u001b[0m \u001b[1;33m\u001b[0m\u001b[0m\n\u001b[0;32m     16\u001b[0m     \u001b[1;31m# Iterar sobre el rango de años y meses\u001b[0m\u001b[1;33m\u001b[0m\u001b[1;33m\u001b[0m\u001b[0m\n\u001b[1;32m---> 17\u001b[1;33m     \u001b[1;32mfor\u001b[0m \u001b[0myear\u001b[0m \u001b[1;32min\u001b[0m \u001b[0mrange\u001b[0m\u001b[1;33m(\u001b[0m\u001b[0mstart_year\u001b[0m\u001b[1;33m,\u001b[0m \u001b[0mend_year\u001b[0m \u001b[1;33m+\u001b[0m \u001b[1;36m1\u001b[0m\u001b[1;33m)\u001b[0m\u001b[1;33m:\u001b[0m\u001b[1;33m\u001b[0m\u001b[1;33m\u001b[0m\u001b[0m\n\u001b[0m\u001b[0;32m     18\u001b[0m         \u001b[1;31m# Definir el rango de meses a iterar\u001b[0m\u001b[1;33m\u001b[0m\u001b[1;33m\u001b[0m\u001b[0m\n\u001b[0;32m     19\u001b[0m         \u001b[1;32mif\u001b[0m \u001b[0myear\u001b[0m \u001b[1;33m==\u001b[0m \u001b[0mstart_year\u001b[0m\u001b[1;33m:\u001b[0m\u001b[1;33m\u001b[0m\u001b[1;33m\u001b[0m\u001b[0m\n",
      "\u001b[1;31mTypeError\u001b[0m: can only concatenate str (not \"int\") to str"
     ]
    }
   ],
   "source": [
    "# We call the function to import data for October 2015.\n",
    "# This should return the data for October 2015 as a nested dictionary.\n",
    "import_data_sbs_banks('02', '2014')"
   ]
  },
  {
   "cell_type": "code",
   "execution_count": null,
   "metadata": {},
   "outputs": [],
   "source": [
    "# We call the function to import data from October 2014 to October 2015.\n",
    "# This should return the data for each month within the specified range as a nested dictionary.\n",
    "import_data_sbs_banks('10', '2014', '10', '2015')"
   ]
  },
  {
   "cell_type": "code",
   "execution_count": null,
   "metadata": {},
   "outputs": [],
   "source": []
  },
  {
   "cell_type": "code",
   "execution_count": null,
   "metadata": {},
   "outputs": [],
   "source": []
  },
  {
   "cell_type": "code",
   "execution_count": null,
   "metadata": {},
   "outputs": [],
   "source": []
  },
  {
   "cell_type": "code",
   "execution_count": null,
   "metadata": {},
   "outputs": [],
   "source": []
  },
  {
   "cell_type": "code",
   "execution_count": null,
   "metadata": {},
   "outputs": [],
   "source": []
  },
  {
   "cell_type": "code",
   "execution_count": null,
   "metadata": {},
   "outputs": [],
   "source": []
  },
  {
   "cell_type": "code",
   "execution_count": null,
   "metadata": {},
   "outputs": [],
   "source": []
  },
  {
   "cell_type": "code",
   "execution_count": null,
   "metadata": {},
   "outputs": [],
   "source": []
  },
  {
   "cell_type": "markdown",
   "metadata": {},
   "source": [
    "Example of Nested Dictionary\n",
    "\n",
    "Instead of `df_10_2015` it should have the information for October 2015."
   ]
  },
  {
   "cell_type": "code",
   "execution_count": 2,
   "metadata": {},
   "outputs": [],
   "source": [
    "nested_dict = { '2015' : { '10': 'df_10_2015', \n",
    "                       '09': 'df_09_2015'  }, \n",
    "              '2016' : { '10': 'df_10_2016', \n",
    "                       '09': 'df_09_2016'  }}"
   ]
  },
  {
   "cell_type": "markdown",
   "metadata": {},
   "source": [
    "2. Execute the following scripts:"
   ]
  },
  {
   "cell_type": "code",
   "execution_count": null,
   "metadata": {},
   "outputs": [],
   "source": [
    "import_data_sbs_banks('10', '2015')"
   ]
  },
  {
   "cell_type": "code",
   "execution_count": null,
   "metadata": {},
   "outputs": [],
   "source": [
    "import_data_sbs_banks('10', '2014', '10', '2015' )"
   ]
  }
 ],
 "metadata": {
  "hide_input": false,
  "kernelspec": {
   "display_name": "Python 3 (ipykernel)",
   "language": "python",
   "name": "python3"
  },
  "language_info": {
   "codemirror_mode": {
    "name": "ipython",
    "version": 3
   },
   "file_extension": ".py",
   "mimetype": "text/x-python",
   "name": "python",
   "nbconvert_exporter": "python",
   "pygments_lexer": "ipython3",
   "version": "3.12.4"
  },
  "toc": {
   "base_numbering": 1,
   "nav_menu": {},
   "number_sections": true,
   "sideBar": true,
   "skip_h1_title": false,
   "title_cell": "Table of Contents",
   "title_sidebar": "Contents",
   "toc_cell": false,
   "toc_position": {},
   "toc_section_display": true,
   "toc_window_display": false
  }
 },
 "nbformat": 4,
 "nbformat_minor": 4
}
