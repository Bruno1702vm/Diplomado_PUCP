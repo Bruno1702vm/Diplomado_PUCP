{
 "cells": [
  {
   "cell_type": "markdown",
   "id": "0fe8ce08-d1c2-4926-86de-0138ae23f4fd",
   "metadata": {},
   "source": [
    "ASSIGNMENT 5 : Group #5\n",
    "Adriana Sierra, Alejandra Navarro , Karla Chauca y Elisa Vivar"
   ]
  },
  {
   "cell_type": "markdown",
   "id": "c19a7ca1-c861-4381-91b7-5efd6f1f439c",
   "metadata": {},
   "source": [
    "#### Importing libraries"
   ]
  },
  {
   "cell_type": "code",
   "execution_count": 10,
   "id": "27458c33-a294-4dd5-ad98-eddd63b179f4",
   "metadata": {},
   "outputs": [],
   "source": [
    "from selenium import webdriver\n",
    "from selenium.webdriver.chrome.service import Service\n",
    "from selenium.webdriver.common.by import By\n",
    "from selenium.webdriver.chrome.options import Options\n",
    "from webdriver_manager.chrome import ChromeDriverManager\n",
    "from selenium.webdriver.support.ui import WebDriverWait\n",
    "from selenium.webdriver.support.ui import Select\n",
    "from selenium.webdriver.support import expected_conditions as EC\n",
    "import pandas as pd\n",
    "import time\n",
    "from io import StringIO"
   ]
  },
  {
   "cell_type": "markdown",
   "id": "058465af-a771-4b43-a6aa-839574bba8d4",
   "metadata": {},
   "source": [
    "#### The url to be scraped opens\n"
   ]
  },
  {
   "cell_type": "code",
   "execution_count": 11,
   "id": "b318842f-5a45-4fae-a838-d5582c8f9de6",
   "metadata": {},
   "outputs": [],
   "source": [
    "driver = webdriver.Chrome(service=webdriver.chrome.service.Service(ChromeDriverManager().install()))\n",
    "url='https://infogob.jne.gob.pe/Eleccion'\n",
    "driver.get(url)\n",
    "time.sleep(5)"
   ]
  },
  {
   "cell_type": "markdown",
   "id": "81c5b550-d481-440f-84ba-a3d1e826cbf5",
   "metadata": {},
   "source": [
    "#### First step: Tipo de proceso"
   ]
  },
  {
   "cell_type": "code",
   "execution_count": 12,
   "id": "0f9351f7-75f1-4d8d-a275-5d57089beeeb",
   "metadata": {},
   "outputs": [
    {
     "ename": "NoSuchWindowException",
     "evalue": "Message: no such window: target window already closed\nfrom unknown error: web view not found\n  (Session info: chrome=127.0.6533.120)\nStacktrace:\n\tGetHandleVerifier [0x001F8923+23283]\n\t(No symbol) [0x001BE934]\n\t(No symbol) [0x000F0733]\n\t(No symbol) [0x000CD2E3]\n\t(No symbol) [0x0015A64F]\n\t(No symbol) [0x0016C686]\n\t(No symbol) [0x001541B6]\n\t(No symbol) [0x00128017]\n\t(No symbol) [0x0012890D]\n\tGetHandleVerifier [0x002EA5F3+1013699]\n\tGetHandleVerifier [0x002F3E4C+1052700]\n\tGetHandleVerifier [0x002ED4B4+1025668]\n\tGetHandleVerifier [0x0021EA2B+179195]\n\t(No symbol) [0x001C6833]\n\t(No symbol) [0x001C3198]\n\t(No symbol) [0x001C3337]\n\t(No symbol) [0x001BB4BE]\n\tBaseThreadInitThunk [0x769F7BA9+25]\n\tRtlInitializeExceptionChain [0x77C6C10B+107]\n\tRtlClearBits [0x77C6C08F+191]\n\t(No symbol) [0x00000000]\n",
     "output_type": "error",
     "traceback": [
      "\u001b[1;31m---------------------------------------------------------------------------\u001b[0m",
      "\u001b[1;31mNoSuchWindowException\u001b[0m                     Traceback (most recent call last)",
      "Cell \u001b[1;32mIn[12], line 2\u001b[0m\n\u001b[0;32m      1\u001b[0m \u001b[38;5;66;03m#Select \"Elecciones presidenciales\" en \"Tipo de proceso\"\u001b[39;00m\n\u001b[1;32m----> 2\u001b[0m driver\u001b[38;5;241m.\u001b[39mfind_element(By\u001b[38;5;241m.\u001b[39mXPATH, \u001b[38;5;124m'\u001b[39m\u001b[38;5;124m/html/body/div[1]/section/div[2]/div[2]/div[2]/div[1]/div\u001b[39m\u001b[38;5;124m'\u001b[39m)\u001b[38;5;241m.\u001b[39mclick()\n\u001b[0;32m      3\u001b[0m driver\u001b[38;5;241m.\u001b[39mfind_element(By\u001b[38;5;241m.\u001b[39mXPATH, \u001b[38;5;124m'\u001b[39m\u001b[38;5;124m/html/body/div[1]/section/div[2]/div[2]/div[2]/div[1]/div/div[2]/div[2]\u001b[39m\u001b[38;5;124m'\u001b[39m)\u001b[38;5;241m.\u001b[39mclick()\n",
      "File \u001b[1;32m~\\anaconda3\\Lib\\site-packages\\selenium\\webdriver\\remote\\webdriver.py:748\u001b[0m, in \u001b[0;36mWebDriver.find_element\u001b[1;34m(self, by, value)\u001b[0m\n\u001b[0;32m    745\u001b[0m     by \u001b[38;5;241m=\u001b[39m By\u001b[38;5;241m.\u001b[39mCSS_SELECTOR\n\u001b[0;32m    746\u001b[0m     value \u001b[38;5;241m=\u001b[39m \u001b[38;5;124mf\u001b[39m\u001b[38;5;124m'\u001b[39m\u001b[38;5;124m[name=\u001b[39m\u001b[38;5;124m\"\u001b[39m\u001b[38;5;132;01m{\u001b[39;00mvalue\u001b[38;5;132;01m}\u001b[39;00m\u001b[38;5;124m\"\u001b[39m\u001b[38;5;124m]\u001b[39m\u001b[38;5;124m'\u001b[39m\n\u001b[1;32m--> 748\u001b[0m \u001b[38;5;28;01mreturn\u001b[39;00m \u001b[38;5;28mself\u001b[39m\u001b[38;5;241m.\u001b[39mexecute(Command\u001b[38;5;241m.\u001b[39mFIND_ELEMENT, {\u001b[38;5;124m\"\u001b[39m\u001b[38;5;124musing\u001b[39m\u001b[38;5;124m\"\u001b[39m: by, \u001b[38;5;124m\"\u001b[39m\u001b[38;5;124mvalue\u001b[39m\u001b[38;5;124m\"\u001b[39m: value})[\u001b[38;5;124m\"\u001b[39m\u001b[38;5;124mvalue\u001b[39m\u001b[38;5;124m\"\u001b[39m]\n",
      "File \u001b[1;32m~\\anaconda3\\Lib\\site-packages\\selenium\\webdriver\\remote\\webdriver.py:354\u001b[0m, in \u001b[0;36mWebDriver.execute\u001b[1;34m(self, driver_command, params)\u001b[0m\n\u001b[0;32m    352\u001b[0m response \u001b[38;5;241m=\u001b[39m \u001b[38;5;28mself\u001b[39m\u001b[38;5;241m.\u001b[39mcommand_executor\u001b[38;5;241m.\u001b[39mexecute(driver_command, params)\n\u001b[0;32m    353\u001b[0m \u001b[38;5;28;01mif\u001b[39;00m response:\n\u001b[1;32m--> 354\u001b[0m     \u001b[38;5;28mself\u001b[39m\u001b[38;5;241m.\u001b[39merror_handler\u001b[38;5;241m.\u001b[39mcheck_response(response)\n\u001b[0;32m    355\u001b[0m     response[\u001b[38;5;124m\"\u001b[39m\u001b[38;5;124mvalue\u001b[39m\u001b[38;5;124m\"\u001b[39m] \u001b[38;5;241m=\u001b[39m \u001b[38;5;28mself\u001b[39m\u001b[38;5;241m.\u001b[39m_unwrap_value(response\u001b[38;5;241m.\u001b[39mget(\u001b[38;5;124m\"\u001b[39m\u001b[38;5;124mvalue\u001b[39m\u001b[38;5;124m\"\u001b[39m, \u001b[38;5;28;01mNone\u001b[39;00m))\n\u001b[0;32m    356\u001b[0m     \u001b[38;5;28;01mreturn\u001b[39;00m response\n",
      "File \u001b[1;32m~\\anaconda3\\Lib\\site-packages\\selenium\\webdriver\\remote\\errorhandler.py:229\u001b[0m, in \u001b[0;36mErrorHandler.check_response\u001b[1;34m(self, response)\u001b[0m\n\u001b[0;32m    227\u001b[0m         alert_text \u001b[38;5;241m=\u001b[39m value[\u001b[38;5;124m\"\u001b[39m\u001b[38;5;124malert\u001b[39m\u001b[38;5;124m\"\u001b[39m]\u001b[38;5;241m.\u001b[39mget(\u001b[38;5;124m\"\u001b[39m\u001b[38;5;124mtext\u001b[39m\u001b[38;5;124m\"\u001b[39m)\n\u001b[0;32m    228\u001b[0m     \u001b[38;5;28;01mraise\u001b[39;00m exception_class(message, screen, stacktrace, alert_text)  \u001b[38;5;66;03m# type: ignore[call-arg]  # mypy is not smart enough here\u001b[39;00m\n\u001b[1;32m--> 229\u001b[0m \u001b[38;5;28;01mraise\u001b[39;00m exception_class(message, screen, stacktrace)\n",
      "\u001b[1;31mNoSuchWindowException\u001b[0m: Message: no such window: target window already closed\nfrom unknown error: web view not found\n  (Session info: chrome=127.0.6533.120)\nStacktrace:\n\tGetHandleVerifier [0x001F8923+23283]\n\t(No symbol) [0x001BE934]\n\t(No symbol) [0x000F0733]\n\t(No symbol) [0x000CD2E3]\n\t(No symbol) [0x0015A64F]\n\t(No symbol) [0x0016C686]\n\t(No symbol) [0x001541B6]\n\t(No symbol) [0x00128017]\n\t(No symbol) [0x0012890D]\n\tGetHandleVerifier [0x002EA5F3+1013699]\n\tGetHandleVerifier [0x002F3E4C+1052700]\n\tGetHandleVerifier [0x002ED4B4+1025668]\n\tGetHandleVerifier [0x0021EA2B+179195]\n\t(No symbol) [0x001C6833]\n\t(No symbol) [0x001C3198]\n\t(No symbol) [0x001C3337]\n\t(No symbol) [0x001BB4BE]\n\tBaseThreadInitThunk [0x769F7BA9+25]\n\tRtlInitializeExceptionChain [0x77C6C10B+107]\n\tRtlClearBits [0x77C6C08F+191]\n\t(No symbol) [0x00000000]\n"
     ]
    }
   ],
   "source": [
    "#Select \"Elecciones presidenciales\" en \"Tipo de proceso\"\n",
    "driver.find_element(By.XPATH, '/html/body/div[1]/section/div[2]/div[2]/div[2]/div[1]/div').click()\n",
    "driver.find_element(By.XPATH, '/html/body/div[1]/section/div[2]/div[2]/div[2]/div[1]/div/div[2]/div[2]').click()"
   ]
  },
  {
   "cell_type": "markdown",
   "id": "b3aa061b-e5dc-446a-ae42-c3b5a7436775",
   "metadata": {},
   "source": [
    "#### Second step: Elecciones"
   ]
  },
  {
   "cell_type": "code",
   "execution_count": 9,
   "id": "f59eeeeb-877f-4eee-9765-dbe64f22872a",
   "metadata": {},
   "outputs": [],
   "source": [
    "# Select: Elección\n",
    "driver.find_element(By.XPATH, '/html/body/div[1]/section/div[2]/div[2]/div[2]/div[2]/div').click()\n",
    "\n",
    "# Get all the elections\n",
    "\n",
    "## List of elections\n",
    "elections_list = driver.find_element(By.XPATH, '/html/body/div[1]/section/div[2]/div[2]/div[2]/div[2]/div/div[2]')\n",
    "\n",
    "## Elections\n",
    "elections = [ i for i in elections_list.find_elements(By.TAG_NAME, \"div\") ]\n",
    "\n",
    "# Dictionary of the elections and their web elements\n",
    "dict_elections = { election.text : election for election in elections }"
   ]
  },
  {
   "cell_type": "markdown",
   "id": "08c692c3-5ed7-4246-8e2f-a37febe7047a",
   "metadata": {},
   "source": [
    "#### Dataframe final"
   ]
  },
  {
   "cell_type": "code",
   "execution_count": null,
   "id": "01cee0d8-c943-44a8-8fda-7656a18732c7",
   "metadata": {},
   "outputs": [],
   "source": [
    "df_resultados = pd.DataFrame(columns=['ELECCIONES', 'ORGANIZACIÓN POLÍTICA', 'TOTAL VOTOS'])"
   ]
  },
  {
   "cell_type": "markdown",
   "id": "96e57922-282e-4aa6-a39e-cb142eb2658d",
   "metadata": {},
   "source": [
    "#### Loop to get all the elections' tables"
   ]
  },
  {
   "cell_type": "code",
   "execution_count": null,
   "id": "670e4ca9-a858-4b08-960f-759a11ad0b81",
   "metadata": {},
   "outputs": [],
   "source": [
    "# Create a loop based on the dictionary\n",
    "for x in list(dict_elections.keys())[1:]:\n",
    "    elemento = dict_elections[x]\n",
    "    elemento.click()\n",
    "\n",
    "    # Select the election\n",
    "    boton_ver_datos = WebDriverWait(driver, 3).until(\n",
    "        EC.element_to_be_clickable((By.ID, 'btnVerDatos'))\n",
    "    ).click()\n",
    "    time.sleep(5)\n",
    "    \n",
    "    # Go to the section \"Candidatos y resultados\"\n",
    "    driver.find_element(By.XPATH, '/html/body/div[1]/section/div[2]/div[3]/div[1]/ul/li[2]').click()\n",
    "    time.sleep(5)\n",
    "\n",
    "    # Get the table for each election\n",
    "    table_1= driver.find_element(By.XPATH,'/html/body/div[1]/section/div[2]/div[3]/div[3]/div/div/div/div[1]/div[2]/div[2]/div[2]/table')\n",
    "    table1_html=table_1.get_attribute(\"outerHTML\")\n",
    "    html_io = StringIO(table1_html)\n",
    "    table1= pd.read_html(html_io)[0]\n",
    "\n",
    "    table1['ELECCIONES'] = x\n",
    "    new_order1 = ['ELECCIONES', 'ORGANIZACIÓN POLÍTICA', 'TOTAL VOTOS']\n",
    "    df1 = table1[new_order1]\n",
    "    \n",
    "    # Concat the new tables in the final dataframe\n",
    "    df_resultados = pd.concat([df_resultados, df1], ignore_index=True)\n",
    "    \n",
    "    # Back to the beginning\n",
    "    driver.back()\n",
    "    time.sleep(5)\n",
    "\n",
    "    driver.back()\n",
    "    time.sleep(5)\n",
    "    \n",
    "    # On the list, to select a new election\n",
    "    driver.find_element(By.XPATH, '/html/body/div[1]/section/div[2]/div[2]/div[2]/div[2]/div').click()\n",
    "    time.sleep(5)\n",
    "\n",
    "driver.quit()\n"
   ]
  },
  {
   "cell_type": "code",
   "execution_count": 4,
   "id": "0c9c0a87",
   "metadata": {},
   "outputs": [
    {
     "ename": "NameError",
     "evalue": "name 'df_resultados' is not defined",
     "output_type": "error",
     "traceback": [
      "\u001b[1;31m---------------------------------------------------------------------------\u001b[0m",
      "\u001b[1;31mNameError\u001b[0m                                 Traceback (most recent call last)",
      "Cell \u001b[1;32mIn[4], line 2\u001b[0m\n\u001b[0;32m      1\u001b[0m \u001b[38;5;66;03m# Verify the final output\u001b[39;00m\n\u001b[1;32m----> 2\u001b[0m df_resultados\n",
      "\u001b[1;31mNameError\u001b[0m: name 'df_resultados' is not defined"
     ]
    }
   ],
   "source": [
    "# Verify the final output\n",
    "df_resultados"
   ]
  },
  {
   "cell_type": "code",
   "execution_count": null,
   "id": "b1b81d87",
   "metadata": {},
   "outputs": [],
   "source": [
    "# Consider\n",
    "file_name = \"resultados_elecciones.xlsx\"\n",
    "sheet = \"Resultados\"\n",
    "\n",
    "# Export the final df\n",
    "df_resultados.to_excel(file_name, sheet_name=sheet, index=False)\n",
    "\n",
    "print(f\"All the results of presidential elections are in this file: {file_name}\")"
   ]
  }
 ],
 "metadata": {
  "kernelspec": {
   "display_name": "Python 3 (ipykernel)",
   "language": "python",
   "name": "python3"
  },
  "language_info": {
   "codemirror_mode": {
    "name": "ipython",
    "version": 3
   },
   "file_extension": ".py",
   "mimetype": "text/x-python",
   "name": "python",
   "nbconvert_exporter": "python",
   "pygments_lexer": "ipython3",
   "version": "3.11.4"
  }
 },
 "nbformat": 4,
 "nbformat_minor": 5
}
