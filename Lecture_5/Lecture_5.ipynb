{
 "cells": [
  {
   "cell_type": "code",
   "execution_count": 1,
   "metadata": {},
   "outputs": [],
   "source": [
    "import pickle\n",
    "import pandas as pd\n",
    "import numpy as np"
   ]
  },
  {
   "cell_type": "markdown",
   "metadata": {},
   "source": [
    "# 5. Functions and Class\n",
    "In this class we will cover everything related to creating functions and clases in Python."
   ]
  },
  {
   "cell_type": "markdown",
   "metadata": {},
   "source": [
    "- <a href='##5.1.'>5.1. Functions</a>\n",
    "     - <a href='##5.1.1.'>5.1.1. The Importance of Python Functions </a> \n",
    "     - <a href='##5.1.2.'>5.1.2. Basic structure of a function </a> \n",
    "     - <a href='##5.1.3.'>5.1.3. Function without `return` function </a> \n",
    "     - <a href='##5.1.5.'>5.1.5. Multiple objects for return </a> \n",
    "     - <a href='##5.1.5.'>5.1.5. If condition with return </a>\n",
    "     - <a href='##5.1.6.'>5.1.6. Default values to parameters </a> \n",
    "     - <a href='##5.1.7.'>5.1.7. Specify the type of a parameter and the type of the return type of a function </a> \n",
    "     - <a href='##5.1.8.'>5.1.8. Local variables VS Global variables </a> \n",
    "     - <a href='##5.1.9.'>5.1.9. Args </a> \n",
    "     - <a href='##5.1.10.'>5.1.10. Kwargs </a> \n",
    "- <a href='##5.2.'>5.2. Class </a> \n",
    "     - <a href='##5.2.1.'>5.2.1. The Importance of Python Classes </a> \n",
    "     - <a href='##5.2.2.'> 5.2.2. Defining a class </a> \n",
    "     - <a href='##5.2.3.'> 5.2.3. Attributes </a> \n",
    "     - <a href='##5.2.5.'> 5.2.5. Method </a>\n",
    "     - <a href='##5.2.6.'> 5.2.6. \\_\\_init\\_\\_() </a>\n",
    "     - <a href='##5.2.7.'> 5.2.7. Self </a>\n",
    "- <a href='##5.3.'>5.3. References </a>  "
   ]
  },
  {
   "cell_type": "markdown",
   "metadata": {},
   "source": [
    "##  <a id='#5.1.'>5.1. Functions</a>"
   ]
  },
  {
   "cell_type": "markdown",
   "metadata": {},
   "source": [
    "### <a id = '#5.1.1.'> 5.1.1.The Importance of Python Functions </a> "
   ]
  },
  {
   "cell_type": "markdown",
   "metadata": {},
   "source": [
    "- Abstraction and Reusability: Replicate the code you will use over and over again.\n",
    "- Modularity: Functions allow complex processes to be broken up into smaller steps.\n",
    "- Namespace Separation: It allows you to use variables  and used within a Python function even if they have the same name as variables defined in other functions or in the main program. "
   ]
  },
  {
   "cell_type": "markdown",
   "metadata": {},
   "source": [
    "### <a id='#5.1.2.'> 5.1.2. Basic structure of a function </a> \n",
    "A function requires **parameters**, **code** to execute and the **return** function. The **def** keyword introduces a new Python function definition.\n",
    "\n",
    "This is the basic structure:\n",
    "<br><br>\n",
    "\n",
    "<font size=\"4\">\n",
    "def name_function<font color='green'>( parameter1, parameter2 )</font>: <br> <br>\n",
    "&nbsp;&nbsp;&nbsp;&nbsp;Code<br><br>\n",
    "&nbsp;&nbsp;&nbsp;&nbsp;<font color='green'>return</font> final_output<br>\n",
    "</font>"
   ]
  },
  {
   "cell_type": "code",
   "execution_count": 12,
   "metadata": {},
   "outputs": [],
   "source": [
    "import numpy as np"
   ]
  },
  {
   "cell_type": "code",
   "execution_count": 13,
   "metadata": {},
   "outputs": [],
   "source": [
    "def calculator(x, y):\n",
    "    \n",
    "    result  = x * y\n",
    "    \n",
    "    return result"
   ]
  },
  {
   "cell_type": "code",
   "execution_count": 14,
   "metadata": {},
   "outputs": [
    {
     "data": {
      "text/plain": [
       "54"
      ]
     },
     "execution_count": 14,
     "metadata": {},
     "output_type": "execute_result"
    }
   ],
   "source": [
    "calculator(18,3)"
   ]
  },
  {
   "cell_type": "code",
   "execution_count": 17,
   "metadata": {},
   "outputs": [],
   "source": [
    "def calculator(x,y,z):\n",
    "    \n",
    "    result = x * y * z\n",
    "    \n",
    "    return result"
   ]
  },
  {
   "cell_type": "code",
   "execution_count": 18,
   "metadata": {},
   "outputs": [
    {
     "data": {
      "text/plain": [
       "60040"
      ]
     },
     "execution_count": 18,
     "metadata": {},
     "output_type": "execute_result"
    }
   ],
   "source": [
    "calculator( 158, 38, 10 )"
   ]
  },
  {
   "cell_type": "code",
   "execution_count": 20,
   "metadata": {},
   "outputs": [
    {
     "ename": "TypeError",
     "evalue": "calculator() missing 1 required positional argument: 'z'",
     "output_type": "error",
     "traceback": [
      "\u001b[1;31m---------------------------------------------------------------------------\u001b[0m",
      "\u001b[1;31mTypeError\u001b[0m                                 Traceback (most recent call last)",
      "Cell \u001b[1;32mIn[20], line 1\u001b[0m\n\u001b[1;32m----> 1\u001b[0m calculator( \u001b[38;5;241m5\u001b[39m, \u001b[38;5;241m3\u001b[39m )\n",
      "\u001b[1;31mTypeError\u001b[0m: calculator() missing 1 required positional argument: 'z'"
     ]
    }
   ],
   "source": [
    "calculator( 5, 3 ) # le falta un argumento"
   ]
  },
  {
   "cell_type": "code",
   "execution_count": 22,
   "metadata": {},
   "outputs": [],
   "source": [
    "def calculator(x, y):\n",
    "    \n",
    "    if x < y:\n",
    "        print(\"division out range\")\n",
    "        result = np.nan\n",
    "    else: \n",
    "        result  = x/y\n",
    "    \n",
    "    return result"
   ]
  },
  {
   "cell_type": "code",
   "execution_count": 23,
   "metadata": {},
   "outputs": [
    {
     "data": {
      "text/plain": [
       "1.3333333333333333"
      ]
     },
     "execution_count": 23,
     "metadata": {},
     "output_type": "execute_result"
    }
   ],
   "source": [
    "calculator(4, 3)"
   ]
  },
  {
   "cell_type": "code",
   "execution_count": 25,
   "metadata": {},
   "outputs": [
    {
     "name": "stdout",
     "output_type": "stream",
     "text": [
      "division out range\n"
     ]
    },
    {
     "data": {
      "text/plain": [
       "nan"
      ]
     },
     "execution_count": 25,
     "metadata": {},
     "output_type": "execute_result"
    }
   ],
   "source": [
    "calculator(4,7)"
   ]
  },
  {
   "cell_type": "markdown",
   "metadata": {},
   "source": [
    "### <a id='#5.1.3.'>5.1.3. Function without `return` function </a> \n",
    "When we define a function without the `return` function, the generated function does not return any output."
   ]
  },
  {
   "cell_type": "code",
   "execution_count": 32,
   "metadata": {},
   "outputs": [],
   "source": [
    "def calculator_square( x, y ):\n",
    "    \n",
    "    x2 = x * x\n",
    "    y2 = y * y\n",
    "    \n",
    "    result = x2 * y2   \n",
    "    return result"
   ]
  },
  {
   "cell_type": "code",
   "execution_count": 33,
   "metadata": {},
   "outputs": [],
   "source": [
    "x2 = 5\n",
    "y2 = 10"
   ]
  },
  {
   "cell_type": "code",
   "execution_count": 34,
   "metadata": {},
   "outputs": [
    {
     "data": {
      "text/plain": [
       "2500"
      ]
     },
     "execution_count": 34,
     "metadata": {},
     "output_type": "execute_result"
    }
   ],
   "source": [
    "calculator_square( x2, y2 )"
   ]
  },
  {
   "cell_type": "code",
   "execution_count": 35,
   "metadata": {},
   "outputs": [],
   "source": [
    "def calculator_square2( x, y ):\n",
    "    \n",
    "    x2 = x * x\n",
    "    y2 = y * y\n",
    "    \n",
    "    result = x2 * y2   "
   ]
  },
  {
   "cell_type": "code",
   "execution_count": 36,
   "metadata": {},
   "outputs": [],
   "source": [
    "calculator_square2( x2, y2 ) # ejecuta acciones pero no indica el resultado porque no se ha indicado qué devolver"
   ]
  },
  {
   "cell_type": "markdown",
   "metadata": {},
   "source": [
    "### <a id='#5.1.5.'>5.1.5. Multiple objects for return </a> \n",
    "The output of a function can have several objects. These objects are stored in a tuple by default."
   ]
  },
  {
   "cell_type": "code",
   "execution_count": 41,
   "metadata": {},
   "outputs": [],
   "source": [
    "def calculator_square( x, y ):\n",
    "    \n",
    "    x2 = x * x\n",
    "    y2 = y * y\n",
    "    \n",
    "    result = x2 * y2   \n",
    "    \n",
    "    return result, x2, y2"
   ]
  },
  {
   "cell_type": "code",
   "execution_count": 44,
   "metadata": {},
   "outputs": [
    {
     "data": {
      "text/plain": [
       "(144, 9, 16)"
      ]
     },
     "execution_count": 44,
     "metadata": {},
     "output_type": "execute_result"
    }
   ],
   "source": [
    "mult = calculator_square(3, 4) # es una tupla, por defecto se almacena así el resultado de una función\n",
    "mult"
   ]
  },
  {
   "cell_type": "code",
   "execution_count": 46,
   "metadata": {},
   "outputs": [
    {
     "data": {
      "text/plain": [
       "tuple"
      ]
     },
     "execution_count": 46,
     "metadata": {},
     "output_type": "execute_result"
    }
   ],
   "source": [
    "type(mult)"
   ]
  },
  {
   "cell_type": "code",
   "execution_count": 47,
   "metadata": {},
   "outputs": [
    {
     "data": {
      "text/plain": [
       "16"
      ]
     },
     "execution_count": 47,
     "metadata": {},
     "output_type": "execute_result"
    }
   ],
   "source": [
    "mult[2]"
   ]
  },
  {
   "cell_type": "markdown",
   "metadata": {},
   "source": [
    "We can name the outputs in one line."
   ]
  },
  {
   "cell_type": "code",
   "execution_count": 48,
   "metadata": {},
   "outputs": [],
   "source": [
    "output_1 = mult[0]\n",
    "output_2 = mult[1]\n",
    "output_3 = mult[2]"
   ]
  },
  {
   "cell_type": "code",
   "execution_count": 49,
   "metadata": {},
   "outputs": [
    {
     "data": {
      "text/plain": [
       "9"
      ]
     },
     "execution_count": 49,
     "metadata": {},
     "output_type": "execute_result"
    }
   ],
   "source": [
    "output_2"
   ]
  },
  {
   "cell_type": "code",
   "execution_count": 61,
   "metadata": {},
   "outputs": [],
   "source": [
    "result5, x_2, y_2 = calculator_square( 3,4 ) # en una sola línea"
   ]
  },
  {
   "cell_type": "code",
   "execution_count": 62,
   "metadata": {},
   "outputs": [
    {
     "data": {
      "text/plain": [
       "144"
      ]
     },
     "execution_count": 62,
     "metadata": {},
     "output_type": "execute_result"
    }
   ],
   "source": [
    "result5"
   ]
  },
  {
   "cell_type": "code",
   "execution_count": 63,
   "metadata": {},
   "outputs": [
    {
     "data": {
      "text/plain": [
       "9"
      ]
     },
     "execution_count": 63,
     "metadata": {},
     "output_type": "execute_result"
    }
   ],
   "source": [
    "x_2"
   ]
  },
  {
   "cell_type": "code",
   "execution_count": 64,
   "metadata": {},
   "outputs": [
    {
     "data": {
      "text/plain": [
       "16"
      ]
     },
     "execution_count": 64,
     "metadata": {},
     "output_type": "execute_result"
    }
   ],
   "source": [
    "y_2"
   ]
  },
  {
   "cell_type": "markdown",
   "metadata": {},
   "source": [
    "### <a id='#5.1.5.'>5.1.5. If condition with return </a>"
   ]
  },
  {
   "cell_type": "code",
   "execution_count": 71,
   "metadata": {},
   "outputs": [],
   "source": [
    "def calculator_square( x, y ):\n",
    "    \n",
    "    x2 = x * x\n",
    "    y2 = y * y\n",
    "    \n",
    "    result = x2 * y2   \n",
    "    \n",
    "    if ( 200 >= result ):\n",
    "        return result, x2, y2\n",
    "    \n",
    "    elif ( 500 >= result > 200 ):\n",
    "        print( \"Large number. Get only the result variable\")\n",
    "        return result\n",
    "    \n",
    "    else:\n",
    "        print( \"Too large number. Do not return variables!\") # print no necesita error. Se usa para errores, porque puede imprimir cualquier cosa"
   ]
  },
  {
   "cell_type": "code",
   "execution_count": 72,
   "metadata": {},
   "outputs": [
    {
     "data": {
      "text/plain": [
       "(64, 4, 16)"
      ]
     },
     "execution_count": 72,
     "metadata": {},
     "output_type": "execute_result"
    }
   ],
   "source": [
    "calculator_square(2,4)"
   ]
  },
  {
   "cell_type": "code",
   "execution_count": 75,
   "metadata": {},
   "outputs": [
    {
     "data": {
      "text/plain": [
       "tuple"
      ]
     },
     "execution_count": 75,
     "metadata": {},
     "output_type": "execute_result"
    }
   ],
   "source": [
    "type(calculator_square(2,4))"
   ]
  },
  {
   "cell_type": "code",
   "execution_count": 73,
   "metadata": {},
   "outputs": [
    {
     "name": "stdout",
     "output_type": "stream",
     "text": [
      "Large number. Get only the result variable\n"
     ]
    },
    {
     "data": {
      "text/plain": [
       "400"
      ]
     },
     "execution_count": 73,
     "metadata": {},
     "output_type": "execute_result"
    }
   ],
   "source": [
    "calculator_square( 2, 10 )"
   ]
  },
  {
   "cell_type": "code",
   "execution_count": 76,
   "metadata": {},
   "outputs": [
    {
     "name": "stdout",
     "output_type": "stream",
     "text": [
      "Large number. Get only the result variable\n"
     ]
    },
    {
     "data": {
      "text/plain": [
       "int"
      ]
     },
     "execution_count": 76,
     "metadata": {},
     "output_type": "execute_result"
    }
   ],
   "source": [
    "type(calculator_square( 2, 10 ))"
   ]
  },
  {
   "cell_type": "code",
   "execution_count": 74,
   "metadata": {},
   "outputs": [
    {
     "name": "stdout",
     "output_type": "stream",
     "text": [
      "Too large number. Do not return variables!\n"
     ]
    }
   ],
   "source": [
    "calculator_square( 8, 10 )"
   ]
  },
  {
   "cell_type": "code",
   "execution_count": 77,
   "metadata": {},
   "outputs": [
    {
     "name": "stdout",
     "output_type": "stream",
     "text": [
      "Too large number. Do not return variables!\n"
     ]
    },
    {
     "data": {
      "text/plain": [
       "NoneType"
      ]
     },
     "execution_count": 77,
     "metadata": {},
     "output_type": "execute_result"
    }
   ],
   "source": [
    "type(calculator_square( 8, 10 ))"
   ]
  },
  {
   "cell_type": "markdown",
   "metadata": {},
   "source": [
    "### <a id='#5.1.6.'>5.1.6. Default values to parameters </a> \n",
    "We can define default values to parameters."
   ]
  },
  {
   "cell_type": "code",
   "execution_count": 78,
   "metadata": {},
   "outputs": [],
   "source": [
    "def calculator_base_10(x, y = 10):\n",
    "    result = x*y\n",
    "    return result"
   ]
  },
  {
   "cell_type": "code",
   "execution_count": 83,
   "metadata": {},
   "outputs": [
    {
     "data": {
      "text/plain": [
       "150"
      ]
     },
     "execution_count": 83,
     "metadata": {},
     "output_type": "execute_result"
    }
   ],
   "source": [
    "calculator_base_10(15) # asume que y=10"
   ]
  },
  {
   "cell_type": "code",
   "execution_count": 84,
   "metadata": {},
   "outputs": [
    {
     "data": {
      "text/plain": [
       "-45"
      ]
     },
     "execution_count": 84,
     "metadata": {},
     "output_type": "execute_result"
    }
   ],
   "source": [
    "calculator_base_10(15, -3)"
   ]
  },
  {
   "cell_type": "code",
   "execution_count": 90,
   "metadata": {},
   "outputs": [],
   "source": [
    "def calculator_base_5( x , y = 5 ): # asume que y=5, pero se puede usar otro valor de y\n",
    "    \n",
    "    result = x * y\n",
    "    \n",
    "    return result"
   ]
  },
  {
   "cell_type": "code",
   "execution_count": 91,
   "metadata": {},
   "outputs": [
    {
     "data": {
      "text/plain": [
       "35"
      ]
     },
     "execution_count": 91,
     "metadata": {},
     "output_type": "execute_result"
    }
   ],
   "source": [
    "result3 = calculator_base_5( 7 )\n",
    "result3"
   ]
  },
  {
   "cell_type": "code",
   "execution_count": 92,
   "metadata": {},
   "outputs": [
    {
     "data": {
      "text/plain": [
       "35"
      ]
     },
     "execution_count": 92,
     "metadata": {},
     "output_type": "execute_result"
    }
   ],
   "source": [
    "result3 = calculator_base_5( 7,5 )\n",
    "result3"
   ]
  },
  {
   "cell_type": "code",
   "execution_count": 93,
   "metadata": {},
   "outputs": [
    {
     "data": {
      "text/plain": [
       "70"
      ]
     },
     "execution_count": 93,
     "metadata": {},
     "output_type": "execute_result"
    }
   ],
   "source": [
    "result3 = calculator_base_5( 7,10 )\n",
    "result3"
   ]
  },
  {
   "cell_type": "markdown",
   "metadata": {},
   "source": [
    "### <a id='#5.1.7.'>5.1.7. Specify the type of a parameter and the type of the return type of a function </a> \n",
    "\n",
    "It is important to note that Python won't raise a TypeError if you pass a float into x, the reason for this is one of the main points in Python's design philosophy: \"We're all consenting adults here\", which means you are expected to be aware of what you can pass to a function and what you can't. If you really want to write code that throws TypeErrors you can use the isinstance function to check that the passed argument is of the proper type or a subclass of it like this:"
   ]
  },
  {
   "cell_type": "code",
   "execution_count": 108,
   "metadata": {},
   "outputs": [],
   "source": [
    "def calculator_base_5( x : int, y : float ) -> float:\n",
    "    \n",
    "    result = x * y\n",
    "    \n",
    "    return result\n",
    "\n",
    "# este código está incompleto porque no estamos diciendo qué hará si no cumple con el tipo de dato"
   ]
  },
  {
   "cell_type": "code",
   "execution_count": 109,
   "metadata": {},
   "outputs": [
    {
     "data": {
      "text/plain": [
       "150.0"
      ]
     },
     "execution_count": 109,
     "metadata": {},
     "output_type": "execute_result"
    }
   ],
   "source": [
    "calculator_base_5( 10, 15.0 )"
   ]
  },
  {
   "cell_type": "code",
   "execution_count": 110,
   "metadata": {},
   "outputs": [
    {
     "data": {
      "text/plain": [
       "5.22"
      ]
     },
     "execution_count": 110,
     "metadata": {},
     "output_type": "execute_result"
    }
   ],
   "source": [
    "calculator_base_5( 1.8, 2.9 )"
   ]
  },
  {
   "cell_type": "code",
   "execution_count": 111,
   "metadata": {},
   "outputs": [],
   "source": [
    "def calculator_base_5( x : int, y : float ) -> float: # es una buena práctica declarar tipo de objeto a pesar de que luego ya se aplican las restricciones con el if\n",
    "    \n",
    "    if not isinstance( x , int ):\n",
    "        raise TypeError( \"X variable is not int type.\")\n",
    "        \n",
    "    if not isinstance( y, float ):\n",
    "        raise TypeError( \"Y variable is not float type.\")\n",
    "\n",
    "    result = x * y\n",
    "    \n",
    "    return result"
   ]
  },
  {
   "cell_type": "code",
   "execution_count": 113,
   "metadata": {},
   "outputs": [
    {
     "data": {
      "text/plain": [
       "150.0"
      ]
     },
     "execution_count": 113,
     "metadata": {},
     "output_type": "execute_result"
    }
   ],
   "source": [
    "calculator_base_5( 10, 15.0 )"
   ]
  },
  {
   "cell_type": "code",
   "execution_count": 118,
   "metadata": {},
   "outputs": [
    {
     "ename": "TypeError",
     "evalue": "X variable is not int type.",
     "output_type": "error",
     "traceback": [
      "\u001b[1;31m---------------------------------------------------------------------------\u001b[0m",
      "\u001b[1;31mTypeError\u001b[0m                                 Traceback (most recent call last)",
      "Cell \u001b[1;32mIn[118], line 1\u001b[0m\n\u001b[1;32m----> 1\u001b[0m calculator_base_5( \u001b[38;5;241m1.8\u001b[39m, \u001b[38;5;241m2.9\u001b[39m )\n",
      "Cell \u001b[1;32mIn[111], line 4\u001b[0m, in \u001b[0;36mcalculator_base_5\u001b[1;34m(x, y)\u001b[0m\n\u001b[0;32m      1\u001b[0m \u001b[38;5;28;01mdef\u001b[39;00m \u001b[38;5;21mcalculator_base_5\u001b[39m( x : \u001b[38;5;28mint\u001b[39m, y : \u001b[38;5;28mfloat\u001b[39m ) \u001b[38;5;241m-\u001b[39m\u001b[38;5;241m>\u001b[39m \u001b[38;5;28mfloat\u001b[39m:\n\u001b[0;32m      3\u001b[0m     \u001b[38;5;28;01mif\u001b[39;00m \u001b[38;5;129;01mnot\u001b[39;00m \u001b[38;5;28misinstance\u001b[39m( x , \u001b[38;5;28mint\u001b[39m ):\n\u001b[1;32m----> 4\u001b[0m         \u001b[38;5;28;01mraise\u001b[39;00m \u001b[38;5;167;01mTypeError\u001b[39;00m( \u001b[38;5;124m\"\u001b[39m\u001b[38;5;124mX variable is not int type.\u001b[39m\u001b[38;5;124m\"\u001b[39m)\n\u001b[0;32m      6\u001b[0m     \u001b[38;5;28;01mif\u001b[39;00m \u001b[38;5;129;01mnot\u001b[39;00m \u001b[38;5;28misinstance\u001b[39m( y, \u001b[38;5;28mfloat\u001b[39m ):\n\u001b[0;32m      7\u001b[0m         \u001b[38;5;28;01mraise\u001b[39;00m \u001b[38;5;167;01mTypeError\u001b[39;00m( \u001b[38;5;124m\"\u001b[39m\u001b[38;5;124mY variable is not float type.\u001b[39m\u001b[38;5;124m\"\u001b[39m)\n",
      "\u001b[1;31mTypeError\u001b[0m: X variable is not int type."
     ]
    }
   ],
   "source": [
    "calculator_base_5( 1.8, 2.9 ) # X no es entero"
   ]
  },
  {
   "cell_type": "code",
   "execution_count": 119,
   "metadata": {},
   "outputs": [
    {
     "ename": "TypeError",
     "evalue": "Y variable is not float type.",
     "output_type": "error",
     "traceback": [
      "\u001b[1;31m---------------------------------------------------------------------------\u001b[0m",
      "\u001b[1;31mTypeError\u001b[0m                                 Traceback (most recent call last)",
      "Cell \u001b[1;32mIn[119], line 1\u001b[0m\n\u001b[1;32m----> 1\u001b[0m calculator_base_5( \u001b[38;5;241m2\u001b[39m, \u001b[38;5;241m3\u001b[39m)\n",
      "Cell \u001b[1;32mIn[111], line 7\u001b[0m, in \u001b[0;36mcalculator_base_5\u001b[1;34m(x, y)\u001b[0m\n\u001b[0;32m      4\u001b[0m     \u001b[38;5;28;01mraise\u001b[39;00m \u001b[38;5;167;01mTypeError\u001b[39;00m( \u001b[38;5;124m\"\u001b[39m\u001b[38;5;124mX variable is not int type.\u001b[39m\u001b[38;5;124m\"\u001b[39m)\n\u001b[0;32m      6\u001b[0m \u001b[38;5;28;01mif\u001b[39;00m \u001b[38;5;129;01mnot\u001b[39;00m \u001b[38;5;28misinstance\u001b[39m( y, \u001b[38;5;28mfloat\u001b[39m ):\n\u001b[1;32m----> 7\u001b[0m     \u001b[38;5;28;01mraise\u001b[39;00m \u001b[38;5;167;01mTypeError\u001b[39;00m( \u001b[38;5;124m\"\u001b[39m\u001b[38;5;124mY variable is not float type.\u001b[39m\u001b[38;5;124m\"\u001b[39m)\n\u001b[0;32m      9\u001b[0m result \u001b[38;5;241m=\u001b[39m x \u001b[38;5;241m*\u001b[39m y\n\u001b[0;32m     11\u001b[0m \u001b[38;5;28;01mreturn\u001b[39;00m result\n",
      "\u001b[1;31mTypeError\u001b[0m: Y variable is not float type."
     ]
    }
   ],
   "source": [
    "calculator_base_5( 2, 3) # X es entero pero Y no es flotante"
   ]
  },
  {
   "cell_type": "markdown",
   "metadata": {},
   "source": [
    "### <a id='#5.1.8.'>5.1.8. Local variables VS Global variables </a> \n",
    "\n",
    "|Variables|Definition|\n",
    "|---|---|\n",
    "|Global Variables| Variables declared outside a function.|\n",
    "|Local Variables | Variables declared inside a function.|\n",
    "\n",
    "The parameters and the variables created inside a function are local variables. They take values when the function is executed; however, they do not exist outside the function since they belong to a different namespace. A namespace is a system that has a unique name for every object in Python. When a Python function is called, a new namespace is created for that function, one that is distinct from all other namespaces that already exist. That is the reason we can use various functions with parameters and variables with the same name. Additionally, it explains why the variables generated inside a function do not exist outside the defined function namespace."
   ]
  },
  {
   "cell_type": "markdown",
   "metadata": {},
   "source": [
    "#### Example"
   ]
  },
  {
   "cell_type": "code",
   "execution_count": 121,
   "metadata": {},
   "outputs": [],
   "source": [
    "def lower_case(string2):\n",
    "\n",
    "    if not isinstance(string2,str):\n",
    "        raise TypeError(\"This is not a string\")\n",
    "\n",
    "    str_result = string2.lower()\n",
    "\n",
    "    return str_result"
   ]
  },
  {
   "cell_type": "code",
   "execution_count": 124,
   "metadata": {},
   "outputs": [
    {
     "data": {
      "text/plain": [
       "'eduardo'"
      ]
     },
     "execution_count": 124,
     "metadata": {},
     "output_type": "execute_result"
    }
   ],
   "source": [
    "lower_case('Eduardo')"
   ]
  },
  {
   "cell_type": "code",
   "execution_count": 125,
   "metadata": {},
   "outputs": [
    {
     "ename": "TypeError",
     "evalue": "This is not a string",
     "output_type": "error",
     "traceback": [
      "\u001b[1;31m---------------------------------------------------------------------------\u001b[0m",
      "\u001b[1;31mTypeError\u001b[0m                                 Traceback (most recent call last)",
      "Cell \u001b[1;32mIn[125], line 1\u001b[0m\n\u001b[1;32m----> 1\u001b[0m lower_case(\u001b[38;5;241m33\u001b[39m)\n",
      "Cell \u001b[1;32mIn[121], line 4\u001b[0m, in \u001b[0;36mlower_case\u001b[1;34m(string2)\u001b[0m\n\u001b[0;32m      1\u001b[0m \u001b[38;5;28;01mdef\u001b[39;00m \u001b[38;5;21mlower_case\u001b[39m(string2):\n\u001b[0;32m      3\u001b[0m     \u001b[38;5;28;01mif\u001b[39;00m \u001b[38;5;129;01mnot\u001b[39;00m \u001b[38;5;28misinstance\u001b[39m(string2,\u001b[38;5;28mstr\u001b[39m):\n\u001b[1;32m----> 4\u001b[0m         \u001b[38;5;28;01mraise\u001b[39;00m \u001b[38;5;167;01mTypeError\u001b[39;00m(\u001b[38;5;124m\"\u001b[39m\u001b[38;5;124mThis is not a string\u001b[39m\u001b[38;5;124m\"\u001b[39m)\n\u001b[0;32m      6\u001b[0m     str_result \u001b[38;5;241m=\u001b[39m string2\u001b[38;5;241m.\u001b[39mlower()\n\u001b[0;32m      8\u001b[0m     \u001b[38;5;28;01mreturn\u001b[39;00m str_result\n",
      "\u001b[1;31mTypeError\u001b[0m: This is not a string"
     ]
    }
   ],
   "source": [
    "lower_case(33)"
   ]
  },
  {
   "cell_type": "code",
   "execution_count": 130,
   "metadata": {},
   "outputs": [],
   "source": [
    "def lower_case(string2):\n",
    "\n",
    "    if not isinstance(string2,str):\n",
    "        raise TypeError(\"This is not a string\")\n",
    "\n",
    "    str_result = string2.lower() # str_result es una variable local. Solo existe dentro de la función\n",
    "    result2 = str_result + \"is 30 years old\" # result2 es una variable local. Solo existe dentro de la función\n",
    "\n",
    "    return result2\n",
    "    # print devuelve como una foto del return pero no permite acceder a los elementos que lo contienen"
   ]
  },
  {
   "cell_type": "code",
   "execution_count": 131,
   "metadata": {},
   "outputs": [
    {
     "data": {
      "text/plain": [
       "'eduardois 30 years old'"
      ]
     },
     "execution_count": 131,
     "metadata": {},
     "output_type": "execute_result"
    }
   ],
   "source": [
    "lower_case('Eduardo')"
   ]
  },
  {
   "cell_type": "code",
   "execution_count": 132,
   "metadata": {},
   "outputs": [
    {
     "data": {
      "text/plain": [
       "'EDUARDO'"
      ]
     },
     "execution_count": 132,
     "metadata": {},
     "output_type": "execute_result"
    }
   ],
   "source": [
    "name = \"EDUARDO\" # ejemplo de variable global. Se puede llamar en cualquier celda y va a correr\n",
    "name"
   ]
  },
  {
   "cell_type": "code",
   "execution_count": 134,
   "metadata": {},
   "outputs": [
    {
     "ename": "NameError",
     "evalue": "name 'str_result' is not defined",
     "output_type": "error",
     "traceback": [
      "\u001b[1;31m---------------------------------------------------------------------------\u001b[0m",
      "\u001b[1;31mNameError\u001b[0m                                 Traceback (most recent call last)",
      "Cell \u001b[1;32mIn[134], line 1\u001b[0m\n\u001b[1;32m----> 1\u001b[0m str_result\n",
      "\u001b[1;31mNameError\u001b[0m: name 'str_result' is not defined"
     ]
    }
   ],
   "source": [
    "str_result # str_result es una variable local. Solo existe dentro de la función"
   ]
  },
  {
   "cell_type": "code",
   "execution_count": 147,
   "metadata": {},
   "outputs": [
    {
     "data": {
      "text/plain": [
       "'C:\\\\Users\\\\jesus\\\\Documents\\\\GitHub\\\\Diplomado_PUCP\\\\Lecture_5'"
      ]
     },
     "execution_count": 147,
     "metadata": {},
     "output_type": "execute_result"
    }
   ],
   "source": [
    "pwd # nos devuelve el working directory"
   ]
  },
  {
   "cell_type": "code",
   "execution_count": 148,
   "metadata": {},
   "outputs": [],
   "source": [
    "%run \"function_1.ipynb\""
   ]
  },
  {
   "cell_type": "code",
   "execution_count": 149,
   "metadata": {},
   "outputs": [
    {
     "data": {
      "text/plain": [
       "'adriana'"
      ]
     },
     "execution_count": 149,
     "metadata": {},
     "output_type": "execute_result"
    }
   ],
   "source": [
    "lower_case_2( \"ADRIANA\")"
   ]
  },
  {
   "cell_type": "code",
   "execution_count": 150,
   "metadata": {},
   "outputs": [
    {
     "data": {
      "text/plain": [
       "'diploma'"
      ]
     },
     "execution_count": 150,
     "metadata": {},
     "output_type": "execute_result"
    }
   ],
   "source": [
    "result2 = lower_case_2( \"DIPLOMA\")\n",
    "result2"
   ]
  },
  {
   "cell_type": "markdown",
   "metadata": {},
   "source": [
    "Now, we try to call the variable `str_result`."
   ]
  },
  {
   "cell_type": "code",
   "execution_count": 35,
   "metadata": {},
   "outputs": [
    {
     "ename": "NameError",
     "evalue": "name 'str_result' is not defined",
     "output_type": "error",
     "traceback": [
      "\u001b[1;31m---------------------------------------------------------------------------\u001b[0m",
      "\u001b[1;31mNameError\u001b[0m                                 Traceback (most recent call last)",
      "\u001b[1;32mC:\\Users\\ALEXAN~1\\AppData\\Local\\Temp/ipykernel_9200/2404635967.py\u001b[0m in \u001b[0;36m<module>\u001b[1;34m\u001b[0m\n\u001b[1;32m----> 1\u001b[1;33m \u001b[0mstr_result\u001b[0m\u001b[1;33m\u001b[0m\u001b[1;33m\u001b[0m\u001b[0m\n\u001b[0m",
      "\u001b[1;31mNameError\u001b[0m: name 'str_result' is not defined"
     ]
    }
   ],
   "source": [
    "str_result"
   ]
  },
  {
   "cell_type": "markdown",
   "metadata": {},
   "source": [
    "We can see that `str_result` is not defined. It does not exist in the main space. It was defined in the namespace of **lower_case**. In concluion, `str_result` is a local variable. <br>\n",
    "`result2` is a global variable."
   ]
  },
  {
   "cell_type": "markdown",
   "metadata": {},
   "source": [
    "### <a id='#5.1.9.'>5.1.9. Args </a> \n",
    "\n",
    "The special syntax **\\*args** in function definitions in python is used to pass a variable number of arguments to a function. The object **\\*args** is a **tuple** that contains all the arguments. When you build your code, you should consider **\\*args** as a **tuple**."
   ]
  },
  {
   "cell_type": "code",
   "execution_count": 36,
   "metadata": {},
   "outputs": [],
   "source": [
    "def calculator( *args ):\n",
    "    \n",
    "    print( f\"args is a {type( args )}\" )\n",
    "    # Get the first value\n",
    "    result = args[ 0 ]\n",
    "    \n",
    "    # Keep the rest of values\n",
    "    args1 = args[ 1: ]\n",
    "    \n",
    "    # multiply all elements\n",
    "    for element in args1:\n",
    "        result = result * element\n",
    "    \n",
    "    return result"
   ]
  },
  {
   "cell_type": "markdown",
   "metadata": {},
   "source": [
    "In this example, the values `8, 9, 50 and 40` are storing in a list."
   ]
  },
  {
   "cell_type": "code",
   "execution_count": 37,
   "metadata": {},
   "outputs": [
    {
     "name": "stdout",
     "output_type": "stream",
     "text": [
      "args is a <class 'tuple'>\n"
     ]
    },
    {
     "data": {
      "text/plain": [
       "24480000"
      ]
     },
     "execution_count": 37,
     "metadata": {},
     "output_type": "execute_result"
    }
   ],
   "source": [
    "calculator( 8, 9, 50, 40, 10, 17 )"
   ]
  },
  {
   "cell_type": "markdown",
   "metadata": {},
   "source": [
    "We can use **\\*args** with a different name (e.g., **\\*list_vars** ). We should keep the asterisk (**\\***)."
   ]
  },
  {
   "cell_type": "code",
   "execution_count": 155,
   "metadata": {},
   "outputs": [],
   "source": [
    "def calculator( *list_vars ):\n",
    "    \n",
    "    print( f\"args is a { type( list_vars ) }\" )\n",
    "    # Get the first value\n",
    "    result = list_vars[ 0 ]\n",
    "    \n",
    "    # Keep the rest of values\n",
    "    list_vars1 = list_vars[ 1: ]\n",
    "    \n",
    "    # multiply all elements\n",
    "    for element in list_vars1:\n",
    "        result = result * element\n",
    "    \n",
    "    return result"
   ]
  },
  {
   "cell_type": "code",
   "execution_count": 158,
   "metadata": {},
   "outputs": [
    {
     "name": "stdout",
     "output_type": "stream",
     "text": [
      "args is a <class 'tuple'>\n"
     ]
    },
    {
     "data": {
      "text/plain": [
       "24"
      ]
     },
     "execution_count": 158,
     "metadata": {},
     "output_type": "execute_result"
    }
   ],
   "source": [
    "calculator( 2, 3, 4 )"
   ]
  },
  {
   "cell_type": "markdown",
   "metadata": {},
   "source": [
    "### <a id='#5.1.10.'>5.1.10. Kwargs </a> \n",
    "\n",
    "The special syntax **\\*kwargs** in function definitions in python is used to pass a keyworded, variable-length argument list. We use the name kwargs with the double star. The reason is because the double star allows us to pass through keyword arguments (and any number of them)."
   ]
  },
  {
   "cell_type": "code",
   "execution_count": 166,
   "metadata": {},
   "outputs": [],
   "source": [
    "def calculator( *list_vars, **kwargs):\n",
    "    \n",
    "    print( type( list_vars ) )\n",
    "    print( type( kwargs ) )\n",
    "    \n",
    "    if ( kwargs[ 'function' ] == \"Potencia\" ) :\n",
    "        \n",
    "        # Get the first value\n",
    "        result =  [x ** 2 for x in list_vars]\n",
    "    \n",
    "    elif ( kwargs[ 'function' ] == \"multiplication\" ) :\n",
    "\n",
    "        # Get the first value\n",
    "        result = list_vars[ 0 ]\n",
    "\n",
    "        # Keep the rest of values\n",
    "        list_vars2 = list_vars[ 1: ]\n",
    "\n",
    "        # multiply all elements\n",
    "        for element in list_vars2:\n",
    "            result = result * element\n",
    "    else:\n",
    "        raise ValueError( f\"The function argument {kwargs[ 'function' ]} is not supported.\" )\n",
    "\n",
    "    return result"
   ]
  },
  {
   "cell_type": "code",
   "execution_count": 168,
   "metadata": {},
   "outputs": [
    {
     "name": "stdout",
     "output_type": "stream",
     "text": [
      "<class 'tuple'>\n",
      "<class 'dict'>\n"
     ]
    },
    {
     "ename": "ValueError",
     "evalue": "The function argument addition is not supported.",
     "output_type": "error",
     "traceback": [
      "\u001b[1;31m---------------------------------------------------------------------------\u001b[0m",
      "\u001b[1;31mValueError\u001b[0m                                Traceback (most recent call last)",
      "Cell \u001b[1;32mIn[168], line 1\u001b[0m\n\u001b[1;32m----> 1\u001b[0m calculator( \u001b[38;5;241m4\u001b[39m, \u001b[38;5;241m5\u001b[39m, \u001b[38;5;241m6\u001b[39m, \u001b[38;5;241m7\u001b[39m, \u001b[38;5;241m8\u001b[39m, function \u001b[38;5;241m=\u001b[39m \u001b[38;5;124m\"\u001b[39m\u001b[38;5;124maddition\u001b[39m\u001b[38;5;124m\"\u001b[39m )\n",
      "Cell \u001b[1;32mIn[166], line 23\u001b[0m, in \u001b[0;36mcalculator\u001b[1;34m(*list_vars, **kwargs)\u001b[0m\n\u001b[0;32m     21\u001b[0m         result \u001b[38;5;241m=\u001b[39m result \u001b[38;5;241m*\u001b[39m element\n\u001b[0;32m     22\u001b[0m \u001b[38;5;28;01melse\u001b[39;00m:\n\u001b[1;32m---> 23\u001b[0m     \u001b[38;5;28;01mraise\u001b[39;00m \u001b[38;5;167;01mValueError\u001b[39;00m( \u001b[38;5;124mf\u001b[39m\u001b[38;5;124m\"\u001b[39m\u001b[38;5;124mThe function argument \u001b[39m\u001b[38;5;132;01m{\u001b[39;00mkwargs[\u001b[38;5;250m \u001b[39m\u001b[38;5;124m'\u001b[39m\u001b[38;5;124mfunction\u001b[39m\u001b[38;5;124m'\u001b[39m\u001b[38;5;250m \u001b[39m]\u001b[38;5;132;01m}\u001b[39;00m\u001b[38;5;124m is not supported.\u001b[39m\u001b[38;5;124m\"\u001b[39m )\n\u001b[0;32m     25\u001b[0m \u001b[38;5;28;01mreturn\u001b[39;00m result\n",
      "\u001b[1;31mValueError\u001b[0m: The function argument addition is not supported."
     ]
    }
   ],
   "source": [
    "calculator( 4, 5, 6, 7, 8, function = \"addition\" )"
   ]
  },
  {
   "cell_type": "code",
   "execution_count": 169,
   "metadata": {},
   "outputs": [
    {
     "name": "stdout",
     "output_type": "stream",
     "text": [
      "<class 'tuple'>\n",
      "<class 'dict'>\n"
     ]
    },
    {
     "data": {
      "text/plain": [
       "[16, 25, 36, 49, 64]"
      ]
     },
     "execution_count": 169,
     "metadata": {},
     "output_type": "execute_result"
    }
   ],
   "source": [
    "calculator( 4, 5, 6, 7, 8, function = \"Potencia\" )"
   ]
  },
  {
   "cell_type": "markdown",
   "metadata": {},
   "source": [
    "## Exercise\n",
    "#### Importing a Dictionary"
   ]
  },
  {
   "cell_type": "markdown",
   "metadata": {},
   "source": [
    "The `places_result` dictionary stores information from a Google API request that aims to geolocate all the National Identity Management Commission establishments in Nigeria. We want to store the results in a Pandas DataFrame. We want to keep the name of the establishment and its coordiantes."
   ]
  },
  {
   "cell_type": "code",
   "execution_count": 170,
   "metadata": {},
   "outputs": [],
   "source": [
    "dictionary_places = open( r\"..\\_data\\places_result\", \"rb\")\n",
    "places_result = pickle.load( dictionary_places )"
   ]
  },
  {
   "cell_type": "code",
   "execution_count": 173,
   "metadata": {},
   "outputs": [
    {
     "data": {
      "text/plain": [
       "_io.BufferedReader"
      ]
     },
     "execution_count": 173,
     "metadata": {},
     "output_type": "execute_result"
    }
   ],
   "source": [
    "type(dictionary_places)"
   ]
  },
  {
   "cell_type": "code",
   "execution_count": 174,
   "metadata": {},
   "outputs": [
    {
     "data": {
      "text/plain": [
       "dict"
      ]
     },
     "execution_count": 174,
     "metadata": {},
     "output_type": "execute_result"
    }
   ],
   "source": [
    "# It is a dictionary\n",
    "type( places_result )"
   ]
  },
  {
   "cell_type": "code",
   "execution_count": 181,
   "metadata": {},
   "outputs": [
    {
     "data": {
      "text/plain": [
       "{'html_attributions': [],\n",
       " 'next_page_token': 'ATtYBwKsD44ikACuYIFZLubOdNIIWdAIxXy2OhBzJTfRccBDi0tPVL21H_G01zNM2JNUW9lQjrZACwKOIBlBJiMiHlciuUHx9S_Lv_8NiqR44zMKpT2v35l5zRxfsWFRLRILmSE69E4Oi-enZno9SqdzesrETnUPG2H9li8dBB-UKlMrsu0ClIZuA-5oahPJguyXEumxLl1L6gsS0uDkwLKFO5-YOu9Ito9IOHGBk0_5kZKy8t4r7KUanPeDBoIUGyf45_t50jTiniQHSWM0P9YuY0WbaYQJseCGhdofaSm5VJ7pSrwSkXnSOT8Z8LEFdzuWNuV50Ito1IznXcitssNmhisSaGnnPoP4DvQFKQDdoUeh6ceGL2Z2hVfVDBfg8ibsHneuG8u06BlaynyfIWWxoeEkSmD29TSFZlI0Oi_WS-gx5qxL9fP5dIr21qJ2dLveDdks7nXW7Q',\n",
       " 'results': [{'business_status': 'OPERATIONAL',\n",
       "   'formatted_address': '11 Sokode Crescent, Off Dalaba Street Zone 5, Wuse P. M. B, 18, Garki, Abuja',\n",
       "   'geometry': {'location': {'lat': 9.065977, 'lng': 7.4549606},\n",
       "    'viewport': {'northeast': {'lat': 9.067332429892723,\n",
       "      'lng': 7.456282779892721},\n",
       "     'southwest': {'lat': 9.064632770107277, 'lng': 7.453583120107277}}},\n",
       "   'icon': 'https://maps.gstatic.com/mapfiles/place_api/icons/v1/png_71/generic_business-71.png',\n",
       "   'name': 'National Identity Management Commission',\n",
       "   'opening_hours': {'open_now': True},\n",
       "   'photos': [{'height': 1080,\n",
       "     'html_attributions': ['<a href=\"https://maps.google.com/maps/contrib/110095172826797559117\">Fortune Arinze</a>'],\n",
       "     'photo_reference': 'ATtYBwJFIQDlN6k8vyZj110cimVvh4nTXv6EvKXdKFxADlM0hGQZiEYQQ9AoUou0ELBb7mfwaR21gXSXNCCqJUDRpFuRw1fRyZKx-Gnad4uNRcPpbYQJc02zsQ_bJ6ks3sSRbDpVjgPU9Azs6m94LCZ-dxNwc1DifQgFsuTpCMkbafcJpRe5',\n",
       "     'width': 1920}],\n",
       "   'place_id': 'ChIJwRTVOSELThARczd6MyuWUbs',\n",
       "   'plus_code': {'compound_code': '3F83+9X Abuja',\n",
       "    'global_code': '6FX93F83+9X'},\n",
       "   'rating': 3.8,\n",
       "   'reference': 'ChIJwRTVOSELThARczd6MyuWUbs',\n",
       "   'types': ['point_of_interest', 'establishment'],\n",
       "   'user_ratings_total': 315},\n",
       "  {'business_status': 'OPERATIONAL',\n",
       "   'formatted_address': 'Asa-Dam Rd, opp. Dangote Flour Mills, Ilorin',\n",
       "   'geometry': {'location': {'lat': 8.450151, 'lng': 4.542503},\n",
       "    'viewport': {'northeast': {'lat': 8.451072679892722,\n",
       "      'lng': 4.543705329892721},\n",
       "     'southwest': {'lat': 8.448373020107278, 'lng': 4.541005670107277}}},\n",
       "   'icon': 'https://maps.gstatic.com/mapfiles/place_api/icons/v1/png_71/generic_business-71.png',\n",
       "   'name': 'National Identity Management Commission (Nimc)',\n",
       "   'opening_hours': {'open_now': True},\n",
       "   'place_id': 'ChIJEZsSsTetNxAR1dg3wSeUrCA',\n",
       "   'plus_code': {'compound_code': 'FG2V+32 Ilorin',\n",
       "    'global_code': '6FW6FG2V+32'},\n",
       "   'rating': 4,\n",
       "   'reference': 'ChIJEZsSsTetNxAR1dg3wSeUrCA',\n",
       "   'types': ['point_of_interest', 'establishment'],\n",
       "   'user_ratings_total': 26},\n",
       "  {'business_status': 'OPERATIONAL',\n",
       "   'formatted_address': 'Lafia - Shandam Rd, Lafia',\n",
       "   'geometry': {'location': {'lat': 8.50573, 'lng': 8.531774799999999},\n",
       "    'viewport': {'northeast': {'lat': 8.506788579892724,\n",
       "      'lng': 8.53327222989272},\n",
       "     'southwest': {'lat': 8.50408892010728, 'lng': 8.530572570107276}}},\n",
       "   'icon': 'https://maps.gstatic.com/mapfiles/place_api/icons/v1/png_71/civic_building-71.png',\n",
       "   'name': 'National Identity Management Commission NIMC',\n",
       "   'opening_hours': {'open_now': True},\n",
       "   'photos': [{'height': 1836,\n",
       "     'html_attributions': ['<a href=\"https://maps.google.com/maps/contrib/104393542635093633733\">Masoyi Sanda</a>'],\n",
       "     'photo_reference': 'ATtYBwIfl7p_JCu_jTChsILGMNbdgW3LQJuzc3Q7AfKpS5TPVBbPc-hfIgCELQ128gU04umfKKZ7g8lW2iW5E-u-9dRmQZosYrIG33d3Y8H836p5zuB0bwF8w4njWDK7qxOWJd4UHCDryfIF2VS000TcSy2TBJMRkPwoTBBRRhS7QWbshUQ',\n",
       "     'width': 3264}],\n",
       "   'place_id': 'ChIJt-5bYuEGURARJyb82LfQ97A',\n",
       "   'plus_code': {'compound_code': 'GG4J+7P Lafia',\n",
       "    'global_code': '6FWCGG4J+7P'},\n",
       "   'rating': 3.7,\n",
       "   'reference': 'ChIJt-5bYuEGURARJyb82LfQ97A',\n",
       "   'types': ['point_of_interest', 'establishment'],\n",
       "   'user_ratings_total': 3},\n",
       "  {'business_status': 'OPERATIONAL',\n",
       "   'formatted_address': 'zone 3, No 4 Maputo St, Wuse, Abuja',\n",
       "   'geometry': {'location': {'lat': 9.058854499999999,\n",
       "     'lng': 7.468077600000001},\n",
       "    'viewport': {'northeast': {'lat': 9.06035997989272,\n",
       "      'lng': 7.469236379892722},\n",
       "     'southwest': {'lat': 9.057660320107276, 'lng': 7.466536720107278}}},\n",
       "   'icon': 'https://maps.gstatic.com/mapfiles/place_api/icons/v1/png_71/generic_business-71.png',\n",
       "   'name': 'National Identity Management Commission',\n",
       "   'opening_hours': {'open_now': True},\n",
       "   'photos': [{'height': 2448,\n",
       "     'html_attributions': ['<a href=\"https://maps.google.com/maps/contrib/100674673329877445887\">Jacks Elsa</a>'],\n",
       "     'photo_reference': 'ATtYBwJij2wOhrLJpbBNK9QrYoS8c2M1gOhx6yyoyQAMdOjLE9k0fS0Xvj7m_eNItu7AZ9yDeueNi6ma_BDvrHD6VGAnr7emPLl8hkFcvUWSFRL243BlQCkya5HV8G7ZSf3aGarHAzIVL__ifn-KdGiV5zPx-92EUP71EPNqqsjPXQzd_tHd',\n",
       "     'width': 3264}],\n",
       "   'place_id': 'ChIJbZxZhq4LThARg41HgXp5W2w',\n",
       "   'plus_code': {'compound_code': '3F59+G6 Abuja',\n",
       "    'global_code': '6FX93F59+G6'},\n",
       "   'rating': 3.3,\n",
       "   'reference': 'ChIJbZxZhq4LThARg41HgXp5W2w',\n",
       "   'types': ['point_of_interest', 'establishment'],\n",
       "   'user_ratings_total': 25},\n",
       "  {'business_status': 'OPERATIONAL',\n",
       "   'formatted_address': 'Lamingo Dam Road Plateau',\n",
       "   'geometry': {'location': {'lat': 9.895973, 'lng': 8.931434},\n",
       "    'viewport': {'northeast': {'lat': 9.8984195, 'lng': 8.9328039},\n",
       "     'southwest': {'lat': 9.895157499999998, 'lng': 8.927324300000002}}},\n",
       "   'icon': 'https://maps.gstatic.com/mapfiles/place_api/icons/v1/png_71/generic_business-71.png',\n",
       "   'name': 'National Identity Management Commission (Nimc)',\n",
       "   'opening_hours': {'open_now': True},\n",
       "   'place_id': 'ChIJUxzO3-lxUxARdZDox6KE6UQ',\n",
       "   'plus_code': {'compound_code': 'VWWJ+9H Jos', 'global_code': '6FXCVWWJ+9H'},\n",
       "   'rating': 0,\n",
       "   'reference': 'ChIJUxzO3-lxUxARdZDox6KE6UQ',\n",
       "   'types': ['point_of_interest', 'establishment'],\n",
       "   'user_ratings_total': 0},\n",
       "  {'business_status': 'OPERATIONAL',\n",
       "   'formatted_address': 'Jos',\n",
       "   'geometry': {'location': {'lat': 9.892294699999999, 'lng': 8.9175658},\n",
       "    'viewport': {'northeast': {'lat': 9.893702729892722,\n",
       "      'lng': 8.91888807989272},\n",
       "     'southwest': {'lat': 9.891003070107278, 'lng': 8.916188420107277}}},\n",
       "   'icon': 'https://maps.gstatic.com/mapfiles/place_api/icons/v1/png_71/generic_business-71.png',\n",
       "   'name': 'National Identity Management Commission',\n",
       "   'opening_hours': {'open_now': True},\n",
       "   'photos': [{'height': 1080,\n",
       "     'html_attributions': ['<a href=\"https://maps.google.com/maps/contrib/116242405272440066619\">Aliyu zainul abideen</a>'],\n",
       "     'photo_reference': 'ATtYBwIVUHiKOQDgxTQ2QmmZ_crlMVoZyVuM2D-V0WrjXUjVprk8lQyJofvO8zkIeiSQeRmY4XaSNG3nGlBW8KWzjQC-l0Ik4z3jfQvUT7OzutQnQbGs8FSfdBnJ9o7HAL4mS0TaCYLkOVf1uKrWsFcY9vpJhKTXR2ohgI_m0y8svTcw3lYx',\n",
       "     'width': 1920}],\n",
       "   'place_id': 'ChIJFWiUH-dzUxAR55hi-MYXLwg',\n",
       "   'plus_code': {'compound_code': 'VWR9+W2 Jos', 'global_code': '6FXCVWR9+W2'},\n",
       "   'rating': 3.3,\n",
       "   'reference': 'ChIJFWiUH-dzUxAR55hi-MYXLwg',\n",
       "   'types': ['point_of_interest', 'establishment'],\n",
       "   'user_ratings_total': 7},\n",
       "  {'business_status': 'OPERATIONAL',\n",
       "   'formatted_address': 'Kachia',\n",
       "   'geometry': {'location': {'lat': 9.8572331, 'lng': 7.967971899999998},\n",
       "    'viewport': {'northeast': {'lat': 9.858620379892722,\n",
       "      'lng': 7.969346929892722},\n",
       "     'southwest': {'lat': 9.855920720107278, 'lng': 7.966647270107278}}},\n",
       "   'icon': 'https://maps.gstatic.com/mapfiles/place_api/icons/v1/png_71/civic_building-71.png',\n",
       "   'name': 'National Identity Management Commission',\n",
       "   'place_id': 'ChIJ80U4ZjyJUhARGk5bZlIeNzY',\n",
       "   'plus_code': {'compound_code': 'VX49+V5 Kachia',\n",
       "    'global_code': '6FX9VX49+V5'},\n",
       "   'rating': 0,\n",
       "   'reference': 'ChIJ80U4ZjyJUhARGk5bZlIeNzY',\n",
       "   'types': ['point_of_interest', 'establishment'],\n",
       "   'user_ratings_total': 0},\n",
       "  {'business_status': 'OPERATIONAL',\n",
       "   'formatted_address': 'Jonah Jang Cres, High Level, Makurdi',\n",
       "   'geometry': {'location': {'lat': 7.711655800000001, 'lng': 8.5265235},\n",
       "    'viewport': {'northeast': {'lat': 7.712382379892722,\n",
       "      'lng': 8.528209429892721},\n",
       "     'southwest': {'lat': 7.709682720107278, 'lng': 8.525509770107277}}},\n",
       "   'icon': 'https://maps.gstatic.com/mapfiles/place_api/icons/v1/png_71/generic_business-71.png',\n",
       "   'name': 'National Identity Management Commission (Nimc)',\n",
       "   'opening_hours': {'open_now': True},\n",
       "   'photos': [{'height': 1080,\n",
       "     'html_attributions': ['<a href=\"https://maps.google.com/maps/contrib/104445494535423861947\">Slim Meyo</a>'],\n",
       "     'photo_reference': 'ATtYBwJeXnhqPGD9TZqZXgeKUGXdPoGolp_Cu5C7NVQypLuEP1DRjiGRAvJO6jALOvxLAAaWj0PloMHJ8QGhqjztdbsZt_ijY5SVH41GR_HJUdEkop-AVwk63zn7YYui23ChGgKAG6MlEZEDfxGC0YYaCcNvd53mjClysLjlyRx5RxWrbZlq',\n",
       "     'width': 1920}],\n",
       "   'place_id': 'ChIJ51B2sMGBUBARDKibZrme9gU',\n",
       "   'plus_code': {'compound_code': 'PG6G+MJ Makurdi',\n",
       "    'global_code': '6FVCPG6G+MJ'},\n",
       "   'rating': 3.2,\n",
       "   'reference': 'ChIJ51B2sMGBUBARDKibZrme9gU',\n",
       "   'types': ['point_of_interest', 'establishment'],\n",
       "   'user_ratings_total': 38},\n",
       "  {'business_status': 'OPERATIONAL',\n",
       "   'formatted_address': 'Kofar Kabuga, Kano',\n",
       "   'geometry': {'location': {'lat': 11.9899944, 'lng': 8.4891647},\n",
       "    'viewport': {'northeast': {'lat': 11.99139672989272,\n",
       "      'lng': 8.490334129892721},\n",
       "     'southwest': {'lat': 11.98869707010728, 'lng': 8.487634470107277}}},\n",
       "   'icon': 'https://maps.gstatic.com/mapfiles/place_api/icons/v1/png_71/civic_building-71.png',\n",
       "   'name': 'National Identity Management Commission',\n",
       "   'opening_hours': {'open_now': True},\n",
       "   'place_id': 'ChIJE0nEt4CArhERRs1UvLzYZjY',\n",
       "   'plus_code': {'compound_code': 'XFQQ+XM Kano',\n",
       "    'global_code': '7F3CXFQQ+XM'},\n",
       "   'rating': 4.4,\n",
       "   'reference': 'ChIJE0nEt4CArhERRs1UvLzYZjY',\n",
       "   'types': ['point_of_interest', 'establishment'],\n",
       "   'user_ratings_total': 12},\n",
       "  {'business_status': 'OPERATIONAL',\n",
       "   'formatted_address': '3 Abdulkadir ahmed Close (P.M.B 0281, Bauchi',\n",
       "   'geometry': {'location': {'lat': 10.310332, 'lng': 9.826602},\n",
       "    'viewport': {'northeast': {'lat': 10.31170367989272,\n",
       "      'lng': 9.827927879892721},\n",
       "     'southwest': {'lat': 10.30900402010728, 'lng': 9.825228220107277}}},\n",
       "   'icon': 'https://maps.gstatic.com/mapfiles/place_api/icons/v1/png_71/generic_business-71.png',\n",
       "   'name': 'National Identity Management Commission (Nimc)',\n",
       "   'opening_hours': {'open_now': True},\n",
       "   'photos': [{'height': 1920,\n",
       "     'html_attributions': ['<a href=\"https://maps.google.com/maps/contrib/102114576626040120313\">Mohammed Zahradeen Umar</a>'],\n",
       "     'photo_reference': 'ATtYBwJSbmIRViRXZKeV_TQ_B8hu_iBqeRs-Txj6v8U4OVWunuAQW6OIL1wqGTyW2n-vaZzhefImR-reLsLUpoR1Br6moOH0-RRHJE8JkniAiseTu3eMCmiDFQPI4rZpw_hdE2j26EdcuYTI7ZRBvoM4R5mvwhVsQkOc8epLe1-r_8wzrv0o',\n",
       "     'width': 1088}],\n",
       "   'place_id': 'ChIJ4X2l_AXXVBAR7v-eH-d9h3E',\n",
       "   'plus_code': {'compound_code': '8R6G+4J Bauchi',\n",
       "    'global_code': '7F2F8R6G+4J'},\n",
       "   'rating': 0,\n",
       "   'reference': 'ChIJ4X2l_AXXVBAR7v-eH-d9h3E',\n",
       "   'types': ['point_of_interest', 'establishment'],\n",
       "   'user_ratings_total': 0},\n",
       "  {'business_status': 'OPERATIONAL',\n",
       "   'formatted_address': 'Complex, Federal Secretariat, Kawo, Kaduna',\n",
       "   'geometry': {'location': {'lat': 10.592473, 'lng': 7.449456},\n",
       "    'viewport': {'northeast': {'lat': 10.59382137989272,\n",
       "      'lng': 7.450810429892722},\n",
       "     'southwest': {'lat': 10.59112172010728, 'lng': 7.448110770107278}}},\n",
       "   'icon': 'https://maps.gstatic.com/mapfiles/place_api/icons/v1/png_71/generic_business-71.png',\n",
       "   'name': 'National Identity Management Commission (Nimc)',\n",
       "   'opening_hours': {'open_now': True},\n",
       "   'place_id': 'ChIJyZiAR9q1shERK9gFL9AG44I',\n",
       "   'plus_code': {'compound_code': 'HCRX+XQ Kaduna',\n",
       "    'global_code': '7F29HCRX+XQ'},\n",
       "   'rating': 0,\n",
       "   'reference': 'ChIJyZiAR9q1shERK9gFL9AG44I',\n",
       "   'types': ['point_of_interest', 'establishment'],\n",
       "   'user_ratings_total': 0},\n",
       "  {'business_status': 'OPERATIONAL',\n",
       "   'formatted_address': 'Port-Hacourt Rd, New Owerri, Owerri',\n",
       "   'geometry': {'location': {'lat': 5.4717813, 'lng': 7.0083439},\n",
       "    'viewport': {'northeast': {'lat': 5.473014629892722,\n",
       "      'lng': 7.009477279892723},\n",
       "     'southwest': {'lat': 5.470314970107278, 'lng': 7.006777620107279}}},\n",
       "   'icon': 'https://maps.gstatic.com/mapfiles/place_api/icons/v1/png_71/civic_building-71.png',\n",
       "   'name': 'National Identity Management Center',\n",
       "   'opening_hours': {'open_now': True},\n",
       "   'place_id': 'ChIJ8-OsvX1ZQhARaNsdHakfc98',\n",
       "   'plus_code': {'compound_code': 'F2C5+P8 Owerri',\n",
       "    'global_code': '6FQ9F2C5+P8'},\n",
       "   'rating': 2.8,\n",
       "   'reference': 'ChIJ8-OsvX1ZQhARaNsdHakfc98',\n",
       "   'types': ['point_of_interest', 'establishment'],\n",
       "   'user_ratings_total': 13},\n",
       "  {'business_status': 'OPERATIONAL',\n",
       "   'formatted_address': '9 Obafemi Awolowo Way, Agidingbi, Ikeja',\n",
       "   'geometry': {'location': {'lat': 6.617086, 'lng': 3.357951},\n",
       "    'viewport': {'northeast': {'lat': 6.618298179892721,\n",
       "      'lng': 3.359587779892722},\n",
       "     'southwest': {'lat': 6.615598520107278, 'lng': 3.356888120107278}}},\n",
       "   'icon': 'https://maps.gstatic.com/mapfiles/place_api/icons/v1/png_71/civic_building-71.png',\n",
       "   'name': 'National Identity Management Commision (NIMC) Lagos',\n",
       "   'opening_hours': {'open_now': True},\n",
       "   'photos': [{'height': 2836,\n",
       "     'html_attributions': ['<a href=\"https://maps.google.com/maps/contrib/109021919043392669000\">Austin Chikwado Ofor</a>'],\n",
       "     'photo_reference': 'ATtYBwJBYZRHB7Qj5YQDHr7rtjw12kk6AEskj93CwDUdXYqbS_0gESwvsXrpOkt7z3jzIK5Sw841TjE-O3yi8koHIKbZME-AfPJAeUmcfVqWWt1aiw8MJNUSYqgbHU3ziJIrQTDG-mCfnJp16lfM7xWdBG7j604k6bQNuGnALPHNxv5F8C5h',\n",
       "     'width': 2358}],\n",
       "   'place_id': 'ChIJD34txsmTOxAR5AEgvWczmGI',\n",
       "   'plus_code': {'compound_code': 'J985+R5 Ikeja',\n",
       "    'global_code': '6FR5J985+R5'},\n",
       "   'rating': 3.4,\n",
       "   'reference': 'ChIJD34txsmTOxAR5AEgvWczmGI',\n",
       "   'types': ['point_of_interest', 'establishment'],\n",
       "   'user_ratings_total': 53},\n",
       "  {'business_status': 'OPERATIONAL',\n",
       "   'formatted_address': '1 Proda Road,Proda Junction, Emene industrial Layout',\n",
       "   'geometry': {'location': {'lat': 6.460105899999999,\n",
       "     'lng': 7.579008999999999},\n",
       "    'viewport': {'northeast': {'lat': 6.461432879892723,\n",
       "      'lng': 7.580321279892722},\n",
       "     'southwest': {'lat': 6.458733220107279, 'lng': 7.577621620107278}}},\n",
       "   'icon': 'https://maps.gstatic.com/mapfiles/place_api/icons/v1/png_71/generic_business-71.png',\n",
       "   'name': 'National Identity Management Commission',\n",
       "   'opening_hours': {'open_now': True},\n",
       "   'photos': [{'height': 2048,\n",
       "     'html_attributions': ['<a href=\"https://maps.google.com/maps/contrib/116030890989805302110\">onyi okeke</a>'],\n",
       "     'photo_reference': 'ATtYBwIQUn0GG77i135FPRC0LGHgjfXP9ylGJphR8-yenVgqZhOfVR479bgelIBxyLXH_bjcyqDZjH9MUj81-y3gScJCuRLzDLjHM-JzsVzRQusuT-_xOfMR2zuuIH50iYASvlPUl0sFqg2kn15k0QcxJNJAlkrSFxCMLULyY71nuTMMgJyU',\n",
       "     'width': 1152}],\n",
       "   'place_id': 'ChIJ87i9KbilRBARjzOeBDbKx-c',\n",
       "   'plus_code': {'compound_code': 'FH6H+2J Enugu',\n",
       "    'global_code': '6FR9FH6H+2J'},\n",
       "   'rating': 4,\n",
       "   'reference': 'ChIJ87i9KbilRBARjzOeBDbKx-c',\n",
       "   'types': ['point_of_interest', 'establishment'],\n",
       "   'user_ratings_total': 26},\n",
       "  {'business_status': 'OPERATIONAL',\n",
       "   'formatted_address': 'ITF House, 6, 3rd Floor, Adetokunbo Ademola Cres, Wuse 2, Abuja',\n",
       "   'geometry': {'location': {'lat': 9.07677, 'lng': 7.493777},\n",
       "    'viewport': {'northeast': {'lat': 9.078071879892722,\n",
       "      'lng': 7.495215229892723},\n",
       "     'southwest': {'lat': 9.075372220107278, 'lng': 7.492515570107279}}},\n",
       "   'icon': 'https://maps.gstatic.com/mapfiles/place_api/icons/v1/png_71/generic_business-71.png',\n",
       "   'name': 'National Identity Management Commission (Nimc)',\n",
       "   'opening_hours': {'open_now': True},\n",
       "   'place_id': 'ChIJu0OOSjELThAR4d7V7h1GgD4',\n",
       "   'plus_code': {'compound_code': '3FGV+PG Abuja',\n",
       "    'global_code': '6FX93FGV+PG'},\n",
       "   'rating': 3,\n",
       "   'reference': 'ChIJu0OOSjELThAR4d7V7h1GgD4',\n",
       "   'types': ['point_of_interest', 'establishment'],\n",
       "   'user_ratings_total': 1},\n",
       "  {'business_status': 'OPERATIONAL',\n",
       "   'formatted_address': 'Ndume bypass, Ndume',\n",
       "   'geometry': {'location': {'lat': 5.5025021, 'lng': 7.517955600000001},\n",
       "    'viewport': {'northeast': {'lat': 5.503745479892721,\n",
       "      'lng': 7.519157379892723},\n",
       "     'southwest': {'lat': 5.501045820107277, 'lng': 7.51645772010728}}},\n",
       "   'icon': 'https://maps.gstatic.com/mapfiles/place_api/icons/v1/png_71/civic_building-71.png',\n",
       "   'name': 'National Identity Management Commission Umuahia',\n",
       "   'opening_hours': {'open_now': True},\n",
       "   'place_id': 'ChIJyTS2v4zDQhARJtViYuKIT54',\n",
       "   'plus_code': {'compound_code': 'GG39+25 Ndume',\n",
       "    'global_code': '6FQ9GG39+25'},\n",
       "   'rating': 3.7,\n",
       "   'reference': 'ChIJyTS2v4zDQhARJtViYuKIT54',\n",
       "   'types': ['point_of_interest', 'establishment'],\n",
       "   'user_ratings_total': 3},\n",
       "  {'business_status': 'OPERATIONAL',\n",
       "   'formatted_address': 'Umueme, Port Harcourt',\n",
       "   'geometry': {'location': {'lat': 4.822006, 'lng': 7.0079724},\n",
       "    'viewport': {'northeast': {'lat': 4.823459929892723,\n",
       "      'lng': 7.009288279892722},\n",
       "     'southwest': {'lat': 4.820760270107279, 'lng': 7.006588620107278}}},\n",
       "   'icon': 'https://maps.gstatic.com/mapfiles/place_api/icons/v1/png_71/civic_building-71.png',\n",
       "   'name': 'National Identity Management Commission',\n",
       "   'opening_hours': {},\n",
       "   'photos': [{'height': 4608,\n",
       "     'html_attributions': ['<a href=\"https://maps.google.com/maps/contrib/105954586937635012132\">Eleje Chinwendu</a>'],\n",
       "     'photo_reference': 'ATtYBwIOfuc-0u9WGiezikS3NFNDwPONZ7VIZbCY1KT1bcnqG6ff0LCNGAe2UrFiBhhCzeeUB-qOZwrrJJz6UIZT1W7584e7Wm7M3hK-gAjHGQLMGQqmA37a1m43NF42cD9shp5u04UgOEL4nDb2sam_D6ct5Nr8OPnfR3yRKc4NRA3LgkwD',\n",
       "     'width': 2240}],\n",
       "   'place_id': 'ChIJ79K8E9bNaRARd51XXSlz0Kc',\n",
       "   'plus_code': {'compound_code': 'R2C5+R5 Port Harcourt',\n",
       "    'global_code': '6FP9R2C5+R5'},\n",
       "   'rating': 3.6,\n",
       "   'reference': 'ChIJ79K8E9bNaRARd51XXSlz0Kc',\n",
       "   'types': ['point_of_interest', 'establishment'],\n",
       "   'user_ratings_total': 12},\n",
       "  {'business_status': 'OPERATIONAL',\n",
       "   'formatted_address': 'Tal-Udu, FCE Junction Kano',\n",
       "   'geometry': {'location': {'lat': 11.988203, 'lng': 8.496804},\n",
       "    'viewport': {'northeast': {'lat': 11.98937482989272,\n",
       "      'lng': 8.498143229892724},\n",
       "     'southwest': {'lat': 11.98667517010728, 'lng': 8.49544357010728}}},\n",
       "   'icon': 'https://maps.gstatic.com/mapfiles/place_api/icons/v1/png_71/generic_business-71.png',\n",
       "   'name': 'National Identity Management Commission (Nimc)',\n",
       "   'opening_hours': {'open_now': True},\n",
       "   'place_id': 'ChIJRbzDx9CBrhERDCs5gEROpvQ',\n",
       "   'plus_code': {'compound_code': 'XFQW+7P Kano',\n",
       "    'global_code': '7F3CXFQW+7P'},\n",
       "   'rating': 5,\n",
       "   'reference': 'ChIJRbzDx9CBrhERDCs5gEROpvQ',\n",
       "   'types': ['point_of_interest', 'establishment'],\n",
       "   'user_ratings_total': 1},\n",
       "  {'business_status': 'OPERATIONAL',\n",
       "   'formatted_address': 'Bayajida Rd, Ungwan Munchi, Kaduna',\n",
       "   'geometry': {'location': {'lat': 10.5436173, 'lng': 7.4609879},\n",
       "    'viewport': {'northeast': {'lat': 10.54495552989272,\n",
       "      'lng': 7.46233667989272},\n",
       "     'southwest': {'lat': 10.54225587010728, 'lng': 7.459637020107277}}},\n",
       "   'icon': 'https://maps.gstatic.com/mapfiles/place_api/icons/v1/png_71/civic_building-71.png',\n",
       "   'name': 'National Identity Management Commission, Northwest Zonal Office',\n",
       "   'place_id': 'ChIJS98oGDi1shER1iS7xWsBExw',\n",
       "   'plus_code': {'compound_code': 'GFV6+C9 Kaduna',\n",
       "    'global_code': '7F29GFV6+C9'},\n",
       "   'rating': 2,\n",
       "   'reference': 'ChIJS98oGDi1shER1iS7xWsBExw',\n",
       "   'types': ['point_of_interest', 'establishment'],\n",
       "   'user_ratings_total': 1},\n",
       "  {'business_status': 'OPERATIONAL',\n",
       "   'formatted_address': '238 Port Harcourt - Aba Expy, Rumuokwurusi, Port Harcourt',\n",
       "   'geometry': {'location': {'lat': 4.8496083, 'lng': 7.0527365},\n",
       "    'viewport': {'northeast': {'lat': 4.850934679892722,\n",
       "      'lng': 7.054089179892721},\n",
       "     'southwest': {'lat': 4.848235020107278, 'lng': 7.051389520107278}}},\n",
       "   'icon': 'https://maps.gstatic.com/mapfiles/place_api/icons/v1/png_71/civic_building-71.png',\n",
       "   'name': 'National Identity Management Commission Nimc',\n",
       "   'opening_hours': {},\n",
       "   'place_id': 'ChIJgRk7A3nNaRAR61Ty7IIGSkU',\n",
       "   'plus_code': {'compound_code': 'R3X3+R3 Port Harcourt',\n",
       "    'global_code': '6FP9R3X3+R3'},\n",
       "   'rating': 3,\n",
       "   'reference': 'ChIJgRk7A3nNaRAR61Ty7IIGSkU',\n",
       "   'types': ['point_of_interest', 'establishment'],\n",
       "   'user_ratings_total': 4}],\n",
       " 'status': 'OK'}"
      ]
     },
     "execution_count": 181,
     "metadata": {},
     "output_type": "execute_result"
    }
   ],
   "source": [
    "places_result"
   ]
  },
  {
   "cell_type": "code",
   "execution_count": 180,
   "metadata": {},
   "outputs": [
    {
     "data": {
      "text/plain": [
       "[{'business_status': 'OPERATIONAL',\n",
       "  'formatted_address': '11 Sokode Crescent, Off Dalaba Street Zone 5, Wuse P. M. B, 18, Garki, Abuja',\n",
       "  'geometry': {'location': {'lat': 9.065977, 'lng': 7.4549606},\n",
       "   'viewport': {'northeast': {'lat': 9.067332429892723,\n",
       "     'lng': 7.456282779892721},\n",
       "    'southwest': {'lat': 9.064632770107277, 'lng': 7.453583120107277}}},\n",
       "  'icon': 'https://maps.gstatic.com/mapfiles/place_api/icons/v1/png_71/generic_business-71.png',\n",
       "  'name': 'National Identity Management Commission',\n",
       "  'opening_hours': {'open_now': True},\n",
       "  'photos': [{'height': 1080,\n",
       "    'html_attributions': ['<a href=\"https://maps.google.com/maps/contrib/110095172826797559117\">Fortune Arinze</a>'],\n",
       "    'photo_reference': 'ATtYBwJFIQDlN6k8vyZj110cimVvh4nTXv6EvKXdKFxADlM0hGQZiEYQQ9AoUou0ELBb7mfwaR21gXSXNCCqJUDRpFuRw1fRyZKx-Gnad4uNRcPpbYQJc02zsQ_bJ6ks3sSRbDpVjgPU9Azs6m94LCZ-dxNwc1DifQgFsuTpCMkbafcJpRe5',\n",
       "    'width': 1920}],\n",
       "  'place_id': 'ChIJwRTVOSELThARczd6MyuWUbs',\n",
       "  'plus_code': {'compound_code': '3F83+9X Abuja',\n",
       "   'global_code': '6FX93F83+9X'},\n",
       "  'rating': 3.8,\n",
       "  'reference': 'ChIJwRTVOSELThARczd6MyuWUbs',\n",
       "  'types': ['point_of_interest', 'establishment'],\n",
       "  'user_ratings_total': 315},\n",
       " {'business_status': 'OPERATIONAL',\n",
       "  'formatted_address': 'Asa-Dam Rd, opp. Dangote Flour Mills, Ilorin',\n",
       "  'geometry': {'location': {'lat': 8.450151, 'lng': 4.542503},\n",
       "   'viewport': {'northeast': {'lat': 8.451072679892722,\n",
       "     'lng': 4.543705329892721},\n",
       "    'southwest': {'lat': 8.448373020107278, 'lng': 4.541005670107277}}},\n",
       "  'icon': 'https://maps.gstatic.com/mapfiles/place_api/icons/v1/png_71/generic_business-71.png',\n",
       "  'name': 'National Identity Management Commission (Nimc)',\n",
       "  'opening_hours': {'open_now': True},\n",
       "  'place_id': 'ChIJEZsSsTetNxAR1dg3wSeUrCA',\n",
       "  'plus_code': {'compound_code': 'FG2V+32 Ilorin',\n",
       "   'global_code': '6FW6FG2V+32'},\n",
       "  'rating': 4,\n",
       "  'reference': 'ChIJEZsSsTetNxAR1dg3wSeUrCA',\n",
       "  'types': ['point_of_interest', 'establishment'],\n",
       "  'user_ratings_total': 26},\n",
       " {'business_status': 'OPERATIONAL',\n",
       "  'formatted_address': 'Lafia - Shandam Rd, Lafia',\n",
       "  'geometry': {'location': {'lat': 8.50573, 'lng': 8.531774799999999},\n",
       "   'viewport': {'northeast': {'lat': 8.506788579892724,\n",
       "     'lng': 8.53327222989272},\n",
       "    'southwest': {'lat': 8.50408892010728, 'lng': 8.530572570107276}}},\n",
       "  'icon': 'https://maps.gstatic.com/mapfiles/place_api/icons/v1/png_71/civic_building-71.png',\n",
       "  'name': 'National Identity Management Commission NIMC',\n",
       "  'opening_hours': {'open_now': True},\n",
       "  'photos': [{'height': 1836,\n",
       "    'html_attributions': ['<a href=\"https://maps.google.com/maps/contrib/104393542635093633733\">Masoyi Sanda</a>'],\n",
       "    'photo_reference': 'ATtYBwIfl7p_JCu_jTChsILGMNbdgW3LQJuzc3Q7AfKpS5TPVBbPc-hfIgCELQ128gU04umfKKZ7g8lW2iW5E-u-9dRmQZosYrIG33d3Y8H836p5zuB0bwF8w4njWDK7qxOWJd4UHCDryfIF2VS000TcSy2TBJMRkPwoTBBRRhS7QWbshUQ',\n",
       "    'width': 3264}],\n",
       "  'place_id': 'ChIJt-5bYuEGURARJyb82LfQ97A',\n",
       "  'plus_code': {'compound_code': 'GG4J+7P Lafia',\n",
       "   'global_code': '6FWCGG4J+7P'},\n",
       "  'rating': 3.7,\n",
       "  'reference': 'ChIJt-5bYuEGURARJyb82LfQ97A',\n",
       "  'types': ['point_of_interest', 'establishment'],\n",
       "  'user_ratings_total': 3},\n",
       " {'business_status': 'OPERATIONAL',\n",
       "  'formatted_address': 'zone 3, No 4 Maputo St, Wuse, Abuja',\n",
       "  'geometry': {'location': {'lat': 9.058854499999999,\n",
       "    'lng': 7.468077600000001},\n",
       "   'viewport': {'northeast': {'lat': 9.06035997989272,\n",
       "     'lng': 7.469236379892722},\n",
       "    'southwest': {'lat': 9.057660320107276, 'lng': 7.466536720107278}}},\n",
       "  'icon': 'https://maps.gstatic.com/mapfiles/place_api/icons/v1/png_71/generic_business-71.png',\n",
       "  'name': 'National Identity Management Commission',\n",
       "  'opening_hours': {'open_now': True},\n",
       "  'photos': [{'height': 2448,\n",
       "    'html_attributions': ['<a href=\"https://maps.google.com/maps/contrib/100674673329877445887\">Jacks Elsa</a>'],\n",
       "    'photo_reference': 'ATtYBwJij2wOhrLJpbBNK9QrYoS8c2M1gOhx6yyoyQAMdOjLE9k0fS0Xvj7m_eNItu7AZ9yDeueNi6ma_BDvrHD6VGAnr7emPLl8hkFcvUWSFRL243BlQCkya5HV8G7ZSf3aGarHAzIVL__ifn-KdGiV5zPx-92EUP71EPNqqsjPXQzd_tHd',\n",
       "    'width': 3264}],\n",
       "  'place_id': 'ChIJbZxZhq4LThARg41HgXp5W2w',\n",
       "  'plus_code': {'compound_code': '3F59+G6 Abuja',\n",
       "   'global_code': '6FX93F59+G6'},\n",
       "  'rating': 3.3,\n",
       "  'reference': 'ChIJbZxZhq4LThARg41HgXp5W2w',\n",
       "  'types': ['point_of_interest', 'establishment'],\n",
       "  'user_ratings_total': 25},\n",
       " {'business_status': 'OPERATIONAL',\n",
       "  'formatted_address': 'Lamingo Dam Road Plateau',\n",
       "  'geometry': {'location': {'lat': 9.895973, 'lng': 8.931434},\n",
       "   'viewport': {'northeast': {'lat': 9.8984195, 'lng': 8.9328039},\n",
       "    'southwest': {'lat': 9.895157499999998, 'lng': 8.927324300000002}}},\n",
       "  'icon': 'https://maps.gstatic.com/mapfiles/place_api/icons/v1/png_71/generic_business-71.png',\n",
       "  'name': 'National Identity Management Commission (Nimc)',\n",
       "  'opening_hours': {'open_now': True},\n",
       "  'place_id': 'ChIJUxzO3-lxUxARdZDox6KE6UQ',\n",
       "  'plus_code': {'compound_code': 'VWWJ+9H Jos', 'global_code': '6FXCVWWJ+9H'},\n",
       "  'rating': 0,\n",
       "  'reference': 'ChIJUxzO3-lxUxARdZDox6KE6UQ',\n",
       "  'types': ['point_of_interest', 'establishment'],\n",
       "  'user_ratings_total': 0},\n",
       " {'business_status': 'OPERATIONAL',\n",
       "  'formatted_address': 'Jos',\n",
       "  'geometry': {'location': {'lat': 9.892294699999999, 'lng': 8.9175658},\n",
       "   'viewport': {'northeast': {'lat': 9.893702729892722,\n",
       "     'lng': 8.91888807989272},\n",
       "    'southwest': {'lat': 9.891003070107278, 'lng': 8.916188420107277}}},\n",
       "  'icon': 'https://maps.gstatic.com/mapfiles/place_api/icons/v1/png_71/generic_business-71.png',\n",
       "  'name': 'National Identity Management Commission',\n",
       "  'opening_hours': {'open_now': True},\n",
       "  'photos': [{'height': 1080,\n",
       "    'html_attributions': ['<a href=\"https://maps.google.com/maps/contrib/116242405272440066619\">Aliyu zainul abideen</a>'],\n",
       "    'photo_reference': 'ATtYBwIVUHiKOQDgxTQ2QmmZ_crlMVoZyVuM2D-V0WrjXUjVprk8lQyJofvO8zkIeiSQeRmY4XaSNG3nGlBW8KWzjQC-l0Ik4z3jfQvUT7OzutQnQbGs8FSfdBnJ9o7HAL4mS0TaCYLkOVf1uKrWsFcY9vpJhKTXR2ohgI_m0y8svTcw3lYx',\n",
       "    'width': 1920}],\n",
       "  'place_id': 'ChIJFWiUH-dzUxAR55hi-MYXLwg',\n",
       "  'plus_code': {'compound_code': 'VWR9+W2 Jos', 'global_code': '6FXCVWR9+W2'},\n",
       "  'rating': 3.3,\n",
       "  'reference': 'ChIJFWiUH-dzUxAR55hi-MYXLwg',\n",
       "  'types': ['point_of_interest', 'establishment'],\n",
       "  'user_ratings_total': 7},\n",
       " {'business_status': 'OPERATIONAL',\n",
       "  'formatted_address': 'Kachia',\n",
       "  'geometry': {'location': {'lat': 9.8572331, 'lng': 7.967971899999998},\n",
       "   'viewport': {'northeast': {'lat': 9.858620379892722,\n",
       "     'lng': 7.969346929892722},\n",
       "    'southwest': {'lat': 9.855920720107278, 'lng': 7.966647270107278}}},\n",
       "  'icon': 'https://maps.gstatic.com/mapfiles/place_api/icons/v1/png_71/civic_building-71.png',\n",
       "  'name': 'National Identity Management Commission',\n",
       "  'place_id': 'ChIJ80U4ZjyJUhARGk5bZlIeNzY',\n",
       "  'plus_code': {'compound_code': 'VX49+V5 Kachia',\n",
       "   'global_code': '6FX9VX49+V5'},\n",
       "  'rating': 0,\n",
       "  'reference': 'ChIJ80U4ZjyJUhARGk5bZlIeNzY',\n",
       "  'types': ['point_of_interest', 'establishment'],\n",
       "  'user_ratings_total': 0},\n",
       " {'business_status': 'OPERATIONAL',\n",
       "  'formatted_address': 'Jonah Jang Cres, High Level, Makurdi',\n",
       "  'geometry': {'location': {'lat': 7.711655800000001, 'lng': 8.5265235},\n",
       "   'viewport': {'northeast': {'lat': 7.712382379892722,\n",
       "     'lng': 8.528209429892721},\n",
       "    'southwest': {'lat': 7.709682720107278, 'lng': 8.525509770107277}}},\n",
       "  'icon': 'https://maps.gstatic.com/mapfiles/place_api/icons/v1/png_71/generic_business-71.png',\n",
       "  'name': 'National Identity Management Commission (Nimc)',\n",
       "  'opening_hours': {'open_now': True},\n",
       "  'photos': [{'height': 1080,\n",
       "    'html_attributions': ['<a href=\"https://maps.google.com/maps/contrib/104445494535423861947\">Slim Meyo</a>'],\n",
       "    'photo_reference': 'ATtYBwJeXnhqPGD9TZqZXgeKUGXdPoGolp_Cu5C7NVQypLuEP1DRjiGRAvJO6jALOvxLAAaWj0PloMHJ8QGhqjztdbsZt_ijY5SVH41GR_HJUdEkop-AVwk63zn7YYui23ChGgKAG6MlEZEDfxGC0YYaCcNvd53mjClysLjlyRx5RxWrbZlq',\n",
       "    'width': 1920}],\n",
       "  'place_id': 'ChIJ51B2sMGBUBARDKibZrme9gU',\n",
       "  'plus_code': {'compound_code': 'PG6G+MJ Makurdi',\n",
       "   'global_code': '6FVCPG6G+MJ'},\n",
       "  'rating': 3.2,\n",
       "  'reference': 'ChIJ51B2sMGBUBARDKibZrme9gU',\n",
       "  'types': ['point_of_interest', 'establishment'],\n",
       "  'user_ratings_total': 38},\n",
       " {'business_status': 'OPERATIONAL',\n",
       "  'formatted_address': 'Kofar Kabuga, Kano',\n",
       "  'geometry': {'location': {'lat': 11.9899944, 'lng': 8.4891647},\n",
       "   'viewport': {'northeast': {'lat': 11.99139672989272,\n",
       "     'lng': 8.490334129892721},\n",
       "    'southwest': {'lat': 11.98869707010728, 'lng': 8.487634470107277}}},\n",
       "  'icon': 'https://maps.gstatic.com/mapfiles/place_api/icons/v1/png_71/civic_building-71.png',\n",
       "  'name': 'National Identity Management Commission',\n",
       "  'opening_hours': {'open_now': True},\n",
       "  'place_id': 'ChIJE0nEt4CArhERRs1UvLzYZjY',\n",
       "  'plus_code': {'compound_code': 'XFQQ+XM Kano', 'global_code': '7F3CXFQQ+XM'},\n",
       "  'rating': 4.4,\n",
       "  'reference': 'ChIJE0nEt4CArhERRs1UvLzYZjY',\n",
       "  'types': ['point_of_interest', 'establishment'],\n",
       "  'user_ratings_total': 12},\n",
       " {'business_status': 'OPERATIONAL',\n",
       "  'formatted_address': '3 Abdulkadir ahmed Close (P.M.B 0281, Bauchi',\n",
       "  'geometry': {'location': {'lat': 10.310332, 'lng': 9.826602},\n",
       "   'viewport': {'northeast': {'lat': 10.31170367989272,\n",
       "     'lng': 9.827927879892721},\n",
       "    'southwest': {'lat': 10.30900402010728, 'lng': 9.825228220107277}}},\n",
       "  'icon': 'https://maps.gstatic.com/mapfiles/place_api/icons/v1/png_71/generic_business-71.png',\n",
       "  'name': 'National Identity Management Commission (Nimc)',\n",
       "  'opening_hours': {'open_now': True},\n",
       "  'photos': [{'height': 1920,\n",
       "    'html_attributions': ['<a href=\"https://maps.google.com/maps/contrib/102114576626040120313\">Mohammed Zahradeen Umar</a>'],\n",
       "    'photo_reference': 'ATtYBwJSbmIRViRXZKeV_TQ_B8hu_iBqeRs-Txj6v8U4OVWunuAQW6OIL1wqGTyW2n-vaZzhefImR-reLsLUpoR1Br6moOH0-RRHJE8JkniAiseTu3eMCmiDFQPI4rZpw_hdE2j26EdcuYTI7ZRBvoM4R5mvwhVsQkOc8epLe1-r_8wzrv0o',\n",
       "    'width': 1088}],\n",
       "  'place_id': 'ChIJ4X2l_AXXVBAR7v-eH-d9h3E',\n",
       "  'plus_code': {'compound_code': '8R6G+4J Bauchi',\n",
       "   'global_code': '7F2F8R6G+4J'},\n",
       "  'rating': 0,\n",
       "  'reference': 'ChIJ4X2l_AXXVBAR7v-eH-d9h3E',\n",
       "  'types': ['point_of_interest', 'establishment'],\n",
       "  'user_ratings_total': 0},\n",
       " {'business_status': 'OPERATIONAL',\n",
       "  'formatted_address': 'Complex, Federal Secretariat, Kawo, Kaduna',\n",
       "  'geometry': {'location': {'lat': 10.592473, 'lng': 7.449456},\n",
       "   'viewport': {'northeast': {'lat': 10.59382137989272,\n",
       "     'lng': 7.450810429892722},\n",
       "    'southwest': {'lat': 10.59112172010728, 'lng': 7.448110770107278}}},\n",
       "  'icon': 'https://maps.gstatic.com/mapfiles/place_api/icons/v1/png_71/generic_business-71.png',\n",
       "  'name': 'National Identity Management Commission (Nimc)',\n",
       "  'opening_hours': {'open_now': True},\n",
       "  'place_id': 'ChIJyZiAR9q1shERK9gFL9AG44I',\n",
       "  'plus_code': {'compound_code': 'HCRX+XQ Kaduna',\n",
       "   'global_code': '7F29HCRX+XQ'},\n",
       "  'rating': 0,\n",
       "  'reference': 'ChIJyZiAR9q1shERK9gFL9AG44I',\n",
       "  'types': ['point_of_interest', 'establishment'],\n",
       "  'user_ratings_total': 0},\n",
       " {'business_status': 'OPERATIONAL',\n",
       "  'formatted_address': 'Port-Hacourt Rd, New Owerri, Owerri',\n",
       "  'geometry': {'location': {'lat': 5.4717813, 'lng': 7.0083439},\n",
       "   'viewport': {'northeast': {'lat': 5.473014629892722,\n",
       "     'lng': 7.009477279892723},\n",
       "    'southwest': {'lat': 5.470314970107278, 'lng': 7.006777620107279}}},\n",
       "  'icon': 'https://maps.gstatic.com/mapfiles/place_api/icons/v1/png_71/civic_building-71.png',\n",
       "  'name': 'National Identity Management Center',\n",
       "  'opening_hours': {'open_now': True},\n",
       "  'place_id': 'ChIJ8-OsvX1ZQhARaNsdHakfc98',\n",
       "  'plus_code': {'compound_code': 'F2C5+P8 Owerri',\n",
       "   'global_code': '6FQ9F2C5+P8'},\n",
       "  'rating': 2.8,\n",
       "  'reference': 'ChIJ8-OsvX1ZQhARaNsdHakfc98',\n",
       "  'types': ['point_of_interest', 'establishment'],\n",
       "  'user_ratings_total': 13},\n",
       " {'business_status': 'OPERATIONAL',\n",
       "  'formatted_address': '9 Obafemi Awolowo Way, Agidingbi, Ikeja',\n",
       "  'geometry': {'location': {'lat': 6.617086, 'lng': 3.357951},\n",
       "   'viewport': {'northeast': {'lat': 6.618298179892721,\n",
       "     'lng': 3.359587779892722},\n",
       "    'southwest': {'lat': 6.615598520107278, 'lng': 3.356888120107278}}},\n",
       "  'icon': 'https://maps.gstatic.com/mapfiles/place_api/icons/v1/png_71/civic_building-71.png',\n",
       "  'name': 'National Identity Management Commision (NIMC) Lagos',\n",
       "  'opening_hours': {'open_now': True},\n",
       "  'photos': [{'height': 2836,\n",
       "    'html_attributions': ['<a href=\"https://maps.google.com/maps/contrib/109021919043392669000\">Austin Chikwado Ofor</a>'],\n",
       "    'photo_reference': 'ATtYBwJBYZRHB7Qj5YQDHr7rtjw12kk6AEskj93CwDUdXYqbS_0gESwvsXrpOkt7z3jzIK5Sw841TjE-O3yi8koHIKbZME-AfPJAeUmcfVqWWt1aiw8MJNUSYqgbHU3ziJIrQTDG-mCfnJp16lfM7xWdBG7j604k6bQNuGnALPHNxv5F8C5h',\n",
       "    'width': 2358}],\n",
       "  'place_id': 'ChIJD34txsmTOxAR5AEgvWczmGI',\n",
       "  'plus_code': {'compound_code': 'J985+R5 Ikeja',\n",
       "   'global_code': '6FR5J985+R5'},\n",
       "  'rating': 3.4,\n",
       "  'reference': 'ChIJD34txsmTOxAR5AEgvWczmGI',\n",
       "  'types': ['point_of_interest', 'establishment'],\n",
       "  'user_ratings_total': 53},\n",
       " {'business_status': 'OPERATIONAL',\n",
       "  'formatted_address': '1 Proda Road,Proda Junction, Emene industrial Layout',\n",
       "  'geometry': {'location': {'lat': 6.460105899999999,\n",
       "    'lng': 7.579008999999999},\n",
       "   'viewport': {'northeast': {'lat': 6.461432879892723,\n",
       "     'lng': 7.580321279892722},\n",
       "    'southwest': {'lat': 6.458733220107279, 'lng': 7.577621620107278}}},\n",
       "  'icon': 'https://maps.gstatic.com/mapfiles/place_api/icons/v1/png_71/generic_business-71.png',\n",
       "  'name': 'National Identity Management Commission',\n",
       "  'opening_hours': {'open_now': True},\n",
       "  'photos': [{'height': 2048,\n",
       "    'html_attributions': ['<a href=\"https://maps.google.com/maps/contrib/116030890989805302110\">onyi okeke</a>'],\n",
       "    'photo_reference': 'ATtYBwIQUn0GG77i135FPRC0LGHgjfXP9ylGJphR8-yenVgqZhOfVR479bgelIBxyLXH_bjcyqDZjH9MUj81-y3gScJCuRLzDLjHM-JzsVzRQusuT-_xOfMR2zuuIH50iYASvlPUl0sFqg2kn15k0QcxJNJAlkrSFxCMLULyY71nuTMMgJyU',\n",
       "    'width': 1152}],\n",
       "  'place_id': 'ChIJ87i9KbilRBARjzOeBDbKx-c',\n",
       "  'plus_code': {'compound_code': 'FH6H+2J Enugu',\n",
       "   'global_code': '6FR9FH6H+2J'},\n",
       "  'rating': 4,\n",
       "  'reference': 'ChIJ87i9KbilRBARjzOeBDbKx-c',\n",
       "  'types': ['point_of_interest', 'establishment'],\n",
       "  'user_ratings_total': 26},\n",
       " {'business_status': 'OPERATIONAL',\n",
       "  'formatted_address': 'ITF House, 6, 3rd Floor, Adetokunbo Ademola Cres, Wuse 2, Abuja',\n",
       "  'geometry': {'location': {'lat': 9.07677, 'lng': 7.493777},\n",
       "   'viewport': {'northeast': {'lat': 9.078071879892722,\n",
       "     'lng': 7.495215229892723},\n",
       "    'southwest': {'lat': 9.075372220107278, 'lng': 7.492515570107279}}},\n",
       "  'icon': 'https://maps.gstatic.com/mapfiles/place_api/icons/v1/png_71/generic_business-71.png',\n",
       "  'name': 'National Identity Management Commission (Nimc)',\n",
       "  'opening_hours': {'open_now': True},\n",
       "  'place_id': 'ChIJu0OOSjELThAR4d7V7h1GgD4',\n",
       "  'plus_code': {'compound_code': '3FGV+PG Abuja',\n",
       "   'global_code': '6FX93FGV+PG'},\n",
       "  'rating': 3,\n",
       "  'reference': 'ChIJu0OOSjELThAR4d7V7h1GgD4',\n",
       "  'types': ['point_of_interest', 'establishment'],\n",
       "  'user_ratings_total': 1},\n",
       " {'business_status': 'OPERATIONAL',\n",
       "  'formatted_address': 'Ndume bypass, Ndume',\n",
       "  'geometry': {'location': {'lat': 5.5025021, 'lng': 7.517955600000001},\n",
       "   'viewport': {'northeast': {'lat': 5.503745479892721,\n",
       "     'lng': 7.519157379892723},\n",
       "    'southwest': {'lat': 5.501045820107277, 'lng': 7.51645772010728}}},\n",
       "  'icon': 'https://maps.gstatic.com/mapfiles/place_api/icons/v1/png_71/civic_building-71.png',\n",
       "  'name': 'National Identity Management Commission Umuahia',\n",
       "  'opening_hours': {'open_now': True},\n",
       "  'place_id': 'ChIJyTS2v4zDQhARJtViYuKIT54',\n",
       "  'plus_code': {'compound_code': 'GG39+25 Ndume',\n",
       "   'global_code': '6FQ9GG39+25'},\n",
       "  'rating': 3.7,\n",
       "  'reference': 'ChIJyTS2v4zDQhARJtViYuKIT54',\n",
       "  'types': ['point_of_interest', 'establishment'],\n",
       "  'user_ratings_total': 3},\n",
       " {'business_status': 'OPERATIONAL',\n",
       "  'formatted_address': 'Umueme, Port Harcourt',\n",
       "  'geometry': {'location': {'lat': 4.822006, 'lng': 7.0079724},\n",
       "   'viewport': {'northeast': {'lat': 4.823459929892723,\n",
       "     'lng': 7.009288279892722},\n",
       "    'southwest': {'lat': 4.820760270107279, 'lng': 7.006588620107278}}},\n",
       "  'icon': 'https://maps.gstatic.com/mapfiles/place_api/icons/v1/png_71/civic_building-71.png',\n",
       "  'name': 'National Identity Management Commission',\n",
       "  'opening_hours': {},\n",
       "  'photos': [{'height': 4608,\n",
       "    'html_attributions': ['<a href=\"https://maps.google.com/maps/contrib/105954586937635012132\">Eleje Chinwendu</a>'],\n",
       "    'photo_reference': 'ATtYBwIOfuc-0u9WGiezikS3NFNDwPONZ7VIZbCY1KT1bcnqG6ff0LCNGAe2UrFiBhhCzeeUB-qOZwrrJJz6UIZT1W7584e7Wm7M3hK-gAjHGQLMGQqmA37a1m43NF42cD9shp5u04UgOEL4nDb2sam_D6ct5Nr8OPnfR3yRKc4NRA3LgkwD',\n",
       "    'width': 2240}],\n",
       "  'place_id': 'ChIJ79K8E9bNaRARd51XXSlz0Kc',\n",
       "  'plus_code': {'compound_code': 'R2C5+R5 Port Harcourt',\n",
       "   'global_code': '6FP9R2C5+R5'},\n",
       "  'rating': 3.6,\n",
       "  'reference': 'ChIJ79K8E9bNaRARd51XXSlz0Kc',\n",
       "  'types': ['point_of_interest', 'establishment'],\n",
       "  'user_ratings_total': 12},\n",
       " {'business_status': 'OPERATIONAL',\n",
       "  'formatted_address': 'Tal-Udu, FCE Junction Kano',\n",
       "  'geometry': {'location': {'lat': 11.988203, 'lng': 8.496804},\n",
       "   'viewport': {'northeast': {'lat': 11.98937482989272,\n",
       "     'lng': 8.498143229892724},\n",
       "    'southwest': {'lat': 11.98667517010728, 'lng': 8.49544357010728}}},\n",
       "  'icon': 'https://maps.gstatic.com/mapfiles/place_api/icons/v1/png_71/generic_business-71.png',\n",
       "  'name': 'National Identity Management Commission (Nimc)',\n",
       "  'opening_hours': {'open_now': True},\n",
       "  'place_id': 'ChIJRbzDx9CBrhERDCs5gEROpvQ',\n",
       "  'plus_code': {'compound_code': 'XFQW+7P Kano', 'global_code': '7F3CXFQW+7P'},\n",
       "  'rating': 5,\n",
       "  'reference': 'ChIJRbzDx9CBrhERDCs5gEROpvQ',\n",
       "  'types': ['point_of_interest', 'establishment'],\n",
       "  'user_ratings_total': 1},\n",
       " {'business_status': 'OPERATIONAL',\n",
       "  'formatted_address': 'Bayajida Rd, Ungwan Munchi, Kaduna',\n",
       "  'geometry': {'location': {'lat': 10.5436173, 'lng': 7.4609879},\n",
       "   'viewport': {'northeast': {'lat': 10.54495552989272,\n",
       "     'lng': 7.46233667989272},\n",
       "    'southwest': {'lat': 10.54225587010728, 'lng': 7.459637020107277}}},\n",
       "  'icon': 'https://maps.gstatic.com/mapfiles/place_api/icons/v1/png_71/civic_building-71.png',\n",
       "  'name': 'National Identity Management Commission, Northwest Zonal Office',\n",
       "  'place_id': 'ChIJS98oGDi1shER1iS7xWsBExw',\n",
       "  'plus_code': {'compound_code': 'GFV6+C9 Kaduna',\n",
       "   'global_code': '7F29GFV6+C9'},\n",
       "  'rating': 2,\n",
       "  'reference': 'ChIJS98oGDi1shER1iS7xWsBExw',\n",
       "  'types': ['point_of_interest', 'establishment'],\n",
       "  'user_ratings_total': 1},\n",
       " {'business_status': 'OPERATIONAL',\n",
       "  'formatted_address': '238 Port Harcourt - Aba Expy, Rumuokwurusi, Port Harcourt',\n",
       "  'geometry': {'location': {'lat': 4.8496083, 'lng': 7.0527365},\n",
       "   'viewport': {'northeast': {'lat': 4.850934679892722,\n",
       "     'lng': 7.054089179892721},\n",
       "    'southwest': {'lat': 4.848235020107278, 'lng': 7.051389520107278}}},\n",
       "  'icon': 'https://maps.gstatic.com/mapfiles/place_api/icons/v1/png_71/civic_building-71.png',\n",
       "  'name': 'National Identity Management Commission Nimc',\n",
       "  'opening_hours': {},\n",
       "  'place_id': 'ChIJgRk7A3nNaRAR61Ty7IIGSkU',\n",
       "  'plus_code': {'compound_code': 'R3X3+R3 Port Harcourt',\n",
       "   'global_code': '6FP9R3X3+R3'},\n",
       "  'rating': 3,\n",
       "  'reference': 'ChIJgRk7A3nNaRAR61Ty7IIGSkU',\n",
       "  'types': ['point_of_interest', 'establishment'],\n",
       "  'user_ratings_total': 4}]"
      ]
     },
     "execution_count": 180,
     "metadata": {},
     "output_type": "execute_result"
    }
   ],
   "source": [
    "places_result['results']"
   ]
  },
  {
   "cell_type": "code",
   "execution_count": 175,
   "metadata": {},
   "outputs": [
    {
     "data": {
      "text/plain": [
       "{'business_status': 'OPERATIONAL',\n",
       " 'formatted_address': '11 Sokode Crescent, Off Dalaba Street Zone 5, Wuse P. M. B, 18, Garki, Abuja',\n",
       " 'geometry': {'location': {'lat': 9.065977, 'lng': 7.4549606},\n",
       "  'viewport': {'northeast': {'lat': 9.067332429892723,\n",
       "    'lng': 7.456282779892721},\n",
       "   'southwest': {'lat': 9.064632770107277, 'lng': 7.453583120107277}}},\n",
       " 'icon': 'https://maps.gstatic.com/mapfiles/place_api/icons/v1/png_71/generic_business-71.png',\n",
       " 'name': 'National Identity Management Commission',\n",
       " 'opening_hours': {'open_now': True},\n",
       " 'photos': [{'height': 1080,\n",
       "   'html_attributions': ['<a href=\"https://maps.google.com/maps/contrib/110095172826797559117\">Fortune Arinze</a>'],\n",
       "   'photo_reference': 'ATtYBwJFIQDlN6k8vyZj110cimVvh4nTXv6EvKXdKFxADlM0hGQZiEYQQ9AoUou0ELBb7mfwaR21gXSXNCCqJUDRpFuRw1fRyZKx-Gnad4uNRcPpbYQJc02zsQ_bJ6ks3sSRbDpVjgPU9Azs6m94LCZ-dxNwc1DifQgFsuTpCMkbafcJpRe5',\n",
       "   'width': 1920}],\n",
       " 'place_id': 'ChIJwRTVOSELThARczd6MyuWUbs',\n",
       " 'plus_code': {'compound_code': '3F83+9X Abuja', 'global_code': '6FX93F83+9X'},\n",
       " 'rating': 3.8,\n",
       " 'reference': 'ChIJwRTVOSELThARczd6MyuWUbs',\n",
       " 'types': ['point_of_interest', 'establishment'],\n",
       " 'user_ratings_total': 315}"
      ]
     },
     "execution_count": 175,
     "metadata": {},
     "output_type": "execute_result"
    }
   ],
   "source": [
    "places_result['results'][0]"
   ]
  },
  {
   "cell_type": "code",
   "execution_count": 178,
   "metadata": {},
   "outputs": [
    {
     "data": {
      "text/plain": [
       "'National Identity Management Commission NIMC'"
      ]
     },
     "execution_count": 178,
     "metadata": {},
     "output_type": "execute_result"
    }
   ],
   "source": [
    "places_result['results'][2]['name']"
   ]
  },
  {
   "cell_type": "code",
   "execution_count": 179,
   "metadata": {},
   "outputs": [
    {
     "name": "stdout",
     "output_type": "stream",
     "text": [
      "National Identity Management Commission\n",
      "National Identity Management Commission (Nimc)\n",
      "National Identity Management Commission NIMC\n",
      "National Identity Management Commission\n",
      "National Identity Management Commission (Nimc)\n",
      "National Identity Management Commission\n",
      "National Identity Management Commission\n",
      "National Identity Management Commission (Nimc)\n",
      "National Identity Management Commission\n",
      "National Identity Management Commission (Nimc)\n",
      "National Identity Management Commission (Nimc)\n",
      "National Identity Management Center\n",
      "National Identity Management Commision (NIMC) Lagos\n",
      "National Identity Management Commission\n",
      "National Identity Management Commission (Nimc)\n",
      "National Identity Management Commission Umuahia\n",
      "National Identity Management Commission\n",
      "National Identity Management Commission (Nimc)\n",
      "National Identity Management Commission, Northwest Zonal Office\n",
      "National Identity Management Commission Nimc\n"
     ]
    }
   ],
   "source": [
    "# See all the establishments\n",
    "\n",
    "i = 0\n",
    "print( places_result['results'][i]['name'] )\n",
    "\n",
    "while True:\n",
    "    try:\n",
    "        i = i + 1\n",
    "        print( places_result['results'][i]['name'] )\n",
    "    except:\n",
    "        break"
   ]
  },
  {
   "cell_type": "code",
   "execution_count": 153,
   "metadata": {},
   "outputs": [
    {
     "data": {
      "text/plain": [
       "{'lat': 9.065977, 'lng': 7.4549606}"
      ]
     },
     "execution_count": 153,
     "metadata": {},
     "output_type": "execute_result"
    }
   ],
   "source": [
    "# We want to iterate over all the results to get the location of every point\n",
    "places_result['results'][0]['geometry']['location']"
   ]
  },
  {
   "cell_type": "markdown",
   "metadata": {},
   "source": [
    "`places_result` is a nested dictionary. It is composed of a list, dictionary, and a dictionary."
   ]
  },
  {
   "cell_type": "markdown",
   "metadata": {},
   "source": [
    "First, we are going to do it using a for loop. We are not going to use a function. After we get our expected results, we will define a function."
   ]
  },
  {
   "cell_type": "markdown",
   "metadata": {},
   "source": [
    "##### We can do it lists"
   ]
  },
  {
   "cell_type": "code",
   "execution_count": 183,
   "metadata": {},
   "outputs": [],
   "source": [
    "from tqdm import tqdm"
   ]
  },
  {
   "cell_type": "code",
   "execution_count": 186,
   "metadata": {},
   "outputs": [
    {
     "name": "stderr",
     "output_type": "stream",
     "text": [
      "\n",
      "100%|███████████████████████████████████████████████████████████████████████████████| 20/20 [00:00<00:00, 19949.13it/s]\u001b[A\n"
     ]
    },
    {
     "data": {
      "text/plain": [
       "[0, 1, 2, 3, 4, 5, 6, 7, 8, 9, 10, 11, 12, 13, 14, 15, 16, 17, 18, 19]"
      ]
     },
     "execution_count": 186,
     "metadata": {},
     "output_type": "execute_result"
    }
   ],
   "source": [
    "results = places_result[ 'results' ]\n",
    "list(tqdm( range( 0 , len( results ) ) ))"
   ]
  },
  {
   "cell_type": "code",
   "execution_count": 156,
   "metadata": {},
   "outputs": [
    {
     "name": "stderr",
     "output_type": "stream",
     "text": [
      "100%|██████████████████████████████████████████████████████████████████████████████████████████| 20/20 [00:00<?, ?it/s]\n"
     ]
    },
    {
     "data": {
      "text/html": [
       "<div>\n",
       "<style scoped>\n",
       "    .dataframe tbody tr th:only-of-type {\n",
       "        vertical-align: middle;\n",
       "    }\n",
       "\n",
       "    .dataframe tbody tr th {\n",
       "        vertical-align: top;\n",
       "    }\n",
       "\n",
       "    .dataframe thead th {\n",
       "        text-align: right;\n",
       "    }\n",
       "</style>\n",
       "<table border=\"1\" class=\"dataframe\">\n",
       "  <thead>\n",
       "    <tr style=\"text-align: right;\">\n",
       "      <th></th>\n",
       "      <th>Institution</th>\n",
       "      <th>Latitud</th>\n",
       "      <th>Longitud</th>\n",
       "    </tr>\n",
       "  </thead>\n",
       "  <tbody>\n",
       "    <tr>\n",
       "      <th>0</th>\n",
       "      <td>National Identity Management Commission</td>\n",
       "      <td>9.065977</td>\n",
       "      <td>7.454961</td>\n",
       "    </tr>\n",
       "    <tr>\n",
       "      <th>1</th>\n",
       "      <td>National Identity Management Commission (Nimc)</td>\n",
       "      <td>8.450151</td>\n",
       "      <td>4.542503</td>\n",
       "    </tr>\n",
       "    <tr>\n",
       "      <th>2</th>\n",
       "      <td>National Identity Management Commission NIMC</td>\n",
       "      <td>8.505730</td>\n",
       "      <td>8.531775</td>\n",
       "    </tr>\n",
       "    <tr>\n",
       "      <th>3</th>\n",
       "      <td>National Identity Management Commission</td>\n",
       "      <td>9.058854</td>\n",
       "      <td>7.468078</td>\n",
       "    </tr>\n",
       "    <tr>\n",
       "      <th>4</th>\n",
       "      <td>National Identity Management Commission (Nimc)</td>\n",
       "      <td>9.895973</td>\n",
       "      <td>8.931434</td>\n",
       "    </tr>\n",
       "    <tr>\n",
       "      <th>5</th>\n",
       "      <td>National Identity Management Commission</td>\n",
       "      <td>9.892295</td>\n",
       "      <td>8.917566</td>\n",
       "    </tr>\n",
       "    <tr>\n",
       "      <th>6</th>\n",
       "      <td>National Identity Management Commission</td>\n",
       "      <td>9.857233</td>\n",
       "      <td>7.967972</td>\n",
       "    </tr>\n",
       "    <tr>\n",
       "      <th>7</th>\n",
       "      <td>National Identity Management Commission (Nimc)</td>\n",
       "      <td>7.711656</td>\n",
       "      <td>8.526523</td>\n",
       "    </tr>\n",
       "    <tr>\n",
       "      <th>8</th>\n",
       "      <td>National Identity Management Commission</td>\n",
       "      <td>11.989994</td>\n",
       "      <td>8.489165</td>\n",
       "    </tr>\n",
       "    <tr>\n",
       "      <th>9</th>\n",
       "      <td>National Identity Management Commission (Nimc)</td>\n",
       "      <td>10.310332</td>\n",
       "      <td>9.826602</td>\n",
       "    </tr>\n",
       "    <tr>\n",
       "      <th>10</th>\n",
       "      <td>National Identity Management Commission (Nimc)</td>\n",
       "      <td>10.592473</td>\n",
       "      <td>7.449456</td>\n",
       "    </tr>\n",
       "    <tr>\n",
       "      <th>11</th>\n",
       "      <td>National Identity Management Center</td>\n",
       "      <td>5.471781</td>\n",
       "      <td>7.008344</td>\n",
       "    </tr>\n",
       "    <tr>\n",
       "      <th>12</th>\n",
       "      <td>National Identity Management Commision (NIMC) ...</td>\n",
       "      <td>6.617086</td>\n",
       "      <td>3.357951</td>\n",
       "    </tr>\n",
       "    <tr>\n",
       "      <th>13</th>\n",
       "      <td>National Identity Management Commission</td>\n",
       "      <td>6.460106</td>\n",
       "      <td>7.579009</td>\n",
       "    </tr>\n",
       "    <tr>\n",
       "      <th>14</th>\n",
       "      <td>National Identity Management Commission (Nimc)</td>\n",
       "      <td>9.076770</td>\n",
       "      <td>7.493777</td>\n",
       "    </tr>\n",
       "    <tr>\n",
       "      <th>15</th>\n",
       "      <td>National Identity Management Commission Umuahia</td>\n",
       "      <td>5.502502</td>\n",
       "      <td>7.517956</td>\n",
       "    </tr>\n",
       "    <tr>\n",
       "      <th>16</th>\n",
       "      <td>National Identity Management Commission</td>\n",
       "      <td>4.822006</td>\n",
       "      <td>7.007972</td>\n",
       "    </tr>\n",
       "    <tr>\n",
       "      <th>17</th>\n",
       "      <td>National Identity Management Commission (Nimc)</td>\n",
       "      <td>11.988203</td>\n",
       "      <td>8.496804</td>\n",
       "    </tr>\n",
       "    <tr>\n",
       "      <th>18</th>\n",
       "      <td>National Identity Management Commission, North...</td>\n",
       "      <td>10.543617</td>\n",
       "      <td>7.460988</td>\n",
       "    </tr>\n",
       "    <tr>\n",
       "      <th>19</th>\n",
       "      <td>National Identity Management Commission Nimc</td>\n",
       "      <td>4.849608</td>\n",
       "      <td>7.052736</td>\n",
       "    </tr>\n",
       "  </tbody>\n",
       "</table>\n",
       "</div>"
      ],
      "text/plain": [
       "                                          Institution    Latitud  Longitud\n",
       "0             National Identity Management Commission   9.065977  7.454961\n",
       "1      National Identity Management Commission (Nimc)   8.450151  4.542503\n",
       "2        National Identity Management Commission NIMC   8.505730  8.531775\n",
       "3             National Identity Management Commission   9.058854  7.468078\n",
       "4      National Identity Management Commission (Nimc)   9.895973  8.931434\n",
       "5             National Identity Management Commission   9.892295  8.917566\n",
       "6             National Identity Management Commission   9.857233  7.967972\n",
       "7      National Identity Management Commission (Nimc)   7.711656  8.526523\n",
       "8             National Identity Management Commission  11.989994  8.489165\n",
       "9      National Identity Management Commission (Nimc)  10.310332  9.826602\n",
       "10     National Identity Management Commission (Nimc)  10.592473  7.449456\n",
       "11                National Identity Management Center   5.471781  7.008344\n",
       "12  National Identity Management Commision (NIMC) ...   6.617086  3.357951\n",
       "13            National Identity Management Commission   6.460106  7.579009\n",
       "14     National Identity Management Commission (Nimc)   9.076770  7.493777\n",
       "15    National Identity Management Commission Umuahia   5.502502  7.517956\n",
       "16            National Identity Management Commission   4.822006  7.007972\n",
       "17     National Identity Management Commission (Nimc)  11.988203  8.496804\n",
       "18  National Identity Management Commission, North...  10.543617  7.460988\n",
       "19       National Identity Management Commission Nimc   4.849608  7.052736"
      ]
     },
     "execution_count": 156,
     "metadata": {},
     "output_type": "execute_result"
    }
   ],
   "source": [
    "# Lists\n",
    "latitudes = []\n",
    "longitudes = []\n",
    "institutions = []\n",
    "\n",
    "\n",
    "# define all the results\n",
    "results = places_result[ 'results' ]\n",
    "# loop para guardar cada uno de los elementos\n",
    "for row in tqdm( range( 0 , len( results ) ) ):\n",
    "    \n",
    "    # latitude\n",
    "    lat = results[ row ]['geometry']['location']['lat']\n",
    "    \n",
    "    # Longitude\n",
    "    lng = results[ row ]['geometry']['location']['lng']\n",
    "    \n",
    "    # nombre de la institution\n",
    "    institution = results[ row ]['name']\n",
    "    \n",
    "    # Save results\n",
    "    latitudes.append( lat )\n",
    "    longitudes.append( lng )\n",
    "    institutions.append( institution )\n",
    "    \n",
    "# Diccionario\n",
    "final_result = { 'Institution': institutions, 'Latitud' : latitudes, 'Longitud' : longitudes }\n",
    "# Dataframe\n",
    "df_result = pd.DataFrame( final_result )\n",
    "df_result"
   ]
  },
  {
   "cell_type": "markdown",
   "metadata": {},
   "source": [
    "##### We can do it using iteration over rows of a DataFrame"
   ]
  },
  {
   "cell_type": "code",
   "execution_count": 157,
   "metadata": {},
   "outputs": [
    {
     "name": "stderr",
     "output_type": "stream",
     "text": [
      "100%|█████████████████████████████████████████████████████████████████████████████████| 20/20 [00:00<00:00, 466.35it/s]\n"
     ]
    },
    {
     "data": {
      "text/html": [
       "<div>\n",
       "<style scoped>\n",
       "    .dataframe tbody tr th:only-of-type {\n",
       "        vertical-align: middle;\n",
       "    }\n",
       "\n",
       "    .dataframe tbody tr th {\n",
       "        vertical-align: top;\n",
       "    }\n",
       "\n",
       "    .dataframe thead th {\n",
       "        text-align: right;\n",
       "    }\n",
       "</style>\n",
       "<table border=\"1\" class=\"dataframe\">\n",
       "  <thead>\n",
       "    <tr style=\"text-align: right;\">\n",
       "      <th></th>\n",
       "      <th>Institution</th>\n",
       "      <th>Latitude</th>\n",
       "      <th>Longitud</th>\n",
       "    </tr>\n",
       "  </thead>\n",
       "  <tbody>\n",
       "    <tr>\n",
       "      <th>0</th>\n",
       "      <td>National Identity Management Commission</td>\n",
       "      <td>9.065977</td>\n",
       "      <td>7.454961</td>\n",
       "    </tr>\n",
       "    <tr>\n",
       "      <th>1</th>\n",
       "      <td>National Identity Management Commission (Nimc)</td>\n",
       "      <td>8.450151</td>\n",
       "      <td>4.542503</td>\n",
       "    </tr>\n",
       "    <tr>\n",
       "      <th>2</th>\n",
       "      <td>National Identity Management Commission NIMC</td>\n",
       "      <td>8.505730</td>\n",
       "      <td>8.531775</td>\n",
       "    </tr>\n",
       "    <tr>\n",
       "      <th>3</th>\n",
       "      <td>National Identity Management Commission</td>\n",
       "      <td>9.058854</td>\n",
       "      <td>7.468078</td>\n",
       "    </tr>\n",
       "    <tr>\n",
       "      <th>4</th>\n",
       "      <td>National Identity Management Commission (Nimc)</td>\n",
       "      <td>9.895973</td>\n",
       "      <td>8.931434</td>\n",
       "    </tr>\n",
       "    <tr>\n",
       "      <th>5</th>\n",
       "      <td>National Identity Management Commission</td>\n",
       "      <td>9.892295</td>\n",
       "      <td>8.917566</td>\n",
       "    </tr>\n",
       "    <tr>\n",
       "      <th>6</th>\n",
       "      <td>National Identity Management Commission</td>\n",
       "      <td>9.857233</td>\n",
       "      <td>7.967972</td>\n",
       "    </tr>\n",
       "    <tr>\n",
       "      <th>7</th>\n",
       "      <td>National Identity Management Commission (Nimc)</td>\n",
       "      <td>7.711656</td>\n",
       "      <td>8.526523</td>\n",
       "    </tr>\n",
       "    <tr>\n",
       "      <th>8</th>\n",
       "      <td>National Identity Management Commission</td>\n",
       "      <td>11.989994</td>\n",
       "      <td>8.489165</td>\n",
       "    </tr>\n",
       "    <tr>\n",
       "      <th>9</th>\n",
       "      <td>National Identity Management Commission (Nimc)</td>\n",
       "      <td>10.310332</td>\n",
       "      <td>9.826602</td>\n",
       "    </tr>\n",
       "    <tr>\n",
       "      <th>10</th>\n",
       "      <td>National Identity Management Commission (Nimc)</td>\n",
       "      <td>10.592473</td>\n",
       "      <td>7.449456</td>\n",
       "    </tr>\n",
       "    <tr>\n",
       "      <th>11</th>\n",
       "      <td>National Identity Management Center</td>\n",
       "      <td>5.471781</td>\n",
       "      <td>7.008344</td>\n",
       "    </tr>\n",
       "    <tr>\n",
       "      <th>12</th>\n",
       "      <td>National Identity Management Commision (NIMC) ...</td>\n",
       "      <td>6.617086</td>\n",
       "      <td>3.357951</td>\n",
       "    </tr>\n",
       "    <tr>\n",
       "      <th>13</th>\n",
       "      <td>National Identity Management Commission</td>\n",
       "      <td>6.460106</td>\n",
       "      <td>7.579009</td>\n",
       "    </tr>\n",
       "    <tr>\n",
       "      <th>14</th>\n",
       "      <td>National Identity Management Commission (Nimc)</td>\n",
       "      <td>9.076770</td>\n",
       "      <td>7.493777</td>\n",
       "    </tr>\n",
       "    <tr>\n",
       "      <th>15</th>\n",
       "      <td>National Identity Management Commission Umuahia</td>\n",
       "      <td>5.502502</td>\n",
       "      <td>7.517956</td>\n",
       "    </tr>\n",
       "    <tr>\n",
       "      <th>16</th>\n",
       "      <td>National Identity Management Commission</td>\n",
       "      <td>4.822006</td>\n",
       "      <td>7.007972</td>\n",
       "    </tr>\n",
       "    <tr>\n",
       "      <th>17</th>\n",
       "      <td>National Identity Management Commission (Nimc)</td>\n",
       "      <td>11.988203</td>\n",
       "      <td>8.496804</td>\n",
       "    </tr>\n",
       "    <tr>\n",
       "      <th>18</th>\n",
       "      <td>National Identity Management Commission, North...</td>\n",
       "      <td>10.543617</td>\n",
       "      <td>7.460988</td>\n",
       "    </tr>\n",
       "    <tr>\n",
       "      <th>19</th>\n",
       "      <td>National Identity Management Commission Nimc</td>\n",
       "      <td>4.849608</td>\n",
       "      <td>7.052736</td>\n",
       "    </tr>\n",
       "  </tbody>\n",
       "</table>\n",
       "</div>"
      ],
      "text/plain": [
       "                                          Institution   Latitude  Longitud\n",
       "0             National Identity Management Commission   9.065977  7.454961\n",
       "1      National Identity Management Commission (Nimc)   8.450151  4.542503\n",
       "2        National Identity Management Commission NIMC   8.505730  8.531775\n",
       "3             National Identity Management Commission   9.058854  7.468078\n",
       "4      National Identity Management Commission (Nimc)   9.895973  8.931434\n",
       "5             National Identity Management Commission   9.892295  8.917566\n",
       "6             National Identity Management Commission   9.857233  7.967972\n",
       "7      National Identity Management Commission (Nimc)   7.711656  8.526523\n",
       "8             National Identity Management Commission  11.989994  8.489165\n",
       "9      National Identity Management Commission (Nimc)  10.310332  9.826602\n",
       "10     National Identity Management Commission (Nimc)  10.592473  7.449456\n",
       "11                National Identity Management Center   5.471781  7.008344\n",
       "12  National Identity Management Commision (NIMC) ...   6.617086  3.357951\n",
       "13            National Identity Management Commission   6.460106  7.579009\n",
       "14     National Identity Management Commission (Nimc)   9.076770  7.493777\n",
       "15    National Identity Management Commission Umuahia   5.502502  7.517956\n",
       "16            National Identity Management Commission   4.822006  7.007972\n",
       "17     National Identity Management Commission (Nimc)  11.988203  8.496804\n",
       "18  National Identity Management Commission, North...  10.543617  7.460988\n",
       "19       National Identity Management Commission Nimc   4.849608  7.052736"
      ]
     },
     "execution_count": 157,
     "metadata": {},
     "output_type": "execute_result"
    }
   ],
   "source": [
    "df2 = pd.DataFrame( columns = ['Institution','Latitude','Longitud'] )\n",
    "\n",
    "results = places_result['results']\n",
    "\n",
    "for fila in tqdm(range( 0 , len( results ) )):\n",
    "    \n",
    "    df2.loc[fila] = [results[ fila ]['name'], \\\n",
    "                       results[ fila ]['geometry']['location']['lat'], \\\n",
    "                       results[ fila ]['geometry']['location']['lng']]\n",
    "    \n",
    "df2"
   ]
  },
  {
   "cell_type": "code",
   "execution_count": 160,
   "metadata": {},
   "outputs": [],
   "source": [
    "def dict_output( dictionary , output = 'tuples'):\n",
    "    \n",
    "    # key results\n",
    "    results = dictionary['results']\n",
    "    \n",
    "    # Lists\n",
    "    latitudes = []\n",
    "    longitudes = []\n",
    "    inst = []\n",
    "    \n",
    "    # iterate over values and store in lists\n",
    "    # we are going to use lists apporach\n",
    "    for fila in range( 0 , len( results ) ):\n",
    "        # latitude\n",
    "        lat = results[ fila ]['geometry']['location']['lat']\n",
    "\n",
    "        # Longitude\n",
    "        lng = results[ fila ]['geometry']['location']['lng']\n",
    "\n",
    "        # nombre de la institucion\n",
    "        institucion = results[ fila ]['name']\n",
    "\n",
    "        # Save results\n",
    "        latitudes.append( lat )\n",
    "        longitudes.append( lng )\n",
    "        inst.append( institucion )\n",
    "    \n",
    "    # Store all values in \n",
    "    # dictionary\n",
    "    results_dict = { 'Instituciones': institutions, 'Latitud' : latitudes, 'Longitud' : longitudes }\n",
    "    \n",
    "    # pandas\n",
    "    results_pd = pd.DataFrame( results_dict )\n",
    "    \n",
    "    # tuple\n",
    "    results_tuple = ( latitudes , longitudes , inst )\n",
    "    \n",
    "    # We can use return with if condition\n",
    "    if output == 'dataframe':\n",
    "        return results_pd\n",
    "    \n",
    "    elif output == 'dictionary':\n",
    "        return results_dict\n",
    "    \n",
    "    elif output == 'tuple':\n",
    "        return results_tuple\n",
    "    \n",
    "    else:\n",
    "        raise Exception( f'''The output value ({output}) is wrong. \\nYou can only use `tuple`, `dataframe`, or `dictionary` as argument variables.''' )"
   ]
  },
  {
   "cell_type": "code",
   "execution_count": 161,
   "metadata": {},
   "outputs": [
    {
     "data": {
      "text/plain": [
       "([9.065977,\n",
       "  8.450151,\n",
       "  8.50573,\n",
       "  9.058854499999999,\n",
       "  9.895973,\n",
       "  9.892294699999999,\n",
       "  9.8572331,\n",
       "  7.711655800000001,\n",
       "  11.9899944,\n",
       "  10.310332,\n",
       "  10.592473,\n",
       "  5.4717813,\n",
       "  6.617086,\n",
       "  6.460105899999999,\n",
       "  9.07677,\n",
       "  5.5025021,\n",
       "  4.822006,\n",
       "  11.988203,\n",
       "  10.5436173,\n",
       "  4.8496083],\n",
       " [7.4549606,\n",
       "  4.542503,\n",
       "  8.531774799999999,\n",
       "  7.468077600000001,\n",
       "  8.931434,\n",
       "  8.9175658,\n",
       "  7.967971899999998,\n",
       "  8.5265235,\n",
       "  8.4891647,\n",
       "  9.826602,\n",
       "  7.449456,\n",
       "  7.0083439,\n",
       "  3.357951,\n",
       "  7.579008999999999,\n",
       "  7.493777,\n",
       "  7.517955600000001,\n",
       "  7.0079724,\n",
       "  8.496804,\n",
       "  7.4609879,\n",
       "  7.0527365],\n",
       " ['National Identity Management Commission',\n",
       "  'National Identity Management Commission (Nimc)',\n",
       "  'National Identity Management Commission NIMC',\n",
       "  'National Identity Management Commission',\n",
       "  'National Identity Management Commission (Nimc)',\n",
       "  'National Identity Management Commission',\n",
       "  'National Identity Management Commission',\n",
       "  'National Identity Management Commission (Nimc)',\n",
       "  'National Identity Management Commission',\n",
       "  'National Identity Management Commission (Nimc)',\n",
       "  'National Identity Management Commission (Nimc)',\n",
       "  'National Identity Management Center',\n",
       "  'National Identity Management Commision (NIMC) Lagos',\n",
       "  'National Identity Management Commission',\n",
       "  'National Identity Management Commission (Nimc)',\n",
       "  'National Identity Management Commission Umuahia',\n",
       "  'National Identity Management Commission',\n",
       "  'National Identity Management Commission (Nimc)',\n",
       "  'National Identity Management Commission, Northwest Zonal Office',\n",
       "  'National Identity Management Commission Nimc'])"
      ]
     },
     "execution_count": 161,
     "metadata": {},
     "output_type": "execute_result"
    }
   ],
   "source": [
    "dict_output( places_result, output = \"tuple\" )"
   ]
  },
  {
   "cell_type": "code",
   "execution_count": 162,
   "metadata": {},
   "outputs": [
    {
     "data": {
      "text/html": [
       "<div>\n",
       "<style scoped>\n",
       "    .dataframe tbody tr th:only-of-type {\n",
       "        vertical-align: middle;\n",
       "    }\n",
       "\n",
       "    .dataframe tbody tr th {\n",
       "        vertical-align: top;\n",
       "    }\n",
       "\n",
       "    .dataframe thead th {\n",
       "        text-align: right;\n",
       "    }\n",
       "</style>\n",
       "<table border=\"1\" class=\"dataframe\">\n",
       "  <thead>\n",
       "    <tr style=\"text-align: right;\">\n",
       "      <th></th>\n",
       "      <th>Instituciones</th>\n",
       "      <th>Latitud</th>\n",
       "      <th>Longitud</th>\n",
       "    </tr>\n",
       "  </thead>\n",
       "  <tbody>\n",
       "    <tr>\n",
       "      <th>0</th>\n",
       "      <td>National Identity Management Commission</td>\n",
       "      <td>9.065977</td>\n",
       "      <td>7.454961</td>\n",
       "    </tr>\n",
       "    <tr>\n",
       "      <th>1</th>\n",
       "      <td>National Identity Management Commission (Nimc)</td>\n",
       "      <td>8.450151</td>\n",
       "      <td>4.542503</td>\n",
       "    </tr>\n",
       "    <tr>\n",
       "      <th>2</th>\n",
       "      <td>National Identity Management Commission NIMC</td>\n",
       "      <td>8.505730</td>\n",
       "      <td>8.531775</td>\n",
       "    </tr>\n",
       "    <tr>\n",
       "      <th>3</th>\n",
       "      <td>National Identity Management Commission</td>\n",
       "      <td>9.058854</td>\n",
       "      <td>7.468078</td>\n",
       "    </tr>\n",
       "    <tr>\n",
       "      <th>4</th>\n",
       "      <td>National Identity Management Commission (Nimc)</td>\n",
       "      <td>9.895973</td>\n",
       "      <td>8.931434</td>\n",
       "    </tr>\n",
       "    <tr>\n",
       "      <th>5</th>\n",
       "      <td>National Identity Management Commission</td>\n",
       "      <td>9.892295</td>\n",
       "      <td>8.917566</td>\n",
       "    </tr>\n",
       "    <tr>\n",
       "      <th>6</th>\n",
       "      <td>National Identity Management Commission</td>\n",
       "      <td>9.857233</td>\n",
       "      <td>7.967972</td>\n",
       "    </tr>\n",
       "    <tr>\n",
       "      <th>7</th>\n",
       "      <td>National Identity Management Commission (Nimc)</td>\n",
       "      <td>7.711656</td>\n",
       "      <td>8.526523</td>\n",
       "    </tr>\n",
       "    <tr>\n",
       "      <th>8</th>\n",
       "      <td>National Identity Management Commission</td>\n",
       "      <td>11.989994</td>\n",
       "      <td>8.489165</td>\n",
       "    </tr>\n",
       "    <tr>\n",
       "      <th>9</th>\n",
       "      <td>National Identity Management Commission (Nimc)</td>\n",
       "      <td>10.310332</td>\n",
       "      <td>9.826602</td>\n",
       "    </tr>\n",
       "    <tr>\n",
       "      <th>10</th>\n",
       "      <td>National Identity Management Commission (Nimc)</td>\n",
       "      <td>10.592473</td>\n",
       "      <td>7.449456</td>\n",
       "    </tr>\n",
       "    <tr>\n",
       "      <th>11</th>\n",
       "      <td>National Identity Management Center</td>\n",
       "      <td>5.471781</td>\n",
       "      <td>7.008344</td>\n",
       "    </tr>\n",
       "    <tr>\n",
       "      <th>12</th>\n",
       "      <td>National Identity Management Commision (NIMC) ...</td>\n",
       "      <td>6.617086</td>\n",
       "      <td>3.357951</td>\n",
       "    </tr>\n",
       "    <tr>\n",
       "      <th>13</th>\n",
       "      <td>National Identity Management Commission</td>\n",
       "      <td>6.460106</td>\n",
       "      <td>7.579009</td>\n",
       "    </tr>\n",
       "    <tr>\n",
       "      <th>14</th>\n",
       "      <td>National Identity Management Commission (Nimc)</td>\n",
       "      <td>9.076770</td>\n",
       "      <td>7.493777</td>\n",
       "    </tr>\n",
       "    <tr>\n",
       "      <th>15</th>\n",
       "      <td>National Identity Management Commission Umuahia</td>\n",
       "      <td>5.502502</td>\n",
       "      <td>7.517956</td>\n",
       "    </tr>\n",
       "    <tr>\n",
       "      <th>16</th>\n",
       "      <td>National Identity Management Commission</td>\n",
       "      <td>4.822006</td>\n",
       "      <td>7.007972</td>\n",
       "    </tr>\n",
       "    <tr>\n",
       "      <th>17</th>\n",
       "      <td>National Identity Management Commission (Nimc)</td>\n",
       "      <td>11.988203</td>\n",
       "      <td>8.496804</td>\n",
       "    </tr>\n",
       "    <tr>\n",
       "      <th>18</th>\n",
       "      <td>National Identity Management Commission, North...</td>\n",
       "      <td>10.543617</td>\n",
       "      <td>7.460988</td>\n",
       "    </tr>\n",
       "    <tr>\n",
       "      <th>19</th>\n",
       "      <td>National Identity Management Commission Nimc</td>\n",
       "      <td>4.849608</td>\n",
       "      <td>7.052736</td>\n",
       "    </tr>\n",
       "  </tbody>\n",
       "</table>\n",
       "</div>"
      ],
      "text/plain": [
       "                                        Instituciones    Latitud  Longitud\n",
       "0             National Identity Management Commission   9.065977  7.454961\n",
       "1      National Identity Management Commission (Nimc)   8.450151  4.542503\n",
       "2        National Identity Management Commission NIMC   8.505730  8.531775\n",
       "3             National Identity Management Commission   9.058854  7.468078\n",
       "4      National Identity Management Commission (Nimc)   9.895973  8.931434\n",
       "5             National Identity Management Commission   9.892295  8.917566\n",
       "6             National Identity Management Commission   9.857233  7.967972\n",
       "7      National Identity Management Commission (Nimc)   7.711656  8.526523\n",
       "8             National Identity Management Commission  11.989994  8.489165\n",
       "9      National Identity Management Commission (Nimc)  10.310332  9.826602\n",
       "10     National Identity Management Commission (Nimc)  10.592473  7.449456\n",
       "11                National Identity Management Center   5.471781  7.008344\n",
       "12  National Identity Management Commision (NIMC) ...   6.617086  3.357951\n",
       "13            National Identity Management Commission   6.460106  7.579009\n",
       "14     National Identity Management Commission (Nimc)   9.076770  7.493777\n",
       "15    National Identity Management Commission Umuahia   5.502502  7.517956\n",
       "16            National Identity Management Commission   4.822006  7.007972\n",
       "17     National Identity Management Commission (Nimc)  11.988203  8.496804\n",
       "18  National Identity Management Commission, North...  10.543617  7.460988\n",
       "19       National Identity Management Commission Nimc   4.849608  7.052736"
      ]
     },
     "execution_count": 162,
     "metadata": {},
     "output_type": "execute_result"
    }
   ],
   "source": [
    "dict_output( places_result, output = \"dataframe\" )"
   ]
  },
  {
   "cell_type": "code",
   "execution_count": 164,
   "metadata": {},
   "outputs": [
    {
     "data": {
      "text/plain": [
       "{'Instituciones': ['National Identity Management Commission',\n",
       "  'National Identity Management Commission (Nimc)',\n",
       "  'National Identity Management Commission NIMC',\n",
       "  'National Identity Management Commission',\n",
       "  'National Identity Management Commission (Nimc)',\n",
       "  'National Identity Management Commission',\n",
       "  'National Identity Management Commission',\n",
       "  'National Identity Management Commission (Nimc)',\n",
       "  'National Identity Management Commission',\n",
       "  'National Identity Management Commission (Nimc)',\n",
       "  'National Identity Management Commission (Nimc)',\n",
       "  'National Identity Management Center',\n",
       "  'National Identity Management Commision (NIMC) Lagos',\n",
       "  'National Identity Management Commission',\n",
       "  'National Identity Management Commission (Nimc)',\n",
       "  'National Identity Management Commission Umuahia',\n",
       "  'National Identity Management Commission',\n",
       "  'National Identity Management Commission (Nimc)',\n",
       "  'National Identity Management Commission, Northwest Zonal Office',\n",
       "  'National Identity Management Commission Nimc'],\n",
       " 'Latitud': [9.065977,\n",
       "  8.450151,\n",
       "  8.50573,\n",
       "  9.058854499999999,\n",
       "  9.895973,\n",
       "  9.892294699999999,\n",
       "  9.8572331,\n",
       "  7.711655800000001,\n",
       "  11.9899944,\n",
       "  10.310332,\n",
       "  10.592473,\n",
       "  5.4717813,\n",
       "  6.617086,\n",
       "  6.460105899999999,\n",
       "  9.07677,\n",
       "  5.5025021,\n",
       "  4.822006,\n",
       "  11.988203,\n",
       "  10.5436173,\n",
       "  4.8496083],\n",
       " 'Longitud': [7.4549606,\n",
       "  4.542503,\n",
       "  8.531774799999999,\n",
       "  7.468077600000001,\n",
       "  8.931434,\n",
       "  8.9175658,\n",
       "  7.967971899999998,\n",
       "  8.5265235,\n",
       "  8.4891647,\n",
       "  9.826602,\n",
       "  7.449456,\n",
       "  7.0083439,\n",
       "  3.357951,\n",
       "  7.579008999999999,\n",
       "  7.493777,\n",
       "  7.517955600000001,\n",
       "  7.0079724,\n",
       "  8.496804,\n",
       "  7.4609879,\n",
       "  7.0527365]}"
      ]
     },
     "execution_count": 164,
     "metadata": {},
     "output_type": "execute_result"
    }
   ],
   "source": [
    "dict_output( places_result, output = \"dictionary\" )"
   ]
  },
  {
   "cell_type": "code",
   "execution_count": 165,
   "metadata": {},
   "outputs": [
    {
     "ename": "Exception",
     "evalue": "The output value (list) is wrong. \nYou can only use `tuple`, `dataframe`, or `dictionary` as argument variables.",
     "output_type": "error",
     "traceback": [
      "\u001b[1;31m---------------------------------------------------------------------------\u001b[0m",
      "\u001b[1;31mException\u001b[0m                                 Traceback (most recent call last)",
      "\u001b[1;32m<ipython-input-165-e91397d3200f>\u001b[0m in \u001b[0;36m<module>\u001b[1;34m\u001b[0m\n\u001b[1;32m----> 1\u001b[1;33m \u001b[0mdict_output\u001b[0m\u001b[1;33m(\u001b[0m \u001b[0mplaces_result\u001b[0m\u001b[1;33m,\u001b[0m \u001b[0moutput\u001b[0m \u001b[1;33m=\u001b[0m \u001b[1;34m\"list\"\u001b[0m \u001b[1;33m)\u001b[0m\u001b[1;33m\u001b[0m\u001b[1;33m\u001b[0m\u001b[0m\n\u001b[0m",
      "\u001b[1;32m<ipython-input-160-0ecbb021015a>\u001b[0m in \u001b[0;36mdict_output\u001b[1;34m(dictionary, output)\u001b[0m\n\u001b[0;32m     47\u001b[0m \u001b[1;33m\u001b[0m\u001b[0m\n\u001b[0;32m     48\u001b[0m     \u001b[1;32melse\u001b[0m\u001b[1;33m:\u001b[0m\u001b[1;33m\u001b[0m\u001b[1;33m\u001b[0m\u001b[0m\n\u001b[1;32m---> 49\u001b[1;33m         \u001b[1;32mraise\u001b[0m \u001b[0mException\u001b[0m\u001b[1;33m(\u001b[0m \u001b[1;34mf'''The output value ({output}) is wrong. \\nYou can only use `tuple`, `dataframe`, or `dictionary` as argument variables.'''\u001b[0m \u001b[1;33m)\u001b[0m\u001b[1;33m\u001b[0m\u001b[1;33m\u001b[0m\u001b[0m\n\u001b[0m",
      "\u001b[1;31mException\u001b[0m: The output value (list) is wrong. \nYou can only use `tuple`, `dataframe`, or `dictionary` as argument variables."
     ]
    }
   ],
   "source": [
    "dict_output( places_result, output = \"list\" )"
   ]
  },
  {
   "cell_type": "markdown",
   "metadata": {},
   "source": [
    "### <a id='#5.2.'>5.2. Class </a> \n",
    "\n",
    "A class is a user-defined blueprint or prototype from which objects are created. Classes provide a means of bundling data and functionality together. Creating a new class creates a new type of object, allowing new instances of that type to be made.\n",
    "\n",
    "<img src=\"../_images\\classes.png\">"
   ]
  },
  {
   "cell_type": "markdown",
   "metadata": {},
   "source": [
    "### <a id='#5.2.1.'>5.2.1. The Importance of Python Classes </a> \n",
    "\n",
    "Classes are a way to organize your code into generic, reusable peices. At their best they are generic blueprints for things that will be used over and over again with little modification. The original concept was inspired by independent biological systems or organism unique from other organisms by the set or collection of features (attributes) and abilities (methods).\n",
    "\n",
    "Functions are great to use when data is central to the work being done. Classes are great when you need to represent a collection of attributes and methods that will be used over and over again in other places.\n",
    "\n",
    "Generally if you find your self writing functions inside of functions you should consider writing a class instead. If you only have one function in a class then stick with just writing a function.\n",
    "\n",
    "\n",
    "\n",
    "- Classes provide an easy way of keeping the data members and methods together in one place which helps in keeping the program more organized.\n",
    "- Using classes also provides another functionality of this object-oriented programming paradigm, that is, inheritance.\n",
    "- Classes also help in overriding any standard operator.\n",
    "- Using classes provides the ability to reuse the code which makes the program more efficient.\n",
    "- Grouping related functions and keeping them in one place (inside a class) provides a clean structure to the code which increases the readability of the program."
   ]
  },
  {
   "cell_type": "markdown",
   "metadata": {},
   "source": [
    "###  <a id='#5.2.2.'> 5.2.2. Defining a class </a> \n",
    "it is considered to be a good practice to include a brief description about the class to increase the readability and understandability of the code."
   ]
  },
  {
   "cell_type": "markdown",
   "metadata": {},
   "source": [
    "<font size=\"4\">\n",
    "<font color='green'>class</font> class_name:<br> <br>\n",
    "&nbsp;&nbsp;&nbsp;&nbsp;    \"\"\"Description\"\"\" <br><br>\n",
    "&nbsp;&nbsp;&nbsp;&nbsp;<font color='red'>def __init__</font><font color  = 'blue'>( <font color='red'>self</font>, parameter1, parameter2 )</font>:<br><br>\n",
    "</font>"
   ]
  },
  {
   "cell_type": "markdown",
   "metadata": {},
   "source": [
    "### <a id='#5.2.3.'> 5.2.3. Attributes </a> \n",
    "A value associated with an object which is referenced by name using dotted expressions. For example, `np.size`."
   ]
  },
  {
   "cell_type": "markdown",
   "metadata": {},
   "source": [
    "Los atributos son características propias o inherentes del objeto"
   ]
  },
  {
   "cell_type": "code",
   "execution_count": 193,
   "metadata": {},
   "outputs": [
    {
     "data": {
      "text/plain": [
       "array([ 8, 10, 12, 14, 16, 18, 20, 22, 24])"
      ]
     },
     "execution_count": 193,
     "metadata": {},
     "output_type": "execute_result"
    }
   ],
   "source": [
    "import numpy as np \n",
    "\n",
    "A = np.arange( 8, 25 , 2) # NUMPY ARRAY\n",
    "A"
   ]
  },
  {
   "cell_type": "code",
   "execution_count": 194,
   "metadata": {},
   "outputs": [
    {
     "data": {
      "text/plain": [
       "9"
      ]
     },
     "execution_count": 194,
     "metadata": {},
     "output_type": "execute_result"
    }
   ],
   "source": [
    "A.size"
   ]
  },
  {
   "cell_type": "code",
   "execution_count": 195,
   "metadata": {},
   "outputs": [
    {
     "data": {
      "text/plain": [
       "(9,)"
      ]
     },
     "execution_count": 195,
     "metadata": {},
     "output_type": "execute_result"
    }
   ],
   "source": [
    "#\n",
    "A.shape"
   ]
  },
  {
   "cell_type": "code",
   "execution_count": 202,
   "metadata": {},
   "outputs": [],
   "source": [
    "list_1  =  [\"alex\", \"Anzony\", \"Mariela\"] # LISTA"
   ]
  },
  {
   "cell_type": "markdown",
   "metadata": {},
   "source": [
    "### <a id='#5.2.5.'> 5.2.5. Method </a>\n",
    "A function which is defined inside a class body. If called as an attribute of an instance of that class, the method will get the instance object as its first argument (which is usually called self). See function and nested scope."
   ]
  },
  {
   "cell_type": "code",
   "execution_count": 113,
   "metadata": {},
   "outputs": [
    {
     "data": {
      "text/plain": [
       "array([ 8,  9, 10, 11, 12, 13, 14, 15, 16, 17, 18, 19, 20, 21, 22, 23, 24])"
      ]
     },
     "execution_count": 113,
     "metadata": {},
     "output_type": "execute_result"
    }
   ],
   "source": [
    "A = np.arange( 8, 25 )\n",
    "A"
   ]
  },
  {
   "cell_type": "code",
   "execution_count": 207,
   "metadata": {},
   "outputs": [
    {
     "data": {
      "text/plain": [
       "(9,)"
      ]
     },
     "execution_count": 207,
     "metadata": {},
     "output_type": "execute_result"
    }
   ],
   "source": [
    "# atributo\n",
    "A.shape # atributo no lleva paréntesis"
   ]
  },
  {
   "cell_type": "code",
   "execution_count": 208,
   "metadata": {},
   "outputs": [
    {
     "data": {
      "text/plain": [
       "16.0"
      ]
     },
     "execution_count": 208,
     "metadata": {},
     "output_type": "execute_result"
    }
   ],
   "source": [
    "A.mean() # método lleva paréntesis"
   ]
  },
  {
   "cell_type": "code",
   "execution_count": 209,
   "metadata": {},
   "outputs": [
    {
     "data": {
      "text/plain": [
       "16.0"
      ]
     },
     "execution_count": 209,
     "metadata": {},
     "output_type": "execute_result"
    }
   ],
   "source": [
    "np.mean(A)"
   ]
  },
  {
   "cell_type": "code",
   "execution_count": 213,
   "metadata": {},
   "outputs": [],
   "source": [
    "B = A \n"
   ]
  },
  {
   "cell_type": "code",
   "execution_count": 212,
   "metadata": {},
   "outputs": [],
   "source": [
    "# this a method\n",
    "A = A.reshape( 1, -1 )"
   ]
  },
  {
   "cell_type": "code",
   "execution_count": 213,
   "metadata": {},
   "outputs": [
    {
     "data": {
      "text/plain": [
       "(1, 9)"
      ]
     },
     "execution_count": 213,
     "metadata": {},
     "output_type": "execute_result"
    }
   ],
   "source": [
    "A.shape"
   ]
  },
  {
   "cell_type": "markdown",
   "metadata": {},
   "source": [
    "La función dir(A) en Python se utiliza para obtener una lista de los nombres de atributos y métodos asociados con el objeto A."
   ]
  },
  {
   "cell_type": "code",
   "execution_count": 117,
   "metadata": {},
   "outputs": [
    {
     "data": {
      "text/plain": [
       "['T',\n",
       " '__abs__',\n",
       " '__add__',\n",
       " '__and__',\n",
       " '__array__',\n",
       " '__array_finalize__',\n",
       " '__array_function__',\n",
       " '__array_interface__',\n",
       " '__array_prepare__',\n",
       " '__array_priority__',\n",
       " '__array_struct__',\n",
       " '__array_ufunc__',\n",
       " '__array_wrap__',\n",
       " '__bool__',\n",
       " '__class__',\n",
       " '__complex__',\n",
       " '__contains__',\n",
       " '__copy__',\n",
       " '__deepcopy__',\n",
       " '__delattr__',\n",
       " '__delitem__',\n",
       " '__dir__',\n",
       " '__divmod__',\n",
       " '__doc__',\n",
       " '__eq__',\n",
       " '__float__',\n",
       " '__floordiv__',\n",
       " '__format__',\n",
       " '__ge__',\n",
       " '__getattribute__',\n",
       " '__getitem__',\n",
       " '__gt__',\n",
       " '__hash__',\n",
       " '__iadd__',\n",
       " '__iand__',\n",
       " '__ifloordiv__',\n",
       " '__ilshift__',\n",
       " '__imatmul__',\n",
       " '__imod__',\n",
       " '__imul__',\n",
       " '__index__',\n",
       " '__init__',\n",
       " '__init_subclass__',\n",
       " '__int__',\n",
       " '__invert__',\n",
       " '__ior__',\n",
       " '__ipow__',\n",
       " '__irshift__',\n",
       " '__isub__',\n",
       " '__iter__',\n",
       " '__itruediv__',\n",
       " '__ixor__',\n",
       " '__le__',\n",
       " '__len__',\n",
       " '__lshift__',\n",
       " '__lt__',\n",
       " '__matmul__',\n",
       " '__mod__',\n",
       " '__mul__',\n",
       " '__ne__',\n",
       " '__neg__',\n",
       " '__new__',\n",
       " '__or__',\n",
       " '__pos__',\n",
       " '__pow__',\n",
       " '__radd__',\n",
       " '__rand__',\n",
       " '__rdivmod__',\n",
       " '__reduce__',\n",
       " '__reduce_ex__',\n",
       " '__repr__',\n",
       " '__rfloordiv__',\n",
       " '__rlshift__',\n",
       " '__rmatmul__',\n",
       " '__rmod__',\n",
       " '__rmul__',\n",
       " '__ror__',\n",
       " '__rpow__',\n",
       " '__rrshift__',\n",
       " '__rshift__',\n",
       " '__rsub__',\n",
       " '__rtruediv__',\n",
       " '__rxor__',\n",
       " '__setattr__',\n",
       " '__setitem__',\n",
       " '__setstate__',\n",
       " '__sizeof__',\n",
       " '__str__',\n",
       " '__sub__',\n",
       " '__subclasshook__',\n",
       " '__truediv__',\n",
       " '__xor__',\n",
       " 'all',\n",
       " 'any',\n",
       " 'argmax',\n",
       " 'argmin',\n",
       " 'argpartition',\n",
       " 'argsort',\n",
       " 'astype',\n",
       " 'base',\n",
       " 'byteswap',\n",
       " 'choose',\n",
       " 'clip',\n",
       " 'compress',\n",
       " 'conj',\n",
       " 'conjugate',\n",
       " 'copy',\n",
       " 'ctypes',\n",
       " 'cumprod',\n",
       " 'cumsum',\n",
       " 'data',\n",
       " 'diagonal',\n",
       " 'dot',\n",
       " 'dtype',\n",
       " 'dump',\n",
       " 'dumps',\n",
       " 'fill',\n",
       " 'flags',\n",
       " 'flat',\n",
       " 'flatten',\n",
       " 'getfield',\n",
       " 'imag',\n",
       " 'item',\n",
       " 'itemset',\n",
       " 'itemsize',\n",
       " 'max',\n",
       " 'mean',\n",
       " 'min',\n",
       " 'nbytes',\n",
       " 'ndim',\n",
       " 'newbyteorder',\n",
       " 'nonzero',\n",
       " 'partition',\n",
       " 'prod',\n",
       " 'ptp',\n",
       " 'put',\n",
       " 'ravel',\n",
       " 'real',\n",
       " 'repeat',\n",
       " 'reshape',\n",
       " 'resize',\n",
       " 'round',\n",
       " 'searchsorted',\n",
       " 'setfield',\n",
       " 'setflags',\n",
       " 'shape',\n",
       " 'size',\n",
       " 'sort',\n",
       " 'squeeze',\n",
       " 'std',\n",
       " 'strides',\n",
       " 'sum',\n",
       " 'swapaxes',\n",
       " 'take',\n",
       " 'tobytes',\n",
       " 'tofile',\n",
       " 'tolist',\n",
       " 'tostring',\n",
       " 'trace',\n",
       " 'transpose',\n",
       " 'var',\n",
       " 'view']"
      ]
     },
     "execution_count": 117,
     "metadata": {},
     "output_type": "execute_result"
    }
   ],
   "source": [
    "dir(A)"
   ]
  },
  {
   "cell_type": "code",
   "execution_count": 215,
   "metadata": {},
   "outputs": [
    {
     "data": {
      "text/plain": [
       "8"
      ]
     },
     "execution_count": 215,
     "metadata": {},
     "output_type": "execute_result"
    }
   ],
   "source": [
    "A.min()"
   ]
  },
  {
   "cell_type": "markdown",
   "metadata": {},
   "source": [
    "|Name| Definition|\n",
    "|---|---|\n",
    "|attribute|A variable stored in an instance or class.|\n",
    "|method|A function stored in an instance or class.|"
   ]
  },
  {
   "cell_type": "markdown",
   "metadata": {},
   "source": [
    "Una clase está compuesta de atributos y métodos.\n",
    "\n",
    "Siempre que se crea una clase se coloca _ _ init _ _"
   ]
  },
  {
   "cell_type": "markdown",
   "metadata": {
    "jp-MarkdownHeadingCollapsed": true
   },
   "source": [
    "###  <a id='#5.2.6.'> 5.2.6. \\_\\_init\\_\\_() </a>\n",
    "\n",
    "In python classes, “__init__” method is reserved. It is automatically called when you create an object using a class and is used to initialize the variables of the class. It is equivalent to a constructor.\n",
    "\n",
    "- Like any other method, init method starts with the keyword **“def”**\n",
    "- **“self”** is the first parameter in this method just like any other method although in case of init, **“self”** refers to a newly created object unlike other methods where it refers to the current object or instance associated with that particular method.\n",
    "- Additional parameters can be added"
   ]
  },
  {
   "cell_type": "markdown",
   "metadata": {},
   "source": [
    "### <a id='#5.2.7.'> 5.2.7. Self</a>\n",
    "self represents the instance of the class. By using the **“self”** keyword we build attributes and methods for the class in python. It binds the attributes with the given arguments."
   ]
  },
  {
   "cell_type": "markdown",
   "metadata": {},
   "source": [
    "In the example, **MyFirstClass** I use self to define attributes and methods. "
   ]
  },
  {
   "cell_type": "code",
   "execution_count": 222,
   "metadata": {},
   "outputs": [],
   "source": [
    "# Solo creamos atributos al objeto Gisela: nombre y edad\n",
    "class MyFirstClass:\n",
    "    \n",
    "    def __init__(self, name, age):\n",
    "        self.name_est = name\n",
    "        self.age_est = age"
   ]
  },
  {
   "cell_type": "code",
   "execution_count": 226,
   "metadata": {},
   "outputs": [
    {
     "data": {
      "text/plain": [
       "<__main__.MyFirstClass at 0x1d281f6c170>"
      ]
     },
     "execution_count": 226,
     "metadata": {},
     "output_type": "execute_result"
    }
   ],
   "source": [
    "gise_sal = MyFirstClass(\"Gisella\",29) # podría ser MyFirstClass(age=29,name=\"Gisella\")\n",
    "gise_sal"
   ]
  },
  {
   "cell_type": "code",
   "execution_count": 227,
   "metadata": {},
   "outputs": [
    {
     "data": {
      "text/plain": [
       "'Gisella'"
      ]
     },
     "execution_count": 227,
     "metadata": {},
     "output_type": "execute_result"
    }
   ],
   "source": [
    "gise_sal.name_est"
   ]
  },
  {
   "cell_type": "code",
   "execution_count": 228,
   "metadata": {},
   "outputs": [
    {
     "data": {
      "text/plain": [
       "29"
      ]
     },
     "execution_count": 228,
     "metadata": {},
     "output_type": "execute_result"
    }
   ],
   "source": [
    "gise_sal.age_est"
   ]
  },
  {
   "cell_type": "markdown",
   "metadata": {},
   "source": [
    "Una función dentro de una clase es un método"
   ]
  },
  {
   "cell_type": "code",
   "execution_count": 247,
   "metadata": {},
   "outputs": [],
   "source": [
    "class MyFirstClass:\n",
    "    \n",
    "    def __init__(self, name, age):\n",
    "        self.name_est = name\n",
    "        self.age_est = age\n",
    "\n",
    "    def print_name_1( self ):\n",
    "        print( f'I am { self.name_est }.' )\n",
    "        \n",
    "    def print_age_1( self ):\n",
    "        print( f'I am { self.age_est} years old' ) "
   ]
  },
  {
   "cell_type": "code",
   "execution_count": 248,
   "metadata": {},
   "outputs": [
    {
     "data": {
      "text/plain": [
       "<__main__.MyFirstClass at 0x1d281d8d970>"
      ]
     },
     "execution_count": 248,
     "metadata": {},
     "output_type": "execute_result"
    }
   ],
   "source": [
    "cl_cord = MyFirstClass(\"Claudia Córdova\",29) # podría ser MyFirstClass(age=29,name=\"Gisella\")\n",
    "cl_cord"
   ]
  },
  {
   "cell_type": "code",
   "execution_count": 249,
   "metadata": {},
   "outputs": [
    {
     "name": "stdout",
     "output_type": "stream",
     "text": [
      "I am Claudia Córdova.\n"
     ]
    }
   ],
   "source": [
    "cl_cord.print_name_1() # método va con paréntesis"
   ]
  },
  {
   "cell_type": "code",
   "execution_count": 250,
   "metadata": {},
   "outputs": [
    {
     "name": "stdout",
     "output_type": "stream",
     "text": [
      "I am 29 years old\n"
     ]
    }
   ],
   "source": [
    "cl_cord.print_age_1() # método va con paréntesis"
   ]
  },
  {
   "cell_type": "code",
   "execution_count": 251,
   "metadata": {},
   "outputs": [
    {
     "name": "stdout",
     "output_type": "stream",
     "text": [
      "I am Miguel.\n",
      "I am 24 years old\n"
     ]
    }
   ],
   "source": [
    "student1 = MyFirstClass( name = \"Miguel\", age = 24)\n",
    "student1.print_name_1()\n",
    "student1.print_age_1()"
   ]
  },
  {
   "cell_type": "code",
   "execution_count": 269,
   "metadata": {},
   "outputs": [],
   "source": [
    "class MyFirstClass:\n",
    "    \n",
    "    def __init__(self, name, age, school):\n",
    "        self.name_est = name\n",
    "        self.age_est = age\n",
    "        self.school_est = school\n",
    "\n",
    "    def print_name_1( self ):\n",
    "        print( f'I am { self.name_est }.' )\n",
    "        \n",
    "    def print_age_1( self ):\n",
    "        print( f'I am { self.age_est} years old' ) \n",
    "\n",
    "    def print_name_school( self ):\n",
    "        print( f'This is my school = {self.school_est}.' ) "
   ]
  },
  {
   "cell_type": "code",
   "execution_count": 270,
   "metadata": {},
   "outputs": [
    {
     "name": "stdout",
     "output_type": "stream",
     "text": [
      "I am Jose.\n",
      "I am 22 years old\n",
      "This is my school = Saco Oliveros.\n"
     ]
    }
   ],
   "source": [
    "student_0 = MyFirstClass( name = \"Jose\" , age = 22, school = \"Saco Oliveros\" )\n",
    "student_0.print_name_1()\n",
    "student_0.print_age_1()\n",
    "student_0.print_name_school()"
   ]
  },
  {
   "cell_type": "code",
   "execution_count": 271,
   "metadata": {},
   "outputs": [],
   "source": [
    "class MyFirstClass:\n",
    "    \n",
    "    def __init__( self, name, age ):\n",
    "        self.name = name\n",
    "        self.age = age\n",
    "    \n",
    "    # best way to define a method\n",
    "    def print_name_1( self ):\n",
    "        print( f'I am { self.name }.' )\n",
    "    \n",
    "    # wrong way to define a method \n",
    "    def print_name_2():\n",
    "        print( f'This is my { name }.' )\n",
    "        \n",
    "    # the worst way to call a parameter\n",
    "    # we need to define them as attributes\n",
    "    def print_name_3( self ):\n",
    "        print( f'This is my { name }.' )\n",
    "    \n"
   ]
  },
  {
   "cell_type": "markdown",
   "metadata": {},
   "source": [
    "Primera forma: Este es un ejemplo de cómo definir correctamente un método en una clase. El método print_name_1 toma self como primer argumento, que es una referencia a la instancia actual de la clase.\n",
    "El método accede a self.name para imprimir el nombre asociado a la instancia de la clase. Esto es la forma correcta de acceder a los atributos de una instancia."
   ]
  },
  {
   "cell_type": "markdown",
   "metadata": {},
   "source": [
    "Segunda forma:\n",
    "Este método es incorrecto porque no incluye self como primer argumento. En Python, todos los métodos de instancia deben aceptar self como su primer argumento, lo que permite al método acceder a los atributos y otros métodos de la instancia.\n",
    "Además, intenta acceder a name directamente, lo que no funcionará porque name no está definido en el alcance del método. Debería ser self.name."
   ]
  },
  {
   "cell_type": "markdown",
   "metadata": {},
   "source": [
    "Tercera forma: Aunque este método tiene self como argumento, aún intenta acceder a name sin el prefijo self. Esto también es incorrecto porque name no es una variable local dentro del método. Para acceder al atributo name de la instancia, debe utilizar self.name"
   ]
  },
  {
   "cell_type": "code",
   "execution_count": 281,
   "metadata": {},
   "outputs": [
    {
     "name": "stdout",
     "output_type": "stream",
     "text": [
      "I am Jose.\n"
     ]
    }
   ],
   "source": [
    "student_0 = MyFirstClass( name = \"Jose\" , age = 22 )\n",
    "student_0.print_name_1()"
   ]
  },
  {
   "cell_type": "code",
   "execution_count": 282,
   "metadata": {},
   "outputs": [],
   "source": [
    "class MyFirstClass:\n",
    "    \n",
    "    def __init__( self, name, age, school ):\n",
    "        self.name = name\n",
    "        self.age = age\n",
    "        self.school = school\n",
    "    \n",
    "    # how to define a method\n",
    "    def print_name_1( self ):\n",
    "        print( f'I am { self.name }.' )\n",
    "    \n",
    "    # other method\n",
    "    def person_age( self ):\n",
    "        print( f' I am { self.name } , I am { self.age } old. ' )\n",
    "    \n",
    "    # method\n",
    "    def person_school( self ):\n",
    "        print( f' I am {self.name} , I studied at {self.school}. ' )\n",
    "      \n",
    "    # # wrong way to define a method \n",
    "    def print_name_2():\n",
    "        print( f'This is my { name }.' )\n",
    "    \n",
    "    # the worst way to call a parameter\n",
    "    # we need to define them as attributes\n",
    "    # def print_name_3( self ):\n",
    "    #     print( f'This is my { name }.' )\n",
    "    "
   ]
  },
  {
   "cell_type": "code",
   "execution_count": 283,
   "metadata": {},
   "outputs": [],
   "source": [
    "student2 = MyFirstClass( name = \"Jose\" , age = 31, school = \"Agustiniano\" )"
   ]
  },
  {
   "cell_type": "code",
   "execution_count": 284,
   "metadata": {},
   "outputs": [
    {
     "data": {
      "text/plain": [
       "['__class__',\n",
       " '__delattr__',\n",
       " '__dict__',\n",
       " '__dir__',\n",
       " '__doc__',\n",
       " '__eq__',\n",
       " '__format__',\n",
       " '__ge__',\n",
       " '__getattribute__',\n",
       " '__getstate__',\n",
       " '__gt__',\n",
       " '__hash__',\n",
       " '__init__',\n",
       " '__init_subclass__',\n",
       " '__le__',\n",
       " '__lt__',\n",
       " '__module__',\n",
       " '__ne__',\n",
       " '__new__',\n",
       " '__reduce__',\n",
       " '__reduce_ex__',\n",
       " '__repr__',\n",
       " '__setattr__',\n",
       " '__sizeof__',\n",
       " '__str__',\n",
       " '__subclasshook__',\n",
       " '__weakref__',\n",
       " 'age',\n",
       " 'name',\n",
       " 'person_age',\n",
       " 'person_school',\n",
       " 'print_name_1',\n",
       " 'print_name_2',\n",
       " 'school']"
      ]
     },
     "execution_count": 284,
     "metadata": {},
     "output_type": "execute_result"
    }
   ],
   "source": [
    "dir(student2)"
   ]
  },
  {
   "cell_type": "markdown",
   "metadata": {},
   "source": [
    "When we create an object using a class, we have an instance of this class."
   ]
  },
  {
   "cell_type": "code",
   "execution_count": 286,
   "metadata": {},
   "outputs": [],
   "source": [
    "student1 = MyFirstClass( name = \"Jose\" , age = 22, school = \"SJ\" )"
   ]
  },
  {
   "cell_type": "markdown",
   "metadata": {},
   "source": [
    "Attributes"
   ]
  },
  {
   "cell_type": "code",
   "execution_count": 287,
   "metadata": {},
   "outputs": [
    {
     "data": {
      "text/plain": [
       "22"
      ]
     },
     "execution_count": 287,
     "metadata": {},
     "output_type": "execute_result"
    }
   ],
   "source": [
    "student1.age"
   ]
  },
  {
   "cell_type": "code",
   "execution_count": 288,
   "metadata": {},
   "outputs": [
    {
     "data": {
      "text/plain": [
       "'Jose'"
      ]
     },
     "execution_count": 288,
     "metadata": {},
     "output_type": "execute_result"
    }
   ],
   "source": [
    "student1.name"
   ]
  },
  {
   "cell_type": "markdown",
   "metadata": {},
   "source": [
    "Methods"
   ]
  },
  {
   "cell_type": "code",
   "execution_count": 289,
   "metadata": {},
   "outputs": [
    {
     "data": {
      "text/plain": [
       "<bound method MyFirstClass.print_name_1 of <__main__.MyFirstClass object at 0x000001D282988FE0>>"
      ]
     },
     "execution_count": 289,
     "metadata": {},
     "output_type": "execute_result"
    }
   ],
   "source": [
    "# Calling like an attribute\n",
    "student1.print_name_1"
   ]
  },
  {
   "cell_type": "code",
   "execution_count": 290,
   "metadata": {},
   "outputs": [
    {
     "name": "stdout",
     "output_type": "stream",
     "text": [
      "I am Jose.\n"
     ]
    }
   ],
   "source": [
    "# Calling like as a method\n",
    "student1.print_name_1()"
   ]
  },
  {
   "cell_type": "markdown",
   "metadata": {},
   "source": [
    "When we do not use the **self** keyword, the class do not recognize `print_name_2` function as a method. "
   ]
  },
  {
   "cell_type": "code",
   "execution_count": 33,
   "metadata": {},
   "outputs": [
    {
     "ename": "TypeError",
     "evalue": "print_name_2() takes 0 positional arguments but 1 was given",
     "output_type": "error",
     "traceback": [
      "\u001b[1;31m---------------------------------------------------------------------------\u001b[0m",
      "\u001b[1;31mTypeError\u001b[0m                                 Traceback (most recent call last)",
      "\u001b[1;32m<ipython-input-33-3c8e56978537>\u001b[0m in \u001b[0;36m<module>\u001b[1;34m\u001b[0m\n\u001b[1;32m----> 1\u001b[1;33m \u001b[0mstudent1\u001b[0m\u001b[1;33m.\u001b[0m\u001b[0mprint_name_2\u001b[0m\u001b[1;33m(\u001b[0m\u001b[1;33m)\u001b[0m\u001b[1;33m\u001b[0m\u001b[1;33m\u001b[0m\u001b[0m\n\u001b[0m",
      "\u001b[1;31mTypeError\u001b[0m: print_name_2() takes 0 positional arguments but 1 was given"
     ]
    }
   ],
   "source": [
    "student1.print_name_2()"
   ]
  },
  {
   "cell_type": "markdown",
   "metadata": {},
   "source": [
    "When we do not use the **self** keyword, the class does not recognize `name` variable. We need to define it as an `attribute`. Classes are not the same as functions. In functions, the parameters are identified in the namespace, but in classes, they do not."
   ]
  },
  {
   "cell_type": "code",
   "execution_count": 37,
   "metadata": {},
   "outputs": [
    {
     "ename": "NameError",
     "evalue": "name 'name' is not defined",
     "output_type": "error",
     "traceback": [
      "\u001b[1;31m---------------------------------------------------------------------------\u001b[0m",
      "\u001b[1;31mNameError\u001b[0m                                 Traceback (most recent call last)",
      "\u001b[1;32m<ipython-input-37-f4879dda857f>\u001b[0m in \u001b[0;36m<module>\u001b[1;34m\u001b[0m\n\u001b[1;32m----> 1\u001b[1;33m \u001b[0mstudent1\u001b[0m\u001b[1;33m.\u001b[0m\u001b[0mprint_name_3\u001b[0m\u001b[1;33m(\u001b[0m\u001b[1;33m)\u001b[0m\u001b[1;33m\u001b[0m\u001b[1;33m\u001b[0m\u001b[0m\n\u001b[0m",
      "\u001b[1;32m<ipython-input-35-879bde9c1c57>\u001b[0m in \u001b[0;36mprint_name_3\u001b[1;34m(self)\u001b[0m\n\u001b[0;32m     17\u001b[0m     \u001b[1;31m# we need to define them as attributes\u001b[0m\u001b[1;33m\u001b[0m\u001b[1;33m\u001b[0m\u001b[1;33m\u001b[0m\u001b[0m\n\u001b[0;32m     18\u001b[0m     \u001b[1;32mdef\u001b[0m \u001b[0mprint_name_3\u001b[0m\u001b[1;33m(\u001b[0m \u001b[0mself\u001b[0m \u001b[1;33m)\u001b[0m\u001b[1;33m:\u001b[0m\u001b[1;33m\u001b[0m\u001b[1;33m\u001b[0m\u001b[0m\n\u001b[1;32m---> 19\u001b[1;33m         \u001b[0mprint\u001b[0m\u001b[1;33m(\u001b[0m \u001b[1;34mf'This is my {name}.'\u001b[0m \u001b[1;33m)\u001b[0m\u001b[1;33m\u001b[0m\u001b[1;33m\u001b[0m\u001b[0m\n\u001b[0m\u001b[0;32m     20\u001b[0m \u001b[1;33m\u001b[0m\u001b[0m\n",
      "\u001b[1;31mNameError\u001b[0m: name 'name' is not defined"
     ]
    }
   ],
   "source": [
    "student1.print_name_3()"
   ]
  },
  {
   "cell_type": "code",
   "execution_count": 304,
   "metadata": {},
   "outputs": [],
   "source": [
    "list_age_st = [15,24,36,38]\n",
    "name_school = \"Colegio Guadalupe\"\n",
    "\n",
    "class school_students:\n",
    "    def __init__(self,name,list_age):\n",
    "        self.name = name\n",
    "        self.list_age = list_age\n",
    "\n",
    "    def sq_ages(self):\n",
    "        list_age_sq = np.square(self.list_age)\n",
    "        return list_age_sq"
   ]
  },
  {
   "cell_type": "code",
   "execution_count": 305,
   "metadata": {},
   "outputs": [
    {
     "data": {
      "text/plain": [
       "array([ 225,  576, 1296, 1444])"
      ]
     },
     "execution_count": 305,
     "metadata": {},
     "output_type": "execute_result"
    }
   ],
   "source": [
    "all_st = school_students(name_school, list_age_st)\n",
    "all_st.sq_ages()"
   ]
  },
  {
   "cell_type": "markdown",
   "metadata": {},
   "source": [
    "# <a id='#5.3.'>5.3. References </a>  \n",
    "\n",
    "- [Functions](https://www.datacamp.com/community/tutorials/functions-python-tutorial?utm_source=adwords_ppc&utm_medium=cpc&utm_campaignid=1455363063&utm_adgroupid=65083631748&utm_device=c&utm_keyword=&utm_matchtype=&utm_network=g&utm_adpostion=&utm_creative=332602034358&utm_targetid=dsa-473406571355&utm_loc_interest_ms=&utm_loc_physical_ms=9060932&gclid=CjwKCAiAqIKNBhAIEiwAu_ZLDp9lkv0t5drR4g_hjgXp0DBU3XoRLPEeQT9wGMhCyiZd09kjsAXKaRoCFmUQAvD_BwE)\n",
    "- [Functions](https://www.w3schools.com/python/python_functions.asp)\n",
    "- [Args and Kwargs](https://book.pythontips.com/en/latest/args_and_kwargs.html)\n",
    "\n",
    "- [Clases](https://www.geeksforgeeks.org/namespaces-and-scope-in-python/#:~:text=A%20namespace%20is%20a%20system,form%20of%20a%20Python%20dictionary.&text=Its%20Name%20(which%20means%20name,talks%20something%20related%20to%20scope)\n",
    "\n",
    "- [Clases](https://www.geeksforgeeks.org/python-classes-and-objects/)\n",
    "\n",
    "- [Clases Advantages](https://intellipaat.com/blog/tutorial/python-tutorial/python-classes-and-objects/#_Advantages_of_class)\n",
    "\n",
    "- [Self](https://www.geeksforgeeks.org/self-in-python-class/)\n",
    "\n",
    "- [FU](https://realpython.com/defining-your-own-python-function/#functions-in-python)\n",
    "\n",
    "- https://stackoverflow.com/questions/46312470/difference-between-methods-and-attributes-in-python\n",
    "\n",
    "- https://stackoverflow.com/questions/2489669/how-do-python-functions-handle-the-types-of-parameters-that-you-pass-in"
   ]
  }
 ],
 "metadata": {
  "hide_input": false,
  "kernelspec": {
   "display_name": "Python 3 (ipykernel)",
   "language": "python",
   "name": "python3"
  },
  "language_info": {
   "codemirror_mode": {
    "name": "ipython",
    "version": 3
   },
   "file_extension": ".py",
   "mimetype": "text/x-python",
   "name": "python",
   "nbconvert_exporter": "python",
   "pygments_lexer": "ipython3",
   "version": "3.12.4"
  }
 },
 "nbformat": 4,
 "nbformat_minor": 4
}
