{
 "cells": [
  {
   "cell_type": "markdown",
   "id": "f08844bb",
   "metadata": {},
   "source": [
    "# Importing Files with Functions"
   ]
  },
  {
   "cell_type": "code",
   "execution_count": 2,
   "id": "bec223e8",
   "metadata": {},
   "outputs": [],
   "source": [
    "import pandas as pd\n",
    "import pyreadstat as ps"
   ]
  },
  {
   "cell_type": "code",
   "execution_count": 3,
   "id": "930f2e14",
   "metadata": {},
   "outputs": [],
   "source": [
    "path_folder = '../_data/endes'"
   ]
  },
  {
   "cell_type": "code",
   "execution_count": 4,
   "id": "2332b017",
   "metadata": {},
   "outputs": [],
   "source": [
    "year = 2018"
   ]
  },
  {
   "cell_type": "code",
   "execution_count": 5,
   "id": "b119a45d",
   "metadata": {},
   "outputs": [],
   "source": [
    "file = 'REC0111.sav'"
   ]
  },
  {
   "cell_type": "code",
   "execution_count": 6,
   "id": "250b0e33",
   "metadata": {},
   "outputs": [
    {
     "data": {
      "text/plain": [
       "'../_data/endes/2018/REC0111.sav'"
      ]
     },
     "execution_count": 6,
     "metadata": {},
     "output_type": "execute_result"
    }
   ],
   "source": [
    "# Define path\n",
    "file_path = f'{path_folder}/{year}/{file}'\n",
    "file_path"
   ]
  },
  {
   "cell_type": "code",
   "execution_count": 12,
   "id": "8c5d40a4",
   "metadata": {},
   "outputs": [],
   "source": [
    "# Import file\n",
    "df, rec = ps.read_sav(file_path)"
   ]
  },
  {
   "cell_type": "code",
   "execution_count": 13,
   "id": "80f1256e",
   "metadata": {},
   "outputs": [],
   "source": [
    "cols_selected = None "
   ]
  },
  {
   "cell_type": "code",
   "execution_count": 9,
   "id": "1b40b72c",
   "metadata": {},
   "outputs": [],
   "source": [
    "a1 = ['asdf']"
   ]
  },
  {
   "cell_type": "code",
   "execution_count": 10,
   "id": "9c3fa880",
   "metadata": {},
   "outputs": [],
   "source": [
    "import numpy as np"
   ]
  },
  {
   "cell_type": "code",
   "execution_count": 11,
   "id": "fa91c786",
   "metadata": {},
   "outputs": [],
   "source": [
    "cols_selected = np.array('sd')"
   ]
  },
  {
   "cell_type": "code",
   "execution_count": 23,
   "id": "6f9eda4f",
   "metadata": {},
   "outputs": [
    {
     "data": {
      "text/plain": [
       "False"
      ]
     },
     "execution_count": 23,
     "metadata": {},
     "output_type": "execute_result"
    }
   ],
   "source": [
    "isinstance(cols_selected, list)"
   ]
  },
  {
   "cell_type": "code",
   "execution_count": 15,
   "id": "624ac788",
   "metadata": {},
   "outputs": [],
   "source": [
    "list1_sel =  [\"CASEID\", \"V000\", \"V001\", 'v2345']"
   ]
  },
  {
   "cell_type": "code",
   "execution_count": 16,
   "id": "e144bf3a",
   "metadata": {},
   "outputs": [
    {
     "name": "stdout",
     "output_type": "stream",
     "text": [
      "Hay alguna columna que no se encuentra en este dataframe.\n",
      "La columna `v2345` no está disponible en este dataset.\n"
     ]
    }
   ],
   "source": [
    "try:\n",
    "    df_selected = df.loc[:, list1_sel ].copy()\n",
    "    print(\"Todas las columnas deseadas estan disponibles.\")\n",
    "    \n",
    "except:\n",
    "    print(\"Hay alguna columna que no se encuentra en este dataframe.\")\n",
    "    \n",
    "    # Selection of available columns\n",
    "    columns_sel_clean = []\n",
    "    list_columns_avai = df.columns.tolist()\n",
    "    for col in list1_sel:\n",
    "\n",
    "        # Check if the column is in the list `list_columns_avai`\n",
    "        if col not in list_columns_avai:\n",
    "\n",
    "            # Do not Add this column to `columns_sel_clean`\n",
    "            print( f'La columna `{col}` no está disponible en este dataset.' )\n",
    "\n",
    "        # If it is in `list_columns_avai`, append it to this list `columns_sel_clean`\n",
    "        else:\n",
    "            columns_sel_clean.append( col )\n",
    "            \n",
    "    # Import the columns \n",
    "    df_selected = df.loc[:, columns_sel_clean ].copy()"
   ]
  },
  {
   "cell_type": "code",
   "execution_count": 17,
   "id": "4e621a2e",
   "metadata": {},
   "outputs": [],
   "source": [
    "# Generation of the function\n",
    "\n",
    "def import_sav_endes( filepath, cols_selected = None ):\n",
    "    \n",
    "    # Import file\n",
    "    df_aux, rec_ux = ps.read_sav( filepath )\n",
    "    \n",
    "    # Check if selection of all columns or a subset of columns\n",
    "    if cols_selected is None:\n",
    "        print( \"Select all columns\")\n",
    "        df_aux_selected = df_aux.copy()\n",
    "\n",
    "    elif isinstance(cols_selected, list):\n",
    "            \n",
    "            print('The input cols_selected is a list')\n",
    "            \n",
    "            try:\n",
    "                df_aux_selected = df_aux.loc[:, cols_selected ].copy()\n",
    "                print(\"Todas las columnas deseadas estan disponibles.\")\n",
    "\n",
    "            except:\n",
    "                print(\"Hay alguna columna que no se encuentra en este dataframe.\")\n",
    "                \n",
    "                # Columns available in dataset\n",
    "                list_columns_avai = df_aux.columns.tolist()\n",
    "                \n",
    "                # Selection of available columns\n",
    "                columns_sel_clean = []\n",
    "                for col in cols_selected:\n",
    "\n",
    "                    # Check if the column is in the list `list_columns_avai`\n",
    "                    if col not in list_columns_avai:\n",
    "\n",
    "                        # Do not Add this column to `columns_sel_clean`\n",
    "                        print( f'La columna `{col}` no está disponible en este dataset.' )\n",
    "\n",
    "                    # If it is in `list_columns_avai`, append it to this list `columns_sel_clean`\n",
    "                    else:\n",
    "                        columns_sel_clean.append( col )\n",
    "\n",
    "                # Import the columns \n",
    "                df_aux_selected = df_aux.loc[:, columns_sel_clean ].copy()\n",
    "\n",
    "    else:\n",
    "        raise TypeError(\"The input `cols_selected` is not a list.\")\n",
    "    \n",
    "    \n",
    "    return( df_aux_selected )"
   ]
  },
  {
   "cell_type": "markdown",
   "id": "7d72efc8",
   "metadata": {},
   "source": [
    "## Trying with different list of columns"
   ]
  },
  {
   "cell_type": "code",
   "execution_count": 18,
   "id": "9dccbbec",
   "metadata": {},
   "outputs": [],
   "source": [
    "list2_sel = [\n",
    "    \"CASEID\", \"V201\", \"V218\", \"V301\", \"V302\", \"V323\", \"V323A\", \"V325A\", \"V326\", \n",
    "    \"V327\", \"V337\", \"V359\", \"V360\", \"V361\", \"V362\", \"V363\", \"V364\", \"V367\", \n",
    "    \"V372\", \"V372A\", \"V375A\", \"V376\", \"V376A\", \"V379\", \"V380\"\n",
    "]\n",
    "\n",
    "\n",
    "list3_sel = [\n",
    "    \"CASEID\", \"V501\", \"V502\", \"V503\", \"V504\", \"V505\", \"V506\", \"V507\", \"V508\", \n",
    "    \"V509\", \"V510\", \"V511\", \"V512\", \"V513\", \"V525\", \"V613\", \"V714\", \"V715\"\n",
    "]"
   ]
  },
  {
   "cell_type": "code",
   "execution_count": 19,
   "id": "c4bfe856",
   "metadata": {},
   "outputs": [],
   "source": [
    "path_folder = '../_data/endes'\n",
    "\n",
    "year = 2015\n",
    "\n",
    "file = 'REC0111.sav'\n",
    "# Define path\n",
    "file_path1 = f'{path_folder}/{year}/{file}'"
   ]
  },
  {
   "cell_type": "code",
   "execution_count": 20,
   "id": "5307cc30",
   "metadata": {},
   "outputs": [
    {
     "name": "stdout",
     "output_type": "stream",
     "text": [
      "Select all columns\n",
      "Select all columns\n",
      "Select all columns\n",
      "Select all columns\n",
      "Select all columns\n"
     ]
    }
   ],
   "source": [
    "for yr in np.arange(2015,2020):\n",
    "    file_g = f'{path_folder}/{yr}/{file}'\n",
    "    import_sav_endes(file_g)"
   ]
  }
 ],
 "metadata": {
  "kernelspec": {
   "display_name": "Python 3 (ipykernel)",
   "language": "python",
   "name": "python3"
  },
  "language_info": {
   "codemirror_mode": {
    "name": "ipython",
    "version": 3
   },
   "file_extension": ".py",
   "mimetype": "text/x-python",
   "name": "python",
   "nbconvert_exporter": "python",
   "pygments_lexer": "ipython3",
   "version": "3.11.7"
  }
 },
 "nbformat": 4,
 "nbformat_minor": 5
}
