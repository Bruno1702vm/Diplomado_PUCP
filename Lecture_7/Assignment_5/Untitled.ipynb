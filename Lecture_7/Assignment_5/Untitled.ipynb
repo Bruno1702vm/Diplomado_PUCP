{
 "cells": [
  {
   "cell_type": "code",
   "execution_count": 123,
   "id": "88cde342-f217-43ec-ac23-39b38661dae4",
   "metadata": {},
   "outputs": [],
   "source": [
    "# this library is to manipulate browser\n",
    "from selenium import webdriver\n",
    "\n",
    "# it allows you to work with differen versions of drivers\n",
    "# We call ChromeDriver\n",
    "from webdriver_manager.chrome import ChromeDriverManager\n",
    "import re\n",
    "import time\n",
    "import pandas as pd"
   ]
  },
  {
   "cell_type": "code",
   "execution_count": 233,
   "id": "d6df783d-fde5-42e6-8814-f6ec6aedb58d",
   "metadata": {},
   "outputs": [
    {
     "data": {
      "text/plain": [
       "<selenium.webdriver.chrome.webdriver.WebDriver (session=\"dfde490eeb27ada09c45d094cb7a2695\")>"
      ]
     },
     "execution_count": 233,
     "metadata": {},
     "output_type": "execute_result"
    }
   ],
   "source": [
    "driver = webdriver.Chrome(service=webdriver.chrome.service.Service(ChromeDriverManager().install()))\n",
    "driver"
   ]
  },
  {
   "cell_type": "code",
   "execution_count": 235,
   "id": "7f7d3d7d-a517-418e-a714-2c78255ca5e1",
   "metadata": {},
   "outputs": [],
   "source": [
    "url = 'https://infogob.jne.gob.pe/Eleccion'\n",
    "driver.get( url )\n",
    "driver.maximize_window()\n",
    "driver.execute_script(\"document.body.style.zoom='100%'\")"
   ]
  },
  {
   "cell_type": "code",
   "execution_count": 237,
   "id": "c4d94ab8-bff1-4bfc-adc3-3f41328bd2cf",
   "metadata": {},
   "outputs": [],
   "source": [
    "from selenium.webdriver.common.by import By\n",
    "from selenium.webdriver.support.ui import Select\n",
    "from selenium.webdriver.chrome.service import Service\n",
    "from selenium.webdriver.common.keys import Keys\n",
    "from selenium.webdriver.common.action_chains import ActionChains\n",
    "\n",
    "#First menu\n",
    "elections = driver.find_element( By.XPATH  , '/html/body/div[1]/section/div[2]/div[2]/div[2]/div[1]/div').click()\n",
    "time.sleep(3)"
   ]
  },
  {
   "cell_type": "code",
   "execution_count": 239,
   "id": "65bda389-0b57-4f32-9602-dea66533fd91",
   "metadata": {},
   "outputs": [],
   "source": [
    "#Presidential elections\n",
    "elections = driver.find_element( By.XPATH  , '/html/body/div[1]/section/div[2]/div[2]/div[2]/div[1]/div/div[2]/div[2]').click()\n",
    "time.sleep(3)"
   ]
  },
  {
   "cell_type": "code",
   "execution_count": 241,
   "id": "525a108d-d9d1-4895-8ec7-0dcedeca40a6",
   "metadata": {},
   "outputs": [],
   "source": [
    "#Second menu\n",
    "elections = driver.find_element( By.XPATH  , '/html/body/div[1]/section/div[2]/div[2]/div[2]/div[2]/div').click()\n",
    "time.sleep(3)\n",
    "\n"
   ]
  },
  {
   "cell_type": "code",
   "execution_count": 243,
   "id": "246f260f-470c-48b3-90ea-5333c6c306c3",
   "metadata": {},
   "outputs": [
    {
     "data": {
      "text/plain": [
       "<selenium.webdriver.remote.webelement.WebElement (session=\"dfde490eeb27ada09c45d094cb7a2695\", element=\"f.29B8190F49A7074F64EE685C7820AD46.d.AA2B1C1DE288CA7F79B662015B8242F2.e.34\")>"
      ]
     },
     "execution_count": 243,
     "metadata": {},
     "output_type": "execute_result"
    }
   ],
   "source": [
    "# Seleccionar todos los elementos de la lista usando XPATH\n",
    "#options = driver.find_elements(By.XPATH, '/html/body/div[1]/section/div[2]/div[2]/div[2]/div[2]/div/div/a')\n",
    "\n",
    "container = driver.find_element(By.XPATH, '/html/body/div[1]/section/div[2]/div[2]/div[2]/div[2]/div/select')\n",
    "time.sleep(5)\n",
    "\n",
    "#options = container.find_elements(By.TAG_NAME, 'a')\n",
    "\n",
    "#for option in container:\n",
    " #   print(option.text)  # Muestra el texto de la opción\n",
    "  #  option.click()\n",
    "   # time.sleep(10)  # Espera 10 segundos antes de seleccionar la siguiente opción\n",
    "\n",
    "container"
   ]
  },
  {
   "cell_type": "code",
   "execution_count": 251,
   "id": "370a8ec5-7ad9-4280-b4f7-921d4e2952c6",
   "metadata": {},
   "outputs": [
    {
     "data": {
      "text/plain": [
       "''"
      ]
     },
     "execution_count": 251,
     "metadata": {},
     "output_type": "execute_result"
    }
   ],
   "source": [
    "#container.find_elements(By.TAG_NAME, \"option\")[2].text\n",
    "\n",
    "#container.find_elements(By.CLASS_NAME, \"item\")[0].text\n",
    "container.find_element(By.XPATH, '/html/body/div[1]/section/div[2]/div[2]/div[2]/div[2]/div/select/option[2]').text\n"
   ]
  },
  {
   "cell_type": "code",
   "execution_count": null,
   "id": "1fbdb286-7252-48b6-9dae-e74390cafa2b",
   "metadata": {},
   "outputs": [],
   "source": [
    "#Presidential elections 2021 - 2nd round\n",
    "elections = driver.find_element( By.XPATH  , '/html/body/div[1]/section/div[2]/div[2]/div[2]/div[2]/div/div[2]/div[2]').click()\n",
    "time.sleep(3)\n",
    "\n",
    "#We see the election data\n",
    "elections = driver.find_element( By.XPATH  , '/html/body/div[1]/section/div[2]/div[2]/div[3]/div/button').click()\n",
    "time.sleep(3)\n",
    "\n",
    "#Candidates and results\n",
    "elections = driver.find_element( By.XPATH  , '/html/body/div[1]/section/div[2]/div[3]/div[1]/ul/li[2]/a').click()\n",
    "time.sleep(5)\n",
    "\n",
    "#Table\n",
    "table = driver.find_element( By.XPATH  , '/html/body/div[1]/section/div[2]/div[3]/div[3]/div/div/div/div[1]/div[2]/div[2]')\n",
    "time.sleep(3)\n",
    "\n",
    "table_html = table.get_attribute( 'innerHTML' )\n",
    "table = pd.read_html( table_html )\n",
    "\n",
    "# We create a dataframe\n",
    "df = table[0]\n",
    "\n",
    "# We select the wanted columns\n",
    "df = df[[\"ORGANIZACIÓN POLÍTICA\", \"TOTAL VOTOS\"]]\n",
    "\n",
    "df"
   ]
  },
  {
   "cell_type": "code",
   "execution_count": null,
   "id": "fc47778a-e30a-4127-ba99-14fd13247d0a",
   "metadata": {},
   "outputs": [],
   "source": []
  },
  {
   "cell_type": "code",
   "execution_count": 221,
   "id": "c5e9c813-5c53-4836-84dc-7085c0707ca9",
   "metadata": {},
   "outputs": [],
   "source": [
    "driver = webdriver.Chrome(service=webdriver.chrome.service.Service(ChromeDriverManager().install()))\n",
    "driver\n",
    "# Maximize window\n",
    "driver.maximize_window()\n",
    "\n",
    "# go to the link\n",
    "url_1 = \"https://resultadoshistorico.onpe.gob.pe/EG2021/\"\n",
    "driver.get( url_1 )\n",
    "time.sleep(5)\n",
    "\n",
    "resumen_general = driver.find_element(By.XPATH, '/html/body/onpe-root/onpe-home-onpe/div[1]/div/div/div/div[2]/div[1]/div/div/a/div[1]/img')\n",
    "resumen_general.click()"
   ]
  },
  {
   "cell_type": "code",
   "execution_count": 223,
   "id": "c88864a4-6ee2-4285-8072-5bda2aec5236",
   "metadata": {},
   "outputs": [],
   "source": [
    "presidential = driver.find_element(By.XPATH, '/html/body/onpe-root/onpe-layout-container/onpe-onpe-rgen-rsgr/div/div[2]/div[2]/ul/li[1]/a')\n",
    "presidential.click()"
   ]
  },
  {
   "cell_type": "code",
   "execution_count": 225,
   "id": "9e7e5862-0df9-439c-bab2-0c06af19f9ef",
   "metadata": {},
   "outputs": [],
   "source": [
    "opt_peru = driver.find_element(By.XPATH, '/html/body/onpe-root/onpe-layout-container/onpe-onpe-rgen-rsgr/div/div[2]/div[1]/div[1]/div/div/div[1]/select/option[2]')\n",
    "opt_peru.click()"
   ]
  },
  {
   "cell_type": "code",
   "execution_count": 227,
   "id": "d296f6a7-4a9e-4bad-b237-44e07e05eb8a",
   "metadata": {},
   "outputs": [
    {
     "data": {
      "text/plain": [
       "<selenium.webdriver.remote.webelement.WebElement (session=\"6244a2ea628d2ff2deffa488ee58f2e4\", element=\"f.42DAABE2E9AFCB810A79F0BD1994DB3E.d.F881A00DAA269F4900CBD77911F13CBC.e.51\")>"
      ]
     },
     "execution_count": 227,
     "metadata": {},
     "output_type": "execute_result"
    }
   ],
   "source": [
    "#Actualización de las funciones para usar objetos con selenium\n",
    "regiones = driver.find_element(By.XPATH, '/html/body/onpe-root/onpe-layout-container/onpe-onpe-rgen-rsgr/div/div[2]/div[1]/div[1]/div/div/div[2]/select')\n",
    "regiones"
   ]
  },
  {
   "cell_type": "code",
   "execution_count": 229,
   "id": "6a8b42de-d824-49a1-b04b-5a5a60f197b2",
   "metadata": {},
   "outputs": [
    {
     "data": {
      "text/plain": [
       "'AMAZONAS'"
      ]
     },
     "execution_count": 229,
     "metadata": {},
     "output_type": "execute_result"
    }
   ],
   "source": [
    "driver.find_element(By.XPATH, \"/html/body/onpe-root/onpe-layout-container/onpe-onpe-rgen-rsgr/div/div[2]/div[1]/div[1]/div/div/div[2]/select/option[2]\").text"
   ]
  },
  {
   "cell_type": "code",
   "execution_count": null,
   "id": "51448302-ef69-488d-b295-dc70dba6350f",
   "metadata": {},
   "outputs": [],
   "source": [
    "/html/body/div[1]/section/div[2]/div[2]/div[2]/div[2]/div/div[2]/div[1]\n",
    "\n",
    "\n",
    "/html/body/div[1]/section/div[2]/div[2]/div[2]/div[2]/div/div[2]/div[1]\n",
    "\n",
    "/html/body/div[1]/section/div[2]/div[2]/div[2]/div[2]/div/div[2]\n",
    "\n",
    "/html/body/div[1]/section/div[2]/div[2]/div[2]/div[2]/div\n",
    "\n",
    "/html/body/div[1]/section/div[2]/div[2]/div[2]/div[2]/div/select\n",
    "\n",
    "\n"
   ]
  }
 ],
 "metadata": {
  "kernelspec": {
   "display_name": "Python 3 (ipykernel)",
   "language": "python",
   "name": "python3"
  },
  "language_info": {
   "codemirror_mode": {
    "name": "ipython",
    "version": 3
   },
   "file_extension": ".py",
   "mimetype": "text/x-python",
   "name": "python",
   "nbconvert_exporter": "python",
   "pygments_lexer": "ipython3",
   "version": "3.12.4"
  }
 },
 "nbformat": 4,
 "nbformat_minor": 5
}
