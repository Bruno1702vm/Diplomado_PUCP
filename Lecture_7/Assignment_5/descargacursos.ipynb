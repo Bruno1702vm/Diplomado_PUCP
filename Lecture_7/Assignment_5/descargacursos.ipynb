{
 "cells": [
  {
   "cell_type": "markdown",
   "metadata": {},
   "source": [
    "# Assignment 5\n",
    "The script should not give an error. Any mistake will be consider as 0.\n"
   ]
  },
  {
   "cell_type": "code",
   "execution_count": 1,
   "metadata": {},
   "outputs": [
    {
     "name": "stdout",
     "output_type": "stream",
     "text": [
      "Requirement already satisfied: selenium in c:\\users\\jesus\\appdata\\local\\anaconda3\\lib\\site-packages (4.23.1)\n",
      "Requirement already satisfied: urllib3<3,>=1.26 in c:\\users\\jesus\\appdata\\local\\anaconda3\\lib\\site-packages (from urllib3[socks]<3,>=1.26->selenium) (2.2.2)\n",
      "Requirement already satisfied: trio~=0.17 in c:\\users\\jesus\\appdata\\local\\anaconda3\\lib\\site-packages (from selenium) (0.26.2)\n",
      "Requirement already satisfied: trio-websocket~=0.9 in c:\\users\\jesus\\appdata\\local\\anaconda3\\lib\\site-packages (from selenium) (0.11.1)\n",
      "Requirement already satisfied: certifi>=2021.10.8 in c:\\users\\jesus\\appdata\\local\\anaconda3\\lib\\site-packages (from selenium) (2024.6.2)\n",
      "Requirement already satisfied: typing_extensions~=4.9 in c:\\users\\jesus\\appdata\\local\\anaconda3\\lib\\site-packages (from selenium) (4.11.0)\n",
      "Requirement already satisfied: websocket-client~=1.8 in c:\\users\\jesus\\appdata\\local\\anaconda3\\lib\\site-packages (from selenium) (1.8.0)\n",
      "Requirement already satisfied: attrs>=23.2.0 in c:\\users\\jesus\\appdata\\local\\anaconda3\\lib\\site-packages (from trio~=0.17->selenium) (24.2.0)\n",
      "Requirement already satisfied: sortedcontainers in c:\\users\\jesus\\appdata\\local\\anaconda3\\lib\\site-packages (from trio~=0.17->selenium) (2.4.0)\n",
      "Requirement already satisfied: idna in c:\\users\\jesus\\appdata\\local\\anaconda3\\lib\\site-packages (from trio~=0.17->selenium) (3.7)\n",
      "Requirement already satisfied: outcome in c:\\users\\jesus\\appdata\\local\\anaconda3\\lib\\site-packages (from trio~=0.17->selenium) (1.3.0.post0)\n",
      "Requirement already satisfied: sniffio>=1.3.0 in c:\\users\\jesus\\appdata\\local\\anaconda3\\lib\\site-packages (from trio~=0.17->selenium) (1.3.0)\n",
      "Requirement already satisfied: cffi>=1.14 in c:\\users\\jesus\\appdata\\local\\anaconda3\\lib\\site-packages (from trio~=0.17->selenium) (1.16.0)\n",
      "Requirement already satisfied: wsproto>=0.14 in c:\\users\\jesus\\appdata\\local\\anaconda3\\lib\\site-packages (from trio-websocket~=0.9->selenium) (1.2.0)\n",
      "Requirement already satisfied: pysocks!=1.5.7,<2.0,>=1.5.6 in c:\\users\\jesus\\appdata\\local\\anaconda3\\lib\\site-packages (from urllib3[socks]<3,>=1.26->selenium) (1.7.1)\n",
      "Requirement already satisfied: pycparser in c:\\users\\jesus\\appdata\\local\\anaconda3\\lib\\site-packages (from cffi>=1.14->trio~=0.17->selenium) (2.21)\n",
      "Requirement already satisfied: h11<1,>=0.9.0 in c:\\users\\jesus\\appdata\\local\\anaconda3\\lib\\site-packages (from wsproto>=0.14->trio-websocket~=0.9->selenium) (0.14.0)\n",
      "Requirement already satisfied: webdriver-manager in c:\\users\\jesus\\appdata\\local\\anaconda3\\lib\\site-packages (4.0.2)\n",
      "Requirement already satisfied: requests in c:\\users\\jesus\\appdata\\local\\anaconda3\\lib\\site-packages (from webdriver-manager) (2.32.2)\n",
      "Requirement already satisfied: python-dotenv in c:\\users\\jesus\\appdata\\local\\anaconda3\\lib\\site-packages (from webdriver-manager) (0.21.0)\n",
      "Requirement already satisfied: packaging in c:\\users\\jesus\\appdata\\local\\anaconda3\\lib\\site-packages (from webdriver-manager) (23.2)\n",
      "Requirement already satisfied: charset-normalizer<4,>=2 in c:\\users\\jesus\\appdata\\local\\anaconda3\\lib\\site-packages (from requests->webdriver-manager) (2.0.4)\n",
      "Requirement already satisfied: idna<4,>=2.5 in c:\\users\\jesus\\appdata\\local\\anaconda3\\lib\\site-packages (from requests->webdriver-manager) (3.7)\n",
      "Requirement already satisfied: urllib3<3,>=1.21.1 in c:\\users\\jesus\\appdata\\local\\anaconda3\\lib\\site-packages (from requests->webdriver-manager) (2.2.2)\n",
      "Requirement already satisfied: certifi>=2017.4.17 in c:\\users\\jesus\\appdata\\local\\anaconda3\\lib\\site-packages (from requests->webdriver-manager) (2024.6.2)\n"
     ]
    }
   ],
   "source": [
    "!pip install selenium\n",
    "!pip install webdriver-manager"
   ]
  },
  {
   "cell_type": "code",
   "execution_count": 1,
   "metadata": {},
   "outputs": [],
   "source": [
    "# this library is to manipulate browser\n",
    "from selenium import webdriver\n",
    "\n",
    "# it allows you to work with differen versions of drivers\n",
    "# We call ChromeDriver\n",
    "from webdriver_manager.chrome import ChromeDriverManager\n",
    "import re # regular expressions\n",
    "import time # para calcular tiempo de corrida"
   ]
  },
  {
   "cell_type": "code",
   "execution_count": 2,
   "metadata": {},
   "outputs": [
    {
     "data": {
      "text/plain": [
       "'C:\\\\Users\\\\jesus\\\\Documents\\\\GitHub\\\\Diplomado_PUCP\\\\Lecture_7\\\\Assignment_5'"
      ]
     },
     "execution_count": 2,
     "metadata": {},
     "output_type": "execute_result"
    }
   ],
   "source": [
    "pwd # sirve para ubicar dónde nos encontramos"
   ]
  },
  {
   "cell_type": "code",
   "execution_count": 3,
   "metadata": {},
   "outputs": [],
   "source": [
    "from selenium import webdriver\n",
    "from webdriver_manager.chrome import ChromeDriverManager\n",
    "from selenium.webdriver.chrome.service import Service\n",
    "from selenium.webdriver.chrome.options import Options\n",
    "from selenium.webdriver.common.by import By\n",
    "from selenium.webdriver.support.ui import Select"
   ]
  },
  {
   "cell_type": "code",
   "execution_count": 4,
   "metadata": {},
   "outputs": [],
   "source": [
    "import pandas as pd\n",
    "from io import StringIO"
   ]
  },
  {
   "cell_type": "code",
   "execution_count": 5,
   "metadata": {},
   "outputs": [],
   "source": [
    "# Inicializa el controlador de Chrome con `ChromeDriverManager`\n",
    "driver = webdriver.Chrome(service = webdriver.chrome.service.Service(ChromeDriverManager().install()))"
   ]
  },
  {
   "cell_type": "code",
   "execution_count": 15,
   "metadata": {},
   "outputs": [
    {
     "ename": "TypeError",
     "evalue": "'str' object is not callable",
     "output_type": "error",
     "traceback": [
      "\u001b[1;31m---------------------------------------------------------------------------\u001b[0m",
      "\u001b[1;31mTypeError\u001b[0m                                 Traceback (most recent call last)",
      "Cell \u001b[1;32mIn[15], line 13\u001b[0m\n\u001b[0;32m     11\u001b[0m driver\u001b[38;5;241m.\u001b[39mfind_element(By\u001b[38;5;241m.\u001b[39mXPATH, \u001b[38;5;124m'\u001b[39m\u001b[38;5;124m/html/body/div[1]/section/div/section/div/div/section/div/section[2]/section/row/div/div/div[4]/ul/li[3]/span/div\u001b[39m\u001b[38;5;124m'\u001b[39m)\u001b[38;5;241m.\u001b[39mclick()\n\u001b[0;32m     12\u001b[0m time\u001b[38;5;241m.\u001b[39msleep(\u001b[38;5;241m2\u001b[39m)\n\u001b[1;32m---> 13\u001b[0m driver\u001b[38;5;241m.\u001b[39mfind_element(By\u001b[38;5;241m.\u001b[39mXPATH, \u001b[38;5;124m'\u001b[39m\u001b[38;5;124m/html/body/div[1]/section/div/section/div/div/section/div/section[3]/section/row/table[1]/tbody/tr[1]/td/h4/span\u001b[39m\u001b[38;5;124m'\u001b[39m)\u001b[38;5;241m.\u001b[39mtext()\n",
      "\u001b[1;31mTypeError\u001b[0m: 'str' object is not callable"
     ]
    }
   ],
   "source": [
    "service = Service(executable_path=\"chromedriver-win64/chromedriver.exe\")\n",
    "driver = webdriver.Chrome(service=service)\n",
    "driver.maximize_window()\n",
    "url = \"https://maipi.lamolina.edu.pe/publico/boletin\"\n",
    "driver.get(url)\n",
    "time.sleep(7)\n",
    "driver.find_element(By.XPATH, '/html/body/div[1]/section/div/section/div/div/section/div/section[1]/section/div/div[2]/a/span').click() # Departamentos\n",
    "time.sleep(4)\n",
    "driver.find_element(By.XPATH, '/html/body/div[1]/section/div/section/div/div/section/div/section[2]/section/row/div/div/div[1]').click() # selecciona\n",
    "time.sleep(3)\n",
    "driver.find_element(By.XPATH, '/html/body/div[1]/section/div/section/div/div/section/div/section[2]/section/row/div/div/div[4]/ul/li[3]/span/div').click()\n",
    "time.sleep(2)\n"
   ]
  },
  {
   "cell_type": "code",
   "execution_count": 16,
   "metadata": {},
   "outputs": [
    {
     "data": {
      "text/plain": [
       "'AG4138 3-2-4 Agroecología'"
      ]
     },
     "execution_count": 16,
     "metadata": {},
     "output_type": "execute_result"
    }
   ],
   "source": [
    "driver.find_element(By.XPATH, '/html/body/div[1]/section/div/section/div/div/section/div/section[3]/section/row/table[1]/tbody/tr[1]/td/h4/span').text"
   ]
  },
  {
   "cell_type": "code",
   "execution_count": 17,
   "metadata": {},
   "outputs": [
    {
     "data": {
      "text/plain": [
       "'AG3002 3-2-4 Agrotecnia'"
      ]
     },
     "execution_count": 17,
     "metadata": {},
     "output_type": "execute_result"
    }
   ],
   "source": [
    "driver.find_element(By.XPATH, '/html/body/div[1]/section/div/section/div/div/section/div/section[3]/section/row/table[2]/tbody/tr[1]/td').text"
   ]
  },
  {
   "cell_type": "code",
   "execution_count": null,
   "metadata": {},
   "outputs": [],
   "source": []
  },
  {
   "cell_type": "code",
   "execution_count": 64,
   "metadata": {},
   "outputs": [],
   "source": [
    "table_path= driver.find_element(By.XPATH, '/html/body/div[1]/section/div/section/div/div/section/div/section[3]/section/row') # funcuoina"
   ]
  },
  {
   "cell_type": "code",
   "execution_count": 101,
   "metadata": {},
   "outputs": [],
   "source": [
    "table_path= driver.find_element(By.XPATH, '/html/body/div[1]/section/div/section/div/div/section/div/section[3]/section/row/table[1]')\n",
    "table_path= driver.find_element(By.XPATH, '/html/body/div[1]/section/div/section/div/div/section/div/section[3]/section/row/table[5]')"
   ]
  },
  {
   "cell_type": "code",
   "execution_count": 109,
   "metadata": {},
   "outputs": [],
   "source": [
    "table_path= driver.find_element(By.XPATH, '/html/body/div[1]/section/div/section/div/div/section/div/section[3]') # funcuoina"
   ]
  },
  {
   "cell_type": "code",
   "execution_count": null,
   "metadata": {},
   "outputs": [],
   "source": []
  },
  {
   "cell_type": "code",
   "execution_count": null,
   "metadata": {},
   "outputs": [],
   "source": [
    "/html/body/div[1]/section/div/section/div/div/section/div/section[3]"
   ]
  },
  {
   "cell_type": "code",
   "execution_count": 110,
   "metadata": {},
   "outputs": [],
   "source": [
    "table_html = table_path.get_attribute( 'innerHTML' )"
   ]
  },
  {
   "cell_type": "code",
   "execution_count": 112,
   "metadata": {},
   "outputs": [
    {
     "data": {
      "text/html": [
       "<div>\n",
       "<style scoped>\n",
       "    .dataframe tbody tr th:only-of-type {\n",
       "        vertical-align: middle;\n",
       "    }\n",
       "\n",
       "    .dataframe tbody tr th {\n",
       "        vertical-align: top;\n",
       "    }\n",
       "\n",
       "    .dataframe thead th {\n",
       "        text-align: right;\n",
       "    }\n",
       "</style>\n",
       "<table border=\"1\" class=\"dataframe\">\n",
       "  <thead>\n",
       "    <tr style=\"text-align: right;\">\n",
       "      <th></th>\n",
       "      <th>Teoría</th>\n",
       "      <th>Aula</th>\n",
       "      <th>Clave</th>\n",
       "      <th>Práctica</th>\n",
       "      <th>Aula.1</th>\n",
       "      <th>Horario</th>\n",
       "      <th>Docente</th>\n",
       "      <th>% Carga</th>\n",
       "      <th>Restricción</th>\n",
       "      <th>Vac / Mat</th>\n",
       "    </tr>\n",
       "  </thead>\n",
       "  <tbody>\n",
       "    <tr>\n",
       "      <th>0</th>\n",
       "      <td>C</td>\n",
       "      <td>5.0</td>\n",
       "      <td>Teoría Presencial</td>\n",
       "      <td>NaN</td>\n",
       "      <td>NaN</td>\n",
       "      <td>Lun 10:00 a 11:00 Vie 08:00 a 10:00</td>\n",
       "      <td>0133 Percy Zorogastua C. 50%0152 Braulio La To...</td>\n",
       "      <td>0133 Percy Zorogastua C. 50%0152 Braulio La To...</td>\n",
       "      <td>NaN</td>\n",
       "      <td>35 / 20</td>\n",
       "    </tr>\n",
       "    <tr>\n",
       "      <th>1</th>\n",
       "      <td>NaN</td>\n",
       "      <td>NaN</td>\n",
       "      <td>1411 Práctica Presencial</td>\n",
       "      <td>C*</td>\n",
       "      <td>5.0</td>\n",
       "      <td>Mie 11:00 a 13:00</td>\n",
       "      <td>0133 Percy Zorogastua C. 100%</td>\n",
       "      <td>0133 Percy Zorogastua C. 100%</td>\n",
       "      <td>Modalidad</td>\n",
       "      <td>35 / 20</td>\n",
       "    </tr>\n",
       "    <tr>\n",
       "      <th>2</th>\n",
       "      <td>B</td>\n",
       "      <td>5.0</td>\n",
       "      <td>Teoría Presencial</td>\n",
       "      <td>NaN</td>\n",
       "      <td>NaN</td>\n",
       "      <td>Mar 08:00 a 10:00 Jue 10:00 a 11:00</td>\n",
       "      <td>0771 Javier Arias C. 50%0779 Saray Siura C. 50%</td>\n",
       "      <td>0771 Javier Arias C. 50%0779 Saray Siura C. 50%</td>\n",
       "      <td>NaN</td>\n",
       "      <td>31 / 25</td>\n",
       "    </tr>\n",
       "    <tr>\n",
       "      <th>3</th>\n",
       "      <td>NaN</td>\n",
       "      <td>NaN</td>\n",
       "      <td>1421 Práctica Presencial</td>\n",
       "      <td>B*</td>\n",
       "      <td>5.0</td>\n",
       "      <td>Lun 11:00 a 13:00</td>\n",
       "      <td>0771 Javier Arias C. 50%0779 Saray Siura C. 50%</td>\n",
       "      <td>0771 Javier Arias C. 50%0779 Saray Siura C. 50%</td>\n",
       "      <td>Modalidad</td>\n",
       "      <td>31 / 25</td>\n",
       "    </tr>\n",
       "    <tr>\n",
       "      <th>4</th>\n",
       "      <td>Z/F</td>\n",
       "      <td>5.0</td>\n",
       "      <td>Teoría Presencial</td>\n",
       "      <td>NaN</td>\n",
       "      <td>NaN</td>\n",
       "      <td>Mar 13:00 a 14:00 Mie 15:00 a 17:00</td>\n",
       "      <td>0133 Percy Zorogastua C. 50%0771 Javier Arias ...</td>\n",
       "      <td>0133 Percy Zorogastua C. 50%0771 Javier Arias ...</td>\n",
       "      <td>NaN</td>\n",
       "      <td>35 / 29</td>\n",
       "    </tr>\n",
       "    <tr>\n",
       "      <th>5</th>\n",
       "      <td>NaN</td>\n",
       "      <td>NaN</td>\n",
       "      <td>1431 Práctica Presencial</td>\n",
       "      <td>F*</td>\n",
       "      <td>5.0</td>\n",
       "      <td>Lun 14:00 a 16:00</td>\n",
       "      <td>0133 Percy Zorogastua C. 50%0771 Javier Arias ...</td>\n",
       "      <td>0133 Percy Zorogastua C. 50%0771 Javier Arias ...</td>\n",
       "      <td>Modalidad</td>\n",
       "      <td>35 / 29</td>\n",
       "    </tr>\n",
       "  </tbody>\n",
       "</table>\n",
       "</div>"
      ],
      "text/plain": [
       "  Teoría  Aula                     Clave Práctica  Aula.1  \\\n",
       "0      C   5.0         Teoría Presencial      NaN     NaN   \n",
       "1    NaN   NaN  1411 Práctica Presencial       C*     5.0   \n",
       "2      B   5.0         Teoría Presencial      NaN     NaN   \n",
       "3    NaN   NaN  1421 Práctica Presencial       B*     5.0   \n",
       "4    Z/F   5.0         Teoría Presencial      NaN     NaN   \n",
       "5    NaN   NaN  1431 Práctica Presencial       F*     5.0   \n",
       "\n",
       "                               Horario  \\\n",
       "0  Lun 10:00 a 11:00 Vie 08:00 a 10:00   \n",
       "1                    Mie 11:00 a 13:00   \n",
       "2  Mar 08:00 a 10:00 Jue 10:00 a 11:00   \n",
       "3                    Lun 11:00 a 13:00   \n",
       "4  Mar 13:00 a 14:00 Mie 15:00 a 17:00   \n",
       "5                    Lun 14:00 a 16:00   \n",
       "\n",
       "                                             Docente  \\\n",
       "0  0133 Percy Zorogastua C. 50%0152 Braulio La To...   \n",
       "1                      0133 Percy Zorogastua C. 100%   \n",
       "2    0771 Javier Arias C. 50%0779 Saray Siura C. 50%   \n",
       "3    0771 Javier Arias C. 50%0779 Saray Siura C. 50%   \n",
       "4  0133 Percy Zorogastua C. 50%0771 Javier Arias ...   \n",
       "5  0133 Percy Zorogastua C. 50%0771 Javier Arias ...   \n",
       "\n",
       "                                             % Carga Restricción Vac / Mat  \n",
       "0  0133 Percy Zorogastua C. 50%0152 Braulio La To...         NaN   35 / 20  \n",
       "1                      0133 Percy Zorogastua C. 100%   Modalidad   35 / 20  \n",
       "2    0771 Javier Arias C. 50%0779 Saray Siura C. 50%         NaN   31 / 25  \n",
       "3    0771 Javier Arias C. 50%0779 Saray Siura C. 50%   Modalidad   31 / 25  \n",
       "4  0133 Percy Zorogastua C. 50%0771 Javier Arias ...         NaN   35 / 29  \n",
       "5  0133 Percy Zorogastua C. 50%0771 Javier Arias ...   Modalidad   35 / 29  "
      ]
     },
     "execution_count": 112,
     "metadata": {},
     "output_type": "execute_result"
    }
   ],
   "source": [
    "import pandas as pd\n",
    "from io import StringIO\n",
    "table = pd.read_html( StringIO(table_html) )\n",
    "table[1]"
   ]
  },
  {
   "cell_type": "code",
   "execution_count": 90,
   "metadata": {},
   "outputs": [
    {
     "ename": "IndexError",
     "evalue": "list index out of range",
     "output_type": "error",
     "traceback": [
      "\u001b[1;31m---------------------------------------------------------------------------\u001b[0m",
      "\u001b[1;31mIndexError\u001b[0m                                Traceback (most recent call last)",
      "Cell \u001b[1;32mIn[90], line 1\u001b[0m\n\u001b[1;32m----> 1\u001b[0m table[\u001b[38;5;241m2\u001b[39m]\n",
      "\u001b[1;31mIndexError\u001b[0m: list index out of range"
     ]
    }
   ],
   "source": [
    "table[2]"
   ]
  },
  {
   "cell_type": "code",
   "execution_count": 83,
   "metadata": {},
   "outputs": [
    {
     "ename": "NoSuchElementException",
     "evalue": "Message: no such element: Unable to locate element: {\"method\":\"xpath\",\"selector\":\"/html/body/div[1]/section/div[2]/div[2]/div[2]/div[2]/div\"}\n  (Session info: chrome=127.0.6533.120); For documentation on this error, please visit: https://www.selenium.dev/documentation/webdriver/troubleshooting/errors#no-such-element-exception\nStacktrace:\n\tGetHandleVerifier [0x00007FF641749642+30946]\n\t(No symbol) [0x00007FF6416FE3D9]\n\t(No symbol) [0x00007FF6415F6FDA]\n\t(No symbol) [0x00007FF64164822C]\n\t(No symbol) [0x00007FF64164850C]\n\t(No symbol) [0x00007FF64168DCB7]\n\t(No symbol) [0x00007FF64166CAAF]\n\t(No symbol) [0x00007FF64168B041]\n\t(No symbol) [0x00007FF64166C813]\n\t(No symbol) [0x00007FF64163A6E5]\n\t(No symbol) [0x00007FF64163B021]\n\tGetHandleVerifier [0x00007FF64187F84D+1301229]\n\tGetHandleVerifier [0x00007FF64188BDC7+1351783]\n\tGetHandleVerifier [0x00007FF641882A13+1313971]\n\tGetHandleVerifier [0x00007FF64177DD16+245686]\n\t(No symbol) [0x00007FF64170759F]\n\t(No symbol) [0x00007FF641703814]\n\t(No symbol) [0x00007FF6417039A2]\n\t(No symbol) [0x00007FF6416FA3FF]\n\tBaseThreadInitThunk [0x00007FFACE04257D+29]\n\tRtlUserThreadStart [0x00007FFACF14AF28+40]\n",
     "output_type": "error",
     "traceback": [
      "\u001b[1;31m---------------------------------------------------------------------------\u001b[0m",
      "\u001b[1;31mNoSuchElementException\u001b[0m                    Traceback (most recent call last)",
      "Cell \u001b[1;32mIn[83], line 1\u001b[0m\n\u001b[1;32m----> 1\u001b[0m driver\u001b[38;5;241m.\u001b[39mfind_element(By\u001b[38;5;241m.\u001b[39mXPATH, \u001b[38;5;124m'\u001b[39m\u001b[38;5;124m/html/body/div[1]/section/div[2]/div[2]/div[2]/div[2]/div\u001b[39m\u001b[38;5;124m'\u001b[39m)\u001b[38;5;241m.\u001b[39mclick() \u001b[38;5;66;03m# Elección\u001b[39;00m\n\u001b[0;32m      2\u001b[0m time\u001b[38;5;241m.\u001b[39msleep(\u001b[38;5;241m8\u001b[39m)\n",
      "File \u001b[1;32m~\\AppData\\Local\\anaconda3\\Lib\\site-packages\\selenium\\webdriver\\remote\\webdriver.py:748\u001b[0m, in \u001b[0;36mWebDriver.find_element\u001b[1;34m(self, by, value)\u001b[0m\n\u001b[0;32m    745\u001b[0m     by \u001b[38;5;241m=\u001b[39m By\u001b[38;5;241m.\u001b[39mCSS_SELECTOR\n\u001b[0;32m    746\u001b[0m     value \u001b[38;5;241m=\u001b[39m \u001b[38;5;124mf\u001b[39m\u001b[38;5;124m'\u001b[39m\u001b[38;5;124m[name=\u001b[39m\u001b[38;5;124m\"\u001b[39m\u001b[38;5;132;01m{\u001b[39;00mvalue\u001b[38;5;132;01m}\u001b[39;00m\u001b[38;5;124m\"\u001b[39m\u001b[38;5;124m]\u001b[39m\u001b[38;5;124m'\u001b[39m\n\u001b[1;32m--> 748\u001b[0m \u001b[38;5;28;01mreturn\u001b[39;00m \u001b[38;5;28mself\u001b[39m\u001b[38;5;241m.\u001b[39mexecute(Command\u001b[38;5;241m.\u001b[39mFIND_ELEMENT, {\u001b[38;5;124m\"\u001b[39m\u001b[38;5;124musing\u001b[39m\u001b[38;5;124m\"\u001b[39m: by, \u001b[38;5;124m\"\u001b[39m\u001b[38;5;124mvalue\u001b[39m\u001b[38;5;124m\"\u001b[39m: value})[\u001b[38;5;124m\"\u001b[39m\u001b[38;5;124mvalue\u001b[39m\u001b[38;5;124m\"\u001b[39m]\n",
      "File \u001b[1;32m~\\AppData\\Local\\anaconda3\\Lib\\site-packages\\selenium\\webdriver\\remote\\webdriver.py:354\u001b[0m, in \u001b[0;36mWebDriver.execute\u001b[1;34m(self, driver_command, params)\u001b[0m\n\u001b[0;32m    352\u001b[0m response \u001b[38;5;241m=\u001b[39m \u001b[38;5;28mself\u001b[39m\u001b[38;5;241m.\u001b[39mcommand_executor\u001b[38;5;241m.\u001b[39mexecute(driver_command, params)\n\u001b[0;32m    353\u001b[0m \u001b[38;5;28;01mif\u001b[39;00m response:\n\u001b[1;32m--> 354\u001b[0m     \u001b[38;5;28mself\u001b[39m\u001b[38;5;241m.\u001b[39merror_handler\u001b[38;5;241m.\u001b[39mcheck_response(response)\n\u001b[0;32m    355\u001b[0m     response[\u001b[38;5;124m\"\u001b[39m\u001b[38;5;124mvalue\u001b[39m\u001b[38;5;124m\"\u001b[39m] \u001b[38;5;241m=\u001b[39m \u001b[38;5;28mself\u001b[39m\u001b[38;5;241m.\u001b[39m_unwrap_value(response\u001b[38;5;241m.\u001b[39mget(\u001b[38;5;124m\"\u001b[39m\u001b[38;5;124mvalue\u001b[39m\u001b[38;5;124m\"\u001b[39m, \u001b[38;5;28;01mNone\u001b[39;00m))\n\u001b[0;32m    356\u001b[0m     \u001b[38;5;28;01mreturn\u001b[39;00m response\n",
      "File \u001b[1;32m~\\AppData\\Local\\anaconda3\\Lib\\site-packages\\selenium\\webdriver\\remote\\errorhandler.py:229\u001b[0m, in \u001b[0;36mErrorHandler.check_response\u001b[1;34m(self, response)\u001b[0m\n\u001b[0;32m    227\u001b[0m         alert_text \u001b[38;5;241m=\u001b[39m value[\u001b[38;5;124m\"\u001b[39m\u001b[38;5;124malert\u001b[39m\u001b[38;5;124m\"\u001b[39m]\u001b[38;5;241m.\u001b[39mget(\u001b[38;5;124m\"\u001b[39m\u001b[38;5;124mtext\u001b[39m\u001b[38;5;124m\"\u001b[39m)\n\u001b[0;32m    228\u001b[0m     \u001b[38;5;28;01mraise\u001b[39;00m exception_class(message, screen, stacktrace, alert_text)  \u001b[38;5;66;03m# type: ignore[call-arg]  # mypy is not smart enough here\u001b[39;00m\n\u001b[1;32m--> 229\u001b[0m \u001b[38;5;28;01mraise\u001b[39;00m exception_class(message, screen, stacktrace)\n",
      "\u001b[1;31mNoSuchElementException\u001b[0m: Message: no such element: Unable to locate element: {\"method\":\"xpath\",\"selector\":\"/html/body/div[1]/section/div[2]/div[2]/div[2]/div[2]/div\"}\n  (Session info: chrome=127.0.6533.120); For documentation on this error, please visit: https://www.selenium.dev/documentation/webdriver/troubleshooting/errors#no-such-element-exception\nStacktrace:\n\tGetHandleVerifier [0x00007FF641749642+30946]\n\t(No symbol) [0x00007FF6416FE3D9]\n\t(No symbol) [0x00007FF6415F6FDA]\n\t(No symbol) [0x00007FF64164822C]\n\t(No symbol) [0x00007FF64164850C]\n\t(No symbol) [0x00007FF64168DCB7]\n\t(No symbol) [0x00007FF64166CAAF]\n\t(No symbol) [0x00007FF64168B041]\n\t(No symbol) [0x00007FF64166C813]\n\t(No symbol) [0x00007FF64163A6E5]\n\t(No symbol) [0x00007FF64163B021]\n\tGetHandleVerifier [0x00007FF64187F84D+1301229]\n\tGetHandleVerifier [0x00007FF64188BDC7+1351783]\n\tGetHandleVerifier [0x00007FF641882A13+1313971]\n\tGetHandleVerifier [0x00007FF64177DD16+245686]\n\t(No symbol) [0x00007FF64170759F]\n\t(No symbol) [0x00007FF641703814]\n\t(No symbol) [0x00007FF6417039A2]\n\t(No symbol) [0x00007FF6416FA3FF]\n\tBaseThreadInitThunk [0x00007FFACE04257D+29]\n\tRtlUserThreadStart [0x00007FFACF14AF28+40]\n"
     ]
    }
   ],
   "source": [
    "driver.find_element(By.XPATH, '/html/body/div[1]/section/div[2]/div[2]/div[2]/div[2]/div').click() # Elección\n",
    "time.sleep(8)"
   ]
  },
  {
   "cell_type": "code",
   "execution_count": 14,
   "metadata": {},
   "outputs": [],
   "source": [
    "driver.find_element(By.XPATH, '/html/body/div[1]/section/div[2]/div[2]/div[2]/div[2]/div/div[2]/div[2]').click() # Presidencial 2021 Segunda Vuelta\n",
    "time.sleep(8)"
   ]
  },
  {
   "cell_type": "code",
   "execution_count": 15,
   "metadata": {},
   "outputs": [],
   "source": [
    "driver.find_element(By.XPATH, '/html/body/div[1]/section/div[2]/div[2]/div[3]/div/button').click() # Ver datos de la elección\n",
    "time.sleep(8) "
   ]
  },
  {
   "cell_type": "code",
   "execution_count": 16,
   "metadata": {},
   "outputs": [],
   "source": [
    "driver.find_element(By.XPATH, '/html/body/div[1]/section/div[2]/div[3]/div[1]/ul/li[2]/a').click() # Candidatos y resultados\n",
    "time.sleep(8)"
   ]
  },
  {
   "cell_type": "code",
   "execution_count": 7,
   "metadata": {},
   "outputs": [
    {
     "data": {
      "text/html": [
       "<div>\n",
       "<style scoped>\n",
       "    .dataframe tbody tr th:only-of-type {\n",
       "        vertical-align: middle;\n",
       "    }\n",
       "\n",
       "    .dataframe tbody tr th {\n",
       "        vertical-align: top;\n",
       "    }\n",
       "\n",
       "    .dataframe thead th {\n",
       "        text-align: right;\n",
       "    }\n",
       "</style>\n",
       "<table border=\"1\" class=\"dataframe\">\n",
       "  <thead>\n",
       "    <tr style=\"text-align: right;\">\n",
       "      <th></th>\n",
       "      <th>Elecciones</th>\n",
       "      <th>ORGANIZACIÓN POLÍTICA</th>\n",
       "      <th>TOTAL VOTOS</th>\n",
       "    </tr>\n",
       "  </thead>\n",
       "  <tbody>\n",
       "    <tr>\n",
       "      <th>0</th>\n",
       "      <td>PRESIDENCIAL 2021 - 2DA VUELTA</td>\n",
       "      <td>PARTIDO POLITICO NACIONAL PERU LIBRE</td>\n",
       "      <td>8836380</td>\n",
       "    </tr>\n",
       "    <tr>\n",
       "      <th>1</th>\n",
       "      <td>PRESIDENCIAL 2021 - 2DA VUELTA</td>\n",
       "      <td>FUERZA POPULAR</td>\n",
       "      <td>8792117</td>\n",
       "    </tr>\n",
       "    <tr>\n",
       "      <th>2</th>\n",
       "      <td>PRESIDENCIAL 2021 - 2DA VUELTA</td>\n",
       "      <td>VOTOS EN BLANCO</td>\n",
       "      <td>121489</td>\n",
       "    </tr>\n",
       "    <tr>\n",
       "      <th>3</th>\n",
       "      <td>PRESIDENCIAL 2021 - 2DA VUELTA</td>\n",
       "      <td>VOTOS NULOS</td>\n",
       "      <td>1106816</td>\n",
       "    </tr>\n",
       "  </tbody>\n",
       "</table>\n",
       "</div>"
      ],
      "text/plain": [
       "                       Elecciones                 ORGANIZACIÓN POLÍTICA  \\\n",
       "0  PRESIDENCIAL 2021 - 2DA VUELTA  PARTIDO POLITICO NACIONAL PERU LIBRE   \n",
       "1  PRESIDENCIAL 2021 - 2DA VUELTA                        FUERZA POPULAR   \n",
       "2  PRESIDENCIAL 2021 - 2DA VUELTA                       VOTOS EN BLANCO   \n",
       "3  PRESIDENCIAL 2021 - 2DA VUELTA                           VOTOS NULOS   \n",
       "\n",
       "   TOTAL VOTOS  \n",
       "0      8836380  \n",
       "1      8792117  \n",
       "2       121489  \n",
       "3      1106816  "
      ]
     },
     "execution_count": 7,
     "metadata": {},
     "output_type": "execute_result"
    }
   ],
   "source": [
    "table_path = driver.find_element(By.XPATH, '/html/body/div[1]/section/div[2]/div[3]/div[3]/div/div/div/div[1]')\n",
    "table_html = table_path.get_attribute( 'innerHTML' )\n",
    "import pandas as pd\n",
    "from io import StringIO\n",
    "table = pd.read_html( StringIO(table_html) )\n",
    "df = table[0][['ORGANIZACIÓN POLÍTICA','TOTAL VOTOS']]\n",
    "df = df.copy()\n",
    "df.loc[:, 'Elecciones'] = 'PRESIDENCIAL 2021 - 2DA VUELTA'\n",
    "df = df[['Elecciones'] + [col for col in df.columns if col != 'Elecciones']]\n",
    "df"
   ]
  },
  {
   "cell_type": "code",
   "execution_count": null,
   "metadata": {},
   "outputs": [],
   "source": []
  },
  {
   "cell_type": "code",
   "execution_count": 31,
   "metadata": {},
   "outputs": [],
   "source": [
    "service = Service(executable_path=\"chromedriver-win64/chromedriver.exe\")\n",
    "driver = webdriver.Chrome(service=service)\n",
    "driver.maximize_window()\n",
    "url = \"https://infogob.jne.gob.pe/Eleccion\"\n",
    "driver.get(url)\n",
    "time.sleep(7)\n",
    "driver.find_element(By.XPATH, '/html/body/div[1]/section/div[2]/div[2]/div[2]/div[1]/div').click() # Tipo de Proceso\n",
    "time.sleep(7)\n",
    "driver.find_element(By.XPATH, '/html/body/div[1]/section/div[2]/div[2]/div[2]/div[1]/div/div[2]/div[2]').click() # Elecciones Presidenciales\n",
    "time.sleep(7)"
   ]
  },
  {
   "cell_type": "code",
   "execution_count": 32,
   "metadata": {},
   "outputs": [],
   "source": [
    "driver.find_element(By.XPATH, '/html/body/div[1]/section/div[2]/div[2]/div[2]/div[2]/div').click() # Elección\n",
    "time.sleep(8)"
   ]
  },
  {
   "cell_type": "code",
   "execution_count": 33,
   "metadata": {},
   "outputs": [],
   "source": [
    "options_container = driver.find_element(By.XPATH, '/html/body/div[1]/section/div[2]/div[2]/div[2]/div[2]/div/div[2]')\n",
    "options = options_container.find_elements(By.TAG_NAME, 'div')  # Asegúrate de usar el tag correcto para las opciones"
   ]
  },
  {
   "cell_type": "code",
   "execution_count": 34,
   "metadata": {},
   "outputs": [
    {
     "data": {
      "text/plain": [
       "{'[SELECCIONE]': <selenium.webdriver.remote.webelement.WebElement (session=\"f4cc91476c342b09558a999f128bff91\", element=\"f.8754898B1F049CCE9114361BA6E295F1.d.489C738AA57FD8EECCE4116CAB4BD635.e.59\")>,\n",
       " 'PRESIDENCIAL 2021 - 2DA VUELTA': <selenium.webdriver.remote.webelement.WebElement (session=\"f4cc91476c342b09558a999f128bff91\", element=\"f.8754898B1F049CCE9114361BA6E295F1.d.489C738AA57FD8EECCE4116CAB4BD635.e.60\")>,\n",
       " 'PRESIDENCIAL 2021': <selenium.webdriver.remote.webelement.WebElement (session=\"f4cc91476c342b09558a999f128bff91\", element=\"f.8754898B1F049CCE9114361BA6E295F1.d.489C738AA57FD8EECCE4116CAB4BD635.e.61\")>,\n",
       " 'PRESIDENCIAL 2016 - 2DA VUELTA': <selenium.webdriver.remote.webelement.WebElement (session=\"f4cc91476c342b09558a999f128bff91\", element=\"f.8754898B1F049CCE9114361BA6E295F1.d.489C738AA57FD8EECCE4116CAB4BD635.e.62\")>,\n",
       " 'PRESIDENCIAL 2016': <selenium.webdriver.remote.webelement.WebElement (session=\"f4cc91476c342b09558a999f128bff91\", element=\"f.8754898B1F049CCE9114361BA6E295F1.d.489C738AA57FD8EECCE4116CAB4BD635.e.63\")>,\n",
       " 'PRESIDENCIAL 2011 - 2DA VUELTA': <selenium.webdriver.remote.webelement.WebElement (session=\"f4cc91476c342b09558a999f128bff91\", element=\"f.8754898B1F049CCE9114361BA6E295F1.d.489C738AA57FD8EECCE4116CAB4BD635.e.64\")>,\n",
       " 'PRESIDENCIAL 2011': <selenium.webdriver.remote.webelement.WebElement (session=\"f4cc91476c342b09558a999f128bff91\", element=\"f.8754898B1F049CCE9114361BA6E295F1.d.489C738AA57FD8EECCE4116CAB4BD635.e.65\")>,\n",
       " 'PRESIDENCIAL 2006 - 2DA VUELTA': <selenium.webdriver.remote.webelement.WebElement (session=\"f4cc91476c342b09558a999f128bff91\", element=\"f.8754898B1F049CCE9114361BA6E295F1.d.489C738AA57FD8EECCE4116CAB4BD635.e.66\")>,\n",
       " 'PRESIDENCIAL 2006': <selenium.webdriver.remote.webelement.WebElement (session=\"f4cc91476c342b09558a999f128bff91\", element=\"f.8754898B1F049CCE9114361BA6E295F1.d.489C738AA57FD8EECCE4116CAB4BD635.e.67\")>,\n",
       " 'PRESIDENCIAL 2001 - 2DA VUELTA': <selenium.webdriver.remote.webelement.WebElement (session=\"f4cc91476c342b09558a999f128bff91\", element=\"f.8754898B1F049CCE9114361BA6E295F1.d.489C738AA57FD8EECCE4116CAB4BD635.e.68\")>,\n",
       " 'PRESIDENCIAL 2001': <selenium.webdriver.remote.webelement.WebElement (session=\"f4cc91476c342b09558a999f128bff91\", element=\"f.8754898B1F049CCE9114361BA6E295F1.d.489C738AA57FD8EECCE4116CAB4BD635.e.69\")>,\n",
       " 'PRESIDENCIAL 2000 - 2DA VUELTA': <selenium.webdriver.remote.webelement.WebElement (session=\"f4cc91476c342b09558a999f128bff91\", element=\"f.8754898B1F049CCE9114361BA6E295F1.d.489C738AA57FD8EECCE4116CAB4BD635.e.70\")>,\n",
       " 'PRESIDENCIAL 2000': <selenium.webdriver.remote.webelement.WebElement (session=\"f4cc91476c342b09558a999f128bff91\", element=\"f.8754898B1F049CCE9114361BA6E295F1.d.489C738AA57FD8EECCE4116CAB4BD635.e.71\")>,\n",
       " 'PRESIDENCIAL 1995': <selenium.webdriver.remote.webelement.WebElement (session=\"f4cc91476c342b09558a999f128bff91\", element=\"f.8754898B1F049CCE9114361BA6E295F1.d.489C738AA57FD8EECCE4116CAB4BD635.e.72\")>,\n",
       " 'PRESIDENCIAL 1990 - 2DA VUELTA': <selenium.webdriver.remote.webelement.WebElement (session=\"f4cc91476c342b09558a999f128bff91\", element=\"f.8754898B1F049CCE9114361BA6E295F1.d.489C738AA57FD8EECCE4116CAB4BD635.e.73\")>,\n",
       " 'PRESIDENCIAL 1990': <selenium.webdriver.remote.webelement.WebElement (session=\"f4cc91476c342b09558a999f128bff91\", element=\"f.8754898B1F049CCE9114361BA6E295F1.d.489C738AA57FD8EECCE4116CAB4BD635.e.74\")>,\n",
       " 'PRESIDENCIAL 1985': <selenium.webdriver.remote.webelement.WebElement (session=\"f4cc91476c342b09558a999f128bff91\", element=\"f.8754898B1F049CCE9114361BA6E295F1.d.489C738AA57FD8EECCE4116CAB4BD635.e.75\")>,\n",
       " 'PRESIDENCIAL 1980': <selenium.webdriver.remote.webelement.WebElement (session=\"f4cc91476c342b09558a999f128bff91\", element=\"f.8754898B1F049CCE9114361BA6E295F1.d.489C738AA57FD8EECCE4116CAB4BD635.e.76\")>,\n",
       " 'PRESIDENCIAL 1963': <selenium.webdriver.remote.webelement.WebElement (session=\"f4cc91476c342b09558a999f128bff91\", element=\"f.8754898B1F049CCE9114361BA6E295F1.d.489C738AA57FD8EECCE4116CAB4BD635.e.77\")>,\n",
       " 'PRESIDENCIAL 1962': <selenium.webdriver.remote.webelement.WebElement (session=\"f4cc91476c342b09558a999f128bff91\", element=\"f.8754898B1F049CCE9114361BA6E295F1.d.489C738AA57FD8EECCE4116CAB4BD635.e.78\")>,\n",
       " 'PRESIDENCIAL 1956': <selenium.webdriver.remote.webelement.WebElement (session=\"f4cc91476c342b09558a999f128bff91\", element=\"f.8754898B1F049CCE9114361BA6E295F1.d.489C738AA57FD8EECCE4116CAB4BD635.e.79\")>,\n",
       " 'PRESIDENCIAL 1950': <selenium.webdriver.remote.webelement.WebElement (session=\"f4cc91476c342b09558a999f128bff91\", element=\"f.8754898B1F049CCE9114361BA6E295F1.d.489C738AA57FD8EECCE4116CAB4BD635.e.80\")>,\n",
       " 'PRESIDENCIAL 1945': <selenium.webdriver.remote.webelement.WebElement (session=\"f4cc91476c342b09558a999f128bff91\", element=\"f.8754898B1F049CCE9114361BA6E295F1.d.489C738AA57FD8EECCE4116CAB4BD635.e.81\")>,\n",
       " 'PRESIDENCIAL 1939': <selenium.webdriver.remote.webelement.WebElement (session=\"f4cc91476c342b09558a999f128bff91\", element=\"f.8754898B1F049CCE9114361BA6E295F1.d.489C738AA57FD8EECCE4116CAB4BD635.e.82\")>,\n",
       " 'PRESIDENCIAL 1936': <selenium.webdriver.remote.webelement.WebElement (session=\"f4cc91476c342b09558a999f128bff91\", element=\"f.8754898B1F049CCE9114361BA6E295F1.d.489C738AA57FD8EECCE4116CAB4BD635.e.83\")>,\n",
       " 'PRESIDENCIAL 1931': <selenium.webdriver.remote.webelement.WebElement (session=\"f4cc91476c342b09558a999f128bff91\", element=\"f.8754898B1F049CCE9114361BA6E295F1.d.489C738AA57FD8EECCE4116CAB4BD635.e.84\")>}"
      ]
     },
     "execution_count": 34,
     "metadata": {},
     "output_type": "execute_result"
    }
   ],
   "source": [
    "# Crea un diccionario utilizando un bucle for\n",
    "dict_scope_options = {i.text: i for i in options}\n",
    "dict_scope_options"
   ]
  },
  {
   "cell_type": "code",
   "execution_count": 35,
   "metadata": {},
   "outputs": [
    {
     "data": {
      "text/plain": [
       "dict_keys(['[SELECCIONE]', 'PRESIDENCIAL 2021 - 2DA VUELTA', 'PRESIDENCIAL 2021', 'PRESIDENCIAL 2016 - 2DA VUELTA', 'PRESIDENCIAL 2016', 'PRESIDENCIAL 2011 - 2DA VUELTA', 'PRESIDENCIAL 2011', 'PRESIDENCIAL 2006 - 2DA VUELTA', 'PRESIDENCIAL 2006', 'PRESIDENCIAL 2001 - 2DA VUELTA', 'PRESIDENCIAL 2001', 'PRESIDENCIAL 2000 - 2DA VUELTA', 'PRESIDENCIAL 2000', 'PRESIDENCIAL 1995', 'PRESIDENCIAL 1990 - 2DA VUELTA', 'PRESIDENCIAL 1990', 'PRESIDENCIAL 1985', 'PRESIDENCIAL 1980', 'PRESIDENCIAL 1963', 'PRESIDENCIAL 1962', 'PRESIDENCIAL 1956', 'PRESIDENCIAL 1950', 'PRESIDENCIAL 1945', 'PRESIDENCIAL 1939', 'PRESIDENCIAL 1936', 'PRESIDENCIAL 1931'])"
      ]
     },
     "execution_count": 35,
     "metadata": {},
     "output_type": "execute_result"
    }
   ],
   "source": [
    "dict_scope_options.keys()"
   ]
  },
  {
   "cell_type": "code",
   "execution_count": 36,
   "metadata": {},
   "outputs": [],
   "source": [
    "dict_scope_options['PRESIDENCIAL 2021 - 2DA VUELTA'].click()\n",
    "driver.find_element(By.XPATH, '/html/body/div[1]/section/div[2]/div[2]/div[3]/div/button').click() # Ver datos de la elección\n",
    "time.sleep(8) \n",
    "driver.find_element(By.XPATH, '/html/body/div[1]/section/div[2]/div[3]/div[1]/ul/li[2]/a').click() # Candidatos y resultados\n",
    "time.sleep(8)\n",
    "table_path = driver.find_element(By.XPATH, '/html/body/div[1]/section/div[2]/div[3]/div[3]/div/div/div/div[1]')\n",
    "table_html = table_path.get_attribute( 'innerHTML' )\n",
    "import pandas as pd\n",
    "from io import StringIO\n",
    "table = pd.read_html( StringIO(table_html) )\n",
    "df = table[0][['ORGANIZACIÓN POLÍTICA','TOTAL VOTOS']]\n",
    "df = df.copy()\n",
    "df.loc[:, 'Elecciones'] = 'PRESIDENCIAL 2021 - 2DA VUELTA'\n",
    "df = df[['Elecciones'] + [col for col in df.columns if col != 'Elecciones']]\n",
    "df\n",
    "driver.back() # regresa a la página anterior\n",
    "driver.back() # regresa a la página anterior"
   ]
  },
  {
   "cell_type": "code",
   "execution_count": 38,
   "metadata": {},
   "outputs": [
    {
     "data": {
      "text/html": [
       "<div>\n",
       "<style scoped>\n",
       "    .dataframe tbody tr th:only-of-type {\n",
       "        vertical-align: middle;\n",
       "    }\n",
       "\n",
       "    .dataframe tbody tr th {\n",
       "        vertical-align: top;\n",
       "    }\n",
       "\n",
       "    .dataframe thead th {\n",
       "        text-align: right;\n",
       "    }\n",
       "</style>\n",
       "<table border=\"1\" class=\"dataframe\">\n",
       "  <thead>\n",
       "    <tr style=\"text-align: right;\">\n",
       "      <th></th>\n",
       "      <th>Elecciones</th>\n",
       "      <th>ORGANIZACIÓN POLÍTICA</th>\n",
       "      <th>TOTAL VOTOS</th>\n",
       "    </tr>\n",
       "  </thead>\n",
       "  <tbody>\n",
       "    <tr>\n",
       "      <th>0</th>\n",
       "      <td>PRESIDENCIAL 2021 - 2DA VUELTA</td>\n",
       "      <td>PARTIDO POLITICO NACIONAL PERU LIBRE</td>\n",
       "      <td>8836380</td>\n",
       "    </tr>\n",
       "    <tr>\n",
       "      <th>1</th>\n",
       "      <td>PRESIDENCIAL 2021 - 2DA VUELTA</td>\n",
       "      <td>FUERZA POPULAR</td>\n",
       "      <td>8792117</td>\n",
       "    </tr>\n",
       "    <tr>\n",
       "      <th>2</th>\n",
       "      <td>PRESIDENCIAL 2021 - 2DA VUELTA</td>\n",
       "      <td>VOTOS EN BLANCO</td>\n",
       "      <td>121489</td>\n",
       "    </tr>\n",
       "    <tr>\n",
       "      <th>3</th>\n",
       "      <td>PRESIDENCIAL 2021 - 2DA VUELTA</td>\n",
       "      <td>VOTOS NULOS</td>\n",
       "      <td>1106816</td>\n",
       "    </tr>\n",
       "  </tbody>\n",
       "</table>\n",
       "</div>"
      ],
      "text/plain": [
       "                       Elecciones                 ORGANIZACIÓN POLÍTICA  \\\n",
       "0  PRESIDENCIAL 2021 - 2DA VUELTA  PARTIDO POLITICO NACIONAL PERU LIBRE   \n",
       "1  PRESIDENCIAL 2021 - 2DA VUELTA                        FUERZA POPULAR   \n",
       "2  PRESIDENCIAL 2021 - 2DA VUELTA                       VOTOS EN BLANCO   \n",
       "3  PRESIDENCIAL 2021 - 2DA VUELTA                           VOTOS NULOS   \n",
       "\n",
       "   TOTAL VOTOS  \n",
       "0      8836380  \n",
       "1      8792117  \n",
       "2       121489  \n",
       "3      1106816  "
      ]
     },
     "execution_count": 38,
     "metadata": {},
     "output_type": "execute_result"
    }
   ],
   "source": [
    "(df)"
   ]
  },
  {
   "cell_type": "code",
   "execution_count": 4,
   "metadata": {},
   "outputs": [
    {
     "ename": "NameError",
     "evalue": "name 'url' is not defined",
     "output_type": "error",
     "traceback": [
      "\u001b[1;31m---------------------------------------------------------------------------\u001b[0m",
      "\u001b[1;31mNameError\u001b[0m                                 Traceback (most recent call last)",
      "Cell \u001b[1;32mIn[4], line 1\u001b[0m\n\u001b[1;32m----> 1\u001b[0m driver\u001b[38;5;241m.\u001b[39mget(url)\n\u001b[0;32m      2\u001b[0m time\u001b[38;5;241m.\u001b[39msleep(\u001b[38;5;241m7\u001b[39m)\n\u001b[0;32m      3\u001b[0m driver\u001b[38;5;241m.\u001b[39mfind_element(By\u001b[38;5;241m.\u001b[39mXPATH, \u001b[38;5;124m'\u001b[39m\u001b[38;5;124m/html/body/div[1]/section/div[2]/div[2]/div[2]/div[1]/div\u001b[39m\u001b[38;5;124m'\u001b[39m)\u001b[38;5;241m.\u001b[39mclick() \u001b[38;5;66;03m# Tipo de Proceso\u001b[39;00m\n",
      "\u001b[1;31mNameError\u001b[0m: name 'url' is not defined"
     ]
    }
   ],
   "source": [
    "driver.get(url)\n",
    "time.sleep(7)\n",
    "driver.find_element(By.XPATH, '/html/body/div[1]/section/div[2]/div[2]/div[2]/div[1]/div').click() # Tipo de Proceso\n",
    "time.sleep(7)\n",
    "driver.find_element(By.XPATH, '/html/body/div[1]/section/div[2]/div[2]/div[2]/div[1]/div/div[2]/div[2]').click() # Elecciones Presidenciales\n",
    "time.sleep(7)\n",
    "driver.find_element(By.XPATH, '/html/body/div[1]/section/div[2]/div[2]/div[2]/div[2]/div').click() # Elección\n",
    "time.sleep(8)\n",
    "options_container = driver.find_element(By.XPATH, '/html/body/div[1]/section/div[2]/div[2]/div[2]/div[2]/div/div[2]')\n",
    "options = options_container.find_elements(By.TAG_NAME, 'div')  # Asegúrate de usar el tag correcto para las opciones\n",
    "dict_scope_options = {i.text: i for i in options}\n",
    "dict_scope_options['PRESIDENCIAL 2021 - 2DA VUELTA'].click()\n",
    "driver.find_element(By.XPATH, '/html/body/div[1]/section/div[2]/div[2]/div[3]/div/button').click() # Ver datos de la elección\n",
    "time.sleep(8) \n",
    "driver.find_element(By.XPATH, '/html/body/div[1]/section/div[2]/div[3]/div[1]/ul/li[2]/a').click() # Candidatos y resultados\n",
    "time.sleep(8)\n",
    "table_path = driver.find_element(By.XPATH, '/html/body/div[1]/section/div[2]/div[3]/div[3]/div/div/div/div[1]')\n",
    "table_html = table_path.get_attribute( 'innerHTML' )\n",
    "import pandas as pd\n",
    "from io import StringIO\n",
    "table = pd.read_html( StringIO(table_html) )\n",
    "df = table[0][['ORGANIZACIÓN POLÍTICA','TOTAL VOTOS']]\n",
    "df = df.copy()\n",
    "df.loc[:, 'Elecciones'] = 'PRESIDENCIAL 2021 - 2DA VUELTA'\n",
    "df = df[['Elecciones'] + [col for col in df.columns if col != 'Elecciones']]\n",
    "df\n",
    "driver.back() # regresa a la página anterior\n",
    "time.sleep(5)  # Asegura que la página se haya cargado\n",
    "driver.back() # regresa a la página anterior\n",
    "time.sleep(5)  # Asegura que la página se haya cargado\n",
    "driver.get(driver.current_url)\n",
    "time.sleep(7)"
   ]
  },
  {
   "cell_type": "code",
   "execution_count": 44,
   "metadata": {},
   "outputs": [
    {
     "data": {
      "text/html": [
       "<div>\n",
       "<style scoped>\n",
       "    .dataframe tbody tr th:only-of-type {\n",
       "        vertical-align: middle;\n",
       "    }\n",
       "\n",
       "    .dataframe tbody tr th {\n",
       "        vertical-align: top;\n",
       "    }\n",
       "\n",
       "    .dataframe thead th {\n",
       "        text-align: right;\n",
       "    }\n",
       "</style>\n",
       "<table border=\"1\" class=\"dataframe\">\n",
       "  <thead>\n",
       "    <tr style=\"text-align: right;\">\n",
       "      <th></th>\n",
       "      <th>Elecciones</th>\n",
       "      <th>ORGANIZACIÓN POLÍTICA</th>\n",
       "      <th>TOTAL VOTOS</th>\n",
       "    </tr>\n",
       "  </thead>\n",
       "  <tbody>\n",
       "    <tr>\n",
       "      <th>0</th>\n",
       "      <td>PRESIDENCIAL 2021 - 2DA VUELTA</td>\n",
       "      <td>PARTIDO POLITICO NACIONAL PERU LIBRE</td>\n",
       "      <td>8836380</td>\n",
       "    </tr>\n",
       "    <tr>\n",
       "      <th>1</th>\n",
       "      <td>PRESIDENCIAL 2021 - 2DA VUELTA</td>\n",
       "      <td>FUERZA POPULAR</td>\n",
       "      <td>8792117</td>\n",
       "    </tr>\n",
       "    <tr>\n",
       "      <th>2</th>\n",
       "      <td>PRESIDENCIAL 2021 - 2DA VUELTA</td>\n",
       "      <td>VOTOS EN BLANCO</td>\n",
       "      <td>121489</td>\n",
       "    </tr>\n",
       "    <tr>\n",
       "      <th>3</th>\n",
       "      <td>PRESIDENCIAL 2021 - 2DA VUELTA</td>\n",
       "      <td>VOTOS NULOS</td>\n",
       "      <td>1106816</td>\n",
       "    </tr>\n",
       "  </tbody>\n",
       "</table>\n",
       "</div>"
      ],
      "text/plain": [
       "                       Elecciones                 ORGANIZACIÓN POLÍTICA  \\\n",
       "0  PRESIDENCIAL 2021 - 2DA VUELTA  PARTIDO POLITICO NACIONAL PERU LIBRE   \n",
       "1  PRESIDENCIAL 2021 - 2DA VUELTA                        FUERZA POPULAR   \n",
       "2  PRESIDENCIAL 2021 - 2DA VUELTA                       VOTOS EN BLANCO   \n",
       "3  PRESIDENCIAL 2021 - 2DA VUELTA                           VOTOS NULOS   \n",
       "\n",
       "   TOTAL VOTOS  \n",
       "0      8836380  \n",
       "1      8792117  \n",
       "2       121489  \n",
       "3      1106816  "
      ]
     },
     "execution_count": 44,
     "metadata": {},
     "output_type": "execute_result"
    }
   ],
   "source": [
    "df"
   ]
  },
  {
   "cell_type": "code",
   "execution_count": 45,
   "metadata": {},
   "outputs": [],
   "source": [
    "import pandas as pd\n",
    "from io import StringIO"
   ]
  },
  {
   "cell_type": "code",
   "execution_count": 47,
   "metadata": {},
   "outputs": [],
   "source": [
    "driver.get(url)\n",
    "time.sleep(7)\n",
    "driver.find_element(By.XPATH, '/html/body/div[1]/section/div[2]/div[2]/div[2]/div[1]/div').click() # Tipo de Proceso\n",
    "time.sleep(7)\n",
    "driver.find_element(By.XPATH, '/html/body/div[1]/section/div[2]/div[2]/div[2]/div[1]/div/div[2]/div[2]').click() # Elecciones Presidenciales\n",
    "time.sleep(7)\n",
    "driver.find_element(By.XPATH, '/html/body/div[1]/section/div[2]/div[2]/div[2]/div[2]/div').click() # Elección\n",
    "time.sleep(8)\n",
    "options_container = driver.find_element(By.XPATH, '/html/body/div[1]/section/div[2]/div[2]/div[2]/div[2]/div/div[2]')\n",
    "options = options_container.find_elements(By.TAG_NAME, 'div')  # Asegúrate de usar el tag correcto para las opciones\n",
    "dict_scope_options = {i.text: i for i in options}\n",
    "all_dfs = []"
   ]
  },
  {
   "cell_type": "code",
   "execution_count": 48,
   "metadata": {},
   "outputs": [
    {
     "data": {
      "text/plain": [
       "{'[SELECCIONE]': <selenium.webdriver.remote.webelement.WebElement (session=\"f4cc91476c342b09558a999f128bff91\", element=\"f.8754898B1F049CCE9114361BA6E295F1.d.A92C0C88BD6105F11E954C231E00CBC2.e.888\")>,\n",
       " 'PRESIDENCIAL 2021 - 2DA VUELTA': <selenium.webdriver.remote.webelement.WebElement (session=\"f4cc91476c342b09558a999f128bff91\", element=\"f.8754898B1F049CCE9114361BA6E295F1.d.A92C0C88BD6105F11E954C231E00CBC2.e.889\")>,\n",
       " 'PRESIDENCIAL 2021': <selenium.webdriver.remote.webelement.WebElement (session=\"f4cc91476c342b09558a999f128bff91\", element=\"f.8754898B1F049CCE9114361BA6E295F1.d.A92C0C88BD6105F11E954C231E00CBC2.e.890\")>,\n",
       " 'PRESIDENCIAL 2016 - 2DA VUELTA': <selenium.webdriver.remote.webelement.WebElement (session=\"f4cc91476c342b09558a999f128bff91\", element=\"f.8754898B1F049CCE9114361BA6E295F1.d.A92C0C88BD6105F11E954C231E00CBC2.e.891\")>,\n",
       " 'PRESIDENCIAL 2016': <selenium.webdriver.remote.webelement.WebElement (session=\"f4cc91476c342b09558a999f128bff91\", element=\"f.8754898B1F049CCE9114361BA6E295F1.d.A92C0C88BD6105F11E954C231E00CBC2.e.892\")>,\n",
       " 'PRESIDENCIAL 2011 - 2DA VUELTA': <selenium.webdriver.remote.webelement.WebElement (session=\"f4cc91476c342b09558a999f128bff91\", element=\"f.8754898B1F049CCE9114361BA6E295F1.d.A92C0C88BD6105F11E954C231E00CBC2.e.893\")>,\n",
       " 'PRESIDENCIAL 2011': <selenium.webdriver.remote.webelement.WebElement (session=\"f4cc91476c342b09558a999f128bff91\", element=\"f.8754898B1F049CCE9114361BA6E295F1.d.A92C0C88BD6105F11E954C231E00CBC2.e.894\")>,\n",
       " 'PRESIDENCIAL 2006 - 2DA VUELTA': <selenium.webdriver.remote.webelement.WebElement (session=\"f4cc91476c342b09558a999f128bff91\", element=\"f.8754898B1F049CCE9114361BA6E295F1.d.A92C0C88BD6105F11E954C231E00CBC2.e.895\")>,\n",
       " 'PRESIDENCIAL 2006': <selenium.webdriver.remote.webelement.WebElement (session=\"f4cc91476c342b09558a999f128bff91\", element=\"f.8754898B1F049CCE9114361BA6E295F1.d.A92C0C88BD6105F11E954C231E00CBC2.e.896\")>,\n",
       " 'PRESIDENCIAL 2001 - 2DA VUELTA': <selenium.webdriver.remote.webelement.WebElement (session=\"f4cc91476c342b09558a999f128bff91\", element=\"f.8754898B1F049CCE9114361BA6E295F1.d.A92C0C88BD6105F11E954C231E00CBC2.e.897\")>,\n",
       " 'PRESIDENCIAL 2001': <selenium.webdriver.remote.webelement.WebElement (session=\"f4cc91476c342b09558a999f128bff91\", element=\"f.8754898B1F049CCE9114361BA6E295F1.d.A92C0C88BD6105F11E954C231E00CBC2.e.898\")>,\n",
       " 'PRESIDENCIAL 2000 - 2DA VUELTA': <selenium.webdriver.remote.webelement.WebElement (session=\"f4cc91476c342b09558a999f128bff91\", element=\"f.8754898B1F049CCE9114361BA6E295F1.d.A92C0C88BD6105F11E954C231E00CBC2.e.899\")>,\n",
       " 'PRESIDENCIAL 2000': <selenium.webdriver.remote.webelement.WebElement (session=\"f4cc91476c342b09558a999f128bff91\", element=\"f.8754898B1F049CCE9114361BA6E295F1.d.A92C0C88BD6105F11E954C231E00CBC2.e.900\")>,\n",
       " 'PRESIDENCIAL 1995': <selenium.webdriver.remote.webelement.WebElement (session=\"f4cc91476c342b09558a999f128bff91\", element=\"f.8754898B1F049CCE9114361BA6E295F1.d.A92C0C88BD6105F11E954C231E00CBC2.e.901\")>,\n",
       " 'PRESIDENCIAL 1990 - 2DA VUELTA': <selenium.webdriver.remote.webelement.WebElement (session=\"f4cc91476c342b09558a999f128bff91\", element=\"f.8754898B1F049CCE9114361BA6E295F1.d.A92C0C88BD6105F11E954C231E00CBC2.e.902\")>,\n",
       " 'PRESIDENCIAL 1990': <selenium.webdriver.remote.webelement.WebElement (session=\"f4cc91476c342b09558a999f128bff91\", element=\"f.8754898B1F049CCE9114361BA6E295F1.d.A92C0C88BD6105F11E954C231E00CBC2.e.903\")>,\n",
       " 'PRESIDENCIAL 1985': <selenium.webdriver.remote.webelement.WebElement (session=\"f4cc91476c342b09558a999f128bff91\", element=\"f.8754898B1F049CCE9114361BA6E295F1.d.A92C0C88BD6105F11E954C231E00CBC2.e.904\")>,\n",
       " 'PRESIDENCIAL 1980': <selenium.webdriver.remote.webelement.WebElement (session=\"f4cc91476c342b09558a999f128bff91\", element=\"f.8754898B1F049CCE9114361BA6E295F1.d.A92C0C88BD6105F11E954C231E00CBC2.e.905\")>,\n",
       " 'PRESIDENCIAL 1963': <selenium.webdriver.remote.webelement.WebElement (session=\"f4cc91476c342b09558a999f128bff91\", element=\"f.8754898B1F049CCE9114361BA6E295F1.d.A92C0C88BD6105F11E954C231E00CBC2.e.906\")>,\n",
       " 'PRESIDENCIAL 1962': <selenium.webdriver.remote.webelement.WebElement (session=\"f4cc91476c342b09558a999f128bff91\", element=\"f.8754898B1F049CCE9114361BA6E295F1.d.A92C0C88BD6105F11E954C231E00CBC2.e.907\")>,\n",
       " 'PRESIDENCIAL 1956': <selenium.webdriver.remote.webelement.WebElement (session=\"f4cc91476c342b09558a999f128bff91\", element=\"f.8754898B1F049CCE9114361BA6E295F1.d.A92C0C88BD6105F11E954C231E00CBC2.e.908\")>,\n",
       " 'PRESIDENCIAL 1950': <selenium.webdriver.remote.webelement.WebElement (session=\"f4cc91476c342b09558a999f128bff91\", element=\"f.8754898B1F049CCE9114361BA6E295F1.d.A92C0C88BD6105F11E954C231E00CBC2.e.909\")>,\n",
       " 'PRESIDENCIAL 1945': <selenium.webdriver.remote.webelement.WebElement (session=\"f4cc91476c342b09558a999f128bff91\", element=\"f.8754898B1F049CCE9114361BA6E295F1.d.A92C0C88BD6105F11E954C231E00CBC2.e.910\")>,\n",
       " 'PRESIDENCIAL 1939': <selenium.webdriver.remote.webelement.WebElement (session=\"f4cc91476c342b09558a999f128bff91\", element=\"f.8754898B1F049CCE9114361BA6E295F1.d.A92C0C88BD6105F11E954C231E00CBC2.e.911\")>,\n",
       " 'PRESIDENCIAL 1936': <selenium.webdriver.remote.webelement.WebElement (session=\"f4cc91476c342b09558a999f128bff91\", element=\"f.8754898B1F049CCE9114361BA6E295F1.d.A92C0C88BD6105F11E954C231E00CBC2.e.912\")>,\n",
       " 'PRESIDENCIAL 1931': <selenium.webdriver.remote.webelement.WebElement (session=\"f4cc91476c342b09558a999f128bff91\", element=\"f.8754898B1F049CCE9114361BA6E295F1.d.A92C0C88BD6105F11E954C231E00CBC2.e.913\")>}"
      ]
     },
     "execution_count": 48,
     "metadata": {},
     "output_type": "execute_result"
    }
   ],
   "source": [
    "dict_scope_options"
   ]
  },
  {
   "cell_type": "code",
   "execution_count": 49,
   "metadata": {},
   "outputs": [
    {
     "data": {
      "text/plain": [
       "dict_items([('[SELECCIONE]', <selenium.webdriver.remote.webelement.WebElement (session=\"f4cc91476c342b09558a999f128bff91\", element=\"f.8754898B1F049CCE9114361BA6E295F1.d.A92C0C88BD6105F11E954C231E00CBC2.e.888\")>), ('PRESIDENCIAL 2021 - 2DA VUELTA', <selenium.webdriver.remote.webelement.WebElement (session=\"f4cc91476c342b09558a999f128bff91\", element=\"f.8754898B1F049CCE9114361BA6E295F1.d.A92C0C88BD6105F11E954C231E00CBC2.e.889\")>), ('PRESIDENCIAL 2021', <selenium.webdriver.remote.webelement.WebElement (session=\"f4cc91476c342b09558a999f128bff91\", element=\"f.8754898B1F049CCE9114361BA6E295F1.d.A92C0C88BD6105F11E954C231E00CBC2.e.890\")>), ('PRESIDENCIAL 2016 - 2DA VUELTA', <selenium.webdriver.remote.webelement.WebElement (session=\"f4cc91476c342b09558a999f128bff91\", element=\"f.8754898B1F049CCE9114361BA6E295F1.d.A92C0C88BD6105F11E954C231E00CBC2.e.891\")>), ('PRESIDENCIAL 2016', <selenium.webdriver.remote.webelement.WebElement (session=\"f4cc91476c342b09558a999f128bff91\", element=\"f.8754898B1F049CCE9114361BA6E295F1.d.A92C0C88BD6105F11E954C231E00CBC2.e.892\")>), ('PRESIDENCIAL 2011 - 2DA VUELTA', <selenium.webdriver.remote.webelement.WebElement (session=\"f4cc91476c342b09558a999f128bff91\", element=\"f.8754898B1F049CCE9114361BA6E295F1.d.A92C0C88BD6105F11E954C231E00CBC2.e.893\")>), ('PRESIDENCIAL 2011', <selenium.webdriver.remote.webelement.WebElement (session=\"f4cc91476c342b09558a999f128bff91\", element=\"f.8754898B1F049CCE9114361BA6E295F1.d.A92C0C88BD6105F11E954C231E00CBC2.e.894\")>), ('PRESIDENCIAL 2006 - 2DA VUELTA', <selenium.webdriver.remote.webelement.WebElement (session=\"f4cc91476c342b09558a999f128bff91\", element=\"f.8754898B1F049CCE9114361BA6E295F1.d.A92C0C88BD6105F11E954C231E00CBC2.e.895\")>), ('PRESIDENCIAL 2006', <selenium.webdriver.remote.webelement.WebElement (session=\"f4cc91476c342b09558a999f128bff91\", element=\"f.8754898B1F049CCE9114361BA6E295F1.d.A92C0C88BD6105F11E954C231E00CBC2.e.896\")>), ('PRESIDENCIAL 2001 - 2DA VUELTA', <selenium.webdriver.remote.webelement.WebElement (session=\"f4cc91476c342b09558a999f128bff91\", element=\"f.8754898B1F049CCE9114361BA6E295F1.d.A92C0C88BD6105F11E954C231E00CBC2.e.897\")>), ('PRESIDENCIAL 2001', <selenium.webdriver.remote.webelement.WebElement (session=\"f4cc91476c342b09558a999f128bff91\", element=\"f.8754898B1F049CCE9114361BA6E295F1.d.A92C0C88BD6105F11E954C231E00CBC2.e.898\")>), ('PRESIDENCIAL 2000 - 2DA VUELTA', <selenium.webdriver.remote.webelement.WebElement (session=\"f4cc91476c342b09558a999f128bff91\", element=\"f.8754898B1F049CCE9114361BA6E295F1.d.A92C0C88BD6105F11E954C231E00CBC2.e.899\")>), ('PRESIDENCIAL 2000', <selenium.webdriver.remote.webelement.WebElement (session=\"f4cc91476c342b09558a999f128bff91\", element=\"f.8754898B1F049CCE9114361BA6E295F1.d.A92C0C88BD6105F11E954C231E00CBC2.e.900\")>), ('PRESIDENCIAL 1995', <selenium.webdriver.remote.webelement.WebElement (session=\"f4cc91476c342b09558a999f128bff91\", element=\"f.8754898B1F049CCE9114361BA6E295F1.d.A92C0C88BD6105F11E954C231E00CBC2.e.901\")>), ('PRESIDENCIAL 1990 - 2DA VUELTA', <selenium.webdriver.remote.webelement.WebElement (session=\"f4cc91476c342b09558a999f128bff91\", element=\"f.8754898B1F049CCE9114361BA6E295F1.d.A92C0C88BD6105F11E954C231E00CBC2.e.902\")>), ('PRESIDENCIAL 1990', <selenium.webdriver.remote.webelement.WebElement (session=\"f4cc91476c342b09558a999f128bff91\", element=\"f.8754898B1F049CCE9114361BA6E295F1.d.A92C0C88BD6105F11E954C231E00CBC2.e.903\")>), ('PRESIDENCIAL 1985', <selenium.webdriver.remote.webelement.WebElement (session=\"f4cc91476c342b09558a999f128bff91\", element=\"f.8754898B1F049CCE9114361BA6E295F1.d.A92C0C88BD6105F11E954C231E00CBC2.e.904\")>), ('PRESIDENCIAL 1980', <selenium.webdriver.remote.webelement.WebElement (session=\"f4cc91476c342b09558a999f128bff91\", element=\"f.8754898B1F049CCE9114361BA6E295F1.d.A92C0C88BD6105F11E954C231E00CBC2.e.905\")>), ('PRESIDENCIAL 1963', <selenium.webdriver.remote.webelement.WebElement (session=\"f4cc91476c342b09558a999f128bff91\", element=\"f.8754898B1F049CCE9114361BA6E295F1.d.A92C0C88BD6105F11E954C231E00CBC2.e.906\")>), ('PRESIDENCIAL 1962', <selenium.webdriver.remote.webelement.WebElement (session=\"f4cc91476c342b09558a999f128bff91\", element=\"f.8754898B1F049CCE9114361BA6E295F1.d.A92C0C88BD6105F11E954C231E00CBC2.e.907\")>), ('PRESIDENCIAL 1956', <selenium.webdriver.remote.webelement.WebElement (session=\"f4cc91476c342b09558a999f128bff91\", element=\"f.8754898B1F049CCE9114361BA6E295F1.d.A92C0C88BD6105F11E954C231E00CBC2.e.908\")>), ('PRESIDENCIAL 1950', <selenium.webdriver.remote.webelement.WebElement (session=\"f4cc91476c342b09558a999f128bff91\", element=\"f.8754898B1F049CCE9114361BA6E295F1.d.A92C0C88BD6105F11E954C231E00CBC2.e.909\")>), ('PRESIDENCIAL 1945', <selenium.webdriver.remote.webelement.WebElement (session=\"f4cc91476c342b09558a999f128bff91\", element=\"f.8754898B1F049CCE9114361BA6E295F1.d.A92C0C88BD6105F11E954C231E00CBC2.e.910\")>), ('PRESIDENCIAL 1939', <selenium.webdriver.remote.webelement.WebElement (session=\"f4cc91476c342b09558a999f128bff91\", element=\"f.8754898B1F049CCE9114361BA6E295F1.d.A92C0C88BD6105F11E954C231E00CBC2.e.911\")>), ('PRESIDENCIAL 1936', <selenium.webdriver.remote.webelement.WebElement (session=\"f4cc91476c342b09558a999f128bff91\", element=\"f.8754898B1F049CCE9114361BA6E295F1.d.A92C0C88BD6105F11E954C231E00CBC2.e.912\")>), ('PRESIDENCIAL 1931', <selenium.webdriver.remote.webelement.WebElement (session=\"f4cc91476c342b09558a999f128bff91\", element=\"f.8754898B1F049CCE9114361BA6E295F1.d.A92C0C88BD6105F11E954C231E00CBC2.e.913\")>)])"
      ]
     },
     "execution_count": 49,
     "metadata": {},
     "output_type": "execute_result"
    }
   ],
   "source": [
    "dict_scope_options.items()"
   ]
  },
  {
   "cell_type": "code",
   "execution_count": null,
   "metadata": {},
   "outputs": [],
   "source": [
    "driver = webdriver.Chrome(service = webdriver.chrome.service.Service(ChromeDriverManager().install()))"
   ]
  },
  {
   "cell_type": "code",
   "execution_count": 29,
   "metadata": {},
   "outputs": [],
   "source": [
    "service = Service(executable_path=\"chromedriver-win64/chromedriver.exe\")\n",
    "driver = webdriver.Chrome(service=service)"
   ]
  },
  {
   "cell_type": "code",
   "execution_count": 30,
   "metadata": {},
   "outputs": [],
   "source": [
    "driver.maximize_window()\n",
    "url = \"https://infogob.jne.gob.pe/Eleccion\"\n",
    "driver.get(url)\n",
    "time.sleep(7)\n",
    "driver.find_element(By.XPATH, '/html/body/div[1]/section/div[2]/div[2]/div[2]/div[1]/div').click() # Tipo de Proceso\n",
    "time.sleep(7)\n",
    "driver.find_element(By.XPATH, '/html/body/div[1]/section/div[2]/div[2]/div[2]/div[1]/div/div[2]/div[2]').click() # Elecciones Presidenciales\n",
    "time.sleep(7)\n",
    "driver.find_element(By.XPATH, '/html/body/div[1]/section/div[2]/div[2]/div[2]/div[2]/div').click() # Elección\n",
    "time.sleep(8)\n",
    "options_container = driver.find_element(By.XPATH, '/html/body/div[1]/section/div[2]/div[2]/div[2]/div[2]/div/div[2]')\n",
    "options = options_container.find_elements(By.TAG_NAME, 'div')  # Asegúrate de usar el tag correcto para las opciones\n",
    "dict_scope_options = {i.text: i for i in options}\n",
    "all_dfs = []"
   ]
  },
  {
   "cell_type": "code",
   "execution_count": 31,
   "metadata": {},
   "outputs": [],
   "source": [
    "for election_name, option in dict_scope_options.items():\n",
    "    if election_name == '[SELECCIONE]':\n",
    "        continue  # Saltar la iteración si la llave es '[SELECCIONE]'\n",
    "     # Reubica el contenedor de opciones antes de hacer clic en la opción\n",
    "    options_container = driver.find_element(By.XPATH, '/html/body/div[1]/section/div[2]/div[2]/div[2]/div[2]/div/div[2]')\n",
    "    options = options_container.find_elements(By.TAG_NAME, 'div')  # Asegúrate de usar el tag correcto para las opciones\n",
    "    option = [opt for opt in options if opt.text == election_name][0]\n",
    "    option.click() \n",
    "    time.sleep(7)\n",
    "    driver.find_element(By.XPATH, '/html/body/div[1]/section/div[2]/div[2]/div[3]/div/button').click() # Ver datos de la elección\n",
    "    time.sleep(8) \n",
    "    driver.find_element(By.XPATH, '/html/body/div[1]/section/div[2]/div[3]/div[1]/ul/li[2]/a').click() # Candidatos y resultados\n",
    "    time.sleep(8)\n",
    "    table_path = driver.find_element(By.XPATH, '/html/body/div[1]/section/div[2]/div[3]/div[3]/div/div/div/div[1]')\n",
    "    table_html = table_path.get_attribute( 'innerHTML' )\n",
    "    table = pd.read_html( StringIO(table_html) )\n",
    "    df = table[0][['ORGANIZACIÓN POLÍTICA','TOTAL VOTOS']].copy()\n",
    "    df['Elecciones'] = election_name  # Usa el nombre de la elección como identificador\n",
    "    #df = df.copy()\n",
    "    #df.loc[:, 'Elecciones'] = 'PRESIDENCIAL 2021 - 2DA VUELTA'\n",
    "    df = df[['Elecciones'] + [col for col in df.columns if col != 'Elecciones']]\n",
    "    all_dfs.append(df)\n",
    "    driver.back() # regresa a la página anterior\n",
    "    time.sleep(5)  # Asegura que la página se haya cargado\n",
    "    driver.back() # regresa a la página anterior\n",
    "    time.sleep(5)  # Asegura que la página se haya cargado\n",
    "    driver.get(driver.current_url)\n",
    "    time.sleep(5)\n",
    "    driver.find_element(By.XPATH, '/html/body/div[1]/section/div[2]/div[2]/div[2]/div[1]/div').click() # Tipo de Proceso\n",
    "    time.sleep(5)\n",
    "    driver.find_element(By.XPATH, '/html/body/div[1]/section/div[2]/div[2]/div[2]/div[1]/div/div[2]/div[2]').click() # Elecciones Presidenciales\n",
    "    time.sleep(5)\n",
    "    driver.find_element(By.XPATH, '/html/body/div[1]/section/div[2]/div[2]/div[2]/div[2]/div').click() # Elección\n",
    "    time.sleep(5)"
   ]
  },
  {
   "cell_type": "code",
   "execution_count": 32,
   "metadata": {
    "scrolled": true
   },
   "outputs": [
    {
     "data": {
      "text/plain": [
       "[                       Elecciones                 ORGANIZACIÓN POLÍTICA  \\\n",
       " 0  PRESIDENCIAL 2021 - 2DA VUELTA  PARTIDO POLITICO NACIONAL PERU LIBRE   \n",
       " 1  PRESIDENCIAL 2021 - 2DA VUELTA                        FUERZA POPULAR   \n",
       " 2  PRESIDENCIAL 2021 - 2DA VUELTA                       VOTOS EN BLANCO   \n",
       " 3  PRESIDENCIAL 2021 - 2DA VUELTA                           VOTOS NULOS   \n",
       " \n",
       "    TOTAL VOTOS  \n",
       " 0      8836380  \n",
       " 1      8792117  \n",
       " 2       121489  \n",
       " 3      1106816  ,\n",
       "           Elecciones                        ORGANIZACIÓN POLÍTICA  TOTAL VOTOS\n",
       " 0  PRESIDENCIAL 2021         PARTIDO POLITICO NACIONAL PERU LIBRE      2724752\n",
       " 1  PRESIDENCIAL 2021                               FUERZA POPULAR      1930762\n",
       " 2  PRESIDENCIAL 2021                           RENOVACION POPULAR      1692279\n",
       " 3  PRESIDENCIAL 2021  AVANZA PAIS - PARTIDO DE INTEGRACION SOCIAL      1674201\n",
       " 4  PRESIDENCIAL 2021                               ACCION POPULAR      1306288\n",
       " 5  PRESIDENCIAL 2021                           JUNTOS POR EL PERU      1132577\n",
       " 6  PRESIDENCIAL 2021                     ALIANZA PARA EL PROGRESO       867025\n",
       " 7  PRESIDENCIAL 2021                            VICTORIA NACIONAL       814516\n",
       " 8  PRESIDENCIAL 2021                                 PODEMOS PERU       812721\n",
       " 9  PRESIDENCIAL 2021                               PARTIDO MORADO       325608,\n",
       "                        Elecciones   ORGANIZACIÓN POLÍTICA  TOTAL VOTOS\n",
       " 0  PRESIDENCIAL 2016 - 2DA VUELTA  PERUANOS POR EL KAMBIO      8596937\n",
       " 1  PRESIDENCIAL 2016 - 2DA VUELTA          FUERZA POPULAR      8555880\n",
       " 2  PRESIDENCIAL 2016 - 2DA VUELTA         VOTOS EN BLANCO       149577\n",
       " 3  PRESIDENCIAL 2016 - 2DA VUELTA             VOTOS NULOS      1040502,\n",
       "           Elecciones                           ORGANIZACIÓN POLÍTICA  \\\n",
       " 0  PRESIDENCIAL 2016                                  FUERZA POPULAR   \n",
       " 1  PRESIDENCIAL 2016                          PERUANOS POR EL KAMBIO   \n",
       " 2  PRESIDENCIAL 2016  EL FRENTE AMPLIO POR JUSTICIA, VIDA Y LIBERTAD   \n",
       " 3  PRESIDENCIAL 2016                                  ACCION POPULAR   \n",
       " 4  PRESIDENCIAL 2016                                 ALIANZA POPULAR   \n",
       " 5  PRESIDENCIAL 2016                              DEMOCRACIA DIRECTA   \n",
       " 6  PRESIDENCIAL 2016                                FRENTE ESPERANZA   \n",
       " 7  PRESIDENCIAL 2016                                    PERU POSIBLE   \n",
       " 8  PRESIDENCIAL 2016                                PROGRESANDO PERU   \n",
       " 9  PRESIDENCIAL 2016                          PARTIDO POLITICO ORDEN   \n",
       " \n",
       "    TOTAL VOTOS  \n",
       " 0      6115073  \n",
       " 1      3228661  \n",
       " 2      2874940  \n",
       " 3      1069360  \n",
       " 4       894278  \n",
       " 5       613173  \n",
       " 6       203103  \n",
       " 7       200012  \n",
       " 8        75870  \n",
       " 9        65673  ,\n",
       "                        Elecciones ORGANIZACIÓN POLÍTICA  TOTAL VOTOS\n",
       " 0  PRESIDENCIAL 2011 - 2DA VUELTA             GANA PERU      7937704\n",
       " 1  PRESIDENCIAL 2011 - 2DA VUELTA           FUERZA 2011      7490647\n",
       " 2  PRESIDENCIAL 2011 - 2DA VUELTA       VOTOS EN BLANCO       116335\n",
       " 3  PRESIDENCIAL 2011 - 2DA VUELTA           VOTOS NULOS       921711,\n",
       "           Elecciones           ORGANIZACIÓN POLÍTICA  TOTAL VOTOS\n",
       " 0  PRESIDENCIAL 2011                       GANA PERU      4643064\n",
       " 1  PRESIDENCIAL 2011                     FUERZA 2011      3449595\n",
       " 2  PRESIDENCIAL 2011      ALIANZA POR EL GRAN CAMBIO      2711450\n",
       " 3  PRESIDENCIAL 2011                    PERÚ POSIBLE      2289561\n",
       " 4  PRESIDENCIAL 2011    ALIANZA SOLIDARIDAD NACIONAL      1440143\n",
       " 5  PRESIDENCIAL 2011             FONAVISTAS DEL PERU        37011\n",
       " 6  PRESIDENCIAL 2011              DESPERTAR NACIONAL        21574\n",
       " 7  PRESIDENCIAL 2011       PARTIDO POLITICO ADELANTE        17301\n",
       " 8  PRESIDENCIAL 2011                 FUERZA NACIONAL        16831\n",
       " 9  PRESIDENCIAL 2011  JUSTICIA, TECNOLOGIA, ECOLOGIA        11275,\n",
       "                        Elecciones    ORGANIZACIÓN POLÍTICA  TOTAL VOTOS\n",
       " 0  PRESIDENCIAL 2006 - 2DA VUELTA  PARTIDO APRISTA PERUANO      6965017\n",
       " 1  PRESIDENCIAL 2006 - 2DA VUELTA        UNION POR EL PERU      6270080\n",
       " 2  PRESIDENCIAL 2006 - 2DA VUELTA          VOTOS EN BLANCO       157863\n",
       " 3  PRESIDENCIAL 2006 - 2DA VUELTA              VOTOS NULOS      1075318,\n",
       "           Elecciones        ORGANIZACIÓN POLÍTICA  TOTAL VOTOS\n",
       " 0  PRESIDENCIAL 2006            UNION POR EL PERU      3758258\n",
       " 1  PRESIDENCIAL 2006      PARTIDO APRISTA PERUANO      2985858\n",
       " 2  PRESIDENCIAL 2006              UNIDAD NACIONAL      2923280\n",
       " 3  PRESIDENCIAL 2006        ALIANZA POR EL FUTURO       912420\n",
       " 4  PRESIDENCIAL 2006             FRENTE DE CENTRO       706156\n",
       " 5  PRESIDENCIAL 2006        RESTAURACION NACIONAL       537564\n",
       " 6  PRESIDENCIAL 2006  CONCERTACION DESCENTRALISTA        76106\n",
       " 7  PRESIDENCIAL 2006    PARTIDO JUSTICIA NACIONAL        65636\n",
       " 8  PRESIDENCIAL 2006           PARTIDO SOCIALISTA        60955\n",
       " 9  PRESIDENCIAL 2006     ALIANZA PARA EL PROGRESO        49332,\n",
       "                        Elecciones    ORGANIZACIÓN POLÍTICA  TOTAL VOTOS\n",
       " 0  PRESIDENCIAL 2001 - 2DA VUELTA             PERU POSIBLE      5548556\n",
       " 1  PRESIDENCIAL 2001 - 2DA VUELTA  PARTIDO APRISTA PERUANO      4904929\n",
       " 2  PRESIDENCIAL 2001 - 2DA VUELTA          VOTOS EN BLANCO       333546\n",
       " 3  PRESIDENCIAL 2001 - 2DA VUELTA              VOTOS NULOS      1341938,\n",
       "           Elecciones               ORGANIZACIÓN POLÍTICA  TOTAL VOTOS\n",
       " 0  PRESIDENCIAL 2001                        PERU POSIBLE      3871167\n",
       " 1  PRESIDENCIAL 2001             PARTIDO APRISTA PERUANO      2732857\n",
       " 2  PRESIDENCIAL 2001   ALIANZA ELECTORAL UNIDAD NACIONAL      2576653\n",
       " 3  PRESIDENCIAL 2001    FRENTE INDEPENDIENTE MORALIZADOR      1044207\n",
       " 4  PRESIDENCIAL 2001  ALIANZA ELECTORAL SOLUCION POPULAR       179243\n",
       " 5  PRESIDENCIAL 2001         PARTIDO RENACIMIENTO ANDINO        85436\n",
       " 6  PRESIDENCIAL 2001               PARTIDO PROYECTO PAIS        79077\n",
       " 7  PRESIDENCIAL 2001               TODOS POR LA VICTORIA        33080\n",
       " 8  PRESIDENCIAL 2001                     VOTOS EN BLANCO      1260193\n",
       " 9  PRESIDENCIAL 2001                         VOTOS NULOS       402436,\n",
       "                        Elecciones        ORGANIZACIÓN POLÍTICA  TOTAL VOTOS\n",
       " 0  PRESIDENCIAL 2000 - 2DA VUELTA  ALIANZA ELECTORAL PERU 2000      6041774\n",
       " 1  PRESIDENCIAL 2000 - 2DA VUELTA                 PERU POSIBLE      2086208\n",
       " 2  PRESIDENCIAL 2000 - 2DA VUELTA              VOTOS EN BLANCO       140773\n",
       " 3  PRESIDENCIAL 2000 - 2DA VUELTA                  VOTOS NULOS      3531730,\n",
       "           Elecciones                       ORGANIZACIÓN POLÍTICA  TOTAL VOTOS\n",
       " 0  PRESIDENCIAL 2000                 ALIANZA ELECTORAL PERU 2000      5528394\n",
       " 1  PRESIDENCIAL 2000                                PERU POSIBLE      4460812\n",
       " 2  PRESIDENCIAL 2000         MOVIMIENTO INDEPENDIENTE SOMOS PERU       333049\n",
       " 3  PRESIDENCIAL 2000          AGRUPACION INDEPENDIENTE AVANCEMOS       246781\n",
       " 4  PRESIDENCIAL 2000                        SOLIDARIDAD NACIONAL       199813\n",
       " 5  PRESIDENCIAL 2000                     PARTIDO APRISTA PERUANO       152519\n",
       " 6  PRESIDENCIAL 2000        FRENTE POPULAR AGRICOLA FIA DEL PERU        80099\n",
       " 7  PRESIDENCIAL 2000                              ACCION POPULAR        46509\n",
       " 8  PRESIDENCIAL 2000  AGRUPACION INDEPENDIENTE UNION POR EL PERU        36541\n",
       " 9  PRESIDENCIAL 2000                             VOTOS EN BLANCO       708603,\n",
       "           Elecciones                 ORGANIZACIÓN POLÍTICA  TOTAL VOTOS\n",
       " 0  PRESIDENCIAL 1995             CAMBIO 90 - NUEVA MAYORIA      4798515\n",
       " 1  PRESIDENCIAL 1995                     UNION POR EL PERU      1624566\n",
       " 2  PRESIDENCIAL 1995               PARTIDO APRISTA PERUANO       306108\n",
       " 3  PRESIDENCIAL 1995                   CODE - PAIS POSIBLE       241598\n",
       " 4  PRESIDENCIAL 1995      MOVIMIENTO CIVICO NACIONAL OBRAS       192261\n",
       " 5  PRESIDENCIAL 1995                        ACCION POPULAR       122383\n",
       " 6  PRESIDENCIAL 1995  FRENTE POPULAR AGRICOLA FIA DEL PERU        57556\n",
       " 7  PRESIDENCIAL 1995                       IZQUIERDA UNIDA        42686\n",
       " 8  PRESIDENCIAL 1995             PERU AL 2000 - FRENATRACA        25017\n",
       " 9  PRESIDENCIAL 1995   MOVIMIENTO INDEPENDIENTE NUEVO PERU         9999,\n",
       "                        Elecciones ORGANIZACIÓN POLÍTICA  TOTAL VOTOS\n",
       " 0  PRESIDENCIAL 1990 - 2DA VUELTA             CAMBIO 90      4522563\n",
       " 1  PRESIDENCIAL 1990 - 2DA VUELTA               FREDEMO      2713442\n",
       " 2  PRESIDENCIAL 1990 - 2DA VUELTA       VOTOS EN BLANCO       136421\n",
       " 3  PRESIDENCIAL 1990 - 2DA VUELTA           VOTOS NULOS       627552,\n",
       "           Elecciones                 ORGANIZACIÓN POLÍTICA  TOTAL VOTOS\n",
       " 0  PRESIDENCIAL 1990                               FREDEMO      2171957\n",
       " 1  PRESIDENCIAL 1990                             CAMBIO 90      1937186\n",
       " 2  PRESIDENCIAL 1990               PARTIDO APRISTA PERUANO      1507905\n",
       " 3  PRESIDENCIAL 1990                       IZQUIERDA UNIDA       548386\n",
       " 4  PRESIDENCIAL 1990                  IZQUIERDA SOCIALISTA       320108\n",
       " 5  PRESIDENCIAL 1990                            FRENATRACA        77284\n",
       " 6  PRESIDENCIAL 1990  FRENTE POPULAR AGRICOLA FIA DEL PERU        69832\n",
       " 7  PRESIDENCIAL 1990               UNION NACIONAL ODRIISTA        18248\n",
       " 8  PRESIDENCIAL 1990                     UNION DEMOCRATICA         8170\n",
       " 9  PRESIDENCIAL 1990                       VOTOS EN BLANCO       631644,\n",
       "           Elecciones                   ORGANIZACIÓN POLÍTICA  TOTAL VOTOS\n",
       " 0  PRESIDENCIAL 1985                 PARTIDO APRISTA PERUANO      3457030\n",
       " 1  PRESIDENCIAL 1985       ALIANZA ELECTORAL IZQUIERDA UNIDA      1606914\n",
       " 2  PRESIDENCIAL 1985                CONVERGENCIA DEMOCRATICA       773705\n",
       " 3  PRESIDENCIAL 1985                          ACCION POPULAR       472627\n",
       " 4  PRESIDENCIAL 1985                  IZQUIERDA NACIONALISTA        91986\n",
       " 5  PRESIDENCIAL 1985   FRENTE DEMOCRATICO DE UNIDAD NACIONAL        54560\n",
       " 6  PRESIDENCIAL 1985               PARTIDO AVANZADA NACIONAL        26757\n",
       " 7  PRESIDENCIAL 1985  PARTIDO SOCIALISTA DE LOS TRABAJADORES        15607\n",
       " 8  PRESIDENCIAL 1985   MOVIMIENTO CIVICO NACIONAL 7 DE JUNIO        10020\n",
       " 9  PRESIDENCIAL 1985                         VOTOS EN BLANCO       494390,\n",
       "           Elecciones                          ORGANIZACIÓN POLÍTICA  \\\n",
       " 0  PRESIDENCIAL 1980                                 ACCION POPULAR   \n",
       " 1  PRESIDENCIAL 1980                        PARTIDO APRISTA PERUANO   \n",
       " 2  PRESIDENCIAL 1980                      PARTIDO POPULAR CRISTIANO   \n",
       " 3  PRESIDENCIAL 1980     PARTIDO REVOLUCIONARIO DE LOS TRABAJADORES   \n",
       " 4  PRESIDENCIAL 1980              UNION DE IZQUIERDA REVOLUCIONARIA   \n",
       " 5  PRESIDENCIAL 1980                    ALIANZA UNIDAD DE IZQUIERDA   \n",
       " 6  PRESIDENCIAL 1980                     UNIDAD DEMOCRATICO POPULAR   \n",
       " 7  PRESIDENCIAL 1980   FRENTE NACIONAL DE TRABAJADORES Y CAMPESINOS   \n",
       " 8  PRESIDENCIAL 1980  FRENTE OBRERO CAMPESINO ESTUDIANTIL Y POPULAR   \n",
       " 9  PRESIDENCIAL 1980                                 UNION NACIONAL   \n",
       " \n",
       "    TOTAL VOTOS  \n",
       " 0      1870864  \n",
       " 1      1129991  \n",
       " 2       394592  \n",
       " 3       160713  \n",
       " 4       134321  \n",
       " 5       116890  \n",
       " 6        98452  \n",
       " 7        81647  \n",
       " 8        60853  \n",
       " 9        18170  ,\n",
       "           Elecciones     ORGANIZACIÓN POLÍTICA  TOTAL VOTOS\n",
       " 0  PRESIDENCIAL 1963            ACCION POPULAR       708662\n",
       " 1  PRESIDENCIAL 1963   PARTIDO APRISTA PERUANO       623501\n",
       " 2  PRESIDENCIAL 1963   UNION NACIONAL ODRIISTA       463085\n",
       " 3  PRESIDENCIAL 1963  UNION DEL PUEBLO PERUANO        19320\n",
       " 4  PRESIDENCIAL 1963           VOTOS EN BLANCO        93661\n",
       " 5  PRESIDENCIAL 1963               VOTOS NULOS        46055,\n",
       "           Elecciones          ORGANIZACIÓN POLÍTICA  TOTAL VOTOS\n",
       " 0  PRESIDENCIAL 1962        PARTIDO APRISTA PERUANO       558237\n",
       " 1  PRESIDENCIAL 1962                 ACCION POPULAR       543828\n",
       " 2  PRESIDENCIAL 1962        UNION NACIONAL ODRIISTA       481404\n",
       " 3  PRESIDENCIAL 1962           DEMOCRACIA CRISTIANA        48828\n",
       " 4  PRESIDENCIAL 1962  FRENTE DE LIBERACION NACIONAL        34595\n",
       " 5  PRESIDENCIAL 1962     PARTIDO SOCIALISTA PERUANO        16776\n",
       " 6  PRESIDENCIAL 1962  MOVIMIENTO SOCIAL PROGRESISTA         9076,\n",
       "           Elecciones              ORGANIZACIÓN POLÍTICA  TOTAL VOTOS\n",
       " 0  PRESIDENCIAL 1956    MOVIMIENTO DEMOCRATICO PRADISTA       568057\n",
       " 1  PRESIDENCIAL 1956  FRENTE DE JUVENTUDES DEMOCRATICAS       458248\n",
       " 2  PRESIDENCIAL 1956                    UNIDAD NACIONAL       222618,\n",
       "           Elecciones ORGANIZACIÓN POLÍTICA  TOTAL VOTOS\n",
       " 0  PRESIDENCIAL 1950   PARTIDO RESTAURADOR       550779,\n",
       "           Elecciones        ORGANIZACIÓN POLÍTICA  TOTAL VOTOS\n",
       " 0  PRESIDENCIAL 1945  FRENTE DEMOCRATICO NACIONAL       305590\n",
       " 1  PRESIDENCIAL 1945         UNION REVOLUCIONARIA       150720,\n",
       "           Elecciones   ORGANIZACIÓN POLÍTICA  TOTAL VOTOS\n",
       " 0  PRESIDENCIAL 1939  CONCENTRACION NACIONAL       262971\n",
       " 1  PRESIDENCIAL 1939       FRENTE PATRIOTICO        76222,\n",
       "           Elecciones     ORGANIZACIÓN POLÍTICA  TOTAL VOTOS\n",
       " 0  PRESIDENCIAL 1936  PARTIDO SOCIAL DEMOCRATA        77042\n",
       " 1  PRESIDENCIAL 1936      UNION REVOLUCIONARIA        57838\n",
       " 2  PRESIDENCIAL 1936           FRENTE NACIONAL        46773\n",
       " 3  PRESIDENCIAL 1936       PARTIDO REPUBLICANO        30803,\n",
       "           Elecciones       ORGANIZACIÓN POLÍTICA  TOTAL VOTOS\n",
       " 0  PRESIDENCIAL 1931        UNION REVOLUCIONARIA       152149\n",
       " 1  PRESIDENCIAL 1931     PARTIDO APRISTA PERUANO       106088\n",
       " 2  PRESIDENCIAL 1931      PARTIDO DESCENTRALISTA        21950\n",
       " 3  PRESIDENCIAL 1931  PARTIDO COALICION NACIONAL        19640]"
      ]
     },
     "execution_count": 32,
     "metadata": {},
     "output_type": "execute_result"
    }
   ],
   "source": [
    "all_dfs"
   ]
  },
  {
   "cell_type": "code",
   "execution_count": 33,
   "metadata": {},
   "outputs": [
    {
     "data": {
      "text/plain": [
       "list"
      ]
     },
     "execution_count": 33,
     "metadata": {},
     "output_type": "execute_result"
    }
   ],
   "source": [
    "type(all_dfs)"
   ]
  },
  {
   "cell_type": "code",
   "execution_count": 34,
   "metadata": {},
   "outputs": [
    {
     "data": {
      "text/html": [
       "<div>\n",
       "<style scoped>\n",
       "    .dataframe tbody tr th:only-of-type {\n",
       "        vertical-align: middle;\n",
       "    }\n",
       "\n",
       "    .dataframe tbody tr th {\n",
       "        vertical-align: top;\n",
       "    }\n",
       "\n",
       "    .dataframe thead th {\n",
       "        text-align: right;\n",
       "    }\n",
       "</style>\n",
       "<table border=\"1\" class=\"dataframe\">\n",
       "  <thead>\n",
       "    <tr style=\"text-align: right;\">\n",
       "      <th></th>\n",
       "      <th>Elecciones</th>\n",
       "      <th>ORGANIZACIÓN POLÍTICA</th>\n",
       "      <th>TOTAL VOTOS</th>\n",
       "    </tr>\n",
       "  </thead>\n",
       "  <tbody>\n",
       "    <tr>\n",
       "      <th>0</th>\n",
       "      <td>PRESIDENCIAL 2000 - 2DA VUELTA</td>\n",
       "      <td>ALIANZA ELECTORAL PERU 2000</td>\n",
       "      <td>6041774</td>\n",
       "    </tr>\n",
       "    <tr>\n",
       "      <th>1</th>\n",
       "      <td>PRESIDENCIAL 2000 - 2DA VUELTA</td>\n",
       "      <td>PERU POSIBLE</td>\n",
       "      <td>2086208</td>\n",
       "    </tr>\n",
       "    <tr>\n",
       "      <th>2</th>\n",
       "      <td>PRESIDENCIAL 2000 - 2DA VUELTA</td>\n",
       "      <td>VOTOS EN BLANCO</td>\n",
       "      <td>140773</td>\n",
       "    </tr>\n",
       "    <tr>\n",
       "      <th>3</th>\n",
       "      <td>PRESIDENCIAL 2000 - 2DA VUELTA</td>\n",
       "      <td>VOTOS NULOS</td>\n",
       "      <td>3531730</td>\n",
       "    </tr>\n",
       "  </tbody>\n",
       "</table>\n",
       "</div>"
      ],
      "text/plain": [
       "                       Elecciones        ORGANIZACIÓN POLÍTICA  TOTAL VOTOS\n",
       "0  PRESIDENCIAL 2000 - 2DA VUELTA  ALIANZA ELECTORAL PERU 2000      6041774\n",
       "1  PRESIDENCIAL 2000 - 2DA VUELTA                 PERU POSIBLE      2086208\n",
       "2  PRESIDENCIAL 2000 - 2DA VUELTA              VOTOS EN BLANCO       140773\n",
       "3  PRESIDENCIAL 2000 - 2DA VUELTA                  VOTOS NULOS      3531730"
      ]
     },
     "execution_count": 34,
     "metadata": {},
     "output_type": "execute_result"
    }
   ],
   "source": [
    "all_dfs[10]"
   ]
  },
  {
   "cell_type": "code",
   "execution_count": 36,
   "metadata": {},
   "outputs": [],
   "source": [
    "presidencial = pd.concat(all_dfs, ignore_index=True)\n",
    "presidencial.to_excel('presidential_elections.xlsx', index=False)"
   ]
  },
  {
   "cell_type": "code",
   "execution_count": null,
   "metadata": {},
   "outputs": [],
   "source": []
  }
 ],
 "metadata": {
  "hide_input": false,
  "kernelspec": {
   "display_name": "Python 3 (ipykernel)",
   "language": "python",
   "name": "python3"
  },
  "language_info": {
   "codemirror_mode": {
    "name": "ipython",
    "version": 3
   },
   "file_extension": ".py",
   "mimetype": "text/x-python",
   "name": "python",
   "nbconvert_exporter": "python",
   "pygments_lexer": "ipython3",
   "version": "3.12.4"
  },
  "toc": {
   "base_numbering": 1,
   "nav_menu": {},
   "number_sections": true,
   "sideBar": true,
   "skip_h1_title": false,
   "title_cell": "Table of Contents",
   "title_sidebar": "Contents",
   "toc_cell": false,
   "toc_position": {},
   "toc_section_display": true,
   "toc_window_display": false
  }
 },
 "nbformat": 4,
 "nbformat_minor": 4
}
