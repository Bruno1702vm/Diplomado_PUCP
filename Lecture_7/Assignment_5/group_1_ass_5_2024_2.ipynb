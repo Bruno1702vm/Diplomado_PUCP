{
 "cells": [
  {
   "cell_type": "markdown",
   "metadata": {},
   "source": [
    "Jesus Gamboa\n",
    "Paolo Gutierrez\n",
    "Karen Salazar\n",
    "Max Chipani\n",
    "Luis Camarena"
   ]
  },
  {
   "cell_type": "markdown",
   "metadata": {},
   "source": [
    "Assignment 5\n",
    "The script should not give an error. Any mistake will be consider as 0.\n"
   ]
  },
  {
   "cell_type": "markdown",
   "metadata": {},
   "source": [
    "# Installing and Importing Libraries"
   ]
  },
  {
   "cell_type": "code",
   "execution_count": null,
   "metadata": {},
   "outputs": [],
   "source": [
    "# !pip install selenium\n",
    "# !pip install webdriver-manager"
   ]
  },
  {
   "cell_type": "code",
   "execution_count": null,
   "metadata": {},
   "outputs": [],
   "source": [
    "from selenium import webdriver\n",
    "from selenium.webdriver.edge.service import Service\n",
    "from selenium.webdriver.edge.options import Options\n",
    "from selenium.webdriver.common.by import By\n",
    "from selenium.webdriver.support.ui import Select\n",
    "from io import StringIO\n",
    "from selenium.webdriver.support.ui import WebDriverWait\n",
    "from selenium.webdriver.support import expected_conditions as EC\n",
    "from selenium.common.exceptions import TimeoutException, ElementClickInterceptedException\n",
    "from webdriver_manager.chrome import ChromeDriverManager\n",
    "from selenium.webdriver.chrome.service import Service\n",
    "from selenium.webdriver.chrome.options import Options\n",
    "from tqdm import tqdm\n",
    "\n",
    "import re\n",
    "import time\n",
    "import pandas as pd\n",
    "import os"
   ]
  },
  {
   "cell_type": "markdown",
   "metadata": {},
   "source": [
    "This section imports the necessary libraries for automating web interactions and data processing. Selenium is used for browser automation, enabling control over the Chrome browser via WebDriver. The webdriver_manager library simplifies the setup process by automatically managing the ChromeDriver installation. Other imported libraries (re, time, pandas, os) provide essential tools for tasks like data parsing, time handling, and file management. tqdm is included for displaying progress bars, which is useful for monitoring long-running operations."
   ]
  },
  {
   "cell_type": "markdown",
   "metadata": {},
   "source": [
    "# Configuring the WebDriver Instance and Service"
   ]
  },
  {
   "cell_type": "code",
   "execution_count": null,
   "metadata": {},
   "outputs": [],
   "source": [
    "edge_options = Options()\n",
    "edge_options.use_chromium = True\n",
    "\n",
    "# service = Service('C://Users//Paolo//Desktop//WE//msedgedriver.exe')\n",
    "service = Service(executable_path=\"chromedriver-win64/chromedriver.exe\")"
   ]
  },
  {
   "cell_type": "markdown",
   "metadata": {},
   "source": [
    "The code sets up options for the WebDriver, initially for Edge but then adapted for Chrome. The use of webdriver_manager eliminates the need for manually specifying the path to the ChromeDriver executable, enhancing portability and ease of setup."
   ]
  },
  {
   "cell_type": "markdown",
   "metadata": {},
   "source": [
    "# Launching the Browser Instance"
   ]
  },
  {
   "cell_type": "code",
   "execution_count": null,
   "metadata": {},
   "outputs": [],
   "source": [
    "driver = webdriver.Chrome(service=webdriver.chrome.service.Service(ChromeDriverManager().install()))\n",
    "\n",
    "# Maximizando y configurando el zoom\n",
    "driver.maximize_window()\n",
    "driver.execute_script(\"document.body.style.zoom='100%'\")"
   ]
  },
  {
   "cell_type": "markdown",
   "metadata": {},
   "source": [
    "The browser instance is initiated, now using Chrome instead of Edge. The code maximizes the browser window and sets the zoom level to 100% to ensure that the webpage elements are displayed correctly, which is critical for consistent interaction during web scraping."
   ]
  }
 ],
 "metadata": {
  "hide_input": false,
  "kernelspec": {
   "display_name": "Python 3 (ipykernel)",
   "language": "python",
   "name": "python3"
  },
  "language_info": {
   "codemirror_mode": {
    "name": "ipython",
    "version": 3
   },
   "file_extension": ".py",
   "mimetype": "text/x-python",
   "name": "python",
   "nbconvert_exporter": "python",
   "pygments_lexer": "ipython3",
   "version": "3.11.7"
  },
  "toc": {
   "base_numbering": 1,
   "nav_menu": {},
   "number_sections": true,
   "sideBar": true,
   "skip_h1_title": false,
   "title_cell": "Table of Contents",
   "title_sidebar": "Contents",
   "toc_cell": false,
   "toc_position": {},
   "toc_section_display": true,
   "toc_window_display": false
  }
 },
 "nbformat": 4,
 "nbformat_minor": 4
}
