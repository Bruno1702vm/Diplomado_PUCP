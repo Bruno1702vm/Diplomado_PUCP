{
 "cells": [
  {
   "cell_type": "markdown",
   "metadata": {},
   "source": [
    "**Group members:**\n",
    "- Max Chipani\n",
    "- Jesus Gamboa\n",
    "- Karen Salazar\n",
    "- Paolo Gutierrez\n",
    "- Luis Camarena"
   ]
  },
  {
   "cell_type": "markdown",
   "metadata": {},
   "source": [
    "Assignment 5\n",
    "The script should not give an error. Any mistake will be consider as 0.\n"
   ]
  },
  {
   "cell_type": "markdown",
   "metadata": {},
   "source": [
    "# Installing and Importing Libraries"
   ]
  },
  {
   "cell_type": "code",
   "execution_count": 1,
   "metadata": {},
   "outputs": [],
   "source": [
    "# !pip install selenium\n",
    "# !pip install webdriver-manager"
   ]
  },
  {
   "cell_type": "code",
   "execution_count": 2,
   "metadata": {},
   "outputs": [],
   "source": [
    "from selenium import webdriver\n",
    "from selenium.webdriver.edge.service import Service\n",
    "from selenium.webdriver.edge.options import Options\n",
    "from selenium.webdriver.common.by import By\n",
    "from selenium.webdriver.support.ui import Select\n",
    "from io import StringIO\n",
    "from selenium.webdriver.support.ui import WebDriverWait\n",
    "from selenium.webdriver.support import expected_conditions as EC\n",
    "from selenium.common.exceptions import TimeoutException, ElementClickInterceptedException\n",
    "from webdriver_manager.chrome import ChromeDriverManager\n",
    "from selenium.webdriver.chrome.service import Service\n",
    "from selenium.webdriver.chrome.options import Options\n",
    "from tqdm import tqdm\n",
    "\n",
    "import re\n",
    "import time\n",
    "import pandas as pd\n",
    "import os"
   ]
  },
  {
   "cell_type": "markdown",
   "metadata": {},
   "source": [
    "This section imports the necessary libraries for automating web interactions and data processing. Selenium is used for browser automation, enabling control over the Chrome browser via WebDriver. The webdriver_manager library simplifies the setup process by automatically managing the ChromeDriver installation. Other imported libraries (re, time, pandas, os) provide essential tools for tasks like data parsing, time handling, and file management. tqdm is included for displaying progress bars, which is useful for monitoring long-running operations."
   ]
  },
  {
   "cell_type": "markdown",
   "metadata": {},
   "source": [
    "# Configuring the WebDriver Instance and Service"
   ]
  },
  {
   "cell_type": "code",
   "execution_count": 3,
   "metadata": {},
   "outputs": [],
   "source": [
    "edge_options = Options()\n",
    "edge_options.use_chromium = True\n",
    "\n",
    "# service = Service('C://Users//Paolo//Desktop//WE//msedgedriver.exe')\n",
    "service = Service(executable_path=\"chromedriver-win64/chromedriver.exe\")"
   ]
  },
  {
   "cell_type": "markdown",
   "metadata": {},
   "source": [
    "The code sets up options for the WebDriver, initially for Edge but then adapted for Chrome. The use of webdriver_manager eliminates the need for manually specifying the path to the ChromeDriver executable, enhancing portability and ease of setup."
   ]
  },
  {
   "cell_type": "markdown",
   "metadata": {},
   "source": [
    "# Launching the Browser Instance"
   ]
  },
  {
   "cell_type": "code",
   "execution_count": 4,
   "metadata": {},
   "outputs": [],
   "source": [
    "driver = webdriver.Chrome(service=webdriver.chrome.service.Service(ChromeDriverManager().install()))\n",
    "\n",
    "# Maximizando y configurando el zoom\n",
    "driver.maximize_window()\n",
    "driver.execute_script(\"document.body.style.zoom='100%'\")"
   ]
  },
  {
   "cell_type": "markdown",
   "metadata": {},
   "source": [
    "The browser instance is initiated, now using Chrome instead of Edge. The code maximizes the browser window and sets the zoom level to 100% to ensure that the webpage elements are displayed correctly, which is critical for consistent interaction during web scraping."
   ]
  },
  {
   "cell_type": "markdown",
   "metadata": {},
   "source": [
    "# 04. Calculating the number of elections"
   ]
  },
  {
   "cell_type": "code",
   "execution_count": null,
   "metadata": {},
   "outputs": [],
   "source": [
    "# Opens the JNE page\n",
    "driver.get(\"https://infogob.jne.gob.pe/Eleccion\")\n",
    "# Waits for 10 seconds to allow the page to fully load before proceeding; increase if internet connection is slow\n",
    "time.sleep(10)\n",
    "\n",
    "# Clicks on the dropdown list to display the available election types\n",
    "driver.find_element(By.XPATH, '//*[@id=\"section\"]/div[2]/div[2]/div[2]/div[1]/div').click() \n",
    "time.sleep(3) # Waits 3 seconds; increase if internet connection is slow\n",
    "\n",
    "# Selects the presidential election option from the dropdown list\n",
    "driver.find_element(By.XPATH, '//*[@id=\"section\"]/div[2]/div[2]/div[2]/div[1]/div/div[2]/div[2]').click() \n",
    "time.sleep(3) # Waits 3 seconds; increase if internet connection is slow"
   ]
  },
  {
   "cell_type": "code",
   "execution_count": null,
   "metadata": {},
   "outputs": [],
   "source": [
    "# Clicks on the dropdown list to display the available presidential elections\n",
    "driver.find_element(By.XPATH, '//*[@id=\"section\"]/div[2]/div[2]/div[2]/div[2]/div').click()\n",
    "time.sleep(3) # Waits 3 seconds; increase if internet connection is slow\n",
    "\n",
    "# Getting the list of elections\n",
    "items = driver.find_elements(By.XPATH, '//*[@id=\"section\"]/div[2]/div[2]/div[2]/div[2]/div/div[2]')\n",
    "elecciones = items[0].text.split('\\n') # Extracts the text and splits it into a list by line breaks\n",
    "elecciones = elecciones[1:] # Removes the first element, which is an irrelevant text ([SELECCIONE])\n",
    "elecciones # Outputs the final list of elections"
   ]
  },
  {
   "cell_type": "code",
   "execution_count": null,
   "metadata": {},
   "outputs": [],
   "source": [
    "# Gets the number of elections in the list\n",
    "len(elecciones)"
   ]
  }
 ],
 "metadata": {
  "hide_input": false,
  "kernelspec": {
   "display_name": "Python 3 (ipykernel)",
   "language": "python",
   "name": "python3"
  },
  "language_info": {
   "codemirror_mode": {
    "name": "ipython",
    "version": 3
   },
   "file_extension": ".py",
   "mimetype": "text/x-python",
   "name": "python",
   "nbconvert_exporter": "python",
   "pygments_lexer": "ipython3",
   "version": "3.12.4"
  },
  "toc": {
   "base_numbering": 1,
   "nav_menu": {},
   "number_sections": true,
   "sideBar": true,
   "skip_h1_title": false,
   "title_cell": "Table of Contents",
   "title_sidebar": "Contents",
   "toc_cell": false,
   "toc_position": {},
   "toc_section_display": true,
   "toc_window_display": false
  }
 },
 "nbformat": 4,
 "nbformat_minor": 4
}
