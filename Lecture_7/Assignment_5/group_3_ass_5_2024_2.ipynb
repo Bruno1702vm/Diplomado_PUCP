{
 "cells": [
  {
   "cell_type": "markdown",
   "metadata": {},
   "source": [
    "# Assignment 5\n",
    "The script should not give an error. Any mistake will be consider as 0.\n"
   ]
  },
  {
   "cell_type": "markdown",
   "metadata": {},
   "source": [
    "## 1. Calling the libraries"
   ]
  },
  {
   "cell_type": "code",
   "execution_count": 1,
   "metadata": {},
   "outputs": [],
   "source": [
    "from selenium.common.exceptions import TimeoutException, ElementClickInterceptedException\n",
    "from tqdm import tqdm"
   ]
  },
  {
   "cell_type": "code",
   "execution_count": 1,
   "metadata": {},
   "outputs": [],
   "source": [
    "from selenium import webdriver\n",
    "from selenium.webdriver.common.keys import Keys\n",
    "from selenium.common.exceptions import NoSuchElementException\n",
    "from selenium.webdriver import ActionChains\n",
    "import pandas as pd\n",
    "import numpy as np\n",
    "import os\n",
    "import time\n",
    "import re\n",
    "import unidecode\n",
    "from selenium.webdriver.support.ui import Select\n",
    "from webdriver_manager.chrome import ChromeDriverManager\n",
    "\n",
    "from selenium.webdriver.chrome.service import Service\n",
    "from selenium.webdriver.chrome.options import Options\n",
    "from selenium.webdriver.common.by import By\n",
    "from io import StringIO\n",
    "from selenium.webdriver.support.ui import WebDriverWait\n",
    "from selenium.webdriver.support import expected_conditions as EC\n",
    "from selenium.common.exceptions import TimeoutException, ElementClickInterceptedException\n",
    "from tqdm import tqdm"
   ]
  },
  {
   "cell_type": "code",
   "execution_count": null,
   "metadata": {},
   "outputs": [],
   "source": [
    "#Setting the driver\n",
    "driver = webdriver.Chrome(service=webdriver.chrome.service.Service(ChromeDriverManager().install()))\n",
    "driver"
   ]
  },
  {
   "cell_type": "code",
   "execution_count": null,
   "metadata": {},
   "outputs": [],
   "source": [
    "#Setting the page\n",
    "url = 'https://infogob.jne.gob.pe/Eleccion'\n",
    "driver.get( url )\n",
    "driver.maximize_window()\n",
    "driver.execute_script(\"document.body.style.zoom='100%'\")"
   ]
  },
  {
   "cell_type": "code",
   "execution_count": null,
   "metadata": {},
   "outputs": [],
   "source": [
    "#First menu\n",
    "elections = driver.find_element( By.XPATH  , '/html/body/div[1]/section/div[2]/div[2]/div[2]/div[1]/div').click()\n",
    "time.sleep(5)"
   ]
  },
  {
   "cell_type": "code",
   "execution_count": null,
   "metadata": {},
   "outputs": [],
   "source": [
    "#Presidential elections\n",
    "elections = driver.find_element( By.XPATH  , '/html/body/div[1]/section/div[2]/div[2]/div[2]/div[1]/div/div[2]/div[2]').click()\n",
    "time.sleep(5)"
   ]
  },
  {
   "cell_type": "code",
   "execution_count": null,
   "metadata": {},
   "outputs": [],
   "source": [
    "#Second menu\n",
    "elections = driver.find_element(By.XPATH  , '/html/body/div[1]/section/div[2]/div[2]/div[2]/div[2]/div').click()\n",
    "time.sleep(5)"
   ]
  },
  {
   "cell_type": "code",
   "execution_count": null,
   "metadata": {},
   "outputs": [],
   "source": [
    "#We show the elements of the second menu\n",
    "elections_list = driver.find_element(By.XPATH, '/html/body/div[1]/section/div[2]/div[2]/div[2]/div[2]/div/div[2]')\n",
    "time.sleep(5)\n",
    "\n",
    "# Create a list of elements representing election options\n",
    "options_elections_list = list(elections_list.find_elements(By.CLASS_NAME, 'item'))\n",
    "\n",
    "# Create a dictionary mapping the text of each option to the element itself\n",
    "dict_options = { option.text: option for option in options_elections_list }\n",
    "\n",
    "dict_options"
   ]
  },
  {
   "cell_type": "code",
   "execution_count": null,
   "metadata": {},
   "outputs": [],
   "source": [
    "# Create an empty dataframe for our scrapping\n",
    "df_results = pd.DataFrame()\n",
    "\n",
    "# Iterate over the keys of the dictionary, which are the election options\n",
    "# For this part, we change the waiting time because shorter times have stopped the code from running before\n",
    "for election_txt in list(dict_options.keys())[1:]:  # Excluding \"Seleccionar\"\n",
    "    election = dict_options[election_txt]\n",
    "    election.click()\n",
    "\n",
    "    # Wait until the election data button is clickable and click it\n",
    "    WebDriverWait(driver, 20).until(\n",
    "        EC.element_to_be_clickable((By.XPATH, '/html/body/div[1]/section/div[2]/div[2]/div[3]/div/button'))\n",
    "    ).click()\n",
    "\n",
    "    # Wait until the \"Candidates and results\" tab is clickable and click it\n",
    "    WebDriverWait(driver, 20).until(\n",
    "        EC.element_to_be_clickable((By.XPATH, '/html/body/div[1]/section/div[2]/div[3]/div[1]/ul/li[2]/a'))\n",
    "    ).click()\n",
    "\n",
    "    # Wait until the table is present\n",
    "    table = WebDriverWait(driver, 20).until(\n",
    "        EC.presence_of_element_located((By.XPATH, '/html/body/div[1]/section/div[2]/div[3]/div[3]/div/div/div/div[1]/div[2]/div[2]'))\n",
    "    )\n",
    "\n",
    "    # Read the HTML of the table\n",
    "    table_html = table.get_attribute('innerHTML')\n",
    "    table = pd.read_html(table_html)\n",
    "\n",
    "    # Create a dataframe\n",
    "    df = table[0]\n",
    "\n",
    "    # Create a new DataFrame containing only the relevant columns and add the election year\n",
    "    df = df[['ORGANIZACIÓN POLÍTICA', 'TOTAL VOTOS']].copy()\n",
    "    df.insert(0, 'ELECCIONES', election_txt)\n",
    "\n",
    "    # Concatenate results in df_results\n",
    "    df_results = pd.concat([df_results, df], ignore_index=True)\n",
    "\n",
    "    # Go back to start over\n",
    "    driver.back()\n",
    "    time.sleep(15)\n",
    "\n",
    "    driver.back()\n",
    "    time.sleep(15)\n",
    "    \n",
    "    # Click on the second list to choose the election\n",
    "    WebDriverWait(driver, 20).until(\n",
    "        EC.element_to_be_clickable((By.XPATH, '/html/body/div[1]/section/div[2]/div[2]/div[2]/div[2]/div'))\n",
    "    ).click()\n",
    "    time.sleep(15)"
   ]
  },
  {
   "cell_type": "code",
   "execution_count": null,
   "metadata": {},
   "outputs": [],
   "source": [
    "#Show the results\n",
    "df_results"
   ]
  },
  {
   "cell_type": "code",
   "execution_count": null,
   "metadata": {},
   "outputs": [],
   "source": [
    "# We create the name of the xlsx file\n",
    "file_name = \"df_results.xlsx\"\n",
    "\n",
    "# We place it in the same route\n",
    "current_dir = os.getcwd()\n",
    "\n",
    "# We join the route and the file name to create the file path\n",
    "file_path = os.path.join(current_dir, file_name)\n",
    "\n",
    "# Saving the file\n",
    "df_results.to_excel(file_path, index=False)"
   ]
  },
  {
   "cell_type": "code",
   "execution_count": null,
   "metadata": {},
   "outputs": [],
   "source": []
  },
  {
   "cell_type": "code",
   "execution_count": null,
   "metadata": {},
   "outputs": [],
   "source": []
  },
  {
   "cell_type": "code",
   "execution_count": null,
   "metadata": {},
   "outputs": [],
   "source": []
  },
  {
   "cell_type": "markdown",
   "metadata": {},
   "source": [
    "## 2. Launch/Set the Driver"
   ]
  },
  {
   "cell_type": "code",
   "execution_count": 3,
   "metadata": {},
   "outputs": [
    {
     "data": {
      "text/plain": [
       "'C:\\\\Users\\\\Mauricio\\\\Documentos\\\\Python\\\\Diplomado_PUCP\\\\Lecture_7\\\\Assignment_5'"
      ]
     },
     "execution_count": 3,
     "metadata": {},
     "output_type": "execute_result"
    }
   ],
   "source": [
    "pwd"
   ]
  },
  {
   "cell_type": "code",
   "execution_count": 3,
   "metadata": {},
   "outputs": [],
   "source": [
    "# Crea una instancia del Service con el path de chromedriver utilizando webdriver_manager\n",
    "service = Service(ChromeDriverManager().install())\n",
    "\n",
    "# Opciones para Chrome\n",
    "options = Options()\n",
    "# Puedes agregar opciones a 'options' si es necesario, como options.add_argument(\"--headless\")\n",
    "\n",
    "# Inicializa el WebDriver con el servicio y las opciones\n",
    "driver = webdriver.Chrome(service=service, options=options)"
   ]
  },
  {
   "cell_type": "code",
   "execution_count": 5,
   "metadata": {},
   "outputs": [],
   "source": [
    "# Configuramos el taamaño de la ventana y el zoom\n",
    "driver.maximize_window()\n",
    "driver.execute_script(\"document.body.style.zoom='100%'\")"
   ]
  },
  {
   "cell_type": "markdown",
   "metadata": {},
   "source": [
    "## 3. Indicating the web page and actions"
   ]
  },
  {
   "cell_type": "code",
   "execution_count": 7,
   "metadata": {},
   "outputs": [],
   "source": [
    "url = \"https://infogob.jne.gob.pe/Eleccion\"\n",
    "driver.get(url)\n",
    "time.sleep(7)"
   ]
  },
  {
   "cell_type": "code",
   "execution_count": 11,
   "metadata": {},
   "outputs": [],
   "source": [
    "# We'll click on the first [SELECCIONE], the one for the elections type\n",
    "#driver.find_element(By.XPATH, '/html/body/div[1]/section/div[2]/div[2]/div[2]/div[1]/div/i').click()\n",
    "\n",
    "driver.find_element(By.XPATH, '/html/body/div[1]/section/div[2]/div[2]/div[2]/div[1]/div').click()\n",
    "\n",
    "# Next, we choose (click on) ELECCIONES PRESIDENCIALES\n",
    "driver.find_element(By.XPATH, '/html/body/div[1]/section/div[2]/div[2]/div[2]/div[1]/div/div[2]/div[2]').click()\n",
    "\n",
    "# Then, click on the [SELECCIONE] on the right (under Elección)\n",
    "driver.find_element(By.XPATH, '/html/body/div[1]/section/div[2]/div[2]/div[2]/div[2]/div').click()\n",
    "# Now, click on the most recent election\n",
    "driver.find_element(By.XPATH, '/html/body/div[1]/section/div[2]/div[2]/div[2]/div[2]/div/div[2]/div[2]').click()\n",
    "# Finally, we click on the red button\n",
    "driver.find_element(By.XPATH, '/html/body/div[1]/section/div[2]/div[2]/div[3]/div/button/span').click()\n",
    "time.sleep(7)\n"
   ]
  },
  {
   "cell_type": "code",
   "execution_count": 17,
   "metadata": {},
   "outputs": [
    {
     "data": {
      "text/html": [
       "<div>\n",
       "<style scoped>\n",
       "    .dataframe tbody tr th:only-of-type {\n",
       "        vertical-align: middle;\n",
       "    }\n",
       "\n",
       "    .dataframe tbody tr th {\n",
       "        vertical-align: top;\n",
       "    }\n",
       "\n",
       "    .dataframe thead th {\n",
       "        text-align: right;\n",
       "    }\n",
       "</style>\n",
       "<table border=\"1\" class=\"dataframe\">\n",
       "  <thead>\n",
       "    <tr style=\"text-align: right;\">\n",
       "      <th></th>\n",
       "      <th>ORGANIZACIÓN POLÍTICA</th>\n",
       "      <th>SÍMBOLO</th>\n",
       "      <th>PLAN DE GOBIERNO</th>\n",
       "      <th>TOTAL VOTOS</th>\n",
       "      <th>PORCENTAJE DE VOTOS VÁLIDOS</th>\n",
       "      <th>LISTA DE CANDIDATOS</th>\n",
       "    </tr>\n",
       "  </thead>\n",
       "  <tbody>\n",
       "    <tr>\n",
       "      <th>0</th>\n",
       "      <td>PARTIDO POLITICO NACIONAL PERU LIBRE</td>\n",
       "      <td>NaN</td>\n",
       "      <td>NaN</td>\n",
       "      <td>8836380</td>\n",
       "      <td>50.126%</td>\n",
       "      <td>VER LISTA</td>\n",
       "    </tr>\n",
       "    <tr>\n",
       "      <th>1</th>\n",
       "      <td>FUERZA POPULAR</td>\n",
       "      <td>NaN</td>\n",
       "      <td>NaN</td>\n",
       "      <td>8792117</td>\n",
       "      <td>49.874%</td>\n",
       "      <td>VER LISTA</td>\n",
       "    </tr>\n",
       "    <tr>\n",
       "      <th>2</th>\n",
       "      <td>VOTOS EN BLANCO</td>\n",
       "      <td>NaN</td>\n",
       "      <td>NaN</td>\n",
       "      <td>121489</td>\n",
       "      <td>NaN</td>\n",
       "      <td>NaN</td>\n",
       "    </tr>\n",
       "    <tr>\n",
       "      <th>3</th>\n",
       "      <td>VOTOS NULOS</td>\n",
       "      <td>NaN</td>\n",
       "      <td>NaN</td>\n",
       "      <td>1106816</td>\n",
       "      <td>NaN</td>\n",
       "      <td>NaN</td>\n",
       "    </tr>\n",
       "  </tbody>\n",
       "</table>\n",
       "</div>"
      ],
      "text/plain": [
       "                  ORGANIZACIÓN POLÍTICA  SÍMBOLO  PLAN DE GOBIERNO  \\\n",
       "0  PARTIDO POLITICO NACIONAL PERU LIBRE      NaN               NaN   \n",
       "1                        FUERZA POPULAR      NaN               NaN   \n",
       "2                       VOTOS EN BLANCO      NaN               NaN   \n",
       "3                           VOTOS NULOS      NaN               NaN   \n",
       "\n",
       "   TOTAL VOTOS PORCENTAJE DE VOTOS VÁLIDOS LISTA DE CANDIDATOS  \n",
       "0      8836380                     50.126%           VER LISTA  \n",
       "1      8792117                     49.874%           VER LISTA  \n",
       "2       121489                         NaN                 NaN  \n",
       "3      1106816                         NaN                 NaN  "
      ]
     },
     "execution_count": 17,
     "metadata": {},
     "output_type": "execute_result"
    }
   ],
   "source": [
    "# In the new page, we'll click on CANDIDATOS Y RESULTADOS\n",
    "driver.find_element(By.XPATH, '/html/body/div[1]/section/div[2]/div[3]/div[1]/ul/li[2]/a').click()\n",
    "time.sleep(7)\n",
    "\n",
    "# Once there, we'll get the full table of RESULTADOS ELECTORALES\n",
    "table_path = driver.find_element(By.XPATH, '/html/body/div[1]/section/div[2]/div[3]/div[3]/div/div/div/div[1]/div[2]')\n",
    "table_html_io = StringIO(table_path.get_attribute('innerHTML'))\n",
    "table = pd.read_html(table_html_io)\n",
    "table[0]"
   ]
  },
  {
   "cell_type": "code",
   "execution_count": 19,
   "metadata": {},
   "outputs": [],
   "source": [
    "def scrape_presidential_elections(driver):\n",
    "    results = []\n",
    "\n",
    "    # Seleccionar tipo de proceso: Elecciones Presidenciales\n",
    "    driver.find_element(By.XPATH, '/html/body/div[1]/section/div[2]/div[2]/div[2]/div[1]/div').click()\n",
    "    driver.find_element(By.XPATH, '/html/body/div[1]/section/div[2]/div[2]/div[2]/div[1]/div/div[2]/div[2]').click()\n",
    "\n",
    "    # Obtener lista de elecciones\n",
    "    elections_dropdown = driver.find_element(By.XPATH, '/html/body/div[1]/section/div[2]/div[2]/div[2]/div[2]/div/div[2]')\n",
    "    elections = elections_dropdown.find_elements(By.TAG_NAME, 'div')[1:]\n",
    "\n",
    "    for election in elections:\n",
    "        election.click()\n",
    "        time.sleep(7)\n",
    "        driver.find_element(By.XPATH, '/html/body/div[1]/section/div[2]/div[3]/div/button/span').click()\n",
    "        time.sleep(7)\n",
    "\n",
    "        while True:\n",
    "            table_html = driver.find_element(By.XPATH, '/html/body/div[1]/section/div[2]/div[3]/div[3]/div/div/div/div[1]/div[2]/div[2]').get_attribute('innerHTML')\n",
    "            table = pd.read_html(StringIO(table_html))[0]\n",
    "            table['Elecciones'] = election.text\n",
    "            results.append(table[['ORGANIZACIÓN POLÍTICA', 'TOTAL VOTOS', 'Elecciones']])\n",
    "\n",
    "            # Verificar si existe una siguiente página\n",
    "            try:\n",
    "                next_button = driver.find_element(By.XPATH, '/html/body/div[1]/section/div[2]/div[3]/div[3]/div/div/div/div[1]/div[2]/div[2]/div[4]/div[2]/ul/li[4]/a')\n",
    "                if \"disabled\" in next_button.get_attribute(\"class\"):\n",
    "                    break\n",
    "                next_button.click()\n",
    "                time.sleep(7)\n",
    "            except:\n",
    "                break\n",
    "\n",
    "        driver.back()\n",
    "        time.sleep(7)\n",
    "\n",
    "    pd.concat(results).to_excel('election_results_simple.xlsx', index=False)\n",
    "    print(\"Datos guardados en 'election_results_simple.xlsx'.\")"
   ]
  },
  {
   "cell_type": "code",
   "execution_count": 29,
   "metadata": {},
   "outputs": [],
   "source": [
    "def scrape_presidential_elections(driver):\n",
    "    results = []\n",
    "    wait = WebDriverWait(driver, 10)\n",
    "\n",
    "    # Seleccionar tipo de proceso: Elecciones Presidenciales\n",
    "    element = wait.until(EC.visibility_of_element_located((By.XPATH, '/html/body/div[1]/section/div[2]/div[2]/div[2]/div[1]/div')))\n",
    "    element.click()\n",
    "\n",
    "    element = wait.until(EC.visibility_of_element_located((By.XPATH, '/html/body/div[1]/section/div[2]/div[2]/div[2]/div[1]/div/div[2]/div[2]')))\n",
    "    element.click()\n",
    "\n",
    "    # Obtener lista de elecciones\n",
    "    elections_dropdown = wait.until(EC.visibility_of_element_located((By.XPATH, '/html/body/div[1]/section/div[2]/div[2]/div[2]/div[2]/div/div[2]')))\n",
    "    elections = elections_dropdown.find_elements(By.TAG_NAME, 'div')[1:]\n",
    "\n",
    "    for election in elections:\n",
    "        election.click()\n",
    "\n",
    "        element = wait.until(EC.visibility_of_element_located((By.XPATH, '/html/body/div[1]/section/div[2]/div[3]/div/button/span')))\n",
    "        element.click()\n",
    "\n",
    "        while True:\n",
    "            table_html = wait.until(EC.visibility_of_element_located((By.XPATH, '/html/body/div[1]/section/div[2]/div[3]/div[3]/div/div/div/div[1]/div[2]/div[2]'))).get_attribute('innerHTML')\n",
    "            table = pd.read_html(StringIO(table_html))[0]\n",
    "            table['Elecciones'] = election.text\n",
    "            results.append(table[['ORGANIZACIÓN POLÍTICA', 'TOTAL VOTOS', 'Elecciones']])\n",
    "\n",
    "            # Verificar si existe una siguiente página\n",
    "            try:\n",
    "                next_button = wait.until(EC.visibility_of_element_located((By.XPATH, '/html/body/div[1]/section/div[2]/div[3]/div[3]/div/div/div/div[1]/div[2]/div[2]/div[4]/div[2]/ul/li[4]/a')))\n",
    "                if \"disabled\" in next_button.get_attribute(\"class\"):\n",
    "                    break\n",
    "                next_button.click()\n",
    "            except:\n",
    "                break\n",
    "\n",
    "        driver.back()\n",
    "\n",
    "    pd.concat(results).to_excel('election_results_simple.xlsx', index=False)\n",
    "    print(\"Datos guardados en 'election_results_simple.xlsx'.\")"
   ]
  },
  {
   "cell_type": "code",
   "execution_count": 35,
   "metadata": {},
   "outputs": [
    {
     "ename": "TimeoutException",
     "evalue": "Message: \n",
     "output_type": "error",
     "traceback": [
      "\u001b[1;31m---------------------------------------------------------------------------\u001b[0m",
      "\u001b[1;31mTimeoutException\u001b[0m                          Traceback (most recent call last)",
      "Cell \u001b[1;32mIn[35], line 4\u001b[0m\n\u001b[0;32m      1\u001b[0m driver\u001b[38;5;241m.\u001b[39mget(url)\n\u001b[0;32m      3\u001b[0m \u001b[38;5;66;03m# Ejecutar la función de scraping\u001b[39;00m\n\u001b[1;32m----> 4\u001b[0m scrape_presidential_elections(driver)\n",
      "Cell \u001b[1;32mIn[29], line 13\u001b[0m, in \u001b[0;36mscrape_presidential_elections\u001b[1;34m(driver)\u001b[0m\n\u001b[0;32m     10\u001b[0m element\u001b[38;5;241m.\u001b[39mclick()\n\u001b[0;32m     12\u001b[0m \u001b[38;5;66;03m# Obtener lista de elecciones\u001b[39;00m\n\u001b[1;32m---> 13\u001b[0m elections_dropdown \u001b[38;5;241m=\u001b[39m wait\u001b[38;5;241m.\u001b[39muntil(EC\u001b[38;5;241m.\u001b[39mvisibility_of_element_located((By\u001b[38;5;241m.\u001b[39mXPATH, \u001b[38;5;124m'\u001b[39m\u001b[38;5;124m/html/body/div[1]/section/div[2]/div[2]/div[2]/div[2]/div/div[2]\u001b[39m\u001b[38;5;124m'\u001b[39m)))\n\u001b[0;32m     14\u001b[0m elections \u001b[38;5;241m=\u001b[39m elections_dropdown\u001b[38;5;241m.\u001b[39mfind_elements(By\u001b[38;5;241m.\u001b[39mTAG_NAME, \u001b[38;5;124m'\u001b[39m\u001b[38;5;124mdiv\u001b[39m\u001b[38;5;124m'\u001b[39m)[\u001b[38;5;241m1\u001b[39m:]\n\u001b[0;32m     16\u001b[0m \u001b[38;5;28;01mfor\u001b[39;00m election \u001b[38;5;129;01min\u001b[39;00m elections:\n",
      "File \u001b[1;32m~\\anaconda3\\envs\\selenium_env\\Lib\\site-packages\\selenium\\webdriver\\support\\wait.py:105\u001b[0m, in \u001b[0;36mWebDriverWait.until\u001b[1;34m(self, method, message)\u001b[0m\n\u001b[0;32m    103\u001b[0m     \u001b[38;5;28;01mif\u001b[39;00m time\u001b[38;5;241m.\u001b[39mmonotonic() \u001b[38;5;241m>\u001b[39m end_time:\n\u001b[0;32m    104\u001b[0m         \u001b[38;5;28;01mbreak\u001b[39;00m\n\u001b[1;32m--> 105\u001b[0m \u001b[38;5;28;01mraise\u001b[39;00m TimeoutException(message, screen, stacktrace)\n",
      "\u001b[1;31mTimeoutException\u001b[0m: Message: \n"
     ]
    }
   ],
   "source": [
    "driver.get(url)\n",
    "\n",
    "# Ejecutar la función de scraping\n",
    "scrape_presidential_elections(driver)"
   ]
  },
  {
   "cell_type": "code",
   "execution_count": null,
   "metadata": {},
   "outputs": [],
   "source": []
  }
 ],
 "metadata": {
  "hide_input": false,
  "kernelspec": {
   "display_name": "selenium_env",
   "language": "python",
   "name": "selenium_env"
  },
  "language_info": {
   "codemirror_mode": {
    "name": "ipython",
    "version": 3
   },
   "file_extension": ".py",
   "mimetype": "text/x-python",
   "name": "python",
   "nbconvert_exporter": "python",
   "pygments_lexer": "ipython3",
   "version": "3.12.4"
  },
  "toc": {
   "base_numbering": 1,
   "nav_menu": {},
   "number_sections": true,
   "sideBar": true,
   "skip_h1_title": false,
   "title_cell": "Table of Contents",
   "title_sidebar": "Contents",
   "toc_cell": false,
   "toc_position": {},
   "toc_section_display": true,
   "toc_window_display": false
  }
 },
 "nbformat": 4,
 "nbformat_minor": 4
}
