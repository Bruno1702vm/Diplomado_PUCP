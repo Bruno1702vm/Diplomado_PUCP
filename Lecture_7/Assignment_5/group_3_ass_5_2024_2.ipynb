{
 "cells": [
  {
   "cell_type": "markdown",
   "metadata": {},
   "source": [
    "# Assignment 5: Web scrapping elections from the JNE page\n",
    "The script should not give an error. Any mistake will be consider as 0.\n"
   ]
  },
  {
   "cell_type": "markdown",
   "metadata": {},
   "source": [
    "Group 3\n",
    "\n",
    "-Fátima Trujillo Quiñe\n",
    "-Reynaldo Padilla Milla\n",
    "-Claudia Córdova Yamauchi\n",
    "-Mauricio Flores Jiménez\n",
    "-Vania Aspilcueta Serey"
   ]
  },
  {
   "cell_type": "markdown",
   "metadata": {},
   "source": [
    "# 1. Calling the libraries"
   ]
  },
  {
   "cell_type": "code",
   "execution_count": 1,
   "metadata": {},
   "outputs": [],
   "source": [
    "from selenium import webdriver\n",
    "from webdriver_manager.chrome import ChromeDriverManager\n",
    "from selenium.webdriver.common.by import By\n",
    "from selenium.webdriver.support.ui import Select\n",
    "from selenium.webdriver.chrome.service import Service\n",
    "from selenium.webdriver.common.keys import Keys\n",
    "from selenium.webdriver.support.ui import WebDriverWait\n",
    "from selenium.webdriver.support import expected_conditions as EC\n",
    "import re\n",
    "import time\n",
    "import pandas as pd\n",
    "import os"
   ]
  },
  {
   "cell_type": "markdown",
   "metadata": {},
   "source": [
    "# 2. Setting the driver and the page"
   ]
  },
  {
   "cell_type": "code",
   "execution_count": 3,
   "metadata": {},
   "outputs": [],
   "source": [
    "driver = webdriver.Chrome(service=webdriver.chrome.service.Service(ChromeDriverManager().install()))\n",
    "driver\n",
    "\n",
    "# Configuramos el tamaño de la ventana y el zoom\n",
    "driver.maximize_window()\n",
    "driver.execute_script(\"document.body.style.zoom='100%'\")"
   ]
  },
  {
   "cell_type": "markdown",
   "metadata": {},
   "source": [
    "# 3. Indicating the web page and actions"
   ]
  },
  {
   "cell_type": "code",
   "execution_count": 5,
   "metadata": {},
   "outputs": [
    {
     "data": {
      "text/plain": [
       "{'[SELECCIONE]': <selenium.webdriver.remote.webelement.WebElement (session=\"ae80863491697fcf18c84a3535e08194\", element=\"f.4B3BEB52D11553DB694DF64FEAF6189E.d.371A83B801576E63FC369B35B0E492C7.e.33\")>,\n",
       " 'PRESIDENCIAL 2021 - 2DA VUELTA': <selenium.webdriver.remote.webelement.WebElement (session=\"ae80863491697fcf18c84a3535e08194\", element=\"f.4B3BEB52D11553DB694DF64FEAF6189E.d.371A83B801576E63FC369B35B0E492C7.e.34\")>,\n",
       " 'PRESIDENCIAL 2021': <selenium.webdriver.remote.webelement.WebElement (session=\"ae80863491697fcf18c84a3535e08194\", element=\"f.4B3BEB52D11553DB694DF64FEAF6189E.d.371A83B801576E63FC369B35B0E492C7.e.35\")>,\n",
       " 'PRESIDENCIAL 2016 - 2DA VUELTA': <selenium.webdriver.remote.webelement.WebElement (session=\"ae80863491697fcf18c84a3535e08194\", element=\"f.4B3BEB52D11553DB694DF64FEAF6189E.d.371A83B801576E63FC369B35B0E492C7.e.36\")>,\n",
       " 'PRESIDENCIAL 2016': <selenium.webdriver.remote.webelement.WebElement (session=\"ae80863491697fcf18c84a3535e08194\", element=\"f.4B3BEB52D11553DB694DF64FEAF6189E.d.371A83B801576E63FC369B35B0E492C7.e.37\")>,\n",
       " 'PRESIDENCIAL 2011 - 2DA VUELTA': <selenium.webdriver.remote.webelement.WebElement (session=\"ae80863491697fcf18c84a3535e08194\", element=\"f.4B3BEB52D11553DB694DF64FEAF6189E.d.371A83B801576E63FC369B35B0E492C7.e.38\")>,\n",
       " 'PRESIDENCIAL 2011': <selenium.webdriver.remote.webelement.WebElement (session=\"ae80863491697fcf18c84a3535e08194\", element=\"f.4B3BEB52D11553DB694DF64FEAF6189E.d.371A83B801576E63FC369B35B0E492C7.e.39\")>,\n",
       " 'PRESIDENCIAL 2006 - 2DA VUELTA': <selenium.webdriver.remote.webelement.WebElement (session=\"ae80863491697fcf18c84a3535e08194\", element=\"f.4B3BEB52D11553DB694DF64FEAF6189E.d.371A83B801576E63FC369B35B0E492C7.e.40\")>,\n",
       " 'PRESIDENCIAL 2006': <selenium.webdriver.remote.webelement.WebElement (session=\"ae80863491697fcf18c84a3535e08194\", element=\"f.4B3BEB52D11553DB694DF64FEAF6189E.d.371A83B801576E63FC369B35B0E492C7.e.41\")>,\n",
       " 'PRESIDENCIAL 2001 - 2DA VUELTA': <selenium.webdriver.remote.webelement.WebElement (session=\"ae80863491697fcf18c84a3535e08194\", element=\"f.4B3BEB52D11553DB694DF64FEAF6189E.d.371A83B801576E63FC369B35B0E492C7.e.42\")>,\n",
       " 'PRESIDENCIAL 2001': <selenium.webdriver.remote.webelement.WebElement (session=\"ae80863491697fcf18c84a3535e08194\", element=\"f.4B3BEB52D11553DB694DF64FEAF6189E.d.371A83B801576E63FC369B35B0E492C7.e.43\")>,\n",
       " 'PRESIDENCIAL 2000 - 2DA VUELTA': <selenium.webdriver.remote.webelement.WebElement (session=\"ae80863491697fcf18c84a3535e08194\", element=\"f.4B3BEB52D11553DB694DF64FEAF6189E.d.371A83B801576E63FC369B35B0E492C7.e.44\")>,\n",
       " 'PRESIDENCIAL 2000': <selenium.webdriver.remote.webelement.WebElement (session=\"ae80863491697fcf18c84a3535e08194\", element=\"f.4B3BEB52D11553DB694DF64FEAF6189E.d.371A83B801576E63FC369B35B0E492C7.e.45\")>,\n",
       " 'PRESIDENCIAL 1995': <selenium.webdriver.remote.webelement.WebElement (session=\"ae80863491697fcf18c84a3535e08194\", element=\"f.4B3BEB52D11553DB694DF64FEAF6189E.d.371A83B801576E63FC369B35B0E492C7.e.46\")>,\n",
       " 'PRESIDENCIAL 1990 - 2DA VUELTA': <selenium.webdriver.remote.webelement.WebElement (session=\"ae80863491697fcf18c84a3535e08194\", element=\"f.4B3BEB52D11553DB694DF64FEAF6189E.d.371A83B801576E63FC369B35B0E492C7.e.47\")>,\n",
       " 'PRESIDENCIAL 1990': <selenium.webdriver.remote.webelement.WebElement (session=\"ae80863491697fcf18c84a3535e08194\", element=\"f.4B3BEB52D11553DB694DF64FEAF6189E.d.371A83B801576E63FC369B35B0E492C7.e.48\")>,\n",
       " 'PRESIDENCIAL 1985': <selenium.webdriver.remote.webelement.WebElement (session=\"ae80863491697fcf18c84a3535e08194\", element=\"f.4B3BEB52D11553DB694DF64FEAF6189E.d.371A83B801576E63FC369B35B0E492C7.e.49\")>,\n",
       " 'PRESIDENCIAL 1980': <selenium.webdriver.remote.webelement.WebElement (session=\"ae80863491697fcf18c84a3535e08194\", element=\"f.4B3BEB52D11553DB694DF64FEAF6189E.d.371A83B801576E63FC369B35B0E492C7.e.50\")>,\n",
       " 'PRESIDENCIAL 1963': <selenium.webdriver.remote.webelement.WebElement (session=\"ae80863491697fcf18c84a3535e08194\", element=\"f.4B3BEB52D11553DB694DF64FEAF6189E.d.371A83B801576E63FC369B35B0E492C7.e.51\")>,\n",
       " 'PRESIDENCIAL 1962': <selenium.webdriver.remote.webelement.WebElement (session=\"ae80863491697fcf18c84a3535e08194\", element=\"f.4B3BEB52D11553DB694DF64FEAF6189E.d.371A83B801576E63FC369B35B0E492C7.e.52\")>,\n",
       " 'PRESIDENCIAL 1956': <selenium.webdriver.remote.webelement.WebElement (session=\"ae80863491697fcf18c84a3535e08194\", element=\"f.4B3BEB52D11553DB694DF64FEAF6189E.d.371A83B801576E63FC369B35B0E492C7.e.53\")>,\n",
       " 'PRESIDENCIAL 1950': <selenium.webdriver.remote.webelement.WebElement (session=\"ae80863491697fcf18c84a3535e08194\", element=\"f.4B3BEB52D11553DB694DF64FEAF6189E.d.371A83B801576E63FC369B35B0E492C7.e.54\")>,\n",
       " 'PRESIDENCIAL 1945': <selenium.webdriver.remote.webelement.WebElement (session=\"ae80863491697fcf18c84a3535e08194\", element=\"f.4B3BEB52D11553DB694DF64FEAF6189E.d.371A83B801576E63FC369B35B0E492C7.e.55\")>,\n",
       " 'PRESIDENCIAL 1939': <selenium.webdriver.remote.webelement.WebElement (session=\"ae80863491697fcf18c84a3535e08194\", element=\"f.4B3BEB52D11553DB694DF64FEAF6189E.d.371A83B801576E63FC369B35B0E492C7.e.56\")>,\n",
       " 'PRESIDENCIAL 1936': <selenium.webdriver.remote.webelement.WebElement (session=\"ae80863491697fcf18c84a3535e08194\", element=\"f.4B3BEB52D11553DB694DF64FEAF6189E.d.371A83B801576E63FC369B35B0E492C7.e.57\")>,\n",
       " 'PRESIDENCIAL 1931': <selenium.webdriver.remote.webelement.WebElement (session=\"ae80863491697fcf18c84a3535e08194\", element=\"f.4B3BEB52D11553DB694DF64FEAF6189E.d.371A83B801576E63FC369B35B0E492C7.e.58\")>}"
      ]
     },
     "execution_count": 5,
     "metadata": {},
     "output_type": "execute_result"
    }
   ],
   "source": [
    "url = 'https://infogob.jne.gob.pe/Eleccion'\n",
    "driver.get(url)\n",
    "\n",
    "# We'll click on the first [SELECCIONE], the one for the elections type\n",
    "elections = driver.find_element(By.XPATH, '/html/body/div[1]/section/div[2]/div[2]/div[2]/div[1]/div').click()\n",
    "time.sleep(5)\n",
    "\n",
    "# Next, we choose (click on) ELECCIONES PRESIDENCIALES\n",
    "elections = driver.find_element(By.XPATH , '/html/body/div[1]/section/div[2]/div[2]/div[2]/div[1]/div/div[2]/div[2]').click()\n",
    "time.sleep(5)\n",
    "\n",
    "# Then, click on the [SELECCIONE] on the right (under Elección)\n",
    "elections = driver.find_element(By.XPATH , '/html/body/div[1]/section/div[2]/div[2]/div[2]/div[2]/div').click()\n",
    "time.sleep(5)\n",
    "\n",
    "# Now, we show the elements of the second menu\n",
    "elections_list = driver.find_element(By.XPATH, '/html/body/div[1]/section/div[2]/div[2]/div[2]/div[2]/div/div[2]')\n",
    "time.sleep(5)\n",
    "\n",
    "# Move on to create a list of elements representing election options\n",
    "options_elections_list = list(elections_list.find_elements(By.CLASS_NAME, 'item'))\n",
    "\n",
    "# Create a dictionary mapping the text of each option to the element itself\n",
    "dict_options = {option.text: option for option in options_elections_list}\n",
    "\n",
    "dict_options"
   ]
  },
  {
   "cell_type": "markdown",
   "metadata": {},
   "source": [
    "# 4. Establishing the actions to get the data from each electoral process"
   ]
  },
  {
   "cell_type": "code",
   "execution_count": 7,
   "metadata": {},
   "outputs": [
    {
     "ename": "TimeoutException",
     "evalue": "Message: \nStacktrace:\n\tGetHandleVerifier [0x006E8923+23283]\n\t(No symbol) [0x006AE934]\n\t(No symbol) [0x005E0733]\n\t(No symbol) [0x0062326F]\n\t(No symbol) [0x006234AB]\n\t(No symbol) [0x0065EE42]\n\t(No symbol) [0x00644464]\n\t(No symbol) [0x0065CB8D]\n\t(No symbol) [0x006441B6]\n\t(No symbol) [0x00618017]\n\t(No symbol) [0x0061890D]\n\tGetHandleVerifier [0x007DA5F3+1013699]\n\tGetHandleVerifier [0x007E3E4C+1052700]\n\tGetHandleVerifier [0x007DD4B4+1025668]\n\tGetHandleVerifier [0x0070EA2B+179195]\n\t(No symbol) [0x006B6833]\n\t(No symbol) [0x006B3198]\n\t(No symbol) [0x006B3337]\n\t(No symbol) [0x006AB4BE]\n\tBaseThreadInitThunk [0x76ECFCC9+25]\n\tRtlGetAppContainerNamedObjectPath [0x776780CE+286]\n\tRtlGetAppContainerNamedObjectPath [0x7767809E+238]\n",
     "output_type": "error",
     "traceback": [
      "\u001b[1;31m---------------------------------------------------------------------------\u001b[0m",
      "\u001b[1;31mTimeoutException\u001b[0m                          Traceback (most recent call last)",
      "Cell \u001b[1;32mIn[7], line 21\u001b[0m\n\u001b[0;32m     16\u001b[0m WebDriverWait(driver, \u001b[38;5;241m20\u001b[39m)\u001b[38;5;241m.\u001b[39muntil(\n\u001b[0;32m     17\u001b[0m     EC\u001b[38;5;241m.\u001b[39melement_to_be_clickable((By\u001b[38;5;241m.\u001b[39mXPATH, \u001b[38;5;124m'\u001b[39m\u001b[38;5;124m/html/body/div[1]/section/div[2]/div[3]/div[1]/ul/li[2]/a\u001b[39m\u001b[38;5;124m'\u001b[39m))\n\u001b[0;32m     18\u001b[0m )\u001b[38;5;241m.\u001b[39mclick()\n\u001b[0;32m     20\u001b[0m \u001b[38;5;66;03m# Wait until the table is present\u001b[39;00m\n\u001b[1;32m---> 21\u001b[0m table \u001b[38;5;241m=\u001b[39m WebDriverWait(driver, \u001b[38;5;241m20\u001b[39m)\u001b[38;5;241m.\u001b[39muntil(\n\u001b[0;32m     22\u001b[0m     EC\u001b[38;5;241m.\u001b[39mpresence_of_element_located((By\u001b[38;5;241m.\u001b[39mXPATH, \u001b[38;5;124m'\u001b[39m\u001b[38;5;124m/html/body/div[1]/section/div[2]/div[3]/div[3]/div/div/div/div[1]/div[2]/div[2]\u001b[39m\u001b[38;5;124m'\u001b[39m))\n\u001b[0;32m     23\u001b[0m )\n\u001b[0;32m     25\u001b[0m \u001b[38;5;66;03m# Read the HTML of the table\u001b[39;00m\n\u001b[0;32m     26\u001b[0m table_html \u001b[38;5;241m=\u001b[39m table\u001b[38;5;241m.\u001b[39mget_attribute(\u001b[38;5;124m'\u001b[39m\u001b[38;5;124minnerHTML\u001b[39m\u001b[38;5;124m'\u001b[39m)\n",
      "File \u001b[1;32m~\\anaconda3\\Lib\\site-packages\\selenium\\webdriver\\support\\wait.py:105\u001b[0m, in \u001b[0;36mWebDriverWait.until\u001b[1;34m(self, method, message)\u001b[0m\n\u001b[0;32m    103\u001b[0m     \u001b[38;5;28;01mif\u001b[39;00m time\u001b[38;5;241m.\u001b[39mmonotonic() \u001b[38;5;241m>\u001b[39m end_time:\n\u001b[0;32m    104\u001b[0m         \u001b[38;5;28;01mbreak\u001b[39;00m\n\u001b[1;32m--> 105\u001b[0m \u001b[38;5;28;01mraise\u001b[39;00m TimeoutException(message, screen, stacktrace)\n",
      "\u001b[1;31mTimeoutException\u001b[0m: Message: \nStacktrace:\n\tGetHandleVerifier [0x006E8923+23283]\n\t(No symbol) [0x006AE934]\n\t(No symbol) [0x005E0733]\n\t(No symbol) [0x0062326F]\n\t(No symbol) [0x006234AB]\n\t(No symbol) [0x0065EE42]\n\t(No symbol) [0x00644464]\n\t(No symbol) [0x0065CB8D]\n\t(No symbol) [0x006441B6]\n\t(No symbol) [0x00618017]\n\t(No symbol) [0x0061890D]\n\tGetHandleVerifier [0x007DA5F3+1013699]\n\tGetHandleVerifier [0x007E3E4C+1052700]\n\tGetHandleVerifier [0x007DD4B4+1025668]\n\tGetHandleVerifier [0x0070EA2B+179195]\n\t(No symbol) [0x006B6833]\n\t(No symbol) [0x006B3198]\n\t(No symbol) [0x006B3337]\n\t(No symbol) [0x006AB4BE]\n\tBaseThreadInitThunk [0x76ECFCC9+25]\n\tRtlGetAppContainerNamedObjectPath [0x776780CE+286]\n\tRtlGetAppContainerNamedObjectPath [0x7767809E+238]\n"
     ]
    }
   ],
   "source": [
    "# Create an empty dataframe for our scrapping\n",
    "df_results = pd.DataFrame()\n",
    "\n",
    "# Iterate over the keys of the dictionary, which are the election options (2021's run-off, 2021's first round, 2016's run-off, etc.)\n",
    "# We broaden the waiting time to avoid any problems related to un-uploaded information\n",
    "for election_txt in list(dict_options.keys())[1:]:  # Excluding \"SELECCIONAR\"\n",
    "    election = dict_options[election_txt]\n",
    "    election.click()\n",
    "\n",
    "    # Wait until the election data button is clickable and click it\n",
    "    WebDriverWait(driver, 20).until(\n",
    "        EC.element_to_be_clickable((By.XPATH, '/html/body/div[1]/section/div[2]/div[2]/div[3]/div/button'))\n",
    "    ).click()\n",
    "\n",
    "    # Wait until the \"Candidates and results\" tab is clickable and click it\n",
    "    WebDriverWait(driver, 20).until(\n",
    "        EC.element_to_be_clickable((By.XPATH, '/html/body/div[1]/section/div[2]/div[3]/div[1]/ul/li[2]/a'))\n",
    "    ).click()\n",
    "\n",
    "    # Wait until the table is present\n",
    "    table = WebDriverWait(driver, 20).until(\n",
    "        EC.presence_of_element_located((By.XPATH, '/html/body/div[1]/section/div[2]/div[3]/div[3]/div/div/div/div[1]/div[2]/div[2]'))\n",
    "    )\n",
    "\n",
    "    # Read the HTML of the table\n",
    "    table_html = table.get_attribute('innerHTML')\n",
    "    table = pd.read_html(table_html)\n",
    "\n",
    "    # Create a dataframe\n",
    "    df = table[0]\n",
    "\n",
    "    # Create a new DataFrame containing only the relevant columns and add the election year\n",
    "    df = df[['ORGANIZACIÓN POLÍTICA', 'TOTAL VOTOS']].copy()\n",
    "    df.insert(0, 'ELECCIONES', election_txt)\n",
    "\n",
    "    # Concatenate results in df_results\n",
    "    df_results = pd.concat([df_results, df], ignore_index=True)\n",
    "\n",
    "    # Go back to start over\n",
    "    driver.back()\n",
    "    time.sleep(15)\n",
    "\n",
    "    driver.back()\n",
    "    time.sleep(15)\n",
    "    \n",
    "    # Click on the second list to choose the election\n",
    "    WebDriverWait(driver, 15).until(\n",
    "        EC.element_to_be_clickable((By.XPATH, '/html/body/div[1]/section/div[2]/div[2]/div[2]/div[2]/div'))\n",
    "    ).click()\n",
    "    time.sleep(15)"
   ]
  },
  {
   "cell_type": "markdown",
   "metadata": {},
   "source": [
    "# 5. Verifying the outcome"
   ]
  },
  {
   "cell_type": "code",
   "execution_count": 9,
   "metadata": {},
   "outputs": [
    {
     "data": {
      "text/html": [
       "<div>\n",
       "<style scoped>\n",
       "    .dataframe tbody tr th:only-of-type {\n",
       "        vertical-align: middle;\n",
       "    }\n",
       "\n",
       "    .dataframe tbody tr th {\n",
       "        vertical-align: top;\n",
       "    }\n",
       "\n",
       "    .dataframe thead th {\n",
       "        text-align: right;\n",
       "    }\n",
       "</style>\n",
       "<table border=\"1\" class=\"dataframe\">\n",
       "  <thead>\n",
       "    <tr style=\"text-align: right;\">\n",
       "      <th></th>\n",
       "      <th>ELECCIONES</th>\n",
       "      <th>ORGANIZACIÓN POLÍTICA</th>\n",
       "      <th>TOTAL VOTOS</th>\n",
       "    </tr>\n",
       "  </thead>\n",
       "  <tbody>\n",
       "    <tr>\n",
       "      <th>0</th>\n",
       "      <td>PRESIDENCIAL 2021 - 2DA VUELTA</td>\n",
       "      <td>PARTIDO POLITICO NACIONAL PERU LIBRE</td>\n",
       "      <td>8836380</td>\n",
       "    </tr>\n",
       "    <tr>\n",
       "      <th>1</th>\n",
       "      <td>PRESIDENCIAL 2021 - 2DA VUELTA</td>\n",
       "      <td>FUERZA POPULAR</td>\n",
       "      <td>8792117</td>\n",
       "    </tr>\n",
       "    <tr>\n",
       "      <th>2</th>\n",
       "      <td>PRESIDENCIAL 2021 - 2DA VUELTA</td>\n",
       "      <td>VOTOS EN BLANCO</td>\n",
       "      <td>121489</td>\n",
       "    </tr>\n",
       "    <tr>\n",
       "      <th>3</th>\n",
       "      <td>PRESIDENCIAL 2021 - 2DA VUELTA</td>\n",
       "      <td>VOTOS NULOS</td>\n",
       "      <td>1106816</td>\n",
       "    </tr>\n",
       "  </tbody>\n",
       "</table>\n",
       "</div>"
      ],
      "text/plain": [
       "                       ELECCIONES                 ORGANIZACIÓN POLÍTICA  \\\n",
       "0  PRESIDENCIAL 2021 - 2DA VUELTA  PARTIDO POLITICO NACIONAL PERU LIBRE   \n",
       "1  PRESIDENCIAL 2021 - 2DA VUELTA                        FUERZA POPULAR   \n",
       "2  PRESIDENCIAL 2021 - 2DA VUELTA                       VOTOS EN BLANCO   \n",
       "3  PRESIDENCIAL 2021 - 2DA VUELTA                           VOTOS NULOS   \n",
       "\n",
       "   TOTAL VOTOS  \n",
       "0      8836380  \n",
       "1      8792117  \n",
       "2       121489  \n",
       "3      1106816  "
      ]
     },
     "execution_count": 9,
     "metadata": {},
     "output_type": "execute_result"
    }
   ],
   "source": [
    "#We call the dataframe in order to see the structure\n",
    "df_results\n"
   ]
  },
  {
   "cell_type": "markdown",
   "metadata": {},
   "source": [
    "# 6. Exporting the results as an Excel file"
   ]
  },
  {
   "cell_type": "code",
   "execution_count": null,
   "metadata": {},
   "outputs": [],
   "source": [
    "# Finally, we create the name of the xlsx file\n",
    "file_name = \"df_results.xlsx\"\n",
    "\n",
    "# We place it in the same route where we have been working\n",
    "current_dir = os.getcwd()\n",
    "\n",
    "# Afterwards, we link the route and the file name in order to create the file path \n",
    "file_path = os.path.join(current_dir, file_name)\n",
    "\n",
    "#At last, we save the dataframe \"df_results\". As it is shown, index=False is preventing that the dataframe index saves as a new column in Excel file.\n",
    "df_results.to_excel(file_path, index=False)\n"
   ]
  },
  {
   "cell_type": "code",
   "execution_count": null,
   "metadata": {},
   "outputs": [],
   "source": []
  }
 ],
 "metadata": {
  "hide_input": false,
  "kernelspec": {
   "display_name": "Python 3 (ipykernel)",
   "language": "python",
   "name": "python3"
  },
  "language_info": {
   "codemirror_mode": {
    "name": "ipython",
    "version": 3
   },
   "file_extension": ".py",
   "mimetype": "text/x-python",
   "name": "python",
   "nbconvert_exporter": "python",
   "pygments_lexer": "ipython3",
   "version": "3.12.4"
  },
  "toc": {
   "base_numbering": 1,
   "nav_menu": {},
   "number_sections": true,
   "sideBar": true,
   "skip_h1_title": false,
   "title_cell": "Table of Contents",
   "title_sidebar": "Contents",
   "toc_cell": false,
   "toc_position": {},
   "toc_section_display": true,
   "toc_window_display": false
  }
 },
 "nbformat": 4,
 "nbformat_minor": 4
}
