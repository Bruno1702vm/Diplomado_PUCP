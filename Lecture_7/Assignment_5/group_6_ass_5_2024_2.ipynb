{
 "cells": [
  {
   "cell_type": "markdown",
   "id": "c5f03cff-9b96-4bf4-b0f2-dd8448d5fd3f",
   "metadata": {},
   "source": [
    "# Group 6\n",
    "- GIL GUZMAN, ALEXSANDER GERARDO\n",
    "- SALMÓN SALAZAR, GISELLA VELDA\n",
    "- CIRIACO RUIZ, MAYTE JULIA\n",
    "- ARAUCO ALIAGA, ROXANA PATRICIA\n",
    "- VILLACORTA BARRERA, ANDRES ALEXANDER"
   ]
  },
  {
   "cell_type": "code",
   "execution_count": 2,
   "id": "f98d6710-361e-4831-b49b-09a1aa086400",
   "metadata": {},
   "outputs": [
    {
     "data": {
      "text/html": [
       "\n",
       "<style>\n",
       "    div#notebook-container    { width: 95%; }\n",
       "    div#menubar-container     { width: 65%; }\n",
       "    div#maintoolbar-container { width: 99%; }a\n",
       "</style>\n"
      ],
      "text/plain": [
       "<IPython.core.display.HTML object>"
      ]
     },
     "metadata": {},
     "output_type": "display_data"
    }
   ],
   "source": [
    "# We modify the style of the Jupyter Notebook environment\n",
    "from IPython.display import display, HTML\n",
    "\n",
    "display(HTML(data=\"\"\"\n",
    "<style>\n",
    "    div#notebook-container    { width: 95%; }\n",
    "    div#menubar-container     { width: 65%; }\n",
    "    div#maintoolbar-container { width: 99%; }a\n",
    "</style>\n",
    "\"\"\"))"
   ]
  },
  {
   "cell_type": "code",
   "execution_count": null,
   "id": "1e902b42-0e94-4e87-a1ff-e6bd6c95a5a7",
   "metadata": {},
   "outputs": [],
   "source": [
    "# We install the different Python packages that we will be using\n",
    "!pip install selenium\n",
    "!pip install webdriver-manager\n",
    "!pip install pandas"
   ]
  },
  {
   "cell_type": "code",
   "execution_count": null,
   "id": "ae4b555b",
   "metadata": {},
   "outputs": [],
   "source": [
    "# We use this library to manipulate browser\n",
    "from selenium import webdriver\n",
    "\n",
    "# it allows you to work with differen versions of drivers\n",
    "# We call ChromeDriver\n",
    "from webdriver_manager.chrome import ChromeDriverManager\n",
    "import re\n",
    "import time \n",
    "import random\n",
    "from selenium.webdriver.common.by import By\n",
    "import pandas as pd # for table import\n",
    "from selenium import webdriver\n",
    "from selenium.webdriver.chrome.service import Service"
   ]
  },
  {
   "cell_type": "code",
   "execution_count": null,
   "id": "9596509f",
   "metadata": {},
   "outputs": [],
   "source": []
  }
 ],
 "metadata": {
  "kernelspec": {
   "display_name": "selenium_env",
   "language": "python",
   "name": "selenium_env"
  },
  "language_info": {
   "codemirror_mode": {
    "name": "ipython",
    "version": 3
   },
   "file_extension": ".py",
   "mimetype": "text/x-python",
   "name": "python",
   "nbconvert_exporter": "python",
   "pygments_lexer": "ipython3",
   "version": "3.12.4"
  }
 },
 "nbformat": 4,
 "nbformat_minor": 5
}
