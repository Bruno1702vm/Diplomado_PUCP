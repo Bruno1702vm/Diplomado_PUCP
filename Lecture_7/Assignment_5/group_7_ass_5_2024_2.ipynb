{
 "cells": [
  {
   "cell_type": "markdown",
   "metadata": {},
   "source": [
    "# Assignment 5 - Issue #854"
   ]
  },
  {
   "cell_type": "markdown",
   "metadata": {},
   "source": [
    "Fernando Mendoza | Adrea Pezo | Michel Cotrina | Estefanny Gil | Armando Ore"
   ]
  },
  {
   "cell_type": "markdown",
   "metadata": {},
   "source": [
    "The script should not give an error. Any mistake will be consider as 0."
   ]
  },
  {
   "cell_type": "markdown",
   "metadata": {},
   "source": [
    "1. We want an excel file with all the available presidential elections in this webpage.\n",
    "https://infogob.jne.gob.pe/Eleccion"
   ]
  },
  {
   "cell_type": "markdown",
   "metadata": {},
   "source": [
    "2. Go to Candidatos y Resultados"
   ]
  },
  {
   "cell_type": "code",
   "execution_count": null,
   "metadata": {},
   "outputs": [],
   "source": [
    "# For Chrome only\n",
    "#from selenium import webdriver\n",
    "#from selenium.webdriver.chrome.service import Service as ChromeService\n",
    "#from webdriver_manager.chrome import ChromeDriverManager\n",
    "\n",
    "#from selenium.webdriver.support.ui import Select\n",
    "#from selenium.webdriver.common.keys import Keys\n",
    "#from selenium.webdriver.common.by import By\n",
    "#import re\n",
    "#import time \n",
    "#import pandas as pd\n",
    "\n",
    "# Path for Chrome executable\n",
    "#chrome_path = r'chrome-win64\\chrome.exe'\n",
    "\n",
    "# Configure the options for Chrome\n",
    "#options = webdriver.ChromeOptions()\n",
    "#options.binary_location = chrome_path\n",
    "\n",
    "# Configure the service for Chrome\n",
    "#service = ChromeService(executable_path=ChromeDriverManager().install())\n",
    "\n",
    "# Start the WebDriver for Chrome\n",
    "#driver = webdriver.Chrome(service=service, options=options)\n"
   ]
  },
  {
   "cell_type": "code",
   "execution_count": null,
   "metadata": {},
   "outputs": [],
   "source": [
    "#!pip install selenium\n",
    "#!pip install webdriver-manager"
   ]
  },
  {
   "cell_type": "code",
   "execution_count": 4,
   "metadata": {},
   "outputs": [],
   "source": [
    "from selenium import webdriver\n",
    "#For FireFox only\n",
    "#from selenium.webdriver.firefox.service import Service as FirefoxService\n",
    "#from webdriver_manager.firefox import GeckoDriverManager\n",
    "#For Google Chrome\n",
    "from selenium.webdriver.chrome.service import Service\n",
    "from webdriver_manager.chrome import ChromeDriverManager\n",
    "\n",
    "\n",
    "from selenium.webdriver.support.ui import Select\n",
    "from selenium.webdriver.common.keys import Keys\n",
    "from selenium.webdriver.common.by import By\n",
    "import re\n",
    "import time \n",
    "import pandas as pd\n",
    "\n",
    "# Path for geckodriver (Firefox)\n",
    "#gecko_driver_path = r'geckodriver-v0.34.0-win64\\geckodriver.exe'\n",
    "\n",
    "# Configure the service for Firefox\n",
    "#service = FirefoxService(executable_path=gecko_driver_path)\n",
    "\n",
    "# Start the WebDriver for Firefox\n",
    "#driver = webdriver.Firefox(service=service)\n",
    "\n",
    "\n",
    "# Path for google Chrome\n",
    "chrome_driver_path = r'chromedriver-win64/chromedriver.exe'\n",
    "# Configue the service for google chrome\n",
    "service = Service(executable_path=chrome_driver_path)\n",
    "# Start the WebDriver for google chrome\n",
    "driver = webdriver.Chrome(service=service)\n",
    "\n"
   ]
  },
  {
   "cell_type": "code",
   "execution_count": 6,
   "metadata": {},
   "outputs": [],
   "source": [
    "# Maximize window\n",
    "driver.maximize_window()\n",
    "\n",
    "# Base URL for the web scraping. Open a new window\n",
    "url_base = \"https://infogob.jne.gob.pe/Eleccion\"\n",
    "driver.get(url_base)\n"
   ]
  },
  {
   "cell_type": "code",
   "execution_count": 8,
   "metadata": {},
   "outputs": [],
   "source": [
    "# Display \"Tipo de proceso\" options\n",
    "opt_Presidenciales = driver.find_element(By.XPATH,'/html/body/div[1]/section/div[2]/div[2]/div[2]/div[1]/div/div[1]')\n",
    "opt_Presidenciales.click()\n",
    "\n",
    "# Select \"ELECCIONES PRESIDENCIALES\"\n",
    "opt_Presidenciales_2 = driver.find_element(By.XPATH, '/html/body/div[1]/section/div[2]/div[2]/div[2]/div[1]/div/div[2]/div[2]')\n",
    "opt_Presidenciales_2.click()"
   ]
  },
  {
   "cell_type": "code",
   "execution_count": 20,
   "metadata": {},
   "outputs": [
    {
     "data": {
      "text/plain": [
       "26"
      ]
     },
     "execution_count": 20,
     "metadata": {},
     "output_type": "execute_result"
    }
   ],
   "source": [
    "#Getting the number of options\n",
    "#elections_0 = driver.find_element(By.XPATH, \"/html/body/div[1]/section/div[2]/div[2]/div[2]/div[2]/div/select\" )\n",
    "#election = Select(elections_0)\n",
    "#num_election_options = len( election.options )\n",
    "#num_election_options \n",
    "\n",
    "elections_0 = driver.find_element(By.XPATH, '//*[@id=\"IdEleccion\"]')\n",
    "election = Select(elections_0)\n",
    "# Get number of total options\n",
    "num_elec_options = len(election.options )\n",
    "num_elec_options"
   ]
  },
  {
   "cell_type": "code",
   "execution_count": 22,
   "metadata": {},
   "outputs": [
    {
     "data": {
      "text/plain": [
       "[<selenium.webdriver.remote.webelement.WebElement (session=\"7aa6a117ba42ca57a2dd455d98fbb395\", element=\"f.6572D93E97070CBB160935B3840C7439.d.DFE06F9436C235AD460AAC5668701547.e.53\")>,\n",
       " <selenium.webdriver.remote.webelement.WebElement (session=\"7aa6a117ba42ca57a2dd455d98fbb395\", element=\"f.6572D93E97070CBB160935B3840C7439.d.DFE06F9436C235AD460AAC5668701547.e.55\")>,\n",
       " <selenium.webdriver.remote.webelement.WebElement (session=\"7aa6a117ba42ca57a2dd455d98fbb395\", element=\"f.6572D93E97070CBB160935B3840C7439.d.DFE06F9436C235AD460AAC5668701547.e.57\")>,\n",
       " <selenium.webdriver.remote.webelement.WebElement (session=\"7aa6a117ba42ca57a2dd455d98fbb395\", element=\"f.6572D93E97070CBB160935B3840C7439.d.DFE06F9436C235AD460AAC5668701547.e.59\")>,\n",
       " <selenium.webdriver.remote.webelement.WebElement (session=\"7aa6a117ba42ca57a2dd455d98fbb395\", element=\"f.6572D93E97070CBB160935B3840C7439.d.DFE06F9436C235AD460AAC5668701547.e.61\")>,\n",
       " <selenium.webdriver.remote.webelement.WebElement (session=\"7aa6a117ba42ca57a2dd455d98fbb395\", element=\"f.6572D93E97070CBB160935B3840C7439.d.DFE06F9436C235AD460AAC5668701547.e.63\")>,\n",
       " <selenium.webdriver.remote.webelement.WebElement (session=\"7aa6a117ba42ca57a2dd455d98fbb395\", element=\"f.6572D93E97070CBB160935B3840C7439.d.DFE06F9436C235AD460AAC5668701547.e.65\")>,\n",
       " <selenium.webdriver.remote.webelement.WebElement (session=\"7aa6a117ba42ca57a2dd455d98fbb395\", element=\"f.6572D93E97070CBB160935B3840C7439.d.DFE06F9436C235AD460AAC5668701547.e.67\")>,\n",
       " <selenium.webdriver.remote.webelement.WebElement (session=\"7aa6a117ba42ca57a2dd455d98fbb395\", element=\"f.6572D93E97070CBB160935B3840C7439.d.DFE06F9436C235AD460AAC5668701547.e.69\")>,\n",
       " <selenium.webdriver.remote.webelement.WebElement (session=\"7aa6a117ba42ca57a2dd455d98fbb395\", element=\"f.6572D93E97070CBB160935B3840C7439.d.DFE06F9436C235AD460AAC5668701547.e.71\")>,\n",
       " <selenium.webdriver.remote.webelement.WebElement (session=\"7aa6a117ba42ca57a2dd455d98fbb395\", element=\"f.6572D93E97070CBB160935B3840C7439.d.DFE06F9436C235AD460AAC5668701547.e.73\")>,\n",
       " <selenium.webdriver.remote.webelement.WebElement (session=\"7aa6a117ba42ca57a2dd455d98fbb395\", element=\"f.6572D93E97070CBB160935B3840C7439.d.DFE06F9436C235AD460AAC5668701547.e.75\")>,\n",
       " <selenium.webdriver.remote.webelement.WebElement (session=\"7aa6a117ba42ca57a2dd455d98fbb395\", element=\"f.6572D93E97070CBB160935B3840C7439.d.DFE06F9436C235AD460AAC5668701547.e.77\")>,\n",
       " <selenium.webdriver.remote.webelement.WebElement (session=\"7aa6a117ba42ca57a2dd455d98fbb395\", element=\"f.6572D93E97070CBB160935B3840C7439.d.DFE06F9436C235AD460AAC5668701547.e.79\")>,\n",
       " <selenium.webdriver.remote.webelement.WebElement (session=\"7aa6a117ba42ca57a2dd455d98fbb395\", element=\"f.6572D93E97070CBB160935B3840C7439.d.DFE06F9436C235AD460AAC5668701547.e.81\")>,\n",
       " <selenium.webdriver.remote.webelement.WebElement (session=\"7aa6a117ba42ca57a2dd455d98fbb395\", element=\"f.6572D93E97070CBB160935B3840C7439.d.DFE06F9436C235AD460AAC5668701547.e.83\")>,\n",
       " <selenium.webdriver.remote.webelement.WebElement (session=\"7aa6a117ba42ca57a2dd455d98fbb395\", element=\"f.6572D93E97070CBB160935B3840C7439.d.DFE06F9436C235AD460AAC5668701547.e.85\")>,\n",
       " <selenium.webdriver.remote.webelement.WebElement (session=\"7aa6a117ba42ca57a2dd455d98fbb395\", element=\"f.6572D93E97070CBB160935B3840C7439.d.DFE06F9436C235AD460AAC5668701547.e.87\")>,\n",
       " <selenium.webdriver.remote.webelement.WebElement (session=\"7aa6a117ba42ca57a2dd455d98fbb395\", element=\"f.6572D93E97070CBB160935B3840C7439.d.DFE06F9436C235AD460AAC5668701547.e.89\")>,\n",
       " <selenium.webdriver.remote.webelement.WebElement (session=\"7aa6a117ba42ca57a2dd455d98fbb395\", element=\"f.6572D93E97070CBB160935B3840C7439.d.DFE06F9436C235AD460AAC5668701547.e.91\")>,\n",
       " <selenium.webdriver.remote.webelement.WebElement (session=\"7aa6a117ba42ca57a2dd455d98fbb395\", element=\"f.6572D93E97070CBB160935B3840C7439.d.DFE06F9436C235AD460AAC5668701547.e.93\")>,\n",
       " <selenium.webdriver.remote.webelement.WebElement (session=\"7aa6a117ba42ca57a2dd455d98fbb395\", element=\"f.6572D93E97070CBB160935B3840C7439.d.DFE06F9436C235AD460AAC5668701547.e.95\")>,\n",
       " <selenium.webdriver.remote.webelement.WebElement (session=\"7aa6a117ba42ca57a2dd455d98fbb395\", element=\"f.6572D93E97070CBB160935B3840C7439.d.DFE06F9436C235AD460AAC5668701547.e.97\")>,\n",
       " <selenium.webdriver.remote.webelement.WebElement (session=\"7aa6a117ba42ca57a2dd455d98fbb395\", element=\"f.6572D93E97070CBB160935B3840C7439.d.DFE06F9436C235AD460AAC5668701547.e.99\")>,\n",
       " <selenium.webdriver.remote.webelement.WebElement (session=\"7aa6a117ba42ca57a2dd455d98fbb395\", element=\"f.6572D93E97070CBB160935B3840C7439.d.DFE06F9436C235AD460AAC5668701547.e.101\")>,\n",
       " <selenium.webdriver.remote.webelement.WebElement (session=\"7aa6a117ba42ca57a2dd455d98fbb395\", element=\"f.6572D93E97070CBB160935B3840C7439.d.DFE06F9436C235AD460AAC5668701547.e.103\")>]"
      ]
     },
     "execution_count": 22,
     "metadata": {},
     "output_type": "execute_result"
    }
   ],
   "source": [
    "election.options"
   ]
  },
  {
   "cell_type": "code",
   "execution_count": 24,
   "metadata": {},
   "outputs": [
    {
     "name": "stdout",
     "output_type": "stream",
     "text": [
      "\n",
      "\n",
      "\n",
      "\n",
      "\n",
      "\n",
      "\n",
      "\n",
      "\n",
      "\n",
      "\n",
      "\n",
      "\n",
      "\n",
      "\n",
      "\n",
      "\n",
      "\n",
      "\n",
      "\n",
      "\n",
      "\n",
      "\n",
      "\n",
      "\n",
      "\n"
     ]
    }
   ],
   "source": [
    "for elec_idx in range( num_elec_options ):\n",
    "    \n",
    "    # Get again all options since HTML is refreshing\n",
    "    # all elements\n",
    "    # Click on one specific elections\n",
    "    #time.sleep(3)  \n",
    "    elec = Select(driver.find_element(By.XPATH, '//*[@id=\"IdEleccion\"]'))\n",
    "    election = elec.options[elec_idx ]\n",
    "    \n",
    "    # Get departmant name\n",
    "    election_name = election.text\n",
    "    print(election_name)\n"
   ]
  },
  {
   "cell_type": "code",
   "execution_count": 28,
   "metadata": {},
   "outputs": [
    {
     "name": "stdout",
     "output_type": "stream",
     "text": [
      "<option value=\"7x8igXWeaZ8=8X\" selected=\"selected\">[SELECCIONE]</option>\n",
      "<option value=\"89S3sk+pJI0=Sk\">PRESIDENCIAL 2021 - 2DA VUELTA</option>\n",
      "<option value=\"y0NC1IW14uw=NI\">PRESIDENCIAL 2021</option>\n",
      "<option value=\"7p675u8oH7Q=6u\">PRESIDENCIAL 2016 - 2DA VUELTA</option>\n",
      "<option value=\"LY8odlbsty4=8l\">PRESIDENCIAL 2016</option>\n",
      "<option value=\"0xj1o+1NixM=j+\">PRESIDENCIAL 2011 - 2DA VUELTA</option>\n",
      "<option value=\"24JPDKD/FrU=JK\">PRESIDENCIAL 2011</option>\n",
      "<option value=\"vJqK+o5B88E=qo\">PRESIDENCIAL 2006 - 2DA VUELTA</option>\n",
      "<option value=\"bgnkVFt+VRk=nF\">PRESIDENCIAL 2006</option>\n",
      "<option value=\"3F8G0syb5XE=8s\">PRESIDENCIAL 2001 - 2DA VUELTA</option>\n",
      "<option value=\"+kvFvkuAfuw=vk\">PRESIDENCIAL 2001</option>\n",
      "<option value=\"r+6hROwHBIQ=6O\">PRESIDENCIAL 2000 - 2DA VUELTA</option>\n",
      "<option value=\"yny1iTkPazM=yT\">PRESIDENCIAL 2000</option>\n",
      "<option value=\"8MCLSVVX8ug=CV\">PRESIDENCIAL 1995</option>\n",
      "<option value=\"E1U9NQHS0Xs=UQ\">PRESIDENCIAL 1990 - 2DA VUELTA</option>\n",
      "<option value=\"gsg4hnUOpdQ=gn\">PRESIDENCIAL 1990</option>\n",
      "<option value=\"7Ssnc+xPt/s=s+\">PRESIDENCIAL 1985</option>\n",
      "<option value=\"lChObgWsPqI=hg\">PRESIDENCIAL 1980</option>\n",
      "<option value=\"rqThaZb/DOg=TZ\">PRESIDENCIAL 1963</option>\n",
      "<option value=\"rWwQzpPNurI=wp\">PRESIDENCIAL 1962</option>\n",
      "<option value=\"WIHkyMA8HI8=HM\">PRESIDENCIAL 1956</option>\n",
      "<option value=\"L5MJsms6q5Y=Mm\">PRESIDENCIAL 1950</option>\n",
      "<option value=\"sY5dLXlhrMU=5X\">PRESIDENCIAL 1945</option>\n",
      "<option value=\"ozbDLopjV7s=bo\">PRESIDENCIAL 1939</option>\n",
      "<option value=\"dHU0mWeyL0k=UW\">PRESIDENCIAL 1936</option>\n",
      "<option value=\"PrO34XpiKLg=OX\">PRESIDENCIAL 1931</option>\n"
     ]
    }
   ],
   "source": [
    "#In case we get a vacuum, we print as follows:\n",
    "from selenium.webdriver.support.ui import WebDriverWait\n",
    "from selenium.webdriver.support import expected_conditions as EC\n",
    "from selenium.webdriver.common.by import By\n",
    "\n",
    "try:\n",
    "    # Wait until the options are present\n",
    "    options_elements = WebDriverWait(driver, 10).until(\n",
    "        EC.presence_of_all_elements_located((By.XPATH, '//*[@id=\"IdEleccion\"]/option'))\n",
    "    )\n",
    "    \n",
    "    # Print the internal HTML of each option for debugging\n",
    "    for option in options_elements:\n",
    "        print(option.get_attribute('outerHTML'))\n",
    "\n",
    "except Exception as e:\n",
    "    print(f\"Error: {e}\")"
   ]
  },
  {
   "cell_type": "code",
   "execution_count": 131,
   "metadata": {},
   "outputs": [
    {
     "name": "stdout",
     "output_type": "stream",
     "text": [
      "\n"
     ]
    }
   ],
   "source": [
    "#Getting the name of the elections\n",
    "for election_idx in range( num_election_options ):\n",
    "    \n",
    "    election = Select(elections_0)\n",
    "    election_opt = election.options[ election_idx ]\n",
    "    \n",
    "    election_name = election_opt.text\n",
    "print(election_name)"
   ]
  },
  {
   "cell_type": "markdown",
   "metadata": {},
   "source": [
    "3. Go to Candidatos y Resultados"
   ]
  },
  {
   "cell_type": "code",
   "execution_count": 18,
   "metadata": {},
   "outputs": [],
   "source": [
    "#function that extracts a df saving it into a list\n",
    "def extract_df():\n",
    "    # Find the element containing the table and get its HTML content\n",
    "    df = driver.find_element(By.XPATH, '//*[@id=\"CandidatosResultados\"]/div/div[1]/div[2]/div[2]').get_attribute('innerHTML')\n",
    "    df_1 = StringIO(df)\n",
    "    # Pd to read HTML converting into df\n",
    "    data = pd.read_html(df_1)\n",
    "    # Return the first DataFrame found\n",
    "    return data[0]"
   ]
  },
  {
   "cell_type": "code",
   "execution_count": null,
   "metadata": {},
   "outputs": [],
   "source": [
    "#check results and move to the next path\n",
    "def next_button(i):\n",
    "    try:\n",
    "         # Wait a maximum wait time of 10 seconds\n",
    "        next_button = WebDriverWait(driver, 10).until(\n",
    "            EC.element_to_be_clickable((By.XPATH, f'//*[@id=\"CandidatosResultados\"]/div/div[1]/div[2]/div[2]/div[4]/div[2]/ul/li[{i}]/a'))\n",
    "        )\n",
    "        # Click next\n",
    "        next_button.click()\n",
    "        return True\n",
    "        # Return False if there's a timeout\n",
    "    except (TimeoutException, ElementClickInterceptedException):\n",
    "        return False"
   ]
  },
  {
   "cell_type": "markdown",
   "metadata": {},
   "source": [
    "4. Get this table\n",
    "\n",
    "https://private-user-images.githubusercontent.com/69997588/296330169-20de4ccb-d61a-40a2-b9b3-de17ef4d5782.png?jwt=eyJhbGciOiJIUzI1NiIsInR5cCI6IkpXVCJ9.eyJpc3MiOiJnaXRodWIuY29tIiwiYXVkIjoicmF3LmdpdGh1YnVzZXJjb250ZW50LmNvbSIsImtleSI6ImtleTUiLCJleHAiOjE3MjQyODY5NDMsIm5iZiI6MTcyNDI4NjY0MywicGF0aCI6Ii82OTk5NzU4OC8yOTYzMzAxNjktMjBkZTRjY2ItZDYxYS00MGEyLWI5YjMtZGUxN2VmNGQ1NzgyLnBuZz9YLUFtei1BbGdvcml0aG09QVdTNC1ITUFDLVNIQTI1NiZYLUFtei1DcmVkZW50aWFsPUFLSUFWQ09EWUxTQTUzUFFLNFpBJTJGMjAyNDA4MjIlMkZ1cy1lYXN0LTElMkZzMyUyRmF3czRfcmVxdWVzdCZYLUFtei1EYXRlPTIwMjQwODIyVDAwMzA0M1omWC1BbXotRXhwaXJlcz0zMDAmWC1BbXotU2lnbmF0dXJlPTQ3OTE4OTJkNzZkNjI4Mjk4NGJiZDdjZGMxN2U0MmYzYTY4M2Q4ODQ4Yzc5Zjg5Mzk2MmFmZWQyNGQwN2E1YmYmWC1BbXotU2lnbmVkSGVhZGVycz1ob3N0JmFjdG9yX2lkPTAma2V5X2lkPTAmcmVwb19pZD0wIn0.ErRsdd3ug4VjnRodkLIY8Cz61xgnbuYIobPx_fo-UQY"
   ]
  },
  {
   "cell_type": "markdown",
   "metadata": {},
   "source": [
    "5.  Do the same for all the options available here"
   ]
  },
  {
   "cell_type": "markdown",
   "metadata": {},
   "source": [
    "6. The final excel should have these 3 columns \n",
    "(Elecciones | ORGANIZACIÓN POLÍTICA | TOTAL VOTOS)"
   ]
  }
 ],
 "metadata": {
  "hide_input": false,
  "kernelspec": {
   "display_name": "Python 3 (ipykernel)",
   "language": "python",
   "name": "python3"
  },
  "language_info": {
   "codemirror_mode": {
    "name": "ipython",
    "version": 3
   },
   "file_extension": ".py",
   "mimetype": "text/x-python",
   "name": "python",
   "nbconvert_exporter": "python",
   "pygments_lexer": "ipython3",
   "version": "3.12.4"
  },
  "toc": {
   "base_numbering": 1,
   "nav_menu": {},
   "number_sections": true,
   "sideBar": true,
   "skip_h1_title": false,
   "title_cell": "Table of Contents",
   "title_sidebar": "Contents",
   "toc_cell": false,
   "toc_position": {},
   "toc_section_display": true,
   "toc_window_display": false
  }
 },
 "nbformat": 4,
 "nbformat_minor": 4
}
