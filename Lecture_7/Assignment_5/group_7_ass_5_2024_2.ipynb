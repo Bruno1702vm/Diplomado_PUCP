{
 "cells": [
  {
   "cell_type": "markdown",
   "metadata": {},
   "source": [
    "# Assignment 5 - Issue #854"
   ]
  },
  {
   "cell_type": "markdown",
   "metadata": {},
   "source": [
    "Fernando Mendoza | Adrea Pezo | Michel Cotrina | Estefanny Gil | Armando Ore"
   ]
  },
  {
   "cell_type": "markdown",
   "metadata": {},
   "source": [
    "The script should not give an error. Any mistake will be consider as 0.\n",
    "<br>We want an excel file with all the available presidential elections in this webpage.\n",
    "https://infogob.jne.gob.pe/Eleccion\n",
    "<br>The final excel should have these 3 columns \n",
    "(Elecciones | ORGANIZACIÓN POLÍTICA | TOTAL VOTOS)"
   ]
  },
  {
   "cell_type": "code",
   "execution_count": 27,
   "metadata": {
    "scrolled": true
   },
   "outputs": [
    {
     "name": "stdout",
     "output_type": "stream",
     "text": [
      "Requirement already satisfied: selenium in c:\\users\\lenovo\\anaconda3\\lib\\site-packages (4.16.0)\n",
      "Requirement already satisfied: urllib3[socks]<3,>=1.26 in c:\\users\\lenovo\\anaconda3\\lib\\site-packages (from selenium) (1.26.16)\n",
      "Requirement already satisfied: trio~=0.17 in c:\\users\\lenovo\\anaconda3\\lib\\site-packages (from selenium) (0.24.0)\n",
      "Requirement already satisfied: trio-websocket~=0.9 in c:\\users\\lenovo\\anaconda3\\lib\\site-packages (from selenium) (0.11.1)\n",
      "Requirement already satisfied: certifi>=2021.10.8 in c:\\users\\lenovo\\anaconda3\\lib\\site-packages (from selenium) (2024.7.4)\n",
      "Requirement already satisfied: attrs>=20.1.0 in c:\\users\\lenovo\\anaconda3\\lib\\site-packages (from trio~=0.17->selenium) (23.1.0)\n",
      "Requirement already satisfied: sortedcontainers in c:\\users\\lenovo\\anaconda3\\lib\\site-packages (from trio~=0.17->selenium) (2.4.0)\n",
      "Requirement already satisfied: idna in c:\\users\\lenovo\\anaconda3\\lib\\site-packages (from trio~=0.17->selenium) (3.4)\n",
      "Requirement already satisfied: outcome in c:\\users\\lenovo\\anaconda3\\lib\\site-packages (from trio~=0.17->selenium) (1.3.0.post0)\n",
      "Requirement already satisfied: sniffio>=1.3.0 in c:\\users\\lenovo\\anaconda3\\lib\\site-packages (from trio~=0.17->selenium) (1.3.0)\n",
      "Requirement already satisfied: cffi>=1.14 in c:\\users\\lenovo\\anaconda3\\lib\\site-packages (from trio~=0.17->selenium) (1.15.1)\n",
      "Requirement already satisfied: wsproto>=0.14 in c:\\users\\lenovo\\anaconda3\\lib\\site-packages (from trio-websocket~=0.9->selenium) (1.2.0)\n",
      "Requirement already satisfied: PySocks!=1.5.7,<2.0,>=1.5.6 in c:\\users\\lenovo\\anaconda3\\lib\\site-packages (from urllib3[socks]<3,>=1.26->selenium) (1.7.1)\n",
      "Requirement already satisfied: pycparser in c:\\users\\lenovo\\anaconda3\\lib\\site-packages (from cffi>=1.14->trio~=0.17->selenium) (2.21)\n",
      "Requirement already satisfied: h11<1,>=0.9.0 in c:\\users\\lenovo\\anaconda3\\lib\\site-packages (from wsproto>=0.14->trio-websocket~=0.9->selenium) (0.14.0)\n",
      "Requirement already satisfied: webdriver-manager in c:\\users\\lenovo\\anaconda3\\lib\\site-packages (4.0.1)\n",
      "Requirement already satisfied: requests in c:\\users\\lenovo\\anaconda3\\lib\\site-packages (from webdriver-manager) (2.31.0)\n",
      "Requirement already satisfied: python-dotenv in c:\\users\\lenovo\\anaconda3\\lib\\site-packages (from webdriver-manager) (0.21.0)\n",
      "Requirement already satisfied: packaging in c:\\users\\lenovo\\anaconda3\\lib\\site-packages (from webdriver-manager) (23.1)\n",
      "Requirement already satisfied: charset-normalizer<4,>=2 in c:\\users\\lenovo\\anaconda3\\lib\\site-packages (from requests->webdriver-manager) (2.0.4)\n",
      "Requirement already satisfied: idna<4,>=2.5 in c:\\users\\lenovo\\anaconda3\\lib\\site-packages (from requests->webdriver-manager) (3.4)\n",
      "Requirement already satisfied: urllib3<3,>=1.21.1 in c:\\users\\lenovo\\anaconda3\\lib\\site-packages (from requests->webdriver-manager) (1.26.16)\n",
      "Requirement already satisfied: certifi>=2017.4.17 in c:\\users\\lenovo\\anaconda3\\lib\\site-packages (from requests->webdriver-manager) (2024.7.4)\n"
     ]
    }
   ],
   "source": [
    "#!pip install selenium\n",
    "#!pip install webdriver-manager"
   ]
  },
  {
   "cell_type": "markdown",
   "metadata": {
    "jp-MarkdownHeadingCollapsed": true
   },
   "source": [
    "## a. Setup for Chrome only"
   ]
  },
  {
   "cell_type": "code",
   "execution_count": 97,
   "metadata": {
    "scrolled": true
   },
   "outputs": [],
   "source": [
    "from selenium import webdriver\n",
    "\n",
    "from selenium.webdriver.chrome.service import Service\n",
    "from webdriver_manager.chrome import ChromeDriverManager\n",
    "\n",
    "from selenium.webdriver.support.ui import Select\n",
    "from selenium.webdriver.common.keys import Keys\n",
    "from selenium.webdriver.common.by import By\n",
    "\n",
    "from selenium.webdriver.support.ui import WebDriverWait\n",
    "from selenium.webdriver.support import expected_conditions as EC\n",
    "from selenium.webdriver.common.by import By\n",
    "\n",
    "import re\n",
    "import time \n",
    "import pandas as pd\n",
    "\n",
    "# Path for google Chrome\n",
    "chrome_driver_path = r'chromedriver-win64/chromedriver.exe'\n",
    "# Configue the service for google chrome\n",
    "service = Service(executable_path=chrome_driver_path)\n",
    "# Start the WebDriver for google chrome\n",
    "driver = webdriver.Chrome(service=service)"
   ]
  },
  {
   "cell_type": "markdown",
   "metadata": {
    "jp-MarkdownHeadingCollapsed": true
   },
   "source": [
    "## b. Setup for FireFox only"
   ]
  },
  {
   "cell_type": "code",
   "execution_count": 75,
   "metadata": {},
   "outputs": [],
   "source": [
    "from selenium import webdriver\n",
    "from selenium.webdriver.firefox.service import Service as FirefoxService\n",
    "from webdriver_manager.firefox import GeckoDriverManager\n",
    "\n",
    "from selenium.webdriver.support.ui import Select\n",
    "from selenium.webdriver.common.keys import Keys\n",
    "from selenium.webdriver.common.by import By\n",
    "\n",
    "from selenium.webdriver.support.ui import WebDriverWait\n",
    "from selenium.webdriver.support import expected_conditions as EC\n",
    "from selenium.webdriver.common.by import By\n",
    "\n",
    "import re\n",
    "import time \n",
    "import pandas as pd\n",
    "\n",
    "# Path for geckodriver (Firefox)\n",
    "gecko_driver_path = r'geckodriver-v0.34.0-win64\\geckodriver.exe'\n",
    "\n",
    "# Configure the service for Firefox\n",
    "service = FirefoxService(executable_path=gecko_driver_path)\n",
    "\n",
    "# Start the WebDriver for Firefox\n",
    "driver = webdriver.Firefox(service=service)\n"
   ]
  },
  {
   "cell_type": "markdown",
   "metadata": {},
   "source": [
    "## c. Scrip for \"https://infogob.jne.gob.pe/Eleccion\""
   ]
  },
  {
   "cell_type": "code",
   "execution_count": 99,
   "metadata": {},
   "outputs": [],
   "source": [
    "# Maximize window\n",
    "driver.maximize_window()\n",
    "\n",
    "# Base URL for the web scraping. Open a new window\n",
    "url_base = \"https://infogob.jne.gob.pe/Eleccion\"\n",
    "driver.get(url_base)\n"
   ]
  },
  {
   "cell_type": "code",
   "execution_count": 101,
   "metadata": {},
   "outputs": [],
   "source": [
    "# Display \"Tipo de proceso\" options\n",
    "opt_Presidenciales = driver.find_element(By.XPATH,\n",
    "                                         '/html/body/div[1]/section/div[2]/div[2]/div[2]/div[1]/div/div[1]')\n",
    "opt_Presidenciales.click()\n",
    "\n",
    "# Select \"ELECCIONES PRESIDENCIALES\"\n",
    "opt_Presidenciales_2 = driver.find_element(By.XPATH, \n",
    "                                           '/html/body/div[1]/section/div[2]/div[2]/div[2]/div[1]/div/div[2]/div[2]')\n",
    "opt_Presidenciales_2.click()"
   ]
  },
  {
   "cell_type": "code",
   "execution_count": 81,
   "metadata": {
    "scrolled": true
   },
   "outputs": [
    {
     "name": "stdout",
     "output_type": "stream",
     "text": [
      "<option value=\"7x8igXWeaZ8=8X\" selected=\"selected\">[SELECCIONE]</option>\n",
      "<option value=\"89S3sk+pJI0=Sk\">PRESIDENCIAL 2021 - 2DA VUELTA</option>\n",
      "<option value=\"y0NC1IW14uw=NI\">PRESIDENCIAL 2021</option>\n",
      "<option value=\"7p675u8oH7Q=6u\">PRESIDENCIAL 2016 - 2DA VUELTA</option>\n",
      "<option value=\"LY8odlbsty4=8l\">PRESIDENCIAL 2016</option>\n",
      "<option value=\"0xj1o+1NixM=j+\">PRESIDENCIAL 2011 - 2DA VUELTA</option>\n",
      "<option value=\"24JPDKD/FrU=JK\">PRESIDENCIAL 2011</option>\n",
      "<option value=\"vJqK+o5B88E=qo\">PRESIDENCIAL 2006 - 2DA VUELTA</option>\n",
      "<option value=\"bgnkVFt+VRk=nF\">PRESIDENCIAL 2006</option>\n",
      "<option value=\"3F8G0syb5XE=8s\">PRESIDENCIAL 2001 - 2DA VUELTA</option>\n",
      "<option value=\"+kvFvkuAfuw=vk\">PRESIDENCIAL 2001</option>\n",
      "<option value=\"r+6hROwHBIQ=6O\">PRESIDENCIAL 2000 - 2DA VUELTA</option>\n",
      "<option value=\"yny1iTkPazM=yT\">PRESIDENCIAL 2000</option>\n",
      "<option value=\"8MCLSVVX8ug=CV\">PRESIDENCIAL 1995</option>\n",
      "<option value=\"E1U9NQHS0Xs=UQ\">PRESIDENCIAL 1990 - 2DA VUELTA</option>\n",
      "<option value=\"gsg4hnUOpdQ=gn\">PRESIDENCIAL 1990</option>\n",
      "<option value=\"7Ssnc+xPt/s=s+\">PRESIDENCIAL 1985</option>\n",
      "<option value=\"lChObgWsPqI=hg\">PRESIDENCIAL 1980</option>\n",
      "<option value=\"rqThaZb/DOg=TZ\">PRESIDENCIAL 1963</option>\n",
      "<option value=\"rWwQzpPNurI=wp\">PRESIDENCIAL 1962</option>\n",
      "<option value=\"WIHkyMA8HI8=HM\">PRESIDENCIAL 1956</option>\n",
      "<option value=\"L5MJsms6q5Y=Mm\">PRESIDENCIAL 1950</option>\n",
      "<option value=\"sY5dLXlhrMU=5X\">PRESIDENCIAL 1945</option>\n",
      "<option value=\"ozbDLopjV7s=bo\">PRESIDENCIAL 1939</option>\n",
      "<option value=\"dHU0mWeyL0k=UW\">PRESIDENCIAL 1936</option>\n",
      "<option value=\"PrO34XpiKLg=OX\">PRESIDENCIAL 1931</option>\n"
     ]
    }
   ],
   "source": [
    "#In case we get a vacuum, we print as follows:\n",
    "\n",
    "\n",
    "try:\n",
    "    # Wait until the options are present\n",
    "    options_elements = WebDriverWait(driver, 10).until(\n",
    "        EC.presence_of_all_elements_located((By.XPATH, '//*[@id=\"IdEleccion\"]/option'))\n",
    "    )\n",
    "    \n",
    "    # Print the internal HTML of each option for debugging\n",
    "    for option in options_elements:\n",
    "        print(option.get_attribute('outerHTML'))\n",
    "\n",
    "except Exception as e:\n",
    "    print(f\"Error: {e}\")"
   ]
  },
  {
   "cell_type": "markdown",
   "metadata": {},
   "source": [
    "3. Go to Candidatos y Resultados"
   ]
  },
  {
   "cell_type": "code",
   "execution_count": 85,
   "metadata": {},
   "outputs": [],
   "source": [
    "#function that extracts a df saving it into a list\n",
    "def extract_df():\n",
    "    # Find the element containing the table and get its HTML content\n",
    "    df = driver.find_element(By.XPATH, '//*[@id=\"CandidatosResultados\"]/div/div[1]/div[2]/div[2]').get_attribute('innerHTML')\n",
    "    df_1 = StringIO(df)\n",
    "    # Pd to read HTML converting into df\n",
    "    data = pd.read_html(df_1)\n",
    "    # Return the first DataFrame found\n",
    "    return data[0]"
   ]
  },
  {
   "cell_type": "code",
   "execution_count": 87,
   "metadata": {},
   "outputs": [],
   "source": [
    "#check results and move to the next path\n",
    "def next_button(i):\n",
    "    try:\n",
    "         # Wait a maximum wait time of 10 seconds\n",
    "        next_button = WebDriverWait(driver, 10).until(\n",
    "            EC.element_to_be_clickable((By.XPATH, f'//*[@id=\"CandidatosResultados\"]/div/div[1]/div[2]/div[2]/div[4]/div[2]/ul/li[{i}]/a'))\n",
    "        )\n",
    "        # Click next\n",
    "        next_button.click()\n",
    "        return True\n",
    "        # Return False if there's a timeout\n",
    "    except (TimeoutException, ElementClickInterceptedException):\n",
    "        return False"
   ]
  }
 ],
 "metadata": {
  "hide_input": false,
  "kernelspec": {
   "display_name": "Python 3 (ipykernel)",
   "language": "python",
   "name": "python3"
  },
  "language_info": {
   "codemirror_mode": {
    "name": "ipython",
    "version": 3
   },
   "file_extension": ".py",
   "mimetype": "text/x-python",
   "name": "python",
   "nbconvert_exporter": "python",
   "pygments_lexer": "ipython3",
   "version": "3.11.5"
  },
  "toc": {
   "base_numbering": 1,
   "nav_menu": {},
   "number_sections": true,
   "sideBar": true,
   "skip_h1_title": false,
   "title_cell": "Table of Contents",
   "title_sidebar": "Contents",
   "toc_cell": false,
   "toc_position": {},
   "toc_section_display": true,
   "toc_window_display": false
  }
 },
 "nbformat": 4,
 "nbformat_minor": 4
}
