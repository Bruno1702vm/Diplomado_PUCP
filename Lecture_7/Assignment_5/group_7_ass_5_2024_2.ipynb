{
 "cells": [
  {
   "cell_type": "markdown",
   "metadata": {},
   "source": [
    "# Assignment 5 - Issue #854"
   ]
  },
  {
   "cell_type": "markdown",
   "metadata": {},
   "source": [
    "Fernando Mendoza | Adrea Pezo | Michel Cotrina | Estefanny Gil | Armando Ore"
   ]
  },
  {
   "cell_type": "markdown",
   "metadata": {},
   "source": [
    "The script should not give an error. Any mistake will be consider as 0.\n",
    "<br>We want an excel file with all the available presidential elections in this webpage.\n",
    "https://infogob.jne.gob.pe/Eleccion\n",
    "<br>The final excel should have these 3 columns \n",
    "(Elecciones | ORGANIZACIÓN POLÍTICA | TOTAL VOTOS)"
   ]
  },
  {
   "cell_type": "code",
   "execution_count": 45,
   "metadata": {
    "scrolled": true
   },
   "outputs": [
    {
     "name": "stdout",
     "output_type": "stream",
     "text": [
      "Requirement already satisfied: selenium in c:\\users\\miria\\anaconda3\\lib\\site-packages (4.23.1)\n",
      "Requirement already satisfied: urllib3<3,>=1.26 in c:\\users\\miria\\anaconda3\\lib\\site-packages (from urllib3[socks]<3,>=1.26->selenium) (2.2.2)\n",
      "Requirement already satisfied: trio~=0.17 in c:\\users\\miria\\anaconda3\\lib\\site-packages (from selenium) (0.26.2)\n",
      "Requirement already satisfied: trio-websocket~=0.9 in c:\\users\\miria\\anaconda3\\lib\\site-packages (from selenium) (0.11.1)\n",
      "Requirement already satisfied: certifi>=2021.10.8 in c:\\users\\miria\\anaconda3\\lib\\site-packages (from selenium) (2024.7.4)\n",
      "Requirement already satisfied: typing_extensions~=4.9 in c:\\users\\miria\\anaconda3\\lib\\site-packages (from selenium) (4.11.0)\n",
      "Requirement already satisfied: websocket-client~=1.8 in c:\\users\\miria\\anaconda3\\lib\\site-packages (from selenium) (1.8.0)\n",
      "Requirement already satisfied: attrs>=23.2.0 in c:\\users\\miria\\anaconda3\\lib\\site-packages (from trio~=0.17->selenium) (24.2.0)\n",
      "Requirement already satisfied: sortedcontainers in c:\\users\\miria\\anaconda3\\lib\\site-packages (from trio~=0.17->selenium) (2.4.0)\n",
      "Requirement already satisfied: idna in c:\\users\\miria\\anaconda3\\lib\\site-packages (from trio~=0.17->selenium) (3.7)\n",
      "Requirement already satisfied: outcome in c:\\users\\miria\\anaconda3\\lib\\site-packages (from trio~=0.17->selenium) (1.3.0.post0)\n",
      "Requirement already satisfied: sniffio>=1.3.0 in c:\\users\\miria\\anaconda3\\lib\\site-packages (from trio~=0.17->selenium) (1.3.0)\n",
      "Requirement already satisfied: cffi>=1.14 in c:\\users\\miria\\anaconda3\\lib\\site-packages (from trio~=0.17->selenium) (1.16.0)\n",
      "Requirement already satisfied: wsproto>=0.14 in c:\\users\\miria\\anaconda3\\lib\\site-packages (from trio-websocket~=0.9->selenium) (1.2.0)\n",
      "Requirement already satisfied: pysocks!=1.5.7,<2.0,>=1.5.6 in c:\\users\\miria\\anaconda3\\lib\\site-packages (from urllib3[socks]<3,>=1.26->selenium) (1.7.1)\n",
      "Requirement already satisfied: pycparser in c:\\users\\miria\\anaconda3\\lib\\site-packages (from cffi>=1.14->trio~=0.17->selenium) (2.21)\n",
      "Requirement already satisfied: h11<1,>=0.9.0 in c:\\users\\miria\\anaconda3\\lib\\site-packages (from wsproto>=0.14->trio-websocket~=0.9->selenium) (0.14.0)\n",
      "Requirement already satisfied: webdriver-manager in c:\\users\\miria\\anaconda3\\lib\\site-packages (4.0.2)\n",
      "Requirement already satisfied: requests in c:\\users\\miria\\anaconda3\\lib\\site-packages (from webdriver-manager) (2.32.2)\n",
      "Requirement already satisfied: python-dotenv in c:\\users\\miria\\anaconda3\\lib\\site-packages (from webdriver-manager) (0.21.0)\n",
      "Requirement already satisfied: packaging in c:\\users\\miria\\anaconda3\\lib\\site-packages (from webdriver-manager) (23.2)\n",
      "Requirement already satisfied: charset-normalizer<4,>=2 in c:\\users\\miria\\anaconda3\\lib\\site-packages (from requests->webdriver-manager) (2.0.4)\n",
      "Requirement already satisfied: idna<4,>=2.5 in c:\\users\\miria\\anaconda3\\lib\\site-packages (from requests->webdriver-manager) (3.7)\n",
      "Requirement already satisfied: urllib3<3,>=1.21.1 in c:\\users\\miria\\anaconda3\\lib\\site-packages (from requests->webdriver-manager) (2.2.2)\n",
      "Requirement already satisfied: certifi>=2017.4.17 in c:\\users\\miria\\anaconda3\\lib\\site-packages (from requests->webdriver-manager) (2024.7.4)\n"
     ]
    }
   ],
   "source": [
    "#!pip install selenium\n",
    "#!pip install webdriver-manager"
   ]
  },
  {
   "cell_type": "markdown",
   "metadata": {},
   "source": [
    "## a. Setup for Chrome only"
   ]
  },
  {
   "cell_type": "code",
   "execution_count": 83,
   "metadata": {
    "scrolled": true
   },
   "outputs": [],
   "source": [
    "from selenium import webdriver\n",
    "\n",
    "from selenium.webdriver.chrome.service import Service\n",
    "from webdriver_manager.chrome import ChromeDriverManager\n",
    "\n",
    "from selenium.webdriver.support.ui import Select\n",
    "from selenium.webdriver.common.keys import Keys\n",
    "from selenium.webdriver.common.by import By\n",
    "\n",
    "from selenium.webdriver.support.ui import WebDriverWait\n",
    "from selenium.webdriver.support import expected_conditions as EC\n",
    "from selenium.webdriver.common.by import By\n",
    "\n",
    "import re\n",
    "import time \n",
    "import pandas as pd\n",
    "\n",
    "# Path for google Chrome\n",
    "chrome_driver_path = r'chromedriver-win64/chromedriver.exe'\n",
    "# Configue the service for google chrome\n",
    "service = Service(executable_path=chrome_driver_path)\n",
    "# Start the WebDriver for google chrome\n",
    "driver = webdriver.Chrome(service=service)"
   ]
  },
  {
   "cell_type": "markdown",
   "metadata": {},
   "source": [
    "## b. Setup for FireFox only"
   ]
  },
  {
   "cell_type": "code",
   "execution_count": 75,
   "metadata": {},
   "outputs": [],
   "source": [
    "from selenium import webdriver\n",
    "from selenium.webdriver.firefox.service import Service as FirefoxService\n",
    "from webdriver_manager.firefox import GeckoDriverManager\n",
    "\n",
    "from selenium.webdriver.support.ui import Select\n",
    "from selenium.webdriver.common.keys import Keys\n",
    "from selenium.webdriver.common.by import By\n",
    "\n",
    "from selenium.webdriver.support.ui import WebDriverWait\n",
    "from selenium.webdriver.support import expected_conditions as EC\n",
    "from selenium.webdriver.common.by import By\n",
    "\n",
    "import re\n",
    "import time \n",
    "import pandas as pd\n",
    "\n",
    "# Path for geckodriver (Firefox)\n",
    "gecko_driver_path = r'geckodriver-v0.34.0-win64\\geckodriver.exe'\n",
    "\n",
    "# Configure the service for Firefox\n",
    "service = FirefoxService(executable_path=gecko_driver_path)\n",
    "\n",
    "# Start the WebDriver for Firefox\n",
    "driver = webdriver.Firefox(service=service)\n"
   ]
  },
  {
   "cell_type": "markdown",
   "metadata": {},
   "source": [
    "## c. Scrip for \"https://infogob.jne.gob.pe/Eleccion\""
   ]
  },
  {
   "cell_type": "code",
   "execution_count": 86,
   "metadata": {},
   "outputs": [],
   "source": [
    "# Maximize window\n",
    "driver.maximize_window()\n",
    "\n",
    "# Base URL for the web scraping. Open a new window\n",
    "url_base = \"https://infogob.jne.gob.pe/Eleccion\"\n",
    "driver.get(url_base)\n"
   ]
  },
  {
   "cell_type": "code",
   "execution_count": 88,
   "metadata": {},
   "outputs": [],
   "source": [
    "# Display \"Tipo de proceso\" options\n",
    "opt_Presidenciales = driver.find_element(By.XPATH,\n",
    "                                         '/html/body/div[1]/section/div[2]/div[2]/div[2]/div[1]/div/div[1]')\n",
    "opt_Presidenciales.click()\n",
    "time.sleep(3)  # Waits 3 seconds; increase if internet connection is slow\n",
    "\n",
    "# Select \"ELECCIONES PRESIDENCIALES\"\n",
    "opt_Presidenciales_2 = driver.find_element(By.XPATH, \n",
    "                                           '/html/body/div[1]/section/div[2]/div[2]/div[2]/div[1]/div/div[2]/div[2]')\n",
    "opt_Presidenciales_2.click()\n",
    "\n",
    "time.sleep(3)  # Waits 3 seconds; increase if internet connection is slow"
   ]
  },
  {
   "cell_type": "code",
   "execution_count": 90,
   "metadata": {},
   "outputs": [
    {
     "name": "stdout",
     "output_type": "stream",
     "text": [
      "PRESIDENCIAL 2021 - 2DA VUELTA\n",
      "PRESIDENCIAL 2021\n",
      "PRESIDENCIAL 2016 - 2DA VUELTA\n",
      "PRESIDENCIAL 2016\n",
      "PRESIDENCIAL 2011 - 2DA VUELTA\n",
      "PRESIDENCIAL 2011\n",
      "PRESIDENCIAL 2006 - 2DA VUELTA\n",
      "PRESIDENCIAL 2006\n",
      "PRESIDENCIAL 2001 - 2DA VUELTA\n",
      "PRESIDENCIAL 2001\n",
      "PRESIDENCIAL 2000 - 2DA VUELTA\n",
      "PRESIDENCIAL 2000\n",
      "PRESIDENCIAL 1995\n",
      "PRESIDENCIAL 1990 - 2DA VUELTA\n",
      "PRESIDENCIAL 1990\n",
      "PRESIDENCIAL 1985\n",
      "PRESIDENCIAL 1980\n",
      "PRESIDENCIAL 1963\n",
      "PRESIDENCIAL 1962\n",
      "PRESIDENCIAL 1956\n",
      "PRESIDENCIAL 1950\n",
      "PRESIDENCIAL 1945\n",
      "PRESIDENCIAL 1939\n",
      "PRESIDENCIAL 1936\n",
      "PRESIDENCIAL 1931\n"
     ]
    }
   ],
   "source": [
    "# Clicks on the dropdown list to display the available presidential elections\n",
    "driver.find_element(By.XPATH, '//*[@id=\"section\"]/div[2]/div[2]/div[2]/div[2]/div').click()\n",
    "time.sleep(3)  # Waits 3 seconds; increase if internet connection is slow\n",
    "\n",
    "# Getting the list of elections\n",
    "items = driver.find_elements(By.XPATH, '//*[@id=\"section\"]/div[2]/div[2]/div[2]/div[2]/div/div[2]/div')\n",
    "\n",
    "# Extract the text and split it into a list by line breaks\n",
    "elecciones = []\n",
    "for item in items:\n",
    "    elecciones.extend(item.text.split('\\n'))\n",
    "\n",
    "# Remove the first element if it's irrelevant ([SELECCIONE])\n",
    "elecciones = elecciones[1:]\n",
    "\n",
    "# Join the elections with newline characters and print them\n",
    "elecciones_str = \"\\n\".join(elecciones)\n",
    "print(elecciones_str)"
   ]
  },
  {
   "cell_type": "markdown",
   "metadata": {},
   "source": [
    "3. Go to Candidatos y Resultados"
   ]
  },
  {
   "cell_type": "code",
   "execution_count": 92,
   "metadata": {},
   "outputs": [],
   "source": [
    "# Select \"PRESIDENCIAL 2021 - 2DA VUELTA\" using its specific XPath\n",
    "election_xpath = '/html/body/div[1]/section/div[2]/div[2]/div[2]/div[2]/div/div[2]/div[2]'  # Adjust the XPath as needed\n",
    "driver.find_element(By.XPATH, election_xpath).click()\n",
    "time.sleep(3)  # Wait for the selection to be made"
   ]
  },
  {
   "cell_type": "code",
   "execution_count": 94,
   "metadata": {},
   "outputs": [],
   "source": [
    "button_xpath = '/html/body/div[1]/section/div[2]/div[2]/div[3]/div/button'\n",
    "driver.find_element(By.XPATH, button_xpath).click()\n",
    "time.sleep(3)  # Wait for content to load after clicking"
   ]
  },
  {
   "cell_type": "code",
   "execution_count": 96,
   "metadata": {},
   "outputs": [],
   "source": [
    "candidatos_xpath = '/html/body/div[1]/section/div[2]/div[3]/div[1]/ul/li[2]/a'\n",
    "driver.find_element(By.XPATH, candidatos_xpath).click()\n",
    "time.sleep(3)  # Wait for content to load after clicking"
   ]
  },
  {
   "cell_type": "markdown",
   "metadata": {},
   "source": [
    "4. Get this table"
   ]
  },
  {
   "cell_type": "code",
   "execution_count": 5,
   "metadata": {},
   "outputs": [
    {
     "name": "stdout",
     "output_type": "stream",
     "text": [
      "                        Election                POLITICAL ORGANIZATION  \\\n",
      "0  PRESIDENTIAL 2021 - 2ND ROUND  PARTIDO POLITICO NACIONAL PERU LIBRE   \n",
      "1  PRESIDENTIAL 2021 - 2ND ROUND                        FUERZA POPULAR   \n",
      "\n",
      "   TOTAL VOTES  \n",
      "0      8836380  \n",
      "1      8792117  \n"
     ]
    }
   ],
   "source": [
    "import pandas as pd\n",
    "\n",
    "# Example list of extracted data\n",
    "extracted_data = [\n",
    "    {'Election': 'PRESIDENTIAL 2021 - 2ND ROUND', 'POLITICAL ORGANIZATION': 'PARTIDO POLITICO NACIONAL PERU LIBRE', 'TOTAL VOTES': '8,836,380'},\n",
    "    {'Election': 'PRESIDENTIAL 2021 - 2ND ROUND', 'POLITICAL ORGANIZATION': 'FUERZA POPULAR', 'TOTAL VOTES': '8,792,117'},\n",
    "    # Add more entries here...\n",
    "]\n",
    "\n",
    "# Create a list to store the processed data\n",
    "processed_data = []\n",
    "\n",
    "# Iterate through the extracted data to clean and organize it\n",
    "for election in extracted_data:\n",
    "    # Clean the 'TOTAL VOTES' field by removing commas and converting it to an integer\n",
    "    total_votes_cleaned = int(election['TOTAL VOTES'].replace(',', ''))\n",
    "    \n",
    "    # Append the cleaned and organized data to the processed_data list\n",
    "    processed_data.append({\n",
    "        'Election': election['Election'],\n",
    "        'POLITICAL ORGANIZATION': election['POLITICAL ORGANIZATION'],\n",
    "        'TOTAL VOTES': total_votes_cleaned\n",
    "    })\n",
    "\n",
    "# Convert the processed data into a pandas DataFrame\n",
    "df = pd.DataFrame(processed_data)\n",
    "\n",
    "# Display the DataFrame to ensure everything is correct\n",
    "print(df.head())\n"
   ]
  },
  {
   "cell_type": "code",
   "execution_count": null,
   "metadata": {},
   "outputs": [],
   "source": []
  }
 ],
 "metadata": {
  "hide_input": false,
  "kernelspec": {
   "display_name": "Python 3 (ipykernel)",
   "language": "python",
   "name": "python3"
  },
  "language_info": {
   "codemirror_mode": {
    "name": "ipython",
    "version": 3
   },
   "file_extension": ".py",
   "mimetype": "text/x-python",
   "name": "python",
   "nbconvert_exporter": "python",
   "pygments_lexer": "ipython3",
   "version": "3.12.4"
  },
  "toc": {
   "base_numbering": 1,
   "nav_menu": {},
   "number_sections": true,
   "sideBar": true,
   "skip_h1_title": false,
   "title_cell": "Table of Contents",
   "title_sidebar": "Contents",
   "toc_cell": false,
   "toc_position": {},
   "toc_section_display": true,
   "toc_window_display": false
  }
 },
 "nbformat": 4,
 "nbformat_minor": 4
}
