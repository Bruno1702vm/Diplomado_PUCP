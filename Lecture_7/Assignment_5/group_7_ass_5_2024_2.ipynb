{
 "cells": [
  {
   "cell_type": "markdown",
   "metadata": {},
   "source": [
    "# Assignment 5 - Issue #854"
   ]
  },
  {
   "cell_type": "markdown",
   "metadata": {},
   "source": [
    "Fernando Mendoza | Adrea Pezo | Michel Cotrina | Estefanny Gil | Armando Ore"
   ]
  },
  {
   "cell_type": "markdown",
   "metadata": {},
   "source": [
    "The script should not give an error. Any mistake will be consider as 0.\n",
    "<br>We want an excel file with all the available presidential elections in this webpage.\n",
    "https://infogob.jne.gob.pe/Eleccion\n",
    "<br>The final excel should have these 3 columns \n",
    "(Elecciones | ORGANIZACIÓN POLÍTICA | TOTAL VOTOS)"
   ]
  },
  {
   "cell_type": "code",
   "execution_count": 45,
   "metadata": {
    "scrolled": true
   },
   "outputs": [
    {
     "name": "stdout",
     "output_type": "stream",
     "text": [
      "Requirement already satisfied: selenium in c:\\users\\miria\\anaconda3\\lib\\site-packages (4.23.1)\n",
      "Requirement already satisfied: urllib3<3,>=1.26 in c:\\users\\miria\\anaconda3\\lib\\site-packages (from urllib3[socks]<3,>=1.26->selenium) (2.2.2)\n",
      "Requirement already satisfied: trio~=0.17 in c:\\users\\miria\\anaconda3\\lib\\site-packages (from selenium) (0.26.2)\n",
      "Requirement already satisfied: trio-websocket~=0.9 in c:\\users\\miria\\anaconda3\\lib\\site-packages (from selenium) (0.11.1)\n",
      "Requirement already satisfied: certifi>=2021.10.8 in c:\\users\\miria\\anaconda3\\lib\\site-packages (from selenium) (2024.7.4)\n",
      "Requirement already satisfied: typing_extensions~=4.9 in c:\\users\\miria\\anaconda3\\lib\\site-packages (from selenium) (4.11.0)\n",
      "Requirement already satisfied: websocket-client~=1.8 in c:\\users\\miria\\anaconda3\\lib\\site-packages (from selenium) (1.8.0)\n",
      "Requirement already satisfied: attrs>=23.2.0 in c:\\users\\miria\\anaconda3\\lib\\site-packages (from trio~=0.17->selenium) (24.2.0)\n",
      "Requirement already satisfied: sortedcontainers in c:\\users\\miria\\anaconda3\\lib\\site-packages (from trio~=0.17->selenium) (2.4.0)\n",
      "Requirement already satisfied: idna in c:\\users\\miria\\anaconda3\\lib\\site-packages (from trio~=0.17->selenium) (3.7)\n",
      "Requirement already satisfied: outcome in c:\\users\\miria\\anaconda3\\lib\\site-packages (from trio~=0.17->selenium) (1.3.0.post0)\n",
      "Requirement already satisfied: sniffio>=1.3.0 in c:\\users\\miria\\anaconda3\\lib\\site-packages (from trio~=0.17->selenium) (1.3.0)\n",
      "Requirement already satisfied: cffi>=1.14 in c:\\users\\miria\\anaconda3\\lib\\site-packages (from trio~=0.17->selenium) (1.16.0)\n",
      "Requirement already satisfied: wsproto>=0.14 in c:\\users\\miria\\anaconda3\\lib\\site-packages (from trio-websocket~=0.9->selenium) (1.2.0)\n",
      "Requirement already satisfied: pysocks!=1.5.7,<2.0,>=1.5.6 in c:\\users\\miria\\anaconda3\\lib\\site-packages (from urllib3[socks]<3,>=1.26->selenium) (1.7.1)\n",
      "Requirement already satisfied: pycparser in c:\\users\\miria\\anaconda3\\lib\\site-packages (from cffi>=1.14->trio~=0.17->selenium) (2.21)\n",
      "Requirement already satisfied: h11<1,>=0.9.0 in c:\\users\\miria\\anaconda3\\lib\\site-packages (from wsproto>=0.14->trio-websocket~=0.9->selenium) (0.14.0)\n",
      "Requirement already satisfied: webdriver-manager in c:\\users\\miria\\anaconda3\\lib\\site-packages (4.0.2)\n",
      "Requirement already satisfied: requests in c:\\users\\miria\\anaconda3\\lib\\site-packages (from webdriver-manager) (2.32.2)\n",
      "Requirement already satisfied: python-dotenv in c:\\users\\miria\\anaconda3\\lib\\site-packages (from webdriver-manager) (0.21.0)\n",
      "Requirement already satisfied: packaging in c:\\users\\miria\\anaconda3\\lib\\site-packages (from webdriver-manager) (23.2)\n",
      "Requirement already satisfied: charset-normalizer<4,>=2 in c:\\users\\miria\\anaconda3\\lib\\site-packages (from requests->webdriver-manager) (2.0.4)\n",
      "Requirement already satisfied: idna<4,>=2.5 in c:\\users\\miria\\anaconda3\\lib\\site-packages (from requests->webdriver-manager) (3.7)\n",
      "Requirement already satisfied: urllib3<3,>=1.21.1 in c:\\users\\miria\\anaconda3\\lib\\site-packages (from requests->webdriver-manager) (2.2.2)\n",
      "Requirement already satisfied: certifi>=2017.4.17 in c:\\users\\miria\\anaconda3\\lib\\site-packages (from requests->webdriver-manager) (2024.7.4)\n"
     ]
    }
   ],
   "source": [
    "#!pip install selenium\n",
    "#!pip install webdriver-manager"
   ]
  },
  {
   "cell_type": "markdown",
   "metadata": {},
   "source": [
    "## a. Setup for Chrome only"
   ]
  },
  {
   "cell_type": "code",
   "execution_count": 69,
   "metadata": {
    "scrolled": true
   },
   "outputs": [],
   "source": [
    "from selenium import webdriver\n",
    "\n",
    "from selenium.webdriver.chrome.service import Service\n",
    "from webdriver_manager.chrome import ChromeDriverManager\n",
    "\n",
    "from selenium.webdriver.support.ui import Select\n",
    "from selenium.webdriver.common.keys import Keys\n",
    "from selenium.webdriver.common.by import By\n",
    "\n",
    "from selenium.webdriver.support.ui import WebDriverWait\n",
    "from selenium.webdriver.support import expected_conditions as EC\n",
    "from selenium.webdriver.common.by import By\n",
    "\n",
    "import re\n",
    "import time \n",
    "import pandas as pd\n",
    "\n",
    "# Path for google Chrome\n",
    "chrome_driver_path = r'chromedriver-win64/chromedriver.exe'\n",
    "# Configue the service for google chrome\n",
    "service = Service(executable_path=chrome_driver_path)\n",
    "# Start the WebDriver for google chrome\n",
    "driver = webdriver.Chrome(service=service)"
   ]
  },
  {
   "cell_type": "markdown",
   "metadata": {
    "jp-MarkdownHeadingCollapsed": true
   },
   "source": [
    "## b. Setup for FireFox only"
   ]
  },
  {
   "cell_type": "code",
   "execution_count": 75,
   "metadata": {},
   "outputs": [],
   "source": [
    "from selenium import webdriver\n",
    "from selenium.webdriver.firefox.service import Service as FirefoxService\n",
    "from webdriver_manager.firefox import GeckoDriverManager\n",
    "\n",
    "from selenium.webdriver.support.ui import Select\n",
    "from selenium.webdriver.common.keys import Keys\n",
    "from selenium.webdriver.common.by import By\n",
    "\n",
    "from selenium.webdriver.support.ui import WebDriverWait\n",
    "from selenium.webdriver.support import expected_conditions as EC\n",
    "from selenium.webdriver.common.by import By\n",
    "\n",
    "import re\n",
    "import time \n",
    "import pandas as pd\n",
    "\n",
    "# Path for geckodriver (Firefox)\n",
    "gecko_driver_path = r'geckodriver-v0.34.0-win64\\geckodriver.exe'\n",
    "\n",
    "# Configure the service for Firefox\n",
    "service = FirefoxService(executable_path=gecko_driver_path)\n",
    "\n",
    "# Start the WebDriver for Firefox\n",
    "driver = webdriver.Firefox(service=service)\n"
   ]
  },
  {
   "cell_type": "markdown",
   "metadata": {},
   "source": [
    "## c. Scrip for \"https://infogob.jne.gob.pe/Eleccion\""
   ]
  },
  {
   "cell_type": "code",
   "execution_count": 71,
   "metadata": {},
   "outputs": [],
   "source": [
    "# Maximize window\n",
    "driver.maximize_window()\n",
    "\n",
    "# Base URL for the web scraping. Open a new window\n",
    "url_base = \"https://infogob.jne.gob.pe/Eleccion\"\n",
    "driver.get(url_base)\n"
   ]
  },
  {
   "cell_type": "code",
   "execution_count": 73,
   "metadata": {},
   "outputs": [],
   "source": [
    "# Display \"Tipo de proceso\" options\n",
    "opt_Presidenciales = driver.find_element(By.XPATH,\n",
    "                                         '/html/body/div[1]/section/div[2]/div[2]/div[2]/div[1]/div/div[1]')\n",
    "opt_Presidenciales.click()\n",
    "time.sleep(3)  # Waits 3 seconds; increase if internet connection is slow\n",
    "\n",
    "# Select \"ELECCIONES PRESIDENCIALES\"\n",
    "opt_Presidenciales_2 = driver.find_element(By.XPATH, \n",
    "                                           '/html/body/div[1]/section/div[2]/div[2]/div[2]/div[1]/div/div[2]/div[2]')\n",
    "opt_Presidenciales_2.click()\n",
    "\n",
    "time.sleep(3)  # Waits 3 seconds; increase if internet connection is slow"
   ]
  },
  {
   "cell_type": "code",
   "execution_count": 75,
   "metadata": {},
   "outputs": [
    {
     "name": "stdout",
     "output_type": "stream",
     "text": [
      "PRESIDENCIAL 2021 - 2DA VUELTA\n",
      "PRESIDENCIAL 2021\n",
      "PRESIDENCIAL 2016 - 2DA VUELTA\n",
      "PRESIDENCIAL 2016\n",
      "PRESIDENCIAL 2011 - 2DA VUELTA\n",
      "PRESIDENCIAL 2011\n",
      "PRESIDENCIAL 2006 - 2DA VUELTA\n",
      "PRESIDENCIAL 2006\n",
      "PRESIDENCIAL 2001 - 2DA VUELTA\n",
      "PRESIDENCIAL 2001\n",
      "PRESIDENCIAL 2000 - 2DA VUELTA\n",
      "PRESIDENCIAL 2000\n",
      "PRESIDENCIAL 1995\n",
      "PRESIDENCIAL 1990 - 2DA VUELTA\n",
      "PRESIDENCIAL 1990\n",
      "PRESIDENCIAL 1985\n",
      "PRESIDENCIAL 1980\n",
      "PRESIDENCIAL 1963\n",
      "PRESIDENCIAL 1962\n",
      "PRESIDENCIAL 1956\n",
      "PRESIDENCIAL 1950\n",
      "PRESIDENCIAL 1945\n",
      "PRESIDENCIAL 1939\n",
      "PRESIDENCIAL 1936\n",
      "PRESIDENCIAL 1931\n"
     ]
    }
   ],
   "source": [
    "# Clicks on the dropdown list to display the available presidential elections\n",
    "driver.find_element(By.XPATH, '//*[@id=\"section\"]/div[2]/div[2]/div[2]/div[2]/div').click()\n",
    "time.sleep(3)  # Waits 3 seconds; increase if internet connection is slow\n",
    "\n",
    "# Getting the list of elections\n",
    "items = driver.find_elements(By.XPATH, '//*[@id=\"section\"]/div[2]/div[2]/div[2]/div[2]/div/div[2]/div')\n",
    "\n",
    "# Extract the text and split it into a list by line breaks\n",
    "elecciones = []\n",
    "for item in items:\n",
    "    elecciones.extend(item.text.split('\\n'))\n",
    "\n",
    "# Remove the first element if it's irrelevant ([SELECCIONE])\n",
    "elecciones = elecciones[1:]\n",
    "\n",
    "# Join the elections with newline characters and print them\n",
    "elecciones_str = \"\\n\".join(elecciones)\n",
    "print(elecciones_str)"
   ]
  },
  {
   "cell_type": "markdown",
   "metadata": {},
   "source": [
    "3. Go to Candidatos y Resultados"
   ]
  },
  {
   "cell_type": "code",
   "execution_count": 85,
   "metadata": {},
   "outputs": [],
   "source": [
    "#function that extracts a df saving it into a list\n",
    "def extract_df():\n",
    "    # Find the element containing the table and get its HTML content\n",
    "    df = driver.find_element(By.XPATH, '//*[@id=\"CandidatosResultados\"]/div/div[1]/div[2]/div[2]').get_attribute('innerHTML')\n",
    "    df_1 = StringIO(df)\n",
    "    # Pd to read HTML converting into df\n",
    "    data = pd.read_html(df_1)\n",
    "    # Return the first DataFrame found\n",
    "    return data[0]"
   ]
  },
  {
   "cell_type": "code",
   "execution_count": 87,
   "metadata": {},
   "outputs": [],
   "source": [
    "#check results and move to the next path\n",
    "def next_button(i):\n",
    "    try:\n",
    "         # Wait a maximum wait time of 10 seconds\n",
    "        next_button = WebDriverWait(driver, 10).until(\n",
    "            EC.element_to_be_clickable((By.XPATH, f'//*[@id=\"CandidatosResultados\"]/div/div[1]/div[2]/div[2]/div[4]/div[2]/ul/li[{i}]/a'))\n",
    "        )\n",
    "        # Click next\n",
    "        next_button.click()\n",
    "        return True\n",
    "        # Return False if there's a timeout\n",
    "    except (TimeoutException, ElementClickInterceptedException):\n",
    "        return False"
   ]
  }
 ],
 "metadata": {
  "hide_input": false,
  "kernelspec": {
   "display_name": "Python 3 (ipykernel)",
   "language": "python",
   "name": "python3"
  },
  "language_info": {
   "codemirror_mode": {
    "name": "ipython",
    "version": 3
   },
   "file_extension": ".py",
   "mimetype": "text/x-python",
   "name": "python",
   "nbconvert_exporter": "python",
   "pygments_lexer": "ipython3",
   "version": "3.12.4"
  },
  "toc": {
   "base_numbering": 1,
   "nav_menu": {},
   "number_sections": true,
   "sideBar": true,
   "skip_h1_title": false,
   "title_cell": "Table of Contents",
   "title_sidebar": "Contents",
   "toc_cell": false,
   "toc_position": {},
   "toc_section_display": true,
   "toc_window_display": false
  }
 },
 "nbformat": 4,
 "nbformat_minor": 4
}
