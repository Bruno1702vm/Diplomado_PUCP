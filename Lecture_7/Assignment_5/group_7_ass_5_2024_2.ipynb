{
 "cells": [
  {
   "cell_type": "markdown",
   "metadata": {},
   "source": [
    "# Assignment 5 - Issue #854"
   ]
  },
  {
   "cell_type": "markdown",
   "metadata": {},
   "source": [
    "Fernando Mendoza | Adrea Pezo | Michel Cotrina | Estefanny Gil | Armando Ore"
   ]
  },
  {
   "cell_type": "markdown",
   "metadata": {},
   "source": [
    "The script should not give an error. Any mistake will be consider as 0.\n",
    "<br>We want an excel file with all the available presidential elections in this webpage.\n",
    "https://infogob.jne.gob.pe/Eleccion\n",
    "<br>The final excel should have these 3 columns \n",
    "(Elecciones | ORGANIZACIÓN POLÍTICA | TOTAL VOTOS)"
   ]
  },
  {
   "cell_type": "code",
   "execution_count": 45,
   "metadata": {
    "scrolled": true
   },
   "outputs": [
    {
     "name": "stdout",
     "output_type": "stream",
     "text": [
      "Requirement already satisfied: selenium in c:\\users\\miria\\anaconda3\\lib\\site-packages (4.23.1)\n",
      "Requirement already satisfied: urllib3<3,>=1.26 in c:\\users\\miria\\anaconda3\\lib\\site-packages (from urllib3[socks]<3,>=1.26->selenium) (2.2.2)\n",
      "Requirement already satisfied: trio~=0.17 in c:\\users\\miria\\anaconda3\\lib\\site-packages (from selenium) (0.26.2)\n",
      "Requirement already satisfied: trio-websocket~=0.9 in c:\\users\\miria\\anaconda3\\lib\\site-packages (from selenium) (0.11.1)\n",
      "Requirement already satisfied: certifi>=2021.10.8 in c:\\users\\miria\\anaconda3\\lib\\site-packages (from selenium) (2024.7.4)\n",
      "Requirement already satisfied: typing_extensions~=4.9 in c:\\users\\miria\\anaconda3\\lib\\site-packages (from selenium) (4.11.0)\n",
      "Requirement already satisfied: websocket-client~=1.8 in c:\\users\\miria\\anaconda3\\lib\\site-packages (from selenium) (1.8.0)\n",
      "Requirement already satisfied: attrs>=23.2.0 in c:\\users\\miria\\anaconda3\\lib\\site-packages (from trio~=0.17->selenium) (24.2.0)\n",
      "Requirement already satisfied: sortedcontainers in c:\\users\\miria\\anaconda3\\lib\\site-packages (from trio~=0.17->selenium) (2.4.0)\n",
      "Requirement already satisfied: idna in c:\\users\\miria\\anaconda3\\lib\\site-packages (from trio~=0.17->selenium) (3.7)\n",
      "Requirement already satisfied: outcome in c:\\users\\miria\\anaconda3\\lib\\site-packages (from trio~=0.17->selenium) (1.3.0.post0)\n",
      "Requirement already satisfied: sniffio>=1.3.0 in c:\\users\\miria\\anaconda3\\lib\\site-packages (from trio~=0.17->selenium) (1.3.0)\n",
      "Requirement already satisfied: cffi>=1.14 in c:\\users\\miria\\anaconda3\\lib\\site-packages (from trio~=0.17->selenium) (1.16.0)\n",
      "Requirement already satisfied: wsproto>=0.14 in c:\\users\\miria\\anaconda3\\lib\\site-packages (from trio-websocket~=0.9->selenium) (1.2.0)\n",
      "Requirement already satisfied: pysocks!=1.5.7,<2.0,>=1.5.6 in c:\\users\\miria\\anaconda3\\lib\\site-packages (from urllib3[socks]<3,>=1.26->selenium) (1.7.1)\n",
      "Requirement already satisfied: pycparser in c:\\users\\miria\\anaconda3\\lib\\site-packages (from cffi>=1.14->trio~=0.17->selenium) (2.21)\n",
      "Requirement already satisfied: h11<1,>=0.9.0 in c:\\users\\miria\\anaconda3\\lib\\site-packages (from wsproto>=0.14->trio-websocket~=0.9->selenium) (0.14.0)\n",
      "Requirement already satisfied: webdriver-manager in c:\\users\\miria\\anaconda3\\lib\\site-packages (4.0.2)\n",
      "Requirement already satisfied: requests in c:\\users\\miria\\anaconda3\\lib\\site-packages (from webdriver-manager) (2.32.2)\n",
      "Requirement already satisfied: python-dotenv in c:\\users\\miria\\anaconda3\\lib\\site-packages (from webdriver-manager) (0.21.0)\n",
      "Requirement already satisfied: packaging in c:\\users\\miria\\anaconda3\\lib\\site-packages (from webdriver-manager) (23.2)\n",
      "Requirement already satisfied: charset-normalizer<4,>=2 in c:\\users\\miria\\anaconda3\\lib\\site-packages (from requests->webdriver-manager) (2.0.4)\n",
      "Requirement already satisfied: idna<4,>=2.5 in c:\\users\\miria\\anaconda3\\lib\\site-packages (from requests->webdriver-manager) (3.7)\n",
      "Requirement already satisfied: urllib3<3,>=1.21.1 in c:\\users\\miria\\anaconda3\\lib\\site-packages (from requests->webdriver-manager) (2.2.2)\n",
      "Requirement already satisfied: certifi>=2017.4.17 in c:\\users\\miria\\anaconda3\\lib\\site-packages (from requests->webdriver-manager) (2024.7.4)\n"
     ]
    }
   ],
   "source": [
    "#!pip install selenium\n",
    "#!pip install webdriver-manager"
   ]
  },
  {
   "cell_type": "markdown",
   "metadata": {
    "jp-MarkdownHeadingCollapsed": true
   },
   "source": [
    "## a. Setup for Chrome only"
   ]
  },
  {
   "cell_type": "code",
   "execution_count": 83,
   "metadata": {
    "scrolled": true
   },
   "outputs": [],
   "source": [
    "from selenium import webdriver\n",
    "\n",
    "from selenium.webdriver.chrome.service import Service\n",
    "from webdriver_manager.chrome import ChromeDriverManager\n",
    "\n",
    "from selenium.webdriver.support.ui import Select\n",
    "from selenium.webdriver.common.keys import Keys\n",
    "from selenium.webdriver.common.by import By\n",
    "\n",
    "from selenium.webdriver.support.ui import WebDriverWait\n",
    "from selenium.webdriver.support import expected_conditions as EC\n",
    "from selenium.webdriver.common.by import By\n",
    "\n",
    "import re\n",
    "import time \n",
    "import pandas as pd\n",
    "\n",
    "# Path for google Chrome\n",
    "chrome_driver_path = r'chromedriver-win64/chromedriver.exe'\n",
    "# Configue the service for google chrome\n",
    "service = Service(executable_path=chrome_driver_path)\n",
    "# Start the WebDriver for google chrome\n",
    "driver = webdriver.Chrome(service=service)"
   ]
  },
  {
   "cell_type": "markdown",
   "metadata": {},
   "source": [
    "## b. Setup for FireFox only"
   ]
  },
  {
   "cell_type": "code",
   "execution_count": 86,
   "metadata": {},
   "outputs": [],
   "source": [
    "from selenium import webdriver\n",
    "from selenium.webdriver.firefox.service import Service as FirefoxService\n",
    "from webdriver_manager.firefox import GeckoDriverManager\n",
    "\n",
    "from selenium.webdriver.support.ui import Select\n",
    "from selenium.webdriver.common.keys import Keys\n",
    "from selenium.webdriver.common.by import By\n",
    "\n",
    "from selenium.webdriver.support.ui import WebDriverWait\n",
    "from selenium.webdriver.support import expected_conditions as EC\n",
    "from selenium.webdriver.common.by import By\n",
    "\n",
    "import re\n",
    "import time \n",
    "import pandas as pd\n",
    "\n",
    "# Path for geckodriver (Firefox)\n",
    "gecko_driver_path = r'geckodriver-v0.34.0-win64\\geckodriver.exe'\n",
    "\n",
    "# Configure the service for Firefox\n",
    "service = FirefoxService(executable_path=gecko_driver_path)\n",
    "\n",
    "# Start the WebDriver for Firefox\n",
    "driver = webdriver.Firefox(service=service)\n"
   ]
  },
  {
   "cell_type": "markdown",
   "metadata": {
    "jp-MarkdownHeadingCollapsed": true
   },
   "source": [
    "## c. Scrip for \"https://infogob.jne.gob.pe/Eleccion\""
   ]
  },
  {
   "cell_type": "code",
   "execution_count": 86,
   "metadata": {},
   "outputs": [],
   "source": [
    "# Maximize window\n",
    "driver.maximize_window()\n",
    "\n",
    "# Base URL for the web scraping. Open a new window\n",
    "url_base = \"https://infogob.jne.gob.pe/Eleccion\"\n",
    "driver.get(url_base)\n"
   ]
  },
  {
   "cell_type": "code",
   "execution_count": 88,
   "metadata": {},
   "outputs": [],
   "source": [
    "# Display \"Tipo de proceso\" options\n",
    "opt_Presidenciales = driver.find_element(By.XPATH,\n",
    "                                         '/html/body/div[1]/section/div[2]/div[2]/div[2]/div[1]/div/div[1]')\n",
    "opt_Presidenciales.click()\n",
    "time.sleep(3)  # Waits 3 seconds; increase if internet connection is slow\n",
    "\n",
    "# Select \"ELECCIONES PRESIDENCIALES\"\n",
    "opt_Presidenciales_2 = driver.find_element(By.XPATH, \n",
    "                                           '/html/body/div[1]/section/div[2]/div[2]/div[2]/div[1]/div/div[2]/div[2]')\n",
    "opt_Presidenciales_2.click()\n",
    "\n",
    "time.sleep(3)  # Waits 3 seconds; increase if internet connection is slow"
   ]
  },
  {
   "cell_type": "code",
   "execution_count": 90,
   "metadata": {},
   "outputs": [
    {
     "name": "stdout",
     "output_type": "stream",
     "text": [
      "PRESIDENCIAL 2021 - 2DA VUELTA\n",
      "PRESIDENCIAL 2021\n",
      "PRESIDENCIAL 2016 - 2DA VUELTA\n",
      "PRESIDENCIAL 2016\n",
      "PRESIDENCIAL 2011 - 2DA VUELTA\n",
      "PRESIDENCIAL 2011\n",
      "PRESIDENCIAL 2006 - 2DA VUELTA\n",
      "PRESIDENCIAL 2006\n",
      "PRESIDENCIAL 2001 - 2DA VUELTA\n",
      "PRESIDENCIAL 2001\n",
      "PRESIDENCIAL 2000 - 2DA VUELTA\n",
      "PRESIDENCIAL 2000\n",
      "PRESIDENCIAL 1995\n",
      "PRESIDENCIAL 1990 - 2DA VUELTA\n",
      "PRESIDENCIAL 1990\n",
      "PRESIDENCIAL 1985\n",
      "PRESIDENCIAL 1980\n",
      "PRESIDENCIAL 1963\n",
      "PRESIDENCIAL 1962\n",
      "PRESIDENCIAL 1956\n",
      "PRESIDENCIAL 1950\n",
      "PRESIDENCIAL 1945\n",
      "PRESIDENCIAL 1939\n",
      "PRESIDENCIAL 1936\n",
      "PRESIDENCIAL 1931\n"
     ]
    }
   ],
   "source": [
    "# Clicks on the dropdown list to display the available presidential elections\n",
    "driver.find_element(By.XPATH, '//*[@id=\"section\"]/div[2]/div[2]/div[2]/div[2]/div').click()\n",
    "time.sleep(3)  # Waits 3 seconds; increase if internet connection is slow\n",
    "\n",
    "# Getting the list of elections\n",
    "items = driver.find_elements(By.XPATH, '//*[@id=\"section\"]/div[2]/div[2]/div[2]/div[2]/div/div[2]/div')\n",
    "\n",
    "# Extract the text and split it into a list by line breaks\n",
    "elecciones = []\n",
    "for item in items:\n",
    "    elecciones.extend(item.text.split('\\n'))\n",
    "\n",
    "# Remove the first element if it's irrelevant ([SELECCIONE])\n",
    "elecciones = elecciones[1:]\n",
    "\n",
    "# Join the elections with newline characters and print them\n",
    "elecciones_str = \"\\n\".join(elecciones)\n",
    "print(elecciones_str)"
   ]
  },
  {
   "cell_type": "markdown",
   "metadata": {},
   "source": [
    "## 3. Iteration"
   ]
  },
  {
   "cell_type": "code",
   "execution_count": 87,
   "metadata": {},
   "outputs": [],
   "source": [
    "# Maximize window\n",
    "driver.maximize_window()\n",
    "\n",
    "# Base URL for the web scraping. Open a new window\n",
    "url_base = \"https://infogob.jne.gob.pe/Eleccion\"\n",
    "driver.get(url_base)"
   ]
  },
  {
   "cell_type": "code",
   "execution_count": 90,
   "metadata": {},
   "outputs": [
    {
     "name": "stderr",
     "output_type": "stream",
     "text": [
      "C:\\Users\\LENOVO\\AppData\\Local\\Temp\\ipykernel_18504\\2797879098.py:40: FutureWarning: Passing literal html to 'read_html' is deprecated and will be removed in a future version. To read from a literal string, wrap it in a 'StringIO' object.\n",
      "  table = pd.read_html(tabla_new)\n",
      "C:\\Users\\LENOVO\\AppData\\Local\\Temp\\ipykernel_18504\\2797879098.py:40: FutureWarning: Passing literal html to 'read_html' is deprecated and will be removed in a future version. To read from a literal string, wrap it in a 'StringIO' object.\n",
      "  table = pd.read_html(tabla_new)\n",
      "C:\\Users\\LENOVO\\AppData\\Local\\Temp\\ipykernel_18504\\2797879098.py:40: FutureWarning: Passing literal html to 'read_html' is deprecated and will be removed in a future version. To read from a literal string, wrap it in a 'StringIO' object.\n",
      "  table = pd.read_html(tabla_new)\n",
      "C:\\Users\\LENOVO\\AppData\\Local\\Temp\\ipykernel_18504\\2797879098.py:40: FutureWarning: Passing literal html to 'read_html' is deprecated and will be removed in a future version. To read from a literal string, wrap it in a 'StringIO' object.\n",
      "  table = pd.read_html(tabla_new)\n",
      "C:\\Users\\LENOVO\\AppData\\Local\\Temp\\ipykernel_18504\\2797879098.py:40: FutureWarning: Passing literal html to 'read_html' is deprecated and will be removed in a future version. To read from a literal string, wrap it in a 'StringIO' object.\n",
      "  table = pd.read_html(tabla_new)\n",
      "C:\\Users\\LENOVO\\AppData\\Local\\Temp\\ipykernel_18504\\2797879098.py:40: FutureWarning: Passing literal html to 'read_html' is deprecated and will be removed in a future version. To read from a literal string, wrap it in a 'StringIO' object.\n",
      "  table = pd.read_html(tabla_new)\n",
      "C:\\Users\\LENOVO\\AppData\\Local\\Temp\\ipykernel_18504\\2797879098.py:40: FutureWarning: Passing literal html to 'read_html' is deprecated and will be removed in a future version. To read from a literal string, wrap it in a 'StringIO' object.\n",
      "  table = pd.read_html(tabla_new)\n",
      "C:\\Users\\LENOVO\\AppData\\Local\\Temp\\ipykernel_18504\\2797879098.py:40: FutureWarning: Passing literal html to 'read_html' is deprecated and will be removed in a future version. To read from a literal string, wrap it in a 'StringIO' object.\n",
      "  table = pd.read_html(tabla_new)\n",
      "C:\\Users\\LENOVO\\AppData\\Local\\Temp\\ipykernel_18504\\2797879098.py:40: FutureWarning: Passing literal html to 'read_html' is deprecated and will be removed in a future version. To read from a literal string, wrap it in a 'StringIO' object.\n",
      "  table = pd.read_html(tabla_new)\n",
      "C:\\Users\\LENOVO\\AppData\\Local\\Temp\\ipykernel_18504\\2797879098.py:40: FutureWarning: Passing literal html to 'read_html' is deprecated and will be removed in a future version. To read from a literal string, wrap it in a 'StringIO' object.\n",
      "  table = pd.read_html(tabla_new)\n",
      "C:\\Users\\LENOVO\\AppData\\Local\\Temp\\ipykernel_18504\\2797879098.py:40: FutureWarning: Passing literal html to 'read_html' is deprecated and will be removed in a future version. To read from a literal string, wrap it in a 'StringIO' object.\n",
      "  table = pd.read_html(tabla_new)\n",
      "C:\\Users\\LENOVO\\AppData\\Local\\Temp\\ipykernel_18504\\2797879098.py:40: FutureWarning: Passing literal html to 'read_html' is deprecated and will be removed in a future version. To read from a literal string, wrap it in a 'StringIO' object.\n",
      "  table = pd.read_html(tabla_new)\n",
      "C:\\Users\\LENOVO\\AppData\\Local\\Temp\\ipykernel_18504\\2797879098.py:40: FutureWarning: Passing literal html to 'read_html' is deprecated and will be removed in a future version. To read from a literal string, wrap it in a 'StringIO' object.\n",
      "  table = pd.read_html(tabla_new)\n",
      "C:\\Users\\LENOVO\\AppData\\Local\\Temp\\ipykernel_18504\\2797879098.py:40: FutureWarning: Passing literal html to 'read_html' is deprecated and will be removed in a future version. To read from a literal string, wrap it in a 'StringIO' object.\n",
      "  table = pd.read_html(tabla_new)\n",
      "C:\\Users\\LENOVO\\AppData\\Local\\Temp\\ipykernel_18504\\2797879098.py:40: FutureWarning: Passing literal html to 'read_html' is deprecated and will be removed in a future version. To read from a literal string, wrap it in a 'StringIO' object.\n",
      "  table = pd.read_html(tabla_new)\n",
      "C:\\Users\\LENOVO\\AppData\\Local\\Temp\\ipykernel_18504\\2797879098.py:40: FutureWarning: Passing literal html to 'read_html' is deprecated and will be removed in a future version. To read from a literal string, wrap it in a 'StringIO' object.\n",
      "  table = pd.read_html(tabla_new)\n",
      "C:\\Users\\LENOVO\\AppData\\Local\\Temp\\ipykernel_18504\\2797879098.py:40: FutureWarning: Passing literal html to 'read_html' is deprecated and will be removed in a future version. To read from a literal string, wrap it in a 'StringIO' object.\n",
      "  table = pd.read_html(tabla_new)\n",
      "C:\\Users\\LENOVO\\AppData\\Local\\Temp\\ipykernel_18504\\2797879098.py:40: FutureWarning: Passing literal html to 'read_html' is deprecated and will be removed in a future version. To read from a literal string, wrap it in a 'StringIO' object.\n",
      "  table = pd.read_html(tabla_new)\n",
      "C:\\Users\\LENOVO\\AppData\\Local\\Temp\\ipykernel_18504\\2797879098.py:40: FutureWarning: Passing literal html to 'read_html' is deprecated and will be removed in a future version. To read from a literal string, wrap it in a 'StringIO' object.\n",
      "  table = pd.read_html(tabla_new)\n",
      "C:\\Users\\LENOVO\\AppData\\Local\\Temp\\ipykernel_18504\\2797879098.py:40: FutureWarning: Passing literal html to 'read_html' is deprecated and will be removed in a future version. To read from a literal string, wrap it in a 'StringIO' object.\n",
      "  table = pd.read_html(tabla_new)\n",
      "C:\\Users\\LENOVO\\AppData\\Local\\Temp\\ipykernel_18504\\2797879098.py:40: FutureWarning: Passing literal html to 'read_html' is deprecated and will be removed in a future version. To read from a literal string, wrap it in a 'StringIO' object.\n",
      "  table = pd.read_html(tabla_new)\n",
      "C:\\Users\\LENOVO\\AppData\\Local\\Temp\\ipykernel_18504\\2797879098.py:40: FutureWarning: Passing literal html to 'read_html' is deprecated and will be removed in a future version. To read from a literal string, wrap it in a 'StringIO' object.\n",
      "  table = pd.read_html(tabla_new)\n",
      "C:\\Users\\LENOVO\\AppData\\Local\\Temp\\ipykernel_18504\\2797879098.py:40: FutureWarning: Passing literal html to 'read_html' is deprecated and will be removed in a future version. To read from a literal string, wrap it in a 'StringIO' object.\n",
      "  table = pd.read_html(tabla_new)\n",
      "C:\\Users\\LENOVO\\AppData\\Local\\Temp\\ipykernel_18504\\2797879098.py:40: FutureWarning: Passing literal html to 'read_html' is deprecated and will be removed in a future version. To read from a literal string, wrap it in a 'StringIO' object.\n",
      "  table = pd.read_html(tabla_new)\n",
      "C:\\Users\\LENOVO\\AppData\\Local\\Temp\\ipykernel_18504\\2797879098.py:40: FutureWarning: Passing literal html to 'read_html' is deprecated and will be removed in a future version. To read from a literal string, wrap it in a 'StringIO' object.\n",
      "  table = pd.read_html(tabla_new)\n"
     ]
    }
   ],
   "source": [
    "dataframes_list = []\n",
    "\n",
    "url = 'https://infogob.jne.gob.pe/Eleccion'\n",
    "\n",
    "for number in range(2,27):\n",
    "    driver.get(url)\n",
    "    dropdown = driver.find_element(By.XPATH,'/html/body/div[1]/section/div[2]/div[2]/div[2]/div[1]/div')\n",
    "    dropdown.click()\n",
    "    time.sleep(1)\n",
    "    \n",
    "    presidenciales = driver.find_element(By.XPATH,'/html/body/div[1]/section/div[2]/div[2]/div[2]/div[1]/div/div[2]/div[2]')\n",
    "    presidenciales.click()\n",
    "    time.sleep(1)\n",
    "\n",
    "    eleccion=driver.find_element(By.XPATH,'/html/body/div[1]/section/div[2]/div[2]/div[2]/div[2]/div')\n",
    "    eleccion.click()\n",
    "    time.sleep(1)\n",
    "\n",
    "    election_1 = driver.find_element(By.XPATH,'/html/body/div[1]/section/div[2]/div[2]/div[2]/div[2]/div/div[2]/div[{}]'.format(number))#de 2 a 26\n",
    "    election_1.click()\n",
    "    eleccion_name= election_1.text\n",
    "    time.sleep(1)\n",
    "\n",
    "    entrar = driver.find_element(By.XPATH,'/html/body/div[1]/section/div[2]/div[2]/div[3]/div/button')\n",
    "    entrar.click()\n",
    "    time.sleep(2)\n",
    "\n",
    "    resultado=driver.find_element(By.XPATH,'/html/body/div[1]/section/div[2]/div[3]/div[1]/ul/li[2]/a')\n",
    "    resultado.click()\n",
    "    time.sleep(1)\n",
    "\n",
    "    table_path=driver.find_element(By.ID,'gridEleccionResultadosElectorales')\n",
    "    table_html = table_path.get_attribute( 'innerHTML' )\n",
    "\n",
    "    #We create headers to group the information \n",
    "    #Add hmtl text, so there are no problems with the read.html\n",
    "    head=\"<table id=\\\"gridEleccionResultadosElectorales\\\" class=\\\"table table-hover table-striped\\\">\"\n",
    "    table_new = head + table_html[21:-1]\n",
    "    table_new\n",
    "    table = pd.read_html(tabla_new)\n",
    "    table_clean=table[ 0 ].iloc[ : , : ]\n",
    "    table_clean = table_clean.loc[:, ['ORGANIZACIÓN POLÍTICA', 'TOTAL VOTOS']]\n",
    "    table_clean.insert(0, 'Elecciones', eleccion_name)\n",
    "    dataframes_list.append(table_clean)"
   ]
  },
  {
   "cell_type": "code",
   "execution_count": 100,
   "metadata": {},
   "outputs": [
    {
     "data": {
      "text/html": [
       "<div>\n",
       "<style scoped>\n",
       "    .dataframe tbody tr th:only-of-type {\n",
       "        vertical-align: middle;\n",
       "    }\n",
       "\n",
       "    .dataframe tbody tr th {\n",
       "        vertical-align: top;\n",
       "    }\n",
       "\n",
       "    .dataframe thead th {\n",
       "        text-align: right;\n",
       "    }\n",
       "</style>\n",
       "<table border=\"1\" class=\"dataframe\">\n",
       "  <thead>\n",
       "    <tr style=\"text-align: right;\">\n",
       "      <th></th>\n",
       "      <th>Elecciones</th>\n",
       "      <th>ORGANIZACIÓN POLÍTICA</th>\n",
       "      <th>TOTAL VOTOS</th>\n",
       "    </tr>\n",
       "  </thead>\n",
       "  <tbody>\n",
       "    <tr>\n",
       "      <th>0</th>\n",
       "      <td></td>\n",
       "      <td>PARTIDO POLITICO NACIONAL PERU LIBRE</td>\n",
       "      <td>8836380</td>\n",
       "    </tr>\n",
       "    <tr>\n",
       "      <th>1</th>\n",
       "      <td></td>\n",
       "      <td>FUERZA POPULAR</td>\n",
       "      <td>8792117</td>\n",
       "    </tr>\n",
       "    <tr>\n",
       "      <th>2</th>\n",
       "      <td></td>\n",
       "      <td>VOTOS EN BLANCO</td>\n",
       "      <td>121489</td>\n",
       "    </tr>\n",
       "    <tr>\n",
       "      <th>3</th>\n",
       "      <td></td>\n",
       "      <td>VOTOS NULOS</td>\n",
       "      <td>1106816</td>\n",
       "    </tr>\n",
       "    <tr>\n",
       "      <th>4</th>\n",
       "      <td></td>\n",
       "      <td>PARTIDO POLITICO NACIONAL PERU LIBRE</td>\n",
       "      <td>2724752</td>\n",
       "    </tr>\n",
       "    <tr>\n",
       "      <th>...</th>\n",
       "      <td>...</td>\n",
       "      <td>...</td>\n",
       "      <td>...</td>\n",
       "    </tr>\n",
       "    <tr>\n",
       "      <th>152</th>\n",
       "      <td></td>\n",
       "      <td>PARTIDO REPUBLICANO</td>\n",
       "      <td>30803</td>\n",
       "    </tr>\n",
       "    <tr>\n",
       "      <th>153</th>\n",
       "      <td></td>\n",
       "      <td>UNION REVOLUCIONARIA</td>\n",
       "      <td>152149</td>\n",
       "    </tr>\n",
       "    <tr>\n",
       "      <th>154</th>\n",
       "      <td></td>\n",
       "      <td>PARTIDO APRISTA PERUANO</td>\n",
       "      <td>106088</td>\n",
       "    </tr>\n",
       "    <tr>\n",
       "      <th>155</th>\n",
       "      <td></td>\n",
       "      <td>PARTIDO DESCENTRALISTA</td>\n",
       "      <td>21950</td>\n",
       "    </tr>\n",
       "    <tr>\n",
       "      <th>156</th>\n",
       "      <td></td>\n",
       "      <td>PARTIDO COALICION NACIONAL</td>\n",
       "      <td>19640</td>\n",
       "    </tr>\n",
       "  </tbody>\n",
       "</table>\n",
       "<p>157 rows × 3 columns</p>\n",
       "</div>"
      ],
      "text/plain": [
       "    Elecciones                 ORGANIZACIÓN POLÍTICA  TOTAL VOTOS\n",
       "0               PARTIDO POLITICO NACIONAL PERU LIBRE      8836380\n",
       "1                                     FUERZA POPULAR      8792117\n",
       "2                                    VOTOS EN BLANCO       121489\n",
       "3                                        VOTOS NULOS      1106816\n",
       "4               PARTIDO POLITICO NACIONAL PERU LIBRE      2724752\n",
       "..         ...                                   ...          ...\n",
       "152                              PARTIDO REPUBLICANO        30803\n",
       "153                             UNION REVOLUCIONARIA       152149\n",
       "154                          PARTIDO APRISTA PERUANO       106088\n",
       "155                           PARTIDO DESCENTRALISTA        21950\n",
       "156                       PARTIDO COALICION NACIONAL        19640\n",
       "\n",
       "[157 rows x 3 columns]"
      ]
     },
     "execution_count": 100,
     "metadata": {},
     "output_type": "execute_result"
    }
   ],
   "source": [
    "#Transform the list of dataframes into a single dataframe\n",
    "    \n",
    "df_vote = pd.concat(dataframes_list, ignore_index=True)\n",
    "\n",
    "df_vote"
   ]
  },
  {
   "cell_type": "code",
   "execution_count": 102,
   "metadata": {},
   "outputs": [],
   "source": [
    "df_vote.to_excel( r'group_7_ass_5_2024_2.xlsx' , index = False )"
   ]
  }
 ],
 "metadata": {
  "hide_input": false,
  "kernelspec": {
   "display_name": "Python 3 (ipykernel)",
   "language": "python",
   "name": "python3"
  },
  "language_info": {
   "codemirror_mode": {
    "name": "ipython",
    "version": 3
   },
   "file_extension": ".py",
   "mimetype": "text/x-python",
   "name": "python",
   "nbconvert_exporter": "python",
   "pygments_lexer": "ipython3",
   "version": "3.11.5"
  },
  "toc": {
   "base_numbering": 1,
   "nav_menu": {},
   "number_sections": true,
   "sideBar": true,
   "skip_h1_title": false,
   "title_cell": "Table of Contents",
   "title_sidebar": "Contents",
   "toc_cell": false,
   "toc_position": {},
   "toc_section_display": true,
   "toc_window_display": false
  }
 },
 "nbformat": 4,
 "nbformat_minor": 4
}
