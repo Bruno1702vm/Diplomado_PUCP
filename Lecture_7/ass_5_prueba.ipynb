{
 "cells": [
  {
   "cell_type": "code",
   "execution_count": 1,
   "id": "14190f9a",
   "metadata": {},
   "outputs": [
    {
     "name": "stdout",
     "output_type": "stream",
     "text": [
      "Requirement already satisfied: lxml in c:\\users\\kchauca\\appdata\\local\\packages\\pythonsoftwarefoundation.python.3.11_qbz5n2kfra8p0\\localcache\\local-packages\\python311\\site-packages (5.3.0)\n",
      "Note: you may need to restart the kernel to use updated packages.\n"
     ]
    },
    {
     "name": "stderr",
     "output_type": "stream",
     "text": [
      "\n",
      "[notice] A new release of pip is available: 24.1.1 -> 24.2\n",
      "[notice] To update, run: C:\\Users\\kchauca\\AppData\\Local\\Microsoft\\WindowsApps\\PythonSoftwareFoundation.Python.3.11_qbz5n2kfra8p0\\python.exe -m pip install --upgrade pip\n"
     ]
    }
   ],
   "source": [
    "pip install lxml"
   ]
  },
  {
   "cell_type": "code",
   "execution_count": 2,
   "id": "32d13473",
   "metadata": {},
   "outputs": [
    {
     "name": "stdout",
     "output_type": "stream",
     "text": [
      "Requirement already satisfied: Unidecode in c:\\users\\kchauca\\appdata\\local\\packages\\pythonsoftwarefoundation.python.3.11_qbz5n2kfra8p0\\localcache\\local-packages\\python311\\site-packages (1.3.8)\n",
      "Note: you may need to restart the kernel to use updated packages.\n"
     ]
    },
    {
     "name": "stderr",
     "output_type": "stream",
     "text": [
      "\n",
      "[notice] A new release of pip is available: 24.1.1 -> 24.2\n",
      "[notice] To update, run: C:\\Users\\kchauca\\AppData\\Local\\Microsoft\\WindowsApps\\PythonSoftwareFoundation.Python.3.11_qbz5n2kfra8p0\\python.exe -m pip install --upgrade pip\n"
     ]
    }
   ],
   "source": [
    "pip install Unidecode"
   ]
  },
  {
   "cell_type": "code",
   "execution_count": 3,
   "id": "a4c6e15f",
   "metadata": {},
   "outputs": [],
   "source": [
    "import numpy as np\n",
    "import pandas as pd\n",
    "import matplotlib.pyplot as plt\n",
    "import os\n",
    "import glob\n",
    "import pyreadstat\n",
    "import json\n",
    "import datetime\n",
    "import dateutil.parser\n",
    "import unicodedata\n",
    "import time\n",
    "import re\n",
    "import requests\n",
    "import urllib.request, json, csv\n",
    "#from tqdm import tqdm_notebook as tqdm\n",
    "import requests\n",
    "#import chardet\n",
    "from selenium import webdriver\n",
    "from webdriver_manager.chrome import ChromeDriverManager"
   ]
  },
  {
   "cell_type": "code",
   "execution_count": 4,
   "id": "469067ae",
   "metadata": {},
   "outputs": [
    {
     "data": {
      "text/plain": [
       "<selenium.webdriver.chrome.webdriver.WebDriver (session=\"3ba351b4112799d5465748ef15bf08ae\")>"
      ]
     },
     "execution_count": 4,
     "metadata": {},
     "output_type": "execute_result"
    }
   ],
   "source": [
    "from selenium import webdriver\n",
    "from webdriver_manager.chrome import ChromeDriverManager\n",
    "# Initialize the Chrome WebDriver with ChromeDriverManager\n",
    "driver = webdriver.Chrome(service=webdriver.chrome.service.Service(ChromeDriverManager().install()))\n",
    "driver"
   ]
  },
  {
   "cell_type": "code",
   "execution_count": 5,
   "id": "6a931e10",
   "metadata": {},
   "outputs": [],
   "source": [
    "from selenium.webdriver.chrome.service import Service \n",
    "from selenium.webdriver.chrome.options import Options  \n",
    "from selenium.webdriver.common.by import By"
   ]
  },
  {
   "cell_type": "code",
   "execution_count": 2,
   "id": "c9b68dc3",
   "metadata": {},
   "outputs": [
    {
     "ename": "NoSuchWindowException",
     "evalue": "Message: no such window: target window already closed\nfrom unknown error: web view not found\n  (Session info: chrome=128.0.6613.85)\nStacktrace:\n\tGetHandleVerifier [0x00007FF72330B632+29090]\n\t(No symbol) [0x00007FF72327E6E9]\n\t(No symbol) [0x00007FF72313B1CA]\n\t(No symbol) [0x00007FF72310FAF5]\n\t(No symbol) [0x00007FF7231BE2E7]\n\t(No symbol) [0x00007FF7231D5EE1]\n\t(No symbol) [0x00007FF7231B6493]\n\t(No symbol) [0x00007FF7231809B1]\n\t(No symbol) [0x00007FF723181B11]\n\tGetHandleVerifier [0x00007FF72362881D+3294093]\n\tGetHandleVerifier [0x00007FF723674403+3604339]\n\tGetHandleVerifier [0x00007FF72366A2C7+3563063]\n\tGetHandleVerifier [0x00007FF7233C6F16+797318]\n\t(No symbol) [0x00007FF72328986F]\n\t(No symbol) [0x00007FF723285454]\n\t(No symbol) [0x00007FF7232855E0]\n\t(No symbol) [0x00007FF723274A7F]\n\tBaseThreadInitThunk [0x00007FFAAA60257D+29]\n\tRtlUserThreadStart [0x00007FFAAC74AF28+40]\n",
     "output_type": "error",
     "traceback": [
      "\u001b[1;31m---------------------------------------------------------------------------\u001b[0m",
      "\u001b[1;31mNoSuchWindowException\u001b[0m                     Traceback (most recent call last)",
      "Cell \u001b[1;32mIn[2], line 61\u001b[0m\n\u001b[0;32m     58\u001b[0m driver \u001b[38;5;241m=\u001b[39m webdriver\u001b[38;5;241m.\u001b[39mChrome()\n\u001b[0;32m     60\u001b[0m \u001b[38;5;66;03m# Get the option paths\u001b[39;00m\n\u001b[1;32m---> 61\u001b[0m paths \u001b[38;5;241m=\u001b[39m \u001b[43mget_option_paths\u001b[49m\u001b[43m(\u001b[49m\u001b[43mdriver\u001b[49m\u001b[43m)\u001b[49m\n\u001b[0;32m     63\u001b[0m \u001b[38;5;66;03m# Extract tables for each path and merge them\u001b[39;00m\n\u001b[0;32m     64\u001b[0m merged_df \u001b[38;5;241m=\u001b[39m pd\u001b[38;5;241m.\u001b[39mconcat([extract_table_from_path(driver, path) \u001b[38;5;28;01mfor\u001b[39;00m path \u001b[38;5;129;01min\u001b[39;00m paths], ignore_index\u001b[38;5;241m=\u001b[39m\u001b[38;5;28;01mTrue\u001b[39;00m)\n",
      "Cell \u001b[1;32mIn[2], line 21\u001b[0m, in \u001b[0;36mget_option_paths\u001b[1;34m(driver)\u001b[0m\n\u001b[0;32m     18\u001b[0m driver\u001b[38;5;241m.\u001b[39mget(\u001b[38;5;124m\"\u001b[39m\u001b[38;5;124mhttps://infogob.jne.gob.pe/Eleccion\u001b[39m\u001b[38;5;124m\"\u001b[39m)\n\u001b[0;32m     20\u001b[0m \u001b[38;5;66;03m# Find the menu select element\u001b[39;00m\n\u001b[1;32m---> 21\u001b[0m menu_select \u001b[38;5;241m=\u001b[39m \u001b[43mWebDriverWait\u001b[49m\u001b[43m(\u001b[49m\u001b[43mdriver\u001b[49m\u001b[43m,\u001b[49m\u001b[43m \u001b[49m\u001b[38;5;241;43m10\u001b[39;49m\u001b[43m)\u001b[49m\u001b[38;5;241;43m.\u001b[39;49m\u001b[43muntil\u001b[49m\u001b[43m(\u001b[49m\n\u001b[0;32m     22\u001b[0m \u001b[43m    \u001b[49m\u001b[43mEC\u001b[49m\u001b[38;5;241;43m.\u001b[39;49m\u001b[43mpresence_of_element_located\u001b[49m\u001b[43m(\u001b[49m\u001b[43m(\u001b[49m\u001b[43mBy\u001b[49m\u001b[38;5;241;43m.\u001b[39;49m\u001b[43mID\u001b[49m\u001b[43m,\u001b[49m\u001b[43m \u001b[49m\u001b[38;5;124;43m\"\u001b[39;49m\u001b[38;5;124;43mprocess_electoral_id\u001b[39;49m\u001b[38;5;124;43m\"\u001b[39;49m\u001b[43m)\u001b[49m\u001b[43m)\u001b[49m\u001b[43m  \u001b[49m\u001b[38;5;66;43;03m# Replace with the actual ID\u001b[39;49;00m\n\u001b[0;32m     23\u001b[0m \u001b[43m\u001b[49m\u001b[43m)\u001b[49m\n\u001b[0;32m     25\u001b[0m \u001b[38;5;66;03m# Extract option values\u001b[39;00m\n\u001b[0;32m     26\u001b[0m option_values \u001b[38;5;241m=\u001b[39m [option\u001b[38;5;241m.\u001b[39mget_attribute(\u001b[38;5;124m'\u001b[39m\u001b[38;5;124mvalue\u001b[39m\u001b[38;5;124m'\u001b[39m) \u001b[38;5;28;01mfor\u001b[39;00m option \u001b[38;5;129;01min\u001b[39;00m menu_select\u001b[38;5;241m.\u001b[39mfind_elements(By\u001b[38;5;241m.\u001b[39mTAG_NAME, \u001b[38;5;124m\"\u001b[39m\u001b[38;5;124moption\u001b[39m\u001b[38;5;124m\"\u001b[39m)]\n",
      "File \u001b[1;32m~\\AppData\\Local\\Packages\\PythonSoftwareFoundation.Python.3.11_qbz5n2kfra8p0\\LocalCache\\local-packages\\Python311\\site-packages\\selenium\\webdriver\\support\\wait.py:96\u001b[0m, in \u001b[0;36mWebDriverWait.until\u001b[1;34m(self, method, message)\u001b[0m\n\u001b[0;32m     94\u001b[0m \u001b[38;5;28;01mwhile\u001b[39;00m \u001b[38;5;28;01mTrue\u001b[39;00m:\n\u001b[0;32m     95\u001b[0m     \u001b[38;5;28;01mtry\u001b[39;00m:\n\u001b[1;32m---> 96\u001b[0m         value \u001b[38;5;241m=\u001b[39m \u001b[43mmethod\u001b[49m\u001b[43m(\u001b[49m\u001b[38;5;28;43mself\u001b[39;49m\u001b[38;5;241;43m.\u001b[39;49m\u001b[43m_driver\u001b[49m\u001b[43m)\u001b[49m\n\u001b[0;32m     97\u001b[0m         \u001b[38;5;28;01mif\u001b[39;00m value:\n\u001b[0;32m     98\u001b[0m             \u001b[38;5;28;01mreturn\u001b[39;00m value\n",
      "File \u001b[1;32m~\\AppData\\Local\\Packages\\PythonSoftwareFoundation.Python.3.11_qbz5n2kfra8p0\\LocalCache\\local-packages\\Python311\\site-packages\\selenium\\webdriver\\support\\expected_conditions.py:84\u001b[0m, in \u001b[0;36mpresence_of_element_located.<locals>._predicate\u001b[1;34m(driver)\u001b[0m\n\u001b[0;32m     83\u001b[0m \u001b[38;5;28;01mdef\u001b[39;00m \u001b[38;5;21m_predicate\u001b[39m(driver: WebDriverOrWebElement):\n\u001b[1;32m---> 84\u001b[0m     \u001b[38;5;28;01mreturn\u001b[39;00m \u001b[43mdriver\u001b[49m\u001b[38;5;241;43m.\u001b[39;49m\u001b[43mfind_element\u001b[49m\u001b[43m(\u001b[49m\u001b[38;5;241;43m*\u001b[39;49m\u001b[43mlocator\u001b[49m\u001b[43m)\u001b[49m\n",
      "File \u001b[1;32m~\\AppData\\Local\\Packages\\PythonSoftwareFoundation.Python.3.11_qbz5n2kfra8p0\\LocalCache\\local-packages\\Python311\\site-packages\\selenium\\webdriver\\remote\\webdriver.py:748\u001b[0m, in \u001b[0;36mWebDriver.find_element\u001b[1;34m(self, by, value)\u001b[0m\n\u001b[0;32m    745\u001b[0m     by \u001b[38;5;241m=\u001b[39m By\u001b[38;5;241m.\u001b[39mCSS_SELECTOR\n\u001b[0;32m    746\u001b[0m     value \u001b[38;5;241m=\u001b[39m \u001b[38;5;124mf\u001b[39m\u001b[38;5;124m'\u001b[39m\u001b[38;5;124m[name=\u001b[39m\u001b[38;5;124m\"\u001b[39m\u001b[38;5;132;01m{\u001b[39;00mvalue\u001b[38;5;132;01m}\u001b[39;00m\u001b[38;5;124m\"\u001b[39m\u001b[38;5;124m]\u001b[39m\u001b[38;5;124m'\u001b[39m\n\u001b[1;32m--> 748\u001b[0m \u001b[38;5;28;01mreturn\u001b[39;00m \u001b[38;5;28;43mself\u001b[39;49m\u001b[38;5;241;43m.\u001b[39;49m\u001b[43mexecute\u001b[49m\u001b[43m(\u001b[49m\u001b[43mCommand\u001b[49m\u001b[38;5;241;43m.\u001b[39;49m\u001b[43mFIND_ELEMENT\u001b[49m\u001b[43m,\u001b[49m\u001b[43m \u001b[49m\u001b[43m{\u001b[49m\u001b[38;5;124;43m\"\u001b[39;49m\u001b[38;5;124;43musing\u001b[39;49m\u001b[38;5;124;43m\"\u001b[39;49m\u001b[43m:\u001b[49m\u001b[43m \u001b[49m\u001b[43mby\u001b[49m\u001b[43m,\u001b[49m\u001b[43m \u001b[49m\u001b[38;5;124;43m\"\u001b[39;49m\u001b[38;5;124;43mvalue\u001b[39;49m\u001b[38;5;124;43m\"\u001b[39;49m\u001b[43m:\u001b[49m\u001b[43m \u001b[49m\u001b[43mvalue\u001b[49m\u001b[43m}\u001b[49m\u001b[43m)\u001b[49m[\u001b[38;5;124m\"\u001b[39m\u001b[38;5;124mvalue\u001b[39m\u001b[38;5;124m\"\u001b[39m]\n",
      "File \u001b[1;32m~\\AppData\\Local\\Packages\\PythonSoftwareFoundation.Python.3.11_qbz5n2kfra8p0\\LocalCache\\local-packages\\Python311\\site-packages\\selenium\\webdriver\\remote\\webdriver.py:354\u001b[0m, in \u001b[0;36mWebDriver.execute\u001b[1;34m(self, driver_command, params)\u001b[0m\n\u001b[0;32m    352\u001b[0m response \u001b[38;5;241m=\u001b[39m \u001b[38;5;28mself\u001b[39m\u001b[38;5;241m.\u001b[39mcommand_executor\u001b[38;5;241m.\u001b[39mexecute(driver_command, params)\n\u001b[0;32m    353\u001b[0m \u001b[38;5;28;01mif\u001b[39;00m response:\n\u001b[1;32m--> 354\u001b[0m     \u001b[38;5;28;43mself\u001b[39;49m\u001b[38;5;241;43m.\u001b[39;49m\u001b[43merror_handler\u001b[49m\u001b[38;5;241;43m.\u001b[39;49m\u001b[43mcheck_response\u001b[49m\u001b[43m(\u001b[49m\u001b[43mresponse\u001b[49m\u001b[43m)\u001b[49m\n\u001b[0;32m    355\u001b[0m     response[\u001b[38;5;124m\"\u001b[39m\u001b[38;5;124mvalue\u001b[39m\u001b[38;5;124m\"\u001b[39m] \u001b[38;5;241m=\u001b[39m \u001b[38;5;28mself\u001b[39m\u001b[38;5;241m.\u001b[39m_unwrap_value(response\u001b[38;5;241m.\u001b[39mget(\u001b[38;5;124m\"\u001b[39m\u001b[38;5;124mvalue\u001b[39m\u001b[38;5;124m\"\u001b[39m, \u001b[38;5;28;01mNone\u001b[39;00m))\n\u001b[0;32m    356\u001b[0m     \u001b[38;5;28;01mreturn\u001b[39;00m response\n",
      "File \u001b[1;32m~\\AppData\\Local\\Packages\\PythonSoftwareFoundation.Python.3.11_qbz5n2kfra8p0\\LocalCache\\local-packages\\Python311\\site-packages\\selenium\\webdriver\\remote\\errorhandler.py:229\u001b[0m, in \u001b[0;36mErrorHandler.check_response\u001b[1;34m(self, response)\u001b[0m\n\u001b[0;32m    227\u001b[0m         alert_text \u001b[38;5;241m=\u001b[39m value[\u001b[38;5;124m\"\u001b[39m\u001b[38;5;124malert\u001b[39m\u001b[38;5;124m\"\u001b[39m]\u001b[38;5;241m.\u001b[39mget(\u001b[38;5;124m\"\u001b[39m\u001b[38;5;124mtext\u001b[39m\u001b[38;5;124m\"\u001b[39m)\n\u001b[0;32m    228\u001b[0m     \u001b[38;5;28;01mraise\u001b[39;00m exception_class(message, screen, stacktrace, alert_text)  \u001b[38;5;66;03m# type: ignore[call-arg]  # mypy is not smart enough here\u001b[39;00m\n\u001b[1;32m--> 229\u001b[0m \u001b[38;5;28;01mraise\u001b[39;00m exception_class(message, screen, stacktrace)\n",
      "\u001b[1;31mNoSuchWindowException\u001b[0m: Message: no such window: target window already closed\nfrom unknown error: web view not found\n  (Session info: chrome=128.0.6613.85)\nStacktrace:\n\tGetHandleVerifier [0x00007FF72330B632+29090]\n\t(No symbol) [0x00007FF72327E6E9]\n\t(No symbol) [0x00007FF72313B1CA]\n\t(No symbol) [0x00007FF72310FAF5]\n\t(No symbol) [0x00007FF7231BE2E7]\n\t(No symbol) [0x00007FF7231D5EE1]\n\t(No symbol) [0x00007FF7231B6493]\n\t(No symbol) [0x00007FF7231809B1]\n\t(No symbol) [0x00007FF723181B11]\n\tGetHandleVerifier [0x00007FF72362881D+3294093]\n\tGetHandleVerifier [0x00007FF723674403+3604339]\n\tGetHandleVerifier [0x00007FF72366A2C7+3563063]\n\tGetHandleVerifier [0x00007FF7233C6F16+797318]\n\t(No symbol) [0x00007FF72328986F]\n\t(No symbol) [0x00007FF723285454]\n\t(No symbol) [0x00007FF7232855E0]\n\t(No symbol) [0x00007FF723274A7F]\n\tBaseThreadInitThunk [0x00007FFAAA60257D+29]\n\tRtlUserThreadStart [0x00007FFAAC74AF28+40]\n"
     ]
    }
   ],
   "source": [
    "from selenium import webdriver\n",
    "from selenium.webdriver.common.by import By\n",
    "from selenium.webdriver.support.ui import WebDriverWait\n",
    "from selenium.webdriver.support import expected_conditions as EC\n",
    "import pandas as pd\n",
    "\n",
    "def get_option_paths(driver):\n",
    "    \"\"\"Gets the paths for each option in the menu.\n",
    "\n",
    "    Args:\n",
    "        driver (webdriver.WebDriver): The Selenium WebDriver instance.\n",
    "\n",
    "    Returns:\n",
    "        list: A list of paths for each option.\n",
    "    \"\"\"\n",
    "\n",
    "    # Navigate to the Infogob website\n",
    "    driver.get(\"https://infogob.jne.gob.pe/Eleccion\")\n",
    "\n",
    "    # Find the menu select element\n",
    "    menu_select = WebDriverWait(driver, 10).until(\n",
    "        EC.presence_of_element_located((By.ID, \"process_electoral_id\"))  # Replace with the actual ID\n",
    "    )\n",
    "\n",
    "    # Extract option values\n",
    "    option_values = [option.get_attribute('value') for option in menu_select.find_elements(By.TAG_NAME, \"option\")]\n",
    "\n",
    "    return option_values\n",
    "\n",
    "def extract_table_from_path(driver, path):\n",
    "    \"\"\"Extracts the table from the specified path.\n",
    "\n",
    "    Args:\n",
    "        driver (webdriver.WebDriver): The Selenium WebDriver instance.\n",
    "        path (str): The path to navigate to.\n",
    "\n",
    "    Returns:\n",
    "        pandas.DataFrame: The extracted table as a DataFrame.\n",
    "    \"\"\"\n",
    "\n",
    "    # Navigate to the specified path\n",
    "    driver.get(path)\n",
    "\n",
    "    # Find the table within the \"Candidatos y Resultados\" menu\n",
    "    table = WebDriverWait(driver, 10).until(\n",
    "        EC.presence_of_element_located((By.ID, \"candidatos-y-resultados-table\"))\n",
    "    )\n",
    "\n",
    "    # Extract table data into a list of lists\n",
    "    data = [[td.text for td in tr.find_elements(By.TAG_NAME, \"td\")] for tr in table.find_elements(By.TAG_NAME, \"tr\")]\n",
    "\n",
    "    # Create a pandas DataFrame\n",
    "    df = pd.DataFrame(data[1:], columns=data[0])\n",
    "\n",
    "    return df\n",
    "\n",
    "# Initialize the WebDriver (replace 'chromedriver' with the path to your ChromeDriver)\n",
    "driver = webdriver.Chrome()\n",
    "\n",
    "# Get the option paths\n",
    "paths = get_option_paths(driver)\n",
    "\n",
    "# Extract tables for each path and merge them\n",
    "merged_df = pd.concat([extract_table_from_path(driver, path) for path in paths], ignore_index=True)\n",
    "\n",
    "# Save the merged DataFrame to an Excel file\n",
    "merged_df.to_excel(\"merged_tables.xlsx\", index=False)\n",
    "\n",
    "# Quit the WebDriver\n",
    "driver.quit()"
   ]
  },
  {
   "cell_type": "code",
   "execution_count": 7,
   "id": "8b88c491",
   "metadata": {},
   "outputs": [
    {
     "name": "stderr",
     "output_type": "stream",
     "text": [
      "C:\\Users\\kchauca\\AppData\\Local\\Temp\\ipykernel_9996\\2700866865.py:35: FutureWarning: Passing literal html to 'read_html' is deprecated and will be removed in a future version. To read from a literal string, wrap it in a 'StringIO' object.\n",
      "  table1 = pd.read_html(table1_html)\n"
     ]
    },
    {
     "ename": "NoSuchElementException",
     "evalue": "Message: no such element: Unable to locate element: {\"method\":\"xpath\",\"selector\":\"/html/body/div[1]/section/div[2]/div[3]/div[3]/div/div/div/div[1]/div[2]/div[2]/div[2]/table\"}\n  (Session info: chrome=128.0.6613.85); For documentation on this error, please visit: https://www.selenium.dev/documentation/webdriver/troubleshooting/errors#no-such-element-exception\nStacktrace:\n\tGetHandleVerifier [0x00E881F3+26163]\n\t(No symbol) [0x00E19CA4]\n\t(No symbol) [0x00D124C3]\n\t(No symbol) [0x00D57453]\n\t(No symbol) [0x00D5762B]\n\t(No symbol) [0x00D96B62]\n\t(No symbol) [0x00D7AD04]\n\t(No symbol) [0x00D94661]\n\t(No symbol) [0x00D7AA56]\n\t(No symbol) [0x00D4BE89]\n\t(No symbol) [0x00D4C8CD]\n\tGetHandleVerifier [0x0115CED3+2994963]\n\tGetHandleVerifier [0x011B1749+3341193]\n\tGetHandleVerifier [0x00F17ACF+614159]\n\tGetHandleVerifier [0x00F1F15C+644508]\n\t(No symbol) [0x00E227DD]\n\t(No symbol) [0x00E1F6D8]\n\t(No symbol) [0x00E1F875]\n\t(No symbol) [0x00E11BF6]\n\tBaseThreadInitThunk [0x76437BA9+25]\n\tRtlInitializeExceptionChain [0x76EDC10B+107]\n\tRtlClearBits [0x76EDC08F+191]\n",
     "output_type": "error",
     "traceback": [
      "\u001b[1;31m---------------------------------------------------------------------------\u001b[0m",
      "\u001b[1;31mNoSuchElementException\u001b[0m                    Traceback (most recent call last)",
      "Cell \u001b[1;32mIn[7], line 33\u001b[0m\n\u001b[0;32m     30\u001b[0m driver\u001b[38;5;241m.\u001b[39mmaximize_window()\n\u001b[0;32m     32\u001b[0m \u001b[38;5;66;03m# Locate and extract the table\u001b[39;00m\n\u001b[1;32m---> 33\u001b[0m table_1 \u001b[38;5;241m=\u001b[39m \u001b[43mdriver\u001b[49m\u001b[38;5;241;43m.\u001b[39;49m\u001b[43mfind_element\u001b[49m\u001b[43m(\u001b[49m\u001b[43mBy\u001b[49m\u001b[38;5;241;43m.\u001b[39;49m\u001b[43mXPATH\u001b[49m\u001b[43m,\u001b[49m\u001b[43m \u001b[49m\u001b[38;5;124;43m'\u001b[39;49m\u001b[38;5;124;43m/html/body/div[1]/section/div[2]/div[3]/div[3]/div/div/div/div[1]/div[2]/div[2]/div[2]/table\u001b[39;49m\u001b[38;5;124;43m'\u001b[39;49m\u001b[43m)\u001b[49m\n\u001b[0;32m     34\u001b[0m table1_html \u001b[38;5;241m=\u001b[39m table_1\u001b[38;5;241m.\u001b[39mget_attribute(\u001b[38;5;124m\"\u001b[39m\u001b[38;5;124mouterHTML\u001b[39m\u001b[38;5;124m\"\u001b[39m)\n\u001b[0;32m     35\u001b[0m table1 \u001b[38;5;241m=\u001b[39m pd\u001b[38;5;241m.\u001b[39mread_html(table1_html)\n",
      "File \u001b[1;32m~\\AppData\\Local\\Packages\\PythonSoftwareFoundation.Python.3.11_qbz5n2kfra8p0\\LocalCache\\local-packages\\Python311\\site-packages\\selenium\\webdriver\\remote\\webdriver.py:748\u001b[0m, in \u001b[0;36mWebDriver.find_element\u001b[1;34m(self, by, value)\u001b[0m\n\u001b[0;32m    745\u001b[0m     by \u001b[38;5;241m=\u001b[39m By\u001b[38;5;241m.\u001b[39mCSS_SELECTOR\n\u001b[0;32m    746\u001b[0m     value \u001b[38;5;241m=\u001b[39m \u001b[38;5;124mf\u001b[39m\u001b[38;5;124m'\u001b[39m\u001b[38;5;124m[name=\u001b[39m\u001b[38;5;124m\"\u001b[39m\u001b[38;5;132;01m{\u001b[39;00mvalue\u001b[38;5;132;01m}\u001b[39;00m\u001b[38;5;124m\"\u001b[39m\u001b[38;5;124m]\u001b[39m\u001b[38;5;124m'\u001b[39m\n\u001b[1;32m--> 748\u001b[0m \u001b[38;5;28;01mreturn\u001b[39;00m \u001b[38;5;28;43mself\u001b[39;49m\u001b[38;5;241;43m.\u001b[39;49m\u001b[43mexecute\u001b[49m\u001b[43m(\u001b[49m\u001b[43mCommand\u001b[49m\u001b[38;5;241;43m.\u001b[39;49m\u001b[43mFIND_ELEMENT\u001b[49m\u001b[43m,\u001b[49m\u001b[43m \u001b[49m\u001b[43m{\u001b[49m\u001b[38;5;124;43m\"\u001b[39;49m\u001b[38;5;124;43musing\u001b[39;49m\u001b[38;5;124;43m\"\u001b[39;49m\u001b[43m:\u001b[49m\u001b[43m \u001b[49m\u001b[43mby\u001b[49m\u001b[43m,\u001b[49m\u001b[43m \u001b[49m\u001b[38;5;124;43m\"\u001b[39;49m\u001b[38;5;124;43mvalue\u001b[39;49m\u001b[38;5;124;43m\"\u001b[39;49m\u001b[43m:\u001b[49m\u001b[43m \u001b[49m\u001b[43mvalue\u001b[49m\u001b[43m}\u001b[49m\u001b[43m)\u001b[49m[\u001b[38;5;124m\"\u001b[39m\u001b[38;5;124mvalue\u001b[39m\u001b[38;5;124m\"\u001b[39m]\n",
      "File \u001b[1;32m~\\AppData\\Local\\Packages\\PythonSoftwareFoundation.Python.3.11_qbz5n2kfra8p0\\LocalCache\\local-packages\\Python311\\site-packages\\selenium\\webdriver\\remote\\webdriver.py:354\u001b[0m, in \u001b[0;36mWebDriver.execute\u001b[1;34m(self, driver_command, params)\u001b[0m\n\u001b[0;32m    352\u001b[0m response \u001b[38;5;241m=\u001b[39m \u001b[38;5;28mself\u001b[39m\u001b[38;5;241m.\u001b[39mcommand_executor\u001b[38;5;241m.\u001b[39mexecute(driver_command, params)\n\u001b[0;32m    353\u001b[0m \u001b[38;5;28;01mif\u001b[39;00m response:\n\u001b[1;32m--> 354\u001b[0m     \u001b[38;5;28;43mself\u001b[39;49m\u001b[38;5;241;43m.\u001b[39;49m\u001b[43merror_handler\u001b[49m\u001b[38;5;241;43m.\u001b[39;49m\u001b[43mcheck_response\u001b[49m\u001b[43m(\u001b[49m\u001b[43mresponse\u001b[49m\u001b[43m)\u001b[49m\n\u001b[0;32m    355\u001b[0m     response[\u001b[38;5;124m\"\u001b[39m\u001b[38;5;124mvalue\u001b[39m\u001b[38;5;124m\"\u001b[39m] \u001b[38;5;241m=\u001b[39m \u001b[38;5;28mself\u001b[39m\u001b[38;5;241m.\u001b[39m_unwrap_value(response\u001b[38;5;241m.\u001b[39mget(\u001b[38;5;124m\"\u001b[39m\u001b[38;5;124mvalue\u001b[39m\u001b[38;5;124m\"\u001b[39m, \u001b[38;5;28;01mNone\u001b[39;00m))\n\u001b[0;32m    356\u001b[0m     \u001b[38;5;28;01mreturn\u001b[39;00m response\n",
      "File \u001b[1;32m~\\AppData\\Local\\Packages\\PythonSoftwareFoundation.Python.3.11_qbz5n2kfra8p0\\LocalCache\\local-packages\\Python311\\site-packages\\selenium\\webdriver\\remote\\errorhandler.py:229\u001b[0m, in \u001b[0;36mErrorHandler.check_response\u001b[1;34m(self, response)\u001b[0m\n\u001b[0;32m    227\u001b[0m         alert_text \u001b[38;5;241m=\u001b[39m value[\u001b[38;5;124m\"\u001b[39m\u001b[38;5;124malert\u001b[39m\u001b[38;5;124m\"\u001b[39m]\u001b[38;5;241m.\u001b[39mget(\u001b[38;5;124m\"\u001b[39m\u001b[38;5;124mtext\u001b[39m\u001b[38;5;124m\"\u001b[39m)\n\u001b[0;32m    228\u001b[0m     \u001b[38;5;28;01mraise\u001b[39;00m exception_class(message, screen, stacktrace, alert_text)  \u001b[38;5;66;03m# type: ignore[call-arg]  # mypy is not smart enough here\u001b[39;00m\n\u001b[1;32m--> 229\u001b[0m \u001b[38;5;28;01mraise\u001b[39;00m exception_class(message, screen, stacktrace)\n",
      "\u001b[1;31mNoSuchElementException\u001b[0m: Message: no such element: Unable to locate element: {\"method\":\"xpath\",\"selector\":\"/html/body/div[1]/section/div[2]/div[3]/div[3]/div/div/div/div[1]/div[2]/div[2]/div[2]/table\"}\n  (Session info: chrome=128.0.6613.85); For documentation on this error, please visit: https://www.selenium.dev/documentation/webdriver/troubleshooting/errors#no-such-element-exception\nStacktrace:\n\tGetHandleVerifier [0x00E881F3+26163]\n\t(No symbol) [0x00E19CA4]\n\t(No symbol) [0x00D124C3]\n\t(No symbol) [0x00D57453]\n\t(No symbol) [0x00D5762B]\n\t(No symbol) [0x00D96B62]\n\t(No symbol) [0x00D7AD04]\n\t(No symbol) [0x00D94661]\n\t(No symbol) [0x00D7AA56]\n\t(No symbol) [0x00D4BE89]\n\t(No symbol) [0x00D4C8CD]\n\tGetHandleVerifier [0x0115CED3+2994963]\n\tGetHandleVerifier [0x011B1749+3341193]\n\tGetHandleVerifier [0x00F17ACF+614159]\n\tGetHandleVerifier [0x00F1F15C+644508]\n\t(No symbol) [0x00E227DD]\n\t(No symbol) [0x00E1F6D8]\n\t(No symbol) [0x00E1F875]\n\t(No symbol) [0x00E11BF6]\n\tBaseThreadInitThunk [0x76437BA9+25]\n\tRtlInitializeExceptionChain [0x76EDC10B+107]\n\tRtlClearBits [0x76EDC08F+191]\n"
     ]
    }
   ],
   "source": [
    "from selenium import webdriver\n",
    "from selenium.webdriver.chrome.service import Service\n",
    "from selenium.webdriver.common.by import By\n",
    "from selenium.webdriver.chrome.options import Options\n",
    "from webdriver_manager.chrome import ChromeDriverManager\n",
    "from selenium.webdriver.support.ui import WebDriverWait\n",
    "import pandas as pd\n",
    "import time\n",
    "\n",
    "# Define the dictionary of URLs\n",
    "urls={\n",
    "    \"PRESIDENCIAL 1990 - SEGUNDA VUELTA\":'https://infogob.jne.gob.pe/Eleccion/FichaEleccion/segunda-vuelta-de-la-elecci%C3%B3n-presidencial-1990-presidencial_candidatos-y-resultados_E1U9NQHS0Xs=UQ',\n",
    "    \"PRESIDENCIAL 1990\":'https://infogob.jne.gob.pe/Eleccion/FichaEleccion/elecciones-generales-1990-presidencial_candidatos-y-resultados_gsg4hnUOpdQ=gn',\n",
    "    \"PRESIDENCIAL 1985\":'https://infogob.jne.gob.pe/Eleccion/FichaEleccion/elecciones-generales-1985-presidencial_candidatos-y-resultados_7Ssnc+xPt@s=s+',\n",
    "    \"PRESIDENCIAL 1980\":'https://infogob.jne.gob.pe/Eleccion/FichaEleccion/elecciones-generales-1980-presidencial_candidatos-y-resultados_lChObgWsPqI=hg',\n",
    "    \"PRESIDENCIAL 1963\":'https://infogob.jne.gob.pe/Eleccion/FichaEleccion/elecciones-generales-1963-presidencial_candidatos-y-resultados_rqThaZb@DOg=TZ',\n",
    "    \"PRESIDENCIAL 1962\":'https://infogob.jne.gob.pe/Eleccion/FichaEleccion/elecciones-generales-1962-presidencial_candidatos-y-resultados_rWwQzpPNurI=wp'\n",
    "}\n",
    "\n",
    "# Initialize the WebDriver (e.g., Chrome)\n",
    "\n",
    "options = Options()\n",
    "\n",
    "driver = webdriver.Chrome(service=Service(ChromeDriverManager().install()), options=options)\n",
    "\n",
    "all_dfs = []\n",
    "\n",
    "# Iterate over the dictionary\n",
    "for election_name, url in urls.items():\n",
    "    driver.get(url)\n",
    "    driver.maximize_window()\n",
    "\n",
    "    # Locate and extract the table\n",
    "    wait = WebDriverWait(driver, 10)\n",
    "    table_1 = driver.find_element(By.XPATH, '/html/body/div[1]/section/div[2]/div[3]/div[3]/div/div/div/div[1]/div[2]/div[2]/div[2]/table')\n",
    "    table1_html = table_1.get_attribute(\"outerHTML\")\n",
    "    table1 = pd.read_html(table1_html)\n",
    "    \n",
    "    # Convert to DataFrame\n",
    "    df1 = table1[0]\n",
    "    \n",
    "    # Drop unnecessary columns\n",
    "    columns_to_drop = [\"SÍMBOLO\", \"PLAN DE GOBIERNO\", \"PORCENTAJE DE VOTOS VÁLIDOS\", \"LISTA DE CANDIDATOS\"]\n",
    "    df1 = df1.drop(columns=[col for col in columns_to_drop if col in df1.columns])\n",
    "\n",
    "\n",
    "    # Add the election name to the DataFrame\n",
    "    df1['ELECCIÓN'] = election_name\n",
    "    \n",
    "    # Reorder columns\n",
    "    new_order1 = ['ELECCIÓN', 'ORGANIZACIÓN POLÍTICA', 'TOTAL VOTOS']\n",
    "    df1 = df1[new_order1]\n",
    "    \n",
    "    # Append to the list of DataFrames\n",
    "    all_dfs.append(df1)\n",
    "\n",
    "# Combine all DataFrames into a single DataFrame\n",
    "combined_df = pd.concat(all_dfs, ignore_index=True)\n",
    "\n",
    "# Print the combined DataFrame\n",
    "print(combined_df)\n",
    "\n",
    "# Close the WebDriver\n",
    "driver.quit()\n"
   ]
  },
  {
   "cell_type": "code",
   "execution_count": 57,
   "id": "088edddc",
   "metadata": {},
   "outputs": [],
   "source": [
    "#url = 'https://infogob.jne.gob.pe/Eleccion/FichaEleccion/segunda-vuelta-de-elecci%C3%B3n-presidencial-2021-presidencial_candidatos-y-resultados_89S3sk+pJI0=Sk'\n",
    "url ='https://infogob.jne.gob.pe/Eleccion/FichaEleccion/segunda-vuelta-de-elecci%C3%B3n-presidencial-2016-presidencial_candidatos-y-resultados_7p675u8oH7Q=6u'\n",
    "driver.get(url)\n",
    "driver.maximize_window()"
   ]
  },
  {
   "cell_type": "code",
   "execution_count": 39,
   "id": "c9c88332",
   "metadata": {},
   "outputs": [
    {
     "name": "stderr",
     "output_type": "stream",
     "text": [
      "C:\\Users\\kchauca\\AppData\\Local\\Temp\\ipykernel_31852\\1524047870.py:4: FutureWarning: Passing literal html to 'read_html' is deprecated and will be removed in a future version. To read from a literal string, wrap it in a 'StringIO' object.\n",
      "  table1= pd.read_html(table1_html)\n"
     ]
    },
    {
     "data": {
      "text/html": [
       "<div>\n",
       "<style scoped>\n",
       "    .dataframe tbody tr th:only-of-type {\n",
       "        vertical-align: middle;\n",
       "    }\n",
       "\n",
       "    .dataframe tbody tr th {\n",
       "        vertical-align: top;\n",
       "    }\n",
       "\n",
       "    .dataframe thead th {\n",
       "        text-align: right;\n",
       "    }\n",
       "</style>\n",
       "<table border=\"1\" class=\"dataframe\">\n",
       "  <thead>\n",
       "    <tr style=\"text-align: right;\">\n",
       "      <th></th>\n",
       "      <th>ORGANIZACIÓN POLÍTICA</th>\n",
       "      <th>SÍMBOLO</th>\n",
       "      <th>PLAN DE GOBIERNO</th>\n",
       "      <th>TOTAL VOTOS</th>\n",
       "      <th>PORCENTAJE DE VOTOS VÁLIDOS</th>\n",
       "      <th>LISTA DE CANDIDATOS</th>\n",
       "    </tr>\n",
       "  </thead>\n",
       "  <tbody>\n",
       "    <tr>\n",
       "      <th>0</th>\n",
       "      <td>PARTIDO POLITICO NACIONAL PERU LIBRE</td>\n",
       "      <td>NaN</td>\n",
       "      <td>NaN</td>\n",
       "      <td>8836380</td>\n",
       "      <td>50.126%</td>\n",
       "      <td>VER LISTA</td>\n",
       "    </tr>\n",
       "    <tr>\n",
       "      <th>1</th>\n",
       "      <td>FUERZA POPULAR</td>\n",
       "      <td>NaN</td>\n",
       "      <td>NaN</td>\n",
       "      <td>8792117</td>\n",
       "      <td>49.874%</td>\n",
       "      <td>VER LISTA</td>\n",
       "    </tr>\n",
       "    <tr>\n",
       "      <th>2</th>\n",
       "      <td>VOTOS EN BLANCO</td>\n",
       "      <td>NaN</td>\n",
       "      <td>NaN</td>\n",
       "      <td>121489</td>\n",
       "      <td>NaN</td>\n",
       "      <td>NaN</td>\n",
       "    </tr>\n",
       "    <tr>\n",
       "      <th>3</th>\n",
       "      <td>VOTOS NULOS</td>\n",
       "      <td>NaN</td>\n",
       "      <td>NaN</td>\n",
       "      <td>1106816</td>\n",
       "      <td>NaN</td>\n",
       "      <td>NaN</td>\n",
       "    </tr>\n",
       "  </tbody>\n",
       "</table>\n",
       "</div>"
      ],
      "text/plain": [
       "                  ORGANIZACIÓN POLÍTICA  SÍMBOLO  PLAN DE GOBIERNO  \\\n",
       "0  PARTIDO POLITICO NACIONAL PERU LIBRE      NaN               NaN   \n",
       "1                        FUERZA POPULAR      NaN               NaN   \n",
       "2                       VOTOS EN BLANCO      NaN               NaN   \n",
       "3                           VOTOS NULOS      NaN               NaN   \n",
       "\n",
       "   TOTAL VOTOS PORCENTAJE DE VOTOS VÁLIDOS LISTA DE CANDIDATOS  \n",
       "0      8836380                     50.126%           VER LISTA  \n",
       "1      8792117                     49.874%           VER LISTA  \n",
       "2       121489                         NaN                 NaN  \n",
       "3      1106816                         NaN                 NaN  "
      ]
     },
     "execution_count": 39,
     "metadata": {},
     "output_type": "execute_result"
    }
   ],
   "source": [
    "# Extracting first table (2021 2DA VUELTA)\n",
    "table_1= driver.find_element(By.XPATH,'/html/body/div[1]/section/div[2]/div[3]/div[3]/div/div/div/div[1]/div[2]/div[2]/div[2]/table')\n",
    "table1_html=table_1.get_attribute(\"outerHTML\")\n",
    "table1= pd.read_html(table1_html)\n",
    "table1[0]   "
   ]
  },
  {
   "cell_type": "code",
   "execution_count": 40,
   "id": "cc2a09d1",
   "metadata": {},
   "outputs": [
    {
     "name": "stdout",
     "output_type": "stream",
     "text": [
      "                             ELECCIÓN                 ORGANIZACIÓN POLÍTICA  \\\n",
      "0  PRESIDENCIAL 2021 - SEGUNDA VUELTA  PARTIDO POLITICO NACIONAL PERU LIBRE   \n",
      "1  PRESIDENCIAL 2021 - SEGUNDA VUELTA                        FUERZA POPULAR   \n",
      "2  PRESIDENCIAL 2021 - SEGUNDA VUELTA                       VOTOS EN BLANCO   \n",
      "3  PRESIDENCIAL 2021 - SEGUNDA VUELTA                           VOTOS NULOS   \n",
      "\n",
      "   TOTAL VOTOS  \n",
      "0      8836380  \n",
      "1      8792117  \n",
      "2       121489  \n",
      "3      1106816  \n"
     ]
    }
   ],
   "source": [
    "df1 = table1[0]\n",
    "df1 = df1.drop(df1.columns[[1, 2, 4, 5]], axis=1)\n",
    "df1['ELECCIÓN'] = \"PRESIDENCIAL 2021 - SEGUNDA VUELTA\"\n",
    "new_order1 = ['ELECCIÓN', 'ORGANIZACIÓN POLÍTICA', 'TOTAL VOTOS']\n",
    "df1 = df1[new_order1]\n",
    "print(df1)"
   ]
  },
  {
   "cell_type": "code",
   "execution_count": 41,
   "id": "ff12ec58",
   "metadata": {},
   "outputs": [
    {
     "name": "stderr",
     "output_type": "stream",
     "text": [
      "C:\\Users\\kchauca\\AppData\\Local\\Temp\\ipykernel_31852\\3680879191.py:3: FutureWarning: Passing literal html to 'read_html' is deprecated and will be removed in a future version. To read from a literal string, wrap it in a 'StringIO' object.\n",
      "  table2= pd.read_html(table2_html)\n"
     ]
    },
    {
     "data": {
      "text/html": [
       "<div>\n",
       "<style scoped>\n",
       "    .dataframe tbody tr th:only-of-type {\n",
       "        vertical-align: middle;\n",
       "    }\n",
       "\n",
       "    .dataframe tbody tr th {\n",
       "        vertical-align: top;\n",
       "    }\n",
       "\n",
       "    .dataframe thead th {\n",
       "        text-align: right;\n",
       "    }\n",
       "</style>\n",
       "<table border=\"1\" class=\"dataframe\">\n",
       "  <thead>\n",
       "    <tr style=\"text-align: right;\">\n",
       "      <th></th>\n",
       "      <th>ORGANIZACIÓN POLÍTICA</th>\n",
       "      <th>SÍMBOLO</th>\n",
       "      <th>PLAN DE GOBIERNO</th>\n",
       "      <th>TOTAL VOTOS</th>\n",
       "      <th>PORCENTAJE DE VOTOS VÁLIDOS</th>\n",
       "      <th>LISTA DE CANDIDATOS</th>\n",
       "    </tr>\n",
       "  </thead>\n",
       "  <tbody>\n",
       "    <tr>\n",
       "      <th>0</th>\n",
       "      <td>PARTIDO POLITICO NACIONAL PERU LIBRE</td>\n",
       "      <td>NaN</td>\n",
       "      <td>NaN</td>\n",
       "      <td>8836380</td>\n",
       "      <td>50.126%</td>\n",
       "      <td>VER LISTA</td>\n",
       "    </tr>\n",
       "    <tr>\n",
       "      <th>1</th>\n",
       "      <td>FUERZA POPULAR</td>\n",
       "      <td>NaN</td>\n",
       "      <td>NaN</td>\n",
       "      <td>8792117</td>\n",
       "      <td>49.874%</td>\n",
       "      <td>VER LISTA</td>\n",
       "    </tr>\n",
       "    <tr>\n",
       "      <th>2</th>\n",
       "      <td>VOTOS EN BLANCO</td>\n",
       "      <td>NaN</td>\n",
       "      <td>NaN</td>\n",
       "      <td>121489</td>\n",
       "      <td>NaN</td>\n",
       "      <td>NaN</td>\n",
       "    </tr>\n",
       "    <tr>\n",
       "      <th>3</th>\n",
       "      <td>VOTOS NULOS</td>\n",
       "      <td>NaN</td>\n",
       "      <td>NaN</td>\n",
       "      <td>1106816</td>\n",
       "      <td>NaN</td>\n",
       "      <td>NaN</td>\n",
       "    </tr>\n",
       "  </tbody>\n",
       "</table>\n",
       "</div>"
      ],
      "text/plain": [
       "                  ORGANIZACIÓN POLÍTICA  SÍMBOLO  PLAN DE GOBIERNO  \\\n",
       "0  PARTIDO POLITICO NACIONAL PERU LIBRE      NaN               NaN   \n",
       "1                        FUERZA POPULAR      NaN               NaN   \n",
       "2                       VOTOS EN BLANCO      NaN               NaN   \n",
       "3                           VOTOS NULOS      NaN               NaN   \n",
       "\n",
       "   TOTAL VOTOS PORCENTAJE DE VOTOS VÁLIDOS LISTA DE CANDIDATOS  \n",
       "0      8836380                     50.126%           VER LISTA  \n",
       "1      8792117                     49.874%           VER LISTA  \n",
       "2       121489                         NaN                 NaN  \n",
       "3      1106816                         NaN                 NaN  "
      ]
     },
     "execution_count": 41,
     "metadata": {},
     "output_type": "execute_result"
    }
   ],
   "source": [
    "table_2= driver.find_element(By.XPATH,'/html/body/div[1]/section/div[2]/div[3]/div[3]/div/div/div/div[1]/div[2]/div[2]/div[2]/table')\n",
    "table2_html=table_2.get_attribute(\"outerHTML\")\n",
    "table2= pd.read_html(table2_html)\n",
    "table2[0]"
   ]
  },
  {
   "cell_type": "code",
   "execution_count": 42,
   "id": "27e5dbb7",
   "metadata": {},
   "outputs": [
    {
     "name": "stdout",
     "output_type": "stream",
     "text": [
      "            ELECCIÓN                 ORGANIZACIÓN POLÍTICA  TOTAL VOTOS\n",
      "0  PRESIDENCIAL 2021  PARTIDO POLITICO NACIONAL PERU LIBRE      8836380\n",
      "1  PRESIDENCIAL 2021                        FUERZA POPULAR      8792117\n",
      "2  PRESIDENCIAL 2021                       VOTOS EN BLANCO       121489\n",
      "3  PRESIDENCIAL 2021                           VOTOS NULOS      1106816\n"
     ]
    }
   ],
   "source": [
    "df2 = table2[0]\n",
    "df2 = df2.drop(df2.columns[[1, 2, 4, 5]], axis=1)\n",
    "df2['ELECCIÓN'] = \"PRESIDENCIAL 2021\"\n",
    "new_order2 = ['ELECCIÓN', 'ORGANIZACIÓN POLÍTICA', 'TOTAL VOTOS']\n",
    "df2 = df2[new_order2]\n",
    "print(df2)"
   ]
  },
  {
   "cell_type": "code",
   "execution_count": 58,
   "id": "9c711345",
   "metadata": {},
   "outputs": [
    {
     "name": "stderr",
     "output_type": "stream",
     "text": [
      "C:\\Users\\kchauca\\AppData\\Local\\Temp\\ipykernel_31852\\2692517086.py:3: FutureWarning: Passing literal html to 'read_html' is deprecated and will be removed in a future version. To read from a literal string, wrap it in a 'StringIO' object.\n",
      "  table3= pd.read_html(table3_html)\n"
     ]
    },
    {
     "data": {
      "text/html": [
       "<div>\n",
       "<style scoped>\n",
       "    .dataframe tbody tr th:only-of-type {\n",
       "        vertical-align: middle;\n",
       "    }\n",
       "\n",
       "    .dataframe tbody tr th {\n",
       "        vertical-align: top;\n",
       "    }\n",
       "\n",
       "    .dataframe thead th {\n",
       "        text-align: right;\n",
       "    }\n",
       "</style>\n",
       "<table border=\"1\" class=\"dataframe\">\n",
       "  <thead>\n",
       "    <tr style=\"text-align: right;\">\n",
       "      <th></th>\n",
       "      <th>ORGANIZACIÓN POLÍTICA</th>\n",
       "      <th>SÍMBOLO</th>\n",
       "      <th>PLAN DE GOBIERNO</th>\n",
       "      <th>TOTAL VOTOS</th>\n",
       "      <th>PORCENTAJE DE VOTOS VÁLIDOS</th>\n",
       "      <th>LISTA DE CANDIDATOS</th>\n",
       "    </tr>\n",
       "  </thead>\n",
       "  <tbody>\n",
       "    <tr>\n",
       "      <th>0</th>\n",
       "      <td>PERUANOS POR EL KAMBIO</td>\n",
       "      <td>NaN</td>\n",
       "      <td>NaN</td>\n",
       "      <td>8596937</td>\n",
       "      <td>50.120%</td>\n",
       "      <td>VER LISTA</td>\n",
       "    </tr>\n",
       "    <tr>\n",
       "      <th>1</th>\n",
       "      <td>FUERZA POPULAR</td>\n",
       "      <td>NaN</td>\n",
       "      <td>NaN</td>\n",
       "      <td>8555880</td>\n",
       "      <td>49.880%</td>\n",
       "      <td>VER LISTA</td>\n",
       "    </tr>\n",
       "    <tr>\n",
       "      <th>2</th>\n",
       "      <td>VOTOS EN BLANCO</td>\n",
       "      <td>NaN</td>\n",
       "      <td>NaN</td>\n",
       "      <td>149577</td>\n",
       "      <td>NaN</td>\n",
       "      <td>NaN</td>\n",
       "    </tr>\n",
       "    <tr>\n",
       "      <th>3</th>\n",
       "      <td>VOTOS NULOS</td>\n",
       "      <td>NaN</td>\n",
       "      <td>NaN</td>\n",
       "      <td>1040502</td>\n",
       "      <td>NaN</td>\n",
       "      <td>NaN</td>\n",
       "    </tr>\n",
       "  </tbody>\n",
       "</table>\n",
       "</div>"
      ],
      "text/plain": [
       "    ORGANIZACIÓN POLÍTICA  SÍMBOLO  PLAN DE GOBIERNO  TOTAL VOTOS  \\\n",
       "0  PERUANOS POR EL KAMBIO      NaN               NaN      8596937   \n",
       "1          FUERZA POPULAR      NaN               NaN      8555880   \n",
       "2         VOTOS EN BLANCO      NaN               NaN       149577   \n",
       "3             VOTOS NULOS      NaN               NaN      1040502   \n",
       "\n",
       "  PORCENTAJE DE VOTOS VÁLIDOS LISTA DE CANDIDATOS  \n",
       "0                     50.120%           VER LISTA  \n",
       "1                     49.880%           VER LISTA  \n",
       "2                         NaN                 NaN  \n",
       "3                         NaN                 NaN  "
      ]
     },
     "execution_count": 58,
     "metadata": {},
     "output_type": "execute_result"
    }
   ],
   "source": [
    "table_3= driver.find_element(By.XPATH,'/html/body/div[1]/section/div[2]/div[3]/div[3]/div/div/div/div[1]/div[2]/div[2]/div[2]/table')\n",
    "table3_html=table_3.get_attribute(\"outerHTML\")\n",
    "table3= pd.read_html(table3_html)\n",
    "table3[0]"
   ]
  },
  {
   "cell_type": "code",
   "execution_count": 59,
   "id": "48d2cc8e",
   "metadata": {},
   "outputs": [
    {
     "name": "stdout",
     "output_type": "stream",
     "text": [
      "                             ELECCIÓN   ORGANIZACIÓN POLÍTICA  TOTAL VOTOS\n",
      "0  PRESIDENCIAL 2016 - SEGUNDA VUELTA  PERUANOS POR EL KAMBIO      8596937\n",
      "1  PRESIDENCIAL 2016 - SEGUNDA VUELTA          FUERZA POPULAR      8555880\n",
      "2  PRESIDENCIAL 2016 - SEGUNDA VUELTA         VOTOS EN BLANCO       149577\n",
      "3  PRESIDENCIAL 2016 - SEGUNDA VUELTA             VOTOS NULOS      1040502\n"
     ]
    }
   ],
   "source": [
    "df3 = table3[0]\n",
    "df3 = df3.drop(df3.columns[[1, 2, 4, 5]], axis=1)\n",
    "df3['ELECCIÓN'] = \"PRESIDENCIAL 2016 - SEGUNDA VUELTA\"\n",
    "new_order3 = ['ELECCIÓN', 'ORGANIZACIÓN POLÍTICA', 'TOTAL VOTOS']\n",
    "df3 = df3[new_order3]\n",
    "print(df3)"
   ]
  },
  {
   "cell_type": "code",
   "execution_count": 45,
   "id": "e658797c",
   "metadata": {},
   "outputs": [
    {
     "name": "stderr",
     "output_type": "stream",
     "text": [
      "C:\\Users\\kchauca\\AppData\\Local\\Temp\\ipykernel_31852\\3605874077.py:3: FutureWarning: Passing literal html to 'read_html' is deprecated and will be removed in a future version. To read from a literal string, wrap it in a 'StringIO' object.\n",
      "  table4= pd.read_html(table4_html)\n"
     ]
    },
    {
     "data": {
      "text/html": [
       "<div>\n",
       "<style scoped>\n",
       "    .dataframe tbody tr th:only-of-type {\n",
       "        vertical-align: middle;\n",
       "    }\n",
       "\n",
       "    .dataframe tbody tr th {\n",
       "        vertical-align: top;\n",
       "    }\n",
       "\n",
       "    .dataframe thead th {\n",
       "        text-align: right;\n",
       "    }\n",
       "</style>\n",
       "<table border=\"1\" class=\"dataframe\">\n",
       "  <thead>\n",
       "    <tr style=\"text-align: right;\">\n",
       "      <th></th>\n",
       "      <th>ORGANIZACIÓN POLÍTICA</th>\n",
       "      <th>SÍMBOLO</th>\n",
       "      <th>PLAN DE GOBIERNO</th>\n",
       "      <th>TOTAL VOTOS</th>\n",
       "      <th>PORCENTAJE DE VOTOS VÁLIDOS</th>\n",
       "      <th>LISTA DE CANDIDATOS</th>\n",
       "    </tr>\n",
       "  </thead>\n",
       "  <tbody>\n",
       "    <tr>\n",
       "      <th>0</th>\n",
       "      <td>PARTIDO POLITICO NACIONAL PERU LIBRE</td>\n",
       "      <td>NaN</td>\n",
       "      <td>NaN</td>\n",
       "      <td>8836380</td>\n",
       "      <td>50.126%</td>\n",
       "      <td>VER LISTA</td>\n",
       "    </tr>\n",
       "    <tr>\n",
       "      <th>1</th>\n",
       "      <td>FUERZA POPULAR</td>\n",
       "      <td>NaN</td>\n",
       "      <td>NaN</td>\n",
       "      <td>8792117</td>\n",
       "      <td>49.874%</td>\n",
       "      <td>VER LISTA</td>\n",
       "    </tr>\n",
       "    <tr>\n",
       "      <th>2</th>\n",
       "      <td>VOTOS EN BLANCO</td>\n",
       "      <td>NaN</td>\n",
       "      <td>NaN</td>\n",
       "      <td>121489</td>\n",
       "      <td>NaN</td>\n",
       "      <td>NaN</td>\n",
       "    </tr>\n",
       "    <tr>\n",
       "      <th>3</th>\n",
       "      <td>VOTOS NULOS</td>\n",
       "      <td>NaN</td>\n",
       "      <td>NaN</td>\n",
       "      <td>1106816</td>\n",
       "      <td>NaN</td>\n",
       "      <td>NaN</td>\n",
       "    </tr>\n",
       "  </tbody>\n",
       "</table>\n",
       "</div>"
      ],
      "text/plain": [
       "                  ORGANIZACIÓN POLÍTICA  SÍMBOLO  PLAN DE GOBIERNO  \\\n",
       "0  PARTIDO POLITICO NACIONAL PERU LIBRE      NaN               NaN   \n",
       "1                        FUERZA POPULAR      NaN               NaN   \n",
       "2                       VOTOS EN BLANCO      NaN               NaN   \n",
       "3                           VOTOS NULOS      NaN               NaN   \n",
       "\n",
       "   TOTAL VOTOS PORCENTAJE DE VOTOS VÁLIDOS LISTA DE CANDIDATOS  \n",
       "0      8836380                     50.126%           VER LISTA  \n",
       "1      8792117                     49.874%           VER LISTA  \n",
       "2       121489                         NaN                 NaN  \n",
       "3      1106816                         NaN                 NaN  "
      ]
     },
     "execution_count": 45,
     "metadata": {},
     "output_type": "execute_result"
    }
   ],
   "source": [
    "table_4= driver.find_element(By.XPATH,'/html/body/div[1]/section/div[2]/div[3]/div[3]/div/div/div/div[1]/div[2]/div[2]/div[2]/table')\n",
    "table4_html=table_4.get_attribute(\"outerHTML\")\n",
    "table4= pd.read_html(table4_html)\n",
    "table4[0]"
   ]
  },
  {
   "cell_type": "code",
   "execution_count": 46,
   "id": "d32d9634",
   "metadata": {},
   "outputs": [
    {
     "name": "stdout",
     "output_type": "stream",
     "text": [
      "            ELECCIÓN                 ORGANIZACIÓN POLÍTICA  TOTAL VOTOS\n",
      "0  PRESIDENCIAL 2016  PARTIDO POLITICO NACIONAL PERU LIBRE      8836380\n",
      "1  PRESIDENCIAL 2016                        FUERZA POPULAR      8792117\n",
      "2  PRESIDENCIAL 2016                       VOTOS EN BLANCO       121489\n",
      "3  PRESIDENCIAL 2016                           VOTOS NULOS      1106816\n"
     ]
    }
   ],
   "source": [
    "df4 = table4[0]\n",
    "df4 = df4.drop(df4.columns[[1, 2, 4, 5]], axis=1)\n",
    "df4['ELECCIÓN'] = \"PRESIDENCIAL 2016\"\n",
    "new_order4 = ['ELECCIÓN', 'ORGANIZACIÓN POLÍTICA', 'TOTAL VOTOS']\n",
    "df4 = df4[new_order4]\n",
    "print(df4)"
   ]
  },
  {
   "cell_type": "code",
   "execution_count": 51,
   "id": "9775e59f",
   "metadata": {},
   "outputs": [
    {
     "name": "stderr",
     "output_type": "stream",
     "text": [
      "C:\\Users\\kchauca\\AppData\\Local\\Temp\\ipykernel_31852\\2042661023.py:3: FutureWarning: Passing literal html to 'read_html' is deprecated and will be removed in a future version. To read from a literal string, wrap it in a 'StringIO' object.\n",
      "  table5= pd.read_html(table5_html)\n"
     ]
    },
    {
     "data": {
      "text/html": [
       "<div>\n",
       "<style scoped>\n",
       "    .dataframe tbody tr th:only-of-type {\n",
       "        vertical-align: middle;\n",
       "    }\n",
       "\n",
       "    .dataframe tbody tr th {\n",
       "        vertical-align: top;\n",
       "    }\n",
       "\n",
       "    .dataframe thead th {\n",
       "        text-align: right;\n",
       "    }\n",
       "</style>\n",
       "<table border=\"1\" class=\"dataframe\">\n",
       "  <thead>\n",
       "    <tr style=\"text-align: right;\">\n",
       "      <th></th>\n",
       "      <th>ORGANIZACIÓN POLÍTICA</th>\n",
       "      <th>SÍMBOLO</th>\n",
       "      <th>PLAN DE GOBIERNO</th>\n",
       "      <th>TOTAL VOTOS</th>\n",
       "      <th>PORCENTAJE DE VOTOS VÁLIDOS</th>\n",
       "      <th>LISTA DE CANDIDATOS</th>\n",
       "    </tr>\n",
       "  </thead>\n",
       "  <tbody>\n",
       "    <tr>\n",
       "      <th>0</th>\n",
       "      <td>PARTIDO POLITICO NACIONAL PERU LIBRE</td>\n",
       "      <td>NaN</td>\n",
       "      <td>NaN</td>\n",
       "      <td>8836380</td>\n",
       "      <td>50.126%</td>\n",
       "      <td>VER LISTA</td>\n",
       "    </tr>\n",
       "    <tr>\n",
       "      <th>1</th>\n",
       "      <td>FUERZA POPULAR</td>\n",
       "      <td>NaN</td>\n",
       "      <td>NaN</td>\n",
       "      <td>8792117</td>\n",
       "      <td>49.874%</td>\n",
       "      <td>VER LISTA</td>\n",
       "    </tr>\n",
       "    <tr>\n",
       "      <th>2</th>\n",
       "      <td>VOTOS EN BLANCO</td>\n",
       "      <td>NaN</td>\n",
       "      <td>NaN</td>\n",
       "      <td>121489</td>\n",
       "      <td>NaN</td>\n",
       "      <td>NaN</td>\n",
       "    </tr>\n",
       "    <tr>\n",
       "      <th>3</th>\n",
       "      <td>VOTOS NULOS</td>\n",
       "      <td>NaN</td>\n",
       "      <td>NaN</td>\n",
       "      <td>1106816</td>\n",
       "      <td>NaN</td>\n",
       "      <td>NaN</td>\n",
       "    </tr>\n",
       "  </tbody>\n",
       "</table>\n",
       "</div>"
      ],
      "text/plain": [
       "                  ORGANIZACIÓN POLÍTICA  SÍMBOLO  PLAN DE GOBIERNO  \\\n",
       "0  PARTIDO POLITICO NACIONAL PERU LIBRE      NaN               NaN   \n",
       "1                        FUERZA POPULAR      NaN               NaN   \n",
       "2                       VOTOS EN BLANCO      NaN               NaN   \n",
       "3                           VOTOS NULOS      NaN               NaN   \n",
       "\n",
       "   TOTAL VOTOS PORCENTAJE DE VOTOS VÁLIDOS LISTA DE CANDIDATOS  \n",
       "0      8836380                     50.126%           VER LISTA  \n",
       "1      8792117                     49.874%           VER LISTA  \n",
       "2       121489                         NaN                 NaN  \n",
       "3      1106816                         NaN                 NaN  "
      ]
     },
     "execution_count": 51,
     "metadata": {},
     "output_type": "execute_result"
    }
   ],
   "source": [
    "table_5= driver.find_element(By.XPATH,'/html/body/div[1]/section/div[2]/div[3]/div[3]/div/div/div/div[1]/div[2]/div[2]/div[2]/table')\n",
    "table5_html=table_5.get_attribute(\"outerHTML\")\n",
    "table5= pd.read_html(table5_html)\n",
    "table5[0]"
   ]
  },
  {
   "cell_type": "code",
   "execution_count": 66,
   "id": "efbab2f2",
   "metadata": {},
   "outputs": [
    {
     "name": "stdout",
     "output_type": "stream",
     "text": [
      "                             ELECCIÓN ORGANIZACIÓN POLÍTICA  TOTAL VOTOS\n",
      "0  PRESIDENCIAL 2011 - SEGUNDA VUELTA             GANA PERU      7937704\n",
      "1  PRESIDENCIAL 2011 - SEGUNDA VUELTA           FUERZA 2011      7490647\n",
      "2  PRESIDENCIAL 2011 - SEGUNDA VUELTA       VOTOS EN BLANCO       116335\n",
      "3  PRESIDENCIAL 2011 - SEGUNDA VUELTA           VOTOS NULOS       921711\n"
     ]
    }
   ],
   "source": [
    "df5 = table5[0]\n",
    "df5 = df5.drop(df5.columns[[1, 2, 4, 5]], axis=1)\n",
    "df5['ELECCIÓN'] = \"PRESIDENCIAL 2011 - SEGUNDA VUELTA\"\n",
    "new_order5 = ['ELECCIÓN', 'ORGANIZACIÓN POLÍTICA', 'TOTAL VOTOS']\n",
    "df5 = df5[new_order5]\n",
    "print(df5)"
   ]
  },
  {
   "cell_type": "code",
   "execution_count": 30,
   "id": "902187d0",
   "metadata": {},
   "outputs": [
    {
     "name": "stderr",
     "output_type": "stream",
     "text": [
      "C:\\Users\\kchauca\\AppData\\Local\\Temp\\ipykernel_31852\\2381476952.py:3: FutureWarning: Passing literal html to 'read_html' is deprecated and will be removed in a future version. To read from a literal string, wrap it in a 'StringIO' object.\n",
      "  table6= pd.read_html(table6_html)\n"
     ]
    },
    {
     "data": {
      "text/html": [
       "<div>\n",
       "<style scoped>\n",
       "    .dataframe tbody tr th:only-of-type {\n",
       "        vertical-align: middle;\n",
       "    }\n",
       "\n",
       "    .dataframe tbody tr th {\n",
       "        vertical-align: top;\n",
       "    }\n",
       "\n",
       "    .dataframe thead th {\n",
       "        text-align: right;\n",
       "    }\n",
       "</style>\n",
       "<table border=\"1\" class=\"dataframe\">\n",
       "  <thead>\n",
       "    <tr style=\"text-align: right;\">\n",
       "      <th></th>\n",
       "      <th>ORGANIZACIÓN POLÍTICA</th>\n",
       "      <th>SÍMBOLO</th>\n",
       "      <th>PLAN DE GOBIERNO</th>\n",
       "      <th>TOTAL VOTOS</th>\n",
       "      <th>PORCENTAJE DE VOTOS VÁLIDOS</th>\n",
       "      <th>LISTA DE CANDIDATOS</th>\n",
       "    </tr>\n",
       "  </thead>\n",
       "  <tbody>\n",
       "    <tr>\n",
       "      <th>0</th>\n",
       "      <td>PARTIDO POLITICO NACIONAL PERU LIBRE</td>\n",
       "      <td>NaN</td>\n",
       "      <td>NaN</td>\n",
       "      <td>8836380</td>\n",
       "      <td>50.126%</td>\n",
       "      <td>VER LISTA</td>\n",
       "    </tr>\n",
       "    <tr>\n",
       "      <th>1</th>\n",
       "      <td>FUERZA POPULAR</td>\n",
       "      <td>NaN</td>\n",
       "      <td>NaN</td>\n",
       "      <td>8792117</td>\n",
       "      <td>49.874%</td>\n",
       "      <td>VER LISTA</td>\n",
       "    </tr>\n",
       "    <tr>\n",
       "      <th>2</th>\n",
       "      <td>VOTOS EN BLANCO</td>\n",
       "      <td>NaN</td>\n",
       "      <td>NaN</td>\n",
       "      <td>121489</td>\n",
       "      <td>NaN</td>\n",
       "      <td>NaN</td>\n",
       "    </tr>\n",
       "    <tr>\n",
       "      <th>3</th>\n",
       "      <td>VOTOS NULOS</td>\n",
       "      <td>NaN</td>\n",
       "      <td>NaN</td>\n",
       "      <td>1106816</td>\n",
       "      <td>NaN</td>\n",
       "      <td>NaN</td>\n",
       "    </tr>\n",
       "  </tbody>\n",
       "</table>\n",
       "</div>"
      ],
      "text/plain": [
       "                  ORGANIZACIÓN POLÍTICA  SÍMBOLO  PLAN DE GOBIERNO  \\\n",
       "0  PARTIDO POLITICO NACIONAL PERU LIBRE      NaN               NaN   \n",
       "1                        FUERZA POPULAR      NaN               NaN   \n",
       "2                       VOTOS EN BLANCO      NaN               NaN   \n",
       "3                           VOTOS NULOS      NaN               NaN   \n",
       "\n",
       "   TOTAL VOTOS PORCENTAJE DE VOTOS VÁLIDOS LISTA DE CANDIDATOS  \n",
       "0      8836380                     50.126%           VER LISTA  \n",
       "1      8792117                     49.874%           VER LISTA  \n",
       "2       121489                         NaN                 NaN  \n",
       "3      1106816                         NaN                 NaN  "
      ]
     },
     "execution_count": 30,
     "metadata": {},
     "output_type": "execute_result"
    }
   ],
   "source": [
    "table_6= driver.find_element(By.XPATH,'/html/body/div[1]/section/div[2]/div[3]/div[3]/div/div/div/div[1]/div[2]/div[2]/div[2]/table')\n",
    "table6_html=table_6.get_attribute(\"outerHTML\")\n",
    "table6= pd.read_html(table6_html)\n",
    "table6[0]"
   ]
  },
  {
   "cell_type": "code",
   "execution_count": 31,
   "id": "61eb7e00",
   "metadata": {},
   "outputs": [
    {
     "name": "stdout",
     "output_type": "stream",
     "text": [
      "            ELECCIÓN                 ORGANIZACIÓN POLÍTICA  TOTAL VOTOS\n",
      "0  PRESIDENCIAL 2011  PARTIDO POLITICO NACIONAL PERU LIBRE      8836380\n",
      "1  PRESIDENCIAL 2011                        FUERZA POPULAR      8792117\n",
      "2  PRESIDENCIAL 2011                       VOTOS EN BLANCO       121489\n",
      "3  PRESIDENCIAL 2011                           VOTOS NULOS      1106816\n"
     ]
    }
   ],
   "source": [
    "df6 = table6[0]\n",
    "df6 = df6.drop(df6.columns[[1, 2, 4, 5]], axis=1)\n",
    "df6['ELECCIÓN'] = \"PRESIDENCIAL 2011\"\n",
    "new_order6 = ['ELECCIÓN', 'ORGANIZACIÓN POLÍTICA', 'TOTAL VOTOS']\n",
    "df6 = df6[new_order6]\n",
    "print(df6)"
   ]
  },
  {
   "cell_type": "code",
   "execution_count": 27,
   "id": "debb3d5d",
   "metadata": {},
   "outputs": [
    {
     "name": "stderr",
     "output_type": "stream",
     "text": [
      "C:\\Users\\kchauca\\AppData\\Local\\Temp\\ipykernel_31852\\3606924586.py:3: FutureWarning: Passing literal html to 'read_html' is deprecated and will be removed in a future version. To read from a literal string, wrap it in a 'StringIO' object.\n",
      "  table7= pd.read_html(table7_html)\n"
     ]
    },
    {
     "data": {
      "text/html": [
       "<div>\n",
       "<style scoped>\n",
       "    .dataframe tbody tr th:only-of-type {\n",
       "        vertical-align: middle;\n",
       "    }\n",
       "\n",
       "    .dataframe tbody tr th {\n",
       "        vertical-align: top;\n",
       "    }\n",
       "\n",
       "    .dataframe thead th {\n",
       "        text-align: right;\n",
       "    }\n",
       "</style>\n",
       "<table border=\"1\" class=\"dataframe\">\n",
       "  <thead>\n",
       "    <tr style=\"text-align: right;\">\n",
       "      <th></th>\n",
       "      <th>ORGANIZACIÓN POLÍTICA</th>\n",
       "      <th>SÍMBOLO</th>\n",
       "      <th>PLAN DE GOBIERNO</th>\n",
       "      <th>TOTAL VOTOS</th>\n",
       "      <th>PORCENTAJE DE VOTOS VÁLIDOS</th>\n",
       "      <th>LISTA DE CANDIDATOS</th>\n",
       "    </tr>\n",
       "  </thead>\n",
       "  <tbody>\n",
       "    <tr>\n",
       "      <th>0</th>\n",
       "      <td>PARTIDO POLITICO NACIONAL PERU LIBRE</td>\n",
       "      <td>NaN</td>\n",
       "      <td>NaN</td>\n",
       "      <td>8836380</td>\n",
       "      <td>50.126%</td>\n",
       "      <td>VER LISTA</td>\n",
       "    </tr>\n",
       "    <tr>\n",
       "      <th>1</th>\n",
       "      <td>FUERZA POPULAR</td>\n",
       "      <td>NaN</td>\n",
       "      <td>NaN</td>\n",
       "      <td>8792117</td>\n",
       "      <td>49.874%</td>\n",
       "      <td>VER LISTA</td>\n",
       "    </tr>\n",
       "    <tr>\n",
       "      <th>2</th>\n",
       "      <td>VOTOS EN BLANCO</td>\n",
       "      <td>NaN</td>\n",
       "      <td>NaN</td>\n",
       "      <td>121489</td>\n",
       "      <td>NaN</td>\n",
       "      <td>NaN</td>\n",
       "    </tr>\n",
       "    <tr>\n",
       "      <th>3</th>\n",
       "      <td>VOTOS NULOS</td>\n",
       "      <td>NaN</td>\n",
       "      <td>NaN</td>\n",
       "      <td>1106816</td>\n",
       "      <td>NaN</td>\n",
       "      <td>NaN</td>\n",
       "    </tr>\n",
       "  </tbody>\n",
       "</table>\n",
       "</div>"
      ],
      "text/plain": [
       "                  ORGANIZACIÓN POLÍTICA  SÍMBOLO  PLAN DE GOBIERNO  \\\n",
       "0  PARTIDO POLITICO NACIONAL PERU LIBRE      NaN               NaN   \n",
       "1                        FUERZA POPULAR      NaN               NaN   \n",
       "2                       VOTOS EN BLANCO      NaN               NaN   \n",
       "3                           VOTOS NULOS      NaN               NaN   \n",
       "\n",
       "   TOTAL VOTOS PORCENTAJE DE VOTOS VÁLIDOS LISTA DE CANDIDATOS  \n",
       "0      8836380                     50.126%           VER LISTA  \n",
       "1      8792117                     49.874%           VER LISTA  \n",
       "2       121489                         NaN                 NaN  \n",
       "3      1106816                         NaN                 NaN  "
      ]
     },
     "execution_count": 27,
     "metadata": {},
     "output_type": "execute_result"
    }
   ],
   "source": [
    "table_7= driver.find_element(By.XPATH,'/html/body/div[1]/section/div[2]/div[3]/div[3]/div/div/div/div[1]/div[2]/div[2]/div[2]/table')\n",
    "table7_html=table_7.get_attribute(\"outerHTML\")\n",
    "table7= pd.read_html(table7_html)\n",
    "table7[0]"
   ]
  },
  {
   "cell_type": "code",
   "execution_count": 28,
   "id": "eec61cae",
   "metadata": {},
   "outputs": [
    {
     "name": "stdout",
     "output_type": "stream",
     "text": [
      "                         ELECCIÓN                 ORGANIZACIÓN POLÍTICA  \\\n",
      "0  PRESIDENCIAL 2006 - 2DA VUELTA  PARTIDO POLITICO NACIONAL PERU LIBRE   \n",
      "1  PRESIDENCIAL 2006 - 2DA VUELTA                        FUERZA POPULAR   \n",
      "2  PRESIDENCIAL 2006 - 2DA VUELTA                       VOTOS EN BLANCO   \n",
      "3  PRESIDENCIAL 2006 - 2DA VUELTA                           VOTOS NULOS   \n",
      "\n",
      "   TOTAL VOTOS  \n",
      "0      8836380  \n",
      "1      8792117  \n",
      "2       121489  \n",
      "3      1106816  \n"
     ]
    }
   ],
   "source": [
    "df7 = table7[0]\n",
    "df7 = df7.drop(df7.columns[[1, 2, 4, 5]], axis=1)\n",
    "df7['ELECCIÓN'] = \"PRESIDENCIAL 2006 - 2DA VUELTA\"\n",
    "new_order7 = ['ELECCIÓN', 'ORGANIZACIÓN POLÍTICA', 'TOTAL VOTOS']\n",
    "df7 = df7[new_order7]\n",
    "print(df7)"
   ]
  },
  {
   "cell_type": "code",
   "execution_count": null,
   "id": "51a2d6b0",
   "metadata": {},
   "outputs": [],
   "source": [
    "#df8-d13"
   ]
  },
  {
   "cell_type": "code",
   "execution_count": 26,
   "id": "1b97687d",
   "metadata": {},
   "outputs": [
    {
     "name": "stderr",
     "output_type": "stream",
     "text": [
      "C:\\Users\\kchauca\\AppData\\Local\\Temp\\ipykernel_31852\\1884416970.py:4: FutureWarning: Passing literal html to 'read_html' is deprecated and will be removed in a future version. To read from a literal string, wrap it in a 'StringIO' object.\n",
      "  table14= pd.read_html(table14_html)\n"
     ]
    },
    {
     "data": {
      "text/html": [
       "<div>\n",
       "<style scoped>\n",
       "    .dataframe tbody tr th:only-of-type {\n",
       "        vertical-align: middle;\n",
       "    }\n",
       "\n",
       "    .dataframe tbody tr th {\n",
       "        vertical-align: top;\n",
       "    }\n",
       "\n",
       "    .dataframe thead th {\n",
       "        text-align: right;\n",
       "    }\n",
       "</style>\n",
       "<table border=\"1\" class=\"dataframe\">\n",
       "  <thead>\n",
       "    <tr style=\"text-align: right;\">\n",
       "      <th></th>\n",
       "      <th>ORGANIZACIÓN POLÍTICA</th>\n",
       "      <th>SÍMBOLO</th>\n",
       "      <th>PLAN DE GOBIERNO</th>\n",
       "      <th>TOTAL VOTOS</th>\n",
       "      <th>PORCENTAJE DE VOTOS VÁLIDOS</th>\n",
       "      <th>LISTA DE CANDIDATOS</th>\n",
       "    </tr>\n",
       "  </thead>\n",
       "  <tbody>\n",
       "    <tr>\n",
       "      <th>0</th>\n",
       "      <td>PARTIDO POLITICO NACIONAL PERU LIBRE</td>\n",
       "      <td>NaN</td>\n",
       "      <td>NaN</td>\n",
       "      <td>8836380</td>\n",
       "      <td>50.126%</td>\n",
       "      <td>VER LISTA</td>\n",
       "    </tr>\n",
       "    <tr>\n",
       "      <th>1</th>\n",
       "      <td>FUERZA POPULAR</td>\n",
       "      <td>NaN</td>\n",
       "      <td>NaN</td>\n",
       "      <td>8792117</td>\n",
       "      <td>49.874%</td>\n",
       "      <td>VER LISTA</td>\n",
       "    </tr>\n",
       "    <tr>\n",
       "      <th>2</th>\n",
       "      <td>VOTOS EN BLANCO</td>\n",
       "      <td>NaN</td>\n",
       "      <td>NaN</td>\n",
       "      <td>121489</td>\n",
       "      <td>NaN</td>\n",
       "      <td>NaN</td>\n",
       "    </tr>\n",
       "    <tr>\n",
       "      <th>3</th>\n",
       "      <td>VOTOS NULOS</td>\n",
       "      <td>NaN</td>\n",
       "      <td>NaN</td>\n",
       "      <td>1106816</td>\n",
       "      <td>NaN</td>\n",
       "      <td>NaN</td>\n",
       "    </tr>\n",
       "  </tbody>\n",
       "</table>\n",
       "</div>"
      ],
      "text/plain": [
       "                  ORGANIZACIÓN POLÍTICA  SÍMBOLO  PLAN DE GOBIERNO  \\\n",
       "0  PARTIDO POLITICO NACIONAL PERU LIBRE      NaN               NaN   \n",
       "1                        FUERZA POPULAR      NaN               NaN   \n",
       "2                       VOTOS EN BLANCO      NaN               NaN   \n",
       "3                           VOTOS NULOS      NaN               NaN   \n",
       "\n",
       "   TOTAL VOTOS PORCENTAJE DE VOTOS VÁLIDOS LISTA DE CANDIDATOS  \n",
       "0      8836380                     50.126%           VER LISTA  \n",
       "1      8792117                     49.874%           VER LISTA  \n",
       "2       121489                         NaN                 NaN  \n",
       "3      1106816                         NaN                 NaN  "
      ]
     },
     "execution_count": 26,
     "metadata": {},
     "output_type": "execute_result"
    }
   ],
   "source": [
    "#df14\n",
    "table_14= driver.find_element(By.XPATH,'/html/body/div[1]/section/div[2]/div[3]/div[3]/div/div/div/div[1]/div[2]/div[2]/div[2]/table')\n",
    "table14_html=table_14.get_attribute(\"outerHTML\")\n",
    "table14= pd.read_html(table14_html)\n",
    "table14[0]"
   ]
  },
  {
   "cell_type": "code",
   "execution_count": 29,
   "id": "43f28d73",
   "metadata": {},
   "outputs": [
    {
     "name": "stdout",
     "output_type": "stream",
     "text": [
      "                         ELECCIÓN                 ORGANIZACIÓN POLÍTICA  \\\n",
      "0  PRESIDENCIAL 2006 - 2DA VUELTA  PARTIDO POLITICO NACIONAL PERU LIBRE   \n",
      "1  PRESIDENCIAL 2006 - 2DA VUELTA                        FUERZA POPULAR   \n",
      "2  PRESIDENCIAL 2006 - 2DA VUELTA                       VOTOS EN BLANCO   \n",
      "3  PRESIDENCIAL 2006 - 2DA VUELTA                           VOTOS NULOS   \n",
      "\n",
      "   TOTAL VOTOS  \n",
      "0      8836380  \n",
      "1      8792117  \n",
      "2       121489  \n",
      "3      1106816  \n"
     ]
    }
   ],
   "source": [
    "df14 = table14[0]\n",
    "df14 = df14.drop(df14.columns[[1, 2, 4, 5]], axis=1)\n",
    "df14['ELECCIÓN'] = \"PRESIDENCIAL 2006 - 2DA VUELTA\"\n",
    "new_order14 = ['ELECCIÓN', 'ORGANIZACIÓN POLÍTICA', 'TOTAL VOTOS']\n",
    "df14 = df14[new_order14]\n",
    "print(df14)"
   ]
  },
  {
   "cell_type": "code",
   "execution_count": null,
   "id": "83aa3b9d",
   "metadata": {},
   "outputs": [],
   "source": [
    "#df15\n",
    "table_15= driver.find_element(By.XPATH,'/html/body/div[1]/section/div[2]/div[3]/div[3]/div/div/div/div[1]/div[2]/div[2]/div[2]/table')\n",
    "table15_html=table_15.get_attribute(\"outerHTML\")\n",
    "table15= pd.read_html(table15_html)\n",
    "table15[0]"
   ]
  },
  {
   "cell_type": "code",
   "execution_count": null,
   "id": "af196a67",
   "metadata": {},
   "outputs": [],
   "source": [
    "df15 = table15[0]\n",
    "df15 = df15.drop(df15.columns[[1, 2, 4, 5]], axis=1)\n",
    "df15['ELECCIÓN'] = \"PRESIDENCIAL 2006 - 2DA VUELTA\"\n",
    "new_order15 = ['ELECCIÓN', 'ORGANIZACIÓN POLÍTICA', 'TOTAL VOTOS']\n",
    "df15 = df15[new_order15]\n",
    "print(df15)"
   ]
  },
  {
   "cell_type": "code",
   "execution_count": null,
   "id": "ff4080fa",
   "metadata": {},
   "outputs": [],
   "source": [
    "#df16\n",
    "table_16= driver.find_element(By.XPATH,'/html/body/div[1]/section/div[2]/div[3]/div[3]/div/div/div/div[1]/div[2]/div[2]/div[2]/table')\n",
    "table16_html=table_16.get_attribute(\"outerHTML\")\n",
    "table16= pd.read_html(table16_html)\n",
    "table16[0]"
   ]
  },
  {
   "cell_type": "code",
   "execution_count": null,
   "id": "99cefd81",
   "metadata": {},
   "outputs": [],
   "source": [
    "df16 = table16[0]\n",
    "df16 = df16.drop(df16.columns[[1, 2, 4, 5]], axis=1)\n",
    "df16['ELECCIÓN'] = \"PRESIDENCIAL 2006 - 2DA VUELTA\"\n",
    "new_order16 = ['ELECCIÓN', 'ORGANIZACIÓN POLÍTICA', 'TOTAL VOTOS']\n",
    "df16 = df16[new_order16]\n",
    "print(df16)"
   ]
  },
  {
   "cell_type": "code",
   "execution_count": null,
   "id": "fe509a23",
   "metadata": {},
   "outputs": [],
   "source": [
    "#df17\n",
    "table_17= driver.find_element(By.XPATH,'/html/body/div[1]/section/div[2]/div[3]/div[3]/div/div/div/div[1]/div[2]/div[2]/div[2]/table')\n",
    "table17_html=table_17.get_attribute(\"outerHTML\")\n",
    "table17= pd.read_html(table17_html)\n",
    "table17[0]"
   ]
  },
  {
   "cell_type": "code",
   "execution_count": null,
   "id": "6824210b",
   "metadata": {},
   "outputs": [],
   "source": [
    "df17 = table17[0]\n",
    "df17 = df17.drop(df17.columns[[1, 2, 4, 5]], axis=1)\n",
    "df17['ELECCIÓN'] = \"PRESIDENCIAL 2006 - 2DA VUELTA\"\n",
    "new_order17 = ['ELECCIÓN', 'ORGANIZACIÓN POLÍTICA', 'TOTAL VOTOS']\n",
    "df17 = df17[new_order17]\n",
    "print(df17)"
   ]
  },
  {
   "cell_type": "code",
   "execution_count": null,
   "id": "569ed647",
   "metadata": {},
   "outputs": [],
   "source": [
    "#df18\n",
    "table_18= driver.find_element(By.XPATH,'/html/body/div[1]/section/div[2]/div[3]/div[3]/div/div/div/div[1]/div[2]/div[2]/div[2]/table')\n",
    "table18_html=table_18.get_attribute(\"outerHTML\")\n",
    "table18= pd.read_html(table18_html)\n",
    "table18[0]"
   ]
  },
  {
   "cell_type": "code",
   "execution_count": null,
   "id": "daf0824c",
   "metadata": {},
   "outputs": [],
   "source": [
    "df18 = table18[0]\n",
    "df18 = df18.drop(df18.columns[[1, 2, 4, 5]], axis=1)\n",
    "df18['ELECCIÓN'] = \"PRESIDENCIAL 2006 - 2DA VUELTA\"\n",
    "new_order18 = ['ELECCIÓN', 'ORGANIZACIÓN POLÍTICA', 'TOTAL VOTOS']\n",
    "df18 = df18[new_order18]\n",
    "print(df18)"
   ]
  },
  {
   "cell_type": "code",
   "execution_count": null,
   "id": "d9208138",
   "metadata": {},
   "outputs": [],
   "source": [
    "#df19\n",
    "table_19= driver.find_element(By.XPATH,'/html/body/div[1]/section/div[2]/div[3]/div[3]/div/div/div/div[1]/div[2]/div[2]/div[2]/table')\n",
    "table19_html=table_19.get_attribute(\"outerHTML\")\n",
    "table19= pd.read_html(table19_html)\n",
    "table19[0]"
   ]
  },
  {
   "cell_type": "code",
   "execution_count": null,
   "id": "f89cdf25",
   "metadata": {},
   "outputs": [],
   "source": [
    "df19 = table19[0]\n",
    "df19 = df19.drop(df19.columns[[1, 2, 4, 5]], axis=1)\n",
    "df19['ELECCIÓN'] = \"PRESIDENCIAL 2006 - 2DA VUELTA\"\n",
    "new_order19 = ['ELECCIÓN', 'ORGANIZACIÓN POLÍTICA', 'TOTAL VOTOS']\n",
    "df19 = df19[new_order19]\n",
    "print(df19)"
   ]
  },
  {
   "cell_type": "code",
   "execution_count": null,
   "id": "29212a03",
   "metadata": {},
   "outputs": [],
   "source": []
  },
  {
   "cell_type": "code",
   "execution_count": null,
   "id": "7030addb",
   "metadata": {},
   "outputs": [],
   "source": []
  },
  {
   "cell_type": "code",
   "execution_count": null,
   "id": "0c9c0a87",
   "metadata": {},
   "outputs": [],
   "source": [
    "finaldata = pd.concat([df1, df2, df3, df4, df5, df6, df7, df8, df9, df10, df11, df12, df13, df14, df15, df16, df17, df18, df19, df20, df21, df22, df23, df24, df25]), ignore_index = True)\n",
    "finaldata.to_excel(grupo5elecciones, index=False)"
   ]
  }
 ],
 "metadata": {
  "kernelspec": {
   "display_name": "Python 3 (ipykernel)",
   "language": "python",
   "name": "python3"
  },
  "language_info": {
   "codemirror_mode": {
    "name": "ipython",
    "version": 3
   },
   "file_extension": ".py",
   "mimetype": "text/x-python",
   "name": "python",
   "nbconvert_exporter": "python",
   "pygments_lexer": "ipython3",
   "version": "3.11.9"
  }
 },
 "nbformat": 4,
 "nbformat_minor": 5
}
