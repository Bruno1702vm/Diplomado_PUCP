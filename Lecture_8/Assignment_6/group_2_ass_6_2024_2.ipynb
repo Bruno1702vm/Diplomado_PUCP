{
 "cells": [
  {
   "cell_type": "markdown",
   "id": "bb645389-0d61-4f6c-9f3a-928bb4ba2fa8",
   "metadata": {},
   "source": [
    "# Assigment 6\n",
    "\n",
    "\n",
    "This assigment will be graded if everything works well. I will run the script as once and everything should be done without errors and mistakes. I should be able to run your scripts in my computer and get all the results. **USE RELATIVE PATHS**. An error or exception or anything that breaks the code will means NO GRADE (0). Additionally, you are not able to modify any file handly. It also means NO GRADE (0). Comment everything you think will help others read your script. We expect 0 errors using GitHub. Everything will be graded!\n",
    "\n",
    "**ASK EVERYTHING! WE ARE HERE TO HELP YOU!**\n",
    "\n",
    "**GET YOUR GOOGLE API AND TOKEN. YOU WILL NEED THEM TO DO THIS TASK.**"
   ]
  },
  {
   "cell_type": "markdown",
   "id": "2bcb4e01-4963-45b5-bd1f-54e65fa9d2e2",
   "metadata": {},
   "source": [
    "\n",
    "1. Import Data from [this url](https://github.com/alexanderquispe/Diplomado_PUCP/blob/main/_data/bbva_list.xlsx). This dataset is in excel format. You have to convert to PandasDataFrame.\n",
    "2. Use GoogleMaps API and geocode all the BBVA offices. For those offices that Google API gets no information, use internet and get the latitude and longitude handly and add them to dataset.\n",
    "3. Use Google API to find the driving time (best guess) from all the group members' address and all the LIMA BBVA offices.\n",
    "4. Finally, you have to give a report which offices are the most closest and furthest to every group member's address."
   ]
  },
  {
   "cell_type": "code",
   "execution_count": null,
   "id": "f0d4817c-c774-40bc-8244-8a3e8ab1511f",
   "metadata": {},
   "outputs": [],
   "source": [
    "#!pip install googlemaps\n",
    "#!pip install pandas"
   ]
  },
  {
   "cell_type": "code",
   "execution_count": 9,
   "id": "df7c1dd1-a736-4e10-afe5-25f48e42aec2",
   "metadata": {},
   "outputs": [],
   "source": [
    "#LIBRARIES\n",
    "\n",
    "import pandas as pd\n",
    "import os # File management\n",
    "import urllib.request # For URLs\n",
    "import json # Parse JSON responses received from APIs and convert Python objects to JSON format\n",
    "import csv # Manage CSV files\n",
    "import numpy as np # Numerical operations\n",
    "from tqdm import tqdm # Progress bar in loops or iterations\n",
    "import requests # Send HTTP requests to web servers, retrieve responses, and handle various types of HTTP methods\n",
    "import unicodedata # Work with Unicode characters, including string normalization and removing accents\n",
    "import time # Add wait time between requests\n",
    "import re # Work with regular expressions\n",
    "import googlemaps # Use the Google Maps API"
   ]
  },
  {
   "cell_type": "code",
   "execution_count": null,
   "id": "d3cb38c4-5fac-44e6-ba70-d2fe01ac0ea9",
   "metadata": {},
   "outputs": [],
   "source": [
    "# Load data\n",
    "\n",
    "df = pd.read_excel( '../../_data/bbva_list.xlsx')\n",
    "df.head()\n",
    "\n",
    "# Latitude and longitude columns\n",
    "df['latitude'] = None\n",
    "df['longitude'] = None\n",
    "\n",
    "# COMPLETE_ADDRESS column \n",
    "df['COMPLETE_ADDRESS'] = df['Direccion'] + ', ' + df['DISTRITO'] + ', ' + df['PROVINCIA'] \n",
    "\n",
    "# Dataframe\n",
    "df"
   ]
  }
 ],
 "metadata": {
  "kernelspec": {
   "display_name": "Python 3 (ipykernel)",
   "language": "python",
   "name": "python3"
  },
  "language_info": {
   "codemirror_mode": {
    "name": "ipython",
    "version": 3
   },
   "file_extension": ".py",
   "mimetype": "text/x-python",
   "name": "python",
   "nbconvert_exporter": "python",
   "pygments_lexer": "ipython3",
   "version": "3.12.4"
  }
 },
 "nbformat": 4,
 "nbformat_minor": 5
}
