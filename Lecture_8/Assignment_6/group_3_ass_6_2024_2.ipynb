{
 "cells": [
  {
   "cell_type": "markdown",
   "metadata": {},
   "source": [
    "# Assigment 6\n",
    "\n",
    "\n",
    "This assigment will be graded if everything works well. I will run the script as once and everything should be done without errors and mistakes. I should be able to run your scripts in my computer and get all the results. **USE RELATIVE PATHS**. An error or exception or anything that breaks the code will means NO GRADE (0). Additionally, you are not able to modify any file handly. It also means NO GRADE (0). Comment everything you think will help others read your script. We expect 0 errors using GitHub. Everything will be graded!\n",
    "\n",
    "**ASK EVERYTHING! WE ARE HERE TO HELP YOU!**\n",
    "\n",
    "**GET YOUR GOOGLE API AND TOKEN. YOU WILL NEED THEM TO DO THIS TASK.**"
   ]
  },
  {
   "cell_type": "markdown",
   "metadata": {},
   "source": [
    "\n",
    "1. Import Data from [this url](https://github.com/alexanderquispe/Diplomado_PUCP/blob/main/_data/bbva_list.xlsx). This dataset is in excel format. You have to convert to PandasDataFrame.\n",
    "2. Use GoogleMaps API and geocode all the BBVA offices. For those offices that Google API gets no information, use internet and get the latitude and longitude handly and add them to dataset.\n",
    "3. Use Google API to find the driving time (best guess) from all the group members' address and all the LIMA BBVA offices.\n",
    "4. Finally, you have to give a report which offices are the most closest and furthest to every group member's address."
   ]
  },
  {
   "cell_type": "code",
   "execution_count": null,
   "metadata": {},
   "outputs": [],
   "source": [
    "# Charging the libraries\n",
    "!pip install -U googlemaps"
   ]
  },
  {
   "cell_type": "code",
   "execution_count": null,
   "metadata": {},
   "outputs": [],
   "source": [
    "# Packages\n",
    "import pandas as pd\n",
    "import numpy as np\n",
    "import urllib.request, json, csv\n",
    "import googlemaps\n",
    "\n",
    "from tqdm import tqdm_notebook as tqdm\n",
    "# For sending GET requests from the API\n",
    "import requests\n",
    "# For saving access tokens and for file management when creating and adding to the dataset\n",
    "import os\n",
    "# For dealing with json responses we receive from the API\n",
    "import json\n",
    "# For saving the response data in CSV format\n",
    "import csv\n",
    "# For parsing the dates received from twitter in readable formats\n",
    "import datetime\n",
    "import dateutil.parser\n",
    "import unicodedata\n",
    "#To add wait time between requests\n",
    "import time\n",
    "import requests"
   ]
  },
  {
   "cell_type": "markdown",
   "metadata": {},
   "source": [
    "# Cargamos el archivo"
   ]
  },
  {
   "cell_type": "code",
   "execution_count": null,
   "metadata": {},
   "outputs": [],
   "source": [
    "bbva_offices = pd.read_excel('../../_data/bbva_list.xlsx')\n",
    "bbva_offices"
   ]
  },
  {
   "cell_type": "code",
   "execution_count": null,
   "metadata": {},
   "outputs": [],
   "source": [
    "bbva_offices.rename(columns={'Direccion': 'DIRECCIÓN'}, inplace=True)\n",
    "# iloc usa el índice de la columna como identificador (no la etiqueta) y al indicar un rango no toma el último valor (1:4 no toma el 4)\n",
    "# loc usa la etiqueta de la columna como identificador (no el índice) y al indicar el rango sí toma el último valor\n",
    "bbva_offices.iloc[23:26, 3], bbva_offices.iloc[36, 3], bbva_offices.iloc[40:45, 3] = 'BREÑA', 'EL AGUSTINO', 'JESÚS MARÍA'\n",
    "bbva_offices"
   ]
  },
  {
   "cell_type": "code",
   "execution_count": null,
   "metadata": {},
   "outputs": [],
   "source": [
    "## Ejemplo de cómo se ve el diccionario que obtenemos al usar geocode con una dirección\n",
    "example_1 = gmaps.geocode( \"Av. Universitaria 18 - Interior PUCP, San Miguel\" , region='PE')\n",
    "print(example_1); print()\n",
    "# El output es una lista que contiene diccionarios y listas anidados \n",
    "print(len(example_1)); print()\n",
    "print(f'Aquí visualizamos el primer elemento de la lista\\n'example_1[0]); print()\n",
    "print(f'Aquí generamos una lista con las llaves del diccionario\\n', list(example_1[0].keys())); print()\n",
    "print(f'Aquí generamos una lista con las llaves del diccionario \"geometry\"\\n', list(example_1[0]['geometry'])); print()\n",
    "print(f'Aquí generamos una lista con las llaves del diccionario \"location\"\\n', list(example_1[0]['geometry']['location'])); print()\n",
    "# Entonces, el formato para obtener las coordenadas (lat, long) será:\n",
    "# result_API[0]['geometry']['location']\n",
    "# Donde result_API es el output de geocode (de preferencia, un archivo 'json')"
   ]
  },
  {
   "cell_type": "markdown",
   "metadata": {},
   "source": [
    "# Definimos la función para obtener las coordenadas a partir de la dirección completa"
   ]
  },
  {
   "cell_type": "code",
   "execution_count": null,
   "metadata": {},
   "outputs": [],
   "source": [
    "\n",
    "gmaps = googlemaps.Client(key = 'AQUÍ PONEMOS LA CLAVE DE NUESTRA API')\n",
    "\n",
    "def geo_bbva(row_series):\n",
    "    \n",
    "    Ubicación = ', '.join(map(row_series.get, ['DEPARTAMENTO', 'PROVINCIA', 'DISTRITO', 'DIRECCIÓN']))\n",
    "\n",
    "    # Set Geolocation\n",
    "    result_api = gmaps.geocode(Ubicación, region = 'PE')\n",
    "    \n",
    "    # Information\n",
    "    try:\n",
    "        lat = result_api[0]['geometry']['location']['lat']\n",
    "        lon = result_api[0]['geometry']['location']['lng']   \n",
    "    except:\n",
    "        lat = np.nan\n",
    "        lon = np.nan\n",
    "    \n",
    "    return lat, lon"
   ]
  },
  {
   "cell_type": "code",
   "execution_count": null,
   "metadata": {},
   "outputs": [],
   "source": [
    "bbva_offices['COORDENADAS: Lat, Long'] = bbva_offices.apply(geo_bbva, axis=1)\n",
    "# Para reordenar las columnas\n",
    "bbva_offices = bbva_offices[['DIRECCIÓN', 'DISTRITO', 'PROVINCIA', 'DEPARTAMENTO', 'COORDENADAS: Lat, Long']]\n",
    "bbva_offices"
   ]
  },
  {
   "cell_type": "markdown",
   "metadata": {},
   "source": [
    "# PARTE 3: CALCULAR LA DISTANCIA ENTRE LA DIRECCIÓN DE CADA INTEGRANTE DEL GRUPO Y CADA OFICINA DEL BBVA"
   ]
  },
  {
   "cell_type": "code",
   "execution_count": null,
   "metadata": {},
   "outputs": [],
   "source": []
  },
  {
   "cell_type": "code",
   "execution_count": null,
   "metadata": {},
   "outputs": [],
   "source": []
  },
  {
   "cell_type": "code",
   "execution_count": null,
   "metadata": {},
   "outputs": [],
   "source": []
  }
 ],
 "metadata": {
  "hide_input": false,
  "kernelspec": {
   "display_name": "Python 3 (ipykernel)",
   "language": "python",
   "name": "python3"
  },
  "language_info": {
   "codemirror_mode": {
    "name": "ipython",
    "version": 3
   },
   "file_extension": ".py",
   "mimetype": "text/x-python",
   "name": "python",
   "nbconvert_exporter": "python",
   "pygments_lexer": "ipython3",
   "version": "3.12.4"
  },
  "toc": {
   "base_numbering": 1,
   "nav_menu": {},
   "number_sections": true,
   "sideBar": true,
   "skip_h1_title": false,
   "title_cell": "Table of Contents",
   "title_sidebar": "Contents",
   "toc_cell": false,
   "toc_position": {},
   "toc_section_display": true,
   "toc_window_display": false
  }
 },
 "nbformat": 4,
 "nbformat_minor": 4
}
