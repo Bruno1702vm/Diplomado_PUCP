{
 "cells": [
  {
   "cell_type": "markdown",
   "metadata": {},
   "source": [
    "# Group 6\n",
    "- GIL GUZMAN, ALEXSANDER GERARDO\n",
    "- SALMÓN SALAZAR, GISELLA VELDA\n",
    "- CIRIACO RUIZ, MAYTE JULIA\n",
    "- ARAUCO ALIAGA, ROXANA PATRICIA\n",
    "- VILLACORTA BARRERA, ANDRES ALEXANDER"
   ]
  },
  {
   "cell_type": "markdown",
   "metadata": {},
   "source": [
    "# Assigment 6\n",
    "\n",
    "\n",
    "This assigment will be graded if everything works well. I will run the script as once and everything should be done without errors and mistakes. I should be able to run your scripts in my computer and get all the results. **USE RELATIVE PATHS**. An error or exception or anything that breaks the code will means NO GRADE (0). Additionally, you are not able to modify any file handly. It also means NO GRADE (0). Comment everything you think will help others read your script. We expect 0 errors using GitHub. Everything will be graded!\n",
    "\n",
    "**ASK EVERYTHING! WE ARE HERE TO HELP YOU!**\n",
    "\n",
    "**GET YOUR GOOGLE API AND TOKEN. YOU WILL NEED THEM TO DO THIS TASK.**"
   ]
  },
  {
   "cell_type": "markdown",
   "metadata": {},
   "source": [
    "\n",
    "1. Import Data from [this url](https://github.com/alexanderquispe/Diplomado_PUCP/blob/main/_data/bbva_list.xlsx). This dataset is in excel format. You have to convert to PandasDataFrame."
   ]
  },
  {
   "cell_type": "code",
   "execution_count": null,
   "metadata": {},
   "outputs": [],
   "source": [
    "import pandas as pd\n",
    "import googlemaps\n",
    "\n",
    "# Read the data with the BBVA offices in Lima\n",
    "archivo_excel = '../../_data/bbva_list.xlsx'\n",
    "df = pd.read_excel(archivo_excel)\n",
    "df"
   ]
  },
  {
   "cell_type": "markdown",
   "metadata": {},
   "source": [
    "2. Use GoogleMaps API and geocode all the BBVA offices. For those offices that Google API gets no information, use internet and get the latitude and longitude handly and add them to dataset."
   ]
  },
  {
   "cell_type": "code",
   "execution_count": null,
   "metadata": {},
   "outputs": [],
   "source": [
    "!pip install googlemaps"
   ]
  },
  {
   "cell_type": "code",
   "execution_count": null,
   "metadata": {},
   "outputs": [],
   "source": [
    "import pandas as pd\n",
    "import numpy as np\n",
    "import os\n",
    "import urllib.request, json, csv\n",
    "import googlemaps\n",
    "from datetime import datetime\n",
    "import io\n",
    "import requests\n",
    "from functools import reduce\n",
    "import time\n",
    "from tqdm import tqdm"
   ]
  },
  {
   "cell_type": "code",
   "execution_count": null,
   "metadata": {},
   "outputs": [],
   "source": [
    "# Google Maps API Initialization\n",
    "api = 'AQUI VA EL CODIGO API'  \n",
    "gmaps = googlemaps.Client(key=api)\n",
    "\n",
    "# We create a new column \"Complete Address\"\n",
    "df['Direccion Completa'] = df['Direccion'] + ', ' + df['DISTRITO'] + ', ' + df['PROVINCIA'] + ', ' + df['DEPARTAMENTO']\n",
    "\n",
    "# We create new columns \"Latitude\" and \"Longitude\"\n",
    "df['Latitud'] = None\n",
    "df['Longitud'] = None\n",
    "\n",
    "# We iterate over DataFrame rows to geocode addresses\n",
    "for index, row in df.iterrows():\n",
    "    direccion = row['Direccion Completa']\n",
    "    geocode_result = gmaps.geocode(direccion)\n",
    "\n",
    "    if geocode_result:\n",
    "        location = geocode_result[0]['geometry']['location']\n",
    "        df.at[index, 'Latitud'] = location['lat']\n",
    "        df.at[index, 'Longitud'] = location['lng']\n",
    "\n",
    "# Finally we extract the complete address list after geocoding\n",
    "direcciones_bbva = df['Direccion Completa'].tolist()\n",
    "direcciones_bbva"
   ]
  },
  {
   "cell_type": "markdown",
   "metadata": {},
   "source": [
    "3. Use Google API to find the driving time (best guess) from all the group members' address and all the LIMA BBVA offices."
   ]
  },
  {
   "cell_type": "code",
   "execution_count": null,
   "metadata": {},
   "outputs": [],
   "source": [
    "import re\n",
    "from datetime import datetime\n",
    "\n",
    "# This Dictionary associates group members with their addresses\n",
    "usuarios_direcciones = {\n",
    "    'Andres': 'Thomas Esteves 220, Lima 15102',\n",
    "    'Roxana': 'Calle san martin 727. Dpto 403, Lima 15047',\n",
    "    'Alexander': 'Jr. Hualcan 1593, Los Olivos, Lima 15302',\n",
    "    'Gisella': 'Av. Paseo de la República 7819. Dpto 201, Lima 15049',\n",
    "    'Mayte': 'Calle Grecia, Mz. A, Lt. 4, Urb. La Viñas de Santo Cristo, Lima 15049'\n",
    "}\n",
    "\n",
    "# With this Function we convert the duration to minutes\n",
    "def obtener_duracion_en_minutos(duracion):\n",
    "    \"\"\"Convierte la duración de texto a minutos.\"\"\"\n",
    "    duracion_minutos = 0\n",
    "    if 'hour' in duracion:\n",
    "        duracion_minutos += int(re.search(r'\\d+', re.search(r'\\d+\\s*hour', duracion).group()).group()) * 60\n",
    "    if 'min' in duracion:\n",
    "        duracion_minutos += int(re.search(r'\\d+', re.search(r'\\d+\\s*min', duracion).group()).group())\n",
    "    return duracion_minutos\n",
    "\n",
    "# We iterate over each group member and their direction\n",
    "for usuario, direccion_miembro in usuarios_direcciones.items():\n",
    "    for direccion_bbva in direcciones_bbva:\n",
    "        # We make the request to the Google Maps Directions API\n",
    "        directions_result = gmaps.directions(direccion_miembro,\n",
    "                                             direccion_bbva,\n",
    "                                             mode=\"driving\",\n",
    "                                             departure_time=datetime.now())\n",
    "\n",
    "        # We extract and display the driving time\n",
    "        if directions_result:\n",
    "            duracion = directions_result[0]['legs'][0]['duration']['text']\n",
    "            duracion_minutos = obtener_duracion_en_minutos(duracion)\n",
    "            print(f\"Tiempo de conducción desde la dirección de {usuario} ({direccion_miembro}) hasta {direccion_bbva}: {duracion_minutos} mins\")\n",
    "        else:\n",
    "            print(f\"No se pudo obtener el tiempo de conducción desde la dirección de {usuario} ({direccion_miembro}) hasta {direccion_bbva}\")"
   ]
  },
  {
   "cell_type": "markdown",
   "metadata": {},
   "source": [
    "4. Finally, you have to give a report which offices are the most closest and furthest to every group member's address."
   ]
  }
 ],
 "metadata": {
  "hide_input": false,
  "kernelspec": {
   "display_name": "Python 3 (ipykernel)",
   "language": "python",
   "name": "python3"
  },
  "language_info": {
   "codemirror_mode": {
    "name": "ipython",
    "version": 3
   },
   "file_extension": ".py",
   "mimetype": "text/x-python",
   "name": "python",
   "nbconvert_exporter": "python",
   "pygments_lexer": "ipython3",
   "version": "3.12.4"
  },
  "toc": {
   "base_numbering": 1,
   "nav_menu": {},
   "number_sections": true,
   "sideBar": true,
   "skip_h1_title": false,
   "title_cell": "Table of Contents",
   "title_sidebar": "Contents",
   "toc_cell": false,
   "toc_position": {},
   "toc_section_display": true,
   "toc_window_display": false
  }
 },
 "nbformat": 4,
 "nbformat_minor": 4
}
