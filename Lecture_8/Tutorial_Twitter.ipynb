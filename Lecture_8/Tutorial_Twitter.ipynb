{
 "cells": [
  {
   "cell_type": "markdown",
   "metadata": {},
   "source": [
    "# 8.2 Twitter API"
   ]
  },
  {
   "cell_type": "markdown",
   "metadata": {},
   "source": [
    "- <a href='#8.1.'>8.1. Generate Twitter API Key</a>\n",
    "- <a href='#8.2.'>8.2. Tweepy </a> \n",
    "     - <a href='#8.2.1.'>8.2.1. Get tweets in a date range </a> \n",
    "- <a href='#8.3.'>8.3. Request tweet </a>  \n",
    "     - <a href='#8.3.1.'>8.3.1. Getting ID of username - jmwooldridge</a> \n",
    "     - <a href='#8.3.2.'>Getting Tweets Timeline - jmwooldridge</a> \n",
    "- <a href='#8.4.'>8.4. References</a>  "
   ]
  },
  {
   "cell_type": "code",
   "execution_count": 1,
   "metadata": {},
   "outputs": [],
   "source": [
    "# For sending GET requests from the API\n",
    "import requests\n",
    "# For saving access tokens and for file management when creating and adding to the dataset\n",
    "import os\n",
    "# For dealing with json responses we receive from the API\n",
    "import json\n",
    "# For displaying the data after\n",
    "import pandas as pd\n",
    "# For saving the response data in CSV format\n",
    "import csv\n",
    "# For parsing the dates received from twitter in readable formats\n",
    "import datetime\n",
    "import dateutil.parser\n",
    "import unicodedata\n",
    "#To add wait time between requests\n",
    "import time"
   ]
  },
  {
   "cell_type": "markdown",
   "metadata": {},
   "source": [
    "## <a id='8.1.'>8.1. Generate Twitter API Key</a>"
   ]
  },
  {
   "cell_type": "markdown",
   "metadata": {},
   "source": [
    "All you need to do is create a project and connect an App through the developer portal and we are set to go!\n",
    "\n",
    "1. Go to the developer [portal dashboard](https://developer.twitter.com/en/portal/dashboard).\n",
    "2. Sign in with your developer account.\n",
    "3. Create a new project, give it a name, a use-case based on the goal you want to achieve, and a description.\n",
    "<img src=\"../_images/1_twitter.png\" />\n",
    "\n",
    "4. Assuming this is your first time, choose ‘create a new App instead’ and give your App a name in order to create a new App.\n",
    "<img src=\"../_images/2_twitter.png\" />\n",
    "\n",
    "5. If everything is successful, you should be able to see this page containing your keys and tokens, we will use one of these to access the API.\n",
    "<img src=\"../_images/3_twitter.png\" />"
   ]
  },
  {
   "cell_type": "markdown",
   "metadata": {},
   "source": [
    "### <a id='8.2.'>8.2. Tweepy </a> "
   ]
  },
  {
   "cell_type": "code",
   "execution_count": 3,
   "metadata": {},
   "outputs": [
    {
     "name": "stdout",
     "output_type": "stream",
     "text": [
      "Collecting tweepy\n",
      "  Obtaining dependency information for tweepy from https://files.pythonhosted.org/packages/4d/78/ba0065d5636bbf4a35b78c4f81b74e7858b609cdf69e629d6da5c91b9d92/tweepy-4.14.0-py3-none-any.whl.metadata\n",
      "  Downloading tweepy-4.14.0-py3-none-any.whl.metadata (3.8 kB)\n",
      "Requirement already satisfied: oauthlib<4,>=3.2.0 in /Users/ar8787/anaconda3/lib/python3.11/site-packages (from tweepy) (3.2.2)\n",
      "Requirement already satisfied: requests<3,>=2.27.0 in /Users/ar8787/anaconda3/lib/python3.11/site-packages (from tweepy) (2.31.0)\n",
      "Requirement already satisfied: requests-oauthlib<2,>=1.2.0 in /Users/ar8787/anaconda3/lib/python3.11/site-packages (from tweepy) (1.3.1)\n",
      "Requirement already satisfied: charset-normalizer<4,>=2 in /Users/ar8787/anaconda3/lib/python3.11/site-packages (from requests<3,>=2.27.0->tweepy) (2.0.4)\n",
      "Requirement already satisfied: idna<4,>=2.5 in /Users/ar8787/anaconda3/lib/python3.11/site-packages (from requests<3,>=2.27.0->tweepy) (3.4)\n",
      "Requirement already satisfied: urllib3<3,>=1.21.1 in /Users/ar8787/anaconda3/lib/python3.11/site-packages (from requests<3,>=2.27.0->tweepy) (1.26.16)\n",
      "Requirement already satisfied: certifi>=2017.4.17 in /Users/ar8787/anaconda3/lib/python3.11/site-packages (from requests<3,>=2.27.0->tweepy) (2023.7.22)\n",
      "Downloading tweepy-4.14.0-py3-none-any.whl (98 kB)\n",
      "\u001b[2K   \u001b[90m━━━━━━━━━━━━━━━━━━━━━━━━━━━━━━━━━━━━━━━━\u001b[0m \u001b[32m98.5/98.5 kB\u001b[0m \u001b[31m4.7 MB/s\u001b[0m eta \u001b[36m0:00:00\u001b[0m\n",
      "\u001b[?25hInstalling collected packages: tweepy\n",
      "Successfully installed tweepy-4.14.0\n"
     ]
    }
   ],
   "source": [
    "!pip install tweepy"
   ]
  },
  {
   "cell_type": "code",
   "execution_count": 4,
   "metadata": {},
   "outputs": [],
   "source": [
    "import tweepy\n",
    "consumer_key = \"Rr3sWjlZW6bdDlL2pRf1pbtia\"\n",
    "consumer_secret = \"mxhZpvR8BX96Sd347oCcNRDDjpdwHVxItwWE28ahKpiuQgvRe4\"\n",
    "auth = tweepy.OAuthHandler( consumer_key, consumer_secret )\n",
    "\n",
    "access_token = \"1270850339223343105-DLleC3HxuR45fyVJOJHsQ5YEaXv8kO\"\n",
    "access_token_secret = \"lNJ1iQVmHJIw0QZHaC19svWk2GbCthmzhsk4jXaVStmcM\"\n",
    "auth.set_access_token( access_token, access_token_secret )\n",
    "\n",
    "api = tweepy.API(auth)"
   ]
  },
  {
   "cell_type": "markdown",
   "metadata": {},
   "source": [
    "Get Timeline of user"
   ]
  },
  {
   "cell_type": "code",
   "execution_count": 5,
   "metadata": {},
   "outputs": [
    {
     "ename": "Forbidden",
     "evalue": "403 Forbidden\n453 - You currently have access to a subset of Twitter API v2 endpoints and limited v1.1 endpoints (e.g. media post, oauth) only. If you need access to this endpoint, you may need a different access level. You can learn more here: https://developer.twitter.com/en/portal/product",
     "output_type": "error",
     "traceback": [
      "\u001b[0;31m---------------------------------------------------------------------------\u001b[0m",
      "\u001b[0;31mForbidden\u001b[0m                                 Traceback (most recent call last)",
      "Cell \u001b[0;32mIn[5], line 2\u001b[0m\n\u001b[1;32m      1\u001b[0m \u001b[38;5;66;03m# Get Timeline\u001b[39;00m\n\u001b[0;32m----> 2\u001b[0m public_tweets \u001b[38;5;241m=\u001b[39m api\u001b[38;5;241m.\u001b[39mhome_timeline()\n\u001b[1;32m      3\u001b[0m \u001b[38;5;28;01mfor\u001b[39;00m tweet \u001b[38;5;129;01min\u001b[39;00m public_tweets:\n\u001b[1;32m      4\u001b[0m     \u001b[38;5;28mprint\u001b[39m( tweet\u001b[38;5;241m.\u001b[39mtext )\n",
      "File \u001b[0;32m~/anaconda3/lib/python3.11/site-packages/tweepy/api.py:33\u001b[0m, in \u001b[0;36mpagination.<locals>.decorator.<locals>.wrapper\u001b[0;34m(*args, **kwargs)\u001b[0m\n\u001b[1;32m     31\u001b[0m \u001b[38;5;129m@functools\u001b[39m\u001b[38;5;241m.\u001b[39mwraps(method)\n\u001b[1;32m     32\u001b[0m \u001b[38;5;28;01mdef\u001b[39;00m \u001b[38;5;21mwrapper\u001b[39m(\u001b[38;5;241m*\u001b[39margs, \u001b[38;5;241m*\u001b[39m\u001b[38;5;241m*\u001b[39mkwargs):\n\u001b[0;32m---> 33\u001b[0m     \u001b[38;5;28;01mreturn\u001b[39;00m method(\u001b[38;5;241m*\u001b[39margs, \u001b[38;5;241m*\u001b[39m\u001b[38;5;241m*\u001b[39mkwargs)\n",
      "File \u001b[0;32m~/anaconda3/lib/python3.11/site-packages/tweepy/api.py:46\u001b[0m, in \u001b[0;36mpayload.<locals>.decorator.<locals>.wrapper\u001b[0;34m(*args, **kwargs)\u001b[0m\n\u001b[1;32m     44\u001b[0m kwargs[\u001b[38;5;124m'\u001b[39m\u001b[38;5;124mpayload_list\u001b[39m\u001b[38;5;124m'\u001b[39m] \u001b[38;5;241m=\u001b[39m payload_list\n\u001b[1;32m     45\u001b[0m kwargs[\u001b[38;5;124m'\u001b[39m\u001b[38;5;124mpayload_type\u001b[39m\u001b[38;5;124m'\u001b[39m] \u001b[38;5;241m=\u001b[39m payload_type\n\u001b[0;32m---> 46\u001b[0m \u001b[38;5;28;01mreturn\u001b[39;00m method(\u001b[38;5;241m*\u001b[39margs, \u001b[38;5;241m*\u001b[39m\u001b[38;5;241m*\u001b[39mkwargs)\n",
      "File \u001b[0;32m~/anaconda3/lib/python3.11/site-packages/tweepy/api.py:331\u001b[0m, in \u001b[0;36mAPI.home_timeline\u001b[0;34m(self, **kwargs)\u001b[0m\n\u001b[1;32m    298\u001b[0m \u001b[38;5;129m@pagination\u001b[39m(mode\u001b[38;5;241m=\u001b[39m\u001b[38;5;124m'\u001b[39m\u001b[38;5;124mid\u001b[39m\u001b[38;5;124m'\u001b[39m)\n\u001b[1;32m    299\u001b[0m \u001b[38;5;129m@payload\u001b[39m(\u001b[38;5;124m'\u001b[39m\u001b[38;5;124mstatus\u001b[39m\u001b[38;5;124m'\u001b[39m, \u001b[38;5;28mlist\u001b[39m\u001b[38;5;241m=\u001b[39m\u001b[38;5;28;01mTrue\u001b[39;00m)\n\u001b[1;32m    300\u001b[0m \u001b[38;5;28;01mdef\u001b[39;00m \u001b[38;5;21mhome_timeline\u001b[39m(\u001b[38;5;28mself\u001b[39m, \u001b[38;5;241m*\u001b[39m\u001b[38;5;241m*\u001b[39mkwargs):\n\u001b[1;32m    301\u001b[0m \u001b[38;5;250m    \u001b[39m\u001b[38;5;124;03m\"\"\"home_timeline(*, count, since_id, max_id, trim_user, \\\u001b[39;00m\n\u001b[1;32m    302\u001b[0m \u001b[38;5;124;03m                     exclude_replies, include_entities)\u001b[39;00m\n\u001b[1;32m    303\u001b[0m \n\u001b[0;32m   (...)\u001b[0m\n\u001b[1;32m    329\u001b[0m \u001b[38;5;124;03m    https://developer.twitter.com/en/docs/twitter-api/v1/tweets/timelines/api-reference/get-statuses-home_timeline\u001b[39;00m\n\u001b[1;32m    330\u001b[0m \u001b[38;5;124;03m    \"\"\"\u001b[39;00m\n\u001b[0;32m--> 331\u001b[0m     \u001b[38;5;28;01mreturn\u001b[39;00m \u001b[38;5;28mself\u001b[39m\u001b[38;5;241m.\u001b[39mrequest(\n\u001b[1;32m    332\u001b[0m         \u001b[38;5;124m'\u001b[39m\u001b[38;5;124mGET\u001b[39m\u001b[38;5;124m'\u001b[39m, \u001b[38;5;124m'\u001b[39m\u001b[38;5;124mstatuses/home_timeline\u001b[39m\u001b[38;5;124m'\u001b[39m, endpoint_parameters\u001b[38;5;241m=\u001b[39m(\n\u001b[1;32m    333\u001b[0m             \u001b[38;5;124m'\u001b[39m\u001b[38;5;124mcount\u001b[39m\u001b[38;5;124m'\u001b[39m, \u001b[38;5;124m'\u001b[39m\u001b[38;5;124msince_id\u001b[39m\u001b[38;5;124m'\u001b[39m, \u001b[38;5;124m'\u001b[39m\u001b[38;5;124mmax_id\u001b[39m\u001b[38;5;124m'\u001b[39m, \u001b[38;5;124m'\u001b[39m\u001b[38;5;124mtrim_user\u001b[39m\u001b[38;5;124m'\u001b[39m, \u001b[38;5;124m'\u001b[39m\u001b[38;5;124mexclude_replies\u001b[39m\u001b[38;5;124m'\u001b[39m,\n\u001b[1;32m    334\u001b[0m             \u001b[38;5;124m'\u001b[39m\u001b[38;5;124minclude_entities\u001b[39m\u001b[38;5;124m'\u001b[39m\n\u001b[1;32m    335\u001b[0m         ), \u001b[38;5;241m*\u001b[39m\u001b[38;5;241m*\u001b[39mkwargs\n\u001b[1;32m    336\u001b[0m     )\n",
      "File \u001b[0;32m~/anaconda3/lib/python3.11/site-packages/tweepy/api.py:271\u001b[0m, in \u001b[0;36mAPI.request\u001b[0;34m(self, method, endpoint, endpoint_parameters, params, headers, json_payload, parser, payload_list, payload_type, post_data, files, require_auth, return_cursors, upload_api, use_cache, **kwargs)\u001b[0m\n\u001b[1;32m    269\u001b[0m     \u001b[38;5;28;01mraise\u001b[39;00m Unauthorized(resp)\n\u001b[1;32m    270\u001b[0m \u001b[38;5;28;01mif\u001b[39;00m resp\u001b[38;5;241m.\u001b[39mstatus_code \u001b[38;5;241m==\u001b[39m \u001b[38;5;241m403\u001b[39m:\n\u001b[0;32m--> 271\u001b[0m     \u001b[38;5;28;01mraise\u001b[39;00m Forbidden(resp)\n\u001b[1;32m    272\u001b[0m \u001b[38;5;28;01mif\u001b[39;00m resp\u001b[38;5;241m.\u001b[39mstatus_code \u001b[38;5;241m==\u001b[39m \u001b[38;5;241m404\u001b[39m:\n\u001b[1;32m    273\u001b[0m     \u001b[38;5;28;01mraise\u001b[39;00m NotFound(resp)\n",
      "\u001b[0;31mForbidden\u001b[0m: 403 Forbidden\n453 - You currently have access to a subset of Twitter API v2 endpoints and limited v1.1 endpoints (e.g. media post, oauth) only. If you need access to this endpoint, you may need a different access level. You can learn more here: https://developer.twitter.com/en/portal/product"
     ]
    }
   ],
   "source": [
    "# Get Timeline\n",
    "public_tweets = api.home_timeline()\n",
    "for tweet in public_tweets:\n",
    "    print( tweet.text )"
   ]
  },
  {
   "cell_type": "markdown",
   "metadata": {},
   "source": [
    "Getting tweets from [Judea Pearl](https://twitter.com/yudapearl)."
   ]
  },
  {
   "cell_type": "code",
   "execution_count": 6,
   "metadata": {},
   "outputs": [],
   "source": [
    "userID = \"yudapearl\""
   ]
  },
  {
   "cell_type": "code",
   "execution_count": 7,
   "metadata": {},
   "outputs": [
    {
     "ename": "Forbidden",
     "evalue": "403 Forbidden\n453 - You currently have access to a subset of Twitter API v2 endpoints and limited v1.1 endpoints (e.g. media post, oauth) only. If you need access to this endpoint, you may need a different access level. You can learn more here: https://developer.twitter.com/en/portal/product",
     "output_type": "error",
     "traceback": [
      "\u001b[0;31m---------------------------------------------------------------------------\u001b[0m",
      "\u001b[0;31mForbidden\u001b[0m                                 Traceback (most recent call last)",
      "Cell \u001b[0;32mIn[7], line 9\u001b[0m\n\u001b[1;32m      6\u001b[0m api \u001b[38;5;241m=\u001b[39m tweepy\u001b[38;5;241m.\u001b[39mAPI(auth)\n\u001b[1;32m      8\u001b[0m \u001b[38;5;66;03m# Get Tweets\u001b[39;00m\n\u001b[0;32m----> 9\u001b[0m tweets_bi \u001b[38;5;241m=\u001b[39m api\u001b[38;5;241m.\u001b[39muser_timeline(screen_name \u001b[38;5;241m=\u001b[39m userID, \n\u001b[1;32m     10\u001b[0m                            \u001b[38;5;66;03m# 200 is the maximum allowed count\u001b[39;00m\n\u001b[1;32m     11\u001b[0m                            count \u001b[38;5;241m=\u001b[39m \u001b[38;5;241m100\u001b[39m,\n\u001b[1;32m     12\u001b[0m                            include_rts \u001b[38;5;241m=\u001b[39m \u001b[38;5;28;01mFalse\u001b[39;00m,\n\u001b[1;32m     13\u001b[0m                            \u001b[38;5;66;03m# Necessary to keep full_text \u001b[39;00m\n\u001b[1;32m     14\u001b[0m                            \u001b[38;5;66;03m# otherwise only the first 140 words are extracted\u001b[39;00m\n\u001b[1;32m     15\u001b[0m                            tweet_mode \u001b[38;5;241m=\u001b[39m \u001b[38;5;124m'\u001b[39m\u001b[38;5;124mextended\u001b[39m\u001b[38;5;124m'\u001b[39m\n\u001b[1;32m     16\u001b[0m                            )\n",
      "File \u001b[0;32m~/anaconda3/lib/python3.11/site-packages/tweepy/api.py:33\u001b[0m, in \u001b[0;36mpagination.<locals>.decorator.<locals>.wrapper\u001b[0;34m(*args, **kwargs)\u001b[0m\n\u001b[1;32m     31\u001b[0m \u001b[38;5;129m@functools\u001b[39m\u001b[38;5;241m.\u001b[39mwraps(method)\n\u001b[1;32m     32\u001b[0m \u001b[38;5;28;01mdef\u001b[39;00m \u001b[38;5;21mwrapper\u001b[39m(\u001b[38;5;241m*\u001b[39margs, \u001b[38;5;241m*\u001b[39m\u001b[38;5;241m*\u001b[39mkwargs):\n\u001b[0;32m---> 33\u001b[0m     \u001b[38;5;28;01mreturn\u001b[39;00m method(\u001b[38;5;241m*\u001b[39margs, \u001b[38;5;241m*\u001b[39m\u001b[38;5;241m*\u001b[39mkwargs)\n",
      "File \u001b[0;32m~/anaconda3/lib/python3.11/site-packages/tweepy/api.py:46\u001b[0m, in \u001b[0;36mpayload.<locals>.decorator.<locals>.wrapper\u001b[0;34m(*args, **kwargs)\u001b[0m\n\u001b[1;32m     44\u001b[0m kwargs[\u001b[38;5;124m'\u001b[39m\u001b[38;5;124mpayload_list\u001b[39m\u001b[38;5;124m'\u001b[39m] \u001b[38;5;241m=\u001b[39m payload_list\n\u001b[1;32m     45\u001b[0m kwargs[\u001b[38;5;124m'\u001b[39m\u001b[38;5;124mpayload_type\u001b[39m\u001b[38;5;124m'\u001b[39m] \u001b[38;5;241m=\u001b[39m payload_type\n\u001b[0;32m---> 46\u001b[0m \u001b[38;5;28;01mreturn\u001b[39;00m method(\u001b[38;5;241m*\u001b[39margs, \u001b[38;5;241m*\u001b[39m\u001b[38;5;241m*\u001b[39mkwargs)\n",
      "File \u001b[0;32m~/anaconda3/lib/python3.11/site-packages/tweepy/api.py:414\u001b[0m, in \u001b[0;36mAPI.user_timeline\u001b[0;34m(self, **kwargs)\u001b[0m\n\u001b[1;32m    373\u001b[0m \u001b[38;5;129m@pagination\u001b[39m(mode\u001b[38;5;241m=\u001b[39m\u001b[38;5;124m'\u001b[39m\u001b[38;5;124mid\u001b[39m\u001b[38;5;124m'\u001b[39m)\n\u001b[1;32m    374\u001b[0m \u001b[38;5;129m@payload\u001b[39m(\u001b[38;5;124m'\u001b[39m\u001b[38;5;124mstatus\u001b[39m\u001b[38;5;124m'\u001b[39m, \u001b[38;5;28mlist\u001b[39m\u001b[38;5;241m=\u001b[39m\u001b[38;5;28;01mTrue\u001b[39;00m)\n\u001b[1;32m    375\u001b[0m \u001b[38;5;28;01mdef\u001b[39;00m \u001b[38;5;21muser_timeline\u001b[39m(\u001b[38;5;28mself\u001b[39m, \u001b[38;5;241m*\u001b[39m\u001b[38;5;241m*\u001b[39mkwargs):\n\u001b[1;32m    376\u001b[0m \u001b[38;5;250m    \u001b[39m\u001b[38;5;124;03m\"\"\"user_timeline(*, user_id, screen_name, since_id, count, max_id, \\\u001b[39;00m\n\u001b[1;32m    377\u001b[0m \u001b[38;5;124;03m                     trim_user, exclude_replies, include_rts)\u001b[39;00m\n\u001b[1;32m    378\u001b[0m \n\u001b[0;32m   (...)\u001b[0m\n\u001b[1;32m    412\u001b[0m \u001b[38;5;124;03m    https://developer.twitter.com/en/docs/twitter-api/v1/tweets/timelines/api-reference/get-statuses-user_timeline\u001b[39;00m\n\u001b[1;32m    413\u001b[0m \u001b[38;5;124;03m    \"\"\"\u001b[39;00m\n\u001b[0;32m--> 414\u001b[0m     \u001b[38;5;28;01mreturn\u001b[39;00m \u001b[38;5;28mself\u001b[39m\u001b[38;5;241m.\u001b[39mrequest(\n\u001b[1;32m    415\u001b[0m         \u001b[38;5;124m'\u001b[39m\u001b[38;5;124mGET\u001b[39m\u001b[38;5;124m'\u001b[39m, \u001b[38;5;124m'\u001b[39m\u001b[38;5;124mstatuses/user_timeline\u001b[39m\u001b[38;5;124m'\u001b[39m, endpoint_parameters\u001b[38;5;241m=\u001b[39m(\n\u001b[1;32m    416\u001b[0m             \u001b[38;5;124m'\u001b[39m\u001b[38;5;124muser_id\u001b[39m\u001b[38;5;124m'\u001b[39m, \u001b[38;5;124m'\u001b[39m\u001b[38;5;124mscreen_name\u001b[39m\u001b[38;5;124m'\u001b[39m, \u001b[38;5;124m'\u001b[39m\u001b[38;5;124msince_id\u001b[39m\u001b[38;5;124m'\u001b[39m, \u001b[38;5;124m'\u001b[39m\u001b[38;5;124mcount\u001b[39m\u001b[38;5;124m'\u001b[39m, \u001b[38;5;124m'\u001b[39m\u001b[38;5;124mmax_id\u001b[39m\u001b[38;5;124m'\u001b[39m,\n\u001b[1;32m    417\u001b[0m             \u001b[38;5;124m'\u001b[39m\u001b[38;5;124mtrim_user\u001b[39m\u001b[38;5;124m'\u001b[39m, \u001b[38;5;124m'\u001b[39m\u001b[38;5;124mexclude_replies\u001b[39m\u001b[38;5;124m'\u001b[39m, \u001b[38;5;124m'\u001b[39m\u001b[38;5;124minclude_rts\u001b[39m\u001b[38;5;124m'\u001b[39m\n\u001b[1;32m    418\u001b[0m         ), \u001b[38;5;241m*\u001b[39m\u001b[38;5;241m*\u001b[39mkwargs\n\u001b[1;32m    419\u001b[0m     )\n",
      "File \u001b[0;32m~/anaconda3/lib/python3.11/site-packages/tweepy/api.py:271\u001b[0m, in \u001b[0;36mAPI.request\u001b[0;34m(self, method, endpoint, endpoint_parameters, params, headers, json_payload, parser, payload_list, payload_type, post_data, files, require_auth, return_cursors, upload_api, use_cache, **kwargs)\u001b[0m\n\u001b[1;32m    269\u001b[0m     \u001b[38;5;28;01mraise\u001b[39;00m Unauthorized(resp)\n\u001b[1;32m    270\u001b[0m \u001b[38;5;28;01mif\u001b[39;00m resp\u001b[38;5;241m.\u001b[39mstatus_code \u001b[38;5;241m==\u001b[39m \u001b[38;5;241m403\u001b[39m:\n\u001b[0;32m--> 271\u001b[0m     \u001b[38;5;28;01mraise\u001b[39;00m Forbidden(resp)\n\u001b[1;32m    272\u001b[0m \u001b[38;5;28;01mif\u001b[39;00m resp\u001b[38;5;241m.\u001b[39mstatus_code \u001b[38;5;241m==\u001b[39m \u001b[38;5;241m404\u001b[39m:\n\u001b[1;32m    273\u001b[0m     \u001b[38;5;28;01mraise\u001b[39;00m NotFound(resp)\n",
      "\u001b[0;31mForbidden\u001b[0m: 403 Forbidden\n453 - You currently have access to a subset of Twitter API v2 endpoints and limited v1.1 endpoints (e.g. media post, oauth) only. If you need access to this endpoint, you may need a different access level. You can learn more here: https://developer.twitter.com/en/portal/product"
     ]
    }
   ],
   "source": [
    "# Set uttils\n",
    "auth = tweepy.OAuthHandler(consumer_key, consumer_secret)\n",
    "auth.set_access_token(access_token, access_token_secret)\n",
    "\n",
    "# Set API\n",
    "api = tweepy.API(auth)\n",
    "\n",
    "# Get Tweets\n",
    "tweets_bi = api.user_timeline(screen_name = userID, \n",
    "                           # 200 is the maximum allowed count\n",
    "                           count = 100,\n",
    "                           include_rts = False,\n",
    "                           # Necessary to keep full_text \n",
    "                           # otherwise only the first 140 words are extracted\n",
    "                           tweet_mode = 'extended'\n",
    "                           )"
   ]
  },
  {
   "cell_type": "code",
   "execution_count": 8,
   "metadata": {},
   "outputs": [
    {
     "ename": "NameError",
     "evalue": "name 'tweets_bi' is not defined",
     "output_type": "error",
     "traceback": [
      "\u001b[0;31m---------------------------------------------------------------------------\u001b[0m",
      "\u001b[0;31mNameError\u001b[0m                                 Traceback (most recent call last)",
      "Cell \u001b[0;32mIn[8], line 1\u001b[0m\n\u001b[0;32m----> 1\u001b[0m \u001b[38;5;28mprint\u001b[39m( tweets_bi[\u001b[38;5;241m0\u001b[39m]\u001b[38;5;241m.\u001b[39mid )\n\u001b[1;32m      2\u001b[0m \u001b[38;5;28mprint\u001b[39m( tweets_bi[\u001b[38;5;241m0\u001b[39m]\u001b[38;5;241m.\u001b[39mcreated_at )\n\u001b[1;32m      3\u001b[0m \u001b[38;5;28mprint\u001b[39m( tweets_bi[\u001b[38;5;241m0\u001b[39m]\u001b[38;5;241m.\u001b[39mfull_text )\n",
      "\u001b[0;31mNameError\u001b[0m: name 'tweets_bi' is not defined"
     ]
    }
   ],
   "source": [
    "print( tweets_bi[0].id )\n",
    "print( tweets_bi[0].created_at )\n",
    "print( tweets_bi[0].full_text )"
   ]
  },
  {
   "cell_type": "code",
   "execution_count": 47,
   "metadata": {},
   "outputs": [
    {
     "name": "stdout",
     "output_type": "stream",
     "text": [
      "ID: 1629587274651537410\n",
      "2023-02-25 21:00:57\n",
      "I bet there are many carefully conducted observational studies where, lacking causal models, researchers were unable to decide what factors need adjustments in order to obtain an unbiased estimates of causal effects.\n",
      "Time for modern re-analyses of precious data. https://t.co/H9AnXsaZIB\n",
      "\n",
      "\n",
      "ID: 1629583134990958592\n",
      "2023-02-25 20:44:30\n",
      "This is an opportunity for the CUNY community to expose Saly Abd Alla ,disqualifications by focusing on her Zionophobic racism, rather than falling into the antisemitic rabbit hole. Focus, focus, focus. https://t.co/1hgjAF7bvI\n",
      "\n",
      "\n",
      "ID: 1629457161473650688\n",
      "2023-02-25 12:23:55\n",
      "America has changed, Mr. Ambassador. How can it be that Berkeley Law School would proclaim Zionist speakers unwanted, and CUNY's President would designate a BDS activist to head \"diversity and inclusion\"?\n",
      "America has changed. https://t.co/8l4FxYaJXa\n",
      "\n",
      "\n"
     ]
    }
   ],
   "source": [
    "for info in tweets_bi[:3]:\n",
    "     print(\"ID: {}\".format(info.id))\n",
    "     print(info.created_at)\n",
    "     print(info.full_text)\n",
    "     print(\"\\n\")"
   ]
  },
  {
   "cell_type": "code",
   "execution_count": 48,
   "metadata": {},
   "outputs": [
    {
     "data": {
      "text/plain": [
       "'I bet there are many carefully conducted observational studies where, lacking causal models, researchers were unable to decide what factors need adjustments in order to obtain an unbiased estimates of causal effects.\\nTime for modern re-analyses of precious data. https://t.co/H9AnXsaZIB'"
      ]
     },
     "execution_count": 48,
     "metadata": {},
     "output_type": "execute_result"
    }
   ],
   "source": [
    "tweets_bi[0].full_text"
   ]
  },
  {
   "cell_type": "code",
   "execution_count": 49,
   "metadata": {},
   "outputs": [
    {
     "data": {
      "text/html": [
       "<div>\n",
       "<style scoped>\n",
       "    .dataframe tbody tr th:only-of-type {\n",
       "        vertical-align: middle;\n",
       "    }\n",
       "\n",
       "    .dataframe tbody tr th {\n",
       "        vertical-align: top;\n",
       "    }\n",
       "\n",
       "    .dataframe thead th {\n",
       "        text-align: right;\n",
       "    }\n",
       "</style>\n",
       "<table border=\"1\" class=\"dataframe\">\n",
       "  <thead>\n",
       "    <tr style=\"text-align: right;\">\n",
       "      <th></th>\n",
       "      <th>id</th>\n",
       "      <th>created_at</th>\n",
       "      <th>favorite_count</th>\n",
       "      <th>retweet_count</th>\n",
       "      <th>text</th>\n",
       "    </tr>\n",
       "  </thead>\n",
       "  <tbody>\n",
       "    <tr>\n",
       "      <th>0</th>\n",
       "      <td>1629587274651537410</td>\n",
       "      <td>2023-02-25 21:00:57</td>\n",
       "      <td>6</td>\n",
       "      <td>1</td>\n",
       "      <td>I bet there are many carefully conducted obser...</td>\n",
       "    </tr>\n",
       "    <tr>\n",
       "      <th>1</th>\n",
       "      <td>1629583134990958592</td>\n",
       "      <td>2023-02-25 20:44:30</td>\n",
       "      <td>1</td>\n",
       "      <td>2</td>\n",
       "      <td>This is an opportunity for the CUNY community ...</td>\n",
       "    </tr>\n",
       "    <tr>\n",
       "      <th>2</th>\n",
       "      <td>1629457161473650688</td>\n",
       "      <td>2023-02-25 12:23:55</td>\n",
       "      <td>121</td>\n",
       "      <td>41</td>\n",
       "      <td>America has changed, Mr. Ambassador. How can i...</td>\n",
       "    </tr>\n",
       "  </tbody>\n",
       "</table>\n",
       "</div>"
      ],
      "text/plain": [
       "                    id          created_at  favorite_count  retweet_count  \\\n",
       "0  1629587274651537410 2023-02-25 21:00:57               6              1   \n",
       "1  1629583134990958592 2023-02-25 20:44:30               1              2   \n",
       "2  1629457161473650688 2023-02-25 12:23:55             121             41   \n",
       "\n",
       "                                                text  \n",
       "0  I bet there are many carefully conducted obser...  \n",
       "1  This is an opportunity for the CUNY community ...  \n",
       "2  America has changed, Mr. Ambassador. How can i...  "
      ]
     },
     "execution_count": 49,
     "metadata": {},
     "output_type": "execute_result"
    }
   ],
   "source": [
    "from pandas import DataFrame\n",
    "outtweets = [[tweet.id_str, \n",
    "              tweet.created_at, \n",
    "              tweet.favorite_count, \n",
    "              tweet.retweet_count, \n",
    "              tweet.full_text.encode(\"utf-8\").decode(\"utf-8\")] \n",
    "             for idx,tweet in enumerate(tweets_bi)]\n",
    "df = DataFrame(outtweets,columns=[\"id\",\"created_at\",\"favorite_count\",\"retweet_count\", \"text\"])\n",
    "df.to_csv( f'{userID}_tweets.csv', index = False )\n",
    "df.head(3)"
   ]
  },
  {
   "cell_type": "code",
   "execution_count": 50,
   "metadata": {},
   "outputs": [
    {
     "data": {
      "text/html": [
       "<div>\n",
       "<style scoped>\n",
       "    .dataframe tbody tr th:only-of-type {\n",
       "        vertical-align: middle;\n",
       "    }\n",
       "\n",
       "    .dataframe tbody tr th {\n",
       "        vertical-align: top;\n",
       "    }\n",
       "\n",
       "    .dataframe thead th {\n",
       "        text-align: right;\n",
       "    }\n",
       "</style>\n",
       "<table border=\"1\" class=\"dataframe\">\n",
       "  <thead>\n",
       "    <tr style=\"text-align: right;\">\n",
       "      <th></th>\n",
       "      <th>id</th>\n",
       "      <th>created_at</th>\n",
       "      <th>favorite_count</th>\n",
       "      <th>retweet_count</th>\n",
       "      <th>text</th>\n",
       "    </tr>\n",
       "  </thead>\n",
       "  <tbody>\n",
       "    <tr>\n",
       "      <th>0</th>\n",
       "      <td>1629587274651537410</td>\n",
       "      <td>2023-02-25 21:00:57</td>\n",
       "      <td>6</td>\n",
       "      <td>1</td>\n",
       "      <td>I bet there are many carefully conducted obser...</td>\n",
       "    </tr>\n",
       "    <tr>\n",
       "      <th>1</th>\n",
       "      <td>1629583134990958592</td>\n",
       "      <td>2023-02-25 20:44:30</td>\n",
       "      <td>1</td>\n",
       "      <td>2</td>\n",
       "      <td>This is an opportunity for the CUNY community ...</td>\n",
       "    </tr>\n",
       "    <tr>\n",
       "      <th>2</th>\n",
       "      <td>1629457161473650688</td>\n",
       "      <td>2023-02-25 12:23:55</td>\n",
       "      <td>121</td>\n",
       "      <td>41</td>\n",
       "      <td>America has changed, Mr. Ambassador. How can i...</td>\n",
       "    </tr>\n",
       "    <tr>\n",
       "      <th>3</th>\n",
       "      <td>1629451136053944322</td>\n",
       "      <td>2023-02-25 11:59:59</td>\n",
       "      <td>39</td>\n",
       "      <td>3</td>\n",
       "      <td>Sparks of light can be seen even on this \"Day ...</td>\n",
       "    </tr>\n",
       "    <tr>\n",
       "      <th>4</th>\n",
       "      <td>1629447735756881920</td>\n",
       "      <td>2023-02-25 11:46:28</td>\n",
       "      <td>5</td>\n",
       "      <td>3</td>\n",
       "      <td>Another nice feature of the @soboleffspaces - ...</td>\n",
       "    </tr>\n",
       "    <tr>\n",
       "      <th>...</th>\n",
       "      <td>...</td>\n",
       "      <td>...</td>\n",
       "      <td>...</td>\n",
       "      <td>...</td>\n",
       "      <td>...</td>\n",
       "    </tr>\n",
       "    <tr>\n",
       "      <th>83</th>\n",
       "      <td>1627636460487872513</td>\n",
       "      <td>2023-02-20 11:49:06</td>\n",
       "      <td>2</td>\n",
       "      <td>0</td>\n",
       "      <td>@HL327 @stephensenn @f2harrell @AngeloDalli @R...</td>\n",
       "    </tr>\n",
       "    <tr>\n",
       "      <th>84</th>\n",
       "      <td>1627610213565222916</td>\n",
       "      <td>2023-02-20 10:04:49</td>\n",
       "      <td>0</td>\n",
       "      <td>0</td>\n",
       "      <td>@HL327 @stephensenn @f2harrell @AngeloDalli @R...</td>\n",
       "    </tr>\n",
       "    <tr>\n",
       "      <th>85</th>\n",
       "      <td>1627577912462561282</td>\n",
       "      <td>2023-02-20 07:56:27</td>\n",
       "      <td>2</td>\n",
       "      <td>0</td>\n",
       "      <td>@stephensenn @HL327 @f2harrell @AngeloDalli @R...</td>\n",
       "    </tr>\n",
       "    <tr>\n",
       "      <th>86</th>\n",
       "      <td>1627571557186048000</td>\n",
       "      <td>2023-02-20 07:31:12</td>\n",
       "      <td>2</td>\n",
       "      <td>0</td>\n",
       "      <td>@sim0ngates @f2harrell @HL327 @stephensenn @An...</td>\n",
       "    </tr>\n",
       "    <tr>\n",
       "      <th>87</th>\n",
       "      <td>1627399456999235584</td>\n",
       "      <td>2023-02-19 20:07:20</td>\n",
       "      <td>0</td>\n",
       "      <td>0</td>\n",
       "      <td>@heckerma1 @PSpirtes I got a broken link, can ...</td>\n",
       "    </tr>\n",
       "  </tbody>\n",
       "</table>\n",
       "<p>88 rows × 5 columns</p>\n",
       "</div>"
      ],
      "text/plain": [
       "                     id          created_at  favorite_count  retweet_count  \\\n",
       "0   1629587274651537410 2023-02-25 21:00:57               6              1   \n",
       "1   1629583134990958592 2023-02-25 20:44:30               1              2   \n",
       "2   1629457161473650688 2023-02-25 12:23:55             121             41   \n",
       "3   1629451136053944322 2023-02-25 11:59:59              39              3   \n",
       "4   1629447735756881920 2023-02-25 11:46:28               5              3   \n",
       "..                  ...                 ...             ...            ...   \n",
       "83  1627636460487872513 2023-02-20 11:49:06               2              0   \n",
       "84  1627610213565222916 2023-02-20 10:04:49               0              0   \n",
       "85  1627577912462561282 2023-02-20 07:56:27               2              0   \n",
       "86  1627571557186048000 2023-02-20 07:31:12               2              0   \n",
       "87  1627399456999235584 2023-02-19 20:07:20               0              0   \n",
       "\n",
       "                                                 text  \n",
       "0   I bet there are many carefully conducted obser...  \n",
       "1   This is an opportunity for the CUNY community ...  \n",
       "2   America has changed, Mr. Ambassador. How can i...  \n",
       "3   Sparks of light can be seen even on this \"Day ...  \n",
       "4   Another nice feature of the @soboleffspaces - ...  \n",
       "..                                                ...  \n",
       "83  @HL327 @stephensenn @f2harrell @AngeloDalli @R...  \n",
       "84  @HL327 @stephensenn @f2harrell @AngeloDalli @R...  \n",
       "85  @stephensenn @HL327 @f2harrell @AngeloDalli @R...  \n",
       "86  @sim0ngates @f2harrell @HL327 @stephensenn @An...  \n",
       "87  @heckerma1 @PSpirtes I got a broken link, can ...  \n",
       "\n",
       "[88 rows x 5 columns]"
      ]
     },
     "execution_count": 50,
     "metadata": {},
     "output_type": "execute_result"
    }
   ],
   "source": [
    "df"
   ]
  },
  {
   "cell_type": "markdown",
   "metadata": {},
   "source": [
    "## <a id ='8.3.'>8.3. Request tweet </a>"
   ]
  },
  {
   "cell_type": "code",
   "execution_count": null,
   "metadata": {},
   "outputs": [],
   "source": [
    "\n",
    "# For sending GET requests from the API\n",
    "import requests\n",
    "# For saving access tokens and for file management when creating and adding to the dataset\n",
    "import os\n",
    "# For dealing with json responses we receive from the API\n",
    "import json\n",
    "# For displaying the data after\n",
    "import pandas as pd\n",
    "# For saving the response data in CSV format\n",
    "import csv\n",
    "# For parsing the dates received from twitter in readable formats\n",
    "import datetime\n",
    "import dateutil.parser\n",
    "import unicodedata\n",
    "#To add wait time between requests\n",
    "import time"
   ]
  },
  {
   "cell_type": "markdown",
   "metadata": {},
   "source": [
    "## <a id ='8.3.1.'>8.3.1. Getting ID of username - [jmwooldridge](https://twitter.com/jmwooldridge) </a> "
   ]
  },
  {
   "cell_type": "code",
   "execution_count": 24,
   "metadata": {},
   "outputs": [],
   "source": [
    "class request_id:\n",
    "    \n",
    "    def __init__( self, token):\n",
    "        self.token = token\n",
    "    \n",
    "    def create_url( self, user_name ):\n",
    "        # Specify the usernames that you want to lookup below\n",
    "        # You can enter up to 100 comma-separated values.\n",
    "        usernames = f\"usernames={ user_name }\"\n",
    "        user_fields = \"user.fields=description,created_at\"\n",
    "        # User fields are adjustable, options include:\n",
    "        # created_at, description, entities, id, location, name,\n",
    "        # pinned_tweet_id, profile_image_url, protected,\n",
    "        # public_metrics, url, username, verified, and withheld\n",
    "        url = \"https://api.twitter.com/2/users/by?{}&{}\".format(usernames, user_fields)\n",
    "        self.url = url\n",
    "\n",
    "\n",
    "    def bearer_oauth( self, r ):\n",
    "        \"\"\"\n",
    "        Method required by bearer token authentication.\n",
    "        \"\"\"\n",
    "\n",
    "        r.headers[\"Authorization\"] = f\"Bearer {self.token}\"\n",
    "        r.headers[\"User-Agent\"] = \"v2UserLookupPython\"\n",
    "        \n",
    "        self.r = r\n",
    "        return r\n",
    "\n",
    "\n",
    "    def connect_to_endpoint( self ):\n",
    "        url = self.url\n",
    "        response = requests.request(\"GET\", url, auth= self.bearer_oauth,)\n",
    "        print(response.status_code)\n",
    "        if response.status_code != 200:\n",
    "            raise Exception(\n",
    "                \"Request returned an error: {} {}\".format(\n",
    "                    response.status_code, response.text\n",
    "                )\n",
    "            )\n",
    "            \n",
    "        return response.json()"
   ]
  },
  {
   "cell_type": "markdown",
   "metadata": {},
   "source": [
    "Token"
   ]
  },
  {
   "cell_type": "code",
   "execution_count": 25,
   "metadata": {},
   "outputs": [],
   "source": [
    "Bearer_Token = \"AAAAAAAAAAAAAAAAAAAAAHqDOQEAAAAA13Ox6r2pGXSajjvKhZUT%2BksIvnk%3DhdyhLtNoNYKm50YORIqKDBakGh5JTvjl828R3mToJzFmWjb1CJ\"\n",
    "get_id_woold = request_id( Bearer_Token )"
   ]
  },
  {
   "cell_type": "markdown",
   "metadata": {},
   "source": [
    "Username"
   ]
  },
  {
   "cell_type": "code",
   "execution_count": 51,
   "metadata": {},
   "outputs": [
    {
     "name": "stdout",
     "output_type": "stream",
     "text": [
      "200\n"
     ]
    }
   ],
   "source": [
    "get_id_woold.create_url( 'jmwooldridge' )\n",
    "\n",
    "result = get_id_woold.connect_to_endpoint()"
   ]
  },
  {
   "cell_type": "markdown",
   "metadata": {},
   "source": [
    "Getting Data"
   ]
  },
  {
   "cell_type": "code",
   "execution_count": 52,
   "metadata": {},
   "outputs": [
    {
     "data": {
      "text/plain": [
       "'95230497'"
      ]
     },
     "execution_count": 52,
     "metadata": {},
     "output_type": "execute_result"
    }
   ],
   "source": [
    "id_woold = result['data'][0]['id']\n",
    "id_woold"
   ]
  },
  {
   "cell_type": "markdown",
   "metadata": {},
   "source": [
    "## <a id = '8.3.2.'>8.3.2. [Getting Tweets Timeline](https://developer.twitter.com/en/docs/twitter-api/tweets/timelines/introduction) - [jmwooldridge](https://twitter.com/jmwooldridge) </a> \n",
    "\n",
    "The endpoint can return the 3,200 most recent Tweets, Retweets, replies and Quote Tweets posted by the user. <br>\n",
    "The user Tweet timeline also supports the ability to specify `start_time` and `end_time` parameters to receive Tweets that were created within a certain window of time. "
   ]
  },
  {
   "cell_type": "code",
   "execution_count": 28,
   "metadata": {},
   "outputs": [],
   "source": [
    "def create_url(  user_id ):\n",
    "    # Replace with user ID below\n",
    "    return \"https://api.twitter.com/2/users/{}/tweets\".format(user_id)\n",
    "\n",
    "\n",
    "def get_params():\n",
    "    # Tweet fields are adjustable.\n",
    "    # Options include:\n",
    "    # attachments, author_id, context_annotations,\n",
    "    # conversation_id, created_at, entities, geo, id,\n",
    "    # in_reply_to_user_id, lang, non_public_metrics, organic_metrics,\n",
    "    # possibly_sensitive, promoted_metrics, public_metrics, referenced_tweets,\n",
    "    # source, text, and withheld\n",
    "    return {\"tweet.fields\": \"created_at\", \"max_results\" : 100 }\n",
    "\n",
    "\n",
    "def bearer_oauth(r):\n",
    "    \"\"\"\n",
    "    Method required by bearer token authentication.\n",
    "    \"\"\"\n",
    "    r.headers[\"Authorization\"] = f\"Bearer {bearer_token}\"\n",
    "    r.headers[\"User-Agent\"] = \"v2UserTweetsPython\"\n",
    "    return r\n",
    "\n",
    "\n",
    "def connect_to_endpoint(url, params, next_token = None ):\n",
    "    params['pagination_token'] = next_token\n",
    "    response = requests.request(\"GET\", url, auth=bearer_oauth, params=params)\n",
    "    print(response.status_code)\n",
    "    if response.status_code != 200:\n",
    "        raise Exception(\n",
    "            \"Request returned an error: {} {}\".format(\n",
    "                response.status_code, response.text\n",
    "            )\n",
    "        )\n",
    "    return response.json()"
   ]
  },
  {
   "cell_type": "code",
   "execution_count": 29,
   "metadata": {},
   "outputs": [],
   "source": [
    "bearer_token = 'AAAAAAAAAAAAAAAAAAAAAHqDOQEAAAAA13Ox6r2pGXSajjvKhZUT%2BksIvnk%3DhdyhLtNoNYKm50YORIqKDBakGh5JTvjl828R3mToJzFmWjb1CJ'"
   ]
  },
  {
   "cell_type": "code",
   "execution_count": 53,
   "metadata": {},
   "outputs": [
    {
     "name": "stdout",
     "output_type": "stream",
     "text": [
      "200\n"
     ]
    }
   ],
   "source": [
    "url = create_url( id_woold )\n",
    "param = get_params()\n",
    "result = connect_to_endpoint( url, param)"
   ]
  },
  {
   "cell_type": "code",
   "execution_count": 57,
   "metadata": {},
   "outputs": [
    {
     "data": {
      "text/plain": [
       "{'result_count': 100,\n",
       " 'newest_id': '1629595151675924480',\n",
       " 'oldest_id': '1624164394186727442',\n",
       " 'next_token': '7140dibdnow9c7btw4515z8c1bcjb3oy28yubpi2r6eya'}"
      ]
     },
     "execution_count": 57,
     "metadata": {},
     "output_type": "execute_result"
    }
   ],
   "source": [
    "result['meta']"
   ]
  },
  {
   "cell_type": "code",
   "execution_count": 54,
   "metadata": {},
   "outputs": [],
   "source": [
    "data = result['data']"
   ]
  },
  {
   "cell_type": "code",
   "execution_count": 58,
   "metadata": {},
   "outputs": [
    {
     "name": "stdout",
     "output_type": "stream",
     "text": [
      "200\n",
      "200\n",
      "200\n",
      "200\n",
      "200\n",
      "200\n",
      "200\n",
      "200\n",
      "200\n",
      "200\n",
      "200\n"
     ]
    }
   ],
   "source": [
    "next_token = 'next_token' in result['meta'].keys()\n",
    "page = 1\n",
    "while next_token == True:\n",
    "    try:\n",
    "        restult = connect_to_endpoint( url, param, result['meta']['next_token'] )\n",
    "        data = data + result['data']\n",
    "    except:\n",
    "        next_token = False\n",
    "    \n",
    "    if page > 10:\n",
    "        next_token = False\n",
    "    \n",
    "    page = page + 1"
   ]
  },
  {
   "cell_type": "code",
   "execution_count": 59,
   "metadata": {},
   "outputs": [],
   "source": [
    "df = pd.DataFrame( data )"
   ]
  },
  {
   "cell_type": "code",
   "execution_count": 60,
   "metadata": {},
   "outputs": [
    {
     "data": {
      "text/html": [
       "<div>\n",
       "<style scoped>\n",
       "    .dataframe tbody tr th:only-of-type {\n",
       "        vertical-align: middle;\n",
       "    }\n",
       "\n",
       "    .dataframe tbody tr th {\n",
       "        vertical-align: top;\n",
       "    }\n",
       "\n",
       "    .dataframe thead th {\n",
       "        text-align: right;\n",
       "    }\n",
       "</style>\n",
       "<table border=\"1\" class=\"dataframe\">\n",
       "  <thead>\n",
       "    <tr style=\"text-align: right;\">\n",
       "      <th></th>\n",
       "      <th>created_at</th>\n",
       "      <th>edit_history_tweet_ids</th>\n",
       "      <th>id</th>\n",
       "      <th>text</th>\n",
       "    </tr>\n",
       "  </thead>\n",
       "  <tbody>\n",
       "    <tr>\n",
       "      <th>0</th>\n",
       "      <td>2023-02-25T21:32:15.000Z</td>\n",
       "      <td>[1629595151675924480]</td>\n",
       "      <td>1629595151675924480</td>\n",
       "      <td>@RoxaBarrantes I wondered that. I think I’m on...</td>\n",
       "    </tr>\n",
       "    <tr>\n",
       "      <th>1</th>\n",
       "      <td>2023-02-25T16:59:18.000Z</td>\n",
       "      <td>[1629526462318653440]</td>\n",
       "      <td>1629526462318653440</td>\n",
       "      <td>@Stella33448324 Given my lack of sleep, I can’...</td>\n",
       "    </tr>\n",
       "    <tr>\n",
       "      <th>2</th>\n",
       "      <td>2023-02-25T16:57:39.000Z</td>\n",
       "      <td>[1629526045832658944]</td>\n",
       "      <td>1629526045832658944</td>\n",
       "      <td>@danilaserra_eco If I toss in my hate for 2023...</td>\n",
       "    </tr>\n",
       "    <tr>\n",
       "      <th>3</th>\n",
       "      <td>2023-02-25T16:41:50.000Z</td>\n",
       "      <td>[1629522068294496256]</td>\n",
       "      <td>1629522068294496256</td>\n",
       "      <td>It never rains in California \\nBut girl, don’t...</td>\n",
       "    </tr>\n",
       "    <tr>\n",
       "      <th>4</th>\n",
       "      <td>2023-02-25T14:04:47.000Z</td>\n",
       "      <td>[1629482542113107971]</td>\n",
       "      <td>1629482542113107971</td>\n",
       "      <td>@nikir1 Huh. I hit zero by applying any refund...</td>\n",
       "    </tr>\n",
       "    <tr>\n",
       "      <th>...</th>\n",
       "      <td>...</td>\n",
       "      <td>...</td>\n",
       "      <td>...</td>\n",
       "      <td>...</td>\n",
       "    </tr>\n",
       "    <tr>\n",
       "      <th>1195</th>\n",
       "      <td>2023-02-11T20:58:34.000Z</td>\n",
       "      <td>[1624513245024342018]</td>\n",
       "      <td>1624513245024342018</td>\n",
       "      <td>Not gonna lie: I thought my Poisson regression...</td>\n",
       "    </tr>\n",
       "    <tr>\n",
       "      <th>1196</th>\n",
       "      <td>2023-02-11T20:09:42.000Z</td>\n",
       "      <td>[1624500949262782468]</td>\n",
       "      <td>1624500949262782468</td>\n",
       "      <td>“Not my favorite #Caturday, but I’m hanging in...</td>\n",
       "    </tr>\n",
       "    <tr>\n",
       "      <th>1197</th>\n",
       "      <td>2023-02-11T15:11:43.000Z</td>\n",
       "      <td>[1624425960178155521]</td>\n",
       "      <td>1624425960178155521</td>\n",
       "      <td>@flynnpolsci Thanks for this! Neal also seems ...</td>\n",
       "    </tr>\n",
       "    <tr>\n",
       "      <th>1198</th>\n",
       "      <td>2023-02-11T02:10:54.000Z</td>\n",
       "      <td>[1624229461263630337]</td>\n",
       "      <td>1624229461263630337</td>\n",
       "      <td>@SHUWalshgym Strangest, most entertaining endi...</td>\n",
       "    </tr>\n",
       "    <tr>\n",
       "      <th>1199</th>\n",
       "      <td>2023-02-10T21:52:21.000Z</td>\n",
       "      <td>[1624164394186727442]</td>\n",
       "      <td>1624164394186727442</td>\n",
       "      <td>Not an easy week for Neal, who had to have a c...</td>\n",
       "    </tr>\n",
       "  </tbody>\n",
       "</table>\n",
       "<p>1200 rows × 4 columns</p>\n",
       "</div>"
      ],
      "text/plain": [
       "                    created_at edit_history_tweet_ids                   id  \\\n",
       "0     2023-02-25T21:32:15.000Z  [1629595151675924480]  1629595151675924480   \n",
       "1     2023-02-25T16:59:18.000Z  [1629526462318653440]  1629526462318653440   \n",
       "2     2023-02-25T16:57:39.000Z  [1629526045832658944]  1629526045832658944   \n",
       "3     2023-02-25T16:41:50.000Z  [1629522068294496256]  1629522068294496256   \n",
       "4     2023-02-25T14:04:47.000Z  [1629482542113107971]  1629482542113107971   \n",
       "...                        ...                    ...                  ...   \n",
       "1195  2023-02-11T20:58:34.000Z  [1624513245024342018]  1624513245024342018   \n",
       "1196  2023-02-11T20:09:42.000Z  [1624500949262782468]  1624500949262782468   \n",
       "1197  2023-02-11T15:11:43.000Z  [1624425960178155521]  1624425960178155521   \n",
       "1198  2023-02-11T02:10:54.000Z  [1624229461263630337]  1624229461263630337   \n",
       "1199  2023-02-10T21:52:21.000Z  [1624164394186727442]  1624164394186727442   \n",
       "\n",
       "                                                   text  \n",
       "0     @RoxaBarrantes I wondered that. I think I’m on...  \n",
       "1     @Stella33448324 Given my lack of sleep, I can’...  \n",
       "2     @danilaserra_eco If I toss in my hate for 2023...  \n",
       "3     It never rains in California \\nBut girl, don’t...  \n",
       "4     @nikir1 Huh. I hit zero by applying any refund...  \n",
       "...                                                 ...  \n",
       "1195  Not gonna lie: I thought my Poisson regression...  \n",
       "1196  “Not my favorite #Caturday, but I’m hanging in...  \n",
       "1197  @flynnpolsci Thanks for this! Neal also seems ...  \n",
       "1198  @SHUWalshgym Strangest, most entertaining endi...  \n",
       "1199  Not an easy week for Neal, who had to have a c...  \n",
       "\n",
       "[1200 rows x 4 columns]"
      ]
     },
     "execution_count": 60,
     "metadata": {},
     "output_type": "execute_result"
    }
   ],
   "source": [
    "df"
   ]
  },
  {
   "cell_type": "markdown",
   "metadata": {},
   "source": [
    "We are allowed to request only 3200 tweets."
   ]
  },
  {
   "cell_type": "markdown",
   "metadata": {},
   "source": [
    "## <a id='8.4.'>8.4. References</a>  "
   ]
  },
  {
   "cell_type": "markdown",
   "metadata": {},
   "source": [
    "https://towardsdatascience.com/an-extensive-guide-to-collecting-tweets-from-twitter-api-v2-for-academic-research-using-python-3-518fcb71df2a\n",
    "\n",
    "https://fairyonice.github.io/extract-someones-tweet-using-tweepy.html"
   ]
  }
 ],
 "metadata": {
  "hide_input": false,
  "kernelspec": {
   "display_name": "Python 3 (ipykernel)",
   "language": "python",
   "name": "python3"
  },
  "language_info": {
   "codemirror_mode": {
    "name": "ipython",
    "version": 3
   },
   "file_extension": ".py",
   "mimetype": "text/x-python",
   "name": "python",
   "nbconvert_exporter": "python",
   "pygments_lexer": "ipython3",
   "version": "3.11.5"
  },
  "toc": {
   "base_numbering": 1,
   "nav_menu": {},
   "number_sections": true,
   "sideBar": true,
   "skip_h1_title": false,
   "title_cell": "Table of Contents",
   "title_sidebar": "Contents",
   "toc_cell": false,
   "toc_position": {},
   "toc_section_display": true,
   "toc_window_display": false
  }
 },
 "nbformat": 4,
 "nbformat_minor": 4
}
