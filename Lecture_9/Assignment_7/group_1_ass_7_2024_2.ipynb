{
 "cells": [
  {
   "cell_type": "markdown",
   "id": "c44722b8-6108-482d-b503-01136912a91d",
   "metadata": {},
   "source": [
    "# Assignment 7"
   ]
  },
  {
   "cell_type": "markdown",
   "id": "6562d061-c41e-43f8-b12c-06dccfff1d40",
   "metadata": {},
   "source": [
    "**Group members** :\n",
    "- Max Chipani\n",
    "- Jesus Gamboa\n",
    "- Karen Salazar\n",
    "- Paolo Gutierrez\n",
    "- Luis Camarena"
   ]
  },
  {
   "cell_type": "code",
   "execution_count": 11,
   "id": "5e970f06-c422-4c89-a7b0-144b9ae328da",
   "metadata": {
    "scrolled": true
   },
   "outputs": [
    {
     "name": "stdout",
     "output_type": "stream",
     "text": [
      "Requirement already satisfied: geopandas in d:\\anaconda\\lib\\site-packages (1.0.1)\n",
      "Requirement already satisfied: numpy>=1.22 in d:\\anaconda\\lib\\site-packages (from geopandas) (1.26.4)\n",
      "Requirement already satisfied: pyogrio>=0.7.2 in d:\\anaconda\\lib\\site-packages (from geopandas) (0.9.0)\n",
      "Requirement already satisfied: packaging in d:\\anaconda\\lib\\site-packages (from geopandas) (23.2)\n",
      "Requirement already satisfied: pandas>=1.4.0 in d:\\anaconda\\lib\\site-packages (from geopandas) (2.2.2)\n",
      "Requirement already satisfied: pyproj>=3.3.0 in d:\\anaconda\\lib\\site-packages (from geopandas) (3.6.1)\n",
      "Requirement already satisfied: shapely>=2.0.0 in d:\\anaconda\\lib\\site-packages (from geopandas) (2.0.6)\n",
      "Requirement already satisfied: python-dateutil>=2.8.2 in d:\\anaconda\\lib\\site-packages (from pandas>=1.4.0->geopandas) (2.9.0.post0)\n",
      "Requirement already satisfied: pytz>=2020.1 in d:\\anaconda\\lib\\site-packages (from pandas>=1.4.0->geopandas) (2024.1)\n",
      "Requirement already satisfied: tzdata>=2022.7 in d:\\anaconda\\lib\\site-packages (from pandas>=1.4.0->geopandas) (2023.3)\n",
      "Requirement already satisfied: certifi in d:\\anaconda\\lib\\site-packages (from pyogrio>=0.7.2->geopandas) (2024.7.4)\n",
      "Requirement already satisfied: six>=1.5 in d:\\anaconda\\lib\\site-packages (from python-dateutil>=2.8.2->pandas>=1.4.0->geopandas) (1.16.0)\n",
      "Note: you may need to restart the kernel to use updated packages.\n"
     ]
    }
   ],
   "source": [
    "pip install geopandas"
   ]
  },
  {
   "cell_type": "code",
   "execution_count": 13,
   "id": "c468ac21-2b49-469c-9b7b-72bcfd88fd90",
   "metadata": {},
   "outputs": [],
   "source": [
    "import matplotlib.pyplot as plt\n",
    "import pandas as pd\n",
    "import numpy as np\n",
    "import geopandas as gpd\n",
    "import chardet"
   ]
  },
  {
   "cell_type": "markdown",
   "id": "8f254f2a-c13b-4bdb-b848-5333a32cc078",
   "metadata": {},
   "source": [
    "## Question 1"
   ]
  },
  {
   "cell_type": "markdown",
   "id": "5d45ed20-6d70-43c2-a6f3-7f456bd81118",
   "metadata": {},
   "source": [
    "Import the data located at this link. It has information on people infected with dengue at the district level for 2015 to 2021."
   ]
  },
  {
   "cell_type": "code",
   "execution_count": 15,
   "id": "c8408531-daa8-41d7-8314-da16be17cc4c",
   "metadata": {},
   "outputs": [
    {
     "data": {
      "text/plain": [
       "'UTF-8-SIG'"
      ]
     },
     "execution_count": 15,
     "metadata": {},
     "output_type": "execute_result"
    }
   ],
   "source": [
    "# Getting the character format (encoding type)\n",
    "base = open(r'../../_data/data_dengue_peru.csv', 'rb').read()\n",
    "det = chardet.detect(base)\n",
    "charenc = det['encoding']\n",
    "charenc"
   ]
  },
  {
   "cell_type": "code",
   "execution_count": 17,
   "id": "daa159ac-42c1-4a59-b084-6193a14a22dc",
   "metadata": {
    "scrolled": true
   },
   "outputs": [
    {
     "name": "stderr",
     "output_type": "stream",
     "text": [
      "C:\\Users\\Paolo\\AppData\\Local\\Temp\\ipykernel_43096\\2664721960.py:2: DtypeWarning: Columns (7) have mixed types. Specify dtype option on import or set low_memory=False.\n",
      "  data = pd.read_csv(r'../../_data/data_dengue_peru.csv',  encoding=charenc)\n"
     ]
    },
    {
     "data": {
      "text/html": [
       "<div>\n",
       "<style scoped>\n",
       "    .dataframe tbody tr th:only-of-type {\n",
       "        vertical-align: middle;\n",
       "    }\n",
       "\n",
       "    .dataframe tbody tr th {\n",
       "        vertical-align: top;\n",
       "    }\n",
       "\n",
       "    .dataframe thead th {\n",
       "        text-align: right;\n",
       "    }\n",
       "</style>\n",
       "<table border=\"1\" class=\"dataframe\">\n",
       "  <thead>\n",
       "    <tr style=\"text-align: right;\">\n",
       "      <th></th>\n",
       "      <th>index</th>\n",
       "      <th>Año</th>\n",
       "      <th>Semana</th>\n",
       "      <th>Eventos o daños</th>\n",
       "      <th>Departamento</th>\n",
       "      <th>Distrito</th>\n",
       "      <th>Provincia</th>\n",
       "      <th>Ubigeo</th>\n",
       "      <th>Casos</th>\n",
       "    </tr>\n",
       "  </thead>\n",
       "  <tbody>\n",
       "    <tr>\n",
       "      <th>0</th>\n",
       "      <td>92350</td>\n",
       "      <td>2015</td>\n",
       "      <td>1</td>\n",
       "      <td>Dengue</td>\n",
       "      <td>AMAZONAS</td>\n",
       "      <td>CHACHAPOYAS</td>\n",
       "      <td>CHACHAPOYAS</td>\n",
       "      <td>10101</td>\n",
       "      <td>0</td>\n",
       "    </tr>\n",
       "    <tr>\n",
       "      <th>1</th>\n",
       "      <td>92352</td>\n",
       "      <td>2015</td>\n",
       "      <td>2</td>\n",
       "      <td>Dengue</td>\n",
       "      <td>AMAZONAS</td>\n",
       "      <td>CHACHAPOYAS</td>\n",
       "      <td>CHACHAPOYAS</td>\n",
       "      <td>10101</td>\n",
       "      <td>0</td>\n",
       "    </tr>\n",
       "    <tr>\n",
       "      <th>2</th>\n",
       "      <td>92354</td>\n",
       "      <td>2015</td>\n",
       "      <td>3</td>\n",
       "      <td>Dengue</td>\n",
       "      <td>AMAZONAS</td>\n",
       "      <td>CHACHAPOYAS</td>\n",
       "      <td>CHACHAPOYAS</td>\n",
       "      <td>10101</td>\n",
       "      <td>0</td>\n",
       "    </tr>\n",
       "    <tr>\n",
       "      <th>3</th>\n",
       "      <td>92356</td>\n",
       "      <td>2015</td>\n",
       "      <td>4</td>\n",
       "      <td>Dengue</td>\n",
       "      <td>AMAZONAS</td>\n",
       "      <td>CHACHAPOYAS</td>\n",
       "      <td>CHACHAPOYAS</td>\n",
       "      <td>10101</td>\n",
       "      <td>0</td>\n",
       "    </tr>\n",
       "    <tr>\n",
       "      <th>4</th>\n",
       "      <td>92358</td>\n",
       "      <td>2015</td>\n",
       "      <td>5</td>\n",
       "      <td>Dengue</td>\n",
       "      <td>AMAZONAS</td>\n",
       "      <td>CHACHAPOYAS</td>\n",
       "      <td>CHACHAPOYAS</td>\n",
       "      <td>10101</td>\n",
       "      <td>0</td>\n",
       "    </tr>\n",
       "  </tbody>\n",
       "</table>\n",
       "</div>"
      ],
      "text/plain": [
       "   index   Año  Semana Eventos o daños Departamento     Distrito    Provincia  \\\n",
       "0  92350  2015       1          Dengue     AMAZONAS  CHACHAPOYAS  CHACHAPOYAS   \n",
       "1  92352  2015       2          Dengue     AMAZONAS  CHACHAPOYAS  CHACHAPOYAS   \n",
       "2  92354  2015       3          Dengue     AMAZONAS  CHACHAPOYAS  CHACHAPOYAS   \n",
       "3  92356  2015       4          Dengue     AMAZONAS  CHACHAPOYAS  CHACHAPOYAS   \n",
       "4  92358  2015       5          Dengue     AMAZONAS  CHACHAPOYAS  CHACHAPOYAS   \n",
       "\n",
       "   Ubigeo Casos  \n",
       "0   10101     0  \n",
       "1   10101     0  \n",
       "2   10101     0  \n",
       "3   10101     0  \n",
       "4   10101     0  "
      ]
     },
     "execution_count": 17,
     "metadata": {},
     "output_type": "execute_result"
    }
   ],
   "source": [
    "# Getting data of people infected with dengue\n",
    "data = pd.read_csv(r'../../_data/data_dengue_peru.csv',  encoding=charenc)\n",
    "data.sort_values(by=['Año', 'Ubigeo', 'Semana'], inplace=True)\n",
    "data.reset_index(inplace=True)\n",
    "data.head()"
   ]
  },
  {
   "cell_type": "code",
   "execution_count": 19,
   "id": "a2470774-6693-4961-9714-83d689cd400f",
   "metadata": {},
   "outputs": [
    {
     "data": {
      "text/plain": [
       "index               int64\n",
       "Año                 int64\n",
       "Semana              int64\n",
       "Eventos o daños    object\n",
       "Departamento       object\n",
       "Distrito           object\n",
       "Provincia          object\n",
       "Ubigeo              int64\n",
       "Casos              object\n",
       "dtype: object"
      ]
     },
     "execution_count": 19,
     "metadata": {},
     "output_type": "execute_result"
    }
   ],
   "source": [
    "# Getting data types of dataframe\n",
    "data.dtypes"
   ]
  },
  {
   "cell_type": "markdown",
   "id": "c9fec95c-3cf6-4eb9-a3ad-bac85ec4f28f",
   "metadata": {},
   "source": [
    "## Question 2"
   ]
  },
  {
   "cell_type": "markdown",
   "id": "e8424eff-d13e-49e4-8e67-1f9754decf3f",
   "metadata": {},
   "source": [
    "Generate ubigeo for Departments and Provinces taking the first two and four numbers. Hint: Use this code."
   ]
  },
  {
   "cell_type": "code",
   "execution_count": 21,
   "id": "4c7bea22-a29f-40fb-964f-07a8c9c002e0",
   "metadata": {},
   "outputs": [
    {
     "data": {
      "text/plain": [
       "0    010101\n",
       "1    010101\n",
       "2    010101\n",
       "3    010101\n",
       "4    010101\n",
       "Name: codgeo, dtype: object"
      ]
     },
     "execution_count": 21,
     "metadata": {},
     "output_type": "execute_result"
    }
   ],
   "source": [
    "# Generating the ubigeo variable\n",
    "data['codgeo'] = data['Ubigeo'].astype(str).str.zfill(6)\n",
    "data['codgeo'].head()"
   ]
  },
  {
   "cell_type": "code",
   "execution_count": 23,
   "id": "e0b214dd-6dee-4fa2-bb29-09e979207b17",
   "metadata": {
    "scrolled": true
   },
   "outputs": [
    {
     "data": {
      "text/plain": [
       "cod_dep\n",
       "22    27825\n",
       "20    22949\n",
       "16    17808\n",
       "11    13727\n",
       "14    11872\n",
       "13    10388\n",
       "06     9540\n",
       "10     7632\n",
       "15     7420\n",
       "01     6572\n",
       "25     6095\n",
       "08     5194\n",
       "05     4929\n",
       "24     4823\n",
       "12     4558\n",
       "17     3710\n",
       "02     3339\n",
       "19     2226\n",
       "21      742\n",
       "07      424\n",
       "18      371\n",
       "Name: count, dtype: int64"
      ]
     },
     "execution_count": 23,
     "metadata": {},
     "output_type": "execute_result"
    }
   ],
   "source": [
    "# Generating the code of departaments\n",
    "data['cod_dep'] = data['codgeo'].str[:2]\n",
    "data['cod_dep'].value_counts()"
   ]
  },
  {
   "cell_type": "code",
   "execution_count": 25,
   "id": "44e96760-c3d6-4895-980c-1355126ce2bf",
   "metadata": {},
   "outputs": [
    {
     "data": {
      "text/plain": [
       "0    0101\n",
       "1    0101\n",
       "2    0101\n",
       "3    0101\n",
       "4    0101\n",
       "Name: cod_pro, dtype: object"
      ]
     },
     "execution_count": 25,
     "metadata": {},
     "output_type": "execute_result"
    }
   ],
   "source": [
    "# Generating the cod of provinces\n",
    "data['cod_pro'] = data['codgeo'].str[:4]\n",
    "data['cod_pro'].head()"
   ]
  },
  {
   "cell_type": "markdown",
   "id": "c6a448d3-71cd-492b-ba09-6adf7de246d1",
   "metadata": {},
   "source": [
    "## Question 3"
   ]
  },
  {
   "cell_type": "markdown",
   "id": "51273ba3-9bc6-4288-bc40-e3d9bfb9f9e5",
   "metadata": {},
   "source": [
    "Use geopandas to plot the number of cases in 2021 by the district using a continuous legend. Do not forget to indicate the color of NA values. Use this shapefile."
   ]
  },
  {
   "cell_type": "code",
   "execution_count": null,
   "id": "9292a3ba-9a49-4827-a97d-0d44e143945f",
   "metadata": {
    "scrolled": true
   },
   "outputs": [],
   "source": []
  },
  {
   "cell_type": "markdown",
   "id": "22947447-b332-4d17-9207-4a81130df7a4",
   "metadata": {},
   "source": [
    "## Question 4"
   ]
  },
  {
   "cell_type": "markdown",
   "id": "68073e2c-b55d-456f-81a3-72b43ea9b5c1",
   "metadata": {},
   "source": [
    "Use geopandas to plot the number of cases in 2021 by the province using a continuous legend. Do not forget to indicate the color of NA values. Use this shapefile. For this task, you will have to aggregate shapefiles at the province level."
   ]
  },
  {
   "cell_type": "code",
   "execution_count": null,
   "id": "841788a7-62ba-4ee4-8da1-ab7c602ed306",
   "metadata": {
    "scrolled": true
   },
   "outputs": [],
   "source": []
  },
  {
   "cell_type": "markdown",
   "id": "96e814f7-df8d-496b-a9b8-3aee9e7d3c93",
   "metadata": {},
   "source": [
    "## Question 5"
   ]
  },
  {
   "cell_type": "markdown",
   "id": "bc98837b-464a-4fed-85d5-98f2b9e496ee",
   "metadata": {},
   "source": [
    "Use geopandas to plot the number of cases by the department for all the years using subplots. Every subplot for each year. Do not forget to indicate the color of NA values. Use this shapefile. For this task, you will have to aggregate shapefiles at the department level."
   ]
  },
  {
   "cell_type": "code",
   "execution_count": null,
   "id": "dab6f0f7-aade-4632-a7b8-282264f0a628",
   "metadata": {
    "scrolled": true
   },
   "outputs": [],
   "source": []
  },
  {
   "cell_type": "markdown",
   "id": "06995bff-5073-4ed3-a424-5700d8cf6df4",
   "metadata": {},
   "source": [
    "## Question 6"
   ]
  },
  {
   "cell_type": "markdown",
   "id": "416ef582-44c3-4604-8396-47672bc06ac2",
   "metadata": {},
   "source": [
    "Use geopandas to plot the number of cases by the department for all 2021 quarters using subplots. Every subplot for each quarter. Use a categorical legend with 5 bins. Do not forget to indicate the color of NA values. Use this shapefile. For this task, you will have to aggregate shapefiles at the department level. Hint: Use Semana variable to group by quarters."
   ]
  },
  {
   "cell_type": "code",
   "execution_count": null,
   "id": "56699f14-ea7d-48c4-b218-d67a7afae64e",
   "metadata": {
    "scrolled": true
   },
   "outputs": [],
   "source": []
  }
 ],
 "metadata": {
  "kernelspec": {
   "display_name": "Python 3 (ipykernel)",
   "language": "python",
   "name": "python3"
  },
  "language_info": {
   "codemirror_mode": {
    "name": "ipython",
    "version": 3
   },
   "file_extension": ".py",
   "mimetype": "text/x-python",
   "name": "python",
   "nbconvert_exporter": "python",
   "pygments_lexer": "ipython3",
   "version": "3.12.4"
  }
 },
 "nbformat": 4,
 "nbformat_minor": 5
}
