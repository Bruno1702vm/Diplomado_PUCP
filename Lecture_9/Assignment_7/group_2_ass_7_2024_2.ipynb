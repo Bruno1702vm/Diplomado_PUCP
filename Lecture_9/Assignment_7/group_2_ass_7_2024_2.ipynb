{
 "cells": [
  {
   "cell_type": "markdown",
   "id": "bae134a4-539b-4f65-b802-9079494befff",
   "metadata": {},
   "source": [
    "# ASSIGNMENT 7:"
   ]
  },
  {
   "cell_type": "markdown",
   "id": "6550e299-1d8d-432b-83c1-47d5b1b6e901",
   "metadata": {},
   "source": [
    "- Luis Felipe Acosta Zavaleta\n",
    "- Alejandro Mosquera Ospina\n",
    "- Raúl Emerson Amao Guerra\n",
    "- Manuel Antonio Gil Soto Pisco\n",
    "- Ruth Marina Chávez Pacheco"
   ]
  },
  {
   "cell_type": "code",
   "execution_count": 3,
   "id": "7ef83007-8145-4334-a973-4214b028fd83",
   "metadata": {},
   "outputs": [],
   "source": [
    "# We import the necessary libraries\n",
    "\n",
    "# !pip install pandas\n",
    "# !pip install geopandas\n",
    "# !pip install mapclassify\n",
    "\n",
    "import pandas as pd\n",
    "import os\n",
    "import urllib.request, json, csv\n",
    "import geopandas as gpd\n",
    "import matplotlib.pyplot as plt\n",
    "import mapclassify"
   ]
  },
  {
   "cell_type": "code",
   "execution_count": null,
   "id": "dfc81ae5-491b-467e-87fd-737d2061a8cf",
   "metadata": {},
   "outputs": [],
   "source": [
    "## 1. Import the data located at this link. It has information on people infected with dengue at the district level for 2015 to 2021.\n"
   ]
  },
  {
   "cell_type": "code",
   "execution_count": null,
   "id": "65a9bcac-10df-492d-ad55-a2fed5bd2748",
   "metadata": {},
   "outputs": [],
   "source": [
    "#We import the csv file\n",
    "\n",
    "url = 'https://raw.githubusercontent.com/alexanderquispe/Diplomado_PUCP/main/_data/data_dengue_peru.csv'\n",
    "\n",
    "df = pd.read_csv(url, low_memory = False)\n",
    "print(df.head())\n",
    "\n"
   ]
  },
  {
   "cell_type": "code",
   "execution_count": null,
   "id": "0a780d92-7ffe-406d-89d2-db1afced1539",
   "metadata": {},
   "outputs": [],
   "source": [
    "## 2. Generate ubigeo for Departments and Provinces taking the first two and four numbers."
   ]
  },
  {
   "cell_type": "code",
   "execution_count": null,
   "id": "f5b9bea8-18cf-4deb-9ea4-104859b72337",
   "metadata": {},
   "outputs": [],
   "source": [
    "# We generate the requested columns\n",
    "\n",
    "df['Ubigeo_Departamento'] = df['Ubigeo'].astype(str).str[:-4]  # This extracts all the numbers except the last four digits of the ubigeo column\n",
    "df['Ubigeo_Provincia'] = df['Ubigeo'].astype(str).str[-4:]     #This extracts the last four digits of the ubigeo column\n",
    "\n",
    "print(df[['Ubigeo', 'Ubigeo_Departamento', 'Ubigeo_Provincia']].head())"
   ]
  }
 ],
 "metadata": {
  "kernelspec": {
   "display_name": "Python 3 (ipykernel)",
   "language": "python",
   "name": "python3"
  },
  "language_info": {
   "codemirror_mode": {
    "name": "ipython",
    "version": 3
   },
   "file_extension": ".py",
   "mimetype": "text/x-python",
   "name": "python",
   "nbconvert_exporter": "python",
   "pygments_lexer": "ipython3",
   "version": "3.12.4"
  }
 },
 "nbformat": 4,
 "nbformat_minor": 5
}
