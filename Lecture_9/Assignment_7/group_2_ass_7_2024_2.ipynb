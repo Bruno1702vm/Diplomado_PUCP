{
 "cells": [
  {
   "cell_type": "markdown",
   "id": "bae134a4-539b-4f65-b802-9079494befff",
   "metadata": {},
   "source": [
    "# ASSIGNMENT 7:"
   ]
  },
  {
   "cell_type": "markdown",
   "id": "6550e299-1d8d-432b-83c1-47d5b1b6e901",
   "metadata": {},
   "source": [
    "- Luis Felipe Acosta Zavaleta\n",
    "- Alejandro Mosquera Ospina\n",
    "- Raúl Emerson Amao Guerra\n",
    "- Manuel Antonio Gil Soto Pisco\n",
    "- Ruth Marina Chávez Pacheco"
   ]
  }
 ],
 "metadata": {
  "kernelspec": {
   "display_name": "Python 3 (ipykernel)",
   "language": "python",
   "name": "python3"
  },
  "language_info": {
   "codemirror_mode": {
    "name": "ipython",
    "version": 3
   },
   "file_extension": ".py",
   "mimetype": "text/x-python",
   "name": "python",
   "nbconvert_exporter": "python",
   "pygments_lexer": "ipython3",
   "version": "3.12.4"
  }
 },
 "nbformat": 4,
 "nbformat_minor": 5
}
