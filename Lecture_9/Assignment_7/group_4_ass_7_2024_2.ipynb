{
 "cells": [
  {
   "cell_type": "markdown",
   "id": "3ef3b40d-29f2-4f92-ab39-35ad3ccd5cf4",
   "metadata": {},
   "source": [
    "Dear all,\r\n",
    "\r\n",
    "Each group must create their branch named group_#_ass_7_2024_2 (group_1_ass_7_2024_2) and save their results in the Assignment_7 folder. Name your JN like your branch.\r\n",
    "\r\n",
    "Import the data located at this link. It has information on people infected with dengue at the district level for 2015 to 2021.\r\n",
    "Generate ubigeo for Departments and Provinces taking the first two and four numbers. Hint: Use this code.\r\n",
    "Use geopandas to plot the number of cases in 2021 by the district using a continuous legend. Do not forget to indicate the color of NA values. Use this shapefile.\r\n",
    "Use geopandas to plot the number of cases in 2021 by the province using a continuous legend. Do not forget to indicate the color of NA values. Use this shapefile. For this task, you will have to aggregate shapefiles at the province level.\r\n",
    "Use geopandas to plot the number of cases by the department for all the years using subplots. Every subplot for each year. Do not forget to indicate the color of NA values. Use this shapefile. For this task, you will have to aggregate shapefiles at the department level.\r\n",
    "Use geopandas to plot the number of cases by the department for all 2021 quarters using subplots. Every subplot for each quarter. Use a categorical legend with 5 bins. Do not forget to indicate the color of NA values. Use this shapefile. For this task, you will have to aggregate shapefiles at the department level. Hint: Use Semana variable to group by quarters.quarters."
   ]
  },
  {
   "cell_type": "code",
   "execution_count": null,
   "id": "d7c3319a-b7e9-4cb4-8c9b-7228aa1c258c",
   "metadata": {},
   "outputs": [],
   "source": []
  }
 ],
 "metadata": {
  "kernelspec": {
   "display_name": "Python 3 (ipykernel)",
   "language": "python",
   "name": "python3"
  },
  "language_info": {
   "codemirror_mode": {
    "name": "ipython",
    "version": 3
   },
   "file_extension": ".py",
   "mimetype": "text/x-python",
   "name": "python",
   "nbconvert_exporter": "python",
   "pygments_lexer": "ipython3",
   "version": "3.12.4"
  }
 },
 "nbformat": 4,
 "nbformat_minor": 5
}
