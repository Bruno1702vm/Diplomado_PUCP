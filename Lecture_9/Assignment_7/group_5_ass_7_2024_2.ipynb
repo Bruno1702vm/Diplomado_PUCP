{
 "cells": [
  {
   "cell_type": "markdown",
   "id": "4e26b6d3-c30a-4e7a-a29c-74cc34c1a383",
   "metadata": {},
   "source": [
    "# Assignment 7"
   ]
  },
  {
   "cell_type": "markdown",
   "id": "671d09f7-17ea-462d-8498-08f13b4a8600",
   "metadata": {},
   "source": [
    "Grupo 5: Karla Chauca, Alejandra Navarro, Adriana Sierra y Elisa Vivar"
   ]
  },
  {
   "cell_type": "code",
   "execution_count": null,
   "id": "10a25a5c-ff53-422c-a0d4-3ec37369486f",
   "metadata": {},
   "outputs": [],
   "source": [
    "#pip install openpyxl"
   ]
  },
  {
   "cell_type": "code",
   "execution_count": null,
   "id": "9240c7b1-9dbc-4308-ad08-09209f101f46",
   "metadata": {},
   "outputs": [],
   "source": [
    "import openpyxl"
   ]
  },
  {
   "cell_type": "code",
   "execution_count": null,
   "id": "e4b84f40-eaaa-415b-a769-6a701ca83516",
   "metadata": {},
   "outputs": [],
   "source": [
    "import pandas as pd\n",
    "from pandas import Series, DataFrame\n",
    "import numpy as np\n",
    "import matplotlib.pyplot as plt \n",
    "import matplotlib.colors as mcolors\n",
    "import matplotlib.lines as mlines\n",
    "import chardet\n",
    "from shapely.ops import unary_union"
   ]
  },
  {
   "cell_type": "code",
   "execution_count": null,
   "id": "161d7e1a-ff20-4f02-98fb-d538ef669673",
   "metadata": {},
   "outputs": [],
   "source": [
    "import geopandas as gpd\n",
    "from geopandas import GeoSeries\n",
    "from shapely.geometry import Point, LineString\n",
    "import folium \n",
    "from folium import Marker, GeoJson\n",
    "from folium.plugins import MarkerCluster, HeatMap"
   ]
  },
  {
   "cell_type": "code",
   "execution_count": null,
   "id": "5f62940e-6ec7-4b89-9729-9d8fc5e1f22c",
   "metadata": {},
   "outputs": [],
   "source": [
    "# Getting the character format (encoding type)\n",
    "\n",
    "base = open(r'../../_data/data_dengue_peru.csv', 'rb').read()\n",
    "det = chardet.detect(base)\n",
    "charenc = det['encoding']\n",
    "charenc"
   ]
  },
  {
   "cell_type": "markdown",
   "id": "8617c60e-964c-4298-96c4-56b993224783",
   "metadata": {},
   "source": [
    "## Casos de Dengue"
   ]
  },
  {
   "cell_type": "code",
   "execution_count": null,
   "id": "4d9758d0-cf85-4832-9821-fedc8f371540",
   "metadata": {},
   "outputs": [],
   "source": [
    "cv_data = pd.read_csv( r'../../_data/data_dengue_peru.csv', encoding = charenc)\n",
    "cv_data.head()"
   ]
  },
  {
   "cell_type": "code",
   "execution_count": null,
   "id": "81b765a1-7e3f-4200-89c6-ebb3c3fe07e5",
   "metadata": {},
   "outputs": [],
   "source": [
    "# Limpiar los valores eliminando los separadores de miles\n",
    "cv_data['Casos'] = cv_data['Casos'].astype(str).str.replace(',', '', regex=False)\n",
    "\n",
    "# Convertir la columna a valores numéricos, manteniendo NA\n",
    "cv_data['Casos'] = pd.to_numeric(cv_data['Casos'], errors='coerce')"
   ]
  },
  {
   "cell_type": "code",
   "execution_count": null,
   "id": "15570786-ef41-425c-8fda-14072c546182",
   "metadata": {},
   "outputs": [],
   "source": [
    "# Función para convertir a str y agregar un 0 si la longitud es 5\n",
    "def format_ubigeo(ubigeo):\n",
    "    if pd.isna(ubigeo):\n",
    "        return ubigeo  # Mantener NaN como está\n",
    "    ubigeo_str = str(ubigeo)\n",
    "    if len(ubigeo_str) == 5:\n",
    "        return '0' + ubigeo_str\n",
    "    return ubigeo_str\n",
    "\n",
    "# Aplicar la función a la columna 'Ubigeo'\n",
    "cv_data['Ubigeo'] = cv_data['Ubigeo'].apply(format_ubigeo)\n",
    "\n",
    "cv_data['ubigeo_dep'] = cv_data['Ubigeo'].str[:2]\n",
    "cv_data['ubigeo_prov'] = cv_data['Ubigeo'].str[:4]\n",
    "\n",
    "cv_data = cv_data.rename({'Ubigeo':'ubigeo'}, axis =1 )\n",
    "\n",
    "# Verificar el df de casos de dengue\n",
    "cv_data"
   ]
  },
  {
   "cell_type": "markdown",
   "id": "a0b567a2-0ee1-4f68-a5b7-4df899073b3c",
   "metadata": {},
   "source": [
    "## Shapefiles"
   ]
  },
  {
   "cell_type": "code",
   "execution_count": null,
   "id": "7365a679-3465-48ce-9c9c-8d6554f49e53",
   "metadata": {},
   "outputs": [],
   "source": [
    "# Importar el shapefile a nivel de distrito\n",
    "maps = gpd.read_file(r'../../_data/LIMITE_DISTRITAL_2020_INEI/INEI_LIMITE_DISTRITAL.shp')"
   ]
  },
  {
   "cell_type": "code",
   "execution_count": null,
   "id": "b1a7e267",
   "metadata": {},
   "outputs": [],
   "source": [
    "# Agregar dos nuevas columnas, con los ubigeos de departamento y provincia\n",
    "\n",
    "maps = maps.rename({'UBIGEO':'ubigeo'}, axis =1 )\n",
    "\n",
    "maps['ubigeo_dep'] = maps['ubigeo'].str[:2]\n",
    "maps['ubigeo_prov'] = maps['ubigeo'].str[:4]\n",
    "maps = maps[['ubigeo','ubigeo_dep','ubigeo_prov','geometry']]\n",
    "print(maps.crs)"
   ]
  },
  {
   "cell_type": "code",
   "execution_count": null,
   "id": "86861c1c",
   "metadata": {},
   "outputs": [],
   "source": [
    "# Agrupar por provincia\n",
    "gdf_prov = maps.groupby('ubigeo_prov').agg({\n",
    "    'geometry': lambda x: unary_union(x) \n",
    "}).reset_index()\n",
    "\n",
    "# Convertir a GeoDataFrame\n",
    "gdf_prov = gpd.GeoDataFrame(gdf_prov, geometry='geometry')\n",
    "\n",
    "# Asegurarse de que el CRS está definido\n",
    "gdf_prov.set_crs(maps.crs, inplace=True)\n",
    "\n",
    "# Verificar el GeoDataFrame resultante\n",
    "print(gdf_prov.crs)\n",
    "\n",
    "# Shapefile de provincia: gdf_prov"
   ]
  },
  {
   "cell_type": "code",
   "execution_count": null,
   "id": "00421791",
   "metadata": {},
   "outputs": [],
   "source": [
    "# Agrupar por departamento\n",
    "gdf_dep = maps.groupby('ubigeo_dep').agg({\n",
    "    'geometry': lambda x: unary_union(x) \n",
    "}).reset_index()\n",
    "\n",
    "# Convertir a GeoDataFrame\n",
    "gdf_dep = gpd.GeoDataFrame(gdf_dep, geometry='geometry')\n",
    "\n",
    "# Asegurarse de que el CRS está definido\n",
    "gdf_dep.set_crs(maps.crs, inplace=True)\n",
    "\n",
    "# Verificar el GeoDataFrame resultante\n",
    "print(gdf_dep.crs)\n",
    "\n",
    "# Shapefile de departamento: gdf_dep"
   ]
  },
  {
   "cell_type": "code",
   "execution_count": null,
   "id": "148cff0f",
   "metadata": {},
   "outputs": [],
   "source": [
    "gdf_dist=maps[['ubigeo','geometry']]\n",
    "print(gdf_dist.crs)\n",
    "\n",
    "# Shapefile de distrito: gdf_dist"
   ]
  },
  {
   "cell_type": "code",
   "execution_count": null,
   "id": "614ea3af",
   "metadata": {},
   "outputs": [],
   "source": [
    "# Gráficos de los mapas obtenidos\n",
    "fig, axs = plt.subplots(1, 3, figsize=(11, 5), sharex=True, sharey=True)\n",
    "\n",
    "# Graficar el GeoDataFrame de distritos\n",
    "gdf_dist.plot(ax=axs[0], edgecolor='lightgrey', color='black')\n",
    "axs[2].set_title('Departamentos')\n",
    "\n",
    "# Graficar el GeoDataFrame de provincias\n",
    "gdf_prov.plot(ax=axs[1], edgecolor='lightgrey', color='black')\n",
    "axs[1].set_title('Provincias')\n",
    "\n",
    "# Graficar el GeoDataFrame de departamentos\n",
    "gdf_dep.plot(ax=axs[2], edgecolor='lightgrey', color='black')\n",
    "axs[0].set_title('Distritos')\n",
    "\n",
    "# Ajustar el espaciado entre subgráficas\n",
    "plt.tight_layout()\n",
    "\n",
    "# Mostrar la figura\n",
    "plt.show()"
   ]
  },
  {
   "cell_type": "markdown",
   "id": "edec4823-81c4-49d3-985e-9af2edf143c2",
   "metadata": {},
   "source": [
    "## Año 2021 - Caso por distrito"
   ]
  },
  {
   "cell_type": "code",
   "execution_count": null,
   "id": "e09fb025",
   "metadata": {},
   "outputs": [],
   "source": [
    "# Agrupar el número de casos por distrito, para todos los años\n",
    "grouped1 = cv_data.groupby(['ubigeo', 'Año']).agg({\n",
    "    'Casos': 'sum', # Sumar los casos\n",
    "    'Distrito': 'first'\n",
    "}).reset_index()\n",
    "\n",
    "# Mantener solo los datos de 2021\n",
    "df1 = grouped1[grouped1['Año'] == 2021]\n",
    "df1 = df1.reset_index(drop=True)"
   ]
  },
  {
   "cell_type": "code",
   "execution_count": null,
   "id": "cdd993e0",
   "metadata": {},
   "outputs": [],
   "source": [
    "# Merge con el shapefile de distrito\n",
    "df_dist = pd.merge(gdf_dist, df1, how=\"outer\", on=[\"ubigeo\"])\n",
    "\n",
    "df_dist = gpd.GeoDataFrame(df_dist, geometry='geometry')\n",
    "df_dist.set_crs(epsg=4326, inplace=True)\n",
    "print(df_dist.crs)"
   ]
  },
  {
   "cell_type": "code",
   "execution_count": null,
   "id": "a4bdf0bc",
   "metadata": {},
   "outputs": [],
   "source": [
    "#Gráfico\n",
    "\n",
    "# Máscara para valores faltantes\n",
    "mask_na = df_dist['Casos'].isna()\n",
    "\n",
    "fig, ax = plt.subplots(figsize=(10, 10))\n",
    "\n",
    "# Graficar los valores no nulos con una leyenda continua\n",
    "df_dist[~mask_na].plot(column='Casos', cmap='RdPu', edgecolor='gray', ax=ax, legend=True, linestyle='-')\n",
    "\n",
    "# Graficar los valores NaN en color diferente\n",
    "df_dist[mask_na].plot(edgecolor='white', ax=ax, color='lightgray', linestyle='-')\n",
    "\n",
    "# Crear la leyenda para los valores NaN\n",
    "handles, labels = ax.get_legend_handles_labels()\n",
    "handles.append(plt.Line2D([0], [0], color='lightgray', linewidth=2, linestyle='-', label='No Datos'))\n",
    "labels.append('Sin datos')\n",
    "\n",
    "# Configurar la leyenda continua\n",
    "# Añadir la leyenda continua para los valores no nulos\n",
    "ax.legend(handles=handles, labels=labels, title='Número de Casos', loc='lower left', bbox_to_anchor=(0, 0), fontsize='small')\n",
    "\n",
    "# Agregar el título al mapa\n",
    "ax.set_title(\"Número de casos, por distrito (2021)\", fontsize=16)\n",
    "\n",
    "plt.show()"
   ]
  },
  {
   "cell_type": "markdown",
   "id": "91124df0-b1fc-440c-9990-023917652bc5",
   "metadata": {},
   "source": [
    "## Año 2021 - Casos por provincia"
   ]
  },
  {
   "cell_type": "code",
   "execution_count": null,
   "id": "7df73c3a-54df-4001-acfb-95e16e026f46",
   "metadata": {},
   "outputs": [],
   "source": [
    "# Agrupar el número de casos por provincia, para todos los años\n",
    "grouped2 = cv_data.groupby(['ubigeo_prov', 'Año']).agg({\n",
    "    'Casos': 'sum', # Sumar los casos\n",
    "    'Provincia': 'first'\n",
    "}).reset_index()\n",
    "\n",
    "# Mantener solo los datos de 2021\n",
    "df2 = grouped2[grouped2['Año'] == 2021]\n",
    "df2 = df2.reset_index(drop=True)"
   ]
  },
  {
   "cell_type": "code",
   "execution_count": null,
   "id": "f1d4e1bd-81b6-46eb-a207-6dd6ef720f04",
   "metadata": {},
   "outputs": [],
   "source": [
    "# Merge con el shapefile de provincia\n",
    "df_prov = pd.merge(gdf_prov, df2, how=\"outer\", on=[\"ubigeo_prov\"])\n",
    "\n",
    "df_prov = gpd.GeoDataFrame(df_prov, geometry='geometry')\n",
    "df_prov.set_crs(epsg=4326, inplace=True)\n",
    "print(df_prov.crs)"
   ]
  },
  {
   "cell_type": "code",
   "execution_count": null,
   "id": "dfe624fb-6091-45c2-88bf-5b57aa8cff61",
   "metadata": {},
   "outputs": [],
   "source": [
    "# Gráfico\n",
    "\n",
    "# Máscara para valores faltantes\n",
    "mask_na = df_prov['Casos'].isna()\n",
    "\n",
    "fig, ax = plt.subplots(figsize=(10, 10))\n",
    "\n",
    "# Graficar los valores no nulos con una leyenda continua\n",
    "df_prov[~mask_na].plot(column='Casos', cmap='Oranges', edgecolor='lightgray', ax=ax, legend=True, linestyle='-')\n",
    "\n",
    "# Graficar los valores NaN en color diferente\n",
    "df_prov[mask_na].plot(edgecolor='gray', ax=ax, color='lightgray', linestyle='-')\n",
    "\n",
    "# Crear la leyenda para los valores NaN y añadirla a la leyenda continua\n",
    "handles, labels = ax.get_legend_handles_labels()\n",
    "handles.append(mlines.Line2D([0], [0], color='lightgray', linewidth=2, linestyle='-', label='No Datos'))\n",
    "labels.append('Sin datos')\n",
    "\n",
    "# Configurar la leyenda continua\n",
    "ax.legend(handles=handles, labels=labels, title='Número de Casos', loc='lower left', bbox_to_anchor=(0, 0), fontsize='small')\n",
    "\n",
    "# Agregar el título al mapa\n",
    "ax.set_title(\"Número de casos, por provincia (2021)\", fontsize=16)\n",
    "\n",
    "plt.show()"
   ]
  },
  {
   "cell_type": "markdown",
   "id": "36a660e7-54ef-4cac-8013-e26fea7f1421",
   "metadata": {},
   "source": [
    "## Casos por departamento"
   ]
  },
  {
   "cell_type": "code",
   "execution_count": null,
   "id": "240e1fc5-5d47-4275-bd4a-cf809ca2754c",
   "metadata": {},
   "outputs": [],
   "source": [
    "# Agrupar el número de casos por departamento, para todos los años\n",
    "grouped3 = cv_data.groupby(['ubigeo_dep', 'Año']).agg({\n",
    "    'Casos': 'sum', # Sumar los casos\n",
    "    'Departamento': 'first'\n",
    "}).reset_index()"
   ]
  },
  {
   "cell_type": "code",
   "execution_count": null,
   "id": "7ed748f3-8607-4539-b683-64360dce675b",
   "metadata": {},
   "outputs": [],
   "source": [
    "# Crear una lista con los años para cada gdf\n",
    "years = [2015, 2016, 2017, 2018, 2019, 2020, 2021]\n",
    "\n",
    "# Crear un diccionario para almacenar los GeoDataFrames por año\n",
    "geo_dataframes = {}\n",
    "\n",
    "for year in years:\n",
    "    # Filtrar los datos para el año actual\n",
    "    df3_year = grouped3[grouped3['Año'] == year].reset_index(drop=True)\n",
    "    \n",
    "    # Realizar el merge con el GeoDataFrame de departamentos\n",
    "    df_dep_year = pd.merge(gdf_dep, df3_year, how=\"outer\", on=[\"ubigeo_dep\"])\n",
    "    \n",
    "    # Convertir a GeoDataFrame\n",
    "    df_dep_year = gpd.GeoDataFrame(df_dep_year, geometry='geometry')\n",
    "    df_dep_year.set_crs(epsg=4326, inplace=True)\n",
    "    \n",
    "    # Almacenar en el diccionario con el año como clave\n",
    "    geo_dataframes[year] = df_dep_year\n",
    "\n",
    "# Imprimir CRS para verificar\n",
    "for year, gdf in geo_dataframes.items():\n",
    "    print(f\"CRS para el año {year}: {gdf.crs}\")"
   ]
  },
  {
   "cell_type": "code",
   "execution_count": null,
   "id": "4f6997c7-dc91-4586-89b2-eda70ff89ef7",
   "metadata": {},
   "outputs": [],
   "source": [
    "# Crear una leyenda para todos los gráficos\n",
    "def create_legend():\n",
    "    # Crear un DataFrame para la leyenda\n",
    "    legend_handles = []\n",
    "        \n",
    "    # Añadir el manejador para los valores NaN\n",
    "    legend_handles.append(mlines.Line2D([0], [0], color='gray', linewidth=2, linestyle='-', label='Sin datos'))\n",
    "    \n",
    "    return legend_handles\n",
    "\n",
    "# Obtener los años y número de GeoDataFrames\n",
    "years = list(geo_dataframes.keys())\n",
    "num_years = len(years)\n",
    "\n",
    "# Crear la figura y los ejes para los subplots\n",
    "fig, axs = plt.subplots(3, 3, figsize=(20, 20), sharex=False, sharey=True)\n",
    "\n",
    "# Aplanar el array de ejes para facilitar el acceso\n",
    "axs = axs.flatten()\n",
    "\n",
    "# Crear los manejadores de la leyenda\n",
    "handles = create_legend()\n",
    "\n",
    "# Graficar cada GeoDataFrame en el subplot correspondiente\n",
    "for i, (year, gdf) in enumerate(geo_dataframes.items()):\n",
    "    ax = axs[i]\n",
    "    \n",
    "    # Crear la máscara para los valores NaN en la columna 'Casos'\n",
    "    if 'Casos' in gdf.columns:\n",
    "        mask_na = gdf['Casos'].isna()\n",
    "        \n",
    "        # Graficar los valores no nulos\n",
    "        gdf[~mask_na].plot(column='Casos', ax=ax, edgecolor='lightgray', cmap='Purples', legend=True)\n",
    "        \n",
    "        # Graficar los valores NaN en color diferente\n",
    "        gdf[mask_na].plot(ax=ax, edgecolor='gray', color='gray')\n",
    "        \n",
    "        # Establecer el título para el subplot\n",
    "        ax.set_title(f'Año {year}')\n",
    "        \n",
    "        # Añadir la leyenda en cada subplot\n",
    "        ax.legend(handles=handles, title='Número de Casos', loc='lower left', bbox_to_anchor=(0, 0), fontsize='small')\n",
    "    else:\n",
    "        ax.text(0.5, 0.5, f'No datos para el año {year}', horizontalalignment='center', verticalalignment='center', fontsize=12, color='red')\n",
    "        ax.set_title(f'Sin información')\n",
    "\n",
    "# Ocultar los subplots no utilizados\n",
    "for j in range(num_years, len(axs)):\n",
    "    axs[j].axis('off')\n",
    "\n",
    "# Ajustar el espaciado entre subgráficas\n",
    "plt.tight_layout(rect=[0, 0, 1, 0.95])  # Ajustar el rectángulo para dar espacio al título\n",
    "\n",
    "# Agregar el título general en la parte superior\n",
    "fig.suptitle(\"Número de casos por departamento (2015-2021)\", fontsize=22, y=1.02)\n",
    "\n",
    "# Mostrar la figura\n",
    "plt.show()\n"
   ]
  },
  {
   "cell_type": "markdown",
   "id": "7682ec4e-633e-4da1-a591-364e7d2a6268",
   "metadata": {},
   "source": [
    "## Trimestres 2021 - Casos por departamento"
   ]
  },
  {
   "cell_type": "code",
   "execution_count": null,
   "id": "2c2428e2-9ad6-4152-b359-99067fd8bc91",
   "metadata": {},
   "outputs": [],
   "source": [
    "# Lista de trimestres\n",
    "trimesters = ['1', '2', '3', '4']\n",
    "\n",
    "# Crear un diccionario para almacenar los GeoDataFrames por trimestre\n",
    "geo_df4 = {}\n",
    "\n",
    "# Definir los rangos de semanas para cada trimestre\n",
    "trimestre_ranges = {\n",
    "    '1': (1, 13),\n",
    "    '2': (14, 26),\n",
    "    '3': (27, 40),\n",
    "    '4': (41, 53)\n",
    "}\n",
    "\n",
    "for trimester in trimesters:\n",
    "    # Obtener el rango de semanas para el trimestre actual\n",
    "    start_week, end_week = trimestre_ranges[trimester]\n",
    "    \n",
    "    # Filtrar los datos para el trimestre actual\n",
    "    df4_trimester = cv_data[(cv_data['Semana'] >= start_week) & (cv_data['Semana'] <= end_week)]\n",
    "    \n",
    "    # Agrupar los datos por 'ubigeo_dep' y sumar los casos\n",
    "    grouped_trimester = df4_trimester.groupby(['ubigeo_dep']).agg({\n",
    "        'Casos': 'sum', # Sumar los casos\n",
    "        'Departamento': 'first'\n",
    "    }).reset_index()\n",
    "    \n",
    "    # Realizar el merge con el GeoDataFrame de departamentos\n",
    "    df4_dep_trimester = pd.merge(gdf_dep, grouped_trimester, how=\"outer\", on=[\"ubigeo_dep\"])\n",
    "    \n",
    "    # Convertir a GeoDataFrame\n",
    "    df4_dep_trimester = gpd.GeoDataFrame(df4_dep_trimester, geometry='geometry')\n",
    "    df4_dep_trimester.set_crs(epsg=4326, inplace=True)\n",
    "    \n",
    "    # Almacenar en el diccionario con el trimestre como clave\n",
    "    geo_df4[trimester] = df4_dep_trimester\n",
    "\n",
    "# Imprimir CRS para verificar\n",
    "for trimester, gdf in geo_df4.items():\n",
    "    print(f\"CRS para el trimestre {trimester}: {gdf.crs}\")\n"
   ]
  },
  {
   "cell_type": "code",
   "execution_count": null,
   "id": "a686bea5-801b-436b-a679-865a9133ddf4",
   "metadata": {},
   "outputs": [],
   "source": [
    "# Función para clasificar los datos en quintiles y asignar categorías\n",
    "def classify_data(gdf, column_name):\n",
    "    # Calcular los quintiles\n",
    "    quintiles = np.percentile(gdf[column_name].dropna(), [0, 20, 40, 60, 80, 100])\n",
    "    labels = ['Muy Bajo', 'Bajo', 'Medio', 'Alto', 'Muy Alto']\n",
    "    \n",
    "    # Crear una nueva columna con las categorías\n",
    "    gdf['Categoría'] = pd.cut(gdf[column_name], bins=quintiles, labels=labels, include_lowest=True)\n",
    "    return gdf, labels, quintiles\n",
    "\n",
    "# Obtener los años y número de GeoDataFrames\n",
    "trim = list(geo_df4.keys())\n",
    "num_trim = len(trim)\n",
    "\n",
    "# Crear la figura y los ejes para los subplots\n",
    "fig, axs = plt.subplots(2, 2, figsize=(15, 15), sharex=False, sharey=True)\n",
    "\n",
    "# Aplanar el array de ejes para facilitar el acceso\n",
    "axs = axs.flatten()\n",
    "\n",
    "# Crear una leyenda para todos los gráficos\n",
    "def create_legend():\n",
    "    # Crear un DataFrame para la leyenda\n",
    "    legend_df = pd.DataFrame({'Categoría': labels, 'Color': [plt.cm.GnBu(i / 4) for i in range(5)]})\n",
    "    handles = [plt.Line2D([0], [0], marker='o', color='w', markerfacecolor=color, markersize=6, label=cat) \n",
    "               for cat, color in zip(legend_df['Categoría'], legend_df['Color'])]\n",
    "    handles.append(plt.Line2D([0], [0], marker='o', color='w', markerfacecolor='gray', markersize=6, label='Sin Datos'))\n",
    "    return handles\n",
    "\n",
    "# Graficar cada GeoDataFrame en el subplot correspondiente\n",
    "for i, (trimestre, gdf) in enumerate(geo_df4.items()):\n",
    "    ax = axs[i]\n",
    "    \n",
    "    # Clasificar los datos en quintiles\n",
    "    if 'Casos' in gdf.columns:\n",
    "        gdf, labels, quintiles = classify_data(gdf, 'Casos')\n",
    "        mask_na = gdf['Casos'].isna()\n",
    "        \n",
    "        # Graficar los valores no nulos con categorías\n",
    "        gdf[~mask_na].plot(column='Categoría', ax=ax, edgecolor='lightgray', cmap='GnBu', legend=False)\n",
    "        \n",
    "        # Graficar los valores NaN en color diferente\n",
    "        gdf[mask_na].plot(ax=ax, edgecolor='gray', color='gray')\n",
    "        \n",
    "        # Establecer el título para el subplot\n",
    "        ax.set_title(f'Trimestre {trimestre}')\n",
    "    else:\n",
    "        ax.text(0.5, 0.5, f'No datos para el trimestre {trimestre}', horizontalalignment='center', verticalalignment='center', fontsize=12, color='red')\n",
    "        ax.set_title(f'Sin información')\n",
    "    \n",
    "    # Añadir la leyenda en la esquina inferior izquierda\n",
    "    if i == 0:\n",
    "        handles = create_legend()\n",
    "    ax.legend(handles=handles, title='Nivel de incidencia de casos', loc='lower left', bbox_to_anchor=(0, 0), fontsize='small')\n",
    "\n",
    "# Agregar un título general a la figura\n",
    "fig.suptitle('Casos por departamento, por trimestre (2021)', fontsize=16)\n",
    "\n",
    "# Ocultar los subplots no utilizados\n",
    "for j in range(num_trim, len(axs)):\n",
    "    axs[j].axis('off')\n",
    "\n",
    "# Ajustar el espaciado entre subgráficas\n",
    "plt.tight_layout(rect=[0, 0, 1, 0.95])  # Ajustar el rectángulo para dar espacio al título\n",
    "\n",
    "# Mostrar la figura\n",
    "plt.show()\n"
   ]
  }
 ],
 "metadata": {
  "kernelspec": {
   "display_name": "Python 3 (ipykernel)",
   "language": "python",
   "name": "python3"
  },
  "language_info": {
   "codemirror_mode": {
    "name": "ipython",
    "version": 3
   },
   "file_extension": ".py",
   "mimetype": "text/x-python",
   "name": "python",
   "nbconvert_exporter": "python",
   "pygments_lexer": "ipython3",
   "version": "3.9.19"
  }
 },
 "nbformat": 4,
 "nbformat_minor": 5
}
