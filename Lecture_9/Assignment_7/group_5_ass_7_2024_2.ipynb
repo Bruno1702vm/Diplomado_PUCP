{
 "cells": [
  {
   "cell_type": "markdown",
   "id": "4e26b6d3-c30a-4e7a-a29c-74cc34c1a383",
   "metadata": {},
   "source": [
    "#Assignment 7"
   ]
  },
  {
   "cell_type": "markdown",
   "id": "671d09f7-17ea-462d-8498-08f13b4a8600",
   "metadata": {},
   "source": [
    "Grupo 5  :Karla Chauca, Alejandra Navarro, Adriana Sierra y  Elisa Vivar"
   ]
  },
  {
   "cell_type": "code",
   "execution_count": null,
   "id": "10a25a5c-ff53-422c-a0d4-3ec37369486f",
   "metadata": {},
   "outputs": [],
   "source": [
    "#pip install openpyxl"
   ]
  },
  {
   "cell_type": "code",
   "execution_count": null,
   "id": "9240c7b1-9dbc-4308-ad08-09209f101f46",
   "metadata": {},
   "outputs": [],
   "source": [
    "import openpyxl"
   ]
  },
  {
   "cell_type": "code",
   "execution_count": null,
   "id": "e4b84f40-eaaa-415b-a769-6a701ca83516",
   "metadata": {},
   "outputs": [],
   "source": [
    "import pandas as pd\n",
    "from pandas import Series, DataFrame\n",
    "import numpy as np\n",
    "import matplotlib.pyplot as plt \n",
    "import matplotlib.colors as mcolors\n",
    "import chardet\n",
    "from shapely.ops import unary_union"
   ]
  },
  {
   "cell_type": "code",
   "execution_count": null,
   "id": "161d7e1a-ff20-4f02-98fb-d538ef669673",
   "metadata": {},
   "outputs": [],
   "source": [
    "import geopandas as gpd\n",
    "from geopandas import GeoSeries\n",
    "from shapely.geometry import Point, LineString\n",
    "import folium \n",
    "from folium import Marker, GeoJson\n",
    "from folium.plugins import MarkerCluster, HeatMap"
   ]
  },
  {
   "cell_type": "code",
   "execution_count": null,
   "id": "5f62940e-6ec7-4b89-9729-9d8fc5e1f22c",
   "metadata": {},
   "outputs": [],
   "source": [
    "# Gettting the character format (encoding type)\n",
    "\n",
    "base = open(r'../../_data/data_dengue_peru.csv', 'rb').read()\n",
    "det = chardet.detect(base)\n",
    "charenc = det['encoding']\n",
    "charenc"
   ]
  },
  {
   "cell_type": "markdown",
   "id": "8617c60e-964c-4298-96c4-56b993224783",
   "metadata": {},
   "source": [
    "#Casos de Dengue"
   ]
  },
  {
   "cell_type": "code",
   "execution_count": null,
   "id": "4d9758d0-cf85-4832-9821-fedc8f371540",
   "metadata": {},
   "outputs": [],
   "source": [
    "cv_data = pd.read_csv( r'../../_data/data_dengue_peru.csv', encoding = charenc)\n",
    "cv_data.head()"
   ]
  },
  {
   "cell_type": "code",
   "execution_count": null,
   "id": "81b765a1-7e3f-4200-89c6-ebb3c3fe07e5",
   "metadata": {},
   "outputs": [],
   "source": [
    "# Limpiar los valores eliminando los separadores de miles\n",
    "cv_data['Casos'] = cv_data['Casos'].astype(str).str.replace(',', '', regex=False)\n",
    "\n",
    "# Convertir la columna a valores numéricos, manteniendo NA\n",
    "cv_data['Casos'] = pd.to_numeric(cv_data['Casos'], errors='coerce')"
   ]
  },
  {
   "cell_type": "code",
   "execution_count": null,
   "id": "8648654c-f025-4e55-8fb5-87114024b2f3",
   "metadata": {},
   "outputs": [],
   "source": [
    "# cv_data['Casos'].isna().sum()"
   ]
  },
  {
   "cell_type": "code",
   "execution_count": null,
   "id": "b6b20cbd-355c-425a-8c0d-7fe550c12cb8",
   "metadata": {},
   "outputs": [],
   "source": [
    "# cv_data['Ubigeo'].dtype"
   ]
  },
  {
   "cell_type": "code",
   "execution_count": null,
   "id": "15570786-ef41-425c-8fda-14072c546182",
   "metadata": {},
   "outputs": [],
   "source": [
    "# Función para convertir a str y agregar un 0 si la longitud es 5\n",
    "def format_ubigeo(ubigeo):\n",
    "    if pd.isna(ubigeo):\n",
    "        return ubigeo  # Mantener NaN como está\n",
    "    ubigeo_str = str(ubigeo)\n",
    "    if len(ubigeo_str) == 5:\n",
    "        return '0' + ubigeo_str\n",
    "    return ubigeo_str\n",
    "\n",
    "# Aplicar la función a la columna 'Ubigeo'\n",
    "cv_data['Ubigeo'] = cv_data['Ubigeo'].apply(format_ubigeo)\n",
    "\n",
    "cv_data['ubigeo_dep'] = cv_data['Ubigeo'].str[:2]\n",
    "cv_data['ubigeo_prov'] = cv_data['Ubigeo'].str[:4]\n",
    "\n",
    "cv_data = cv_data.rename({'Ubigeo':'ubigeo'}, axis =1 )\n",
    "cv_data #así queda el df de casos de dengue"
   ]
  },
  {
   "cell_type": "markdown",
   "id": "a0b567a2-0ee1-4f68-a5b7-4df899073b3c",
   "metadata": {},
   "source": [
    "Shapefile"
   ]
  },
  {
   "cell_type": "code",
   "execution_count": null,
   "id": "7365a679-3465-48ce-9c9c-8d6554f49e53",
   "metadata": {},
   "outputs": [],
   "source": [
    "# Upload shape file at district level\n",
    "maps = gpd.read_file(r'../../_data/LIMITE_DISTRITAL_2020_INEI/INEI_LIMITE_DISTRITAL.shp')"
   ]
  },
  {
   "cell_type": "code",
   "execution_count": null,
   "id": "f4bfe3b6",
   "metadata": {},
   "outputs": [],
   "source": [
    "maps = maps.rename({'UBIGEO':'ubigeo'}, axis =1 )\n",
    "\n",
    "maps['ubigeo_dep'] = maps['ubigeo'].str[:2]\n",
    "maps['ubigeo_prov'] = maps['ubigeo'].str[:4]\n",
    "maps = maps[['ubigeo','ubigeo_dep','ubigeo_prov','geometry']]\n",
    "print(maps.crs)"
   ]
  },
  {
   "cell_type": "code",
   "execution_count": null,
   "id": "15f8ace2",
   "metadata": {},
   "outputs": [],
   "source": [
    "# Agrupar por provincia\n",
    "gdf_prov = maps.groupby('ubigeo_prov').agg({\n",
    "    'geometry': lambda x: unary_union(x) \n",
    "}).reset_index()\n",
    "\n",
    "# Convertir a GeoDataFrame\n",
    "gdf_prov = gpd.GeoDataFrame(gdf_prov, geometry='geometry')\n",
    "\n",
    "# Asegurarse de que el CRS está definido\n",
    "gdf_prov.set_crs(maps.crs, inplace=True)\n",
    "\n",
    "# Verificar el GeoDataFrame resultante\n",
    "print(gdf_prov.crs)\n",
    "\n",
    "# Shapefile de provincia: gdf_prov"
   ]
  },
  {
   "cell_type": "code",
   "execution_count": null,
   "id": "ede6d522",
   "metadata": {},
   "outputs": [],
   "source": [
    "# Agrupar por departamento\n",
    "gdf_dep = maps.groupby('ubigeo_dep').agg({\n",
    "    'geometry': lambda x: unary_union(x) \n",
    "}).reset_index()\n",
    "\n",
    "# Convertir a GeoDataFrame\n",
    "gdf_dep = gpd.GeoDataFrame(gdf_dep, geometry='geometry')\n",
    "\n",
    "# Asegurarse de que el CRS está definido\n",
    "gdf_dep.set_crs(maps.crs, inplace=True)\n",
    "\n",
    "# Verificar el GeoDataFrame resultante\n",
    "print(gdf_dep.crs)\n",
    "\n",
    "# Shapefile de provincia: gdf_dep"
   ]
  },
  {
   "cell_type": "code",
   "execution_count": null,
   "id": "60af6850",
   "metadata": {},
   "outputs": [],
   "source": [
    "gdf_dist=maps[['ubigeo','geometry']]\n",
    "print(gdf_dist.crs)\n",
    "\n",
    "# Shapefile de distrito: gdf_dist"
   ]
  },
  {
   "cell_type": "code",
   "execution_count": null,
   "id": "d47e1683",
   "metadata": {},
   "outputs": [],
   "source": [
    "# Gráficos de mapas\n",
    "fig, axs = plt.subplots(1, 3, figsize=(11, 5), sharex=True, sharey=True)\n",
    "\n",
    "# Graficar el GeoDataFrame de distritos\n",
    "gdf_dist.plot(ax=axs[0], edgecolor='lightgrey', color='black')\n",
    "axs[2].set_title('Departamentos')\n",
    "\n",
    "# Graficar el GeoDataFrame de provincias\n",
    "gdf_prov.plot(ax=axs[1], edgecolor='lightgrey', color='black')\n",
    "axs[1].set_title('Provincias')\n",
    "\n",
    "# Graficar el GeoDataFrame de departamentos\n",
    "gdf_dep.plot(ax=axs[2], edgecolor='lightgrey', color='black')\n",
    "axs[0].set_title('Distritos')\n",
    "\n",
    "# Ajustar el espaciado entre subgráficas\n",
    "plt.tight_layout()\n",
    "\n",
    "# Mostrar la figura\n",
    "plt.show()"
   ]
  },
  {
   "cell_type": "code",
   "execution_count": 1,
   "id": "e2f83a2b",
   "metadata": {},
   "outputs": [],
   "source": [
    "### Año 2021 - distrito"
   ]
  },
  {
   "cell_type": "code",
   "execution_count": null,
   "id": "04114d22",
   "metadata": {},
   "outputs": [],
   "source": [
    "grouped1 = cv_data.groupby(['ubigeo', 'Año']).agg({\n",
    "    'Casos': 'sum', # Sumar los casos\n",
    "    'Distrito': 'first'\n",
    "}).reset_index()\n",
    "\n",
    "df1 = grouped1[grouped1['Año'] == 2021]\n",
    "df1 = df1.reset_index(drop=True)"
   ]
  },
  {
   "cell_type": "code",
   "execution_count": null,
   "id": "6354f278",
   "metadata": {},
   "outputs": [],
   "source": [
    "df_dist = pd.merge(gdf_dist, df1, how=\"outer\", on=[\"ubigeo\"])\n",
    "\n",
    "df_dist = gpd.GeoDataFrame(df_dist, geometry='geometry')\n",
    "df_dist.set_crs(epsg=4326, inplace=True)\n",
    "print(df_dist.crs)"
   ]
  },
  {
   "cell_type": "code",
   "execution_count": null,
   "id": "f2d0a2de",
   "metadata": {},
   "outputs": [],
   "source": [
    "# Máscara para valores faltantes\n",
    "mask_na = df_dist['Casos'].isna()\n",
    "\n",
    "fig, ax = plt.subplots(figsize=(10, 10))\n",
    "\n",
    "# Graficar los valores no nulos con una leyenda continua\n",
    "df_dist[~mask_na].plot(column='Casos', cmap='RdPu', edgecolor='gray', ax=ax, legend=True, linestyle='-')\n",
    "\n",
    "# Graficar los valores NaN en color diferente\n",
    "df_dist[mask_na].plot(edgecolor='white', ax=ax, color='lightgray', linestyle='-')\n",
    "\n",
    "# Crear la leyenda para los valores NaN\n",
    "handles, labels = ax.get_legend_handles_labels()\n",
    "handles.append(plt.Line2D([0], [0], color='lightgray', linewidth=2, linestyle='-', label='No Datos'))\n",
    "labels.append('Sin Datos')\n",
    "\n",
    "# Configurar la leyenda continua\n",
    "# Añadir la leyenda continua para los valores no nulos\n",
    "ax.legend(handles=handles, labels=labels, title='Número de Casos', loc='lower left', bbox_to_anchor=(0, 0), fontsize='small')\n",
    "\n",
    "# Agregar el título al mapa\n",
    "ax.set_title(\"Número de casos, por distrito (2021)\", fontsize=16)\n",
    "\n",
    "plt.show()"
   ]
  }
 ],
 "metadata": {
  "kernelspec": {
   "display_name": "Python 3 (ipykernel)",
   "language": "python",
   "name": "python3"
  },
  "language_info": {
   "codemirror_mode": {
    "name": "ipython",
    "version": 3
   },
   "file_extension": ".py",
   "mimetype": "text/x-python",
   "name": "python",
   "nbconvert_exporter": "python",
   "pygments_lexer": "ipython3",
   "version": "3.11.4"
  }
 },
 "nbformat": 4,
 "nbformat_minor": 5
}
