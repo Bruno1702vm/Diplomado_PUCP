{
 "cells": [
  {
   "cell_type": "markdown",
   "id": "4e26b6d3-c30a-4e7a-a29c-74cc34c1a383",
   "metadata": {},
   "source": [
    "#Assignment 7"
   ]
  },
  {
   "cell_type": "markdown",
   "id": "671d09f7-17ea-462d-8498-08f13b4a8600",
   "metadata": {},
   "source": [
    "Grupo 5  :Karla Chauca, Alejandra Navarro, Adriana Sierra y  Elisa Vivar"
   ]
  },
  {
   "cell_type": "code",
   "execution_count": null,
   "id": "10a25a5c-ff53-422c-a0d4-3ec37369486f",
   "metadata": {},
   "outputs": [],
   "source": [
    "#pip install openpyxl"
   ]
  },
  {
   "cell_type": "code",
   "execution_count": null,
   "id": "9240c7b1-9dbc-4308-ad08-09209f101f46",
   "metadata": {},
   "outputs": [],
   "source": [
    "import openpyxl"
   ]
  },
  {
   "cell_type": "code",
   "execution_count": null,
   "id": "e4b84f40-eaaa-415b-a769-6a701ca83516",
   "metadata": {},
   "outputs": [],
   "source": [
    "import pandas as pd\n",
    "from pandas import Series, DataFrame\n",
    "import numpy as np\n",
    "import matplotlib.pyplot as plt \n",
    "import matplotlib.colors as mcolors\n",
    "import chardet\n",
    "from shapely.ops import unary_union"
   ]
  },
  {
   "cell_type": "code",
   "execution_count": null,
   "id": "161d7e1a-ff20-4f02-98fb-d538ef669673",
   "metadata": {},
   "outputs": [],
   "source": [
    "import geopandas as gpd\n",
    "from geopandas import GeoSeries\n",
    "from shapely.geometry import Point, LineString\n",
    "import folium \n",
    "from folium import Marker, GeoJson\n",
    "from folium.plugins import MarkerCluster, HeatMap"
   ]
  },
  {
   "cell_type": "code",
   "execution_count": null,
   "id": "5f62940e-6ec7-4b89-9729-9d8fc5e1f22c",
   "metadata": {},
   "outputs": [],
   "source": [
    "# Gettting the character format (encoding type)\n",
    "\n",
    "base = open(r'../../_data/data_dengue_peru.csv', 'rb').read()\n",
    "det = chardet.detect(base)\n",
    "charenc = det['encoding']\n",
    "charenc"
   ]
  },
  {
   "cell_type": "markdown",
   "id": "8617c60e-964c-4298-96c4-56b993224783",
   "metadata": {},
   "source": [
    "#Casos de Dengue"
   ]
  },
  {
   "cell_type": "code",
   "execution_count": null,
   "id": "4d9758d0-cf85-4832-9821-fedc8f371540",
   "metadata": {},
   "outputs": [],
   "source": [
    "cv_data = pd.read_csv( r'../../_data/data_dengue_peru.csv', encoding = charenc)\n",
    "cv_data.head()"
   ]
  },
  {
   "cell_type": "code",
   "execution_count": null,
   "id": "81b765a1-7e3f-4200-89c6-ebb3c3fe07e5",
   "metadata": {},
   "outputs": [],
   "source": [
    "# Limpiar los valores eliminando los separadores de miles\n",
    "cv_data['Casos'] = cv_data['Casos'].astype(str).str.replace(',', '', regex=False)\n",
    "\n",
    "# Convertir la columna a valores numéricos, manteniendo NA\n",
    "cv_data['Casos'] = pd.to_numeric(cv_data['Casos'], errors='coerce')"
   ]
  },
  {
   "cell_type": "code",
   "execution_count": null,
   "id": "8648654c-f025-4e55-8fb5-87114024b2f3",
   "metadata": {},
   "outputs": [],
   "source": [
    "# cv_data['Casos'].isna().sum()"
   ]
  },
  {
   "cell_type": "code",
   "execution_count": null,
   "id": "b6b20cbd-355c-425a-8c0d-7fe550c12cb8",
   "metadata": {},
   "outputs": [],
   "source": [
    "# cv_data['Ubigeo'].dtype"
   ]
  },
  {
   "cell_type": "code",
   "execution_count": null,
   "id": "15570786-ef41-425c-8fda-14072c546182",
   "metadata": {},
   "outputs": [],
   "source": [
    "# Función para convertir a str y agregar un 0 si la longitud es 5\n",
    "def format_ubigeo(ubigeo):\n",
    "    if pd.isna(ubigeo):\n",
    "        return ubigeo  # Mantener NaN como está\n",
    "    ubigeo_str = str(ubigeo)\n",
    "    if len(ubigeo_str) == 5:\n",
    "        return '0' + ubigeo_str\n",
    "    return ubigeo_str\n",
    "\n",
    "# Aplicar la función a la columna 'Ubigeo'\n",
    "cv_data['Ubigeo'] = cv_data['Ubigeo'].apply(format_ubigeo)\n",
    "\n",
    "cv_data['ubigeo_dep'] = cv_data['Ubigeo'].str[:2]\n",
    "cv_data['ubigeo_prov'] = cv_data['Ubigeo'].str[:4]\n",
    "\n",
    "cv_data = cv_data.rename({'Ubigeo':'ubigeo'}, axis =1 )\n",
    "cv_data #así queda el df de casos de dengue"
   ]
  },
  {
   "cell_type": "markdown",
   "id": "a0b567a2-0ee1-4f68-a5b7-4df899073b3c",
   "metadata": {},
   "source": [
    "Shapefile"
   ]
  },
  {
   "cell_type": "code",
   "execution_count": null,
   "id": "7365a679-3465-48ce-9c9c-8d6554f49e53",
   "metadata": {},
   "outputs": [],
   "source": []
  }
 ],
 "metadata": {
  "kernelspec": {
   "display_name": "Python 3 (ipykernel)",
   "language": "python",
   "name": "python3"
  },
  "language_info": {
   "codemirror_mode": {
    "name": "ipython",
    "version": 3
   },
   "file_extension": ".py",
   "mimetype": "text/x-python",
   "name": "python",
   "nbconvert_exporter": "python",
   "pygments_lexer": "ipython3",
   "version": "3.12.4"
  }
 },
 "nbformat": 4,
 "nbformat_minor": 5
}
