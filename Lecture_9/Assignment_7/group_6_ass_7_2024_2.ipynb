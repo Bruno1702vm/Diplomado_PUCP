{
 "cells": [
  {
   "cell_type": "markdown",
   "id": "d71e5344-0f93-460f-8099-78aa55d1bdc1",
   "metadata": {},
   "source": [
    "# Group 6\n",
    "- GIL GUZMAN, ALEXSANDER GERARDO\n",
    "- SALMÓN SALAZAR, GISELLA VELDA\n",
    "- CIRIACO RUIZ, MAYTE JULIA\n",
    "- ARAUCO ALIAGA, ROXANA PATRICIA\n",
    "- VILLACORTA BARRERA, ANDRES ALEXANDER"
   ]
  },
  {
   "cell_type": "code",
   "execution_count": 1,
   "id": "29afd9d2-6dac-471c-b838-c525e35390da",
   "metadata": {},
   "outputs": [],
   "source": [
    "# We import the necessary libraries\n",
    "import numpy as np\n",
    "import pandas as pd\n",
    "import geopandas as gpd\n",
    "import matplotlib.pyplot as plt"
   ]
  },
  {
   "cell_type": "markdown",
   "id": "d49be105-c5dd-4d37-bbb1-1b6cade5ae5d",
   "metadata": {},
   "source": [
    "1. Import the data located at this link. It has information on people infected with dengue at the district level for 2015 to 2021.ters."
   ]
  },
  {
   "cell_type": "code",
   "execution_count": null,
   "id": "23a649c0-bd68-40c3-9087-cb12416baa16",
   "metadata": {},
   "outputs": [],
   "source": [
    "# We import the database\n",
    "# We modified the format of the 'Ubigeo' and 'Casos' columns \n",
    "#to avoid loss of information\n",
    "\n",
    "df = pd.read_csv('../../_data/data_dengue_peru.csv', \n",
    "                 dtype={'Ubigeo': 'str'}, \n",
    "                 converters={'Casos': lambda x: float(x.replace(',', '')) if x != '' else np.nan})\n",
    "\n",
    "df"
   ]
  },
  {
   "cell_type": "markdown",
   "id": "84166926-600b-49d2-b75f-1e046d543769",
   "metadata": {},
   "source": [
    "2. Generate ubigeo for Departments and Provinces taking the first two and four numbers. Hint: Use this code."
   ]
  },
  {
   "cell_type": "code",
   "execution_count": null,
   "id": "6ea48ed4-118a-4ba1-86ac-98492afd87dc",
   "metadata": {},
   "outputs": [],
   "source": [
    "# We generate the requested columns\n",
    "\n",
    "df['Departamento_Ubigeo'] = df['Ubigeo'].str[:2]\n",
    "df['Provincia_Ubigeo'] = df['Ubigeo'].str[:4]\n",
    "df"
   ]
  },
  {
   "cell_type": "markdown",
   "id": "fe60f5e4-ad8a-41f7-871d-b4a05618e2fa",
   "metadata": {},
   "source": [
    "3. Use geopandas to plot the number of cases in 2021 by the district using a continuous legend. Do not forget to indicate the color of NA values. Use this shapefile."
   ]
  },
  {
   "cell_type": "code",
   "execution_count": null,
   "id": "44df3e1a-722e-4d56-a26d-917ee9b983ce",
   "metadata": {},
   "outputs": [],
   "source": [
    " # Filter the data for 2021\n",
    "df_2021 = df[df['Año'] == 2021]\n",
    "\n",
    "\n",
    "# Aggregate the number of cases by district (Ubigeo)\n",
    "cases_by_district = df_2021.groupby('Ubigeo')['Casos'].sum().reset_index()\n",
    "\n",
    "\n",
    "# Load the shapefile for Peruvian districts\n",
    "# Make sure this file contains the geometry for each district\n",
    "districts_gdf = gpd.read_file('../../_data/LIMITE_DISTRITAL_2020_INEI/INEI_LIMITE_DISTRITAL.shp')\n",
    "\n",
    "\n",
    "# Merge your cases data with the districts geodataframe using the Ubigeo column\n",
    "merged_gdf = districts_gdf.merge(cases_by_district, left_on='CODIGO', right_on='Ubigeo', how='left')\n",
    "\n",
    "\n",
    "# Set up the plot\n",
    "fig, ax = plt.subplots(1, 1, figsize=(10, 10))\n",
    "\n",
    "\n",
    "# Plot the map, specifying a color for NaN values\n",
    "merged_gdf.plot(column='Casos', cmap='OrRd', legend=True,\n",
    "               missing_kwds={\"color\": \"lightgrey\", \"label\": \"No data\"},\n",
    "               ax=ax)\n",
    "\n",
    "\n",
    "# Add a title and adjust the legend\n",
    "ax.set_title('Number of Dengue Cases by District in 2021', fontsize=15)\n",
    "ax.set_axis_off()  # Turn off the axis\n",
    "\n",
    "\n",
    "plt.show()"
   ]
  },
  {
   "cell_type": "markdown",
   "id": "2e68f1c7-f929-4206-8ef5-5845893c897e",
   "metadata": {},
   "source": [
    "4. Use geopandas to plot the number of cases in 2021 by the province using a continuous legend. Do not forget to indicate the color of NA values. Use this shapefile. For this task, you will have to aggregate shapefiles at the province level."
   ]
  },
  {
   "cell_type": "code",
   "execution_count": null,
   "id": "2e009285",
   "metadata": {},
   "outputs": [],
   "source": [
    "# Aggregate the number of cases by province\n",
    "cases_by_province = df_2021.groupby('Provincia_Ubigeo')['Casos'].sum().reset_index()\n",
    "\n",
    "# Aggregate the shapefile data to the province level using the 'Provincia_Ubigeo' column\n",
    "# We'll use the dissolve method to aggregate geometries based on province code (Ubigeo)\n",
    "provinces_gdf = districts_gdf.dissolve(by='IDPROV')\n",
    "\n",
    "# Merge the aggregated cases data with the provinces geodataframe\n",
    "merged_gdf = provinces_gdf.merge(cases_by_province, left_on='IDPROV', right_on='Provincia_Ubigeo', how='left')\n",
    "\n",
    "# Set up the plot\n",
    "fig, ax = plt.subplots(1, 1, figsize=(10, 10))\n",
    "\n",
    "# Plot the map with a continuous color scale for the number of cases\n",
    "merged_gdf.plot(column='Casos', cmap='OrRd', legend=True, \n",
    "                missing_kwds={\"color\": \"lightgrey\", \"label\": \"No data\"},\n",
    "                ax=ax)\n",
    "\n",
    "# Add a title and adjust the legend\n",
    "ax.set_title('Number of Dengue Cases by Province in 2021', fontsize=15)\n",
    "ax.set_axis_off()  # Turn off the axis\n",
    "\n",
    "plt.show()"
   ]
  },
  {
   "cell_type": "markdown",
   "id": "f051c86b-38ca-4947-85dc-9a70f17c9b2b",
   "metadata": {},
   "source": [
    "5. Use geopandas to plot the number of cases by the department for all the years using subplots. Every subplot for each year. Do not forget to indicate the color of NA values. Use this shapefile. For this task, you will have to aggregate shapefiles at the department level."
   ]
  },
  {
   "cell_type": "code",
   "execution_count": null,
   "id": "55a86205-de53-4cd3-ab62-97073320bc17",
   "metadata": {},
   "outputs": [],
   "source": [
    "# Aggregate the shapefile data to the department level\n",
    "departments_gdf = districts_gdf.dissolve(by='CCDD')\n",
    "\n",
    "# Set up a list of years\n",
    "years = sorted(df['Año'].unique())\n",
    "\n",
    "# Set up the subplots for each year\n",
    "fig, axes = plt.subplots(nrows=len(years), figsize=(10, 5 * len(years)))\n",
    "\n",
    "# Ensure axes is iterable, even for a single subplot\n",
    "if len(years) == 1:\n",
    "    axes = [axes]\n",
    "\n",
    "# Iterate over the years and create a plot for each year\n",
    "for i, year in enumerate(years):\n",
    "    # Filter the data for the specific year\n",
    "    df_year = df[df['Año'] == year]\n",
    "\n",
    "    # Aggregate the number of cases by department for the year\n",
    "    cases_by_department = df_year.groupby('Departamento_Ubigeo')['Casos'].sum().reset_index()\n",
    "\n",
    "    # Merge the aggregated cases data with the department shapefile\n",
    "    merged_gdf = departments_gdf.merge(cases_by_department, left_on='CCDD', right_on='Departamento_Ubigeo', how='left')\n",
    "\n",
    "    # Plot the map for the specific year\n",
    "    merged_gdf.plot(column='Casos', cmap='OrRd', legend=True,\n",
    "                    missing_kwds={\"color\": \"lightgrey\", \"label\": \"No data\"},\n",
    "                    ax=axes[i])\n",
    "\n",
    "    # Set title for each subplot\n",
    "    axes[i].set_title(f'Number of Dengue Cases by Department in {year}', fontsize=15)\n",
    "    axes[i].set_axis_off()  # Turn off the axis\n",
    "\n",
    "# Adjust the layout\n",
    "plt.tight_layout()\n",
    "\n",
    "# Show the plot\n",
    "plt.show()"
   ]
  },
  {
   "cell_type": "markdown",
   "id": "e85f0c1b-a8df-48b3-b5eb-177a44314539",
   "metadata": {},
   "source": [
    "6. Use geopandas to plot the number of cases by the department for all 2021 quarters using subplots. Every subplot for each quarter. Use a categorical legend with 5 bins. Do not forget to indicate the color of NA values. Use this shapefile. For this task, you will have to aggregate shapefiles at the department level. Hint: Use Semana variable to group by quarters."
   ]
  }
 ],
 "metadata": {
  "kernelspec": {
   "display_name": "Python 3 (ipykernel)",
   "language": "python",
   "name": "python3"
  },
  "language_info": {
   "codemirror_mode": {
    "name": "ipython",
    "version": 3
   },
   "file_extension": ".py",
   "mimetype": "text/x-python",
   "name": "python",
   "nbconvert_exporter": "python",
   "pygments_lexer": "ipython3",
   "version": "3.12.4"
  }
 },
 "nbformat": 4,
 "nbformat_minor": 5
}
