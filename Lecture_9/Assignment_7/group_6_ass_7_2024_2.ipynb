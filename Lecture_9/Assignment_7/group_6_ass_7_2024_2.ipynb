{
 "cells": [
  {
   "cell_type": "markdown",
   "id": "d71e5344-0f93-460f-8099-78aa55d1bdc1",
   "metadata": {},
   "source": [
    "# Group 6\n",
    "- GIL GUZMAN, ALEXSANDER GERARDO\n",
    "- SALMÓN SALAZAR, GISELLA VELDA\n",
    "- CIRIACO RUIZ, MAYTE JULIA\n",
    "- ARAUCO ALIAGA, ROXANA PATRICIA\n",
    "- VILLACORTA BARRERA, ANDRES ALEXANDER"
   ]
  },
  {
   "cell_type": "markdown",
   "id": "d49be105-c5dd-4d37-bbb1-1b6cade5ae5d",
   "metadata": {},
   "source": [
    "1. Import the data located at this link. It has information on people infected with dengue at the district level for 2015 to 2021.ters."
   ]
  },
  {
   "cell_type": "markdown",
   "id": "84166926-600b-49d2-b75f-1e046d543769",
   "metadata": {},
   "source": [
    "2. Generate ubigeo for Departments and Provinces taking the first two and four numbers. Hint: Use this code."
   ]
  },
  {
   "cell_type": "markdown",
   "id": "fe60f5e4-ad8a-41f7-871d-b4a05618e2fa",
   "metadata": {},
   "source": [
    "3. Use geopandas to plot the number of cases in 2021 by the district using a continuous legend. Do not forget to indicate the color of NA values. Use this shapefile."
   ]
  },
  {
   "cell_type": "markdown",
   "id": "2e68f1c7-f929-4206-8ef5-5845893c897e",
   "metadata": {},
   "source": [
    "4. Use geopandas to plot the number of cases in 2021 by the province using a continuous legend. Do not forget to indicate the color of NA values. Use this shapefile. For this task, you will have to aggregate shapefiles at the province level."
   ]
  },
  {
   "cell_type": "markdown",
   "id": "f051c86b-38ca-4947-85dc-9a70f17c9b2b",
   "metadata": {},
   "source": [
    "5. Use geopandas to plot the number of cases by the department for all the years using subplots. Every subplot for each year. Do not forget to indicate the color of NA values. Use this shapefile. For this task, you will have to aggregate shapefiles at the department level."
   ]
  },
  {
   "cell_type": "markdown",
   "id": "e85f0c1b-a8df-48b3-b5eb-177a44314539",
   "metadata": {},
   "source": [
    "6. Use geopandas to plot the number of cases by the department for all 2021 quarters using subplots. Every subplot for each quarter. Use a categorical legend with 5 bins. Do not forget to indicate the color of NA values. Use this shapefile. For this task, you will have to aggregate shapefiles at the department level. Hint: Use Semana variable to group by quarters."
   ]
  }
 ],
 "metadata": {
  "kernelspec": {
   "display_name": "Python 3 (ipykernel)",
   "language": "python",
   "name": "python3"
  },
  "language_info": {
   "codemirror_mode": {
    "name": "ipython",
    "version": 3
   },
   "file_extension": ".py",
   "mimetype": "text/x-python",
   "name": "python",
   "nbconvert_exporter": "python",
   "pygments_lexer": "ipython3",
   "version": "3.12.4"
  }
 },
 "nbformat": 4,
 "nbformat_minor": 5
}
